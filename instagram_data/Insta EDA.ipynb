{
 "cells": [
  {
   "cell_type": "code",
   "execution_count": 1,
   "id": "3b1d596d",
   "metadata": {},
   "outputs": [],
   "source": [
    "import pandas as pd\n",
    "import numpy as np\n",
    "import matplotlib.pyplot as plt\n",
    "import re"
   ]
  },
  {
   "cell_type": "code",
   "execution_count": 2,
   "id": "b80c2bcf",
   "metadata": {},
   "outputs": [
    {
     "data": {
      "text/html": [
       "<div>\n",
       "<style scoped>\n",
       "    .dataframe tbody tr th:only-of-type {\n",
       "        vertical-align: middle;\n",
       "    }\n",
       "\n",
       "    .dataframe tbody tr th {\n",
       "        vertical-align: top;\n",
       "    }\n",
       "\n",
       "    .dataframe thead th {\n",
       "        text-align: right;\n",
       "    }\n",
       "</style>\n",
       "<table border=\"1\" class=\"dataframe\">\n",
       "  <thead>\n",
       "    <tr style=\"text-align: right;\">\n",
       "      <th></th>\n",
       "      <th>Caption</th>\n",
       "      <th>Instagram</th>\n",
       "      <th>YouTube</th>\n",
       "      <th>Twitter</th>\n",
       "    </tr>\n",
       "  </thead>\n",
       "  <tbody>\n",
       "    <tr>\n",
       "      <th>0</th>\n",
       "      <td>bye</td>\n",
       "      <td>1</td>\n",
       "      <td>0</td>\n",
       "      <td>0</td>\n",
       "    </tr>\n",
       "    <tr>\n",
       "      <th>1</th>\n",
       "      <td>Ok, a few more... sorry I just had so much fun...</td>\n",
       "      <td>1</td>\n",
       "      <td>0</td>\n",
       "      <td>0</td>\n",
       "    </tr>\n",
       "    <tr>\n",
       "      <th>2</th>\n",
       "      <td>This was one of my favorite shoots I've ever d...</td>\n",
       "      <td>1</td>\n",
       "      <td>0</td>\n",
       "      <td>0</td>\n",
       "    </tr>\n",
       "    <tr>\n",
       "      <th>3</th>\n",
       "      <td>Wrapped round my finger like a ring</td>\n",
       "      <td>1</td>\n",
       "      <td>0</td>\n",
       "      <td>0</td>\n",
       "    </tr>\n",
       "    <tr>\n",
       "      <th>4</th>\n",
       "      <td>Yesterday was so much fun!! has been such a hu...</td>\n",
       "      <td>1</td>\n",
       "      <td>0</td>\n",
       "      <td>0</td>\n",
       "    </tr>\n",
       "  </tbody>\n",
       "</table>\n",
       "</div>"
      ],
      "text/plain": [
       "                                             Caption  Instagram  YouTube  \\\n",
       "0                                               bye           1        0   \n",
       "1  Ok, a few more... sorry I just had so much fun...          1        0   \n",
       "2  This was one of my favorite shoots I've ever d...          1        0   \n",
       "3               Wrapped round my finger like a ring           1        0   \n",
       "4  Yesterday was so much fun!! has been such a hu...          1        0   \n",
       "\n",
       "   Twitter  \n",
       "0        0  \n",
       "1        0  \n",
       "2        0  \n",
       "3        0  \n",
       "4        0  "
      ]
     },
     "execution_count": 2,
     "metadata": {},
     "output_type": "execute_result"
    }
   ],
   "source": [
    "#Read in data\n",
    "df = pd.read_csv(\"insta_clean.csv\")\n",
    "df.head(5)"
   ]
  },
  {
   "cell_type": "code",
   "execution_count": 3,
   "id": "361d6982",
   "metadata": {},
   "outputs": [],
   "source": [
    "# Some extra cleaning. Replacing html ampersand codes.\n",
    "from w3lib.html import replace_entities\n",
    "df[\"Caption\"] = df[\"Caption\"].astype(str)\n",
    "df[\"Caption\"] = df[\"Caption\"].apply(replace_entities)"
   ]
  },
  {
   "cell_type": "markdown",
   "id": "99283f76",
   "metadata": {},
   "source": [
    "# Positive/Negative Word Counts\n",
    "Positive and negative word lists pulled from https://ptrckprry.com/course/ssd/data/positive-words.txt\n",
    "and https://ptrckprry.com/course/ssd/data/negative-words.txt\n",
    "respectively.\n",
    "\n",
    "First we read in the word lists and set up functions that will count their occurences."
   ]
  },
  {
   "cell_type": "code",
   "execution_count": 4,
   "id": "7283b7dd",
   "metadata": {},
   "outputs": [],
   "source": [
    "with open(\"wordLists/positive_words.txt\",'r') as file:\n",
    "    positive_words = file.read().splitlines()\n",
    "\n",
    "with open(\"wordLists/negative_words.txt\",'r') as file:\n",
    "    negative_words = file.read().splitlines()"
   ]
  },
  {
   "cell_type": "code",
   "execution_count": 5,
   "id": "35209d9d",
   "metadata": {},
   "outputs": [
    {
     "name": "stdout",
     "output_type": "stream",
     "text": [
      "2006\n",
      "4783\n"
     ]
    }
   ],
   "source": [
    "print(len(positive_words))\n",
    "print(len(negative_words))"
   ]
  },
  {
   "cell_type": "code",
   "execution_count": 6,
   "id": "6c6a5750",
   "metadata": {},
   "outputs": [],
   "source": [
    "#Functions that count the occurences of positive/negative words in a text string\n",
    "def count_positive(text):\n",
    "    counter = 0\n",
    "    for word in positive_words:\n",
    "        counter += text.lower().split().count(word)\n",
    "    return counter\n",
    "def count_negative(text):\n",
    "    counter = 0\n",
    "    for word in negative_words:\n",
    "        counter += text.lower().split().count(word)\n",
    "    return counter"
   ]
  },
  {
   "cell_type": "markdown",
   "id": "b57ebe78",
   "metadata": {},
   "source": [
    "We create the new features (this takes a minute to run)"
   ]
  },
  {
   "cell_type": "code",
   "execution_count": 7,
   "id": "7105f725",
   "metadata": {},
   "outputs": [],
   "source": [
    "df[\"positive_words\"] = df[\"Caption\"].apply(count_positive)"
   ]
  },
  {
   "cell_type": "code",
   "execution_count": 8,
   "id": "e62fe9ba",
   "metadata": {},
   "outputs": [],
   "source": [
    "df[\"negative_words\"] = df[\"Caption\"].apply(count_negative)"
   ]
  },
  {
   "cell_type": "markdown",
   "id": "432816f4",
   "metadata": {},
   "source": [
    "Look at some stats"
   ]
  },
  {
   "cell_type": "code",
   "execution_count": 9,
   "id": "2a9b7667",
   "metadata": {},
   "outputs": [
    {
     "data": {
      "text/plain": [
       "count    15652.000000\n",
       "mean         0.558587\n",
       "std          1.182186\n",
       "min          0.000000\n",
       "25%          0.000000\n",
       "50%          0.000000\n",
       "75%          1.000000\n",
       "max         21.000000\n",
       "Name: positive_words, dtype: float64"
      ]
     },
     "execution_count": 9,
     "metadata": {},
     "output_type": "execute_result"
    }
   ],
   "source": [
    "df.positive_words.describe()"
   ]
  },
  {
   "cell_type": "code",
   "execution_count": 10,
   "id": "f964bbc2",
   "metadata": {
    "scrolled": true
   },
   "outputs": [
    {
     "data": {
      "text/plain": [
       "count    15652.000000\n",
       "mean         0.155380\n",
       "std          0.598281\n",
       "min          0.000000\n",
       "25%          0.000000\n",
       "50%          0.000000\n",
       "75%          0.000000\n",
       "max         15.000000\n",
       "Name: negative_words, dtype: float64"
      ]
     },
     "execution_count": 10,
     "metadata": {},
     "output_type": "execute_result"
    }
   ],
   "source": [
    "df.negative_words.describe()"
   ]
  },
  {
   "cell_type": "markdown",
   "id": "2ca13fae",
   "metadata": {},
   "source": [
    "What are the most positive and negative tweets?"
   ]
  },
  {
   "cell_type": "code",
   "execution_count": 11,
   "id": "7f5768d3",
   "metadata": {},
   "outputs": [],
   "source": [
    "most_positive = df[\"positive_words\"].argmax()"
   ]
  },
  {
   "cell_type": "code",
   "execution_count": 12,
   "id": "9d10018b",
   "metadata": {},
   "outputs": [
    {
     "name": "stdout",
     "output_type": "stream",
     "text": [
      "I don't know about these award shows.. No disrespect to anybody at any of the shows or the people running it. Nothing but love for you guys and your support. But I don't feel good when I'm there nor after. I try to think of it as a celebration but can't help feeling like people are rating and grading my performance. A lot of people in the audience there to be seem worried about how much camera time they will get or who they can network with. When I'm doing a regular show I feel they are there for the right reasons and to strictly have a good time! But these award shows seem so hollow. I get the premise is to award people for their accomplishments, but is it really? Because when I look in the audience I see a bunch of fake smiles so that when the camera hits them they look happy. Sure there are people truly proud of others so I don't want to knock them I'm just looking at the vast majority. I just think to myself if I'm living my purpose I want the reward to be fulfillment. I'm getting awarded for the things that I'm doing and not for who I am which is understandable I know it would probably be hard to calculate and award someone's spirit lol. But When I do get these awards the temptation of putting my worth in what I do is so hard to fight!!!I am privileged and honored to be recognized by my peers in but in these settings I can't feel the recognition. There's an authenticity missing that I crave! And I wonder does anybody else.. Sorry not sorry about grammar it's not my strong point \n",
      "21\n"
     ]
    }
   ],
   "source": [
    "print(df.iloc[most_positive].Caption)\n",
    "print(df.iloc[most_positive].positive_words)"
   ]
  },
  {
   "cell_type": "code",
   "execution_count": 13,
   "id": "a2a0f46d",
   "metadata": {},
   "outputs": [],
   "source": [
    "most_negative = df[\"negative_words\"].argmax()"
   ]
  },
  {
   "cell_type": "code",
   "execution_count": 14,
   "id": "a36731df",
   "metadata": {},
   "outputs": [
    {
     "name": "stdout",
     "output_type": "stream",
     "text": [
      "Wow this story! Thank you \"The first photo was taken when I was at my lowest weight, 69lbs. The photo next to it is one of my recent photo shoots. I'm Christina. I've been blessed with incredibly supportive friends and family. Lately, things have been amazing. But there's been multiple times where things haven't been. I was born with congenial pulmonary lymph angestia; a rare lung condition that at the time of my diagnosis, there were 20 people in my state that had ever had it. At the time of my diagnosis, the disease had a 97% morality rate in infants. I weighed 3 pounds and 6 ounces. My lungs weren't fully developed and they were filled with mucus. I was in the ICU for about six months before I was able to go home. At home, I had a heart monitor for my younger years, as well as frequent hospital trips caused by extreme difficulty breathing and physical developmental issues. When I was 16 until I was 19, I had to drop out of high school and become homeschooled because I got so sick. I couldn't keep food down (the mucus in my stomach was affected as well, which we didn't know about.), I couldn't breathe, and I was 69lbs. I was so depressed and suicidal because I felt so terrible constantly. Waking up was hell. I was on about eight medications and eventually had toxic shock from all the medicine. Eventually, they found out that digestive enzymes helped and a treatment that finally started working for me. At my lowest points, I was heavily involved in self harm. I have post traumatic stress disorder from my time in and out of the hospital. I have nightmares about being in there. I lost a lot of my friends and my self confidence plummeted. I couldn't look in the mirror without crying, and truly thought that I would be better off dead and that people would be happier without such a lieability. The depression and anxiety still fights me. I'm not always put together. And my disease flares up, a lot, usually at inconvient times. But my illness and my past. We are all more than what we seem. Everyone has their struggles, so be mindful and be kind\" \n",
      "15\n"
     ]
    }
   ],
   "source": [
    "print(df.iloc[most_negative].Caption)\n",
    "print(df.iloc[most_negative].negative_words)"
   ]
  },
  {
   "cell_type": "code",
   "execution_count": 15,
   "id": "48630ef4",
   "metadata": {},
   "outputs": [
    {
     "data": {
      "image/png": "[encoded data removed]",
      "text/plain": [
       "<Figure size 640x480 with 1 Axes>"
      ]
     },
     "metadata": {},
     "output_type": "display_data"
    },
    {
     "data": {
      "image/png": "[encoded data removed]",
      "text/plain": [
       "<Figure size 640x480 with 1 Axes>"
      ]
     },
     "metadata": {},
     "output_type": "display_data"
    }
   ],
   "source": [
    "plt.hist(df.positive_words, bins = df.positive_words.max())\n",
    "plt.show()\n",
    "plt.hist(df.negative_words, bins = df.negative_words.max())\n",
    "plt.show()"
   ]
  },
  {
   "cell_type": "markdown",
   "id": "11e3a441",
   "metadata": {},
   "source": [
    "# Text Length"
   ]
  },
  {
   "cell_type": "code",
   "execution_count": 16,
   "id": "c06ada29",
   "metadata": {},
   "outputs": [],
   "source": [
    "df[\"length\"] = df[\"Caption\"].apply(len)\n",
    "df[\"word_count\"] = df[\"Caption\"].apply((lambda s:len(s.split())))"
   ]
  },
  {
   "cell_type": "code",
   "execution_count": 17,
   "id": "fd07472d",
   "metadata": {},
   "outputs": [
    {
     "data": {
      "image/png": "[encoded data removed]",
      "text/plain": [
       "<Figure size 640x480 with 1 Axes>"
      ]
     },
     "metadata": {},
     "output_type": "display_data"
    },
    {
     "data": {
      "image/png": "[encoded data removed]",
      "text/plain": [
       "<Figure size 640x480 with 1 Axes>"
      ]
     },
     "metadata": {},
     "output_type": "display_data"
    }
   ],
   "source": [
    "plt.hist(df[\"length\"])\n",
    "plt.show()\n",
    "plt.hist(df[\"word_count\"])\n",
    "plt.show()"
   ]
  },
  {
   "cell_type": "markdown",
   "id": "8c59f825",
   "metadata": {},
   "source": [
    "# Male and Female words\n",
    "Word lists adapted from https://github.com/DanielleSucher/Jailbreak-the-Patriarchy/blob/master/myscript.js"
   ]
  },
  {
   "cell_type": "code",
   "execution_count": 18,
   "id": "b4c5a158",
   "metadata": {},
   "outputs": [],
   "source": [
    "with open(\"wordLists/male_words\", 'r') as file:\n",
    "    male_words = file.read().splitlines()"
   ]
  },
  {
   "cell_type": "code",
   "execution_count": 19,
   "id": "7dce7877",
   "metadata": {},
   "outputs": [],
   "source": [
    "with open(\"wordLists/female_words\", 'r') as file:\n",
    "    female_words = file.read().splitlines()"
   ]
  },
  {
   "cell_type": "code",
   "execution_count": 20,
   "id": "12c14826",
   "metadata": {},
   "outputs": [],
   "source": [
    "def count_male(text):\n",
    "    counter = 0\n",
    "    for word in male_words:\n",
    "        counter += text.lower().split().count(word)\n",
    "    return counter\n",
    "def count_female(text):\n",
    "    counter = 0\n",
    "    for word in female_words:\n",
    "        counter += text.lower().split().count(word)\n",
    "    return counter"
   ]
  },
  {
   "cell_type": "code",
   "execution_count": 21,
   "id": "a4cf5bca",
   "metadata": {},
   "outputs": [],
   "source": [
    "df[\"male_words\"] = df[\"Caption\"].apply(count_male)"
   ]
  },
  {
   "cell_type": "code",
   "execution_count": 22,
   "id": "f19d541a",
   "metadata": {},
   "outputs": [],
   "source": [
    "df[\"female_words\"] = df[\"Caption\"].apply(count_female)"
   ]
  },
  {
   "cell_type": "code",
   "execution_count": 23,
   "id": "9675b794",
   "metadata": {},
   "outputs": [
    {
     "data": {
      "text/plain": [
       "count    15652.000000\n",
       "mean         0.102287\n",
       "std          0.532578\n",
       "min          0.000000\n",
       "25%          0.000000\n",
       "50%          0.000000\n",
       "75%          0.000000\n",
       "max         23.000000\n",
       "Name: male_words, dtype: float64"
      ]
     },
     "execution_count": 23,
     "metadata": {},
     "output_type": "execute_result"
    }
   ],
   "source": [
    "df[\"male_words\"].describe()"
   ]
  },
  {
   "cell_type": "code",
   "execution_count": 24,
   "id": "d8bf9b69",
   "metadata": {
    "scrolled": true
   },
   "outputs": [
    {
     "data": {
      "text/plain": [
       "count    15652.000000\n",
       "mean         0.126118\n",
       "std          0.673771\n",
       "min          0.000000\n",
       "25%          0.000000\n",
       "50%          0.000000\n",
       "75%          0.000000\n",
       "max         22.000000\n",
       "Name: female_words, dtype: float64"
      ]
     },
     "execution_count": 24,
     "metadata": {},
     "output_type": "execute_result"
    }
   ],
   "source": [
    "df[\"female_words\"].describe()"
   ]
  },
  {
   "cell_type": "markdown",
   "id": "d682b828",
   "metadata": {},
   "source": [
    "What are the most male and female tweets in the dataset?"
   ]
  },
  {
   "cell_type": "code",
   "execution_count": 25,
   "id": "a2d6fb8c",
   "metadata": {},
   "outputs": [
    {
     "data": {
      "text/plain": [
       "'Beautiful Johnny \"So I\\'m gonna share my burn story :D so the reason I look like this, is a pretty long story, hopefully Instagram will give me enough room to type it xD okay well here. November 20th 2003 I was playing in the backyard with my sister Joanna. We had this hay loft fort we made in the shed. And we had no flash lights, so we got a candle & match, brought it into the shed so we could have some light. So my sister leaves to use the bathroom or whatever, and I climb to the top of the fort. I call Max our dog, and he comes running in the shed, jumps on the loft the candle was on. And it falls over. By the time Max got to my lap, I was already surrounded by fire. My sister comes out and screams at me to jump. But I\\'m too scared because it\\'s too high, and there was fire below me. So Joanna (age 7) comes running to get our older sister Leah in the house, who was baby sitting us, but was doing homework with my brother Luke at the time. So Joanna screams at Leah (older sister) JOHNS TRAPPED IN THE FIREY SHED AND CANT GET OUT! So Leah runs outside. She was holding her baby, so she put her baby on the ground and asks Joanna where I am. So Leah holds her breath and shuts her eyes, and runs in the fire, she can\\'t find me so she runs back out. Takes another\\'s deep breath etc, she finds me, but she doesn\\'t know why I\\'m so heavy. It\\'s because max was on me. So she pulled me off the fort outside. I\\'m not breathing, and Leah screams please God let him breathe! I gasp for breath, I\\'m brought to le bonhuar (sorry can\\'t spell that hospital xD) they say I only have 8 hours to live. But then Shriners hospital came, took me in a helicopter to Galveston TX.then put me in a coma for 6 months or something like that lol okay well my past, I look at this accident as blessing, because if it never happened, I wouldn\\'t be the strong confidant person I am today. Oh yeah there was way more emotional healing than physical. But I pulled through :D ^^ so ya burnsurvivor awareness must be spread :3 '"
      ]
     },
     "execution_count": 25,
     "metadata": {},
     "output_type": "execute_result"
    }
   ],
   "source": [
    "df.iloc[df[\"female_words\"].argmax()].Caption"
   ]
  },
  {
   "cell_type": "code",
   "execution_count": 26,
   "id": "07fee301",
   "metadata": {},
   "outputs": [
    {
     "data": {
      "text/plain": [
       "\"a victim of rape. I'm a survivor. This is my story. With domestic violence being such a big issue in Australia at the moment. I thought I would share my story in hope that it will inspire at least one person to get help. I was with my ex partner for just over a year, things were great..at the start. Until he got addicted and started to rely heavily on the drug crystal meth. That's when things started to get abusive and extremely violent and I started to lie to my friends that I wasn't seeing him, because they knew how abusive he was. I had to cover marks and bruises with make up. I refused to believe that he was an unstable person, and believed that I could change him, but I couldn't. One day we went out to a club and he drugged me, I woke up tied to a bed and was gang raped by him and 7 other people. He made me believe that I deserved the abuse and I would take it. Towards the end of the relationship he called me telling me to go to his house because there was some type of emergency. I went and found him having sexual intercourse with another male. That should have been the end of it right? Though a couple weeks later he texted me saying to meet me at his house because he wanted to apologise for everything that he did..stupidly I went, as soon as I arrived he grabbed the back of my head and smashed it into a brick wall, whilst choking me he forced himself on me. I didn't tell my parents about the abuse until about a year later, and told my friends that I managed to get him off me because that's what I wanted to believe. Though no one should be ashamed of domestic violence and rape. It's never your fault and you should always speak up and help is out there. If you have experienced and are going through something similar, please don't hesitate to seek help. If you would like support and someone to talk to don't hesitate to call BeyondBlue support service on 1300 22 46 36. If you are in an emergency call 000 straight away and ask for police. Never think your alone and help isn't available. Your not a victim your a survivor. depression, anxiety, PTSD. \""
      ]
     },
     "execution_count": 26,
     "metadata": {},
     "output_type": "execute_result"
    }
   ],
   "source": [
    "df.iloc[df[\"male_words\"].argmax()].Caption"
   ]
  },
  {
   "cell_type": "markdown",
   "id": "318d0c13",
   "metadata": {},
   "source": [
    "# Sentiment analysis scores from Afinn"
   ]
  },
  {
   "cell_type": "code",
   "execution_count": 28,
   "id": "833352f7",
   "metadata": {},
   "outputs": [],
   "source": [
    "from afinn import Afinn\n",
    "afinn = Afinn(language='en')\n",
    "df[\"afinn\"] = df[\"Caption\"].apply(afinn.score)"
   ]
  },
  {
   "cell_type": "code",
   "execution_count": 29,
   "id": "68342483",
   "metadata": {},
   "outputs": [
    {
     "data": {
      "text/html": [
       "<div>\n",
       "<style scoped>\n",
       "    .dataframe tbody tr th:only-of-type {\n",
       "        vertical-align: middle;\n",
       "    }\n",
       "\n",
       "    .dataframe tbody tr th {\n",
       "        vertical-align: top;\n",
       "    }\n",
       "\n",
       "    .dataframe thead th {\n",
       "        text-align: right;\n",
       "    }\n",
       "</style>\n",
       "<table border=\"1\" class=\"dataframe\">\n",
       "  <thead>\n",
       "    <tr style=\"text-align: right;\">\n",
       "      <th></th>\n",
       "      <th>Caption</th>\n",
       "      <th>Instagram</th>\n",
       "      <th>YouTube</th>\n",
       "      <th>Twitter</th>\n",
       "      <th>positive_words</th>\n",
       "      <th>negative_words</th>\n",
       "      <th>length</th>\n",
       "      <th>word_count</th>\n",
       "      <th>male_words</th>\n",
       "      <th>female_words</th>\n",
       "      <th>afinn</th>\n",
       "    </tr>\n",
       "  </thead>\n",
       "  <tbody>\n",
       "    <tr>\n",
       "      <th>4665</th>\n",
       "      <td>Fixed my nails.. Thank you</td>\n",
       "      <td>1</td>\n",
       "      <td>0</td>\n",
       "      <td>0</td>\n",
       "      <td>1</td>\n",
       "      <td>0</td>\n",
       "      <td>27</td>\n",
       "      <td>5</td>\n",
       "      <td>0</td>\n",
       "      <td>0</td>\n",
       "      <td>2.0</td>\n",
       "    </tr>\n",
       "    <tr>\n",
       "      <th>7511</th>\n",
       "      <td>Paris Squad</td>\n",
       "      <td>1</td>\n",
       "      <td>0</td>\n",
       "      <td>0</td>\n",
       "      <td>0</td>\n",
       "      <td>0</td>\n",
       "      <td>12</td>\n",
       "      <td>2</td>\n",
       "      <td>0</td>\n",
       "      <td>0</td>\n",
       "      <td>0.0</td>\n",
       "    </tr>\n",
       "    <tr>\n",
       "      <th>2942</th>\n",
       "      <td>peachy</td>\n",
       "      <td>1</td>\n",
       "      <td>0</td>\n",
       "      <td>0</td>\n",
       "      <td>0</td>\n",
       "      <td>0</td>\n",
       "      <td>7</td>\n",
       "      <td>1</td>\n",
       "      <td>0</td>\n",
       "      <td>0</td>\n",
       "      <td>0.0</td>\n",
       "    </tr>\n",
       "    <tr>\n",
       "      <th>2873</th>\n",
       "      <td>blondies</td>\n",
       "      <td>1</td>\n",
       "      <td>0</td>\n",
       "      <td>0</td>\n",
       "      <td>0</td>\n",
       "      <td>0</td>\n",
       "      <td>9</td>\n",
       "      <td>1</td>\n",
       "      <td>0</td>\n",
       "      <td>0</td>\n",
       "      <td>0.0</td>\n",
       "    </tr>\n",
       "    <tr>\n",
       "      <th>5552</th>\n",
       "      <td></td>\n",
       "      <td>1</td>\n",
       "      <td>0</td>\n",
       "      <td>0</td>\n",
       "      <td>0</td>\n",
       "      <td>0</td>\n",
       "      <td>1</td>\n",
       "      <td>0</td>\n",
       "      <td>0</td>\n",
       "      <td>0</td>\n",
       "      <td>0.0</td>\n",
       "    </tr>\n",
       "    <tr>\n",
       "      <th>11193</th>\n",
       "      <td>Lol</td>\n",
       "      <td>1</td>\n",
       "      <td>0</td>\n",
       "      <td>0</td>\n",
       "      <td>0</td>\n",
       "      <td>0</td>\n",
       "      <td>4</td>\n",
       "      <td>1</td>\n",
       "      <td>0</td>\n",
       "      <td>0</td>\n",
       "      <td>3.0</td>\n",
       "    </tr>\n",
       "    <tr>\n",
       "      <th>3692</th>\n",
       "      <td>Me &amp; Amelia looking over at like..</td>\n",
       "      <td>1</td>\n",
       "      <td>0</td>\n",
       "      <td>0</td>\n",
       "      <td>0</td>\n",
       "      <td>0</td>\n",
       "      <td>35</td>\n",
       "      <td>7</td>\n",
       "      <td>0</td>\n",
       "      <td>0</td>\n",
       "      <td>2.0</td>\n",
       "    </tr>\n",
       "    <tr>\n",
       "      <th>3552</th>\n",
       "      <td>just our usual morning routine</td>\n",
       "      <td>1</td>\n",
       "      <td>0</td>\n",
       "      <td>0</td>\n",
       "      <td>0</td>\n",
       "      <td>0</td>\n",
       "      <td>31</td>\n",
       "      <td>5</td>\n",
       "      <td>0</td>\n",
       "      <td>0</td>\n",
       "      <td>0.0</td>\n",
       "    </tr>\n",
       "    <tr>\n",
       "      <th>11415</th>\n",
       "      <td>Track 15 it's called get used to it i don't kn...</td>\n",
       "      <td>1</td>\n",
       "      <td>0</td>\n",
       "      <td>0</td>\n",
       "      <td>0</td>\n",
       "      <td>0</td>\n",
       "      <td>69</td>\n",
       "      <td>16</td>\n",
       "      <td>0</td>\n",
       "      <td>0</td>\n",
       "      <td>0.0</td>\n",
       "    </tr>\n",
       "    <tr>\n",
       "      <th>3151</th>\n",
       "      <td>Another one  my cover for issue!!!!!!!</td>\n",
       "      <td>1</td>\n",
       "      <td>0</td>\n",
       "      <td>0</td>\n",
       "      <td>0</td>\n",
       "      <td>0</td>\n",
       "      <td>39</td>\n",
       "      <td>6</td>\n",
       "      <td>0</td>\n",
       "      <td>0</td>\n",
       "      <td>0.0</td>\n",
       "    </tr>\n",
       "  </tbody>\n",
       "</table>\n",
       "</div>"
      ],
      "text/plain": [
       "                                                 Caption  Instagram  YouTube  \\\n",
       "4665                         Fixed my nails.. Thank you           1        0   \n",
       "7511                                        Paris Squad           1        0   \n",
       "2942                                             peachy           1        0   \n",
       "2873                                           blondies           1        0   \n",
       "5552                                                              1        0   \n",
       "11193                                               Lol           1        0   \n",
       "3692                 Me & Amelia looking over at like..           1        0   \n",
       "3552                     just our usual morning routine           1        0   \n",
       "11415  Track 15 it's called get used to it i don't kn...          1        0   \n",
       "3151             Another one  my cover for issue!!!!!!!           1        0   \n",
       "\n",
       "       Twitter  positive_words  negative_words  length  word_count  \\\n",
       "4665         0               1               0      27           5   \n",
       "7511         0               0               0      12           2   \n",
       "2942         0               0               0       7           1   \n",
       "2873         0               0               0       9           1   \n",
       "5552         0               0               0       1           0   \n",
       "11193        0               0               0       4           1   \n",
       "3692         0               0               0      35           7   \n",
       "3552         0               0               0      31           5   \n",
       "11415        0               0               0      69          16   \n",
       "3151         0               0               0      39           6   \n",
       "\n",
       "       male_words  female_words  afinn  \n",
       "4665            0             0    2.0  \n",
       "7511            0             0    0.0  \n",
       "2942            0             0    0.0  \n",
       "2873            0             0    0.0  \n",
       "5552            0             0    0.0  \n",
       "11193           0             0    3.0  \n",
       "3692            0             0    2.0  \n",
       "3552            0             0    0.0  \n",
       "11415           0             0    0.0  \n",
       "3151            0             0    0.0  "
      ]
     },
     "execution_count": 29,
     "metadata": {},
     "output_type": "execute_result"
    }
   ],
   "source": [
    "df.sample(10)"
   ]
  },
  {
   "cell_type": "markdown",
   "id": "20c1f14c",
   "metadata": {},
   "source": [
    "# Save the resulting Dataframe!"
   ]
  },
  {
   "cell_type": "code",
   "execution_count": 31,
   "id": "20a190f4",
   "metadata": {},
   "outputs": [],
   "source": [
    "df.to_csv(\"insta_with_features.csv\")"
   ]
  },
  {
   "cell_type": "code",
   "execution_count": null,
   "id": "255a963a-b2ee-495d-af3f-8b7d4cbe7d37",
   "metadata": {},
   "outputs": [],
   "source": []
  }
 ],
 "metadata": {
  "kernelspec": {
   "display_name": "Python 3 (ipykernel)",
   "language": "python",
   "name": "python3"
  },
  "language_info": {
   "codemirror_mode": {
    "name": "ipython",
    "version": 3
   },
   "file_extension": ".py",
   "mimetype": "text/x-python",
   "name": "python",
   "nbconvert_exporter": "python",
   "pygments_lexer": "ipython3",
   "version": "3.11.3"
  }
 },
 "nbformat": 4,
 "nbformat_minor": 5
}
