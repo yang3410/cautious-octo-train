{
 "cells": [
  {
   "cell_type": "code",
   "execution_count": 1,
   "id": "1a370af6-6641-4817-a2c5-a425df81f4a7",
   "metadata": {},
   "outputs": [],
   "source": [
    "import pandas as pd"
   ]
  },
  {
   "cell_type": "code",
   "execution_count": 2,
   "id": "827ee264-b6e1-4432-b937-502f9ce47bad",
   "metadata": {},
   "outputs": [],
   "source": [
    "insta = pd.read_csv('instagram_captions.csv')"
   ]
  },
  {
   "cell_type": "markdown",
   "id": "3c1495a8-c86a-4d56-bcd5-1f85db2e8b03",
   "metadata": {},
   "source": [
    "This data have been taken from https://www.kaggle.com/datasets/prithvijaunjale/instagram-images-with-captions\n",
    "\n",
    "We will get rid of columns \"Sr No\" and \"Image File\". We will remove rows with null entries and drop duplicates.\n",
    "\n",
    "Let's see what the data looks like."
   ]
  },
  {
   "cell_type": "code",
   "execution_count": 3,
   "id": "91bf777f-38f7-4f62-97f8-8d4c5d2185a4",
   "metadata": {},
   "outputs": [
    {
     "data": {
      "text/html": [
       "<div>\n",
       "<style scoped>\n",
       "    .dataframe tbody tr th:only-of-type {\n",
       "        vertical-align: middle;\n",
       "    }\n",
       "\n",
       "    .dataframe tbody tr th {\n",
       "        vertical-align: top;\n",
       "    }\n",
       "\n",
       "    .dataframe thead th {\n",
       "        text-align: right;\n",
       "    }\n",
       "</style>\n",
       "<table border=\"1\" class=\"dataframe\">\n",
       "  <thead>\n",
       "    <tr style=\"text-align: right;\">\n",
       "      <th></th>\n",
       "      <th>Sr No</th>\n",
       "      <th>Image File</th>\n",
       "      <th>Caption</th>\n",
       "    </tr>\n",
       "  </thead>\n",
       "  <tbody>\n",
       "    <tr>\n",
       "      <th>0</th>\n",
       "      <td>1</td>\n",
       "      <td>img/insta1</td>\n",
       "      <td>NaN</td>\n",
       "    </tr>\n",
       "    <tr>\n",
       "      <th>1</th>\n",
       "      <td>2</td>\n",
       "      <td>img/insta2</td>\n",
       "      <td>bye</td>\n",
       "    </tr>\n",
       "    <tr>\n",
       "      <th>2</th>\n",
       "      <td>3</td>\n",
       "      <td>img/insta3</td>\n",
       "      <td>Ok, a few more... sorry I just had so much fun...</td>\n",
       "    </tr>\n",
       "    <tr>\n",
       "      <th>3</th>\n",
       "      <td>4</td>\n",
       "      <td>img/insta4</td>\n",
       "      <td>This was one of my favorite shoots I’ve ever d...</td>\n",
       "    </tr>\n",
       "    <tr>\n",
       "      <th>4</th>\n",
       "      <td>5</td>\n",
       "      <td>img/insta5</td>\n",
       "      <td>Wrapped round my finger like a ring</td>\n",
       "    </tr>\n",
       "    <tr>\n",
       "      <th>...</th>\n",
       "      <td>...</td>\n",
       "      <td>...</td>\n",
       "      <td>...</td>\n",
       "    </tr>\n",
       "    <tr>\n",
       "      <th>20510</th>\n",
       "      <td>20511</td>\n",
       "      <td>img/insta20511</td>\n",
       "      <td>Cowgirl :)</td>\n",
       "    </tr>\n",
       "    <tr>\n",
       "      <th>20511</th>\n",
       "      <td>20512</td>\n",
       "      <td>img/insta20512</td>\n",
       "      <td>&lt;3</td>\n",
       "    </tr>\n",
       "    <tr>\n",
       "      <th>20512</th>\n",
       "      <td>20513</td>\n",
       "      <td>img/insta20513</td>\n",
       "      <td>I love me and Kylie's nail polish colors!</td>\n",
       "    </tr>\n",
       "    <tr>\n",
       "      <th>20513</th>\n",
       "      <td>20514</td>\n",
       "      <td>img/insta20514</td>\n",
       "      <td>Fammm</td>\n",
       "    </tr>\n",
       "    <tr>\n",
       "      <th>20514</th>\n",
       "      <td>20515</td>\n",
       "      <td>img/insta20515</td>\n",
       "      <td>Disneyland!</td>\n",
       "    </tr>\n",
       "  </tbody>\n",
       "</table>\n",
       "<p>20515 rows × 3 columns</p>\n",
       "</div>"
      ],
      "text/plain": [
       "       Sr No      Image File  \\\n",
       "0          1      img/insta1   \n",
       "1          2      img/insta2   \n",
       "2          3      img/insta3   \n",
       "3          4      img/insta4   \n",
       "4          5      img/insta5   \n",
       "...      ...             ...   \n",
       "20510  20511  img/insta20511   \n",
       "20511  20512  img/insta20512   \n",
       "20512  20513  img/insta20513   \n",
       "20513  20514  img/insta20514   \n",
       "20514  20515  img/insta20515   \n",
       "\n",
       "                                                 Caption  \n",
       "0                                                    NaN  \n",
       "1                                                   bye   \n",
       "2      Ok, a few more... sorry I just had so much fun...  \n",
       "3      This was one of my favorite shoots I’ve ever d...  \n",
       "4                   Wrapped round my finger like a ring   \n",
       "...                                                  ...  \n",
       "20510                                        Cowgirl :)   \n",
       "20511                                                <3   \n",
       "20512         I love me and Kylie's nail polish colors!   \n",
       "20513                                             Fammm   \n",
       "20514                                       Disneyland!   \n",
       "\n",
       "[20515 rows x 3 columns]"
      ]
     },
     "execution_count": 3,
     "metadata": {},
     "output_type": "execute_result"
    }
   ],
   "source": [
    "insta"
   ]
  },
  {
   "cell_type": "code",
   "execution_count": 4,
   "id": "773cce7e-71c3-43eb-891e-4f9b38992aa0",
   "metadata": {},
   "outputs": [
    {
     "name": "stdout",
     "output_type": "stream",
     "text": [
      "<class 'pandas.core.frame.DataFrame'>\n",
      "RangeIndex: 20515 entries, 0 to 20514\n",
      "Data columns (total 3 columns):\n",
      " #   Column      Non-Null Count  Dtype \n",
      "---  ------      --------------  ----- \n",
      " 0   Sr No       20515 non-null  int64 \n",
      " 1   Image File  20515 non-null  object\n",
      " 2   Caption     17100 non-null  object\n",
      "dtypes: int64(1), object(2)\n",
      "memory usage: 480.9+ KB\n"
     ]
    }
   ],
   "source": [
    "insta.info()"
   ]
  },
  {
   "cell_type": "code",
   "execution_count": 5,
   "id": "1a96e90e-94b6-4681-96c3-6e855c14f8a2",
   "metadata": {},
   "outputs": [],
   "source": [
    "insta = insta.drop(columns = ['Sr No', 'Image File'])"
   ]
  },
  {
   "cell_type": "code",
   "execution_count": 6,
   "id": "d213a349-bb2d-4680-aa37-9859bbee8710",
   "metadata": {},
   "outputs": [
    {
     "data": {
      "text/html": [
       "<div>\n",
       "<style scoped>\n",
       "    .dataframe tbody tr th:only-of-type {\n",
       "        vertical-align: middle;\n",
       "    }\n",
       "\n",
       "    .dataframe tbody tr th {\n",
       "        vertical-align: top;\n",
       "    }\n",
       "\n",
       "    .dataframe thead th {\n",
       "        text-align: right;\n",
       "    }\n",
       "</style>\n",
       "<table border=\"1\" class=\"dataframe\">\n",
       "  <thead>\n",
       "    <tr style=\"text-align: right;\">\n",
       "      <th></th>\n",
       "      <th>Caption</th>\n",
       "    </tr>\n",
       "  </thead>\n",
       "  <tbody>\n",
       "    <tr>\n",
       "      <th>0</th>\n",
       "      <td>NaN</td>\n",
       "    </tr>\n",
       "    <tr>\n",
       "      <th>1</th>\n",
       "      <td>bye</td>\n",
       "    </tr>\n",
       "    <tr>\n",
       "      <th>2</th>\n",
       "      <td>Ok, a few more... sorry I just had so much fun...</td>\n",
       "    </tr>\n",
       "    <tr>\n",
       "      <th>3</th>\n",
       "      <td>This was one of my favorite shoots I’ve ever d...</td>\n",
       "    </tr>\n",
       "    <tr>\n",
       "      <th>4</th>\n",
       "      <td>Wrapped round my finger like a ring</td>\n",
       "    </tr>\n",
       "    <tr>\n",
       "      <th>...</th>\n",
       "      <td>...</td>\n",
       "    </tr>\n",
       "    <tr>\n",
       "      <th>20510</th>\n",
       "      <td>Cowgirl :)</td>\n",
       "    </tr>\n",
       "    <tr>\n",
       "      <th>20511</th>\n",
       "      <td>&lt;3</td>\n",
       "    </tr>\n",
       "    <tr>\n",
       "      <th>20512</th>\n",
       "      <td>I love me and Kylie's nail polish colors!</td>\n",
       "    </tr>\n",
       "    <tr>\n",
       "      <th>20513</th>\n",
       "      <td>Fammm</td>\n",
       "    </tr>\n",
       "    <tr>\n",
       "      <th>20514</th>\n",
       "      <td>Disneyland!</td>\n",
       "    </tr>\n",
       "  </tbody>\n",
       "</table>\n",
       "<p>20515 rows × 1 columns</p>\n",
       "</div>"
      ],
      "text/plain": [
       "                                                 Caption\n",
       "0                                                    NaN\n",
       "1                                                   bye \n",
       "2      Ok, a few more... sorry I just had so much fun...\n",
       "3      This was one of my favorite shoots I’ve ever d...\n",
       "4                   Wrapped round my finger like a ring \n",
       "...                                                  ...\n",
       "20510                                        Cowgirl :) \n",
       "20511                                                <3 \n",
       "20512         I love me and Kylie's nail polish colors! \n",
       "20513                                             Fammm \n",
       "20514                                       Disneyland! \n",
       "\n",
       "[20515 rows x 1 columns]"
      ]
     },
     "execution_count": 6,
     "metadata": {},
     "output_type": "execute_result"
    }
   ],
   "source": [
    "insta"
   ]
  },
  {
   "cell_type": "code",
   "execution_count": 7,
   "id": "8f2fc083-c87d-477b-ae0e-f86e83d11546",
   "metadata": {},
   "outputs": [],
   "source": [
    "insta = insta.dropna()"
   ]
  },
  {
   "cell_type": "code",
   "execution_count": 8,
   "id": "5501e458-8ca2-42c1-b076-4f7e53fc8b4d",
   "metadata": {},
   "outputs": [
    {
     "data": {
      "text/html": [
       "<div>\n",
       "<style scoped>\n",
       "    .dataframe tbody tr th:only-of-type {\n",
       "        vertical-align: middle;\n",
       "    }\n",
       "\n",
       "    .dataframe tbody tr th {\n",
       "        vertical-align: top;\n",
       "    }\n",
       "\n",
       "    .dataframe thead th {\n",
       "        text-align: right;\n",
       "    }\n",
       "</style>\n",
       "<table border=\"1\" class=\"dataframe\">\n",
       "  <thead>\n",
       "    <tr style=\"text-align: right;\">\n",
       "      <th></th>\n",
       "      <th>Caption</th>\n",
       "    </tr>\n",
       "  </thead>\n",
       "  <tbody>\n",
       "    <tr>\n",
       "      <th>1</th>\n",
       "      <td>bye</td>\n",
       "    </tr>\n",
       "    <tr>\n",
       "      <th>2</th>\n",
       "      <td>Ok, a few more... sorry I just had so much fun...</td>\n",
       "    </tr>\n",
       "    <tr>\n",
       "      <th>3</th>\n",
       "      <td>This was one of my favorite shoots I’ve ever d...</td>\n",
       "    </tr>\n",
       "    <tr>\n",
       "      <th>4</th>\n",
       "      <td>Wrapped round my finger like a ring</td>\n",
       "    </tr>\n",
       "    <tr>\n",
       "      <th>5</th>\n",
       "      <td>Yesterday was so much fun!! has been such a hu...</td>\n",
       "    </tr>\n",
       "    <tr>\n",
       "      <th>...</th>\n",
       "      <td>...</td>\n",
       "    </tr>\n",
       "    <tr>\n",
       "      <th>20510</th>\n",
       "      <td>Cowgirl :)</td>\n",
       "    </tr>\n",
       "    <tr>\n",
       "      <th>20511</th>\n",
       "      <td>&lt;3</td>\n",
       "    </tr>\n",
       "    <tr>\n",
       "      <th>20512</th>\n",
       "      <td>I love me and Kylie's nail polish colors!</td>\n",
       "    </tr>\n",
       "    <tr>\n",
       "      <th>20513</th>\n",
       "      <td>Fammm</td>\n",
       "    </tr>\n",
       "    <tr>\n",
       "      <th>20514</th>\n",
       "      <td>Disneyland!</td>\n",
       "    </tr>\n",
       "  </tbody>\n",
       "</table>\n",
       "<p>17100 rows × 1 columns</p>\n",
       "</div>"
      ],
      "text/plain": [
       "                                                 Caption\n",
       "1                                                   bye \n",
       "2      Ok, a few more... sorry I just had so much fun...\n",
       "3      This was one of my favorite shoots I’ve ever d...\n",
       "4                   Wrapped round my finger like a ring \n",
       "5      Yesterday was so much fun!! has been such a hu...\n",
       "...                                                  ...\n",
       "20510                                        Cowgirl :) \n",
       "20511                                                <3 \n",
       "20512         I love me and Kylie's nail polish colors! \n",
       "20513                                             Fammm \n",
       "20514                                       Disneyland! \n",
       "\n",
       "[17100 rows x 1 columns]"
      ]
     },
     "execution_count": 8,
     "metadata": {},
     "output_type": "execute_result"
    }
   ],
   "source": [
    "insta"
   ]
  },
  {
   "cell_type": "code",
   "execution_count": 9,
   "id": "10e07724-631d-495a-8e4e-d11ff2c124a0",
   "metadata": {},
   "outputs": [],
   "source": [
    "insta.reset_index(drop=True, inplace=True)"
   ]
  },
  {
   "cell_type": "code",
   "execution_count": 10,
   "id": "8bf45733-894c-44fd-aca4-b5fcee1aa633",
   "metadata": {},
   "outputs": [
    {
     "data": {
      "text/plain": [
       "15652"
      ]
     },
     "execution_count": 10,
     "metadata": {},
     "output_type": "execute_result"
    }
   ],
   "source": [
    "len(pd.unique(insta['Caption']))"
   ]
  },
  {
   "cell_type": "code",
   "execution_count": 11,
   "id": "ec0df63e-75fb-4222-9e09-eb9ade234966",
   "metadata": {},
   "outputs": [
    {
     "data": {
      "text/html": [
       "<div>\n",
       "<style scoped>\n",
       "    .dataframe tbody tr th:only-of-type {\n",
       "        vertical-align: middle;\n",
       "    }\n",
       "\n",
       "    .dataframe tbody tr th {\n",
       "        vertical-align: top;\n",
       "    }\n",
       "\n",
       "    .dataframe thead th {\n",
       "        text-align: right;\n",
       "    }\n",
       "</style>\n",
       "<table border=\"1\" class=\"dataframe\">\n",
       "  <thead>\n",
       "    <tr style=\"text-align: right;\">\n",
       "      <th></th>\n",
       "      <th>Caption</th>\n",
       "    </tr>\n",
       "  </thead>\n",
       "  <tbody>\n",
       "    <tr>\n",
       "      <th>0</th>\n",
       "      <td>bye</td>\n",
       "    </tr>\n",
       "    <tr>\n",
       "      <th>1</th>\n",
       "      <td>Ok, a few more... sorry I just had so much fun...</td>\n",
       "    </tr>\n",
       "    <tr>\n",
       "      <th>2</th>\n",
       "      <td>This was one of my favorite shoots I’ve ever d...</td>\n",
       "    </tr>\n",
       "    <tr>\n",
       "      <th>3</th>\n",
       "      <td>Wrapped round my finger like a ring</td>\n",
       "    </tr>\n",
       "    <tr>\n",
       "      <th>4</th>\n",
       "      <td>Yesterday was so much fun!! has been such a hu...</td>\n",
       "    </tr>\n",
       "    <tr>\n",
       "      <th>...</th>\n",
       "      <td>...</td>\n",
       "    </tr>\n",
       "    <tr>\n",
       "      <th>17095</th>\n",
       "      <td>Cowgirl :)</td>\n",
       "    </tr>\n",
       "    <tr>\n",
       "      <th>17096</th>\n",
       "      <td>&lt;3</td>\n",
       "    </tr>\n",
       "    <tr>\n",
       "      <th>17097</th>\n",
       "      <td>I love me and Kylie's nail polish colors!</td>\n",
       "    </tr>\n",
       "    <tr>\n",
       "      <th>17098</th>\n",
       "      <td>Fammm</td>\n",
       "    </tr>\n",
       "    <tr>\n",
       "      <th>17099</th>\n",
       "      <td>Disneyland!</td>\n",
       "    </tr>\n",
       "  </tbody>\n",
       "</table>\n",
       "<p>17100 rows × 1 columns</p>\n",
       "</div>"
      ],
      "text/plain": [
       "                                                 Caption\n",
       "0                                                   bye \n",
       "1      Ok, a few more... sorry I just had so much fun...\n",
       "2      This was one of my favorite shoots I’ve ever d...\n",
       "3                   Wrapped round my finger like a ring \n",
       "4      Yesterday was so much fun!! has been such a hu...\n",
       "...                                                  ...\n",
       "17095                                        Cowgirl :) \n",
       "17096                                                <3 \n",
       "17097         I love me and Kylie's nail polish colors! \n",
       "17098                                             Fammm \n",
       "17099                                       Disneyland! \n",
       "\n",
       "[17100 rows x 1 columns]"
      ]
     },
     "execution_count": 11,
     "metadata": {},
     "output_type": "execute_result"
    }
   ],
   "source": [
    "insta"
   ]
  },
  {
   "cell_type": "code",
   "execution_count": 12,
   "id": "de133506-4fd3-409e-9905-6b5755d4da00",
   "metadata": {},
   "outputs": [],
   "source": [
    "insta = insta.drop_duplicates()"
   ]
  },
  {
   "cell_type": "code",
   "execution_count": null,
   "id": "8dad0511-35b3-4990-af47-fe43e86460cb",
   "metadata": {},
   "outputs": [],
   "source": []
  },
  {
   "cell_type": "code",
   "execution_count": 13,
   "id": "0bfc1161-59ee-4a0d-8bd8-3924003f77ba",
   "metadata": {},
   "outputs": [],
   "source": [
    "insta.reset_index(drop=True, inplace=True)"
   ]
  },
  {
   "cell_type": "code",
   "execution_count": 14,
   "id": "f552740d-599e-4147-bba8-96c122cdfeed",
   "metadata": {},
   "outputs": [
    {
     "data": {
      "text/html": [
       "<div>\n",
       "<style scoped>\n",
       "    .dataframe tbody tr th:only-of-type {\n",
       "        vertical-align: middle;\n",
       "    }\n",
       "\n",
       "    .dataframe tbody tr th {\n",
       "        vertical-align: top;\n",
       "    }\n",
       "\n",
       "    .dataframe thead th {\n",
       "        text-align: right;\n",
       "    }\n",
       "</style>\n",
       "<table border=\"1\" class=\"dataframe\">\n",
       "  <thead>\n",
       "    <tr style=\"text-align: right;\">\n",
       "      <th></th>\n",
       "      <th>Caption</th>\n",
       "    </tr>\n",
       "  </thead>\n",
       "  <tbody>\n",
       "    <tr>\n",
       "      <th>0</th>\n",
       "      <td>bye</td>\n",
       "    </tr>\n",
       "    <tr>\n",
       "      <th>1</th>\n",
       "      <td>Ok, a few more... sorry I just had so much fun...</td>\n",
       "    </tr>\n",
       "    <tr>\n",
       "      <th>2</th>\n",
       "      <td>This was one of my favorite shoots I’ve ever d...</td>\n",
       "    </tr>\n",
       "    <tr>\n",
       "      <th>3</th>\n",
       "      <td>Wrapped round my finger like a ring</td>\n",
       "    </tr>\n",
       "    <tr>\n",
       "      <th>4</th>\n",
       "      <td>Yesterday was so much fun!! has been such a hu...</td>\n",
       "    </tr>\n",
       "    <tr>\n",
       "      <th>...</th>\n",
       "      <td>...</td>\n",
       "    </tr>\n",
       "    <tr>\n",
       "      <th>15647</th>\n",
       "      <td>Kramer!</td>\n",
       "    </tr>\n",
       "    <tr>\n",
       "      <th>15648</th>\n",
       "      <td>Cowgirl :)</td>\n",
       "    </tr>\n",
       "    <tr>\n",
       "      <th>15649</th>\n",
       "      <td>I love me and Kylie's nail polish colors!</td>\n",
       "    </tr>\n",
       "    <tr>\n",
       "      <th>15650</th>\n",
       "      <td>Fammm</td>\n",
       "    </tr>\n",
       "    <tr>\n",
       "      <th>15651</th>\n",
       "      <td>Disneyland!</td>\n",
       "    </tr>\n",
       "  </tbody>\n",
       "</table>\n",
       "<p>15652 rows × 1 columns</p>\n",
       "</div>"
      ],
      "text/plain": [
       "                                                 Caption\n",
       "0                                                   bye \n",
       "1      Ok, a few more... sorry I just had so much fun...\n",
       "2      This was one of my favorite shoots I’ve ever d...\n",
       "3                   Wrapped round my finger like a ring \n",
       "4      Yesterday was so much fun!! has been such a hu...\n",
       "...                                                  ...\n",
       "15647                                           Kramer! \n",
       "15648                                        Cowgirl :) \n",
       "15649         I love me and Kylie's nail polish colors! \n",
       "15650                                             Fammm \n",
       "15651                                       Disneyland! \n",
       "\n",
       "[15652 rows x 1 columns]"
      ]
     },
     "execution_count": 14,
     "metadata": {},
     "output_type": "execute_result"
    }
   ],
   "source": [
    "insta"
   ]
  },
  {
   "cell_type": "code",
   "execution_count": 15,
   "id": "260f08b9-89a2-4f15-a56f-52c4407575c8",
   "metadata": {},
   "outputs": [],
   "source": [
    "insta = insta.astype('string')"
   ]
  },
  {
   "cell_type": "code",
   "execution_count": 16,
   "id": "bb916f42-16e1-4a8e-8c7e-e0bc8c33c6ce",
   "metadata": {},
   "outputs": [],
   "source": [
    "insta['Instagram'] = 1"
   ]
  },
  {
   "cell_type": "code",
   "execution_count": 17,
   "id": "30cb07ec-0852-4744-a296-5f4221521e88",
   "metadata": {},
   "outputs": [
    {
     "data": {
      "text/html": [
       "<div>\n",
       "<style scoped>\n",
       "    .dataframe tbody tr th:only-of-type {\n",
       "        vertical-align: middle;\n",
       "    }\n",
       "\n",
       "    .dataframe tbody tr th {\n",
       "        vertical-align: top;\n",
       "    }\n",
       "\n",
       "    .dataframe thead th {\n",
       "        text-align: right;\n",
       "    }\n",
       "</style>\n",
       "<table border=\"1\" class=\"dataframe\">\n",
       "  <thead>\n",
       "    <tr style=\"text-align: right;\">\n",
       "      <th></th>\n",
       "      <th>Caption</th>\n",
       "      <th>Instagram</th>\n",
       "    </tr>\n",
       "  </thead>\n",
       "  <tbody>\n",
       "    <tr>\n",
       "      <th>0</th>\n",
       "      <td>bye</td>\n",
       "      <td>1</td>\n",
       "    </tr>\n",
       "    <tr>\n",
       "      <th>1</th>\n",
       "      <td>Ok, a few more... sorry I just had so much fun...</td>\n",
       "      <td>1</td>\n",
       "    </tr>\n",
       "    <tr>\n",
       "      <th>2</th>\n",
       "      <td>This was one of my favorite shoots I’ve ever d...</td>\n",
       "      <td>1</td>\n",
       "    </tr>\n",
       "    <tr>\n",
       "      <th>3</th>\n",
       "      <td>Wrapped round my finger like a ring</td>\n",
       "      <td>1</td>\n",
       "    </tr>\n",
       "    <tr>\n",
       "      <th>4</th>\n",
       "      <td>Yesterday was so much fun!! has been such a hu...</td>\n",
       "      <td>1</td>\n",
       "    </tr>\n",
       "    <tr>\n",
       "      <th>...</th>\n",
       "      <td>...</td>\n",
       "      <td>...</td>\n",
       "    </tr>\n",
       "    <tr>\n",
       "      <th>15647</th>\n",
       "      <td>Kramer!</td>\n",
       "      <td>1</td>\n",
       "    </tr>\n",
       "    <tr>\n",
       "      <th>15648</th>\n",
       "      <td>Cowgirl :)</td>\n",
       "      <td>1</td>\n",
       "    </tr>\n",
       "    <tr>\n",
       "      <th>15649</th>\n",
       "      <td>I love me and Kylie's nail polish colors!</td>\n",
       "      <td>1</td>\n",
       "    </tr>\n",
       "    <tr>\n",
       "      <th>15650</th>\n",
       "      <td>Fammm</td>\n",
       "      <td>1</td>\n",
       "    </tr>\n",
       "    <tr>\n",
       "      <th>15651</th>\n",
       "      <td>Disneyland!</td>\n",
       "      <td>1</td>\n",
       "    </tr>\n",
       "  </tbody>\n",
       "</table>\n",
       "<p>15652 rows × 2 columns</p>\n",
       "</div>"
      ],
      "text/plain": [
       "                                                 Caption  Instagram\n",
       "0                                                   bye           1\n",
       "1      Ok, a few more... sorry I just had so much fun...          1\n",
       "2      This was one of my favorite shoots I’ve ever d...          1\n",
       "3                   Wrapped round my finger like a ring           1\n",
       "4      Yesterday was so much fun!! has been such a hu...          1\n",
       "...                                                  ...        ...\n",
       "15647                                           Kramer!           1\n",
       "15648                                        Cowgirl :)           1\n",
       "15649         I love me and Kylie's nail polish colors!           1\n",
       "15650                                             Fammm           1\n",
       "15651                                       Disneyland!           1\n",
       "\n",
       "[15652 rows x 2 columns]"
      ]
     },
     "execution_count": 17,
     "metadata": {},
     "output_type": "execute_result"
    }
   ],
   "source": [
    "insta"
   ]
  },
  {
   "cell_type": "code",
   "execution_count": 18,
   "id": "50b870c8-e41a-4c32-af1a-685ed6dbdf1d",
   "metadata": {},
   "outputs": [],
   "source": [
    "insta['YouTube'] = 0"
   ]
  },
  {
   "cell_type": "code",
   "execution_count": 19,
   "id": "b301edc3-64ad-4838-baf0-b1f6c9acdd8c",
   "metadata": {},
   "outputs": [],
   "source": [
    "insta['Twitter'] = 0"
   ]
  },
  {
   "cell_type": "code",
   "execution_count": 20,
   "id": "ff22782d-e2f1-4b68-ab1c-635ea0d4ef4c",
   "metadata": {},
   "outputs": [
    {
     "data": {
      "text/html": [
       "<div>\n",
       "<style scoped>\n",
       "    .dataframe tbody tr th:only-of-type {\n",
       "        vertical-align: middle;\n",
       "    }\n",
       "\n",
       "    .dataframe tbody tr th {\n",
       "        vertical-align: top;\n",
       "    }\n",
       "\n",
       "    .dataframe thead th {\n",
       "        text-align: right;\n",
       "    }\n",
       "</style>\n",
       "<table border=\"1\" class=\"dataframe\">\n",
       "  <thead>\n",
       "    <tr style=\"text-align: right;\">\n",
       "      <th></th>\n",
       "      <th>Caption</th>\n",
       "      <th>Instagram</th>\n",
       "      <th>YouTube</th>\n",
       "      <th>Twitter</th>\n",
       "    </tr>\n",
       "  </thead>\n",
       "  <tbody>\n",
       "    <tr>\n",
       "      <th>0</th>\n",
       "      <td>bye</td>\n",
       "      <td>1</td>\n",
       "      <td>0</td>\n",
       "      <td>0</td>\n",
       "    </tr>\n",
       "    <tr>\n",
       "      <th>1</th>\n",
       "      <td>Ok, a few more... sorry I just had so much fun...</td>\n",
       "      <td>1</td>\n",
       "      <td>0</td>\n",
       "      <td>0</td>\n",
       "    </tr>\n",
       "    <tr>\n",
       "      <th>2</th>\n",
       "      <td>This was one of my favorite shoots I’ve ever d...</td>\n",
       "      <td>1</td>\n",
       "      <td>0</td>\n",
       "      <td>0</td>\n",
       "    </tr>\n",
       "    <tr>\n",
       "      <th>3</th>\n",
       "      <td>Wrapped round my finger like a ring</td>\n",
       "      <td>1</td>\n",
       "      <td>0</td>\n",
       "      <td>0</td>\n",
       "    </tr>\n",
       "    <tr>\n",
       "      <th>4</th>\n",
       "      <td>Yesterday was so much fun!! has been such a hu...</td>\n",
       "      <td>1</td>\n",
       "      <td>0</td>\n",
       "      <td>0</td>\n",
       "    </tr>\n",
       "    <tr>\n",
       "      <th>...</th>\n",
       "      <td>...</td>\n",
       "      <td>...</td>\n",
       "      <td>...</td>\n",
       "      <td>...</td>\n",
       "    </tr>\n",
       "    <tr>\n",
       "      <th>15647</th>\n",
       "      <td>Kramer!</td>\n",
       "      <td>1</td>\n",
       "      <td>0</td>\n",
       "      <td>0</td>\n",
       "    </tr>\n",
       "    <tr>\n",
       "      <th>15648</th>\n",
       "      <td>Cowgirl :)</td>\n",
       "      <td>1</td>\n",
       "      <td>0</td>\n",
       "      <td>0</td>\n",
       "    </tr>\n",
       "    <tr>\n",
       "      <th>15649</th>\n",
       "      <td>I love me and Kylie's nail polish colors!</td>\n",
       "      <td>1</td>\n",
       "      <td>0</td>\n",
       "      <td>0</td>\n",
       "    </tr>\n",
       "    <tr>\n",
       "      <th>15650</th>\n",
       "      <td>Fammm</td>\n",
       "      <td>1</td>\n",
       "      <td>0</td>\n",
       "      <td>0</td>\n",
       "    </tr>\n",
       "    <tr>\n",
       "      <th>15651</th>\n",
       "      <td>Disneyland!</td>\n",
       "      <td>1</td>\n",
       "      <td>0</td>\n",
       "      <td>0</td>\n",
       "    </tr>\n",
       "  </tbody>\n",
       "</table>\n",
       "<p>15652 rows × 4 columns</p>\n",
       "</div>"
      ],
      "text/plain": [
       "                                                 Caption  Instagram  YouTube  \\\n",
       "0                                                   bye           1        0   \n",
       "1      Ok, a few more... sorry I just had so much fun...          1        0   \n",
       "2      This was one of my favorite shoots I’ve ever d...          1        0   \n",
       "3                   Wrapped round my finger like a ring           1        0   \n",
       "4      Yesterday was so much fun!! has been such a hu...          1        0   \n",
       "...                                                  ...        ...      ...   \n",
       "15647                                           Kramer!           1        0   \n",
       "15648                                        Cowgirl :)           1        0   \n",
       "15649         I love me and Kylie's nail polish colors!           1        0   \n",
       "15650                                             Fammm           1        0   \n",
       "15651                                       Disneyland!           1        0   \n",
       "\n",
       "       Twitter  \n",
       "0            0  \n",
       "1            0  \n",
       "2            0  \n",
       "3            0  \n",
       "4            0  \n",
       "...        ...  \n",
       "15647        0  \n",
       "15648        0  \n",
       "15649        0  \n",
       "15650        0  \n",
       "15651        0  \n",
       "\n",
       "[15652 rows x 4 columns]"
      ]
     },
     "execution_count": 20,
     "metadata": {},
     "output_type": "execute_result"
    }
   ],
   "source": [
    "insta"
   ]
  },
  {
   "cell_type": "code",
   "execution_count": 21,
   "id": "694b2721-00a4-40b6-b4bd-dcca690a0163",
   "metadata": {},
   "outputs": [],
   "source": [
    "from unidecode import unidecode"
   ]
  },
  {
   "cell_type": "code",
   "execution_count": 22,
   "id": "c8f39596-0627-4e80-9703-7d7af3b58c9f",
   "metadata": {},
   "outputs": [
    {
     "data": {
      "text/plain": [
       "'My cover for with ❤️ exciting things coming with this brilliant man. Shot by the amazing '"
      ]
     },
     "execution_count": 22,
     "metadata": {},
     "output_type": "execute_result"
    }
   ],
   "source": [
    "insta['Caption'][243]"
   ]
  },
  {
   "cell_type": "code",
   "execution_count": 23,
   "id": "3a35ab67-720d-426f-8a8f-e1f264f7c1e4",
   "metadata": {},
   "outputs": [
    {
     "data": {
      "text/plain": [
       "'cover 🖤 '"
      ]
     },
     "execution_count": 23,
     "metadata": {},
     "output_type": "execute_result"
    }
   ],
   "source": [
    "insta['Caption'][2435]"
   ]
  },
  {
   "cell_type": "code",
   "execution_count": 24,
   "id": "09d3d7fe-e760-4b65-a3de-ee2bb6aaf2cc",
   "metadata": {},
   "outputs": [],
   "source": [
    "insta['Caption'] = insta['Caption'].apply(unidecode)"
   ]
  },
  {
   "cell_type": "code",
   "execution_count": 25,
   "id": "d397ca29-0652-4c2b-bf19-45a793f2adca",
   "metadata": {},
   "outputs": [
    {
     "data": {
      "text/plain": [
       "'My cover for with  exciting things coming with this brilliant man. Shot by the amazing '"
      ]
     },
     "execution_count": 25,
     "metadata": {},
     "output_type": "execute_result"
    }
   ],
   "source": [
    "insta['Caption'][243]"
   ]
  },
  {
   "cell_type": "code",
   "execution_count": 26,
   "id": "7e9a94eb-5235-4f86-8250-ae785576d3f5",
   "metadata": {},
   "outputs": [
    {
     "data": {
      "text/plain": [
       "'cover  '"
      ]
     },
     "execution_count": 26,
     "metadata": {},
     "output_type": "execute_result"
    }
   ],
   "source": [
    "insta['Caption'][2435]"
   ]
  },
  {
   "cell_type": "code",
   "execution_count": 27,
   "id": "8e2aa5cd-9b93-4229-b561-743483ac8ff2",
   "metadata": {},
   "outputs": [],
   "source": [
    "insta.to_csv('insta.csv', index=False)"
   ]
  },
  {
   "cell_type": "code",
   "execution_count": null,
   "id": "b91870b2-444c-436b-a5f3-dc81cfdcca6a",
   "metadata": {},
   "outputs": [],
   "source": []
  },
  {
   "cell_type": "code",
   "execution_count": null,
   "id": "aac6201d-4954-4499-a02a-0e5ca372d3fb",
   "metadata": {},
   "outputs": [],
   "source": []
  },
  {
   "cell_type": "code",
   "execution_count": null,
   "id": "c5a44e64-bbce-45b7-a23a-43983fa97fa3",
   "metadata": {},
   "outputs": [],
   "source": []
  }
 ],
 "metadata": {
  "kernelspec": {
   "display_name": "Python 3 (ipykernel)",
   "language": "python",
   "name": "python3"
  },
  "language_info": {
   "codemirror_mode": {
    "name": "ipython",
    "version": 3
   },
   "file_extension": ".py",
   "mimetype": "text/x-python",
   "name": "python",
   "nbconvert_exporter": "python",
   "pygments_lexer": "ipython3",
   "version": "3.11.3"
  }
 },
 "nbformat": 4,
 "nbformat_minor": 5
}
