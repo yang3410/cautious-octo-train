{
 "cells": [
  {
   "cell_type": "code",
   "execution_count": 1,
   "id": "3b1d596d",
   "metadata": {},
   "outputs": [],
   "source": [
    "import pandas as pd\n",
    "import numpy as np\n",
    "import matplotlib.pyplot as plt\n",
    "import re"
   ]
  },
  {
   "cell_type": "code",
   "execution_count": 2,
   "id": "b80c2bcf",
   "metadata": {},
   "outputs": [
    {
     "data": {
      "text/html": [
       "<div>\n",
       "<style scoped>\n",
       "    .dataframe tbody tr th:only-of-type {\n",
       "        vertical-align: middle;\n",
       "    }\n",
       "\n",
       "    .dataframe tbody tr th {\n",
       "        vertical-align: top;\n",
       "    }\n",
       "\n",
       "    .dataframe thead th {\n",
       "        text-align: right;\n",
       "    }\n",
       "</style>\n",
       "<table border=\"1\" class=\"dataframe\">\n",
       "  <thead>\n",
       "    <tr style=\"text-align: right;\">\n",
       "      <th></th>\n",
       "      <th>Unnamed: 0</th>\n",
       "      <th>created_at</th>\n",
       "      <th>text</th>\n",
       "    </tr>\n",
       "  </thead>\n",
       "  <tbody>\n",
       "    <tr>\n",
       "      <th>0</th>\n",
       "      <td>0</td>\n",
       "      <td>2020-06-11 06:30:00+00:00</td>\n",
       "      <td>TEMP 68.2degF F |Feelslike 68.8 degF |RH 67 % ...</td>\n",
       "    </tr>\n",
       "    <tr>\n",
       "      <th>1</th>\n",
       "      <td>1</td>\n",
       "      <td>2020-06-11 06:30:00+00:00</td>\n",
       "      <td>Comparison of Actors is the worst thing Ever !...</td>\n",
       "    </tr>\n",
       "    <tr>\n",
       "      <th>2</th>\n",
       "      <td>2</td>\n",
       "      <td>2020-06-11 06:30:00+00:00</td>\n",
       "      <td>Nitip</td>\n",
       "    </tr>\n",
       "    <tr>\n",
       "      <th>3</th>\n",
       "      <td>3</td>\n",
       "      <td>2020-06-11 06:30:00+00:00</td>\n",
       "      <td>Probably.</td>\n",
       "    </tr>\n",
       "    <tr>\n",
       "      <th>4</th>\n",
       "      <td>4</td>\n",
       "      <td>2020-06-11 06:30:00+00:00</td>\n",
       "      <td>Baby, how you doing? I know you're not doing t...</td>\n",
       "    </tr>\n",
       "  </tbody>\n",
       "</table>\n",
       "</div>"
      ],
      "text/plain": [
       "  Unnamed: 0                 created_at   \n",
       "0          0  2020-06-11 06:30:00+00:00  \\\n",
       "1          1  2020-06-11 06:30:00+00:00   \n",
       "2          2  2020-06-11 06:30:00+00:00   \n",
       "3          3  2020-06-11 06:30:00+00:00   \n",
       "4          4  2020-06-11 06:30:00+00:00   \n",
       "\n",
       "                                                text  \n",
       "0  TEMP 68.2degF F |Feelslike 68.8 degF |RH 67 % ...  \n",
       "1  Comparison of Actors is the worst thing Ever !...  \n",
       "2                                              Nitip  \n",
       "3                                          Probably.  \n",
       "4  Baby, how you doing? I know you're not doing t...  "
      ]
     },
     "execution_count": 2,
     "metadata": {},
     "output_type": "execute_result"
    }
   ],
   "source": [
    "#Read in data\n",
    "df = pd.read_csv(\"twitter_stream.csv\")\n",
    "df.head(5)"
   ]
  },
  {
   "cell_type": "code",
   "execution_count": 3,
   "id": "361d6982",
   "metadata": {},
   "outputs": [],
   "source": [
    "# Some extra cleaning. Replacing html ampersand codes.\n",
    "from w3lib.html import replace_entities\n",
    "df[\"text\"] = df[\"text\"].astype(str)\n",
    "df[\"text\"] = df[\"text\"].apply(replace_entities)"
   ]
  },
  {
   "cell_type": "markdown",
   "id": "99283f76",
   "metadata": {},
   "source": [
    "# Positive/Negative Word Counts\n",
    "Positive and negative word lists pulled from https://ptrckprry.com/course/ssd/data/positive-words.txt\n",
    "and https://ptrckprry.com/course/ssd/data/negative-words.txt\n",
    "respectively.\n",
    "\n",
    "First we read in the word lists and set up functions that will count their occurences."
   ]
  },
  {
   "cell_type": "code",
   "execution_count": 4,
   "id": "7283b7dd",
   "metadata": {},
   "outputs": [],
   "source": [
    "with open(\"wordLists/positive_words.txt\",'r') as file:\n",
    "    positive_words = file.read().splitlines()\n",
    "\n",
    "with open(\"wordLists/negative_words.txt\",'r') as file:\n",
    "    negative_words = file.read().splitlines()"
   ]
  },
  {
   "cell_type": "code",
   "execution_count": 5,
   "id": "35209d9d",
   "metadata": {},
   "outputs": [
    {
     "name": "stdout",
     "output_type": "stream",
     "text": [
      "2006\n",
      "4783\n"
     ]
    }
   ],
   "source": [
    "print(len(positive_words))\n",
    "print(len(negative_words))"
   ]
  },
  {
   "cell_type": "code",
   "execution_count": 6,
   "id": "6c6a5750",
   "metadata": {},
   "outputs": [],
   "source": [
    "#Functions that count the occurences of positive/negative words in a text string\n",
    "def count_positive(text):\n",
    "    counter = 0\n",
    "    for word in positive_words:\n",
    "        counter += text.lower().split().count(word)\n",
    "    return counter\n",
    "def count_negative(text):\n",
    "    counter = 0\n",
    "    for word in negative_words:\n",
    "        counter += text.lower().split().count(word)\n",
    "    return counter"
   ]
  },
  {
   "cell_type": "markdown",
   "id": "b57ebe78",
   "metadata": {},
   "source": [
    "We create the new features (this takes a minute to run)"
   ]
  },
  {
   "cell_type": "code",
   "execution_count": 7,
   "id": "7105f725",
   "metadata": {},
   "outputs": [],
   "source": [
    "df[\"positive_words\"] = df[\"text\"].apply(count_positive)"
   ]
  },
  {
   "cell_type": "code",
   "execution_count": 8,
   "id": "e62fe9ba",
   "metadata": {},
   "outputs": [],
   "source": [
    "df[\"negative_words\"] = df[\"text\"].apply(count_negative)"
   ]
  },
  {
   "cell_type": "markdown",
   "id": "432816f4",
   "metadata": {},
   "source": [
    "Look at some stats"
   ]
  },
  {
   "cell_type": "code",
   "execution_count": 9,
   "id": "2a9b7667",
   "metadata": {},
   "outputs": [
    {
     "data": {
      "text/plain": [
       "count    218167.000000\n",
       "mean          0.390426\n",
       "std           0.657715\n",
       "min           0.000000\n",
       "25%           0.000000\n",
       "50%           0.000000\n",
       "75%           1.000000\n",
       "max          11.000000\n",
       "Name: positive_words, dtype: float64"
      ]
     },
     "execution_count": 9,
     "metadata": {},
     "output_type": "execute_result"
    }
   ],
   "source": [
    "df.positive_words.describe()"
   ]
  },
  {
   "cell_type": "code",
   "execution_count": 10,
   "id": "f964bbc2",
   "metadata": {
    "scrolled": true
   },
   "outputs": [
    {
     "data": {
      "text/plain": [
       "count    218167.000000\n",
       "mean          0.390426\n",
       "std           0.657715\n",
       "min           0.000000\n",
       "25%           0.000000\n",
       "50%           0.000000\n",
       "75%           1.000000\n",
       "max          11.000000\n",
       "Name: positive_words, dtype: float64"
      ]
     },
     "execution_count": 10,
     "metadata": {},
     "output_type": "execute_result"
    }
   ],
   "source": [
    "df.positive_words.describe()"
   ]
  },
  {
   "cell_type": "markdown",
   "id": "2ca13fae",
   "metadata": {},
   "source": [
    "What are the most positive and negative tweets?"
   ]
  },
  {
   "cell_type": "code",
   "execution_count": 11,
   "id": "7f5768d3",
   "metadata": {},
   "outputs": [],
   "source": [
    "most_positive = df[\"positive_words\"].argmax()"
   ]
  },
  {
   "cell_type": "code",
   "execution_count": 12,
   "id": "9d10018b",
   "metadata": {},
   "outputs": [
    {
     "name": "stdout",
     "output_type": "stream",
     "text": [
      "I LOVE HIM I LOVE HIM I LOVE HIM I LOVE HIM I LOVE HIM I LOVE HIM I LOVE HIM I LOVE HIM I LOVE HIM I LOVE HIM I LOVE HIM I...\n",
      "11\n"
     ]
    }
   ],
   "source": [
    "print(df.iloc[most_positive].text)\n",
    "print(df.iloc[most_positive].positive_words)"
   ]
  },
  {
   "cell_type": "code",
   "execution_count": 13,
   "id": "a2a0f46d",
   "metadata": {},
   "outputs": [],
   "source": [
    "most_negative = df[\"negative_words\"].argmax()"
   ]
  },
  {
   "cell_type": "code",
   "execution_count": 14,
   "id": "a36731df",
   "metadata": {},
   "outputs": [
    {
     "name": "stdout",
     "output_type": "stream",
     "text": [
      "did maz get suspended no no no no fuck fuck fuck fuck fuck fuck fuck fuck fuck fuck fuck fuck fuck fuck fuck\n",
      "15\n"
     ]
    }
   ],
   "source": [
    "print(df.iloc[most_negative].text)\n",
    "print(df.iloc[most_negative].negative_words)"
   ]
  },
  {
   "cell_type": "code",
   "execution_count": 15,
   "id": "48630ef4",
   "metadata": {},
   "outputs": [
    {
     "data": {
      "image/png": "[encoded data removed]",
      "text/plain": [
       "<Figure size 640x480 with 1 Axes>"
      ]
     },
     "metadata": {},
     "output_type": "display_data"
    },
    {
     "data": {
      "image/png": "[encoded data removed]",
      "text/plain": [
       "<Figure size 640x480 with 1 Axes>"
      ]
     },
     "metadata": {},
     "output_type": "display_data"
    }
   ],
   "source": [
    "plt.hist(df.positive_words, bins = df.positive_words.max())\n",
    "plt.show()\n",
    "plt.hist(df.negative_words, bins = df.negative_words.max())\n",
    "plt.show()"
   ]
  },
  {
   "cell_type": "markdown",
   "id": "11e3a441",
   "metadata": {},
   "source": [
    "# Text Length"
   ]
  },
  {
   "cell_type": "code",
   "execution_count": 16,
   "id": "c06ada29",
   "metadata": {},
   "outputs": [],
   "source": [
    "df[\"length\"] = df[\"text\"].apply(len)\n",
    "df[\"word_count\"] = df[\"text\"].apply((lambda s:len(s.split())))"
   ]
  },
  {
   "cell_type": "code",
   "execution_count": 17,
   "id": "fd07472d",
   "metadata": {
    "scrolled": false
   },
   "outputs": [
    {
     "data": {
      "image/png": "[encoded data removed]",
      "text/plain": [
       "<Figure size 640x480 with 1 Axes>"
      ]
     },
     "metadata": {},
     "output_type": "display_data"
    },
    {
     "data": {
      "image/png": "[encoded data removed]",
      "text/plain": [
       "<Figure size 640x480 with 1 Axes>"
      ]
     },
     "metadata": {},
     "output_type": "display_data"
    }
   ],
   "source": [
    "plt.hist(df[\"length\"])\n",
    "plt.show()\n",
    "plt.hist(df[\"word_count\"])\n",
    "plt.show()"
   ]
  },
  {
   "cell_type": "markdown",
   "id": "8c59f825",
   "metadata": {},
   "source": [
    "# Male and Female words\n",
    "Word lists adapted from https://github.com/DanielleSucher/Jailbreak-the-Patriarchy/blob/master/myscript.js"
   ]
  },
  {
   "cell_type": "code",
   "execution_count": 18,
   "id": "b4c5a158",
   "metadata": {},
   "outputs": [],
   "source": [
    "with open(\"wordLists/male_words\", 'r') as file:\n",
    "    male_words = file.read().splitlines()"
   ]
  },
  {
   "cell_type": "code",
   "execution_count": 19,
   "id": "7dce7877",
   "metadata": {},
   "outputs": [],
   "source": [
    "with open(\"wordLists/female_words\", 'r') as file:\n",
    "    female_words = file.read().splitlines()"
   ]
  },
  {
   "cell_type": "code",
   "execution_count": 20,
   "id": "12c14826",
   "metadata": {},
   "outputs": [],
   "source": [
    "def count_male(text):\n",
    "    counter = 0\n",
    "    for word in male_words:\n",
    "        counter += text.lower().split().count(word)\n",
    "    return counter\n",
    "def count_female(text):\n",
    "    counter = 0\n",
    "    for word in female_words:\n",
    "        counter += text.lower().split().count(word)\n",
    "    return counter"
   ]
  },
  {
   "cell_type": "code",
   "execution_count": 21,
   "id": "a4cf5bca",
   "metadata": {},
   "outputs": [],
   "source": [
    "df[\"male_words\"] = df[\"text\"].apply(count_male)"
   ]
  },
  {
   "cell_type": "code",
   "execution_count": 22,
   "id": "f19d541a",
   "metadata": {},
   "outputs": [],
   "source": [
    "df[\"female_words\"] = df[\"text\"].apply(count_female)"
   ]
  },
  {
   "cell_type": "code",
   "execution_count": 23,
   "id": "9675b794",
   "metadata": {},
   "outputs": [
    {
     "data": {
      "text/plain": [
       "count    218167.000000\n",
       "mean          0.151114\n",
       "std           0.593380\n",
       "min           0.000000\n",
       "25%           0.000000\n",
       "50%           0.000000\n",
       "75%           0.000000\n",
       "max          15.000000\n",
       "Name: male_words, dtype: float64"
      ]
     },
     "execution_count": 23,
     "metadata": {},
     "output_type": "execute_result"
    }
   ],
   "source": [
    "df[\"male_words\"].describe()"
   ]
  },
  {
   "cell_type": "code",
   "execution_count": 24,
   "id": "d8bf9b69",
   "metadata": {
    "scrolled": true
   },
   "outputs": [
    {
     "data": {
      "text/plain": [
       "count    218167.000000\n",
       "mean          0.107541\n",
       "std           0.539676\n",
       "min           0.000000\n",
       "25%           0.000000\n",
       "50%           0.000000\n",
       "75%           0.000000\n",
       "max          20.000000\n",
       "Name: female_words, dtype: float64"
      ]
     },
     "execution_count": 24,
     "metadata": {},
     "output_type": "execute_result"
    }
   ],
   "source": [
    "df[\"female_words\"].describe()"
   ]
  },
  {
   "cell_type": "markdown",
   "id": "d682b828",
   "metadata": {},
   "source": [
    "What are the most male and female tweets in the dataset?"
   ]
  },
  {
   "cell_type": "code",
   "execution_count": 25,
   "id": "a2d6fb8c",
   "metadata": {},
   "outputs": [
    {
     "data": {
      "text/plain": [
       "'trans women are women trans women are women trans women are women trans women are women trans women are women repeat after me...'"
      ]
     },
     "execution_count": 25,
     "metadata": {},
     "output_type": "execute_result"
    }
   ],
   "source": [
    "df.iloc[df[\"female_words\"].argmax()].text"
   ]
  },
  {
   "cell_type": "code",
   "execution_count": 26,
   "id": "07fee301",
   "metadata": {},
   "outputs": [
    {
     "data": {
      "text/plain": [
       "'King & Prince Mazy Night  King & Prince Mazy Night King & Prince Mazy Night King & Prince Mazy Night King & Prince Mazy Nigh...'"
      ]
     },
     "execution_count": 26,
     "metadata": {},
     "output_type": "execute_result"
    }
   ],
   "source": [
    "df.iloc[df[\"male_words\"].argmax()].text"
   ]
  },
  {
   "cell_type": "markdown",
   "id": "318d0c13",
   "metadata": {},
   "source": [
    "# Sentiment analysis scores from Afinn"
   ]
  },
  {
   "cell_type": "code",
   "execution_count": null,
   "id": "833352f7",
   "metadata": {},
   "outputs": [],
   "source": [
    "from afinn import Afinn\n",
    "afinn = Afinn(language='en')\n",
    "df[\"afinn\"] = df[\"text\"].apply(afinn.score)"
   ]
  },
  {
   "cell_type": "code",
   "execution_count": null,
   "id": "68342483",
   "metadata": {},
   "outputs": [],
   "source": [
    "df.sample(10)"
   ]
  },
  {
   "cell_type": "code",
   "execution_count": null,
   "id": "7a248c3f",
   "metadata": {},
   "outputs": [],
   "source": [
    "df[\"a\"]"
   ]
  },
  {
   "cell_type": "markdown",
   "id": "20c1f14c",
   "metadata": {},
   "source": [
    "# Save the resulting Dataframe!"
   ]
  },
  {
   "cell_type": "code",
   "execution_count": null,
   "id": "20a190f4",
   "metadata": {},
   "outputs": [],
   "source": [
    "df.to_csv(\"twitter_stream_with_features.csv\")"
   ]
  }
 ],
 "metadata": {
  "kernelspec": {
   "display_name": "Python 3 (ipykernel)",
   "language": "python",
   "name": "python3"
  },
  "language_info": {
   "codemirror_mode": {
    "name": "ipython",
    "version": 3
   },
   "file_extension": ".py",
   "mimetype": "text/x-python",
   "name": "python",
   "nbconvert_exporter": "python",
   "pygments_lexer": "ipython3",
   "version": "3.11.0"
  }
 },
 "nbformat": 4,
 "nbformat_minor": 5
}
