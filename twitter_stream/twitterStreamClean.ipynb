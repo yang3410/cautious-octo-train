{
 "cells": [
  {
   "cell_type": "code",
   "execution_count": 1,
   "id": "4645d7ee",
   "metadata": {},
   "outputs": [],
   "source": [
    "import numpy as np\n",
    "import pandas as pd\n",
    "import re\n",
    "from unidecode import unidecode"
   ]
  },
  {
   "cell_type": "code",
   "execution_count": 2,
   "id": "4328873b",
   "metadata": {},
   "outputs": [],
   "source": [
    "def clean_string(s):\n",
    "    s = unidecode(s)\n",
    "    #Replace newlines with spaces\n",
    "    s = s.replace(\"\\n\",\" \")\n",
    "    #Delete handles\n",
    "    s = re.sub(r\"@(.+?)\\b:*\",\"\",s)\n",
    "    #Delete \"RT\"\n",
    "    s = re.sub(r\"RT\",\"\",s)\n",
    "    #Delete hashtags\n",
    "    s = re.sub(r\"#(.+?)\\b\",\"\",s)\n",
    "    #Delete hyperlinks\n",
    "    s = re.sub(r\"http(.+?)(?:$|\\s)\",\"\",s)\n",
    "    s = s.strip()\n",
    "    return s"
   ]
  },
  {
   "cell_type": "code",
   "execution_count": 3,
   "id": "01a3de43",
   "metadata": {},
   "outputs": [],
   "source": [
    "def cleanDataframe(df):\n",
    "    print(f\"Before:\\t{df.shape}\")\n",
    "    df = df.copy()\n",
    "\n",
    "    #Remove unnecessary columns\n",
    "    df=df[[\"created_at\",\"text\",\"truncated\",\"lang\"]]\n",
    "\n",
    "    #Drop rows with missing text\n",
    "    df.dropna(subset=[\"text\"], inplace=True)\n",
    "\n",
    "    #Drop rows with truncated text\n",
    "    df = df.loc[df[\"truncated\"]==0]\n",
    "    df.shape\n",
    "\n",
    "    #Drop all non-English entries\n",
    "    df = df.loc[df[\"lang\"]==\"en\"]\n",
    "    df.shape\n",
    "\n",
    "    #Drop the now-unnecessary columns\n",
    "    df = df[[\"created_at\",\"text\"]]\n",
    "\n",
    "    #Clean the strings\n",
    "    df[\"text\"] = df[\"text\"].apply(clean_string)\n",
    "    df.sample(10, random_state=11)\n",
    "\n",
    "    #Reset the index\n",
    "    df.reset_index(drop=True,inplace=True)\n",
    "    \n",
    "    print(f\"After:\\t{df.shape}\")\n",
    "    return df"
   ]
  },
  {
   "cell_type": "code",
   "execution_count": 4,
   "id": "1271ea51",
   "metadata": {},
   "outputs": [
    {
     "name": "stdout",
     "output_type": "stream",
     "text": [
      "30.json.bz2\n"
     ]
    },
    {
     "name": "stderr",
     "output_type": "stream",
     "text": [
      "/tmp/ipykernel_16517/835439046.py:10: FutureWarning: The behavior of 'to_datetime' with 'unit' when parsing strings is deprecated. In a future version, strings will be parsed as datetime strings, matching the behavior without a 'unit'. To retain the old behavior, explicitly cast ints or floats to numeric type before calling to_datetime.\n",
      "  df = pd.read_json(os.path.join(path,file_name), lines=True, convert_dates=[\"created_at\",\"timestamp_ms\"])\n",
      "/tmp/ipykernel_16517/835439046.py:10: FutureWarning: The behavior of 'to_datetime' with 'unit' when parsing strings is deprecated. In a future version, strings will be parsed as datetime strings, matching the behavior without a 'unit'. To retain the old behavior, explicitly cast ints or floats to numeric type before calling to_datetime.\n",
      "  df = pd.read_json(os.path.join(path,file_name), lines=True, convert_dates=[\"created_at\",\"timestamp_ms\"])\n"
     ]
    },
    {
     "name": "stdout",
     "output_type": "stream",
     "text": [
      "Before:\t(3239, 37)\n",
      "After:\t(790, 2)\n",
      "Full shape: (790, 2)\n",
      "51.json.bz2\n"
     ]
    },
    {
     "name": "stderr",
     "output_type": "stream",
     "text": [
      "/tmp/ipykernel_16517/835439046.py:10: FutureWarning: The behavior of 'to_datetime' with 'unit' when parsing strings is deprecated. In a future version, strings will be parsed as datetime strings, matching the behavior without a 'unit'. To retain the old behavior, explicitly cast ints or floats to numeric type before calling to_datetime.\n",
      "  df = pd.read_json(os.path.join(path,file_name), lines=True, convert_dates=[\"created_at\",\"timestamp_ms\"])\n",
      "/tmp/ipykernel_16517/835439046.py:10: FutureWarning: The behavior of 'to_datetime' with 'unit' when parsing strings is deprecated. In a future version, strings will be parsed as datetime strings, matching the behavior without a 'unit'. To retain the old behavior, explicitly cast ints or floats to numeric type before calling to_datetime.\n",
      "  df = pd.read_json(os.path.join(path,file_name), lines=True, convert_dates=[\"created_at\",\"timestamp_ms\"])\n"
     ]
    },
    {
     "name": "stdout",
     "output_type": "stream",
     "text": [
      "Before:\t(3468, 38)\n",
      "After:\t(752, 2)\n",
      "Full shape: (1542, 2)\n",
      "54.json.bz2\n"
     ]
    },
    {
     "name": "stderr",
     "output_type": "stream",
     "text": [
      "/tmp/ipykernel_16517/835439046.py:10: FutureWarning: The behavior of 'to_datetime' with 'unit' when parsing strings is deprecated. In a future version, strings will be parsed as datetime strings, matching the behavior without a 'unit'. To retain the old behavior, explicitly cast ints or floats to numeric type before calling to_datetime.\n",
      "  df = pd.read_json(os.path.join(path,file_name), lines=True, convert_dates=[\"created_at\",\"timestamp_ms\"])\n",
      "/tmp/ipykernel_16517/835439046.py:10: FutureWarning: The behavior of 'to_datetime' with 'unit' when parsing strings is deprecated. In a future version, strings will be parsed as datetime strings, matching the behavior without a 'unit'. To retain the old behavior, explicitly cast ints or floats to numeric type before calling to_datetime.\n",
      "  df = pd.read_json(os.path.join(path,file_name), lines=True, convert_dates=[\"created_at\",\"timestamp_ms\"])\n"
     ]
    },
    {
     "name": "stdout",
     "output_type": "stream",
     "text": [
      "Before:\t(3018, 37)\n",
      "After:\t(732, 2)\n",
      "Full shape: (2274, 2)\n",
      "55.json.bz2\n"
     ]
    },
    {
     "name": "stderr",
     "output_type": "stream",
     "text": [
      "/tmp/ipykernel_16517/835439046.py:10: FutureWarning: The behavior of 'to_datetime' with 'unit' when parsing strings is deprecated. In a future version, strings will be parsed as datetime strings, matching the behavior without a 'unit'. To retain the old behavior, explicitly cast ints or floats to numeric type before calling to_datetime.\n",
      "  df = pd.read_json(os.path.join(path,file_name), lines=True, convert_dates=[\"created_at\",\"timestamp_ms\"])\n",
      "/tmp/ipykernel_16517/835439046.py:10: FutureWarning: The behavior of 'to_datetime' with 'unit' when parsing strings is deprecated. In a future version, strings will be parsed as datetime strings, matching the behavior without a 'unit'. To retain the old behavior, explicitly cast ints or floats to numeric type before calling to_datetime.\n",
      "  df = pd.read_json(os.path.join(path,file_name), lines=True, convert_dates=[\"created_at\",\"timestamp_ms\"])\n"
     ]
    },
    {
     "name": "stdout",
     "output_type": "stream",
     "text": [
      "Before:\t(2947, 37)\n",
      "After:\t(728, 2)\n",
      "Full shape: (3002, 2)\n",
      "58.json.bz2\n"
     ]
    },
    {
     "name": "stderr",
     "output_type": "stream",
     "text": [
      "/tmp/ipykernel_16517/835439046.py:10: FutureWarning: The behavior of 'to_datetime' with 'unit' when parsing strings is deprecated. In a future version, strings will be parsed as datetime strings, matching the behavior without a 'unit'. To retain the old behavior, explicitly cast ints or floats to numeric type before calling to_datetime.\n",
      "  df = pd.read_json(os.path.join(path,file_name), lines=True, convert_dates=[\"created_at\",\"timestamp_ms\"])\n",
      "/tmp/ipykernel_16517/835439046.py:10: FutureWarning: The behavior of 'to_datetime' with 'unit' when parsing strings is deprecated. In a future version, strings will be parsed as datetime strings, matching the behavior without a 'unit'. To retain the old behavior, explicitly cast ints or floats to numeric type before calling to_datetime.\n",
      "  df = pd.read_json(os.path.join(path,file_name), lines=True, convert_dates=[\"created_at\",\"timestamp_ms\"])\n"
     ]
    },
    {
     "name": "stdout",
     "output_type": "stream",
     "text": [
      "Before:\t(2974, 37)\n",
      "After:\t(726, 2)\n",
      "Full shape: (3728, 2)\n",
      "33.json.bz2\n"
     ]
    },
    {
     "name": "stderr",
     "output_type": "stream",
     "text": [
      "/tmp/ipykernel_16517/835439046.py:10: FutureWarning: The behavior of 'to_datetime' with 'unit' when parsing strings is deprecated. In a future version, strings will be parsed as datetime strings, matching the behavior without a 'unit'. To retain the old behavior, explicitly cast ints or floats to numeric type before calling to_datetime.\n",
      "  df = pd.read_json(os.path.join(path,file_name), lines=True, convert_dates=[\"created_at\",\"timestamp_ms\"])\n",
      "/tmp/ipykernel_16517/835439046.py:10: FutureWarning: The behavior of 'to_datetime' with 'unit' when parsing strings is deprecated. In a future version, strings will be parsed as datetime strings, matching the behavior without a 'unit'. To retain the old behavior, explicitly cast ints or floats to numeric type before calling to_datetime.\n",
      "  df = pd.read_json(os.path.join(path,file_name), lines=True, convert_dates=[\"created_at\",\"timestamp_ms\"])\n"
     ]
    },
    {
     "name": "stdout",
     "output_type": "stream",
     "text": [
      "Before:\t(3295, 38)\n",
      "After:\t(773, 2)\n",
      "Full shape: (4501, 2)\n",
      "48.json.bz2\n"
     ]
    },
    {
     "name": "stderr",
     "output_type": "stream",
     "text": [
      "/tmp/ipykernel_16517/835439046.py:10: FutureWarning: The behavior of 'to_datetime' with 'unit' when parsing strings is deprecated. In a future version, strings will be parsed as datetime strings, matching the behavior without a 'unit'. To retain the old behavior, explicitly cast ints or floats to numeric type before calling to_datetime.\n",
      "  df = pd.read_json(os.path.join(path,file_name), lines=True, convert_dates=[\"created_at\",\"timestamp_ms\"])\n",
      "/tmp/ipykernel_16517/835439046.py:10: FutureWarning: The behavior of 'to_datetime' with 'unit' when parsing strings is deprecated. In a future version, strings will be parsed as datetime strings, matching the behavior without a 'unit'. To retain the old behavior, explicitly cast ints or floats to numeric type before calling to_datetime.\n",
      "  df = pd.read_json(os.path.join(path,file_name), lines=True, convert_dates=[\"created_at\",\"timestamp_ms\"])\n"
     ]
    },
    {
     "name": "stdout",
     "output_type": "stream",
     "text": [
      "Before:\t(2906, 37)\n",
      "After:\t(757, 2)\n",
      "Full shape: (5258, 2)\n",
      "56.json.bz2\n"
     ]
    },
    {
     "name": "stderr",
     "output_type": "stream",
     "text": [
      "/tmp/ipykernel_16517/835439046.py:10: FutureWarning: The behavior of 'to_datetime' with 'unit' when parsing strings is deprecated. In a future version, strings will be parsed as datetime strings, matching the behavior without a 'unit'. To retain the old behavior, explicitly cast ints or floats to numeric type before calling to_datetime.\n",
      "  df = pd.read_json(os.path.join(path,file_name), lines=True, convert_dates=[\"created_at\",\"timestamp_ms\"])\n",
      "/tmp/ipykernel_16517/835439046.py:10: FutureWarning: The behavior of 'to_datetime' with 'unit' when parsing strings is deprecated. In a future version, strings will be parsed as datetime strings, matching the behavior without a 'unit'. To retain the old behavior, explicitly cast ints or floats to numeric type before calling to_datetime.\n",
      "  df = pd.read_json(os.path.join(path,file_name), lines=True, convert_dates=[\"created_at\",\"timestamp_ms\"])\n"
     ]
    },
    {
     "name": "stdout",
     "output_type": "stream",
     "text": [
      "Before:\t(2868, 38)\n",
      "After:\t(725, 2)\n",
      "Full shape: (5983, 2)\n",
      "43.json.bz2\n"
     ]
    },
    {
     "name": "stderr",
     "output_type": "stream",
     "text": [
      "/tmp/ipykernel_16517/835439046.py:10: FutureWarning: The behavior of 'to_datetime' with 'unit' when parsing strings is deprecated. In a future version, strings will be parsed as datetime strings, matching the behavior without a 'unit'. To retain the old behavior, explicitly cast ints or floats to numeric type before calling to_datetime.\n",
      "  df = pd.read_json(os.path.join(path,file_name), lines=True, convert_dates=[\"created_at\",\"timestamp_ms\"])\n",
      "/tmp/ipykernel_16517/835439046.py:10: FutureWarning: The behavior of 'to_datetime' with 'unit' when parsing strings is deprecated. In a future version, strings will be parsed as datetime strings, matching the behavior without a 'unit'. To retain the old behavior, explicitly cast ints or floats to numeric type before calling to_datetime.\n",
      "  df = pd.read_json(os.path.join(path,file_name), lines=True, convert_dates=[\"created_at\",\"timestamp_ms\"])\n"
     ]
    },
    {
     "name": "stdout",
     "output_type": "stream",
     "text": [
      "Before:\t(3241, 37)\n",
      "After:\t(694, 2)\n",
      "Full shape: (6677, 2)\n",
      "47.json.bz2\n"
     ]
    },
    {
     "name": "stderr",
     "output_type": "stream",
     "text": [
      "/tmp/ipykernel_16517/835439046.py:10: FutureWarning: The behavior of 'to_datetime' with 'unit' when parsing strings is deprecated. In a future version, strings will be parsed as datetime strings, matching the behavior without a 'unit'. To retain the old behavior, explicitly cast ints or floats to numeric type before calling to_datetime.\n",
      "  df = pd.read_json(os.path.join(path,file_name), lines=True, convert_dates=[\"created_at\",\"timestamp_ms\"])\n",
      "/tmp/ipykernel_16517/835439046.py:10: FutureWarning: The behavior of 'to_datetime' with 'unit' when parsing strings is deprecated. In a future version, strings will be parsed as datetime strings, matching the behavior without a 'unit'. To retain the old behavior, explicitly cast ints or floats to numeric type before calling to_datetime.\n",
      "  df = pd.read_json(os.path.join(path,file_name), lines=True, convert_dates=[\"created_at\",\"timestamp_ms\"])\n"
     ]
    },
    {
     "name": "stdout",
     "output_type": "stream",
     "text": [
      "Before:\t(2960, 37)\n",
      "After:\t(774, 2)\n",
      "Full shape: (7451, 2)\n",
      "42.json.bz2\n"
     ]
    },
    {
     "name": "stderr",
     "output_type": "stream",
     "text": [
      "/tmp/ipykernel_16517/835439046.py:10: FutureWarning: The behavior of 'to_datetime' with 'unit' when parsing strings is deprecated. In a future version, strings will be parsed as datetime strings, matching the behavior without a 'unit'. To retain the old behavior, explicitly cast ints or floats to numeric type before calling to_datetime.\n",
      "  df = pd.read_json(os.path.join(path,file_name), lines=True, convert_dates=[\"created_at\",\"timestamp_ms\"])\n",
      "/tmp/ipykernel_16517/835439046.py:10: FutureWarning: The behavior of 'to_datetime' with 'unit' when parsing strings is deprecated. In a future version, strings will be parsed as datetime strings, matching the behavior without a 'unit'. To retain the old behavior, explicitly cast ints or floats to numeric type before calling to_datetime.\n",
      "  df = pd.read_json(os.path.join(path,file_name), lines=True, convert_dates=[\"created_at\",\"timestamp_ms\"])\n"
     ]
    },
    {
     "name": "stdout",
     "output_type": "stream",
     "text": [
      "Before:\t(3380, 37)\n",
      "After:\t(747, 2)\n",
      "Full shape: (8198, 2)\n",
      "31.json.bz2\n"
     ]
    },
    {
     "name": "stderr",
     "output_type": "stream",
     "text": [
      "/tmp/ipykernel_16517/835439046.py:10: FutureWarning: The behavior of 'to_datetime' with 'unit' when parsing strings is deprecated. In a future version, strings will be parsed as datetime strings, matching the behavior without a 'unit'. To retain the old behavior, explicitly cast ints or floats to numeric type before calling to_datetime.\n",
      "  df = pd.read_json(os.path.join(path,file_name), lines=True, convert_dates=[\"created_at\",\"timestamp_ms\"])\n",
      "/tmp/ipykernel_16517/835439046.py:10: FutureWarning: The behavior of 'to_datetime' with 'unit' when parsing strings is deprecated. In a future version, strings will be parsed as datetime strings, matching the behavior without a 'unit'. To retain the old behavior, explicitly cast ints or floats to numeric type before calling to_datetime.\n",
      "  df = pd.read_json(os.path.join(path,file_name), lines=True, convert_dates=[\"created_at\",\"timestamp_ms\"])\n"
     ]
    },
    {
     "name": "stdout",
     "output_type": "stream",
     "text": [
      "Before:\t(3005, 37)\n",
      "After:\t(755, 2)\n",
      "Full shape: (8953, 2)\n",
      "52.json.bz2\n"
     ]
    },
    {
     "name": "stderr",
     "output_type": "stream",
     "text": [
      "/tmp/ipykernel_16517/835439046.py:10: FutureWarning: The behavior of 'to_datetime' with 'unit' when parsing strings is deprecated. In a future version, strings will be parsed as datetime strings, matching the behavior without a 'unit'. To retain the old behavior, explicitly cast ints or floats to numeric type before calling to_datetime.\n",
      "  df = pd.read_json(os.path.join(path,file_name), lines=True, convert_dates=[\"created_at\",\"timestamp_ms\"])\n",
      "/tmp/ipykernel_16517/835439046.py:10: FutureWarning: The behavior of 'to_datetime' with 'unit' when parsing strings is deprecated. In a future version, strings will be parsed as datetime strings, matching the behavior without a 'unit'. To retain the old behavior, explicitly cast ints or floats to numeric type before calling to_datetime.\n",
      "  df = pd.read_json(os.path.join(path,file_name), lines=True, convert_dates=[\"created_at\",\"timestamp_ms\"])\n"
     ]
    },
    {
     "name": "stdout",
     "output_type": "stream",
     "text": [
      "Before:\t(3016, 37)\n",
      "After:\t(682, 2)\n",
      "Full shape: (9635, 2)\n",
      "35.json.bz2\n"
     ]
    },
    {
     "name": "stderr",
     "output_type": "stream",
     "text": [
      "/tmp/ipykernel_16517/835439046.py:10: FutureWarning: The behavior of 'to_datetime' with 'unit' when parsing strings is deprecated. In a future version, strings will be parsed as datetime strings, matching the behavior without a 'unit'. To retain the old behavior, explicitly cast ints or floats to numeric type before calling to_datetime.\n",
      "  df = pd.read_json(os.path.join(path,file_name), lines=True, convert_dates=[\"created_at\",\"timestamp_ms\"])\n",
      "/tmp/ipykernel_16517/835439046.py:10: FutureWarning: The behavior of 'to_datetime' with 'unit' when parsing strings is deprecated. In a future version, strings will be parsed as datetime strings, matching the behavior without a 'unit'. To retain the old behavior, explicitly cast ints or floats to numeric type before calling to_datetime.\n",
      "  df = pd.read_json(os.path.join(path,file_name), lines=True, convert_dates=[\"created_at\",\"timestamp_ms\"])\n"
     ]
    },
    {
     "name": "stdout",
     "output_type": "stream",
     "text": [
      "Before:\t(3052, 37)\n",
      "After:\t(724, 2)\n",
      "Full shape: (10359, 2)\n",
      "40.json.bz2\n"
     ]
    },
    {
     "name": "stderr",
     "output_type": "stream",
     "text": [
      "/tmp/ipykernel_16517/835439046.py:10: FutureWarning: The behavior of 'to_datetime' with 'unit' when parsing strings is deprecated. In a future version, strings will be parsed as datetime strings, matching the behavior without a 'unit'. To retain the old behavior, explicitly cast ints or floats to numeric type before calling to_datetime.\n",
      "  df = pd.read_json(os.path.join(path,file_name), lines=True, convert_dates=[\"created_at\",\"timestamp_ms\"])\n",
      "/tmp/ipykernel_16517/835439046.py:10: FutureWarning: The behavior of 'to_datetime' with 'unit' when parsing strings is deprecated. In a future version, strings will be parsed as datetime strings, matching the behavior without a 'unit'. To retain the old behavior, explicitly cast ints or floats to numeric type before calling to_datetime.\n",
      "  df = pd.read_json(os.path.join(path,file_name), lines=True, convert_dates=[\"created_at\",\"timestamp_ms\"])\n"
     ]
    },
    {
     "name": "stdout",
     "output_type": "stream",
     "text": [
      "Before:\t(2919, 37)\n",
      "After:\t(743, 2)\n",
      "Full shape: (11102, 2)\n",
      "46.json.bz2\n"
     ]
    },
    {
     "name": "stderr",
     "output_type": "stream",
     "text": [
      "/tmp/ipykernel_16517/835439046.py:10: FutureWarning: The behavior of 'to_datetime' with 'unit' when parsing strings is deprecated. In a future version, strings will be parsed as datetime strings, matching the behavior without a 'unit'. To retain the old behavior, explicitly cast ints or floats to numeric type before calling to_datetime.\n",
      "  df = pd.read_json(os.path.join(path,file_name), lines=True, convert_dates=[\"created_at\",\"timestamp_ms\"])\n",
      "/tmp/ipykernel_16517/835439046.py:10: FutureWarning: The behavior of 'to_datetime' with 'unit' when parsing strings is deprecated. In a future version, strings will be parsed as datetime strings, matching the behavior without a 'unit'. To retain the old behavior, explicitly cast ints or floats to numeric type before calling to_datetime.\n",
      "  df = pd.read_json(os.path.join(path,file_name), lines=True, convert_dates=[\"created_at\",\"timestamp_ms\"])\n"
     ]
    },
    {
     "name": "stdout",
     "output_type": "stream",
     "text": [
      "Before:\t(3004, 37)\n",
      "After:\t(717, 2)\n",
      "Full shape: (11819, 2)\n",
      "49.json.bz2\n"
     ]
    },
    {
     "name": "stderr",
     "output_type": "stream",
     "text": [
      "/tmp/ipykernel_16517/835439046.py:10: FutureWarning: The behavior of 'to_datetime' with 'unit' when parsing strings is deprecated. In a future version, strings will be parsed as datetime strings, matching the behavior without a 'unit'. To retain the old behavior, explicitly cast ints or floats to numeric type before calling to_datetime.\n",
      "  df = pd.read_json(os.path.join(path,file_name), lines=True, convert_dates=[\"created_at\",\"timestamp_ms\"])\n",
      "/tmp/ipykernel_16517/835439046.py:10: FutureWarning: The behavior of 'to_datetime' with 'unit' when parsing strings is deprecated. In a future version, strings will be parsed as datetime strings, matching the behavior without a 'unit'. To retain the old behavior, explicitly cast ints or floats to numeric type before calling to_datetime.\n",
      "  df = pd.read_json(os.path.join(path,file_name), lines=True, convert_dates=[\"created_at\",\"timestamp_ms\"])\n"
     ]
    },
    {
     "name": "stdout",
     "output_type": "stream",
     "text": [
      "Before:\t(3020, 37)\n",
      "After:\t(709, 2)\n",
      "Full shape: (12528, 2)\n",
      "59.json.bz2\n"
     ]
    },
    {
     "name": "stderr",
     "output_type": "stream",
     "text": [
      "/tmp/ipykernel_16517/835439046.py:10: FutureWarning: The behavior of 'to_datetime' with 'unit' when parsing strings is deprecated. In a future version, strings will be parsed as datetime strings, matching the behavior without a 'unit'. To retain the old behavior, explicitly cast ints or floats to numeric type before calling to_datetime.\n",
      "  df = pd.read_json(os.path.join(path,file_name), lines=True, convert_dates=[\"created_at\",\"timestamp_ms\"])\n",
      "/tmp/ipykernel_16517/835439046.py:10: FutureWarning: The behavior of 'to_datetime' with 'unit' when parsing strings is deprecated. In a future version, strings will be parsed as datetime strings, matching the behavior without a 'unit'. To retain the old behavior, explicitly cast ints or floats to numeric type before calling to_datetime.\n",
      "  df = pd.read_json(os.path.join(path,file_name), lines=True, convert_dates=[\"created_at\",\"timestamp_ms\"])\n"
     ]
    },
    {
     "name": "stdout",
     "output_type": "stream",
     "text": [
      "Before:\t(2882, 37)\n",
      "After:\t(742, 2)\n",
      "Full shape: (13270, 2)\n",
      "45.json.bz2\n"
     ]
    },
    {
     "name": "stderr",
     "output_type": "stream",
     "text": [
      "/tmp/ipykernel_16517/835439046.py:10: FutureWarning: The behavior of 'to_datetime' with 'unit' when parsing strings is deprecated. In a future version, strings will be parsed as datetime strings, matching the behavior without a 'unit'. To retain the old behavior, explicitly cast ints or floats to numeric type before calling to_datetime.\n",
      "  df = pd.read_json(os.path.join(path,file_name), lines=True, convert_dates=[\"created_at\",\"timestamp_ms\"])\n",
      "/tmp/ipykernel_16517/835439046.py:10: FutureWarning: The behavior of 'to_datetime' with 'unit' when parsing strings is deprecated. In a future version, strings will be parsed as datetime strings, matching the behavior without a 'unit'. To retain the old behavior, explicitly cast ints or floats to numeric type before calling to_datetime.\n",
      "  df = pd.read_json(os.path.join(path,file_name), lines=True, convert_dates=[\"created_at\",\"timestamp_ms\"])\n"
     ]
    },
    {
     "name": "stdout",
     "output_type": "stream",
     "text": [
      "Before:\t(3049, 37)\n",
      "After:\t(720, 2)\n",
      "Full shape: (13990, 2)\n",
      "53.json.bz2\n"
     ]
    },
    {
     "name": "stderr",
     "output_type": "stream",
     "text": [
      "/tmp/ipykernel_16517/835439046.py:10: FutureWarning: The behavior of 'to_datetime' with 'unit' when parsing strings is deprecated. In a future version, strings will be parsed as datetime strings, matching the behavior without a 'unit'. To retain the old behavior, explicitly cast ints or floats to numeric type before calling to_datetime.\n",
      "  df = pd.read_json(os.path.join(path,file_name), lines=True, convert_dates=[\"created_at\",\"timestamp_ms\"])\n",
      "/tmp/ipykernel_16517/835439046.py:10: FutureWarning: The behavior of 'to_datetime' with 'unit' when parsing strings is deprecated. In a future version, strings will be parsed as datetime strings, matching the behavior without a 'unit'. To retain the old behavior, explicitly cast ints or floats to numeric type before calling to_datetime.\n",
      "  df = pd.read_json(os.path.join(path,file_name), lines=True, convert_dates=[\"created_at\",\"timestamp_ms\"])\n"
     ]
    },
    {
     "name": "stdout",
     "output_type": "stream",
     "text": [
      "Before:\t(3185, 38)\n",
      "After:\t(758, 2)\n",
      "Full shape: (14748, 2)\n",
      "50.json.bz2\n"
     ]
    },
    {
     "name": "stderr",
     "output_type": "stream",
     "text": [
      "/tmp/ipykernel_16517/835439046.py:10: FutureWarning: The behavior of 'to_datetime' with 'unit' when parsing strings is deprecated. In a future version, strings will be parsed as datetime strings, matching the behavior without a 'unit'. To retain the old behavior, explicitly cast ints or floats to numeric type before calling to_datetime.\n",
      "  df = pd.read_json(os.path.join(path,file_name), lines=True, convert_dates=[\"created_at\",\"timestamp_ms\"])\n",
      "/tmp/ipykernel_16517/835439046.py:10: FutureWarning: The behavior of 'to_datetime' with 'unit' when parsing strings is deprecated. In a future version, strings will be parsed as datetime strings, matching the behavior without a 'unit'. To retain the old behavior, explicitly cast ints or floats to numeric type before calling to_datetime.\n",
      "  df = pd.read_json(os.path.join(path,file_name), lines=True, convert_dates=[\"created_at\",\"timestamp_ms\"])\n"
     ]
    },
    {
     "name": "stdout",
     "output_type": "stream",
     "text": [
      "Before:\t(3396, 37)\n",
      "After:\t(747, 2)\n",
      "Full shape: (15495, 2)\n",
      "29.json.bz2\n"
     ]
    },
    {
     "name": "stderr",
     "output_type": "stream",
     "text": [
      "/tmp/ipykernel_16517/835439046.py:10: FutureWarning: The behavior of 'to_datetime' with 'unit' when parsing strings is deprecated. In a future version, strings will be parsed as datetime strings, matching the behavior without a 'unit'. To retain the old behavior, explicitly cast ints or floats to numeric type before calling to_datetime.\n",
      "  df = pd.read_json(os.path.join(path,file_name), lines=True, convert_dates=[\"created_at\",\"timestamp_ms\"])\n",
      "/tmp/ipykernel_16517/835439046.py:10: FutureWarning: The behavior of 'to_datetime' with 'unit' when parsing strings is deprecated. In a future version, strings will be parsed as datetime strings, matching the behavior without a 'unit'. To retain the old behavior, explicitly cast ints or floats to numeric type before calling to_datetime.\n",
      "  df = pd.read_json(os.path.join(path,file_name), lines=True, convert_dates=[\"created_at\",\"timestamp_ms\"])\n"
     ]
    },
    {
     "name": "stdout",
     "output_type": "stream",
     "text": [
      "Before:\t(3326, 38)\n",
      "After:\t(810, 2)\n",
      "Full shape: (16305, 2)\n",
      "34.json.bz2\n"
     ]
    },
    {
     "name": "stderr",
     "output_type": "stream",
     "text": [
      "/tmp/ipykernel_16517/835439046.py:10: FutureWarning: The behavior of 'to_datetime' with 'unit' when parsing strings is deprecated. In a future version, strings will be parsed as datetime strings, matching the behavior without a 'unit'. To retain the old behavior, explicitly cast ints or floats to numeric type before calling to_datetime.\n",
      "  df = pd.read_json(os.path.join(path,file_name), lines=True, convert_dates=[\"created_at\",\"timestamp_ms\"])\n",
      "/tmp/ipykernel_16517/835439046.py:10: FutureWarning: The behavior of 'to_datetime' with 'unit' when parsing strings is deprecated. In a future version, strings will be parsed as datetime strings, matching the behavior without a 'unit'. To retain the old behavior, explicitly cast ints or floats to numeric type before calling to_datetime.\n",
      "  df = pd.read_json(os.path.join(path,file_name), lines=True, convert_dates=[\"created_at\",\"timestamp_ms\"])\n"
     ]
    },
    {
     "name": "stdout",
     "output_type": "stream",
     "text": [
      "Before:\t(3471, 38)\n",
      "After:\t(778, 2)\n",
      "Full shape: (17083, 2)\n",
      "41.json.bz2\n"
     ]
    },
    {
     "name": "stderr",
     "output_type": "stream",
     "text": [
      "/tmp/ipykernel_16517/835439046.py:10: FutureWarning: The behavior of 'to_datetime' with 'unit' when parsing strings is deprecated. In a future version, strings will be parsed as datetime strings, matching the behavior without a 'unit'. To retain the old behavior, explicitly cast ints or floats to numeric type before calling to_datetime.\n",
      "  df = pd.read_json(os.path.join(path,file_name), lines=True, convert_dates=[\"created_at\",\"timestamp_ms\"])\n",
      "/tmp/ipykernel_16517/835439046.py:10: FutureWarning: The behavior of 'to_datetime' with 'unit' when parsing strings is deprecated. In a future version, strings will be parsed as datetime strings, matching the behavior without a 'unit'. To retain the old behavior, explicitly cast ints or floats to numeric type before calling to_datetime.\n",
      "  df = pd.read_json(os.path.join(path,file_name), lines=True, convert_dates=[\"created_at\",\"timestamp_ms\"])\n"
     ]
    },
    {
     "name": "stdout",
     "output_type": "stream",
     "text": [
      "Before:\t(3374, 37)\n",
      "After:\t(705, 2)\n",
      "Full shape: (17788, 2)\n",
      "44.json.bz2\n"
     ]
    },
    {
     "name": "stderr",
     "output_type": "stream",
     "text": [
      "/tmp/ipykernel_16517/835439046.py:10: FutureWarning: The behavior of 'to_datetime' with 'unit' when parsing strings is deprecated. In a future version, strings will be parsed as datetime strings, matching the behavior without a 'unit'. To retain the old behavior, explicitly cast ints or floats to numeric type before calling to_datetime.\n",
      "  df = pd.read_json(os.path.join(path,file_name), lines=True, convert_dates=[\"created_at\",\"timestamp_ms\"])\n",
      "/tmp/ipykernel_16517/835439046.py:10: FutureWarning: The behavior of 'to_datetime' with 'unit' when parsing strings is deprecated. In a future version, strings will be parsed as datetime strings, matching the behavior without a 'unit'. To retain the old behavior, explicitly cast ints or floats to numeric type before calling to_datetime.\n",
      "  df = pd.read_json(os.path.join(path,file_name), lines=True, convert_dates=[\"created_at\",\"timestamp_ms\"])\n"
     ]
    },
    {
     "name": "stdout",
     "output_type": "stream",
     "text": [
      "Before:\t(3291, 37)\n",
      "After:\t(710, 2)\n",
      "Full shape: (18498, 2)\n",
      "57.json.bz2\n"
     ]
    },
    {
     "name": "stderr",
     "output_type": "stream",
     "text": [
      "/tmp/ipykernel_16517/835439046.py:10: FutureWarning: The behavior of 'to_datetime' with 'unit' when parsing strings is deprecated. In a future version, strings will be parsed as datetime strings, matching the behavior without a 'unit'. To retain the old behavior, explicitly cast ints or floats to numeric type before calling to_datetime.\n",
      "  df = pd.read_json(os.path.join(path,file_name), lines=True, convert_dates=[\"created_at\",\"timestamp_ms\"])\n",
      "/tmp/ipykernel_16517/835439046.py:10: FutureWarning: The behavior of 'to_datetime' with 'unit' when parsing strings is deprecated. In a future version, strings will be parsed as datetime strings, matching the behavior without a 'unit'. To retain the old behavior, explicitly cast ints or floats to numeric type before calling to_datetime.\n",
      "  df = pd.read_json(os.path.join(path,file_name), lines=True, convert_dates=[\"created_at\",\"timestamp_ms\"])\n"
     ]
    },
    {
     "name": "stdout",
     "output_type": "stream",
     "text": [
      "Before:\t(2865, 37)\n",
      "After:\t(701, 2)\n",
      "Full shape: (19199, 2)\n",
      "37.json.bz2\n"
     ]
    },
    {
     "name": "stderr",
     "output_type": "stream",
     "text": [
      "/tmp/ipykernel_16517/835439046.py:10: FutureWarning: The behavior of 'to_datetime' with 'unit' when parsing strings is deprecated. In a future version, strings will be parsed as datetime strings, matching the behavior without a 'unit'. To retain the old behavior, explicitly cast ints or floats to numeric type before calling to_datetime.\n",
      "  df = pd.read_json(os.path.join(path,file_name), lines=True, convert_dates=[\"created_at\",\"timestamp_ms\"])\n",
      "/tmp/ipykernel_16517/835439046.py:10: FutureWarning: The behavior of 'to_datetime' with 'unit' when parsing strings is deprecated. In a future version, strings will be parsed as datetime strings, matching the behavior without a 'unit'. To retain the old behavior, explicitly cast ints or floats to numeric type before calling to_datetime.\n",
      "  df = pd.read_json(os.path.join(path,file_name), lines=True, convert_dates=[\"created_at\",\"timestamp_ms\"])\n"
     ]
    },
    {
     "name": "stdout",
     "output_type": "stream",
     "text": [
      "Before:\t(3042, 37)\n",
      "After:\t(751, 2)\n",
      "Full shape: (19950, 2)\n",
      "36.json.bz2\n"
     ]
    },
    {
     "name": "stderr",
     "output_type": "stream",
     "text": [
      "/tmp/ipykernel_16517/835439046.py:10: FutureWarning: The behavior of 'to_datetime' with 'unit' when parsing strings is deprecated. In a future version, strings will be parsed as datetime strings, matching the behavior without a 'unit'. To retain the old behavior, explicitly cast ints or floats to numeric type before calling to_datetime.\n",
      "  df = pd.read_json(os.path.join(path,file_name), lines=True, convert_dates=[\"created_at\",\"timestamp_ms\"])\n",
      "/tmp/ipykernel_16517/835439046.py:10: FutureWarning: The behavior of 'to_datetime' with 'unit' when parsing strings is deprecated. In a future version, strings will be parsed as datetime strings, matching the behavior without a 'unit'. To retain the old behavior, explicitly cast ints or floats to numeric type before calling to_datetime.\n",
      "  df = pd.read_json(os.path.join(path,file_name), lines=True, convert_dates=[\"created_at\",\"timestamp_ms\"])\n"
     ]
    },
    {
     "name": "stdout",
     "output_type": "stream",
     "text": [
      "Before:\t(3039, 37)\n",
      "After:\t(766, 2)\n",
      "Full shape: (20716, 2)\n",
      "32.json.bz2\n"
     ]
    },
    {
     "name": "stderr",
     "output_type": "stream",
     "text": [
      "/tmp/ipykernel_16517/835439046.py:10: FutureWarning: The behavior of 'to_datetime' with 'unit' when parsing strings is deprecated. In a future version, strings will be parsed as datetime strings, matching the behavior without a 'unit'. To retain the old behavior, explicitly cast ints or floats to numeric type before calling to_datetime.\n",
      "  df = pd.read_json(os.path.join(path,file_name), lines=True, convert_dates=[\"created_at\",\"timestamp_ms\"])\n",
      "/tmp/ipykernel_16517/835439046.py:10: FutureWarning: The behavior of 'to_datetime' with 'unit' when parsing strings is deprecated. In a future version, strings will be parsed as datetime strings, matching the behavior without a 'unit'. To retain the old behavior, explicitly cast ints or floats to numeric type before calling to_datetime.\n",
      "  df = pd.read_json(os.path.join(path,file_name), lines=True, convert_dates=[\"created_at\",\"timestamp_ms\"])\n"
     ]
    },
    {
     "name": "stdout",
     "output_type": "stream",
     "text": [
      "Before:\t(3162, 37)\n",
      "After:\t(791, 2)\n",
      "Full shape: (21507, 2)\n",
      "39.json.bz2\n"
     ]
    },
    {
     "name": "stderr",
     "output_type": "stream",
     "text": [
      "/tmp/ipykernel_16517/835439046.py:10: FutureWarning: The behavior of 'to_datetime' with 'unit' when parsing strings is deprecated. In a future version, strings will be parsed as datetime strings, matching the behavior without a 'unit'. To retain the old behavior, explicitly cast ints or floats to numeric type before calling to_datetime.\n",
      "  df = pd.read_json(os.path.join(path,file_name), lines=True, convert_dates=[\"created_at\",\"timestamp_ms\"])\n",
      "/tmp/ipykernel_16517/835439046.py:10: FutureWarning: The behavior of 'to_datetime' with 'unit' when parsing strings is deprecated. In a future version, strings will be parsed as datetime strings, matching the behavior without a 'unit'. To retain the old behavior, explicitly cast ints or floats to numeric type before calling to_datetime.\n",
      "  df = pd.read_json(os.path.join(path,file_name), lines=True, convert_dates=[\"created_at\",\"timestamp_ms\"])\n"
     ]
    },
    {
     "name": "stdout",
     "output_type": "stream",
     "text": [
      "Before:\t(3018, 37)\n",
      "After:\t(741, 2)\n",
      "Full shape: (22248, 2)\n",
      "38.json.bz2\n"
     ]
    },
    {
     "name": "stderr",
     "output_type": "stream",
     "text": [
      "/tmp/ipykernel_16517/835439046.py:10: FutureWarning: The behavior of 'to_datetime' with 'unit' when parsing strings is deprecated. In a future version, strings will be parsed as datetime strings, matching the behavior without a 'unit'. To retain the old behavior, explicitly cast ints or floats to numeric type before calling to_datetime.\n",
      "  df = pd.read_json(os.path.join(path,file_name), lines=True, convert_dates=[\"created_at\",\"timestamp_ms\"])\n",
      "/tmp/ipykernel_16517/835439046.py:10: FutureWarning: The behavior of 'to_datetime' with 'unit' when parsing strings is deprecated. In a future version, strings will be parsed as datetime strings, matching the behavior without a 'unit'. To retain the old behavior, explicitly cast ints or floats to numeric type before calling to_datetime.\n",
      "  df = pd.read_json(os.path.join(path,file_name), lines=True, convert_dates=[\"created_at\",\"timestamp_ms\"])\n"
     ]
    },
    {
     "name": "stdout",
     "output_type": "stream",
     "text": [
      "Before:\t(2988, 37)\n",
      "After:\t(725, 2)\n",
      "Full shape: (22973, 2)\n",
      "08.json.bz2\n"
     ]
    },
    {
     "name": "stderr",
     "output_type": "stream",
     "text": [
      "/tmp/ipykernel_16517/835439046.py:10: FutureWarning: The behavior of 'to_datetime' with 'unit' when parsing strings is deprecated. In a future version, strings will be parsed as datetime strings, matching the behavior without a 'unit'. To retain the old behavior, explicitly cast ints or floats to numeric type before calling to_datetime.\n",
      "  df = pd.read_json(os.path.join(path,file_name), lines=True, convert_dates=[\"created_at\",\"timestamp_ms\"])\n",
      "/tmp/ipykernel_16517/835439046.py:10: FutureWarning: The behavior of 'to_datetime' with 'unit' when parsing strings is deprecated. In a future version, strings will be parsed as datetime strings, matching the behavior without a 'unit'. To retain the old behavior, explicitly cast ints or floats to numeric type before calling to_datetime.\n",
      "  df = pd.read_json(os.path.join(path,file_name), lines=True, convert_dates=[\"created_at\",\"timestamp_ms\"])\n"
     ]
    },
    {
     "name": "stdout",
     "output_type": "stream",
     "text": [
      "Before:\t(4495, 38)\n",
      "After:\t(921, 2)\n",
      "Full shape: (23894, 2)\n",
      "28.json.bz2\n"
     ]
    },
    {
     "name": "stderr",
     "output_type": "stream",
     "text": [
      "/tmp/ipykernel_16517/835439046.py:10: FutureWarning: The behavior of 'to_datetime' with 'unit' when parsing strings is deprecated. In a future version, strings will be parsed as datetime strings, matching the behavior without a 'unit'. To retain the old behavior, explicitly cast ints or floats to numeric type before calling to_datetime.\n",
      "  df = pd.read_json(os.path.join(path,file_name), lines=True, convert_dates=[\"created_at\",\"timestamp_ms\"])\n",
      "/tmp/ipykernel_16517/835439046.py:10: FutureWarning: The behavior of 'to_datetime' with 'unit' when parsing strings is deprecated. In a future version, strings will be parsed as datetime strings, matching the behavior without a 'unit'. To retain the old behavior, explicitly cast ints or floats to numeric type before calling to_datetime.\n",
      "  df = pd.read_json(os.path.join(path,file_name), lines=True, convert_dates=[\"created_at\",\"timestamp_ms\"])\n"
     ]
    },
    {
     "name": "stdout",
     "output_type": "stream",
     "text": [
      "Before:\t(4695, 38)\n",
      "After:\t(989, 2)\n",
      "Full shape: (24883, 2)\n",
      "26.json.bz2\n"
     ]
    },
    {
     "name": "stderr",
     "output_type": "stream",
     "text": [
      "/tmp/ipykernel_16517/835439046.py:10: FutureWarning: The behavior of 'to_datetime' with 'unit' when parsing strings is deprecated. In a future version, strings will be parsed as datetime strings, matching the behavior without a 'unit'. To retain the old behavior, explicitly cast ints or floats to numeric type before calling to_datetime.\n",
      "  df = pd.read_json(os.path.join(path,file_name), lines=True, convert_dates=[\"created_at\",\"timestamp_ms\"])\n",
      "/tmp/ipykernel_16517/835439046.py:10: FutureWarning: The behavior of 'to_datetime' with 'unit' when parsing strings is deprecated. In a future version, strings will be parsed as datetime strings, matching the behavior without a 'unit'. To retain the old behavior, explicitly cast ints or floats to numeric type before calling to_datetime.\n",
      "  df = pd.read_json(os.path.join(path,file_name), lines=True, convert_dates=[\"created_at\",\"timestamp_ms\"])\n"
     ]
    },
    {
     "name": "stdout",
     "output_type": "stream",
     "text": [
      "Before:\t(4621, 37)\n",
      "After:\t(926, 2)\n",
      "Full shape: (25809, 2)\n",
      "30.json.bz2\n"
     ]
    },
    {
     "name": "stderr",
     "output_type": "stream",
     "text": [
      "/tmp/ipykernel_16517/835439046.py:10: FutureWarning: The behavior of 'to_datetime' with 'unit' when parsing strings is deprecated. In a future version, strings will be parsed as datetime strings, matching the behavior without a 'unit'. To retain the old behavior, explicitly cast ints or floats to numeric type before calling to_datetime.\n",
      "  df = pd.read_json(os.path.join(path,file_name), lines=True, convert_dates=[\"created_at\",\"timestamp_ms\"])\n",
      "/tmp/ipykernel_16517/835439046.py:10: FutureWarning: The behavior of 'to_datetime' with 'unit' when parsing strings is deprecated. In a future version, strings will be parsed as datetime strings, matching the behavior without a 'unit'. To retain the old behavior, explicitly cast ints or floats to numeric type before calling to_datetime.\n",
      "  df = pd.read_json(os.path.join(path,file_name), lines=True, convert_dates=[\"created_at\",\"timestamp_ms\"])\n"
     ]
    },
    {
     "name": "stdout",
     "output_type": "stream",
     "text": [
      "Before:\t(4735, 38)\n",
      "After:\t(1053, 2)\n",
      "Full shape: (26862, 2)\n",
      "04.json.bz2\n"
     ]
    },
    {
     "name": "stderr",
     "output_type": "stream",
     "text": [
      "/tmp/ipykernel_16517/835439046.py:10: FutureWarning: The behavior of 'to_datetime' with 'unit' when parsing strings is deprecated. In a future version, strings will be parsed as datetime strings, matching the behavior without a 'unit'. To retain the old behavior, explicitly cast ints or floats to numeric type before calling to_datetime.\n",
      "  df = pd.read_json(os.path.join(path,file_name), lines=True, convert_dates=[\"created_at\",\"timestamp_ms\"])\n",
      "/tmp/ipykernel_16517/835439046.py:10: FutureWarning: The behavior of 'to_datetime' with 'unit' when parsing strings is deprecated. In a future version, strings will be parsed as datetime strings, matching the behavior without a 'unit'. To retain the old behavior, explicitly cast ints or floats to numeric type before calling to_datetime.\n",
      "  df = pd.read_json(os.path.join(path,file_name), lines=True, convert_dates=[\"created_at\",\"timestamp_ms\"])\n"
     ]
    },
    {
     "name": "stdout",
     "output_type": "stream",
     "text": [
      "Before:\t(4471, 37)\n",
      "After:\t(905, 2)\n",
      "Full shape: (27767, 2)\n",
      "06.json.bz2\n"
     ]
    },
    {
     "name": "stderr",
     "output_type": "stream",
     "text": [
      "/tmp/ipykernel_16517/835439046.py:10: FutureWarning: The behavior of 'to_datetime' with 'unit' when parsing strings is deprecated. In a future version, strings will be parsed as datetime strings, matching the behavior without a 'unit'. To retain the old behavior, explicitly cast ints or floats to numeric type before calling to_datetime.\n",
      "  df = pd.read_json(os.path.join(path,file_name), lines=True, convert_dates=[\"created_at\",\"timestamp_ms\"])\n",
      "/tmp/ipykernel_16517/835439046.py:10: FutureWarning: The behavior of 'to_datetime' with 'unit' when parsing strings is deprecated. In a future version, strings will be parsed as datetime strings, matching the behavior without a 'unit'. To retain the old behavior, explicitly cast ints or floats to numeric type before calling to_datetime.\n",
      "  df = pd.read_json(os.path.join(path,file_name), lines=True, convert_dates=[\"created_at\",\"timestamp_ms\"])\n"
     ]
    },
    {
     "name": "stdout",
     "output_type": "stream",
     "text": [
      "Before:\t(4413, 38)\n",
      "After:\t(921, 2)\n",
      "Full shape: (28688, 2)\n",
      "51.json.bz2\n"
     ]
    },
    {
     "name": "stderr",
     "output_type": "stream",
     "text": [
      "/tmp/ipykernel_16517/835439046.py:10: FutureWarning: The behavior of 'to_datetime' with 'unit' when parsing strings is deprecated. In a future version, strings will be parsed as datetime strings, matching the behavior without a 'unit'. To retain the old behavior, explicitly cast ints or floats to numeric type before calling to_datetime.\n",
      "  df = pd.read_json(os.path.join(path,file_name), lines=True, convert_dates=[\"created_at\",\"timestamp_ms\"])\n",
      "/tmp/ipykernel_16517/835439046.py:10: FutureWarning: The behavior of 'to_datetime' with 'unit' when parsing strings is deprecated. In a future version, strings will be parsed as datetime strings, matching the behavior without a 'unit'. To retain the old behavior, explicitly cast ints or floats to numeric type before calling to_datetime.\n",
      "  df = pd.read_json(os.path.join(path,file_name), lines=True, convert_dates=[\"created_at\",\"timestamp_ms\"])\n"
     ]
    },
    {
     "name": "stdout",
     "output_type": "stream",
     "text": [
      "Before:\t(4527, 37)\n",
      "After:\t(1038, 2)\n",
      "Full shape: (29726, 2)\n",
      "54.json.bz2\n"
     ]
    },
    {
     "name": "stderr",
     "output_type": "stream",
     "text": [
      "/tmp/ipykernel_16517/835439046.py:10: FutureWarning: The behavior of 'to_datetime' with 'unit' when parsing strings is deprecated. In a future version, strings will be parsed as datetime strings, matching the behavior without a 'unit'. To retain the old behavior, explicitly cast ints or floats to numeric type before calling to_datetime.\n",
      "  df = pd.read_json(os.path.join(path,file_name), lines=True, convert_dates=[\"created_at\",\"timestamp_ms\"])\n",
      "/tmp/ipykernel_16517/835439046.py:10: FutureWarning: The behavior of 'to_datetime' with 'unit' when parsing strings is deprecated. In a future version, strings will be parsed as datetime strings, matching the behavior without a 'unit'. To retain the old behavior, explicitly cast ints or floats to numeric type before calling to_datetime.\n",
      "  df = pd.read_json(os.path.join(path,file_name), lines=True, convert_dates=[\"created_at\",\"timestamp_ms\"])\n"
     ]
    },
    {
     "name": "stdout",
     "output_type": "stream",
     "text": [
      "Before:\t(4659, 37)\n",
      "After:\t(1051, 2)\n",
      "Full shape: (30777, 2)\n",
      "55.json.bz2\n"
     ]
    },
    {
     "name": "stderr",
     "output_type": "stream",
     "text": [
      "/tmp/ipykernel_16517/835439046.py:10: FutureWarning: The behavior of 'to_datetime' with 'unit' when parsing strings is deprecated. In a future version, strings will be parsed as datetime strings, matching the behavior without a 'unit'. To retain the old behavior, explicitly cast ints or floats to numeric type before calling to_datetime.\n",
      "  df = pd.read_json(os.path.join(path,file_name), lines=True, convert_dates=[\"created_at\",\"timestamp_ms\"])\n",
      "/tmp/ipykernel_16517/835439046.py:10: FutureWarning: The behavior of 'to_datetime' with 'unit' when parsing strings is deprecated. In a future version, strings will be parsed as datetime strings, matching the behavior without a 'unit'. To retain the old behavior, explicitly cast ints or floats to numeric type before calling to_datetime.\n",
      "  df = pd.read_json(os.path.join(path,file_name), lines=True, convert_dates=[\"created_at\",\"timestamp_ms\"])\n"
     ]
    },
    {
     "name": "stdout",
     "output_type": "stream",
     "text": [
      "Before:\t(4555, 38)\n",
      "After:\t(1055, 2)\n",
      "Full shape: (31832, 2)\n",
      "58.json.bz2\n"
     ]
    },
    {
     "name": "stderr",
     "output_type": "stream",
     "text": [
      "/tmp/ipykernel_16517/835439046.py:10: FutureWarning: The behavior of 'to_datetime' with 'unit' when parsing strings is deprecated. In a future version, strings will be parsed as datetime strings, matching the behavior without a 'unit'. To retain the old behavior, explicitly cast ints or floats to numeric type before calling to_datetime.\n",
      "  df = pd.read_json(os.path.join(path,file_name), lines=True, convert_dates=[\"created_at\",\"timestamp_ms\"])\n",
      "/tmp/ipykernel_16517/835439046.py:10: FutureWarning: The behavior of 'to_datetime' with 'unit' when parsing strings is deprecated. In a future version, strings will be parsed as datetime strings, matching the behavior without a 'unit'. To retain the old behavior, explicitly cast ints or floats to numeric type before calling to_datetime.\n",
      "  df = pd.read_json(os.path.join(path,file_name), lines=True, convert_dates=[\"created_at\",\"timestamp_ms\"])\n"
     ]
    },
    {
     "name": "stdout",
     "output_type": "stream",
     "text": [
      "Before:\t(4913, 37)\n",
      "After:\t(1013, 2)\n",
      "Full shape: (32845, 2)\n",
      "33.json.bz2\n"
     ]
    },
    {
     "name": "stderr",
     "output_type": "stream",
     "text": [
      "/tmp/ipykernel_16517/835439046.py:10: FutureWarning: The behavior of 'to_datetime' with 'unit' when parsing strings is deprecated. In a future version, strings will be parsed as datetime strings, matching the behavior without a 'unit'. To retain the old behavior, explicitly cast ints or floats to numeric type before calling to_datetime.\n",
      "  df = pd.read_json(os.path.join(path,file_name), lines=True, convert_dates=[\"created_at\",\"timestamp_ms\"])\n",
      "/tmp/ipykernel_16517/835439046.py:10: FutureWarning: The behavior of 'to_datetime' with 'unit' when parsing strings is deprecated. In a future version, strings will be parsed as datetime strings, matching the behavior without a 'unit'. To retain the old behavior, explicitly cast ints or floats to numeric type before calling to_datetime.\n",
      "  df = pd.read_json(os.path.join(path,file_name), lines=True, convert_dates=[\"created_at\",\"timestamp_ms\"])\n"
     ]
    },
    {
     "name": "stdout",
     "output_type": "stream",
     "text": [
      "Before:\t(4731, 37)\n",
      "After:\t(967, 2)\n",
      "Full shape: (33812, 2)\n",
      "09.json.bz2\n"
     ]
    },
    {
     "name": "stderr",
     "output_type": "stream",
     "text": [
      "/tmp/ipykernel_16517/835439046.py:10: FutureWarning: The behavior of 'to_datetime' with 'unit' when parsing strings is deprecated. In a future version, strings will be parsed as datetime strings, matching the behavior without a 'unit'. To retain the old behavior, explicitly cast ints or floats to numeric type before calling to_datetime.\n",
      "  df = pd.read_json(os.path.join(path,file_name), lines=True, convert_dates=[\"created_at\",\"timestamp_ms\"])\n",
      "/tmp/ipykernel_16517/835439046.py:10: FutureWarning: The behavior of 'to_datetime' with 'unit' when parsing strings is deprecated. In a future version, strings will be parsed as datetime strings, matching the behavior without a 'unit'. To retain the old behavior, explicitly cast ints or floats to numeric type before calling to_datetime.\n",
      "  df = pd.read_json(os.path.join(path,file_name), lines=True, convert_dates=[\"created_at\",\"timestamp_ms\"])\n"
     ]
    },
    {
     "name": "stdout",
     "output_type": "stream",
     "text": [
      "Before:\t(4451, 37)\n",
      "After:\t(986, 2)\n",
      "Full shape: (34798, 2)\n",
      "11.json.bz2\n"
     ]
    },
    {
     "name": "stderr",
     "output_type": "stream",
     "text": [
      "/tmp/ipykernel_16517/835439046.py:10: FutureWarning: The behavior of 'to_datetime' with 'unit' when parsing strings is deprecated. In a future version, strings will be parsed as datetime strings, matching the behavior without a 'unit'. To retain the old behavior, explicitly cast ints or floats to numeric type before calling to_datetime.\n",
      "  df = pd.read_json(os.path.join(path,file_name), lines=True, convert_dates=[\"created_at\",\"timestamp_ms\"])\n",
      "/tmp/ipykernel_16517/835439046.py:10: FutureWarning: The behavior of 'to_datetime' with 'unit' when parsing strings is deprecated. In a future version, strings will be parsed as datetime strings, matching the behavior without a 'unit'. To retain the old behavior, explicitly cast ints or floats to numeric type before calling to_datetime.\n",
      "  df = pd.read_json(os.path.join(path,file_name), lines=True, convert_dates=[\"created_at\",\"timestamp_ms\"])\n"
     ]
    },
    {
     "name": "stdout",
     "output_type": "stream",
     "text": [
      "Before:\t(4326, 37)\n",
      "After:\t(960, 2)\n",
      "Full shape: (35758, 2)\n",
      "21.json.bz2\n"
     ]
    },
    {
     "name": "stderr",
     "output_type": "stream",
     "text": [
      "/tmp/ipykernel_16517/835439046.py:10: FutureWarning: The behavior of 'to_datetime' with 'unit' when parsing strings is deprecated. In a future version, strings will be parsed as datetime strings, matching the behavior without a 'unit'. To retain the old behavior, explicitly cast ints or floats to numeric type before calling to_datetime.\n",
      "  df = pd.read_json(os.path.join(path,file_name), lines=True, convert_dates=[\"created_at\",\"timestamp_ms\"])\n",
      "/tmp/ipykernel_16517/835439046.py:10: FutureWarning: The behavior of 'to_datetime' with 'unit' when parsing strings is deprecated. In a future version, strings will be parsed as datetime strings, matching the behavior without a 'unit'. To retain the old behavior, explicitly cast ints or floats to numeric type before calling to_datetime.\n",
      "  df = pd.read_json(os.path.join(path,file_name), lines=True, convert_dates=[\"created_at\",\"timestamp_ms\"])\n"
     ]
    },
    {
     "name": "stdout",
     "output_type": "stream",
     "text": [
      "Before:\t(4490, 37)\n",
      "After:\t(931, 2)\n",
      "Full shape: (36689, 2)\n",
      "03.json.bz2\n"
     ]
    },
    {
     "name": "stderr",
     "output_type": "stream",
     "text": [
      "/tmp/ipykernel_16517/835439046.py:10: FutureWarning: The behavior of 'to_datetime' with 'unit' when parsing strings is deprecated. In a future version, strings will be parsed as datetime strings, matching the behavior without a 'unit'. To retain the old behavior, explicitly cast ints or floats to numeric type before calling to_datetime.\n",
      "  df = pd.read_json(os.path.join(path,file_name), lines=True, convert_dates=[\"created_at\",\"timestamp_ms\"])\n",
      "/tmp/ipykernel_16517/835439046.py:10: FutureWarning: The behavior of 'to_datetime' with 'unit' when parsing strings is deprecated. In a future version, strings will be parsed as datetime strings, matching the behavior without a 'unit'. To retain the old behavior, explicitly cast ints or floats to numeric type before calling to_datetime.\n",
      "  df = pd.read_json(os.path.join(path,file_name), lines=True, convert_dates=[\"created_at\",\"timestamp_ms\"])\n"
     ]
    },
    {
     "name": "stdout",
     "output_type": "stream",
     "text": [
      "Before:\t(4510, 37)\n",
      "After:\t(940, 2)\n",
      "Full shape: (37629, 2)\n",
      "48.json.bz2\n"
     ]
    },
    {
     "name": "stderr",
     "output_type": "stream",
     "text": [
      "/tmp/ipykernel_16517/835439046.py:10: FutureWarning: The behavior of 'to_datetime' with 'unit' when parsing strings is deprecated. In a future version, strings will be parsed as datetime strings, matching the behavior without a 'unit'. To retain the old behavior, explicitly cast ints or floats to numeric type before calling to_datetime.\n",
      "  df = pd.read_json(os.path.join(path,file_name), lines=True, convert_dates=[\"created_at\",\"timestamp_ms\"])\n",
      "/tmp/ipykernel_16517/835439046.py:10: FutureWarning: The behavior of 'to_datetime' with 'unit' when parsing strings is deprecated. In a future version, strings will be parsed as datetime strings, matching the behavior without a 'unit'. To retain the old behavior, explicitly cast ints or floats to numeric type before calling to_datetime.\n",
      "  df = pd.read_json(os.path.join(path,file_name), lines=True, convert_dates=[\"created_at\",\"timestamp_ms\"])\n"
     ]
    },
    {
     "name": "stdout",
     "output_type": "stream",
     "text": [
      "Before:\t(4475, 37)\n",
      "After:\t(962, 2)\n",
      "Full shape: (38591, 2)\n",
      "56.json.bz2\n"
     ]
    },
    {
     "name": "stderr",
     "output_type": "stream",
     "text": [
      "/tmp/ipykernel_16517/835439046.py:10: FutureWarning: The behavior of 'to_datetime' with 'unit' when parsing strings is deprecated. In a future version, strings will be parsed as datetime strings, matching the behavior without a 'unit'. To retain the old behavior, explicitly cast ints or floats to numeric type before calling to_datetime.\n",
      "  df = pd.read_json(os.path.join(path,file_name), lines=True, convert_dates=[\"created_at\",\"timestamp_ms\"])\n",
      "/tmp/ipykernel_16517/835439046.py:10: FutureWarning: The behavior of 'to_datetime' with 'unit' when parsing strings is deprecated. In a future version, strings will be parsed as datetime strings, matching the behavior without a 'unit'. To retain the old behavior, explicitly cast ints or floats to numeric type before calling to_datetime.\n",
      "  df = pd.read_json(os.path.join(path,file_name), lines=True, convert_dates=[\"created_at\",\"timestamp_ms\"])\n"
     ]
    },
    {
     "name": "stdout",
     "output_type": "stream",
     "text": [
      "Before:\t(4476, 37)\n",
      "After:\t(989, 2)\n",
      "Full shape: (39580, 2)\n",
      "05.json.bz2\n"
     ]
    },
    {
     "name": "stderr",
     "output_type": "stream",
     "text": [
      "/tmp/ipykernel_16517/835439046.py:10: FutureWarning: The behavior of 'to_datetime' with 'unit' when parsing strings is deprecated. In a future version, strings will be parsed as datetime strings, matching the behavior without a 'unit'. To retain the old behavior, explicitly cast ints or floats to numeric type before calling to_datetime.\n",
      "  df = pd.read_json(os.path.join(path,file_name), lines=True, convert_dates=[\"created_at\",\"timestamp_ms\"])\n",
      "/tmp/ipykernel_16517/835439046.py:10: FutureWarning: The behavior of 'to_datetime' with 'unit' when parsing strings is deprecated. In a future version, strings will be parsed as datetime strings, matching the behavior without a 'unit'. To retain the old behavior, explicitly cast ints or floats to numeric type before calling to_datetime.\n",
      "  df = pd.read_json(os.path.join(path,file_name), lines=True, convert_dates=[\"created_at\",\"timestamp_ms\"])\n"
     ]
    },
    {
     "name": "stdout",
     "output_type": "stream",
     "text": [
      "Before:\t(4605, 37)\n",
      "After:\t(913, 2)\n",
      "Full shape: (40493, 2)\n",
      "24.json.bz2\n"
     ]
    },
    {
     "name": "stderr",
     "output_type": "stream",
     "text": [
      "/tmp/ipykernel_16517/835439046.py:10: FutureWarning: The behavior of 'to_datetime' with 'unit' when parsing strings is deprecated. In a future version, strings will be parsed as datetime strings, matching the behavior without a 'unit'. To retain the old behavior, explicitly cast ints or floats to numeric type before calling to_datetime.\n",
      "  df = pd.read_json(os.path.join(path,file_name), lines=True, convert_dates=[\"created_at\",\"timestamp_ms\"])\n",
      "/tmp/ipykernel_16517/835439046.py:10: FutureWarning: The behavior of 'to_datetime' with 'unit' when parsing strings is deprecated. In a future version, strings will be parsed as datetime strings, matching the behavior without a 'unit'. To retain the old behavior, explicitly cast ints or floats to numeric type before calling to_datetime.\n",
      "  df = pd.read_json(os.path.join(path,file_name), lines=True, convert_dates=[\"created_at\",\"timestamp_ms\"])\n"
     ]
    },
    {
     "name": "stdout",
     "output_type": "stream",
     "text": [
      "Before:\t(4630, 37)\n",
      "After:\t(949, 2)\n",
      "Full shape: (41442, 2)\n",
      "43.json.bz2\n"
     ]
    },
    {
     "name": "stderr",
     "output_type": "stream",
     "text": [
      "/tmp/ipykernel_16517/835439046.py:10: FutureWarning: The behavior of 'to_datetime' with 'unit' when parsing strings is deprecated. In a future version, strings will be parsed as datetime strings, matching the behavior without a 'unit'. To retain the old behavior, explicitly cast ints or floats to numeric type before calling to_datetime.\n",
      "  df = pd.read_json(os.path.join(path,file_name), lines=True, convert_dates=[\"created_at\",\"timestamp_ms\"])\n",
      "/tmp/ipykernel_16517/835439046.py:10: FutureWarning: The behavior of 'to_datetime' with 'unit' when parsing strings is deprecated. In a future version, strings will be parsed as datetime strings, matching the behavior without a 'unit'. To retain the old behavior, explicitly cast ints or floats to numeric type before calling to_datetime.\n",
      "  df = pd.read_json(os.path.join(path,file_name), lines=True, convert_dates=[\"created_at\",\"timestamp_ms\"])\n"
     ]
    },
    {
     "name": "stdout",
     "output_type": "stream",
     "text": [
      "Before:\t(4669, 37)\n",
      "After:\t(946, 2)\n",
      "Full shape: (42388, 2)\n",
      "47.json.bz2\n"
     ]
    },
    {
     "name": "stderr",
     "output_type": "stream",
     "text": [
      "/tmp/ipykernel_16517/835439046.py:10: FutureWarning: The behavior of 'to_datetime' with 'unit' when parsing strings is deprecated. In a future version, strings will be parsed as datetime strings, matching the behavior without a 'unit'. To retain the old behavior, explicitly cast ints or floats to numeric type before calling to_datetime.\n",
      "  df = pd.read_json(os.path.join(path,file_name), lines=True, convert_dates=[\"created_at\",\"timestamp_ms\"])\n",
      "/tmp/ipykernel_16517/835439046.py:10: FutureWarning: The behavior of 'to_datetime' with 'unit' when parsing strings is deprecated. In a future version, strings will be parsed as datetime strings, matching the behavior without a 'unit'. To retain the old behavior, explicitly cast ints or floats to numeric type before calling to_datetime.\n",
      "  df = pd.read_json(os.path.join(path,file_name), lines=True, convert_dates=[\"created_at\",\"timestamp_ms\"])\n"
     ]
    },
    {
     "name": "stdout",
     "output_type": "stream",
     "text": [
      "Before:\t(4485, 37)\n",
      "After:\t(991, 2)\n",
      "Full shape: (43379, 2)\n",
      "27.json.bz2\n"
     ]
    },
    {
     "name": "stderr",
     "output_type": "stream",
     "text": [
      "/tmp/ipykernel_16517/835439046.py:10: FutureWarning: The behavior of 'to_datetime' with 'unit' when parsing strings is deprecated. In a future version, strings will be parsed as datetime strings, matching the behavior without a 'unit'. To retain the old behavior, explicitly cast ints or floats to numeric type before calling to_datetime.\n",
      "  df = pd.read_json(os.path.join(path,file_name), lines=True, convert_dates=[\"created_at\",\"timestamp_ms\"])\n",
      "/tmp/ipykernel_16517/835439046.py:10: FutureWarning: The behavior of 'to_datetime' with 'unit' when parsing strings is deprecated. In a future version, strings will be parsed as datetime strings, matching the behavior without a 'unit'. To retain the old behavior, explicitly cast ints or floats to numeric type before calling to_datetime.\n",
      "  df = pd.read_json(os.path.join(path,file_name), lines=True, convert_dates=[\"created_at\",\"timestamp_ms\"])\n"
     ]
    },
    {
     "name": "stdout",
     "output_type": "stream",
     "text": [
      "Before:\t(4298, 38)\n",
      "After:\t(964, 2)\n",
      "Full shape: (44343, 2)\n",
      "42.json.bz2\n"
     ]
    },
    {
     "name": "stderr",
     "output_type": "stream",
     "text": [
      "/tmp/ipykernel_16517/835439046.py:10: FutureWarning: The behavior of 'to_datetime' with 'unit' when parsing strings is deprecated. In a future version, strings will be parsed as datetime strings, matching the behavior without a 'unit'. To retain the old behavior, explicitly cast ints or floats to numeric type before calling to_datetime.\n",
      "  df = pd.read_json(os.path.join(path,file_name), lines=True, convert_dates=[\"created_at\",\"timestamp_ms\"])\n",
      "/tmp/ipykernel_16517/835439046.py:10: FutureWarning: The behavior of 'to_datetime' with 'unit' when parsing strings is deprecated. In a future version, strings will be parsed as datetime strings, matching the behavior without a 'unit'. To retain the old behavior, explicitly cast ints or floats to numeric type before calling to_datetime.\n",
      "  df = pd.read_json(os.path.join(path,file_name), lines=True, convert_dates=[\"created_at\",\"timestamp_ms\"])\n"
     ]
    },
    {
     "name": "stdout",
     "output_type": "stream",
     "text": [
      "Before:\t(4650, 37)\n",
      "After:\t(1033, 2)\n",
      "Full shape: (45376, 2)\n",
      "19.json.bz2\n"
     ]
    },
    {
     "name": "stderr",
     "output_type": "stream",
     "text": [
      "/tmp/ipykernel_16517/835439046.py:10: FutureWarning: The behavior of 'to_datetime' with 'unit' when parsing strings is deprecated. In a future version, strings will be parsed as datetime strings, matching the behavior without a 'unit'. To retain the old behavior, explicitly cast ints or floats to numeric type before calling to_datetime.\n",
      "  df = pd.read_json(os.path.join(path,file_name), lines=True, convert_dates=[\"created_at\",\"timestamp_ms\"])\n",
      "/tmp/ipykernel_16517/835439046.py:10: FutureWarning: The behavior of 'to_datetime' with 'unit' when parsing strings is deprecated. In a future version, strings will be parsed as datetime strings, matching the behavior without a 'unit'. To retain the old behavior, explicitly cast ints or floats to numeric type before calling to_datetime.\n",
      "  df = pd.read_json(os.path.join(path,file_name), lines=True, convert_dates=[\"created_at\",\"timestamp_ms\"])\n"
     ]
    },
    {
     "name": "stdout",
     "output_type": "stream",
     "text": [
      "Before:\t(4455, 37)\n",
      "After:\t(946, 2)\n",
      "Full shape: (46322, 2)\n",
      "25.json.bz2\n"
     ]
    },
    {
     "name": "stderr",
     "output_type": "stream",
     "text": [
      "/tmp/ipykernel_16517/835439046.py:10: FutureWarning: The behavior of 'to_datetime' with 'unit' when parsing strings is deprecated. In a future version, strings will be parsed as datetime strings, matching the behavior without a 'unit'. To retain the old behavior, explicitly cast ints or floats to numeric type before calling to_datetime.\n",
      "  df = pd.read_json(os.path.join(path,file_name), lines=True, convert_dates=[\"created_at\",\"timestamp_ms\"])\n",
      "/tmp/ipykernel_16517/835439046.py:10: FutureWarning: The behavior of 'to_datetime' with 'unit' when parsing strings is deprecated. In a future version, strings will be parsed as datetime strings, matching the behavior without a 'unit'. To retain the old behavior, explicitly cast ints or floats to numeric type before calling to_datetime.\n",
      "  df = pd.read_json(os.path.join(path,file_name), lines=True, convert_dates=[\"created_at\",\"timestamp_ms\"])\n"
     ]
    },
    {
     "name": "stdout",
     "output_type": "stream",
     "text": [
      "Before:\t(4573, 37)\n",
      "After:\t(973, 2)\n",
      "Full shape: (47295, 2)\n",
      "01.json.bz2\n"
     ]
    },
    {
     "name": "stderr",
     "output_type": "stream",
     "text": [
      "/tmp/ipykernel_16517/835439046.py:10: FutureWarning: The behavior of 'to_datetime' with 'unit' when parsing strings is deprecated. In a future version, strings will be parsed as datetime strings, matching the behavior without a 'unit'. To retain the old behavior, explicitly cast ints or floats to numeric type before calling to_datetime.\n",
      "  df = pd.read_json(os.path.join(path,file_name), lines=True, convert_dates=[\"created_at\",\"timestamp_ms\"])\n",
      "/tmp/ipykernel_16517/835439046.py:10: FutureWarning: The behavior of 'to_datetime' with 'unit' when parsing strings is deprecated. In a future version, strings will be parsed as datetime strings, matching the behavior without a 'unit'. To retain the old behavior, explicitly cast ints or floats to numeric type before calling to_datetime.\n",
      "  df = pd.read_json(os.path.join(path,file_name), lines=True, convert_dates=[\"created_at\",\"timestamp_ms\"])\n"
     ]
    },
    {
     "name": "stdout",
     "output_type": "stream",
     "text": [
      "Before:\t(4583, 37)\n",
      "After:\t(941, 2)\n",
      "Full shape: (48236, 2)\n",
      "02.json.bz2\n"
     ]
    },
    {
     "name": "stderr",
     "output_type": "stream",
     "text": [
      "/tmp/ipykernel_16517/835439046.py:10: FutureWarning: The behavior of 'to_datetime' with 'unit' when parsing strings is deprecated. In a future version, strings will be parsed as datetime strings, matching the behavior without a 'unit'. To retain the old behavior, explicitly cast ints or floats to numeric type before calling to_datetime.\n",
      "  df = pd.read_json(os.path.join(path,file_name), lines=True, convert_dates=[\"created_at\",\"timestamp_ms\"])\n",
      "/tmp/ipykernel_16517/835439046.py:10: FutureWarning: The behavior of 'to_datetime' with 'unit' when parsing strings is deprecated. In a future version, strings will be parsed as datetime strings, matching the behavior without a 'unit'. To retain the old behavior, explicitly cast ints or floats to numeric type before calling to_datetime.\n",
      "  df = pd.read_json(os.path.join(path,file_name), lines=True, convert_dates=[\"created_at\",\"timestamp_ms\"])\n"
     ]
    },
    {
     "name": "stdout",
     "output_type": "stream",
     "text": [
      "Before:\t(4588, 37)\n",
      "After:\t(886, 2)\n",
      "Full shape: (49122, 2)\n",
      "00.json.bz2\n"
     ]
    },
    {
     "name": "stderr",
     "output_type": "stream",
     "text": [
      "/tmp/ipykernel_16517/835439046.py:10: FutureWarning: The behavior of 'to_datetime' with 'unit' when parsing strings is deprecated. In a future version, strings will be parsed as datetime strings, matching the behavior without a 'unit'. To retain the old behavior, explicitly cast ints or floats to numeric type before calling to_datetime.\n",
      "  df = pd.read_json(os.path.join(path,file_name), lines=True, convert_dates=[\"created_at\",\"timestamp_ms\"])\n",
      "/tmp/ipykernel_16517/835439046.py:10: FutureWarning: The behavior of 'to_datetime' with 'unit' when parsing strings is deprecated. In a future version, strings will be parsed as datetime strings, matching the behavior without a 'unit'. To retain the old behavior, explicitly cast ints or floats to numeric type before calling to_datetime.\n",
      "  df = pd.read_json(os.path.join(path,file_name), lines=True, convert_dates=[\"created_at\",\"timestamp_ms\"])\n"
     ]
    },
    {
     "name": "stdout",
     "output_type": "stream",
     "text": [
      "Before:\t(4721, 38)\n",
      "After:\t(1025, 2)\n",
      "Full shape: (50147, 2)\n",
      "31.json.bz2\n"
     ]
    },
    {
     "name": "stderr",
     "output_type": "stream",
     "text": [
      "/tmp/ipykernel_16517/835439046.py:10: FutureWarning: The behavior of 'to_datetime' with 'unit' when parsing strings is deprecated. In a future version, strings will be parsed as datetime strings, matching the behavior without a 'unit'. To retain the old behavior, explicitly cast ints or floats to numeric type before calling to_datetime.\n",
      "  df = pd.read_json(os.path.join(path,file_name), lines=True, convert_dates=[\"created_at\",\"timestamp_ms\"])\n",
      "/tmp/ipykernel_16517/835439046.py:10: FutureWarning: The behavior of 'to_datetime' with 'unit' when parsing strings is deprecated. In a future version, strings will be parsed as datetime strings, matching the behavior without a 'unit'. To retain the old behavior, explicitly cast ints or floats to numeric type before calling to_datetime.\n",
      "  df = pd.read_json(os.path.join(path,file_name), lines=True, convert_dates=[\"created_at\",\"timestamp_ms\"])\n"
     ]
    },
    {
     "name": "stdout",
     "output_type": "stream",
     "text": [
      "Before:\t(4622, 37)\n",
      "After:\t(1072, 2)\n",
      "Full shape: (51219, 2)\n",
      "23.json.bz2\n"
     ]
    },
    {
     "name": "stderr",
     "output_type": "stream",
     "text": [
      "/tmp/ipykernel_16517/835439046.py:10: FutureWarning: The behavior of 'to_datetime' with 'unit' when parsing strings is deprecated. In a future version, strings will be parsed as datetime strings, matching the behavior without a 'unit'. To retain the old behavior, explicitly cast ints or floats to numeric type before calling to_datetime.\n",
      "  df = pd.read_json(os.path.join(path,file_name), lines=True, convert_dates=[\"created_at\",\"timestamp_ms\"])\n",
      "/tmp/ipykernel_16517/835439046.py:10: FutureWarning: The behavior of 'to_datetime' with 'unit' when parsing strings is deprecated. In a future version, strings will be parsed as datetime strings, matching the behavior without a 'unit'. To retain the old behavior, explicitly cast ints or floats to numeric type before calling to_datetime.\n",
      "  df = pd.read_json(os.path.join(path,file_name), lines=True, convert_dates=[\"created_at\",\"timestamp_ms\"])\n"
     ]
    },
    {
     "name": "stdout",
     "output_type": "stream",
     "text": [
      "Before:\t(4579, 37)\n",
      "After:\t(920, 2)\n",
      "Full shape: (52139, 2)\n",
      "52.json.bz2\n"
     ]
    },
    {
     "name": "stderr",
     "output_type": "stream",
     "text": [
      "/tmp/ipykernel_16517/835439046.py:10: FutureWarning: The behavior of 'to_datetime' with 'unit' when parsing strings is deprecated. In a future version, strings will be parsed as datetime strings, matching the behavior without a 'unit'. To retain the old behavior, explicitly cast ints or floats to numeric type before calling to_datetime.\n",
      "  df = pd.read_json(os.path.join(path,file_name), lines=True, convert_dates=[\"created_at\",\"timestamp_ms\"])\n",
      "/tmp/ipykernel_16517/835439046.py:10: FutureWarning: The behavior of 'to_datetime' with 'unit' when parsing strings is deprecated. In a future version, strings will be parsed as datetime strings, matching the behavior without a 'unit'. To retain the old behavior, explicitly cast ints or floats to numeric type before calling to_datetime.\n",
      "  df = pd.read_json(os.path.join(path,file_name), lines=True, convert_dates=[\"created_at\",\"timestamp_ms\"])\n"
     ]
    },
    {
     "name": "stdout",
     "output_type": "stream",
     "text": [
      "Before:\t(4554, 37)\n",
      "After:\t(1079, 2)\n",
      "Full shape: (53218, 2)\n",
      "13.json.bz2\n"
     ]
    },
    {
     "name": "stderr",
     "output_type": "stream",
     "text": [
      "/tmp/ipykernel_16517/835439046.py:10: FutureWarning: The behavior of 'to_datetime' with 'unit' when parsing strings is deprecated. In a future version, strings will be parsed as datetime strings, matching the behavior without a 'unit'. To retain the old behavior, explicitly cast ints or floats to numeric type before calling to_datetime.\n",
      "  df = pd.read_json(os.path.join(path,file_name), lines=True, convert_dates=[\"created_at\",\"timestamp_ms\"])\n",
      "/tmp/ipykernel_16517/835439046.py:10: FutureWarning: The behavior of 'to_datetime' with 'unit' when parsing strings is deprecated. In a future version, strings will be parsed as datetime strings, matching the behavior without a 'unit'. To retain the old behavior, explicitly cast ints or floats to numeric type before calling to_datetime.\n",
      "  df = pd.read_json(os.path.join(path,file_name), lines=True, convert_dates=[\"created_at\",\"timestamp_ms\"])\n"
     ]
    },
    {
     "name": "stdout",
     "output_type": "stream",
     "text": [
      "Before:\t(4522, 37)\n",
      "After:\t(981, 2)\n",
      "Full shape: (54199, 2)\n",
      "14.json.bz2\n"
     ]
    },
    {
     "name": "stderr",
     "output_type": "stream",
     "text": [
      "/tmp/ipykernel_16517/835439046.py:10: FutureWarning: The behavior of 'to_datetime' with 'unit' when parsing strings is deprecated. In a future version, strings will be parsed as datetime strings, matching the behavior without a 'unit'. To retain the old behavior, explicitly cast ints or floats to numeric type before calling to_datetime.\n",
      "  df = pd.read_json(os.path.join(path,file_name), lines=True, convert_dates=[\"created_at\",\"timestamp_ms\"])\n",
      "/tmp/ipykernel_16517/835439046.py:10: FutureWarning: The behavior of 'to_datetime' with 'unit' when parsing strings is deprecated. In a future version, strings will be parsed as datetime strings, matching the behavior without a 'unit'. To retain the old behavior, explicitly cast ints or floats to numeric type before calling to_datetime.\n",
      "  df = pd.read_json(os.path.join(path,file_name), lines=True, convert_dates=[\"created_at\",\"timestamp_ms\"])\n"
     ]
    },
    {
     "name": "stdout",
     "output_type": "stream",
     "text": [
      "Before:\t(4831, 37)\n",
      "After:\t(953, 2)\n",
      "Full shape: (55152, 2)\n",
      "35.json.bz2\n"
     ]
    },
    {
     "name": "stderr",
     "output_type": "stream",
     "text": [
      "/tmp/ipykernel_16517/835439046.py:10: FutureWarning: The behavior of 'to_datetime' with 'unit' when parsing strings is deprecated. In a future version, strings will be parsed as datetime strings, matching the behavior without a 'unit'. To retain the old behavior, explicitly cast ints or floats to numeric type before calling to_datetime.\n",
      "  df = pd.read_json(os.path.join(path,file_name), lines=True, convert_dates=[\"created_at\",\"timestamp_ms\"])\n",
      "/tmp/ipykernel_16517/835439046.py:10: FutureWarning: The behavior of 'to_datetime' with 'unit' when parsing strings is deprecated. In a future version, strings will be parsed as datetime strings, matching the behavior without a 'unit'. To retain the old behavior, explicitly cast ints or floats to numeric type before calling to_datetime.\n",
      "  df = pd.read_json(os.path.join(path,file_name), lines=True, convert_dates=[\"created_at\",\"timestamp_ms\"])\n"
     ]
    },
    {
     "name": "stdout",
     "output_type": "stream",
     "text": [
      "Before:\t(4791, 37)\n",
      "After:\t(1001, 2)\n",
      "Full shape: (56153, 2)\n",
      "20.json.bz2\n"
     ]
    },
    {
     "name": "stderr",
     "output_type": "stream",
     "text": [
      "/tmp/ipykernel_16517/835439046.py:10: FutureWarning: The behavior of 'to_datetime' with 'unit' when parsing strings is deprecated. In a future version, strings will be parsed as datetime strings, matching the behavior without a 'unit'. To retain the old behavior, explicitly cast ints or floats to numeric type before calling to_datetime.\n",
      "  df = pd.read_json(os.path.join(path,file_name), lines=True, convert_dates=[\"created_at\",\"timestamp_ms\"])\n",
      "/tmp/ipykernel_16517/835439046.py:10: FutureWarning: The behavior of 'to_datetime' with 'unit' when parsing strings is deprecated. In a future version, strings will be parsed as datetime strings, matching the behavior without a 'unit'. To retain the old behavior, explicitly cast ints or floats to numeric type before calling to_datetime.\n",
      "  df = pd.read_json(os.path.join(path,file_name), lines=True, convert_dates=[\"created_at\",\"timestamp_ms\"])\n"
     ]
    },
    {
     "name": "stdout",
     "output_type": "stream",
     "text": [
      "Before:\t(4649, 37)\n",
      "After:\t(962, 2)\n",
      "Full shape: (57115, 2)\n",
      "40.json.bz2\n"
     ]
    },
    {
     "name": "stderr",
     "output_type": "stream",
     "text": [
      "/tmp/ipykernel_16517/835439046.py:10: FutureWarning: The behavior of 'to_datetime' with 'unit' when parsing strings is deprecated. In a future version, strings will be parsed as datetime strings, matching the behavior without a 'unit'. To retain the old behavior, explicitly cast ints or floats to numeric type before calling to_datetime.\n",
      "  df = pd.read_json(os.path.join(path,file_name), lines=True, convert_dates=[\"created_at\",\"timestamp_ms\"])\n",
      "/tmp/ipykernel_16517/835439046.py:10: FutureWarning: The behavior of 'to_datetime' with 'unit' when parsing strings is deprecated. In a future version, strings will be parsed as datetime strings, matching the behavior without a 'unit'. To retain the old behavior, explicitly cast ints or floats to numeric type before calling to_datetime.\n",
      "  df = pd.read_json(os.path.join(path,file_name), lines=True, convert_dates=[\"created_at\",\"timestamp_ms\"])\n"
     ]
    },
    {
     "name": "stdout",
     "output_type": "stream",
     "text": [
      "Before:\t(4727, 37)\n",
      "After:\t(987, 2)\n",
      "Full shape: (58102, 2)\n",
      "46.json.bz2\n"
     ]
    },
    {
     "name": "stderr",
     "output_type": "stream",
     "text": [
      "/tmp/ipykernel_16517/835439046.py:10: FutureWarning: The behavior of 'to_datetime' with 'unit' when parsing strings is deprecated. In a future version, strings will be parsed as datetime strings, matching the behavior without a 'unit'. To retain the old behavior, explicitly cast ints or floats to numeric type before calling to_datetime.\n",
      "  df = pd.read_json(os.path.join(path,file_name), lines=True, convert_dates=[\"created_at\",\"timestamp_ms\"])\n",
      "/tmp/ipykernel_16517/835439046.py:10: FutureWarning: The behavior of 'to_datetime' with 'unit' when parsing strings is deprecated. In a future version, strings will be parsed as datetime strings, matching the behavior without a 'unit'. To retain the old behavior, explicitly cast ints or floats to numeric type before calling to_datetime.\n",
      "  df = pd.read_json(os.path.join(path,file_name), lines=True, convert_dates=[\"created_at\",\"timestamp_ms\"])\n"
     ]
    },
    {
     "name": "stdout",
     "output_type": "stream",
     "text": [
      "Before:\t(4531, 37)\n",
      "After:\t(1006, 2)\n",
      "Full shape: (59108, 2)\n",
      "49.json.bz2\n"
     ]
    },
    {
     "name": "stderr",
     "output_type": "stream",
     "text": [
      "/tmp/ipykernel_16517/835439046.py:10: FutureWarning: The behavior of 'to_datetime' with 'unit' when parsing strings is deprecated. In a future version, strings will be parsed as datetime strings, matching the behavior without a 'unit'. To retain the old behavior, explicitly cast ints or floats to numeric type before calling to_datetime.\n",
      "  df = pd.read_json(os.path.join(path,file_name), lines=True, convert_dates=[\"created_at\",\"timestamp_ms\"])\n",
      "/tmp/ipykernel_16517/835439046.py:10: FutureWarning: The behavior of 'to_datetime' with 'unit' when parsing strings is deprecated. In a future version, strings will be parsed as datetime strings, matching the behavior without a 'unit'. To retain the old behavior, explicitly cast ints or floats to numeric type before calling to_datetime.\n",
      "  df = pd.read_json(os.path.join(path,file_name), lines=True, convert_dates=[\"created_at\",\"timestamp_ms\"])\n"
     ]
    },
    {
     "name": "stdout",
     "output_type": "stream",
     "text": [
      "Before:\t(4770, 37)\n",
      "After:\t(996, 2)\n",
      "Full shape: (60104, 2)\n",
      "18.json.bz2\n"
     ]
    },
    {
     "name": "stderr",
     "output_type": "stream",
     "text": [
      "/tmp/ipykernel_16517/835439046.py:10: FutureWarning: The behavior of 'to_datetime' with 'unit' when parsing strings is deprecated. In a future version, strings will be parsed as datetime strings, matching the behavior without a 'unit'. To retain the old behavior, explicitly cast ints or floats to numeric type before calling to_datetime.\n",
      "  df = pd.read_json(os.path.join(path,file_name), lines=True, convert_dates=[\"created_at\",\"timestamp_ms\"])\n",
      "/tmp/ipykernel_16517/835439046.py:10: FutureWarning: The behavior of 'to_datetime' with 'unit' when parsing strings is deprecated. In a future version, strings will be parsed as datetime strings, matching the behavior without a 'unit'. To retain the old behavior, explicitly cast ints or floats to numeric type before calling to_datetime.\n",
      "  df = pd.read_json(os.path.join(path,file_name), lines=True, convert_dates=[\"created_at\",\"timestamp_ms\"])\n"
     ]
    },
    {
     "name": "stdout",
     "output_type": "stream",
     "text": [
      "Before:\t(4566, 37)\n",
      "After:\t(989, 2)\n",
      "Full shape: (61093, 2)\n",
      "59.json.bz2\n"
     ]
    },
    {
     "name": "stderr",
     "output_type": "stream",
     "text": [
      "/tmp/ipykernel_16517/835439046.py:10: FutureWarning: The behavior of 'to_datetime' with 'unit' when parsing strings is deprecated. In a future version, strings will be parsed as datetime strings, matching the behavior without a 'unit'. To retain the old behavior, explicitly cast ints or floats to numeric type before calling to_datetime.\n",
      "  df = pd.read_json(os.path.join(path,file_name), lines=True, convert_dates=[\"created_at\",\"timestamp_ms\"])\n",
      "/tmp/ipykernel_16517/835439046.py:10: FutureWarning: The behavior of 'to_datetime' with 'unit' when parsing strings is deprecated. In a future version, strings will be parsed as datetime strings, matching the behavior without a 'unit'. To retain the old behavior, explicitly cast ints or floats to numeric type before calling to_datetime.\n",
      "  df = pd.read_json(os.path.join(path,file_name), lines=True, convert_dates=[\"created_at\",\"timestamp_ms\"])\n"
     ]
    },
    {
     "name": "stdout",
     "output_type": "stream",
     "text": [
      "Before:\t(4627, 37)\n",
      "After:\t(960, 2)\n",
      "Full shape: (62053, 2)\n",
      "45.json.bz2\n"
     ]
    },
    {
     "name": "stderr",
     "output_type": "stream",
     "text": [
      "/tmp/ipykernel_16517/835439046.py:10: FutureWarning: The behavior of 'to_datetime' with 'unit' when parsing strings is deprecated. In a future version, strings will be parsed as datetime strings, matching the behavior without a 'unit'. To retain the old behavior, explicitly cast ints or floats to numeric type before calling to_datetime.\n",
      "  df = pd.read_json(os.path.join(path,file_name), lines=True, convert_dates=[\"created_at\",\"timestamp_ms\"])\n",
      "/tmp/ipykernel_16517/835439046.py:10: FutureWarning: The behavior of 'to_datetime' with 'unit' when parsing strings is deprecated. In a future version, strings will be parsed as datetime strings, matching the behavior without a 'unit'. To retain the old behavior, explicitly cast ints or floats to numeric type before calling to_datetime.\n",
      "  df = pd.read_json(os.path.join(path,file_name), lines=True, convert_dates=[\"created_at\",\"timestamp_ms\"])\n"
     ]
    },
    {
     "name": "stdout",
     "output_type": "stream",
     "text": [
      "Before:\t(4860, 37)\n",
      "After:\t(992, 2)\n",
      "Full shape: (63045, 2)\n",
      "22.json.bz2\n"
     ]
    },
    {
     "name": "stderr",
     "output_type": "stream",
     "text": [
      "/tmp/ipykernel_16517/835439046.py:10: FutureWarning: The behavior of 'to_datetime' with 'unit' when parsing strings is deprecated. In a future version, strings will be parsed as datetime strings, matching the behavior without a 'unit'. To retain the old behavior, explicitly cast ints or floats to numeric type before calling to_datetime.\n",
      "  df = pd.read_json(os.path.join(path,file_name), lines=True, convert_dates=[\"created_at\",\"timestamp_ms\"])\n",
      "/tmp/ipykernel_16517/835439046.py:10: FutureWarning: The behavior of 'to_datetime' with 'unit' when parsing strings is deprecated. In a future version, strings will be parsed as datetime strings, matching the behavior without a 'unit'. To retain the old behavior, explicitly cast ints or floats to numeric type before calling to_datetime.\n",
      "  df = pd.read_json(os.path.join(path,file_name), lines=True, convert_dates=[\"created_at\",\"timestamp_ms\"])\n"
     ]
    },
    {
     "name": "stdout",
     "output_type": "stream",
     "text": [
      "Before:\t(4511, 37)\n",
      "After:\t(963, 2)\n",
      "Full shape: (64008, 2)\n",
      "16.json.bz2\n"
     ]
    },
    {
     "name": "stderr",
     "output_type": "stream",
     "text": [
      "/tmp/ipykernel_16517/835439046.py:10: FutureWarning: The behavior of 'to_datetime' with 'unit' when parsing strings is deprecated. In a future version, strings will be parsed as datetime strings, matching the behavior without a 'unit'. To retain the old behavior, explicitly cast ints or floats to numeric type before calling to_datetime.\n",
      "  df = pd.read_json(os.path.join(path,file_name), lines=True, convert_dates=[\"created_at\",\"timestamp_ms\"])\n",
      "/tmp/ipykernel_16517/835439046.py:10: FutureWarning: The behavior of 'to_datetime' with 'unit' when parsing strings is deprecated. In a future version, strings will be parsed as datetime strings, matching the behavior without a 'unit'. To retain the old behavior, explicitly cast ints or floats to numeric type before calling to_datetime.\n",
      "  df = pd.read_json(os.path.join(path,file_name), lines=True, convert_dates=[\"created_at\",\"timestamp_ms\"])\n"
     ]
    },
    {
     "name": "stdout",
     "output_type": "stream",
     "text": [
      "Before:\t(4480, 38)\n",
      "After:\t(969, 2)\n",
      "Full shape: (64977, 2)\n",
      "53.json.bz2\n"
     ]
    },
    {
     "name": "stderr",
     "output_type": "stream",
     "text": [
      "/tmp/ipykernel_16517/835439046.py:10: FutureWarning: The behavior of 'to_datetime' with 'unit' when parsing strings is deprecated. In a future version, strings will be parsed as datetime strings, matching the behavior without a 'unit'. To retain the old behavior, explicitly cast ints or floats to numeric type before calling to_datetime.\n",
      "  df = pd.read_json(os.path.join(path,file_name), lines=True, convert_dates=[\"created_at\",\"timestamp_ms\"])\n",
      "/tmp/ipykernel_16517/835439046.py:10: FutureWarning: The behavior of 'to_datetime' with 'unit' when parsing strings is deprecated. In a future version, strings will be parsed as datetime strings, matching the behavior without a 'unit'. To retain the old behavior, explicitly cast ints or floats to numeric type before calling to_datetime.\n",
      "  df = pd.read_json(os.path.join(path,file_name), lines=True, convert_dates=[\"created_at\",\"timestamp_ms\"])\n"
     ]
    },
    {
     "name": "stdout",
     "output_type": "stream",
     "text": [
      "Before:\t(4632, 37)\n",
      "After:\t(1025, 2)\n",
      "Full shape: (66002, 2)\n",
      "15.json.bz2\n"
     ]
    },
    {
     "name": "stderr",
     "output_type": "stream",
     "text": [
      "/tmp/ipykernel_16517/835439046.py:10: FutureWarning: The behavior of 'to_datetime' with 'unit' when parsing strings is deprecated. In a future version, strings will be parsed as datetime strings, matching the behavior without a 'unit'. To retain the old behavior, explicitly cast ints or floats to numeric type before calling to_datetime.\n",
      "  df = pd.read_json(os.path.join(path,file_name), lines=True, convert_dates=[\"created_at\",\"timestamp_ms\"])\n",
      "/tmp/ipykernel_16517/835439046.py:10: FutureWarning: The behavior of 'to_datetime' with 'unit' when parsing strings is deprecated. In a future version, strings will be parsed as datetime strings, matching the behavior without a 'unit'. To retain the old behavior, explicitly cast ints or floats to numeric type before calling to_datetime.\n",
      "  df = pd.read_json(os.path.join(path,file_name), lines=True, convert_dates=[\"created_at\",\"timestamp_ms\"])\n"
     ]
    },
    {
     "name": "stdout",
     "output_type": "stream",
     "text": [
      "Before:\t(4546, 37)\n",
      "After:\t(920, 2)\n",
      "Full shape: (66922, 2)\n",
      "50.json.bz2\n"
     ]
    },
    {
     "name": "stderr",
     "output_type": "stream",
     "text": [
      "/tmp/ipykernel_16517/835439046.py:10: FutureWarning: The behavior of 'to_datetime' with 'unit' when parsing strings is deprecated. In a future version, strings will be parsed as datetime strings, matching the behavior without a 'unit'. To retain the old behavior, explicitly cast ints or floats to numeric type before calling to_datetime.\n",
      "  df = pd.read_json(os.path.join(path,file_name), lines=True, convert_dates=[\"created_at\",\"timestamp_ms\"])\n",
      "/tmp/ipykernel_16517/835439046.py:10: FutureWarning: The behavior of 'to_datetime' with 'unit' when parsing strings is deprecated. In a future version, strings will be parsed as datetime strings, matching the behavior without a 'unit'. To retain the old behavior, explicitly cast ints or floats to numeric type before calling to_datetime.\n",
      "  df = pd.read_json(os.path.join(path,file_name), lines=True, convert_dates=[\"created_at\",\"timestamp_ms\"])\n"
     ]
    },
    {
     "name": "stdout",
     "output_type": "stream",
     "text": [
      "Before:\t(4569, 37)\n",
      "After:\t(1036, 2)\n",
      "Full shape: (67958, 2)\n",
      "17.json.bz2\n"
     ]
    },
    {
     "name": "stderr",
     "output_type": "stream",
     "text": [
      "/tmp/ipykernel_16517/835439046.py:10: FutureWarning: The behavior of 'to_datetime' with 'unit' when parsing strings is deprecated. In a future version, strings will be parsed as datetime strings, matching the behavior without a 'unit'. To retain the old behavior, explicitly cast ints or floats to numeric type before calling to_datetime.\n",
      "  df = pd.read_json(os.path.join(path,file_name), lines=True, convert_dates=[\"created_at\",\"timestamp_ms\"])\n",
      "/tmp/ipykernel_16517/835439046.py:10: FutureWarning: The behavior of 'to_datetime' with 'unit' when parsing strings is deprecated. In a future version, strings will be parsed as datetime strings, matching the behavior without a 'unit'. To retain the old behavior, explicitly cast ints or floats to numeric type before calling to_datetime.\n",
      "  df = pd.read_json(os.path.join(path,file_name), lines=True, convert_dates=[\"created_at\",\"timestamp_ms\"])\n"
     ]
    },
    {
     "name": "stdout",
     "output_type": "stream",
     "text": [
      "Before:\t(4433, 37)\n",
      "After:\t(929, 2)\n",
      "Full shape: (68887, 2)\n",
      "29.json.bz2\n"
     ]
    },
    {
     "name": "stderr",
     "output_type": "stream",
     "text": [
      "/tmp/ipykernel_16517/835439046.py:10: FutureWarning: The behavior of 'to_datetime' with 'unit' when parsing strings is deprecated. In a future version, strings will be parsed as datetime strings, matching the behavior without a 'unit'. To retain the old behavior, explicitly cast ints or floats to numeric type before calling to_datetime.\n",
      "  df = pd.read_json(os.path.join(path,file_name), lines=True, convert_dates=[\"created_at\",\"timestamp_ms\"])\n",
      "/tmp/ipykernel_16517/835439046.py:10: FutureWarning: The behavior of 'to_datetime' with 'unit' when parsing strings is deprecated. In a future version, strings will be parsed as datetime strings, matching the behavior without a 'unit'. To retain the old behavior, explicitly cast ints or floats to numeric type before calling to_datetime.\n",
      "  df = pd.read_json(os.path.join(path,file_name), lines=True, convert_dates=[\"created_at\",\"timestamp_ms\"])\n"
     ]
    },
    {
     "name": "stdout",
     "output_type": "stream",
     "text": [
      "Before:\t(4627, 37)\n",
      "After:\t(936, 2)\n",
      "Full shape: (69823, 2)\n",
      "34.json.bz2\n"
     ]
    },
    {
     "name": "stderr",
     "output_type": "stream",
     "text": [
      "/tmp/ipykernel_16517/835439046.py:10: FutureWarning: The behavior of 'to_datetime' with 'unit' when parsing strings is deprecated. In a future version, strings will be parsed as datetime strings, matching the behavior without a 'unit'. To retain the old behavior, explicitly cast ints or floats to numeric type before calling to_datetime.\n",
      "  df = pd.read_json(os.path.join(path,file_name), lines=True, convert_dates=[\"created_at\",\"timestamp_ms\"])\n",
      "/tmp/ipykernel_16517/835439046.py:10: FutureWarning: The behavior of 'to_datetime' with 'unit' when parsing strings is deprecated. In a future version, strings will be parsed as datetime strings, matching the behavior without a 'unit'. To retain the old behavior, explicitly cast ints or floats to numeric type before calling to_datetime.\n",
      "  df = pd.read_json(os.path.join(path,file_name), lines=True, convert_dates=[\"created_at\",\"timestamp_ms\"])\n"
     ]
    },
    {
     "name": "stdout",
     "output_type": "stream",
     "text": [
      "Before:\t(4801, 37)\n",
      "After:\t(1007, 2)\n",
      "Full shape: (70830, 2)\n",
      "12.json.bz2\n"
     ]
    },
    {
     "name": "stderr",
     "output_type": "stream",
     "text": [
      "/tmp/ipykernel_16517/835439046.py:10: FutureWarning: The behavior of 'to_datetime' with 'unit' when parsing strings is deprecated. In a future version, strings will be parsed as datetime strings, matching the behavior without a 'unit'. To retain the old behavior, explicitly cast ints or floats to numeric type before calling to_datetime.\n",
      "  df = pd.read_json(os.path.join(path,file_name), lines=True, convert_dates=[\"created_at\",\"timestamp_ms\"])\n",
      "/tmp/ipykernel_16517/835439046.py:10: FutureWarning: The behavior of 'to_datetime' with 'unit' when parsing strings is deprecated. In a future version, strings will be parsed as datetime strings, matching the behavior without a 'unit'. To retain the old behavior, explicitly cast ints or floats to numeric type before calling to_datetime.\n",
      "  df = pd.read_json(os.path.join(path,file_name), lines=True, convert_dates=[\"created_at\",\"timestamp_ms\"])\n"
     ]
    },
    {
     "name": "stdout",
     "output_type": "stream",
     "text": [
      "Before:\t(4477, 38)\n",
      "After:\t(1000, 2)\n",
      "Full shape: (71830, 2)\n",
      "41.json.bz2\n"
     ]
    },
    {
     "name": "stderr",
     "output_type": "stream",
     "text": [
      "/tmp/ipykernel_16517/835439046.py:10: FutureWarning: The behavior of 'to_datetime' with 'unit' when parsing strings is deprecated. In a future version, strings will be parsed as datetime strings, matching the behavior without a 'unit'. To retain the old behavior, explicitly cast ints or floats to numeric type before calling to_datetime.\n",
      "  df = pd.read_json(os.path.join(path,file_name), lines=True, convert_dates=[\"created_at\",\"timestamp_ms\"])\n",
      "/tmp/ipykernel_16517/835439046.py:10: FutureWarning: The behavior of 'to_datetime' with 'unit' when parsing strings is deprecated. In a future version, strings will be parsed as datetime strings, matching the behavior without a 'unit'. To retain the old behavior, explicitly cast ints or floats to numeric type before calling to_datetime.\n",
      "  df = pd.read_json(os.path.join(path,file_name), lines=True, convert_dates=[\"created_at\",\"timestamp_ms\"])\n"
     ]
    },
    {
     "name": "stdout",
     "output_type": "stream",
     "text": [
      "Before:\t(4657, 37)\n",
      "After:\t(1008, 2)\n",
      "Full shape: (72838, 2)\n",
      "44.json.bz2\n"
     ]
    },
    {
     "name": "stderr",
     "output_type": "stream",
     "text": [
      "/tmp/ipykernel_16517/835439046.py:10: FutureWarning: The behavior of 'to_datetime' with 'unit' when parsing strings is deprecated. In a future version, strings will be parsed as datetime strings, matching the behavior without a 'unit'. To retain the old behavior, explicitly cast ints or floats to numeric type before calling to_datetime.\n",
      "  df = pd.read_json(os.path.join(path,file_name), lines=True, convert_dates=[\"created_at\",\"timestamp_ms\"])\n",
      "/tmp/ipykernel_16517/835439046.py:10: FutureWarning: The behavior of 'to_datetime' with 'unit' when parsing strings is deprecated. In a future version, strings will be parsed as datetime strings, matching the behavior without a 'unit'. To retain the old behavior, explicitly cast ints or floats to numeric type before calling to_datetime.\n",
      "  df = pd.read_json(os.path.join(path,file_name), lines=True, convert_dates=[\"created_at\",\"timestamp_ms\"])\n"
     ]
    },
    {
     "name": "stdout",
     "output_type": "stream",
     "text": [
      "Before:\t(4624, 37)\n",
      "After:\t(987, 2)\n",
      "Full shape: (73825, 2)\n",
      "57.json.bz2\n"
     ]
    },
    {
     "name": "stderr",
     "output_type": "stream",
     "text": [
      "/tmp/ipykernel_16517/835439046.py:10: FutureWarning: The behavior of 'to_datetime' with 'unit' when parsing strings is deprecated. In a future version, strings will be parsed as datetime strings, matching the behavior without a 'unit'. To retain the old behavior, explicitly cast ints or floats to numeric type before calling to_datetime.\n",
      "  df = pd.read_json(os.path.join(path,file_name), lines=True, convert_dates=[\"created_at\",\"timestamp_ms\"])\n",
      "/tmp/ipykernel_16517/835439046.py:10: FutureWarning: The behavior of 'to_datetime' with 'unit' when parsing strings is deprecated. In a future version, strings will be parsed as datetime strings, matching the behavior without a 'unit'. To retain the old behavior, explicitly cast ints or floats to numeric type before calling to_datetime.\n",
      "  df = pd.read_json(os.path.join(path,file_name), lines=True, convert_dates=[\"created_at\",\"timestamp_ms\"])\n"
     ]
    },
    {
     "name": "stdout",
     "output_type": "stream",
     "text": [
      "Before:\t(4649, 37)\n",
      "After:\t(1000, 2)\n",
      "Full shape: (74825, 2)\n",
      "37.json.bz2\n"
     ]
    },
    {
     "name": "stderr",
     "output_type": "stream",
     "text": [
      "/tmp/ipykernel_16517/835439046.py:10: FutureWarning: The behavior of 'to_datetime' with 'unit' when parsing strings is deprecated. In a future version, strings will be parsed as datetime strings, matching the behavior without a 'unit'. To retain the old behavior, explicitly cast ints or floats to numeric type before calling to_datetime.\n",
      "  df = pd.read_json(os.path.join(path,file_name), lines=True, convert_dates=[\"created_at\",\"timestamp_ms\"])\n",
      "/tmp/ipykernel_16517/835439046.py:10: FutureWarning: The behavior of 'to_datetime' with 'unit' when parsing strings is deprecated. In a future version, strings will be parsed as datetime strings, matching the behavior without a 'unit'. To retain the old behavior, explicitly cast ints or floats to numeric type before calling to_datetime.\n",
      "  df = pd.read_json(os.path.join(path,file_name), lines=True, convert_dates=[\"created_at\",\"timestamp_ms\"])\n"
     ]
    },
    {
     "name": "stdout",
     "output_type": "stream",
     "text": [
      "Before:\t(4628, 37)\n",
      "After:\t(959, 2)\n",
      "Full shape: (75784, 2)\n",
      "36.json.bz2\n"
     ]
    },
    {
     "name": "stderr",
     "output_type": "stream",
     "text": [
      "/tmp/ipykernel_16517/835439046.py:10: FutureWarning: The behavior of 'to_datetime' with 'unit' when parsing strings is deprecated. In a future version, strings will be parsed as datetime strings, matching the behavior without a 'unit'. To retain the old behavior, explicitly cast ints or floats to numeric type before calling to_datetime.\n",
      "  df = pd.read_json(os.path.join(path,file_name), lines=True, convert_dates=[\"created_at\",\"timestamp_ms\"])\n",
      "/tmp/ipykernel_16517/835439046.py:10: FutureWarning: The behavior of 'to_datetime' with 'unit' when parsing strings is deprecated. In a future version, strings will be parsed as datetime strings, matching the behavior without a 'unit'. To retain the old behavior, explicitly cast ints or floats to numeric type before calling to_datetime.\n",
      "  df = pd.read_json(os.path.join(path,file_name), lines=True, convert_dates=[\"created_at\",\"timestamp_ms\"])\n"
     ]
    },
    {
     "name": "stdout",
     "output_type": "stream",
     "text": [
      "Before:\t(4627, 37)\n",
      "After:\t(971, 2)\n",
      "Full shape: (76755, 2)\n",
      "32.json.bz2\n"
     ]
    },
    {
     "name": "stderr",
     "output_type": "stream",
     "text": [
      "/tmp/ipykernel_16517/835439046.py:10: FutureWarning: The behavior of 'to_datetime' with 'unit' when parsing strings is deprecated. In a future version, strings will be parsed as datetime strings, matching the behavior without a 'unit'. To retain the old behavior, explicitly cast ints or floats to numeric type before calling to_datetime.\n",
      "  df = pd.read_json(os.path.join(path,file_name), lines=True, convert_dates=[\"created_at\",\"timestamp_ms\"])\n",
      "/tmp/ipykernel_16517/835439046.py:10: FutureWarning: The behavior of 'to_datetime' with 'unit' when parsing strings is deprecated. In a future version, strings will be parsed as datetime strings, matching the behavior without a 'unit'. To retain the old behavior, explicitly cast ints or floats to numeric type before calling to_datetime.\n",
      "  df = pd.read_json(os.path.join(path,file_name), lines=True, convert_dates=[\"created_at\",\"timestamp_ms\"])\n"
     ]
    },
    {
     "name": "stdout",
     "output_type": "stream",
     "text": [
      "Before:\t(4730, 38)\n",
      "After:\t(953, 2)\n",
      "Full shape: (77708, 2)\n",
      "10.json.bz2\n"
     ]
    },
    {
     "name": "stderr",
     "output_type": "stream",
     "text": [
      "/tmp/ipykernel_16517/835439046.py:10: FutureWarning: The behavior of 'to_datetime' with 'unit' when parsing strings is deprecated. In a future version, strings will be parsed as datetime strings, matching the behavior without a 'unit'. To retain the old behavior, explicitly cast ints or floats to numeric type before calling to_datetime.\n",
      "  df = pd.read_json(os.path.join(path,file_name), lines=True, convert_dates=[\"created_at\",\"timestamp_ms\"])\n",
      "/tmp/ipykernel_16517/835439046.py:10: FutureWarning: The behavior of 'to_datetime' with 'unit' when parsing strings is deprecated. In a future version, strings will be parsed as datetime strings, matching the behavior without a 'unit'. To retain the old behavior, explicitly cast ints or floats to numeric type before calling to_datetime.\n",
      "  df = pd.read_json(os.path.join(path,file_name), lines=True, convert_dates=[\"created_at\",\"timestamp_ms\"])\n"
     ]
    },
    {
     "name": "stdout",
     "output_type": "stream",
     "text": [
      "Before:\t(4468, 37)\n",
      "After:\t(900, 2)\n",
      "Full shape: (78608, 2)\n",
      "39.json.bz2\n"
     ]
    },
    {
     "name": "stderr",
     "output_type": "stream",
     "text": [
      "/tmp/ipykernel_16517/835439046.py:10: FutureWarning: The behavior of 'to_datetime' with 'unit' when parsing strings is deprecated. In a future version, strings will be parsed as datetime strings, matching the behavior without a 'unit'. To retain the old behavior, explicitly cast ints or floats to numeric type before calling to_datetime.\n",
      "  df = pd.read_json(os.path.join(path,file_name), lines=True, convert_dates=[\"created_at\",\"timestamp_ms\"])\n",
      "/tmp/ipykernel_16517/835439046.py:10: FutureWarning: The behavior of 'to_datetime' with 'unit' when parsing strings is deprecated. In a future version, strings will be parsed as datetime strings, matching the behavior without a 'unit'. To retain the old behavior, explicitly cast ints or floats to numeric type before calling to_datetime.\n",
      "  df = pd.read_json(os.path.join(path,file_name), lines=True, convert_dates=[\"created_at\",\"timestamp_ms\"])\n"
     ]
    },
    {
     "name": "stdout",
     "output_type": "stream",
     "text": [
      "Before:\t(4715, 37)\n",
      "After:\t(1019, 2)\n",
      "Full shape: (79627, 2)\n",
      "38.json.bz2\n"
     ]
    },
    {
     "name": "stderr",
     "output_type": "stream",
     "text": [
      "/tmp/ipykernel_16517/835439046.py:10: FutureWarning: The behavior of 'to_datetime' with 'unit' when parsing strings is deprecated. In a future version, strings will be parsed as datetime strings, matching the behavior without a 'unit'. To retain the old behavior, explicitly cast ints or floats to numeric type before calling to_datetime.\n",
      "  df = pd.read_json(os.path.join(path,file_name), lines=True, convert_dates=[\"created_at\",\"timestamp_ms\"])\n",
      "/tmp/ipykernel_16517/835439046.py:10: FutureWarning: The behavior of 'to_datetime' with 'unit' when parsing strings is deprecated. In a future version, strings will be parsed as datetime strings, matching the behavior without a 'unit'. To retain the old behavior, explicitly cast ints or floats to numeric type before calling to_datetime.\n",
      "  df = pd.read_json(os.path.join(path,file_name), lines=True, convert_dates=[\"created_at\",\"timestamp_ms\"])\n"
     ]
    },
    {
     "name": "stdout",
     "output_type": "stream",
     "text": [
      "Before:\t(4688, 37)\n",
      "After:\t(987, 2)\n",
      "Full shape: (80614, 2)\n",
      "07.json.bz2\n"
     ]
    },
    {
     "name": "stderr",
     "output_type": "stream",
     "text": [
      "/tmp/ipykernel_16517/835439046.py:10: FutureWarning: The behavior of 'to_datetime' with 'unit' when parsing strings is deprecated. In a future version, strings will be parsed as datetime strings, matching the behavior without a 'unit'. To retain the old behavior, explicitly cast ints or floats to numeric type before calling to_datetime.\n",
      "  df = pd.read_json(os.path.join(path,file_name), lines=True, convert_dates=[\"created_at\",\"timestamp_ms\"])\n",
      "/tmp/ipykernel_16517/835439046.py:10: FutureWarning: The behavior of 'to_datetime' with 'unit' when parsing strings is deprecated. In a future version, strings will be parsed as datetime strings, matching the behavior without a 'unit'. To retain the old behavior, explicitly cast ints or floats to numeric type before calling to_datetime.\n",
      "  df = pd.read_json(os.path.join(path,file_name), lines=True, convert_dates=[\"created_at\",\"timestamp_ms\"])\n"
     ]
    },
    {
     "name": "stdout",
     "output_type": "stream",
     "text": [
      "Before:\t(4587, 37)\n",
      "After:\t(988, 2)\n",
      "Full shape: (81602, 2)\n",
      "08.json.bz2\n"
     ]
    },
    {
     "name": "stderr",
     "output_type": "stream",
     "text": [
      "/tmp/ipykernel_16517/835439046.py:10: FutureWarning: The behavior of 'to_datetime' with 'unit' when parsing strings is deprecated. In a future version, strings will be parsed as datetime strings, matching the behavior without a 'unit'. To retain the old behavior, explicitly cast ints or floats to numeric type before calling to_datetime.\n",
      "  df = pd.read_json(os.path.join(path,file_name), lines=True, convert_dates=[\"created_at\",\"timestamp_ms\"])\n",
      "/tmp/ipykernel_16517/835439046.py:10: FutureWarning: The behavior of 'to_datetime' with 'unit' when parsing strings is deprecated. In a future version, strings will be parsed as datetime strings, matching the behavior without a 'unit'. To retain the old behavior, explicitly cast ints or floats to numeric type before calling to_datetime.\n",
      "  df = pd.read_json(os.path.join(path,file_name), lines=True, convert_dates=[\"created_at\",\"timestamp_ms\"])\n"
     ]
    },
    {
     "name": "stdout",
     "output_type": "stream",
     "text": [
      "Before:\t(8508, 37)\n",
      "After:\t(1204, 2)\n",
      "Full shape: (82806, 2)\n",
      "28.json.bz2\n"
     ]
    },
    {
     "name": "stderr",
     "output_type": "stream",
     "text": [
      "/tmp/ipykernel_16517/835439046.py:10: FutureWarning: The behavior of 'to_datetime' with 'unit' when parsing strings is deprecated. In a future version, strings will be parsed as datetime strings, matching the behavior without a 'unit'. To retain the old behavior, explicitly cast ints or floats to numeric type before calling to_datetime.\n",
      "  df = pd.read_json(os.path.join(path,file_name), lines=True, convert_dates=[\"created_at\",\"timestamp_ms\"])\n",
      "/tmp/ipykernel_16517/835439046.py:10: FutureWarning: The behavior of 'to_datetime' with 'unit' when parsing strings is deprecated. In a future version, strings will be parsed as datetime strings, matching the behavior without a 'unit'. To retain the old behavior, explicitly cast ints or floats to numeric type before calling to_datetime.\n",
      "  df = pd.read_json(os.path.join(path,file_name), lines=True, convert_dates=[\"created_at\",\"timestamp_ms\"])\n"
     ]
    },
    {
     "name": "stdout",
     "output_type": "stream",
     "text": [
      "Before:\t(4000, 38)\n",
      "After:\t(1230, 2)\n",
      "Full shape: (84036, 2)\n",
      "26.json.bz2\n"
     ]
    },
    {
     "name": "stderr",
     "output_type": "stream",
     "text": [
      "/tmp/ipykernel_16517/835439046.py:10: FutureWarning: The behavior of 'to_datetime' with 'unit' when parsing strings is deprecated. In a future version, strings will be parsed as datetime strings, matching the behavior without a 'unit'. To retain the old behavior, explicitly cast ints or floats to numeric type before calling to_datetime.\n",
      "  df = pd.read_json(os.path.join(path,file_name), lines=True, convert_dates=[\"created_at\",\"timestamp_ms\"])\n",
      "/tmp/ipykernel_16517/835439046.py:10: FutureWarning: The behavior of 'to_datetime' with 'unit' when parsing strings is deprecated. In a future version, strings will be parsed as datetime strings, matching the behavior without a 'unit'. To retain the old behavior, explicitly cast ints or floats to numeric type before calling to_datetime.\n",
      "  df = pd.read_json(os.path.join(path,file_name), lines=True, convert_dates=[\"created_at\",\"timestamp_ms\"])\n"
     ]
    },
    {
     "name": "stdout",
     "output_type": "stream",
     "text": [
      "Before:\t(4270, 37)\n",
      "After:\t(1277, 2)\n",
      "Full shape: (85313, 2)\n",
      "30.json.bz2\n"
     ]
    },
    {
     "name": "stderr",
     "output_type": "stream",
     "text": [
      "/tmp/ipykernel_16517/835439046.py:10: FutureWarning: The behavior of 'to_datetime' with 'unit' when parsing strings is deprecated. In a future version, strings will be parsed as datetime strings, matching the behavior without a 'unit'. To retain the old behavior, explicitly cast ints or floats to numeric type before calling to_datetime.\n",
      "  df = pd.read_json(os.path.join(path,file_name), lines=True, convert_dates=[\"created_at\",\"timestamp_ms\"])\n",
      "/tmp/ipykernel_16517/835439046.py:10: FutureWarning: The behavior of 'to_datetime' with 'unit' when parsing strings is deprecated. In a future version, strings will be parsed as datetime strings, matching the behavior without a 'unit'. To retain the old behavior, explicitly cast ints or floats to numeric type before calling to_datetime.\n",
      "  df = pd.read_json(os.path.join(path,file_name), lines=True, convert_dates=[\"created_at\",\"timestamp_ms\"])\n"
     ]
    },
    {
     "name": "stdout",
     "output_type": "stream",
     "text": [
      "Before:\t(4104, 37)\n",
      "After:\t(1284, 2)\n",
      "Full shape: (86597, 2)\n",
      "04.json.bz2\n"
     ]
    },
    {
     "name": "stderr",
     "output_type": "stream",
     "text": [
      "/tmp/ipykernel_16517/835439046.py:10: FutureWarning: The behavior of 'to_datetime' with 'unit' when parsing strings is deprecated. In a future version, strings will be parsed as datetime strings, matching the behavior without a 'unit'. To retain the old behavior, explicitly cast ints or floats to numeric type before calling to_datetime.\n",
      "  df = pd.read_json(os.path.join(path,file_name), lines=True, convert_dates=[\"created_at\",\"timestamp_ms\"])\n",
      "/tmp/ipykernel_16517/835439046.py:10: FutureWarning: The behavior of 'to_datetime' with 'unit' when parsing strings is deprecated. In a future version, strings will be parsed as datetime strings, matching the behavior without a 'unit'. To retain the old behavior, explicitly cast ints or floats to numeric type before calling to_datetime.\n",
      "  df = pd.read_json(os.path.join(path,file_name), lines=True, convert_dates=[\"created_at\",\"timestamp_ms\"])\n"
     ]
    },
    {
     "name": "stdout",
     "output_type": "stream",
     "text": [
      "Before:\t(8291, 37)\n",
      "After:\t(1203, 2)\n",
      "Full shape: (87800, 2)\n",
      "06.json.bz2\n"
     ]
    },
    {
     "name": "stderr",
     "output_type": "stream",
     "text": [
      "/tmp/ipykernel_16517/835439046.py:10: FutureWarning: The behavior of 'to_datetime' with 'unit' when parsing strings is deprecated. In a future version, strings will be parsed as datetime strings, matching the behavior without a 'unit'. To retain the old behavior, explicitly cast ints or floats to numeric type before calling to_datetime.\n",
      "  df = pd.read_json(os.path.join(path,file_name), lines=True, convert_dates=[\"created_at\",\"timestamp_ms\"])\n",
      "/tmp/ipykernel_16517/835439046.py:10: FutureWarning: The behavior of 'to_datetime' with 'unit' when parsing strings is deprecated. In a future version, strings will be parsed as datetime strings, matching the behavior without a 'unit'. To retain the old behavior, explicitly cast ints or floats to numeric type before calling to_datetime.\n",
      "  df = pd.read_json(os.path.join(path,file_name), lines=True, convert_dates=[\"created_at\",\"timestamp_ms\"])\n"
     ]
    },
    {
     "name": "stdout",
     "output_type": "stream",
     "text": [
      "Before:\t(8635, 37)\n",
      "After:\t(1278, 2)\n",
      "Full shape: (89078, 2)\n",
      "51.json.bz2\n"
     ]
    },
    {
     "name": "stderr",
     "output_type": "stream",
     "text": [
      "/tmp/ipykernel_16517/835439046.py:10: FutureWarning: The behavior of 'to_datetime' with 'unit' when parsing strings is deprecated. In a future version, strings will be parsed as datetime strings, matching the behavior without a 'unit'. To retain the old behavior, explicitly cast ints or floats to numeric type before calling to_datetime.\n",
      "  df = pd.read_json(os.path.join(path,file_name), lines=True, convert_dates=[\"created_at\",\"timestamp_ms\"])\n",
      "/tmp/ipykernel_16517/835439046.py:10: FutureWarning: The behavior of 'to_datetime' with 'unit' when parsing strings is deprecated. In a future version, strings will be parsed as datetime strings, matching the behavior without a 'unit'. To retain the old behavior, explicitly cast ints or floats to numeric type before calling to_datetime.\n",
      "  df = pd.read_json(os.path.join(path,file_name), lines=True, convert_dates=[\"created_at\",\"timestamp_ms\"])\n"
     ]
    },
    {
     "name": "stdout",
     "output_type": "stream",
     "text": [
      "Before:\t(3885, 37)\n",
      "After:\t(1291, 2)\n",
      "Full shape: (90369, 2)\n",
      "54.json.bz2\n"
     ]
    },
    {
     "name": "stderr",
     "output_type": "stream",
     "text": [
      "/tmp/ipykernel_16517/835439046.py:10: FutureWarning: The behavior of 'to_datetime' with 'unit' when parsing strings is deprecated. In a future version, strings will be parsed as datetime strings, matching the behavior without a 'unit'. To retain the old behavior, explicitly cast ints or floats to numeric type before calling to_datetime.\n",
      "  df = pd.read_json(os.path.join(path,file_name), lines=True, convert_dates=[\"created_at\",\"timestamp_ms\"])\n",
      "/tmp/ipykernel_16517/835439046.py:10: FutureWarning: The behavior of 'to_datetime' with 'unit' when parsing strings is deprecated. In a future version, strings will be parsed as datetime strings, matching the behavior without a 'unit'. To retain the old behavior, explicitly cast ints or floats to numeric type before calling to_datetime.\n",
      "  df = pd.read_json(os.path.join(path,file_name), lines=True, convert_dates=[\"created_at\",\"timestamp_ms\"])\n"
     ]
    },
    {
     "name": "stdout",
     "output_type": "stream",
     "text": [
      "Before:\t(3726, 38)\n",
      "After:\t(1214, 2)\n",
      "Full shape: (91583, 2)\n",
      "55.json.bz2\n"
     ]
    },
    {
     "name": "stderr",
     "output_type": "stream",
     "text": [
      "/tmp/ipykernel_16517/835439046.py:10: FutureWarning: The behavior of 'to_datetime' with 'unit' when parsing strings is deprecated. In a future version, strings will be parsed as datetime strings, matching the behavior without a 'unit'. To retain the old behavior, explicitly cast ints or floats to numeric type before calling to_datetime.\n",
      "  df = pd.read_json(os.path.join(path,file_name), lines=True, convert_dates=[\"created_at\",\"timestamp_ms\"])\n",
      "/tmp/ipykernel_16517/835439046.py:10: FutureWarning: The behavior of 'to_datetime' with 'unit' when parsing strings is deprecated. In a future version, strings will be parsed as datetime strings, matching the behavior without a 'unit'. To retain the old behavior, explicitly cast ints or floats to numeric type before calling to_datetime.\n",
      "  df = pd.read_json(os.path.join(path,file_name), lines=True, convert_dates=[\"created_at\",\"timestamp_ms\"])\n"
     ]
    },
    {
     "name": "stdout",
     "output_type": "stream",
     "text": [
      "Before:\t(3684, 38)\n",
      "After:\t(1137, 2)\n",
      "Full shape: (92720, 2)\n",
      "58.json.bz2\n"
     ]
    },
    {
     "name": "stderr",
     "output_type": "stream",
     "text": [
      "/tmp/ipykernel_16517/835439046.py:10: FutureWarning: The behavior of 'to_datetime' with 'unit' when parsing strings is deprecated. In a future version, strings will be parsed as datetime strings, matching the behavior without a 'unit'. To retain the old behavior, explicitly cast ints or floats to numeric type before calling to_datetime.\n",
      "  df = pd.read_json(os.path.join(path,file_name), lines=True, convert_dates=[\"created_at\",\"timestamp_ms\"])\n",
      "/tmp/ipykernel_16517/835439046.py:10: FutureWarning: The behavior of 'to_datetime' with 'unit' when parsing strings is deprecated. In a future version, strings will be parsed as datetime strings, matching the behavior without a 'unit'. To retain the old behavior, explicitly cast ints or floats to numeric type before calling to_datetime.\n",
      "  df = pd.read_json(os.path.join(path,file_name), lines=True, convert_dates=[\"created_at\",\"timestamp_ms\"])\n"
     ]
    },
    {
     "name": "stdout",
     "output_type": "stream",
     "text": [
      "Before:\t(3519, 37)\n",
      "After:\t(1177, 2)\n",
      "Full shape: (93897, 2)\n",
      "33.json.bz2\n"
     ]
    },
    {
     "name": "stderr",
     "output_type": "stream",
     "text": [
      "/tmp/ipykernel_16517/835439046.py:10: FutureWarning: The behavior of 'to_datetime' with 'unit' when parsing strings is deprecated. In a future version, strings will be parsed as datetime strings, matching the behavior without a 'unit'. To retain the old behavior, explicitly cast ints or floats to numeric type before calling to_datetime.\n",
      "  df = pd.read_json(os.path.join(path,file_name), lines=True, convert_dates=[\"created_at\",\"timestamp_ms\"])\n",
      "/tmp/ipykernel_16517/835439046.py:10: FutureWarning: The behavior of 'to_datetime' with 'unit' when parsing strings is deprecated. In a future version, strings will be parsed as datetime strings, matching the behavior without a 'unit'. To retain the old behavior, explicitly cast ints or floats to numeric type before calling to_datetime.\n",
      "  df = pd.read_json(os.path.join(path,file_name), lines=True, convert_dates=[\"created_at\",\"timestamp_ms\"])\n"
     ]
    },
    {
     "name": "stdout",
     "output_type": "stream",
     "text": [
      "Before:\t(4283, 37)\n",
      "After:\t(1249, 2)\n",
      "Full shape: (95146, 2)\n",
      "09.json.bz2\n"
     ]
    },
    {
     "name": "stderr",
     "output_type": "stream",
     "text": [
      "/tmp/ipykernel_16517/835439046.py:10: FutureWarning: The behavior of 'to_datetime' with 'unit' when parsing strings is deprecated. In a future version, strings will be parsed as datetime strings, matching the behavior without a 'unit'. To retain the old behavior, explicitly cast ints or floats to numeric type before calling to_datetime.\n",
      "  df = pd.read_json(os.path.join(path,file_name), lines=True, convert_dates=[\"created_at\",\"timestamp_ms\"])\n",
      "/tmp/ipykernel_16517/835439046.py:10: FutureWarning: The behavior of 'to_datetime' with 'unit' when parsing strings is deprecated. In a future version, strings will be parsed as datetime strings, matching the behavior without a 'unit'. To retain the old behavior, explicitly cast ints or floats to numeric type before calling to_datetime.\n",
      "  df = pd.read_json(os.path.join(path,file_name), lines=True, convert_dates=[\"created_at\",\"timestamp_ms\"])\n"
     ]
    },
    {
     "name": "stdout",
     "output_type": "stream",
     "text": [
      "Before:\t(8528, 37)\n",
      "After:\t(1278, 2)\n",
      "Full shape: (96424, 2)\n",
      "11.json.bz2\n"
     ]
    },
    {
     "name": "stderr",
     "output_type": "stream",
     "text": [
      "/tmp/ipykernel_16517/835439046.py:10: FutureWarning: The behavior of 'to_datetime' with 'unit' when parsing strings is deprecated. In a future version, strings will be parsed as datetime strings, matching the behavior without a 'unit'. To retain the old behavior, explicitly cast ints or floats to numeric type before calling to_datetime.\n",
      "  df = pd.read_json(os.path.join(path,file_name), lines=True, convert_dates=[\"created_at\",\"timestamp_ms\"])\n",
      "/tmp/ipykernel_16517/835439046.py:10: FutureWarning: The behavior of 'to_datetime' with 'unit' when parsing strings is deprecated. In a future version, strings will be parsed as datetime strings, matching the behavior without a 'unit'. To retain the old behavior, explicitly cast ints or floats to numeric type before calling to_datetime.\n",
      "  df = pd.read_json(os.path.join(path,file_name), lines=True, convert_dates=[\"created_at\",\"timestamp_ms\"])\n"
     ]
    },
    {
     "name": "stdout",
     "output_type": "stream",
     "text": [
      "Before:\t(8441, 37)\n",
      "After:\t(1224, 2)\n",
      "Full shape: (97648, 2)\n",
      "21.json.bz2\n"
     ]
    },
    {
     "name": "stderr",
     "output_type": "stream",
     "text": [
      "/tmp/ipykernel_16517/835439046.py:10: FutureWarning: The behavior of 'to_datetime' with 'unit' when parsing strings is deprecated. In a future version, strings will be parsed as datetime strings, matching the behavior without a 'unit'. To retain the old behavior, explicitly cast ints or floats to numeric type before calling to_datetime.\n",
      "  df = pd.read_json(os.path.join(path,file_name), lines=True, convert_dates=[\"created_at\",\"timestamp_ms\"])\n",
      "/tmp/ipykernel_16517/835439046.py:10: FutureWarning: The behavior of 'to_datetime' with 'unit' when parsing strings is deprecated. In a future version, strings will be parsed as datetime strings, matching the behavior without a 'unit'. To retain the old behavior, explicitly cast ints or floats to numeric type before calling to_datetime.\n",
      "  df = pd.read_json(os.path.join(path,file_name), lines=True, convert_dates=[\"created_at\",\"timestamp_ms\"])\n"
     ]
    },
    {
     "name": "stdout",
     "output_type": "stream",
     "text": [
      "Before:\t(7788, 37)\n",
      "After:\t(1262, 2)\n",
      "Full shape: (98910, 2)\n",
      "03.json.bz2\n"
     ]
    },
    {
     "name": "stderr",
     "output_type": "stream",
     "text": [
      "/tmp/ipykernel_16517/835439046.py:10: FutureWarning: The behavior of 'to_datetime' with 'unit' when parsing strings is deprecated. In a future version, strings will be parsed as datetime strings, matching the behavior without a 'unit'. To retain the old behavior, explicitly cast ints or floats to numeric type before calling to_datetime.\n",
      "  df = pd.read_json(os.path.join(path,file_name), lines=True, convert_dates=[\"created_at\",\"timestamp_ms\"])\n",
      "/tmp/ipykernel_16517/835439046.py:10: FutureWarning: The behavior of 'to_datetime' with 'unit' when parsing strings is deprecated. In a future version, strings will be parsed as datetime strings, matching the behavior without a 'unit'. To retain the old behavior, explicitly cast ints or floats to numeric type before calling to_datetime.\n",
      "  df = pd.read_json(os.path.join(path,file_name), lines=True, convert_dates=[\"created_at\",\"timestamp_ms\"])\n"
     ]
    },
    {
     "name": "stdout",
     "output_type": "stream",
     "text": [
      "Before:\t(8683, 37)\n",
      "After:\t(1313, 2)\n",
      "Full shape: (100223, 2)\n",
      "48.json.bz2\n"
     ]
    },
    {
     "name": "stderr",
     "output_type": "stream",
     "text": [
      "/tmp/ipykernel_16517/835439046.py:10: FutureWarning: The behavior of 'to_datetime' with 'unit' when parsing strings is deprecated. In a future version, strings will be parsed as datetime strings, matching the behavior without a 'unit'. To retain the old behavior, explicitly cast ints or floats to numeric type before calling to_datetime.\n",
      "  df = pd.read_json(os.path.join(path,file_name), lines=True, convert_dates=[\"created_at\",\"timestamp_ms\"])\n",
      "/tmp/ipykernel_16517/835439046.py:10: FutureWarning: The behavior of 'to_datetime' with 'unit' when parsing strings is deprecated. In a future version, strings will be parsed as datetime strings, matching the behavior without a 'unit'. To retain the old behavior, explicitly cast ints or floats to numeric type before calling to_datetime.\n",
      "  df = pd.read_json(os.path.join(path,file_name), lines=True, convert_dates=[\"created_at\",\"timestamp_ms\"])\n"
     ]
    },
    {
     "name": "stdout",
     "output_type": "stream",
     "text": [
      "Before:\t(3885, 38)\n",
      "After:\t(1186, 2)\n",
      "Full shape: (101409, 2)\n",
      "56.json.bz2\n"
     ]
    },
    {
     "name": "stderr",
     "output_type": "stream",
     "text": [
      "/tmp/ipykernel_16517/835439046.py:10: FutureWarning: The behavior of 'to_datetime' with 'unit' when parsing strings is deprecated. In a future version, strings will be parsed as datetime strings, matching the behavior without a 'unit'. To retain the old behavior, explicitly cast ints or floats to numeric type before calling to_datetime.\n",
      "  df = pd.read_json(os.path.join(path,file_name), lines=True, convert_dates=[\"created_at\",\"timestamp_ms\"])\n",
      "/tmp/ipykernel_16517/835439046.py:10: FutureWarning: The behavior of 'to_datetime' with 'unit' when parsing strings is deprecated. In a future version, strings will be parsed as datetime strings, matching the behavior without a 'unit'. To retain the old behavior, explicitly cast ints or floats to numeric type before calling to_datetime.\n",
      "  df = pd.read_json(os.path.join(path,file_name), lines=True, convert_dates=[\"created_at\",\"timestamp_ms\"])\n"
     ]
    },
    {
     "name": "stdout",
     "output_type": "stream",
     "text": [
      "Before:\t(3808, 37)\n",
      "After:\t(1157, 2)\n",
      "Full shape: (102566, 2)\n",
      "05.json.bz2\n"
     ]
    },
    {
     "name": "stderr",
     "output_type": "stream",
     "text": [
      "/tmp/ipykernel_16517/835439046.py:10: FutureWarning: The behavior of 'to_datetime' with 'unit' when parsing strings is deprecated. In a future version, strings will be parsed as datetime strings, matching the behavior without a 'unit'. To retain the old behavior, explicitly cast ints or floats to numeric type before calling to_datetime.\n",
      "  df = pd.read_json(os.path.join(path,file_name), lines=True, convert_dates=[\"created_at\",\"timestamp_ms\"])\n",
      "/tmp/ipykernel_16517/835439046.py:10: FutureWarning: The behavior of 'to_datetime' with 'unit' when parsing strings is deprecated. In a future version, strings will be parsed as datetime strings, matching the behavior without a 'unit'. To retain the old behavior, explicitly cast ints or floats to numeric type before calling to_datetime.\n",
      "  df = pd.read_json(os.path.join(path,file_name), lines=True, convert_dates=[\"created_at\",\"timestamp_ms\"])\n"
     ]
    },
    {
     "name": "stdout",
     "output_type": "stream",
     "text": [
      "Before:\t(8391, 37)\n",
      "After:\t(1262, 2)\n",
      "Full shape: (103828, 2)\n",
      "24.json.bz2\n"
     ]
    },
    {
     "name": "stderr",
     "output_type": "stream",
     "text": [
      "/tmp/ipykernel_16517/835439046.py:10: FutureWarning: The behavior of 'to_datetime' with 'unit' when parsing strings is deprecated. In a future version, strings will be parsed as datetime strings, matching the behavior without a 'unit'. To retain the old behavior, explicitly cast ints or floats to numeric type before calling to_datetime.\n",
      "  df = pd.read_json(os.path.join(path,file_name), lines=True, convert_dates=[\"created_at\",\"timestamp_ms\"])\n",
      "/tmp/ipykernel_16517/835439046.py:10: FutureWarning: The behavior of 'to_datetime' with 'unit' when parsing strings is deprecated. In a future version, strings will be parsed as datetime strings, matching the behavior without a 'unit'. To retain the old behavior, explicitly cast ints or floats to numeric type before calling to_datetime.\n",
      "  df = pd.read_json(os.path.join(path,file_name), lines=True, convert_dates=[\"created_at\",\"timestamp_ms\"])\n"
     ]
    },
    {
     "name": "stdout",
     "output_type": "stream",
     "text": [
      "Before:\t(7630, 37)\n",
      "After:\t(1224, 2)\n",
      "Full shape: (105052, 2)\n",
      "43.json.bz2\n"
     ]
    },
    {
     "name": "stderr",
     "output_type": "stream",
     "text": [
      "/tmp/ipykernel_16517/835439046.py:10: FutureWarning: The behavior of 'to_datetime' with 'unit' when parsing strings is deprecated. In a future version, strings will be parsed as datetime strings, matching the behavior without a 'unit'. To retain the old behavior, explicitly cast ints or floats to numeric type before calling to_datetime.\n",
      "  df = pd.read_json(os.path.join(path,file_name), lines=True, convert_dates=[\"created_at\",\"timestamp_ms\"])\n",
      "/tmp/ipykernel_16517/835439046.py:10: FutureWarning: The behavior of 'to_datetime' with 'unit' when parsing strings is deprecated. In a future version, strings will be parsed as datetime strings, matching the behavior without a 'unit'. To retain the old behavior, explicitly cast ints or floats to numeric type before calling to_datetime.\n",
      "  df = pd.read_json(os.path.join(path,file_name), lines=True, convert_dates=[\"created_at\",\"timestamp_ms\"])\n"
     ]
    },
    {
     "name": "stdout",
     "output_type": "stream",
     "text": [
      "Before:\t(3816, 37)\n",
      "After:\t(1277, 2)\n",
      "Full shape: (106329, 2)\n",
      "47.json.bz2\n"
     ]
    },
    {
     "name": "stderr",
     "output_type": "stream",
     "text": [
      "/tmp/ipykernel_16517/835439046.py:10: FutureWarning: The behavior of 'to_datetime' with 'unit' when parsing strings is deprecated. In a future version, strings will be parsed as datetime strings, matching the behavior without a 'unit'. To retain the old behavior, explicitly cast ints or floats to numeric type before calling to_datetime.\n",
      "  df = pd.read_json(os.path.join(path,file_name), lines=True, convert_dates=[\"created_at\",\"timestamp_ms\"])\n",
      "/tmp/ipykernel_16517/835439046.py:10: FutureWarning: The behavior of 'to_datetime' with 'unit' when parsing strings is deprecated. In a future version, strings will be parsed as datetime strings, matching the behavior without a 'unit'. To retain the old behavior, explicitly cast ints or floats to numeric type before calling to_datetime.\n",
      "  df = pd.read_json(os.path.join(path,file_name), lines=True, convert_dates=[\"created_at\",\"timestamp_ms\"])\n"
     ]
    },
    {
     "name": "stdout",
     "output_type": "stream",
     "text": [
      "Before:\t(3661, 37)\n",
      "After:\t(1207, 2)\n",
      "Full shape: (107536, 2)\n",
      "27.json.bz2\n"
     ]
    },
    {
     "name": "stderr",
     "output_type": "stream",
     "text": [
      "/tmp/ipykernel_16517/835439046.py:10: FutureWarning: The behavior of 'to_datetime' with 'unit' when parsing strings is deprecated. In a future version, strings will be parsed as datetime strings, matching the behavior without a 'unit'. To retain the old behavior, explicitly cast ints or floats to numeric type before calling to_datetime.\n",
      "  df = pd.read_json(os.path.join(path,file_name), lines=True, convert_dates=[\"created_at\",\"timestamp_ms\"])\n",
      "/tmp/ipykernel_16517/835439046.py:10: FutureWarning: The behavior of 'to_datetime' with 'unit' when parsing strings is deprecated. In a future version, strings will be parsed as datetime strings, matching the behavior without a 'unit'. To retain the old behavior, explicitly cast ints or floats to numeric type before calling to_datetime.\n",
      "  df = pd.read_json(os.path.join(path,file_name), lines=True, convert_dates=[\"created_at\",\"timestamp_ms\"])\n"
     ]
    },
    {
     "name": "stdout",
     "output_type": "stream",
     "text": [
      "Before:\t(4020, 37)\n",
      "After:\t(1240, 2)\n",
      "Full shape: (108776, 2)\n",
      "42.json.bz2\n"
     ]
    },
    {
     "name": "stderr",
     "output_type": "stream",
     "text": [
      "/tmp/ipykernel_16517/835439046.py:10: FutureWarning: The behavior of 'to_datetime' with 'unit' when parsing strings is deprecated. In a future version, strings will be parsed as datetime strings, matching the behavior without a 'unit'. To retain the old behavior, explicitly cast ints or floats to numeric type before calling to_datetime.\n",
      "  df = pd.read_json(os.path.join(path,file_name), lines=True, convert_dates=[\"created_at\",\"timestamp_ms\"])\n",
      "/tmp/ipykernel_16517/835439046.py:10: FutureWarning: The behavior of 'to_datetime' with 'unit' when parsing strings is deprecated. In a future version, strings will be parsed as datetime strings, matching the behavior without a 'unit'. To retain the old behavior, explicitly cast ints or floats to numeric type before calling to_datetime.\n",
      "  df = pd.read_json(os.path.join(path,file_name), lines=True, convert_dates=[\"created_at\",\"timestamp_ms\"])\n"
     ]
    },
    {
     "name": "stdout",
     "output_type": "stream",
     "text": [
      "Before:\t(3883, 37)\n",
      "After:\t(1253, 2)\n",
      "Full shape: (110029, 2)\n",
      "19.json.bz2\n"
     ]
    },
    {
     "name": "stderr",
     "output_type": "stream",
     "text": [
      "/tmp/ipykernel_16517/835439046.py:10: FutureWarning: The behavior of 'to_datetime' with 'unit' when parsing strings is deprecated. In a future version, strings will be parsed as datetime strings, matching the behavior without a 'unit'. To retain the old behavior, explicitly cast ints or floats to numeric type before calling to_datetime.\n",
      "  df = pd.read_json(os.path.join(path,file_name), lines=True, convert_dates=[\"created_at\",\"timestamp_ms\"])\n",
      "/tmp/ipykernel_16517/835439046.py:10: FutureWarning: The behavior of 'to_datetime' with 'unit' when parsing strings is deprecated. In a future version, strings will be parsed as datetime strings, matching the behavior without a 'unit'. To retain the old behavior, explicitly cast ints or floats to numeric type before calling to_datetime.\n",
      "  df = pd.read_json(os.path.join(path,file_name), lines=True, convert_dates=[\"created_at\",\"timestamp_ms\"])\n"
     ]
    },
    {
     "name": "stdout",
     "output_type": "stream",
     "text": [
      "Before:\t(8012, 37)\n",
      "After:\t(1273, 2)\n",
      "Full shape: (111302, 2)\n",
      "25.json.bz2\n"
     ]
    },
    {
     "name": "stderr",
     "output_type": "stream",
     "text": [
      "/tmp/ipykernel_16517/835439046.py:10: FutureWarning: The behavior of 'to_datetime' with 'unit' when parsing strings is deprecated. In a future version, strings will be parsed as datetime strings, matching the behavior without a 'unit'. To retain the old behavior, explicitly cast ints or floats to numeric type before calling to_datetime.\n",
      "  df = pd.read_json(os.path.join(path,file_name), lines=True, convert_dates=[\"created_at\",\"timestamp_ms\"])\n",
      "/tmp/ipykernel_16517/835439046.py:10: FutureWarning: The behavior of 'to_datetime' with 'unit' when parsing strings is deprecated. In a future version, strings will be parsed as datetime strings, matching the behavior without a 'unit'. To retain the old behavior, explicitly cast ints or floats to numeric type before calling to_datetime.\n",
      "  df = pd.read_json(os.path.join(path,file_name), lines=True, convert_dates=[\"created_at\",\"timestamp_ms\"])\n"
     ]
    },
    {
     "name": "stdout",
     "output_type": "stream",
     "text": [
      "Before:\t(5960, 37)\n",
      "After:\t(1241, 2)\n",
      "Full shape: (112543, 2)\n",
      "01.json.bz2\n"
     ]
    },
    {
     "name": "stderr",
     "output_type": "stream",
     "text": [
      "/tmp/ipykernel_16517/835439046.py:10: FutureWarning: The behavior of 'to_datetime' with 'unit' when parsing strings is deprecated. In a future version, strings will be parsed as datetime strings, matching the behavior without a 'unit'. To retain the old behavior, explicitly cast ints or floats to numeric type before calling to_datetime.\n",
      "  df = pd.read_json(os.path.join(path,file_name), lines=True, convert_dates=[\"created_at\",\"timestamp_ms\"])\n",
      "/tmp/ipykernel_16517/835439046.py:10: FutureWarning: The behavior of 'to_datetime' with 'unit' when parsing strings is deprecated. In a future version, strings will be parsed as datetime strings, matching the behavior without a 'unit'. To retain the old behavior, explicitly cast ints or floats to numeric type before calling to_datetime.\n",
      "  df = pd.read_json(os.path.join(path,file_name), lines=True, convert_dates=[\"created_at\",\"timestamp_ms\"])\n"
     ]
    },
    {
     "name": "stdout",
     "output_type": "stream",
     "text": [
      "Before:\t(6573, 38)\n",
      "After:\t(1245, 2)\n",
      "Full shape: (113788, 2)\n",
      "02.json.bz2\n"
     ]
    },
    {
     "name": "stderr",
     "output_type": "stream",
     "text": [
      "/tmp/ipykernel_16517/835439046.py:10: FutureWarning: The behavior of 'to_datetime' with 'unit' when parsing strings is deprecated. In a future version, strings will be parsed as datetime strings, matching the behavior without a 'unit'. To retain the old behavior, explicitly cast ints or floats to numeric type before calling to_datetime.\n",
      "  df = pd.read_json(os.path.join(path,file_name), lines=True, convert_dates=[\"created_at\",\"timestamp_ms\"])\n",
      "/tmp/ipykernel_16517/835439046.py:10: FutureWarning: The behavior of 'to_datetime' with 'unit' when parsing strings is deprecated. In a future version, strings will be parsed as datetime strings, matching the behavior without a 'unit'. To retain the old behavior, explicitly cast ints or floats to numeric type before calling to_datetime.\n",
      "  df = pd.read_json(os.path.join(path,file_name), lines=True, convert_dates=[\"created_at\",\"timestamp_ms\"])\n"
     ]
    },
    {
     "name": "stdout",
     "output_type": "stream",
     "text": [
      "Before:\t(8571, 37)\n",
      "After:\t(1272, 2)\n",
      "Full shape: (115060, 2)\n",
      "00.json.bz2\n"
     ]
    },
    {
     "name": "stderr",
     "output_type": "stream",
     "text": [
      "/tmp/ipykernel_16517/835439046.py:10: FutureWarning: The behavior of 'to_datetime' with 'unit' when parsing strings is deprecated. In a future version, strings will be parsed as datetime strings, matching the behavior without a 'unit'. To retain the old behavior, explicitly cast ints or floats to numeric type before calling to_datetime.\n",
      "  df = pd.read_json(os.path.join(path,file_name), lines=True, convert_dates=[\"created_at\",\"timestamp_ms\"])\n",
      "/tmp/ipykernel_16517/835439046.py:10: FutureWarning: The behavior of 'to_datetime' with 'unit' when parsing strings is deprecated. In a future version, strings will be parsed as datetime strings, matching the behavior without a 'unit'. To retain the old behavior, explicitly cast ints or floats to numeric type before calling to_datetime.\n",
      "  df = pd.read_json(os.path.join(path,file_name), lines=True, convert_dates=[\"created_at\",\"timestamp_ms\"])\n"
     ]
    },
    {
     "name": "stdout",
     "output_type": "stream",
     "text": [
      "Before:\t(4361, 37)\n",
      "After:\t(1449, 2)\n",
      "Full shape: (116509, 2)\n",
      "31.json.bz2\n"
     ]
    },
    {
     "name": "stderr",
     "output_type": "stream",
     "text": [
      "/tmp/ipykernel_16517/835439046.py:10: FutureWarning: The behavior of 'to_datetime' with 'unit' when parsing strings is deprecated. In a future version, strings will be parsed as datetime strings, matching the behavior without a 'unit'. To retain the old behavior, explicitly cast ints or floats to numeric type before calling to_datetime.\n",
      "  df = pd.read_json(os.path.join(path,file_name), lines=True, convert_dates=[\"created_at\",\"timestamp_ms\"])\n",
      "/tmp/ipykernel_16517/835439046.py:10: FutureWarning: The behavior of 'to_datetime' with 'unit' when parsing strings is deprecated. In a future version, strings will be parsed as datetime strings, matching the behavior without a 'unit'. To retain the old behavior, explicitly cast ints or floats to numeric type before calling to_datetime.\n",
      "  df = pd.read_json(os.path.join(path,file_name), lines=True, convert_dates=[\"created_at\",\"timestamp_ms\"])\n"
     ]
    },
    {
     "name": "stdout",
     "output_type": "stream",
     "text": [
      "Before:\t(3913, 37)\n",
      "After:\t(1286, 2)\n",
      "Full shape: (117795, 2)\n",
      "23.json.bz2\n"
     ]
    },
    {
     "name": "stderr",
     "output_type": "stream",
     "text": [
      "/tmp/ipykernel_16517/835439046.py:10: FutureWarning: The behavior of 'to_datetime' with 'unit' when parsing strings is deprecated. In a future version, strings will be parsed as datetime strings, matching the behavior without a 'unit'. To retain the old behavior, explicitly cast ints or floats to numeric type before calling to_datetime.\n",
      "  df = pd.read_json(os.path.join(path,file_name), lines=True, convert_dates=[\"created_at\",\"timestamp_ms\"])\n",
      "/tmp/ipykernel_16517/835439046.py:10: FutureWarning: The behavior of 'to_datetime' with 'unit' when parsing strings is deprecated. In a future version, strings will be parsed as datetime strings, matching the behavior without a 'unit'. To retain the old behavior, explicitly cast ints or floats to numeric type before calling to_datetime.\n",
      "  df = pd.read_json(os.path.join(path,file_name), lines=True, convert_dates=[\"created_at\",\"timestamp_ms\"])\n"
     ]
    },
    {
     "name": "stdout",
     "output_type": "stream",
     "text": [
      "Before:\t(7623, 37)\n",
      "After:\t(1294, 2)\n",
      "Full shape: (119089, 2)\n",
      "52.json.bz2\n"
     ]
    },
    {
     "name": "stderr",
     "output_type": "stream",
     "text": [
      "/tmp/ipykernel_16517/835439046.py:10: FutureWarning: The behavior of 'to_datetime' with 'unit' when parsing strings is deprecated. In a future version, strings will be parsed as datetime strings, matching the behavior without a 'unit'. To retain the old behavior, explicitly cast ints or floats to numeric type before calling to_datetime.\n",
      "  df = pd.read_json(os.path.join(path,file_name), lines=True, convert_dates=[\"created_at\",\"timestamp_ms\"])\n",
      "/tmp/ipykernel_16517/835439046.py:10: FutureWarning: The behavior of 'to_datetime' with 'unit' when parsing strings is deprecated. In a future version, strings will be parsed as datetime strings, matching the behavior without a 'unit'. To retain the old behavior, explicitly cast ints or floats to numeric type before calling to_datetime.\n",
      "  df = pd.read_json(os.path.join(path,file_name), lines=True, convert_dates=[\"created_at\",\"timestamp_ms\"])\n"
     ]
    },
    {
     "name": "stdout",
     "output_type": "stream",
     "text": [
      "Before:\t(3819, 38)\n",
      "After:\t(1330, 2)\n",
      "Full shape: (120419, 2)\n",
      "13.json.bz2\n"
     ]
    },
    {
     "name": "stderr",
     "output_type": "stream",
     "text": [
      "/tmp/ipykernel_16517/835439046.py:10: FutureWarning: The behavior of 'to_datetime' with 'unit' when parsing strings is deprecated. In a future version, strings will be parsed as datetime strings, matching the behavior without a 'unit'. To retain the old behavior, explicitly cast ints or floats to numeric type before calling to_datetime.\n",
      "  df = pd.read_json(os.path.join(path,file_name), lines=True, convert_dates=[\"created_at\",\"timestamp_ms\"])\n",
      "/tmp/ipykernel_16517/835439046.py:10: FutureWarning: The behavior of 'to_datetime' with 'unit' when parsing strings is deprecated. In a future version, strings will be parsed as datetime strings, matching the behavior without a 'unit'. To retain the old behavior, explicitly cast ints or floats to numeric type before calling to_datetime.\n",
      "  df = pd.read_json(os.path.join(path,file_name), lines=True, convert_dates=[\"created_at\",\"timestamp_ms\"])\n"
     ]
    },
    {
     "name": "stdout",
     "output_type": "stream",
     "text": [
      "Before:\t(8441, 37)\n",
      "After:\t(1242, 2)\n",
      "Full shape: (121661, 2)\n",
      "14.json.bz2\n"
     ]
    },
    {
     "ename": "KeyboardInterrupt",
     "evalue": "",
     "output_type": "error",
     "traceback": [
      "\u001b[0;31m---------------------------------------------------------------------------\u001b[0m",
      "\u001b[0;31mKeyboardInterrupt\u001b[0m                         Traceback (most recent call last)",
      "Cell \u001b[0;32mIn[4], line 10\u001b[0m\n\u001b[1;32m      8\u001b[0m \u001b[38;5;28;01mfor\u001b[39;00m file_name \u001b[38;5;129;01min\u001b[39;00m os\u001b[38;5;241m.\u001b[39mlistdir(path):\n\u001b[1;32m      9\u001b[0m     \u001b[38;5;28mprint\u001b[39m(file_name)\n\u001b[0;32m---> 10\u001b[0m     df \u001b[38;5;241m=\u001b[39m \u001b[43mpd\u001b[49m\u001b[38;5;241;43m.\u001b[39;49m\u001b[43mread_json\u001b[49m\u001b[43m(\u001b[49m\u001b[43mos\u001b[49m\u001b[38;5;241;43m.\u001b[39;49m\u001b[43mpath\u001b[49m\u001b[38;5;241;43m.\u001b[39;49m\u001b[43mjoin\u001b[49m\u001b[43m(\u001b[49m\u001b[43mpath\u001b[49m\u001b[43m,\u001b[49m\u001b[43mfile_name\u001b[49m\u001b[43m)\u001b[49m\u001b[43m,\u001b[49m\u001b[43m \u001b[49m\u001b[43mlines\u001b[49m\u001b[38;5;241;43m=\u001b[39;49m\u001b[38;5;28;43;01mTrue\u001b[39;49;00m\u001b[43m,\u001b[49m\u001b[43m \u001b[49m\u001b[43mconvert_dates\u001b[49m\u001b[38;5;241;43m=\u001b[39;49m\u001b[43m[\u001b[49m\u001b[38;5;124;43m\"\u001b[39;49m\u001b[38;5;124;43mcreated_at\u001b[39;49m\u001b[38;5;124;43m\"\u001b[39;49m\u001b[43m,\u001b[49m\u001b[38;5;124;43m\"\u001b[39;49m\u001b[38;5;124;43mtimestamp_ms\u001b[39;49m\u001b[38;5;124;43m\"\u001b[39;49m\u001b[43m]\u001b[49m\u001b[43m)\u001b[49m\n\u001b[1;32m     11\u001b[0m     df_big \u001b[38;5;241m=\u001b[39m pd\u001b[38;5;241m.\u001b[39mconcat([df_big, cleanDataframe(df)])\n\u001b[1;32m     12\u001b[0m     \u001b[38;5;28mprint\u001b[39m(\u001b[38;5;124mf\u001b[39m\u001b[38;5;124m\"\u001b[39m\u001b[38;5;124mFull shape: \u001b[39m\u001b[38;5;132;01m{\u001b[39;00mdf_big\u001b[38;5;241m.\u001b[39mshape\u001b[38;5;132;01m}\u001b[39;00m\u001b[38;5;124m\"\u001b[39m)\n",
      "File \u001b[0;32m~/micromamba/lib/python3.11/site-packages/pandas/io/json/_json.py:760\u001b[0m, in \u001b[0;36mread_json\u001b[0;34m(path_or_buf, orient, typ, dtype, convert_axes, convert_dates, keep_default_dates, precise_float, date_unit, encoding, encoding_errors, lines, chunksize, compression, nrows, storage_options, dtype_backend, engine)\u001b[0m\n\u001b[1;32m    757\u001b[0m \u001b[38;5;28;01mif\u001b[39;00m convert_axes \u001b[38;5;129;01mis\u001b[39;00m \u001b[38;5;28;01mNone\u001b[39;00m \u001b[38;5;129;01mand\u001b[39;00m orient \u001b[38;5;241m!=\u001b[39m \u001b[38;5;124m\"\u001b[39m\u001b[38;5;124mtable\u001b[39m\u001b[38;5;124m\"\u001b[39m:\n\u001b[1;32m    758\u001b[0m     convert_axes \u001b[38;5;241m=\u001b[39m \u001b[38;5;28;01mTrue\u001b[39;00m\n\u001b[0;32m--> 760\u001b[0m json_reader \u001b[38;5;241m=\u001b[39m \u001b[43mJsonReader\u001b[49m\u001b[43m(\u001b[49m\n\u001b[1;32m    761\u001b[0m \u001b[43m    \u001b[49m\u001b[43mpath_or_buf\u001b[49m\u001b[43m,\u001b[49m\n\u001b[1;32m    762\u001b[0m \u001b[43m    \u001b[49m\u001b[43morient\u001b[49m\u001b[38;5;241;43m=\u001b[39;49m\u001b[43morient\u001b[49m\u001b[43m,\u001b[49m\n\u001b[1;32m    763\u001b[0m \u001b[43m    \u001b[49m\u001b[43mtyp\u001b[49m\u001b[38;5;241;43m=\u001b[39;49m\u001b[43mtyp\u001b[49m\u001b[43m,\u001b[49m\n\u001b[1;32m    764\u001b[0m \u001b[43m    \u001b[49m\u001b[43mdtype\u001b[49m\u001b[38;5;241;43m=\u001b[39;49m\u001b[43mdtype\u001b[49m\u001b[43m,\u001b[49m\n\u001b[1;32m    765\u001b[0m \u001b[43m    \u001b[49m\u001b[43mconvert_axes\u001b[49m\u001b[38;5;241;43m=\u001b[39;49m\u001b[43mconvert_axes\u001b[49m\u001b[43m,\u001b[49m\n\u001b[1;32m    766\u001b[0m \u001b[43m    \u001b[49m\u001b[43mconvert_dates\u001b[49m\u001b[38;5;241;43m=\u001b[39;49m\u001b[43mconvert_dates\u001b[49m\u001b[43m,\u001b[49m\n\u001b[1;32m    767\u001b[0m \u001b[43m    \u001b[49m\u001b[43mkeep_default_dates\u001b[49m\u001b[38;5;241;43m=\u001b[39;49m\u001b[43mkeep_default_dates\u001b[49m\u001b[43m,\u001b[49m\n\u001b[1;32m    768\u001b[0m \u001b[43m    \u001b[49m\u001b[43mprecise_float\u001b[49m\u001b[38;5;241;43m=\u001b[39;49m\u001b[43mprecise_float\u001b[49m\u001b[43m,\u001b[49m\n\u001b[1;32m    769\u001b[0m \u001b[43m    \u001b[49m\u001b[43mdate_unit\u001b[49m\u001b[38;5;241;43m=\u001b[39;49m\u001b[43mdate_unit\u001b[49m\u001b[43m,\u001b[49m\n\u001b[1;32m    770\u001b[0m \u001b[43m    \u001b[49m\u001b[43mencoding\u001b[49m\u001b[38;5;241;43m=\u001b[39;49m\u001b[43mencoding\u001b[49m\u001b[43m,\u001b[49m\n\u001b[1;32m    771\u001b[0m \u001b[43m    \u001b[49m\u001b[43mlines\u001b[49m\u001b[38;5;241;43m=\u001b[39;49m\u001b[43mlines\u001b[49m\u001b[43m,\u001b[49m\n\u001b[1;32m    772\u001b[0m \u001b[43m    \u001b[49m\u001b[43mchunksize\u001b[49m\u001b[38;5;241;43m=\u001b[39;49m\u001b[43mchunksize\u001b[49m\u001b[43m,\u001b[49m\n\u001b[1;32m    773\u001b[0m \u001b[43m    \u001b[49m\u001b[43mcompression\u001b[49m\u001b[38;5;241;43m=\u001b[39;49m\u001b[43mcompression\u001b[49m\u001b[43m,\u001b[49m\n\u001b[1;32m    774\u001b[0m \u001b[43m    \u001b[49m\u001b[43mnrows\u001b[49m\u001b[38;5;241;43m=\u001b[39;49m\u001b[43mnrows\u001b[49m\u001b[43m,\u001b[49m\n\u001b[1;32m    775\u001b[0m \u001b[43m    \u001b[49m\u001b[43mstorage_options\u001b[49m\u001b[38;5;241;43m=\u001b[39;49m\u001b[43mstorage_options\u001b[49m\u001b[43m,\u001b[49m\n\u001b[1;32m    776\u001b[0m \u001b[43m    \u001b[49m\u001b[43mencoding_errors\u001b[49m\u001b[38;5;241;43m=\u001b[39;49m\u001b[43mencoding_errors\u001b[49m\u001b[43m,\u001b[49m\n\u001b[1;32m    777\u001b[0m \u001b[43m    \u001b[49m\u001b[43mdtype_backend\u001b[49m\u001b[38;5;241;43m=\u001b[39;49m\u001b[43mdtype_backend\u001b[49m\u001b[43m,\u001b[49m\n\u001b[1;32m    778\u001b[0m \u001b[43m    \u001b[49m\u001b[43mengine\u001b[49m\u001b[38;5;241;43m=\u001b[39;49m\u001b[43mengine\u001b[49m\u001b[43m,\u001b[49m\n\u001b[1;32m    779\u001b[0m \u001b[43m\u001b[49m\u001b[43m)\u001b[49m\n\u001b[1;32m    781\u001b[0m \u001b[38;5;28;01mif\u001b[39;00m chunksize:\n\u001b[1;32m    782\u001b[0m     \u001b[38;5;28;01mreturn\u001b[39;00m json_reader\n",
      "File \u001b[0;32m~/micromamba/lib/python3.11/site-packages/pandas/io/json/_json.py:862\u001b[0m, in \u001b[0;36mJsonReader.__init__\u001b[0;34m(self, filepath_or_buffer, orient, typ, dtype, convert_axes, convert_dates, keep_default_dates, precise_float, date_unit, encoding, lines, chunksize, compression, nrows, storage_options, encoding_errors, dtype_backend, engine)\u001b[0m\n\u001b[1;32m    860\u001b[0m \u001b[38;5;28;01melif\u001b[39;00m \u001b[38;5;28mself\u001b[39m\u001b[38;5;241m.\u001b[39mengine \u001b[38;5;241m==\u001b[39m \u001b[38;5;124m\"\u001b[39m\u001b[38;5;124mujson\u001b[39m\u001b[38;5;124m\"\u001b[39m:\n\u001b[1;32m    861\u001b[0m     data \u001b[38;5;241m=\u001b[39m \u001b[38;5;28mself\u001b[39m\u001b[38;5;241m.\u001b[39m_get_data_from_filepath(filepath_or_buffer)\n\u001b[0;32m--> 862\u001b[0m     \u001b[38;5;28mself\u001b[39m\u001b[38;5;241m.\u001b[39mdata \u001b[38;5;241m=\u001b[39m \u001b[38;5;28;43mself\u001b[39;49m\u001b[38;5;241;43m.\u001b[39;49m\u001b[43m_preprocess_data\u001b[49m\u001b[43m(\u001b[49m\u001b[43mdata\u001b[49m\u001b[43m)\u001b[49m\n",
      "File \u001b[0;32m~/micromamba/lib/python3.11/site-packages/pandas/io/json/_json.py:874\u001b[0m, in \u001b[0;36mJsonReader._preprocess_data\u001b[0;34m(self, data)\u001b[0m\n\u001b[1;32m    872\u001b[0m \u001b[38;5;28;01mif\u001b[39;00m \u001b[38;5;28mhasattr\u001b[39m(data, \u001b[38;5;124m\"\u001b[39m\u001b[38;5;124mread\u001b[39m\u001b[38;5;124m\"\u001b[39m) \u001b[38;5;129;01mand\u001b[39;00m \u001b[38;5;129;01mnot\u001b[39;00m (\u001b[38;5;28mself\u001b[39m\u001b[38;5;241m.\u001b[39mchunksize \u001b[38;5;129;01mor\u001b[39;00m \u001b[38;5;28mself\u001b[39m\u001b[38;5;241m.\u001b[39mnrows):\n\u001b[1;32m    873\u001b[0m     \u001b[38;5;28;01mwith\u001b[39;00m \u001b[38;5;28mself\u001b[39m:\n\u001b[0;32m--> 874\u001b[0m         data \u001b[38;5;241m=\u001b[39m data\u001b[38;5;241m.\u001b[39mread()\n\u001b[1;32m    875\u001b[0m \u001b[38;5;28;01mif\u001b[39;00m \u001b[38;5;129;01mnot\u001b[39;00m \u001b[38;5;28mhasattr\u001b[39m(data, \u001b[38;5;124m\"\u001b[39m\u001b[38;5;124mread\u001b[39m\u001b[38;5;124m\"\u001b[39m) \u001b[38;5;129;01mand\u001b[39;00m (\u001b[38;5;28mself\u001b[39m\u001b[38;5;241m.\u001b[39mchunksize \u001b[38;5;129;01mor\u001b[39;00m \u001b[38;5;28mself\u001b[39m\u001b[38;5;241m.\u001b[39mnrows):\n\u001b[1;32m    876\u001b[0m     data \u001b[38;5;241m=\u001b[39m StringIO(data)\n",
      "File \u001b[0;32m~/micromamba/lib/python3.11/bz2.py:164\u001b[0m, in \u001b[0;36mBZ2File.read\u001b[0;34m(self, size)\u001b[0m\n\u001b[1;32m    158\u001b[0m \u001b[38;5;250m\u001b[39m\u001b[38;5;124;03m\"\"\"Read up to size uncompressed bytes from the file.\u001b[39;00m\n\u001b[1;32m    159\u001b[0m \n\u001b[1;32m    160\u001b[0m \u001b[38;5;124;03mIf size is negative or omitted, read until EOF is reached.\u001b[39;00m\n\u001b[1;32m    161\u001b[0m \u001b[38;5;124;03mReturns b'' if the file is already at EOF.\u001b[39;00m\n\u001b[1;32m    162\u001b[0m \u001b[38;5;124;03m\"\"\"\u001b[39;00m\n\u001b[1;32m    163\u001b[0m \u001b[38;5;28mself\u001b[39m\u001b[38;5;241m.\u001b[39m_check_can_read()\n\u001b[0;32m--> 164\u001b[0m \u001b[38;5;28;01mreturn\u001b[39;00m \u001b[38;5;28mself\u001b[39m\u001b[38;5;241m.\u001b[39m_buffer\u001b[38;5;241m.\u001b[39mread(size)\n",
      "File \u001b[0;32m~/micromamba/lib/python3.11/_compression.py:118\u001b[0m, in \u001b[0;36mDecompressReader.readall\u001b[0;34m(self)\u001b[0m\n\u001b[1;32m    114\u001b[0m chunks \u001b[38;5;241m=\u001b[39m []\n\u001b[1;32m    115\u001b[0m \u001b[38;5;66;03m# sys.maxsize means the max length of output buffer is unlimited,\u001b[39;00m\n\u001b[1;32m    116\u001b[0m \u001b[38;5;66;03m# so that the whole input buffer can be decompressed within one\u001b[39;00m\n\u001b[1;32m    117\u001b[0m \u001b[38;5;66;03m# .decompress() call.\u001b[39;00m\n\u001b[0;32m--> 118\u001b[0m \u001b[38;5;28;01mwhile\u001b[39;00m data \u001b[38;5;241m:=\u001b[39m \u001b[38;5;28;43mself\u001b[39;49m\u001b[38;5;241;43m.\u001b[39;49m\u001b[43mread\u001b[49m\u001b[43m(\u001b[49m\u001b[43msys\u001b[49m\u001b[38;5;241;43m.\u001b[39;49m\u001b[43mmaxsize\u001b[49m\u001b[43m)\u001b[49m:\n\u001b[1;32m    119\u001b[0m     chunks\u001b[38;5;241m.\u001b[39mappend(data)\n\u001b[1;32m    121\u001b[0m \u001b[38;5;28;01mreturn\u001b[39;00m \u001b[38;5;124mb\u001b[39m\u001b[38;5;124m\"\u001b[39m\u001b[38;5;124m\"\u001b[39m\u001b[38;5;241m.\u001b[39mjoin(chunks)\n",
      "File \u001b[0;32m~/micromamba/lib/python3.11/_compression.py:103\u001b[0m, in \u001b[0;36mDecompressReader.read\u001b[0;34m(self, size)\u001b[0m\n\u001b[1;32m    101\u001b[0m     \u001b[38;5;28;01melse\u001b[39;00m:\n\u001b[1;32m    102\u001b[0m         rawblock \u001b[38;5;241m=\u001b[39m \u001b[38;5;124mb\u001b[39m\u001b[38;5;124m\"\u001b[39m\u001b[38;5;124m\"\u001b[39m\n\u001b[0;32m--> 103\u001b[0m     data \u001b[38;5;241m=\u001b[39m \u001b[38;5;28mself\u001b[39m\u001b[38;5;241m.\u001b[39m_decompressor\u001b[38;5;241m.\u001b[39mdecompress(rawblock, size)\n\u001b[1;32m    104\u001b[0m \u001b[38;5;28;01mif\u001b[39;00m data:\n\u001b[1;32m    105\u001b[0m     \u001b[38;5;28;01mbreak\u001b[39;00m\n",
      "\u001b[0;31mKeyboardInterrupt\u001b[0m: "
     ]
    }
   ],
   "source": [
    "import os\n",
    "\n",
    "#Select 4 hours of tweets: hours 0, 6, 12, and 18\n",
    "basePath = \"2020_06_11\"\n",
    "directories = [\"00\", \"06\", \"12\", \"18\"]\n",
    "paths = [os.path.join(basePath,d) for d in directories]\n",
    "\n",
    "df_big = pd.DataFrame()\n",
    "for path in paths:\n",
    "    for file_name in os.listdir(path):\n",
    "        print(os.path.join(path,file_name)\n",
    "        df = pd.read_json(os.path.join(path,file_name), lines=True, convert_dates=[\"created_at\",\"timestamp_ms\"])\n",
    "        df_big = pd.concat([df_big, cleanDataframe(df)])\n",
    "        print(f\"Full shape: {df_big.shape}\")"
   ]
  },
  {
   "cell_type": "code",
   "execution_count": 5,
   "id": "47d735c7",
   "metadata": {},
   "outputs": [],
   "source": [
    "df_big.to_csv(\"twitter_stream.csv\")"
   ]
  },
  {
   "cell_type": "code",
   "execution_count": null,
   "id": "8ee34e7a",
   "metadata": {},
   "outputs": [],
   "source": []
  }
 ],
 "metadata": {
  "kernelspec": {
   "display_name": "Python 3 (ipykernel)",
   "language": "python",
   "name": "python3"
  },
  "language_info": {
   "codemirror_mode": {
    "name": "ipython",
    "version": 3
   },
   "file_extension": ".py",
   "mimetype": "text/x-python",
   "name": "python",
   "nbconvert_exporter": "python",
   "pygments_lexer": "ipython3",
   "version": "3.11.3"
  }
 },
 "nbformat": 4,
 "nbformat_minor": 5
}
