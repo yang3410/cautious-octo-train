{
 "cells": [
  {
   "cell_type": "code",
   "execution_count": 1,
   "id": "8e8e923f",
   "metadata": {},
   "outputs": [],
   "source": [
    "import numpy as np\n",
    "import pandas as pd\n",
    "import re\n",
    "from unidecode import unidecode"
   ]
  },
  {
   "cell_type": "code",
   "execution_count": 2,
   "id": "feb04dba",
   "metadata": {},
   "outputs": [],
   "source": [
    "def clean_string(s):\n",
    "    s = unidecode(s)\n",
    "    #Replace newlines with spaces\n",
    "    s = s.replace(\"\\n\",\" \")\n",
    "    #Delete handles\n",
    "    s = re.sub(r\"@(.+?)\\b:*\",\"\",s)\n",
    "    #Delete \"RT\"\n",
    "    s = re.sub(r\"RT\",\"\",s)\n",
    "    #Delete hashtags\n",
    "    s = re.sub(r\"#(.+?)\\b\",\"\",s)\n",
    "    #Delete hyperlinks\n",
    "    s = re.sub(r\"http(.+?)(?:$|\\s)\",\"\",s)\n",
    "    s = s.strip()\n",
    "    return s"
   ]
  },
  {
   "cell_type": "code",
   "execution_count": 3,
   "id": "4cab04da",
   "metadata": {},
   "outputs": [],
   "source": [
    "def cleanDataframe(df):\n",
    "    print(f\"Before:\\t{df.shape}\")\n",
    "    df = df.copy()\n",
    "\n",
    "    #Remove unnecessary columns\n",
    "    df=df[[\"created_at\",\"text\",\"truncated\",\"lang\"]]\n",
    "\n",
    "    #Drop rows with missing text\n",
    "    df.dropna(subset=[\"text\"], inplace=True)\n",
    "\n",
    "    #Drop rows with truncated text\n",
    "    df = df.loc[df[\"truncated\"]==0]\n",
    "    df.shape\n",
    "\n",
    "    #Drop all non-English entries\n",
    "    df = df.loc[df[\"lang\"]==\"en\"]\n",
    "    df.shape\n",
    "\n",
    "    #Drop the now-unnecessary columns\n",
    "    df = df[[\"created_at\",\"text\"]]\n",
    "\n",
    "    #Clean the strings\n",
    "    df[\"text\"] = df[\"text\"].apply(clean_string)\n",
    "    df.sample(10, random_state=11)\n",
    "\n",
    "    #Reset the index\n",
    "    df.reset_index(drop=True,inplace=True)\n",
    "    \n",
    "    print(f\"After:\\t{df.shape}\")\n",
    "    return df"
   ]
  },
  {
   "cell_type": "code",
   "execution_count": 7,
   "id": "d2908d35",
   "metadata": {
    "scrolled": true
   },
   "outputs": [
    {
     "name": "stdout",
     "output_type": "stream",
     "text": [
      "2020_06_11/00/30.json.bz2\n"
     ]
    },
    {
     "name": "stderr",
     "output_type": "stream",
     "text": [
      "/tmp/ipykernel_16517/3536830003.py:12: FutureWarning: The behavior of 'to_datetime' with 'unit' when parsing strings is deprecated. In a future version, strings will be parsed as datetime strings, matching the behavior without a 'unit'. To retain the old behavior, explicitly cast ints or floats to numeric type before calling to_datetime.\n",
      "  df = pd.read_json(os.path.join(path,file_name), lines=True, convert_dates=[\"created_at\",\"timestamp_ms\"])\n",
      "/tmp/ipykernel_16517/3536830003.py:12: FutureWarning: The behavior of 'to_datetime' with 'unit' when parsing strings is deprecated. In a future version, strings will be parsed as datetime strings, matching the behavior without a 'unit'. To retain the old behavior, explicitly cast ints or floats to numeric type before calling to_datetime.\n",
      "  df = pd.read_json(os.path.join(path,file_name), lines=True, convert_dates=[\"created_at\",\"timestamp_ms\"])\n"
     ]
    },
    {
     "name": "stdout",
     "output_type": "stream",
     "text": [
      "Before:\t(3239, 37)\n",
      "After:\t(790, 2)\n",
      "Full shape: (790, 2)\n",
      "2020_06_11/00/51.json.bz2\n"
     ]
    },
    {
     "name": "stderr",
     "output_type": "stream",
     "text": [
      "/tmp/ipykernel_16517/3536830003.py:12: FutureWarning: The behavior of 'to_datetime' with 'unit' when parsing strings is deprecated. In a future version, strings will be parsed as datetime strings, matching the behavior without a 'unit'. To retain the old behavior, explicitly cast ints or floats to numeric type before calling to_datetime.\n",
      "  df = pd.read_json(os.path.join(path,file_name), lines=True, convert_dates=[\"created_at\",\"timestamp_ms\"])\n",
      "/tmp/ipykernel_16517/3536830003.py:12: FutureWarning: The behavior of 'to_datetime' with 'unit' when parsing strings is deprecated. In a future version, strings will be parsed as datetime strings, matching the behavior without a 'unit'. To retain the old behavior, explicitly cast ints or floats to numeric type before calling to_datetime.\n",
      "  df = pd.read_json(os.path.join(path,file_name), lines=True, convert_dates=[\"created_at\",\"timestamp_ms\"])\n"
     ]
    },
    {
     "name": "stdout",
     "output_type": "stream",
     "text": [
      "Before:\t(3468, 38)\n",
      "After:\t(752, 2)\n",
      "Full shape: (1542, 2)\n",
      "2020_06_11/00/54.json.bz2\n"
     ]
    },
    {
     "name": "stderr",
     "output_type": "stream",
     "text": [
      "/tmp/ipykernel_16517/3536830003.py:12: FutureWarning: The behavior of 'to_datetime' with 'unit' when parsing strings is deprecated. In a future version, strings will be parsed as datetime strings, matching the behavior without a 'unit'. To retain the old behavior, explicitly cast ints or floats to numeric type before calling to_datetime.\n",
      "  df = pd.read_json(os.path.join(path,file_name), lines=True, convert_dates=[\"created_at\",\"timestamp_ms\"])\n",
      "/tmp/ipykernel_16517/3536830003.py:12: FutureWarning: The behavior of 'to_datetime' with 'unit' when parsing strings is deprecated. In a future version, strings will be parsed as datetime strings, matching the behavior without a 'unit'. To retain the old behavior, explicitly cast ints or floats to numeric type before calling to_datetime.\n",
      "  df = pd.read_json(os.path.join(path,file_name), lines=True, convert_dates=[\"created_at\",\"timestamp_ms\"])\n"
     ]
    },
    {
     "name": "stdout",
     "output_type": "stream",
     "text": [
      "Before:\t(3018, 37)\n",
      "After:\t(732, 2)\n",
      "Full shape: (2274, 2)\n",
      "2020_06_11/00/55.json.bz2\n"
     ]
    },
    {
     "name": "stderr",
     "output_type": "stream",
     "text": [
      "/tmp/ipykernel_16517/3536830003.py:12: FutureWarning: The behavior of 'to_datetime' with 'unit' when parsing strings is deprecated. In a future version, strings will be parsed as datetime strings, matching the behavior without a 'unit'. To retain the old behavior, explicitly cast ints or floats to numeric type before calling to_datetime.\n",
      "  df = pd.read_json(os.path.join(path,file_name), lines=True, convert_dates=[\"created_at\",\"timestamp_ms\"])\n",
      "/tmp/ipykernel_16517/3536830003.py:12: FutureWarning: The behavior of 'to_datetime' with 'unit' when parsing strings is deprecated. In a future version, strings will be parsed as datetime strings, matching the behavior without a 'unit'. To retain the old behavior, explicitly cast ints or floats to numeric type before calling to_datetime.\n",
      "  df = pd.read_json(os.path.join(path,file_name), lines=True, convert_dates=[\"created_at\",\"timestamp_ms\"])\n"
     ]
    },
    {
     "name": "stdout",
     "output_type": "stream",
     "text": [
      "Before:\t(2947, 37)\n",
      "After:\t(728, 2)\n",
      "Full shape: (3002, 2)\n",
      "2020_06_11/00/58.json.bz2\n"
     ]
    },
    {
     "name": "stderr",
     "output_type": "stream",
     "text": [
      "/tmp/ipykernel_16517/3536830003.py:12: FutureWarning: The behavior of 'to_datetime' with 'unit' when parsing strings is deprecated. In a future version, strings will be parsed as datetime strings, matching the behavior without a 'unit'. To retain the old behavior, explicitly cast ints or floats to numeric type before calling to_datetime.\n",
      "  df = pd.read_json(os.path.join(path,file_name), lines=True, convert_dates=[\"created_at\",\"timestamp_ms\"])\n",
      "/tmp/ipykernel_16517/3536830003.py:12: FutureWarning: The behavior of 'to_datetime' with 'unit' when parsing strings is deprecated. In a future version, strings will be parsed as datetime strings, matching the behavior without a 'unit'. To retain the old behavior, explicitly cast ints or floats to numeric type before calling to_datetime.\n",
      "  df = pd.read_json(os.path.join(path,file_name), lines=True, convert_dates=[\"created_at\",\"timestamp_ms\"])\n"
     ]
    },
    {
     "name": "stdout",
     "output_type": "stream",
     "text": [
      "Before:\t(2974, 37)\n",
      "After:\t(726, 2)\n",
      "Full shape: (3728, 2)\n",
      "2020_06_11/00/33.json.bz2\n"
     ]
    },
    {
     "name": "stderr",
     "output_type": "stream",
     "text": [
      "/tmp/ipykernel_16517/3536830003.py:12: FutureWarning: The behavior of 'to_datetime' with 'unit' when parsing strings is deprecated. In a future version, strings will be parsed as datetime strings, matching the behavior without a 'unit'. To retain the old behavior, explicitly cast ints or floats to numeric type before calling to_datetime.\n",
      "  df = pd.read_json(os.path.join(path,file_name), lines=True, convert_dates=[\"created_at\",\"timestamp_ms\"])\n",
      "/tmp/ipykernel_16517/3536830003.py:12: FutureWarning: The behavior of 'to_datetime' with 'unit' when parsing strings is deprecated. In a future version, strings will be parsed as datetime strings, matching the behavior without a 'unit'. To retain the old behavior, explicitly cast ints or floats to numeric type before calling to_datetime.\n",
      "  df = pd.read_json(os.path.join(path,file_name), lines=True, convert_dates=[\"created_at\",\"timestamp_ms\"])\n"
     ]
    },
    {
     "name": "stdout",
     "output_type": "stream",
     "text": [
      "Before:\t(3295, 38)\n",
      "After:\t(773, 2)\n",
      "Full shape: (4501, 2)\n",
      "2020_06_11/00/48.json.bz2\n"
     ]
    },
    {
     "name": "stderr",
     "output_type": "stream",
     "text": [
      "/tmp/ipykernel_16517/3536830003.py:12: FutureWarning: The behavior of 'to_datetime' with 'unit' when parsing strings is deprecated. In a future version, strings will be parsed as datetime strings, matching the behavior without a 'unit'. To retain the old behavior, explicitly cast ints or floats to numeric type before calling to_datetime.\n",
      "  df = pd.read_json(os.path.join(path,file_name), lines=True, convert_dates=[\"created_at\",\"timestamp_ms\"])\n",
      "/tmp/ipykernel_16517/3536830003.py:12: FutureWarning: The behavior of 'to_datetime' with 'unit' when parsing strings is deprecated. In a future version, strings will be parsed as datetime strings, matching the behavior without a 'unit'. To retain the old behavior, explicitly cast ints or floats to numeric type before calling to_datetime.\n",
      "  df = pd.read_json(os.path.join(path,file_name), lines=True, convert_dates=[\"created_at\",\"timestamp_ms\"])\n"
     ]
    },
    {
     "name": "stdout",
     "output_type": "stream",
     "text": [
      "Before:\t(2906, 37)\n",
      "After:\t(757, 2)\n",
      "Full shape: (5258, 2)\n",
      "2020_06_11/00/56.json.bz2\n"
     ]
    },
    {
     "name": "stderr",
     "output_type": "stream",
     "text": [
      "/tmp/ipykernel_16517/3536830003.py:12: FutureWarning: The behavior of 'to_datetime' with 'unit' when parsing strings is deprecated. In a future version, strings will be parsed as datetime strings, matching the behavior without a 'unit'. To retain the old behavior, explicitly cast ints or floats to numeric type before calling to_datetime.\n",
      "  df = pd.read_json(os.path.join(path,file_name), lines=True, convert_dates=[\"created_at\",\"timestamp_ms\"])\n",
      "/tmp/ipykernel_16517/3536830003.py:12: FutureWarning: The behavior of 'to_datetime' with 'unit' when parsing strings is deprecated. In a future version, strings will be parsed as datetime strings, matching the behavior without a 'unit'. To retain the old behavior, explicitly cast ints or floats to numeric type before calling to_datetime.\n",
      "  df = pd.read_json(os.path.join(path,file_name), lines=True, convert_dates=[\"created_at\",\"timestamp_ms\"])\n"
     ]
    },
    {
     "name": "stdout",
     "output_type": "stream",
     "text": [
      "Before:\t(2868, 38)\n",
      "After:\t(725, 2)\n",
      "Full shape: (5983, 2)\n",
      "2020_06_11/00/43.json.bz2\n"
     ]
    },
    {
     "name": "stderr",
     "output_type": "stream",
     "text": [
      "/tmp/ipykernel_16517/3536830003.py:12: FutureWarning: The behavior of 'to_datetime' with 'unit' when parsing strings is deprecated. In a future version, strings will be parsed as datetime strings, matching the behavior without a 'unit'. To retain the old behavior, explicitly cast ints or floats to numeric type before calling to_datetime.\n",
      "  df = pd.read_json(os.path.join(path,file_name), lines=True, convert_dates=[\"created_at\",\"timestamp_ms\"])\n",
      "/tmp/ipykernel_16517/3536830003.py:12: FutureWarning: The behavior of 'to_datetime' with 'unit' when parsing strings is deprecated. In a future version, strings will be parsed as datetime strings, matching the behavior without a 'unit'. To retain the old behavior, explicitly cast ints or floats to numeric type before calling to_datetime.\n",
      "  df = pd.read_json(os.path.join(path,file_name), lines=True, convert_dates=[\"created_at\",\"timestamp_ms\"])\n"
     ]
    },
    {
     "name": "stdout",
     "output_type": "stream",
     "text": [
      "Before:\t(3241, 37)\n",
      "After:\t(694, 2)\n",
      "Full shape: (6677, 2)\n",
      "2020_06_11/00/47.json.bz2\n"
     ]
    },
    {
     "name": "stderr",
     "output_type": "stream",
     "text": [
      "/tmp/ipykernel_16517/3536830003.py:12: FutureWarning: The behavior of 'to_datetime' with 'unit' when parsing strings is deprecated. In a future version, strings will be parsed as datetime strings, matching the behavior without a 'unit'. To retain the old behavior, explicitly cast ints or floats to numeric type before calling to_datetime.\n",
      "  df = pd.read_json(os.path.join(path,file_name), lines=True, convert_dates=[\"created_at\",\"timestamp_ms\"])\n",
      "/tmp/ipykernel_16517/3536830003.py:12: FutureWarning: The behavior of 'to_datetime' with 'unit' when parsing strings is deprecated. In a future version, strings will be parsed as datetime strings, matching the behavior without a 'unit'. To retain the old behavior, explicitly cast ints or floats to numeric type before calling to_datetime.\n",
      "  df = pd.read_json(os.path.join(path,file_name), lines=True, convert_dates=[\"created_at\",\"timestamp_ms\"])\n"
     ]
    },
    {
     "name": "stdout",
     "output_type": "stream",
     "text": [
      "Before:\t(2960, 37)\n",
      "After:\t(774, 2)\n",
      "Full shape: (7451, 2)\n",
      "2020_06_11/00/42.json.bz2\n"
     ]
    },
    {
     "name": "stderr",
     "output_type": "stream",
     "text": [
      "/tmp/ipykernel_16517/3536830003.py:12: FutureWarning: The behavior of 'to_datetime' with 'unit' when parsing strings is deprecated. In a future version, strings will be parsed as datetime strings, matching the behavior without a 'unit'. To retain the old behavior, explicitly cast ints or floats to numeric type before calling to_datetime.\n",
      "  df = pd.read_json(os.path.join(path,file_name), lines=True, convert_dates=[\"created_at\",\"timestamp_ms\"])\n",
      "/tmp/ipykernel_16517/3536830003.py:12: FutureWarning: The behavior of 'to_datetime' with 'unit' when parsing strings is deprecated. In a future version, strings will be parsed as datetime strings, matching the behavior without a 'unit'. To retain the old behavior, explicitly cast ints or floats to numeric type before calling to_datetime.\n",
      "  df = pd.read_json(os.path.join(path,file_name), lines=True, convert_dates=[\"created_at\",\"timestamp_ms\"])\n"
     ]
    },
    {
     "name": "stdout",
     "output_type": "stream",
     "text": [
      "Before:\t(3380, 37)\n",
      "After:\t(747, 2)\n",
      "Full shape: (8198, 2)\n",
      "2020_06_11/00/31.json.bz2\n"
     ]
    },
    {
     "name": "stderr",
     "output_type": "stream",
     "text": [
      "/tmp/ipykernel_16517/3536830003.py:12: FutureWarning: The behavior of 'to_datetime' with 'unit' when parsing strings is deprecated. In a future version, strings will be parsed as datetime strings, matching the behavior without a 'unit'. To retain the old behavior, explicitly cast ints or floats to numeric type before calling to_datetime.\n",
      "  df = pd.read_json(os.path.join(path,file_name), lines=True, convert_dates=[\"created_at\",\"timestamp_ms\"])\n",
      "/tmp/ipykernel_16517/3536830003.py:12: FutureWarning: The behavior of 'to_datetime' with 'unit' when parsing strings is deprecated. In a future version, strings will be parsed as datetime strings, matching the behavior without a 'unit'. To retain the old behavior, explicitly cast ints or floats to numeric type before calling to_datetime.\n",
      "  df = pd.read_json(os.path.join(path,file_name), lines=True, convert_dates=[\"created_at\",\"timestamp_ms\"])\n"
     ]
    },
    {
     "name": "stdout",
     "output_type": "stream",
     "text": [
      "Before:\t(3005, 37)\n",
      "After:\t(755, 2)\n",
      "Full shape: (8953, 2)\n",
      "2020_06_11/00/52.json.bz2\n"
     ]
    },
    {
     "name": "stderr",
     "output_type": "stream",
     "text": [
      "/tmp/ipykernel_16517/3536830003.py:12: FutureWarning: The behavior of 'to_datetime' with 'unit' when parsing strings is deprecated. In a future version, strings will be parsed as datetime strings, matching the behavior without a 'unit'. To retain the old behavior, explicitly cast ints or floats to numeric type before calling to_datetime.\n",
      "  df = pd.read_json(os.path.join(path,file_name), lines=True, convert_dates=[\"created_at\",\"timestamp_ms\"])\n",
      "/tmp/ipykernel_16517/3536830003.py:12: FutureWarning: The behavior of 'to_datetime' with 'unit' when parsing strings is deprecated. In a future version, strings will be parsed as datetime strings, matching the behavior without a 'unit'. To retain the old behavior, explicitly cast ints or floats to numeric type before calling to_datetime.\n",
      "  df = pd.read_json(os.path.join(path,file_name), lines=True, convert_dates=[\"created_at\",\"timestamp_ms\"])\n"
     ]
    },
    {
     "name": "stdout",
     "output_type": "stream",
     "text": [
      "Before:\t(3016, 37)\n",
      "After:\t(682, 2)\n",
      "Full shape: (9635, 2)\n",
      "2020_06_11/00/35.json.bz2\n"
     ]
    },
    {
     "name": "stderr",
     "output_type": "stream",
     "text": [
      "/tmp/ipykernel_16517/3536830003.py:12: FutureWarning: The behavior of 'to_datetime' with 'unit' when parsing strings is deprecated. In a future version, strings will be parsed as datetime strings, matching the behavior without a 'unit'. To retain the old behavior, explicitly cast ints or floats to numeric type before calling to_datetime.\n",
      "  df = pd.read_json(os.path.join(path,file_name), lines=True, convert_dates=[\"created_at\",\"timestamp_ms\"])\n",
      "/tmp/ipykernel_16517/3536830003.py:12: FutureWarning: The behavior of 'to_datetime' with 'unit' when parsing strings is deprecated. In a future version, strings will be parsed as datetime strings, matching the behavior without a 'unit'. To retain the old behavior, explicitly cast ints or floats to numeric type before calling to_datetime.\n",
      "  df = pd.read_json(os.path.join(path,file_name), lines=True, convert_dates=[\"created_at\",\"timestamp_ms\"])\n"
     ]
    },
    {
     "name": "stdout",
     "output_type": "stream",
     "text": [
      "Before:\t(3052, 37)\n",
      "After:\t(724, 2)\n",
      "Full shape: (10359, 2)\n",
      "2020_06_11/00/40.json.bz2\n"
     ]
    },
    {
     "name": "stderr",
     "output_type": "stream",
     "text": [
      "/tmp/ipykernel_16517/3536830003.py:12: FutureWarning: The behavior of 'to_datetime' with 'unit' when parsing strings is deprecated. In a future version, strings will be parsed as datetime strings, matching the behavior without a 'unit'. To retain the old behavior, explicitly cast ints or floats to numeric type before calling to_datetime.\n",
      "  df = pd.read_json(os.path.join(path,file_name), lines=True, convert_dates=[\"created_at\",\"timestamp_ms\"])\n",
      "/tmp/ipykernel_16517/3536830003.py:12: FutureWarning: The behavior of 'to_datetime' with 'unit' when parsing strings is deprecated. In a future version, strings will be parsed as datetime strings, matching the behavior without a 'unit'. To retain the old behavior, explicitly cast ints or floats to numeric type before calling to_datetime.\n",
      "  df = pd.read_json(os.path.join(path,file_name), lines=True, convert_dates=[\"created_at\",\"timestamp_ms\"])\n"
     ]
    },
    {
     "name": "stdout",
     "output_type": "stream",
     "text": [
      "Before:\t(2919, 37)\n",
      "After:\t(743, 2)\n",
      "Full shape: (11102, 2)\n",
      "2020_06_11/00/46.json.bz2\n"
     ]
    },
    {
     "name": "stderr",
     "output_type": "stream",
     "text": [
      "/tmp/ipykernel_16517/3536830003.py:12: FutureWarning: The behavior of 'to_datetime' with 'unit' when parsing strings is deprecated. In a future version, strings will be parsed as datetime strings, matching the behavior without a 'unit'. To retain the old behavior, explicitly cast ints or floats to numeric type before calling to_datetime.\n",
      "  df = pd.read_json(os.path.join(path,file_name), lines=True, convert_dates=[\"created_at\",\"timestamp_ms\"])\n",
      "/tmp/ipykernel_16517/3536830003.py:12: FutureWarning: The behavior of 'to_datetime' with 'unit' when parsing strings is deprecated. In a future version, strings will be parsed as datetime strings, matching the behavior without a 'unit'. To retain the old behavior, explicitly cast ints or floats to numeric type before calling to_datetime.\n",
      "  df = pd.read_json(os.path.join(path,file_name), lines=True, convert_dates=[\"created_at\",\"timestamp_ms\"])\n"
     ]
    },
    {
     "name": "stdout",
     "output_type": "stream",
     "text": [
      "Before:\t(3004, 37)\n",
      "After:\t(717, 2)\n",
      "Full shape: (11819, 2)\n",
      "2020_06_11/00/49.json.bz2\n"
     ]
    },
    {
     "name": "stderr",
     "output_type": "stream",
     "text": [
      "/tmp/ipykernel_16517/3536830003.py:12: FutureWarning: The behavior of 'to_datetime' with 'unit' when parsing strings is deprecated. In a future version, strings will be parsed as datetime strings, matching the behavior without a 'unit'. To retain the old behavior, explicitly cast ints or floats to numeric type before calling to_datetime.\n",
      "  df = pd.read_json(os.path.join(path,file_name), lines=True, convert_dates=[\"created_at\",\"timestamp_ms\"])\n",
      "/tmp/ipykernel_16517/3536830003.py:12: FutureWarning: The behavior of 'to_datetime' with 'unit' when parsing strings is deprecated. In a future version, strings will be parsed as datetime strings, matching the behavior without a 'unit'. To retain the old behavior, explicitly cast ints or floats to numeric type before calling to_datetime.\n",
      "  df = pd.read_json(os.path.join(path,file_name), lines=True, convert_dates=[\"created_at\",\"timestamp_ms\"])\n"
     ]
    },
    {
     "name": "stdout",
     "output_type": "stream",
     "text": [
      "Before:\t(3020, 37)\n",
      "After:\t(709, 2)\n",
      "Full shape: (12528, 2)\n",
      "2020_06_11/00/59.json.bz2\n"
     ]
    },
    {
     "name": "stderr",
     "output_type": "stream",
     "text": [
      "/tmp/ipykernel_16517/3536830003.py:12: FutureWarning: The behavior of 'to_datetime' with 'unit' when parsing strings is deprecated. In a future version, strings will be parsed as datetime strings, matching the behavior without a 'unit'. To retain the old behavior, explicitly cast ints or floats to numeric type before calling to_datetime.\n",
      "  df = pd.read_json(os.path.join(path,file_name), lines=True, convert_dates=[\"created_at\",\"timestamp_ms\"])\n",
      "/tmp/ipykernel_16517/3536830003.py:12: FutureWarning: The behavior of 'to_datetime' with 'unit' when parsing strings is deprecated. In a future version, strings will be parsed as datetime strings, matching the behavior without a 'unit'. To retain the old behavior, explicitly cast ints or floats to numeric type before calling to_datetime.\n",
      "  df = pd.read_json(os.path.join(path,file_name), lines=True, convert_dates=[\"created_at\",\"timestamp_ms\"])\n"
     ]
    },
    {
     "name": "stdout",
     "output_type": "stream",
     "text": [
      "Before:\t(2882, 37)\n",
      "After:\t(742, 2)\n",
      "Full shape: (13270, 2)\n",
      "2020_06_11/00/45.json.bz2\n"
     ]
    },
    {
     "name": "stderr",
     "output_type": "stream",
     "text": [
      "/tmp/ipykernel_16517/3536830003.py:12: FutureWarning: The behavior of 'to_datetime' with 'unit' when parsing strings is deprecated. In a future version, strings will be parsed as datetime strings, matching the behavior without a 'unit'. To retain the old behavior, explicitly cast ints or floats to numeric type before calling to_datetime.\n",
      "  df = pd.read_json(os.path.join(path,file_name), lines=True, convert_dates=[\"created_at\",\"timestamp_ms\"])\n",
      "/tmp/ipykernel_16517/3536830003.py:12: FutureWarning: The behavior of 'to_datetime' with 'unit' when parsing strings is deprecated. In a future version, strings will be parsed as datetime strings, matching the behavior without a 'unit'. To retain the old behavior, explicitly cast ints or floats to numeric type before calling to_datetime.\n",
      "  df = pd.read_json(os.path.join(path,file_name), lines=True, convert_dates=[\"created_at\",\"timestamp_ms\"])\n"
     ]
    },
    {
     "name": "stdout",
     "output_type": "stream",
     "text": [
      "Before:\t(3049, 37)\n",
      "After:\t(720, 2)\n",
      "Full shape: (13990, 2)\n",
      "2020_06_11/00/53.json.bz2\n"
     ]
    },
    {
     "name": "stderr",
     "output_type": "stream",
     "text": [
      "/tmp/ipykernel_16517/3536830003.py:12: FutureWarning: The behavior of 'to_datetime' with 'unit' when parsing strings is deprecated. In a future version, strings will be parsed as datetime strings, matching the behavior without a 'unit'. To retain the old behavior, explicitly cast ints or floats to numeric type before calling to_datetime.\n",
      "  df = pd.read_json(os.path.join(path,file_name), lines=True, convert_dates=[\"created_at\",\"timestamp_ms\"])\n",
      "/tmp/ipykernel_16517/3536830003.py:12: FutureWarning: The behavior of 'to_datetime' with 'unit' when parsing strings is deprecated. In a future version, strings will be parsed as datetime strings, matching the behavior without a 'unit'. To retain the old behavior, explicitly cast ints or floats to numeric type before calling to_datetime.\n",
      "  df = pd.read_json(os.path.join(path,file_name), lines=True, convert_dates=[\"created_at\",\"timestamp_ms\"])\n"
     ]
    },
    {
     "name": "stdout",
     "output_type": "stream",
     "text": [
      "Before:\t(3185, 38)\n",
      "After:\t(758, 2)\n",
      "Full shape: (14748, 2)\n",
      "2020_06_11/00/50.json.bz2\n"
     ]
    },
    {
     "name": "stderr",
     "output_type": "stream",
     "text": [
      "/tmp/ipykernel_16517/3536830003.py:12: FutureWarning: The behavior of 'to_datetime' with 'unit' when parsing strings is deprecated. In a future version, strings will be parsed as datetime strings, matching the behavior without a 'unit'. To retain the old behavior, explicitly cast ints or floats to numeric type before calling to_datetime.\n",
      "  df = pd.read_json(os.path.join(path,file_name), lines=True, convert_dates=[\"created_at\",\"timestamp_ms\"])\n",
      "/tmp/ipykernel_16517/3536830003.py:12: FutureWarning: The behavior of 'to_datetime' with 'unit' when parsing strings is deprecated. In a future version, strings will be parsed as datetime strings, matching the behavior without a 'unit'. To retain the old behavior, explicitly cast ints or floats to numeric type before calling to_datetime.\n",
      "  df = pd.read_json(os.path.join(path,file_name), lines=True, convert_dates=[\"created_at\",\"timestamp_ms\"])\n"
     ]
    },
    {
     "name": "stdout",
     "output_type": "stream",
     "text": [
      "Before:\t(3396, 37)\n",
      "After:\t(747, 2)\n",
      "Full shape: (15495, 2)\n",
      "2020_06_11/00/29.json.bz2\n"
     ]
    },
    {
     "name": "stderr",
     "output_type": "stream",
     "text": [
      "/tmp/ipykernel_16517/3536830003.py:12: FutureWarning: The behavior of 'to_datetime' with 'unit' when parsing strings is deprecated. In a future version, strings will be parsed as datetime strings, matching the behavior without a 'unit'. To retain the old behavior, explicitly cast ints or floats to numeric type before calling to_datetime.\n",
      "  df = pd.read_json(os.path.join(path,file_name), lines=True, convert_dates=[\"created_at\",\"timestamp_ms\"])\n",
      "/tmp/ipykernel_16517/3536830003.py:12: FutureWarning: The behavior of 'to_datetime' with 'unit' when parsing strings is deprecated. In a future version, strings will be parsed as datetime strings, matching the behavior without a 'unit'. To retain the old behavior, explicitly cast ints or floats to numeric type before calling to_datetime.\n",
      "  df = pd.read_json(os.path.join(path,file_name), lines=True, convert_dates=[\"created_at\",\"timestamp_ms\"])\n"
     ]
    },
    {
     "name": "stdout",
     "output_type": "stream",
     "text": [
      "Before:\t(3326, 38)\n",
      "After:\t(810, 2)\n",
      "Full shape: (16305, 2)\n",
      "2020_06_11/00/34.json.bz2\n"
     ]
    },
    {
     "name": "stderr",
     "output_type": "stream",
     "text": [
      "/tmp/ipykernel_16517/3536830003.py:12: FutureWarning: The behavior of 'to_datetime' with 'unit' when parsing strings is deprecated. In a future version, strings will be parsed as datetime strings, matching the behavior without a 'unit'. To retain the old behavior, explicitly cast ints or floats to numeric type before calling to_datetime.\n",
      "  df = pd.read_json(os.path.join(path,file_name), lines=True, convert_dates=[\"created_at\",\"timestamp_ms\"])\n",
      "/tmp/ipykernel_16517/3536830003.py:12: FutureWarning: The behavior of 'to_datetime' with 'unit' when parsing strings is deprecated. In a future version, strings will be parsed as datetime strings, matching the behavior without a 'unit'. To retain the old behavior, explicitly cast ints or floats to numeric type before calling to_datetime.\n",
      "  df = pd.read_json(os.path.join(path,file_name), lines=True, convert_dates=[\"created_at\",\"timestamp_ms\"])\n"
     ]
    },
    {
     "name": "stdout",
     "output_type": "stream",
     "text": [
      "Before:\t(3471, 38)\n",
      "After:\t(778, 2)\n",
      "Full shape: (17083, 2)\n",
      "2020_06_11/00/41.json.bz2\n"
     ]
    },
    {
     "name": "stderr",
     "output_type": "stream",
     "text": [
      "/tmp/ipykernel_16517/3536830003.py:12: FutureWarning: The behavior of 'to_datetime' with 'unit' when parsing strings is deprecated. In a future version, strings will be parsed as datetime strings, matching the behavior without a 'unit'. To retain the old behavior, explicitly cast ints or floats to numeric type before calling to_datetime.\n",
      "  df = pd.read_json(os.path.join(path,file_name), lines=True, convert_dates=[\"created_at\",\"timestamp_ms\"])\n",
      "/tmp/ipykernel_16517/3536830003.py:12: FutureWarning: The behavior of 'to_datetime' with 'unit' when parsing strings is deprecated. In a future version, strings will be parsed as datetime strings, matching the behavior without a 'unit'. To retain the old behavior, explicitly cast ints or floats to numeric type before calling to_datetime.\n",
      "  df = pd.read_json(os.path.join(path,file_name), lines=True, convert_dates=[\"created_at\",\"timestamp_ms\"])\n"
     ]
    },
    {
     "name": "stdout",
     "output_type": "stream",
     "text": [
      "Before:\t(3374, 37)\n",
      "After:\t(705, 2)\n",
      "Full shape: (17788, 2)\n",
      "2020_06_11/00/44.json.bz2\n"
     ]
    },
    {
     "name": "stderr",
     "output_type": "stream",
     "text": [
      "/tmp/ipykernel_16517/3536830003.py:12: FutureWarning: The behavior of 'to_datetime' with 'unit' when parsing strings is deprecated. In a future version, strings will be parsed as datetime strings, matching the behavior without a 'unit'. To retain the old behavior, explicitly cast ints or floats to numeric type before calling to_datetime.\n",
      "  df = pd.read_json(os.path.join(path,file_name), lines=True, convert_dates=[\"created_at\",\"timestamp_ms\"])\n",
      "/tmp/ipykernel_16517/3536830003.py:12: FutureWarning: The behavior of 'to_datetime' with 'unit' when parsing strings is deprecated. In a future version, strings will be parsed as datetime strings, matching the behavior without a 'unit'. To retain the old behavior, explicitly cast ints or floats to numeric type before calling to_datetime.\n",
      "  df = pd.read_json(os.path.join(path,file_name), lines=True, convert_dates=[\"created_at\",\"timestamp_ms\"])\n"
     ]
    },
    {
     "name": "stdout",
     "output_type": "stream",
     "text": [
      "Before:\t(3291, 37)\n",
      "After:\t(710, 2)\n",
      "Full shape: (18498, 2)\n",
      "2020_06_11/00/57.json.bz2\n"
     ]
    },
    {
     "name": "stderr",
     "output_type": "stream",
     "text": [
      "/tmp/ipykernel_16517/3536830003.py:12: FutureWarning: The behavior of 'to_datetime' with 'unit' when parsing strings is deprecated. In a future version, strings will be parsed as datetime strings, matching the behavior without a 'unit'. To retain the old behavior, explicitly cast ints or floats to numeric type before calling to_datetime.\n",
      "  df = pd.read_json(os.path.join(path,file_name), lines=True, convert_dates=[\"created_at\",\"timestamp_ms\"])\n",
      "/tmp/ipykernel_16517/3536830003.py:12: FutureWarning: The behavior of 'to_datetime' with 'unit' when parsing strings is deprecated. In a future version, strings will be parsed as datetime strings, matching the behavior without a 'unit'. To retain the old behavior, explicitly cast ints or floats to numeric type before calling to_datetime.\n",
      "  df = pd.read_json(os.path.join(path,file_name), lines=True, convert_dates=[\"created_at\",\"timestamp_ms\"])\n"
     ]
    },
    {
     "name": "stdout",
     "output_type": "stream",
     "text": [
      "Before:\t(2865, 37)\n",
      "After:\t(701, 2)\n",
      "Full shape: (19199, 2)\n",
      "2020_06_11/00/37.json.bz2\n"
     ]
    },
    {
     "name": "stderr",
     "output_type": "stream",
     "text": [
      "/tmp/ipykernel_16517/3536830003.py:12: FutureWarning: The behavior of 'to_datetime' with 'unit' when parsing strings is deprecated. In a future version, strings will be parsed as datetime strings, matching the behavior without a 'unit'. To retain the old behavior, explicitly cast ints or floats to numeric type before calling to_datetime.\n",
      "  df = pd.read_json(os.path.join(path,file_name), lines=True, convert_dates=[\"created_at\",\"timestamp_ms\"])\n",
      "/tmp/ipykernel_16517/3536830003.py:12: FutureWarning: The behavior of 'to_datetime' with 'unit' when parsing strings is deprecated. In a future version, strings will be parsed as datetime strings, matching the behavior without a 'unit'. To retain the old behavior, explicitly cast ints or floats to numeric type before calling to_datetime.\n",
      "  df = pd.read_json(os.path.join(path,file_name), lines=True, convert_dates=[\"created_at\",\"timestamp_ms\"])\n"
     ]
    },
    {
     "name": "stdout",
     "output_type": "stream",
     "text": [
      "Before:\t(3042, 37)\n",
      "After:\t(751, 2)\n",
      "Full shape: (19950, 2)\n",
      "2020_06_11/00/36.json.bz2\n"
     ]
    },
    {
     "name": "stderr",
     "output_type": "stream",
     "text": [
      "/tmp/ipykernel_16517/3536830003.py:12: FutureWarning: The behavior of 'to_datetime' with 'unit' when parsing strings is deprecated. In a future version, strings will be parsed as datetime strings, matching the behavior without a 'unit'. To retain the old behavior, explicitly cast ints or floats to numeric type before calling to_datetime.\n",
      "  df = pd.read_json(os.path.join(path,file_name), lines=True, convert_dates=[\"created_at\",\"timestamp_ms\"])\n",
      "/tmp/ipykernel_16517/3536830003.py:12: FutureWarning: The behavior of 'to_datetime' with 'unit' when parsing strings is deprecated. In a future version, strings will be parsed as datetime strings, matching the behavior without a 'unit'. To retain the old behavior, explicitly cast ints or floats to numeric type before calling to_datetime.\n",
      "  df = pd.read_json(os.path.join(path,file_name), lines=True, convert_dates=[\"created_at\",\"timestamp_ms\"])\n"
     ]
    },
    {
     "name": "stdout",
     "output_type": "stream",
     "text": [
      "Before:\t(3039, 37)\n",
      "After:\t(766, 2)\n",
      "Full shape: (20716, 2)\n",
      "2020_06_11/00/32.json.bz2\n"
     ]
    },
    {
     "name": "stderr",
     "output_type": "stream",
     "text": [
      "/tmp/ipykernel_16517/3536830003.py:12: FutureWarning: The behavior of 'to_datetime' with 'unit' when parsing strings is deprecated. In a future version, strings will be parsed as datetime strings, matching the behavior without a 'unit'. To retain the old behavior, explicitly cast ints or floats to numeric type before calling to_datetime.\n",
      "  df = pd.read_json(os.path.join(path,file_name), lines=True, convert_dates=[\"created_at\",\"timestamp_ms\"])\n",
      "/tmp/ipykernel_16517/3536830003.py:12: FutureWarning: The behavior of 'to_datetime' with 'unit' when parsing strings is deprecated. In a future version, strings will be parsed as datetime strings, matching the behavior without a 'unit'. To retain the old behavior, explicitly cast ints or floats to numeric type before calling to_datetime.\n",
      "  df = pd.read_json(os.path.join(path,file_name), lines=True, convert_dates=[\"created_at\",\"timestamp_ms\"])\n"
     ]
    },
    {
     "name": "stdout",
     "output_type": "stream",
     "text": [
      "Before:\t(3162, 37)\n",
      "After:\t(791, 2)\n",
      "Full shape: (21507, 2)\n",
      "2020_06_11/00/39.json.bz2\n"
     ]
    },
    {
     "name": "stderr",
     "output_type": "stream",
     "text": [
      "/tmp/ipykernel_16517/3536830003.py:12: FutureWarning: The behavior of 'to_datetime' with 'unit' when parsing strings is deprecated. In a future version, strings will be parsed as datetime strings, matching the behavior without a 'unit'. To retain the old behavior, explicitly cast ints or floats to numeric type before calling to_datetime.\n",
      "  df = pd.read_json(os.path.join(path,file_name), lines=True, convert_dates=[\"created_at\",\"timestamp_ms\"])\n",
      "/tmp/ipykernel_16517/3536830003.py:12: FutureWarning: The behavior of 'to_datetime' with 'unit' when parsing strings is deprecated. In a future version, strings will be parsed as datetime strings, matching the behavior without a 'unit'. To retain the old behavior, explicitly cast ints or floats to numeric type before calling to_datetime.\n",
      "  df = pd.read_json(os.path.join(path,file_name), lines=True, convert_dates=[\"created_at\",\"timestamp_ms\"])\n"
     ]
    },
    {
     "name": "stdout",
     "output_type": "stream",
     "text": [
      "Before:\t(3018, 37)\n",
      "After:\t(741, 2)\n",
      "Full shape: (22248, 2)\n",
      "2020_06_11/00/38.json.bz2\n"
     ]
    },
    {
     "name": "stderr",
     "output_type": "stream",
     "text": [
      "/tmp/ipykernel_16517/3536830003.py:12: FutureWarning: The behavior of 'to_datetime' with 'unit' when parsing strings is deprecated. In a future version, strings will be parsed as datetime strings, matching the behavior without a 'unit'. To retain the old behavior, explicitly cast ints or floats to numeric type before calling to_datetime.\n",
      "  df = pd.read_json(os.path.join(path,file_name), lines=True, convert_dates=[\"created_at\",\"timestamp_ms\"])\n",
      "/tmp/ipykernel_16517/3536830003.py:12: FutureWarning: The behavior of 'to_datetime' with 'unit' when parsing strings is deprecated. In a future version, strings will be parsed as datetime strings, matching the behavior without a 'unit'. To retain the old behavior, explicitly cast ints or floats to numeric type before calling to_datetime.\n",
      "  df = pd.read_json(os.path.join(path,file_name), lines=True, convert_dates=[\"created_at\",\"timestamp_ms\"])\n"
     ]
    },
    {
     "name": "stdout",
     "output_type": "stream",
     "text": [
      "Before:\t(2988, 37)\n",
      "After:\t(725, 2)\n",
      "Full shape: (22973, 2)\n",
      "2020_06_11/06/08.json.bz2\n"
     ]
    },
    {
     "name": "stderr",
     "output_type": "stream",
     "text": [
      "/tmp/ipykernel_16517/3536830003.py:12: FutureWarning: The behavior of 'to_datetime' with 'unit' when parsing strings is deprecated. In a future version, strings will be parsed as datetime strings, matching the behavior without a 'unit'. To retain the old behavior, explicitly cast ints or floats to numeric type before calling to_datetime.\n",
      "  df = pd.read_json(os.path.join(path,file_name), lines=True, convert_dates=[\"created_at\",\"timestamp_ms\"])\n",
      "/tmp/ipykernel_16517/3536830003.py:12: FutureWarning: The behavior of 'to_datetime' with 'unit' when parsing strings is deprecated. In a future version, strings will be parsed as datetime strings, matching the behavior without a 'unit'. To retain the old behavior, explicitly cast ints or floats to numeric type before calling to_datetime.\n",
      "  df = pd.read_json(os.path.join(path,file_name), lines=True, convert_dates=[\"created_at\",\"timestamp_ms\"])\n"
     ]
    },
    {
     "name": "stdout",
     "output_type": "stream",
     "text": [
      "Before:\t(4495, 38)\n",
      "After:\t(921, 2)\n",
      "Full shape: (23894, 2)\n",
      "2020_06_11/06/28.json.bz2\n"
     ]
    },
    {
     "name": "stderr",
     "output_type": "stream",
     "text": [
      "/tmp/ipykernel_16517/3536830003.py:12: FutureWarning: The behavior of 'to_datetime' with 'unit' when parsing strings is deprecated. In a future version, strings will be parsed as datetime strings, matching the behavior without a 'unit'. To retain the old behavior, explicitly cast ints or floats to numeric type before calling to_datetime.\n",
      "  df = pd.read_json(os.path.join(path,file_name), lines=True, convert_dates=[\"created_at\",\"timestamp_ms\"])\n",
      "/tmp/ipykernel_16517/3536830003.py:12: FutureWarning: The behavior of 'to_datetime' with 'unit' when parsing strings is deprecated. In a future version, strings will be parsed as datetime strings, matching the behavior without a 'unit'. To retain the old behavior, explicitly cast ints or floats to numeric type before calling to_datetime.\n",
      "  df = pd.read_json(os.path.join(path,file_name), lines=True, convert_dates=[\"created_at\",\"timestamp_ms\"])\n"
     ]
    },
    {
     "name": "stdout",
     "output_type": "stream",
     "text": [
      "Before:\t(4695, 38)\n",
      "After:\t(989, 2)\n",
      "Full shape: (24883, 2)\n",
      "2020_06_11/06/26.json.bz2\n"
     ]
    },
    {
     "name": "stderr",
     "output_type": "stream",
     "text": [
      "/tmp/ipykernel_16517/3536830003.py:12: FutureWarning: The behavior of 'to_datetime' with 'unit' when parsing strings is deprecated. In a future version, strings will be parsed as datetime strings, matching the behavior without a 'unit'. To retain the old behavior, explicitly cast ints or floats to numeric type before calling to_datetime.\n",
      "  df = pd.read_json(os.path.join(path,file_name), lines=True, convert_dates=[\"created_at\",\"timestamp_ms\"])\n",
      "/tmp/ipykernel_16517/3536830003.py:12: FutureWarning: The behavior of 'to_datetime' with 'unit' when parsing strings is deprecated. In a future version, strings will be parsed as datetime strings, matching the behavior without a 'unit'. To retain the old behavior, explicitly cast ints or floats to numeric type before calling to_datetime.\n",
      "  df = pd.read_json(os.path.join(path,file_name), lines=True, convert_dates=[\"created_at\",\"timestamp_ms\"])\n"
     ]
    },
    {
     "name": "stdout",
     "output_type": "stream",
     "text": [
      "Before:\t(4621, 37)\n",
      "After:\t(926, 2)\n",
      "Full shape: (25809, 2)\n",
      "2020_06_11/06/30.json.bz2\n"
     ]
    },
    {
     "name": "stderr",
     "output_type": "stream",
     "text": [
      "/tmp/ipykernel_16517/3536830003.py:12: FutureWarning: The behavior of 'to_datetime' with 'unit' when parsing strings is deprecated. In a future version, strings will be parsed as datetime strings, matching the behavior without a 'unit'. To retain the old behavior, explicitly cast ints or floats to numeric type before calling to_datetime.\n",
      "  df = pd.read_json(os.path.join(path,file_name), lines=True, convert_dates=[\"created_at\",\"timestamp_ms\"])\n",
      "/tmp/ipykernel_16517/3536830003.py:12: FutureWarning: The behavior of 'to_datetime' with 'unit' when parsing strings is deprecated. In a future version, strings will be parsed as datetime strings, matching the behavior without a 'unit'. To retain the old behavior, explicitly cast ints or floats to numeric type before calling to_datetime.\n",
      "  df = pd.read_json(os.path.join(path,file_name), lines=True, convert_dates=[\"created_at\",\"timestamp_ms\"])\n"
     ]
    },
    {
     "name": "stdout",
     "output_type": "stream",
     "text": [
      "Before:\t(4735, 38)\n",
      "After:\t(1053, 2)\n",
      "Full shape: (26862, 2)\n",
      "2020_06_11/06/04.json.bz2\n"
     ]
    },
    {
     "name": "stderr",
     "output_type": "stream",
     "text": [
      "/tmp/ipykernel_16517/3536830003.py:12: FutureWarning: The behavior of 'to_datetime' with 'unit' when parsing strings is deprecated. In a future version, strings will be parsed as datetime strings, matching the behavior without a 'unit'. To retain the old behavior, explicitly cast ints or floats to numeric type before calling to_datetime.\n",
      "  df = pd.read_json(os.path.join(path,file_name), lines=True, convert_dates=[\"created_at\",\"timestamp_ms\"])\n",
      "/tmp/ipykernel_16517/3536830003.py:12: FutureWarning: The behavior of 'to_datetime' with 'unit' when parsing strings is deprecated. In a future version, strings will be parsed as datetime strings, matching the behavior without a 'unit'. To retain the old behavior, explicitly cast ints or floats to numeric type before calling to_datetime.\n",
      "  df = pd.read_json(os.path.join(path,file_name), lines=True, convert_dates=[\"created_at\",\"timestamp_ms\"])\n"
     ]
    },
    {
     "name": "stdout",
     "output_type": "stream",
     "text": [
      "Before:\t(4471, 37)\n",
      "After:\t(905, 2)\n",
      "Full shape: (27767, 2)\n",
      "2020_06_11/06/06.json.bz2\n"
     ]
    },
    {
     "name": "stderr",
     "output_type": "stream",
     "text": [
      "/tmp/ipykernel_16517/3536830003.py:12: FutureWarning: The behavior of 'to_datetime' with 'unit' when parsing strings is deprecated. In a future version, strings will be parsed as datetime strings, matching the behavior without a 'unit'. To retain the old behavior, explicitly cast ints or floats to numeric type before calling to_datetime.\n",
      "  df = pd.read_json(os.path.join(path,file_name), lines=True, convert_dates=[\"created_at\",\"timestamp_ms\"])\n",
      "/tmp/ipykernel_16517/3536830003.py:12: FutureWarning: The behavior of 'to_datetime' with 'unit' when parsing strings is deprecated. In a future version, strings will be parsed as datetime strings, matching the behavior without a 'unit'. To retain the old behavior, explicitly cast ints or floats to numeric type before calling to_datetime.\n",
      "  df = pd.read_json(os.path.join(path,file_name), lines=True, convert_dates=[\"created_at\",\"timestamp_ms\"])\n"
     ]
    },
    {
     "name": "stdout",
     "output_type": "stream",
     "text": [
      "Before:\t(4413, 38)\n",
      "After:\t(921, 2)\n",
      "Full shape: (28688, 2)\n",
      "2020_06_11/06/51.json.bz2\n"
     ]
    },
    {
     "name": "stderr",
     "output_type": "stream",
     "text": [
      "/tmp/ipykernel_16517/3536830003.py:12: FutureWarning: The behavior of 'to_datetime' with 'unit' when parsing strings is deprecated. In a future version, strings will be parsed as datetime strings, matching the behavior without a 'unit'. To retain the old behavior, explicitly cast ints or floats to numeric type before calling to_datetime.\n",
      "  df = pd.read_json(os.path.join(path,file_name), lines=True, convert_dates=[\"created_at\",\"timestamp_ms\"])\n",
      "/tmp/ipykernel_16517/3536830003.py:12: FutureWarning: The behavior of 'to_datetime' with 'unit' when parsing strings is deprecated. In a future version, strings will be parsed as datetime strings, matching the behavior without a 'unit'. To retain the old behavior, explicitly cast ints or floats to numeric type before calling to_datetime.\n",
      "  df = pd.read_json(os.path.join(path,file_name), lines=True, convert_dates=[\"created_at\",\"timestamp_ms\"])\n"
     ]
    },
    {
     "name": "stdout",
     "output_type": "stream",
     "text": [
      "Before:\t(4527, 37)\n",
      "After:\t(1038, 2)\n",
      "Full shape: (29726, 2)\n",
      "2020_06_11/06/54.json.bz2\n"
     ]
    },
    {
     "name": "stderr",
     "output_type": "stream",
     "text": [
      "/tmp/ipykernel_16517/3536830003.py:12: FutureWarning: The behavior of 'to_datetime' with 'unit' when parsing strings is deprecated. In a future version, strings will be parsed as datetime strings, matching the behavior without a 'unit'. To retain the old behavior, explicitly cast ints or floats to numeric type before calling to_datetime.\n",
      "  df = pd.read_json(os.path.join(path,file_name), lines=True, convert_dates=[\"created_at\",\"timestamp_ms\"])\n",
      "/tmp/ipykernel_16517/3536830003.py:12: FutureWarning: The behavior of 'to_datetime' with 'unit' when parsing strings is deprecated. In a future version, strings will be parsed as datetime strings, matching the behavior without a 'unit'. To retain the old behavior, explicitly cast ints or floats to numeric type before calling to_datetime.\n",
      "  df = pd.read_json(os.path.join(path,file_name), lines=True, convert_dates=[\"created_at\",\"timestamp_ms\"])\n"
     ]
    },
    {
     "name": "stdout",
     "output_type": "stream",
     "text": [
      "Before:\t(4659, 37)\n",
      "After:\t(1051, 2)\n",
      "Full shape: (30777, 2)\n",
      "2020_06_11/06/55.json.bz2\n"
     ]
    },
    {
     "name": "stderr",
     "output_type": "stream",
     "text": [
      "/tmp/ipykernel_16517/3536830003.py:12: FutureWarning: The behavior of 'to_datetime' with 'unit' when parsing strings is deprecated. In a future version, strings will be parsed as datetime strings, matching the behavior without a 'unit'. To retain the old behavior, explicitly cast ints or floats to numeric type before calling to_datetime.\n",
      "  df = pd.read_json(os.path.join(path,file_name), lines=True, convert_dates=[\"created_at\",\"timestamp_ms\"])\n",
      "/tmp/ipykernel_16517/3536830003.py:12: FutureWarning: The behavior of 'to_datetime' with 'unit' when parsing strings is deprecated. In a future version, strings will be parsed as datetime strings, matching the behavior without a 'unit'. To retain the old behavior, explicitly cast ints or floats to numeric type before calling to_datetime.\n",
      "  df = pd.read_json(os.path.join(path,file_name), lines=True, convert_dates=[\"created_at\",\"timestamp_ms\"])\n"
     ]
    },
    {
     "name": "stdout",
     "output_type": "stream",
     "text": [
      "Before:\t(4555, 38)\n",
      "After:\t(1055, 2)\n",
      "Full shape: (31832, 2)\n",
      "2020_06_11/06/58.json.bz2\n"
     ]
    },
    {
     "name": "stderr",
     "output_type": "stream",
     "text": [
      "/tmp/ipykernel_16517/3536830003.py:12: FutureWarning: The behavior of 'to_datetime' with 'unit' when parsing strings is deprecated. In a future version, strings will be parsed as datetime strings, matching the behavior without a 'unit'. To retain the old behavior, explicitly cast ints or floats to numeric type before calling to_datetime.\n",
      "  df = pd.read_json(os.path.join(path,file_name), lines=True, convert_dates=[\"created_at\",\"timestamp_ms\"])\n",
      "/tmp/ipykernel_16517/3536830003.py:12: FutureWarning: The behavior of 'to_datetime' with 'unit' when parsing strings is deprecated. In a future version, strings will be parsed as datetime strings, matching the behavior without a 'unit'. To retain the old behavior, explicitly cast ints or floats to numeric type before calling to_datetime.\n",
      "  df = pd.read_json(os.path.join(path,file_name), lines=True, convert_dates=[\"created_at\",\"timestamp_ms\"])\n"
     ]
    },
    {
     "name": "stdout",
     "output_type": "stream",
     "text": [
      "Before:\t(4913, 37)\n",
      "After:\t(1013, 2)\n",
      "Full shape: (32845, 2)\n",
      "2020_06_11/06/33.json.bz2\n"
     ]
    },
    {
     "name": "stderr",
     "output_type": "stream",
     "text": [
      "/tmp/ipykernel_16517/3536830003.py:12: FutureWarning: The behavior of 'to_datetime' with 'unit' when parsing strings is deprecated. In a future version, strings will be parsed as datetime strings, matching the behavior without a 'unit'. To retain the old behavior, explicitly cast ints or floats to numeric type before calling to_datetime.\n",
      "  df = pd.read_json(os.path.join(path,file_name), lines=True, convert_dates=[\"created_at\",\"timestamp_ms\"])\n",
      "/tmp/ipykernel_16517/3536830003.py:12: FutureWarning: The behavior of 'to_datetime' with 'unit' when parsing strings is deprecated. In a future version, strings will be parsed as datetime strings, matching the behavior without a 'unit'. To retain the old behavior, explicitly cast ints or floats to numeric type before calling to_datetime.\n",
      "  df = pd.read_json(os.path.join(path,file_name), lines=True, convert_dates=[\"created_at\",\"timestamp_ms\"])\n"
     ]
    },
    {
     "name": "stdout",
     "output_type": "stream",
     "text": [
      "Before:\t(4731, 37)\n",
      "After:\t(967, 2)\n",
      "Full shape: (33812, 2)\n",
      "2020_06_11/06/09.json.bz2\n"
     ]
    },
    {
     "name": "stderr",
     "output_type": "stream",
     "text": [
      "/tmp/ipykernel_16517/3536830003.py:12: FutureWarning: The behavior of 'to_datetime' with 'unit' when parsing strings is deprecated. In a future version, strings will be parsed as datetime strings, matching the behavior without a 'unit'. To retain the old behavior, explicitly cast ints or floats to numeric type before calling to_datetime.\n",
      "  df = pd.read_json(os.path.join(path,file_name), lines=True, convert_dates=[\"created_at\",\"timestamp_ms\"])\n",
      "/tmp/ipykernel_16517/3536830003.py:12: FutureWarning: The behavior of 'to_datetime' with 'unit' when parsing strings is deprecated. In a future version, strings will be parsed as datetime strings, matching the behavior without a 'unit'. To retain the old behavior, explicitly cast ints or floats to numeric type before calling to_datetime.\n",
      "  df = pd.read_json(os.path.join(path,file_name), lines=True, convert_dates=[\"created_at\",\"timestamp_ms\"])\n"
     ]
    },
    {
     "name": "stdout",
     "output_type": "stream",
     "text": [
      "Before:\t(4451, 37)\n",
      "After:\t(986, 2)\n",
      "Full shape: (34798, 2)\n",
      "2020_06_11/06/11.json.bz2\n"
     ]
    },
    {
     "name": "stderr",
     "output_type": "stream",
     "text": [
      "/tmp/ipykernel_16517/3536830003.py:12: FutureWarning: The behavior of 'to_datetime' with 'unit' when parsing strings is deprecated. In a future version, strings will be parsed as datetime strings, matching the behavior without a 'unit'. To retain the old behavior, explicitly cast ints or floats to numeric type before calling to_datetime.\n",
      "  df = pd.read_json(os.path.join(path,file_name), lines=True, convert_dates=[\"created_at\",\"timestamp_ms\"])\n",
      "/tmp/ipykernel_16517/3536830003.py:12: FutureWarning: The behavior of 'to_datetime' with 'unit' when parsing strings is deprecated. In a future version, strings will be parsed as datetime strings, matching the behavior without a 'unit'. To retain the old behavior, explicitly cast ints or floats to numeric type before calling to_datetime.\n",
      "  df = pd.read_json(os.path.join(path,file_name), lines=True, convert_dates=[\"created_at\",\"timestamp_ms\"])\n"
     ]
    },
    {
     "name": "stdout",
     "output_type": "stream",
     "text": [
      "Before:\t(4326, 37)\n",
      "After:\t(960, 2)\n",
      "Full shape: (35758, 2)\n",
      "2020_06_11/06/21.json.bz2\n"
     ]
    },
    {
     "name": "stderr",
     "output_type": "stream",
     "text": [
      "/tmp/ipykernel_16517/3536830003.py:12: FutureWarning: The behavior of 'to_datetime' with 'unit' when parsing strings is deprecated. In a future version, strings will be parsed as datetime strings, matching the behavior without a 'unit'. To retain the old behavior, explicitly cast ints or floats to numeric type before calling to_datetime.\n",
      "  df = pd.read_json(os.path.join(path,file_name), lines=True, convert_dates=[\"created_at\",\"timestamp_ms\"])\n",
      "/tmp/ipykernel_16517/3536830003.py:12: FutureWarning: The behavior of 'to_datetime' with 'unit' when parsing strings is deprecated. In a future version, strings will be parsed as datetime strings, matching the behavior without a 'unit'. To retain the old behavior, explicitly cast ints or floats to numeric type before calling to_datetime.\n",
      "  df = pd.read_json(os.path.join(path,file_name), lines=True, convert_dates=[\"created_at\",\"timestamp_ms\"])\n"
     ]
    },
    {
     "name": "stdout",
     "output_type": "stream",
     "text": [
      "Before:\t(4490, 37)\n",
      "After:\t(931, 2)\n",
      "Full shape: (36689, 2)\n",
      "2020_06_11/06/03.json.bz2\n"
     ]
    },
    {
     "name": "stderr",
     "output_type": "stream",
     "text": [
      "/tmp/ipykernel_16517/3536830003.py:12: FutureWarning: The behavior of 'to_datetime' with 'unit' when parsing strings is deprecated. In a future version, strings will be parsed as datetime strings, matching the behavior without a 'unit'. To retain the old behavior, explicitly cast ints or floats to numeric type before calling to_datetime.\n",
      "  df = pd.read_json(os.path.join(path,file_name), lines=True, convert_dates=[\"created_at\",\"timestamp_ms\"])\n",
      "/tmp/ipykernel_16517/3536830003.py:12: FutureWarning: The behavior of 'to_datetime' with 'unit' when parsing strings is deprecated. In a future version, strings will be parsed as datetime strings, matching the behavior without a 'unit'. To retain the old behavior, explicitly cast ints or floats to numeric type before calling to_datetime.\n",
      "  df = pd.read_json(os.path.join(path,file_name), lines=True, convert_dates=[\"created_at\",\"timestamp_ms\"])\n"
     ]
    },
    {
     "name": "stdout",
     "output_type": "stream",
     "text": [
      "Before:\t(4510, 37)\n",
      "After:\t(940, 2)\n",
      "Full shape: (37629, 2)\n",
      "2020_06_11/06/48.json.bz2\n"
     ]
    },
    {
     "name": "stderr",
     "output_type": "stream",
     "text": [
      "/tmp/ipykernel_16517/3536830003.py:12: FutureWarning: The behavior of 'to_datetime' with 'unit' when parsing strings is deprecated. In a future version, strings will be parsed as datetime strings, matching the behavior without a 'unit'. To retain the old behavior, explicitly cast ints or floats to numeric type before calling to_datetime.\n",
      "  df = pd.read_json(os.path.join(path,file_name), lines=True, convert_dates=[\"created_at\",\"timestamp_ms\"])\n",
      "/tmp/ipykernel_16517/3536830003.py:12: FutureWarning: The behavior of 'to_datetime' with 'unit' when parsing strings is deprecated. In a future version, strings will be parsed as datetime strings, matching the behavior without a 'unit'. To retain the old behavior, explicitly cast ints or floats to numeric type before calling to_datetime.\n",
      "  df = pd.read_json(os.path.join(path,file_name), lines=True, convert_dates=[\"created_at\",\"timestamp_ms\"])\n"
     ]
    },
    {
     "name": "stdout",
     "output_type": "stream",
     "text": [
      "Before:\t(4475, 37)\n",
      "After:\t(962, 2)\n",
      "Full shape: (38591, 2)\n",
      "2020_06_11/06/56.json.bz2\n"
     ]
    },
    {
     "name": "stderr",
     "output_type": "stream",
     "text": [
      "/tmp/ipykernel_16517/3536830003.py:12: FutureWarning: The behavior of 'to_datetime' with 'unit' when parsing strings is deprecated. In a future version, strings will be parsed as datetime strings, matching the behavior without a 'unit'. To retain the old behavior, explicitly cast ints or floats to numeric type before calling to_datetime.\n",
      "  df = pd.read_json(os.path.join(path,file_name), lines=True, convert_dates=[\"created_at\",\"timestamp_ms\"])\n",
      "/tmp/ipykernel_16517/3536830003.py:12: FutureWarning: The behavior of 'to_datetime' with 'unit' when parsing strings is deprecated. In a future version, strings will be parsed as datetime strings, matching the behavior without a 'unit'. To retain the old behavior, explicitly cast ints or floats to numeric type before calling to_datetime.\n",
      "  df = pd.read_json(os.path.join(path,file_name), lines=True, convert_dates=[\"created_at\",\"timestamp_ms\"])\n"
     ]
    },
    {
     "name": "stdout",
     "output_type": "stream",
     "text": [
      "Before:\t(4476, 37)\n",
      "After:\t(989, 2)\n",
      "Full shape: (39580, 2)\n",
      "2020_06_11/06/05.json.bz2\n"
     ]
    },
    {
     "name": "stderr",
     "output_type": "stream",
     "text": [
      "/tmp/ipykernel_16517/3536830003.py:12: FutureWarning: The behavior of 'to_datetime' with 'unit' when parsing strings is deprecated. In a future version, strings will be parsed as datetime strings, matching the behavior without a 'unit'. To retain the old behavior, explicitly cast ints or floats to numeric type before calling to_datetime.\n",
      "  df = pd.read_json(os.path.join(path,file_name), lines=True, convert_dates=[\"created_at\",\"timestamp_ms\"])\n",
      "/tmp/ipykernel_16517/3536830003.py:12: FutureWarning: The behavior of 'to_datetime' with 'unit' when parsing strings is deprecated. In a future version, strings will be parsed as datetime strings, matching the behavior without a 'unit'. To retain the old behavior, explicitly cast ints or floats to numeric type before calling to_datetime.\n",
      "  df = pd.read_json(os.path.join(path,file_name), lines=True, convert_dates=[\"created_at\",\"timestamp_ms\"])\n"
     ]
    },
    {
     "name": "stdout",
     "output_type": "stream",
     "text": [
      "Before:\t(4605, 37)\n",
      "After:\t(913, 2)\n",
      "Full shape: (40493, 2)\n",
      "2020_06_11/06/24.json.bz2\n"
     ]
    },
    {
     "name": "stderr",
     "output_type": "stream",
     "text": [
      "/tmp/ipykernel_16517/3536830003.py:12: FutureWarning: The behavior of 'to_datetime' with 'unit' when parsing strings is deprecated. In a future version, strings will be parsed as datetime strings, matching the behavior without a 'unit'. To retain the old behavior, explicitly cast ints or floats to numeric type before calling to_datetime.\n",
      "  df = pd.read_json(os.path.join(path,file_name), lines=True, convert_dates=[\"created_at\",\"timestamp_ms\"])\n",
      "/tmp/ipykernel_16517/3536830003.py:12: FutureWarning: The behavior of 'to_datetime' with 'unit' when parsing strings is deprecated. In a future version, strings will be parsed as datetime strings, matching the behavior without a 'unit'. To retain the old behavior, explicitly cast ints or floats to numeric type before calling to_datetime.\n",
      "  df = pd.read_json(os.path.join(path,file_name), lines=True, convert_dates=[\"created_at\",\"timestamp_ms\"])\n"
     ]
    },
    {
     "name": "stdout",
     "output_type": "stream",
     "text": [
      "Before:\t(4630, 37)\n",
      "After:\t(949, 2)\n",
      "Full shape: (41442, 2)\n",
      "2020_06_11/06/43.json.bz2\n"
     ]
    },
    {
     "name": "stderr",
     "output_type": "stream",
     "text": [
      "/tmp/ipykernel_16517/3536830003.py:12: FutureWarning: The behavior of 'to_datetime' with 'unit' when parsing strings is deprecated. In a future version, strings will be parsed as datetime strings, matching the behavior without a 'unit'. To retain the old behavior, explicitly cast ints or floats to numeric type before calling to_datetime.\n",
      "  df = pd.read_json(os.path.join(path,file_name), lines=True, convert_dates=[\"created_at\",\"timestamp_ms\"])\n",
      "/tmp/ipykernel_16517/3536830003.py:12: FutureWarning: The behavior of 'to_datetime' with 'unit' when parsing strings is deprecated. In a future version, strings will be parsed as datetime strings, matching the behavior without a 'unit'. To retain the old behavior, explicitly cast ints or floats to numeric type before calling to_datetime.\n",
      "  df = pd.read_json(os.path.join(path,file_name), lines=True, convert_dates=[\"created_at\",\"timestamp_ms\"])\n"
     ]
    },
    {
     "name": "stdout",
     "output_type": "stream",
     "text": [
      "Before:\t(4669, 37)\n",
      "After:\t(946, 2)\n",
      "Full shape: (42388, 2)\n",
      "2020_06_11/06/47.json.bz2\n"
     ]
    },
    {
     "name": "stderr",
     "output_type": "stream",
     "text": [
      "/tmp/ipykernel_16517/3536830003.py:12: FutureWarning: The behavior of 'to_datetime' with 'unit' when parsing strings is deprecated. In a future version, strings will be parsed as datetime strings, matching the behavior without a 'unit'. To retain the old behavior, explicitly cast ints or floats to numeric type before calling to_datetime.\n",
      "  df = pd.read_json(os.path.join(path,file_name), lines=True, convert_dates=[\"created_at\",\"timestamp_ms\"])\n",
      "/tmp/ipykernel_16517/3536830003.py:12: FutureWarning: The behavior of 'to_datetime' with 'unit' when parsing strings is deprecated. In a future version, strings will be parsed as datetime strings, matching the behavior without a 'unit'. To retain the old behavior, explicitly cast ints or floats to numeric type before calling to_datetime.\n",
      "  df = pd.read_json(os.path.join(path,file_name), lines=True, convert_dates=[\"created_at\",\"timestamp_ms\"])\n"
     ]
    },
    {
     "name": "stdout",
     "output_type": "stream",
     "text": [
      "Before:\t(4485, 37)\n",
      "After:\t(991, 2)\n",
      "Full shape: (43379, 2)\n",
      "2020_06_11/06/27.json.bz2\n"
     ]
    },
    {
     "name": "stderr",
     "output_type": "stream",
     "text": [
      "/tmp/ipykernel_16517/3536830003.py:12: FutureWarning: The behavior of 'to_datetime' with 'unit' when parsing strings is deprecated. In a future version, strings will be parsed as datetime strings, matching the behavior without a 'unit'. To retain the old behavior, explicitly cast ints or floats to numeric type before calling to_datetime.\n",
      "  df = pd.read_json(os.path.join(path,file_name), lines=True, convert_dates=[\"created_at\",\"timestamp_ms\"])\n",
      "/tmp/ipykernel_16517/3536830003.py:12: FutureWarning: The behavior of 'to_datetime' with 'unit' when parsing strings is deprecated. In a future version, strings will be parsed as datetime strings, matching the behavior without a 'unit'. To retain the old behavior, explicitly cast ints or floats to numeric type before calling to_datetime.\n",
      "  df = pd.read_json(os.path.join(path,file_name), lines=True, convert_dates=[\"created_at\",\"timestamp_ms\"])\n"
     ]
    },
    {
     "name": "stdout",
     "output_type": "stream",
     "text": [
      "Before:\t(4298, 38)\n",
      "After:\t(964, 2)\n",
      "Full shape: (44343, 2)\n",
      "2020_06_11/06/42.json.bz2\n"
     ]
    },
    {
     "name": "stderr",
     "output_type": "stream",
     "text": [
      "/tmp/ipykernel_16517/3536830003.py:12: FutureWarning: The behavior of 'to_datetime' with 'unit' when parsing strings is deprecated. In a future version, strings will be parsed as datetime strings, matching the behavior without a 'unit'. To retain the old behavior, explicitly cast ints or floats to numeric type before calling to_datetime.\n",
      "  df = pd.read_json(os.path.join(path,file_name), lines=True, convert_dates=[\"created_at\",\"timestamp_ms\"])\n",
      "/tmp/ipykernel_16517/3536830003.py:12: FutureWarning: The behavior of 'to_datetime' with 'unit' when parsing strings is deprecated. In a future version, strings will be parsed as datetime strings, matching the behavior without a 'unit'. To retain the old behavior, explicitly cast ints or floats to numeric type before calling to_datetime.\n",
      "  df = pd.read_json(os.path.join(path,file_name), lines=True, convert_dates=[\"created_at\",\"timestamp_ms\"])\n"
     ]
    },
    {
     "name": "stdout",
     "output_type": "stream",
     "text": [
      "Before:\t(4650, 37)\n",
      "After:\t(1033, 2)\n",
      "Full shape: (45376, 2)\n",
      "2020_06_11/06/19.json.bz2\n"
     ]
    },
    {
     "name": "stderr",
     "output_type": "stream",
     "text": [
      "/tmp/ipykernel_16517/3536830003.py:12: FutureWarning: The behavior of 'to_datetime' with 'unit' when parsing strings is deprecated. In a future version, strings will be parsed as datetime strings, matching the behavior without a 'unit'. To retain the old behavior, explicitly cast ints or floats to numeric type before calling to_datetime.\n",
      "  df = pd.read_json(os.path.join(path,file_name), lines=True, convert_dates=[\"created_at\",\"timestamp_ms\"])\n",
      "/tmp/ipykernel_16517/3536830003.py:12: FutureWarning: The behavior of 'to_datetime' with 'unit' when parsing strings is deprecated. In a future version, strings will be parsed as datetime strings, matching the behavior without a 'unit'. To retain the old behavior, explicitly cast ints or floats to numeric type before calling to_datetime.\n",
      "  df = pd.read_json(os.path.join(path,file_name), lines=True, convert_dates=[\"created_at\",\"timestamp_ms\"])\n"
     ]
    },
    {
     "name": "stdout",
     "output_type": "stream",
     "text": [
      "Before:\t(4455, 37)\n",
      "After:\t(946, 2)\n",
      "Full shape: (46322, 2)\n",
      "2020_06_11/06/25.json.bz2\n"
     ]
    },
    {
     "name": "stderr",
     "output_type": "stream",
     "text": [
      "/tmp/ipykernel_16517/3536830003.py:12: FutureWarning: The behavior of 'to_datetime' with 'unit' when parsing strings is deprecated. In a future version, strings will be parsed as datetime strings, matching the behavior without a 'unit'. To retain the old behavior, explicitly cast ints or floats to numeric type before calling to_datetime.\n",
      "  df = pd.read_json(os.path.join(path,file_name), lines=True, convert_dates=[\"created_at\",\"timestamp_ms\"])\n",
      "/tmp/ipykernel_16517/3536830003.py:12: FutureWarning: The behavior of 'to_datetime' with 'unit' when parsing strings is deprecated. In a future version, strings will be parsed as datetime strings, matching the behavior without a 'unit'. To retain the old behavior, explicitly cast ints or floats to numeric type before calling to_datetime.\n",
      "  df = pd.read_json(os.path.join(path,file_name), lines=True, convert_dates=[\"created_at\",\"timestamp_ms\"])\n"
     ]
    },
    {
     "name": "stdout",
     "output_type": "stream",
     "text": [
      "Before:\t(4573, 37)\n",
      "After:\t(973, 2)\n",
      "Full shape: (47295, 2)\n",
      "2020_06_11/06/01.json.bz2\n"
     ]
    },
    {
     "name": "stderr",
     "output_type": "stream",
     "text": [
      "/tmp/ipykernel_16517/3536830003.py:12: FutureWarning: The behavior of 'to_datetime' with 'unit' when parsing strings is deprecated. In a future version, strings will be parsed as datetime strings, matching the behavior without a 'unit'. To retain the old behavior, explicitly cast ints or floats to numeric type before calling to_datetime.\n",
      "  df = pd.read_json(os.path.join(path,file_name), lines=True, convert_dates=[\"created_at\",\"timestamp_ms\"])\n",
      "/tmp/ipykernel_16517/3536830003.py:12: FutureWarning: The behavior of 'to_datetime' with 'unit' when parsing strings is deprecated. In a future version, strings will be parsed as datetime strings, matching the behavior without a 'unit'. To retain the old behavior, explicitly cast ints or floats to numeric type before calling to_datetime.\n",
      "  df = pd.read_json(os.path.join(path,file_name), lines=True, convert_dates=[\"created_at\",\"timestamp_ms\"])\n"
     ]
    },
    {
     "name": "stdout",
     "output_type": "stream",
     "text": [
      "Before:\t(4583, 37)\n",
      "After:\t(941, 2)\n",
      "Full shape: (48236, 2)\n",
      "2020_06_11/06/02.json.bz2\n"
     ]
    },
    {
     "name": "stderr",
     "output_type": "stream",
     "text": [
      "/tmp/ipykernel_16517/3536830003.py:12: FutureWarning: The behavior of 'to_datetime' with 'unit' when parsing strings is deprecated. In a future version, strings will be parsed as datetime strings, matching the behavior without a 'unit'. To retain the old behavior, explicitly cast ints or floats to numeric type before calling to_datetime.\n",
      "  df = pd.read_json(os.path.join(path,file_name), lines=True, convert_dates=[\"created_at\",\"timestamp_ms\"])\n",
      "/tmp/ipykernel_16517/3536830003.py:12: FutureWarning: The behavior of 'to_datetime' with 'unit' when parsing strings is deprecated. In a future version, strings will be parsed as datetime strings, matching the behavior without a 'unit'. To retain the old behavior, explicitly cast ints or floats to numeric type before calling to_datetime.\n",
      "  df = pd.read_json(os.path.join(path,file_name), lines=True, convert_dates=[\"created_at\",\"timestamp_ms\"])\n"
     ]
    },
    {
     "name": "stdout",
     "output_type": "stream",
     "text": [
      "Before:\t(4588, 37)\n",
      "After:\t(886, 2)\n",
      "Full shape: (49122, 2)\n",
      "2020_06_11/06/00.json.bz2\n"
     ]
    },
    {
     "name": "stderr",
     "output_type": "stream",
     "text": [
      "/tmp/ipykernel_16517/3536830003.py:12: FutureWarning: The behavior of 'to_datetime' with 'unit' when parsing strings is deprecated. In a future version, strings will be parsed as datetime strings, matching the behavior without a 'unit'. To retain the old behavior, explicitly cast ints or floats to numeric type before calling to_datetime.\n",
      "  df = pd.read_json(os.path.join(path,file_name), lines=True, convert_dates=[\"created_at\",\"timestamp_ms\"])\n",
      "/tmp/ipykernel_16517/3536830003.py:12: FutureWarning: The behavior of 'to_datetime' with 'unit' when parsing strings is deprecated. In a future version, strings will be parsed as datetime strings, matching the behavior without a 'unit'. To retain the old behavior, explicitly cast ints or floats to numeric type before calling to_datetime.\n",
      "  df = pd.read_json(os.path.join(path,file_name), lines=True, convert_dates=[\"created_at\",\"timestamp_ms\"])\n"
     ]
    },
    {
     "name": "stdout",
     "output_type": "stream",
     "text": [
      "Before:\t(4721, 38)\n",
      "After:\t(1025, 2)\n",
      "Full shape: (50147, 2)\n",
      "2020_06_11/06/31.json.bz2\n"
     ]
    },
    {
     "name": "stderr",
     "output_type": "stream",
     "text": [
      "/tmp/ipykernel_16517/3536830003.py:12: FutureWarning: The behavior of 'to_datetime' with 'unit' when parsing strings is deprecated. In a future version, strings will be parsed as datetime strings, matching the behavior without a 'unit'. To retain the old behavior, explicitly cast ints or floats to numeric type before calling to_datetime.\n",
      "  df = pd.read_json(os.path.join(path,file_name), lines=True, convert_dates=[\"created_at\",\"timestamp_ms\"])\n",
      "/tmp/ipykernel_16517/3536830003.py:12: FutureWarning: The behavior of 'to_datetime' with 'unit' when parsing strings is deprecated. In a future version, strings will be parsed as datetime strings, matching the behavior without a 'unit'. To retain the old behavior, explicitly cast ints or floats to numeric type before calling to_datetime.\n",
      "  df = pd.read_json(os.path.join(path,file_name), lines=True, convert_dates=[\"created_at\",\"timestamp_ms\"])\n"
     ]
    },
    {
     "name": "stdout",
     "output_type": "stream",
     "text": [
      "Before:\t(4622, 37)\n",
      "After:\t(1072, 2)\n",
      "Full shape: (51219, 2)\n",
      "2020_06_11/06/23.json.bz2\n"
     ]
    },
    {
     "name": "stderr",
     "output_type": "stream",
     "text": [
      "/tmp/ipykernel_16517/3536830003.py:12: FutureWarning: The behavior of 'to_datetime' with 'unit' when parsing strings is deprecated. In a future version, strings will be parsed as datetime strings, matching the behavior without a 'unit'. To retain the old behavior, explicitly cast ints or floats to numeric type before calling to_datetime.\n",
      "  df = pd.read_json(os.path.join(path,file_name), lines=True, convert_dates=[\"created_at\",\"timestamp_ms\"])\n",
      "/tmp/ipykernel_16517/3536830003.py:12: FutureWarning: The behavior of 'to_datetime' with 'unit' when parsing strings is deprecated. In a future version, strings will be parsed as datetime strings, matching the behavior without a 'unit'. To retain the old behavior, explicitly cast ints or floats to numeric type before calling to_datetime.\n",
      "  df = pd.read_json(os.path.join(path,file_name), lines=True, convert_dates=[\"created_at\",\"timestamp_ms\"])\n"
     ]
    },
    {
     "name": "stdout",
     "output_type": "stream",
     "text": [
      "Before:\t(4579, 37)\n",
      "After:\t(920, 2)\n",
      "Full shape: (52139, 2)\n",
      "2020_06_11/06/52.json.bz2\n"
     ]
    },
    {
     "name": "stderr",
     "output_type": "stream",
     "text": [
      "/tmp/ipykernel_16517/3536830003.py:12: FutureWarning: The behavior of 'to_datetime' with 'unit' when parsing strings is deprecated. In a future version, strings will be parsed as datetime strings, matching the behavior without a 'unit'. To retain the old behavior, explicitly cast ints or floats to numeric type before calling to_datetime.\n",
      "  df = pd.read_json(os.path.join(path,file_name), lines=True, convert_dates=[\"created_at\",\"timestamp_ms\"])\n",
      "/tmp/ipykernel_16517/3536830003.py:12: FutureWarning: The behavior of 'to_datetime' with 'unit' when parsing strings is deprecated. In a future version, strings will be parsed as datetime strings, matching the behavior without a 'unit'. To retain the old behavior, explicitly cast ints or floats to numeric type before calling to_datetime.\n",
      "  df = pd.read_json(os.path.join(path,file_name), lines=True, convert_dates=[\"created_at\",\"timestamp_ms\"])\n"
     ]
    },
    {
     "name": "stdout",
     "output_type": "stream",
     "text": [
      "Before:\t(4554, 37)\n",
      "After:\t(1079, 2)\n",
      "Full shape: (53218, 2)\n",
      "2020_06_11/06/13.json.bz2\n"
     ]
    },
    {
     "name": "stderr",
     "output_type": "stream",
     "text": [
      "/tmp/ipykernel_16517/3536830003.py:12: FutureWarning: The behavior of 'to_datetime' with 'unit' when parsing strings is deprecated. In a future version, strings will be parsed as datetime strings, matching the behavior without a 'unit'. To retain the old behavior, explicitly cast ints or floats to numeric type before calling to_datetime.\n",
      "  df = pd.read_json(os.path.join(path,file_name), lines=True, convert_dates=[\"created_at\",\"timestamp_ms\"])\n",
      "/tmp/ipykernel_16517/3536830003.py:12: FutureWarning: The behavior of 'to_datetime' with 'unit' when parsing strings is deprecated. In a future version, strings will be parsed as datetime strings, matching the behavior without a 'unit'. To retain the old behavior, explicitly cast ints or floats to numeric type before calling to_datetime.\n",
      "  df = pd.read_json(os.path.join(path,file_name), lines=True, convert_dates=[\"created_at\",\"timestamp_ms\"])\n"
     ]
    },
    {
     "name": "stdout",
     "output_type": "stream",
     "text": [
      "Before:\t(4522, 37)\n",
      "After:\t(981, 2)\n",
      "Full shape: (54199, 2)\n",
      "2020_06_11/06/14.json.bz2\n"
     ]
    },
    {
     "name": "stderr",
     "output_type": "stream",
     "text": [
      "/tmp/ipykernel_16517/3536830003.py:12: FutureWarning: The behavior of 'to_datetime' with 'unit' when parsing strings is deprecated. In a future version, strings will be parsed as datetime strings, matching the behavior without a 'unit'. To retain the old behavior, explicitly cast ints or floats to numeric type before calling to_datetime.\n",
      "  df = pd.read_json(os.path.join(path,file_name), lines=True, convert_dates=[\"created_at\",\"timestamp_ms\"])\n",
      "/tmp/ipykernel_16517/3536830003.py:12: FutureWarning: The behavior of 'to_datetime' with 'unit' when parsing strings is deprecated. In a future version, strings will be parsed as datetime strings, matching the behavior without a 'unit'. To retain the old behavior, explicitly cast ints or floats to numeric type before calling to_datetime.\n",
      "  df = pd.read_json(os.path.join(path,file_name), lines=True, convert_dates=[\"created_at\",\"timestamp_ms\"])\n"
     ]
    },
    {
     "name": "stdout",
     "output_type": "stream",
     "text": [
      "Before:\t(4831, 37)\n",
      "After:\t(953, 2)\n",
      "Full shape: (55152, 2)\n",
      "2020_06_11/06/35.json.bz2\n"
     ]
    },
    {
     "name": "stderr",
     "output_type": "stream",
     "text": [
      "/tmp/ipykernel_16517/3536830003.py:12: FutureWarning: The behavior of 'to_datetime' with 'unit' when parsing strings is deprecated. In a future version, strings will be parsed as datetime strings, matching the behavior without a 'unit'. To retain the old behavior, explicitly cast ints or floats to numeric type before calling to_datetime.\n",
      "  df = pd.read_json(os.path.join(path,file_name), lines=True, convert_dates=[\"created_at\",\"timestamp_ms\"])\n",
      "/tmp/ipykernel_16517/3536830003.py:12: FutureWarning: The behavior of 'to_datetime' with 'unit' when parsing strings is deprecated. In a future version, strings will be parsed as datetime strings, matching the behavior without a 'unit'. To retain the old behavior, explicitly cast ints or floats to numeric type before calling to_datetime.\n",
      "  df = pd.read_json(os.path.join(path,file_name), lines=True, convert_dates=[\"created_at\",\"timestamp_ms\"])\n"
     ]
    },
    {
     "name": "stdout",
     "output_type": "stream",
     "text": [
      "Before:\t(4791, 37)\n",
      "After:\t(1001, 2)\n",
      "Full shape: (56153, 2)\n",
      "2020_06_11/06/20.json.bz2\n"
     ]
    },
    {
     "name": "stderr",
     "output_type": "stream",
     "text": [
      "/tmp/ipykernel_16517/3536830003.py:12: FutureWarning: The behavior of 'to_datetime' with 'unit' when parsing strings is deprecated. In a future version, strings will be parsed as datetime strings, matching the behavior without a 'unit'. To retain the old behavior, explicitly cast ints or floats to numeric type before calling to_datetime.\n",
      "  df = pd.read_json(os.path.join(path,file_name), lines=True, convert_dates=[\"created_at\",\"timestamp_ms\"])\n",
      "/tmp/ipykernel_16517/3536830003.py:12: FutureWarning: The behavior of 'to_datetime' with 'unit' when parsing strings is deprecated. In a future version, strings will be parsed as datetime strings, matching the behavior without a 'unit'. To retain the old behavior, explicitly cast ints or floats to numeric type before calling to_datetime.\n",
      "  df = pd.read_json(os.path.join(path,file_name), lines=True, convert_dates=[\"created_at\",\"timestamp_ms\"])\n"
     ]
    },
    {
     "name": "stdout",
     "output_type": "stream",
     "text": [
      "Before:\t(4649, 37)\n",
      "After:\t(962, 2)\n",
      "Full shape: (57115, 2)\n",
      "2020_06_11/06/40.json.bz2\n"
     ]
    },
    {
     "name": "stderr",
     "output_type": "stream",
     "text": [
      "/tmp/ipykernel_16517/3536830003.py:12: FutureWarning: The behavior of 'to_datetime' with 'unit' when parsing strings is deprecated. In a future version, strings will be parsed as datetime strings, matching the behavior without a 'unit'. To retain the old behavior, explicitly cast ints or floats to numeric type before calling to_datetime.\n",
      "  df = pd.read_json(os.path.join(path,file_name), lines=True, convert_dates=[\"created_at\",\"timestamp_ms\"])\n",
      "/tmp/ipykernel_16517/3536830003.py:12: FutureWarning: The behavior of 'to_datetime' with 'unit' when parsing strings is deprecated. In a future version, strings will be parsed as datetime strings, matching the behavior without a 'unit'. To retain the old behavior, explicitly cast ints or floats to numeric type before calling to_datetime.\n",
      "  df = pd.read_json(os.path.join(path,file_name), lines=True, convert_dates=[\"created_at\",\"timestamp_ms\"])\n"
     ]
    },
    {
     "name": "stdout",
     "output_type": "stream",
     "text": [
      "Before:\t(4727, 37)\n",
      "After:\t(987, 2)\n",
      "Full shape: (58102, 2)\n",
      "2020_06_11/06/46.json.bz2\n"
     ]
    },
    {
     "name": "stderr",
     "output_type": "stream",
     "text": [
      "/tmp/ipykernel_16517/3536830003.py:12: FutureWarning: The behavior of 'to_datetime' with 'unit' when parsing strings is deprecated. In a future version, strings will be parsed as datetime strings, matching the behavior without a 'unit'. To retain the old behavior, explicitly cast ints or floats to numeric type before calling to_datetime.\n",
      "  df = pd.read_json(os.path.join(path,file_name), lines=True, convert_dates=[\"created_at\",\"timestamp_ms\"])\n",
      "/tmp/ipykernel_16517/3536830003.py:12: FutureWarning: The behavior of 'to_datetime' with 'unit' when parsing strings is deprecated. In a future version, strings will be parsed as datetime strings, matching the behavior without a 'unit'. To retain the old behavior, explicitly cast ints or floats to numeric type before calling to_datetime.\n",
      "  df = pd.read_json(os.path.join(path,file_name), lines=True, convert_dates=[\"created_at\",\"timestamp_ms\"])\n"
     ]
    },
    {
     "name": "stdout",
     "output_type": "stream",
     "text": [
      "Before:\t(4531, 37)\n",
      "After:\t(1006, 2)\n",
      "Full shape: (59108, 2)\n",
      "2020_06_11/06/49.json.bz2\n"
     ]
    },
    {
     "name": "stderr",
     "output_type": "stream",
     "text": [
      "/tmp/ipykernel_16517/3536830003.py:12: FutureWarning: The behavior of 'to_datetime' with 'unit' when parsing strings is deprecated. In a future version, strings will be parsed as datetime strings, matching the behavior without a 'unit'. To retain the old behavior, explicitly cast ints or floats to numeric type before calling to_datetime.\n",
      "  df = pd.read_json(os.path.join(path,file_name), lines=True, convert_dates=[\"created_at\",\"timestamp_ms\"])\n",
      "/tmp/ipykernel_16517/3536830003.py:12: FutureWarning: The behavior of 'to_datetime' with 'unit' when parsing strings is deprecated. In a future version, strings will be parsed as datetime strings, matching the behavior without a 'unit'. To retain the old behavior, explicitly cast ints or floats to numeric type before calling to_datetime.\n",
      "  df = pd.read_json(os.path.join(path,file_name), lines=True, convert_dates=[\"created_at\",\"timestamp_ms\"])\n"
     ]
    },
    {
     "name": "stdout",
     "output_type": "stream",
     "text": [
      "Before:\t(4770, 37)\n",
      "After:\t(996, 2)\n",
      "Full shape: (60104, 2)\n",
      "2020_06_11/06/18.json.bz2\n"
     ]
    },
    {
     "name": "stderr",
     "output_type": "stream",
     "text": [
      "/tmp/ipykernel_16517/3536830003.py:12: FutureWarning: The behavior of 'to_datetime' with 'unit' when parsing strings is deprecated. In a future version, strings will be parsed as datetime strings, matching the behavior without a 'unit'. To retain the old behavior, explicitly cast ints or floats to numeric type before calling to_datetime.\n",
      "  df = pd.read_json(os.path.join(path,file_name), lines=True, convert_dates=[\"created_at\",\"timestamp_ms\"])\n",
      "/tmp/ipykernel_16517/3536830003.py:12: FutureWarning: The behavior of 'to_datetime' with 'unit' when parsing strings is deprecated. In a future version, strings will be parsed as datetime strings, matching the behavior without a 'unit'. To retain the old behavior, explicitly cast ints or floats to numeric type before calling to_datetime.\n",
      "  df = pd.read_json(os.path.join(path,file_name), lines=True, convert_dates=[\"created_at\",\"timestamp_ms\"])\n"
     ]
    },
    {
     "name": "stdout",
     "output_type": "stream",
     "text": [
      "Before:\t(4566, 37)\n",
      "After:\t(989, 2)\n",
      "Full shape: (61093, 2)\n",
      "2020_06_11/06/59.json.bz2\n"
     ]
    },
    {
     "name": "stderr",
     "output_type": "stream",
     "text": [
      "/tmp/ipykernel_16517/3536830003.py:12: FutureWarning: The behavior of 'to_datetime' with 'unit' when parsing strings is deprecated. In a future version, strings will be parsed as datetime strings, matching the behavior without a 'unit'. To retain the old behavior, explicitly cast ints or floats to numeric type before calling to_datetime.\n",
      "  df = pd.read_json(os.path.join(path,file_name), lines=True, convert_dates=[\"created_at\",\"timestamp_ms\"])\n",
      "/tmp/ipykernel_16517/3536830003.py:12: FutureWarning: The behavior of 'to_datetime' with 'unit' when parsing strings is deprecated. In a future version, strings will be parsed as datetime strings, matching the behavior without a 'unit'. To retain the old behavior, explicitly cast ints or floats to numeric type before calling to_datetime.\n",
      "  df = pd.read_json(os.path.join(path,file_name), lines=True, convert_dates=[\"created_at\",\"timestamp_ms\"])\n"
     ]
    },
    {
     "name": "stdout",
     "output_type": "stream",
     "text": [
      "Before:\t(4627, 37)\n",
      "After:\t(960, 2)\n",
      "Full shape: (62053, 2)\n",
      "2020_06_11/06/45.json.bz2\n"
     ]
    },
    {
     "name": "stderr",
     "output_type": "stream",
     "text": [
      "/tmp/ipykernel_16517/3536830003.py:12: FutureWarning: The behavior of 'to_datetime' with 'unit' when parsing strings is deprecated. In a future version, strings will be parsed as datetime strings, matching the behavior without a 'unit'. To retain the old behavior, explicitly cast ints or floats to numeric type before calling to_datetime.\n",
      "  df = pd.read_json(os.path.join(path,file_name), lines=True, convert_dates=[\"created_at\",\"timestamp_ms\"])\n",
      "/tmp/ipykernel_16517/3536830003.py:12: FutureWarning: The behavior of 'to_datetime' with 'unit' when parsing strings is deprecated. In a future version, strings will be parsed as datetime strings, matching the behavior without a 'unit'. To retain the old behavior, explicitly cast ints or floats to numeric type before calling to_datetime.\n",
      "  df = pd.read_json(os.path.join(path,file_name), lines=True, convert_dates=[\"created_at\",\"timestamp_ms\"])\n"
     ]
    },
    {
     "name": "stdout",
     "output_type": "stream",
     "text": [
      "Before:\t(4860, 37)\n",
      "After:\t(992, 2)\n",
      "Full shape: (63045, 2)\n",
      "2020_06_11/06/22.json.bz2\n"
     ]
    },
    {
     "name": "stderr",
     "output_type": "stream",
     "text": [
      "/tmp/ipykernel_16517/3536830003.py:12: FutureWarning: The behavior of 'to_datetime' with 'unit' when parsing strings is deprecated. In a future version, strings will be parsed as datetime strings, matching the behavior without a 'unit'. To retain the old behavior, explicitly cast ints or floats to numeric type before calling to_datetime.\n",
      "  df = pd.read_json(os.path.join(path,file_name), lines=True, convert_dates=[\"created_at\",\"timestamp_ms\"])\n",
      "/tmp/ipykernel_16517/3536830003.py:12: FutureWarning: The behavior of 'to_datetime' with 'unit' when parsing strings is deprecated. In a future version, strings will be parsed as datetime strings, matching the behavior without a 'unit'. To retain the old behavior, explicitly cast ints or floats to numeric type before calling to_datetime.\n",
      "  df = pd.read_json(os.path.join(path,file_name), lines=True, convert_dates=[\"created_at\",\"timestamp_ms\"])\n"
     ]
    },
    {
     "name": "stdout",
     "output_type": "stream",
     "text": [
      "Before:\t(4511, 37)\n",
      "After:\t(963, 2)\n",
      "Full shape: (64008, 2)\n",
      "2020_06_11/06/16.json.bz2\n"
     ]
    },
    {
     "name": "stderr",
     "output_type": "stream",
     "text": [
      "/tmp/ipykernel_16517/3536830003.py:12: FutureWarning: The behavior of 'to_datetime' with 'unit' when parsing strings is deprecated. In a future version, strings will be parsed as datetime strings, matching the behavior without a 'unit'. To retain the old behavior, explicitly cast ints or floats to numeric type before calling to_datetime.\n",
      "  df = pd.read_json(os.path.join(path,file_name), lines=True, convert_dates=[\"created_at\",\"timestamp_ms\"])\n",
      "/tmp/ipykernel_16517/3536830003.py:12: FutureWarning: The behavior of 'to_datetime' with 'unit' when parsing strings is deprecated. In a future version, strings will be parsed as datetime strings, matching the behavior without a 'unit'. To retain the old behavior, explicitly cast ints or floats to numeric type before calling to_datetime.\n",
      "  df = pd.read_json(os.path.join(path,file_name), lines=True, convert_dates=[\"created_at\",\"timestamp_ms\"])\n"
     ]
    },
    {
     "name": "stdout",
     "output_type": "stream",
     "text": [
      "Before:\t(4480, 38)\n",
      "After:\t(969, 2)\n",
      "Full shape: (64977, 2)\n",
      "2020_06_11/06/53.json.bz2\n"
     ]
    },
    {
     "name": "stderr",
     "output_type": "stream",
     "text": [
      "/tmp/ipykernel_16517/3536830003.py:12: FutureWarning: The behavior of 'to_datetime' with 'unit' when parsing strings is deprecated. In a future version, strings will be parsed as datetime strings, matching the behavior without a 'unit'. To retain the old behavior, explicitly cast ints or floats to numeric type before calling to_datetime.\n",
      "  df = pd.read_json(os.path.join(path,file_name), lines=True, convert_dates=[\"created_at\",\"timestamp_ms\"])\n",
      "/tmp/ipykernel_16517/3536830003.py:12: FutureWarning: The behavior of 'to_datetime' with 'unit' when parsing strings is deprecated. In a future version, strings will be parsed as datetime strings, matching the behavior without a 'unit'. To retain the old behavior, explicitly cast ints or floats to numeric type before calling to_datetime.\n",
      "  df = pd.read_json(os.path.join(path,file_name), lines=True, convert_dates=[\"created_at\",\"timestamp_ms\"])\n"
     ]
    },
    {
     "name": "stdout",
     "output_type": "stream",
     "text": [
      "Before:\t(4632, 37)\n",
      "After:\t(1025, 2)\n",
      "Full shape: (66002, 2)\n",
      "2020_06_11/06/15.json.bz2\n"
     ]
    },
    {
     "name": "stderr",
     "output_type": "stream",
     "text": [
      "/tmp/ipykernel_16517/3536830003.py:12: FutureWarning: The behavior of 'to_datetime' with 'unit' when parsing strings is deprecated. In a future version, strings will be parsed as datetime strings, matching the behavior without a 'unit'. To retain the old behavior, explicitly cast ints or floats to numeric type before calling to_datetime.\n",
      "  df = pd.read_json(os.path.join(path,file_name), lines=True, convert_dates=[\"created_at\",\"timestamp_ms\"])\n",
      "/tmp/ipykernel_16517/3536830003.py:12: FutureWarning: The behavior of 'to_datetime' with 'unit' when parsing strings is deprecated. In a future version, strings will be parsed as datetime strings, matching the behavior without a 'unit'. To retain the old behavior, explicitly cast ints or floats to numeric type before calling to_datetime.\n",
      "  df = pd.read_json(os.path.join(path,file_name), lines=True, convert_dates=[\"created_at\",\"timestamp_ms\"])\n"
     ]
    },
    {
     "name": "stdout",
     "output_type": "stream",
     "text": [
      "Before:\t(4546, 37)\n",
      "After:\t(920, 2)\n",
      "Full shape: (66922, 2)\n",
      "2020_06_11/06/50.json.bz2\n"
     ]
    },
    {
     "name": "stderr",
     "output_type": "stream",
     "text": [
      "/tmp/ipykernel_16517/3536830003.py:12: FutureWarning: The behavior of 'to_datetime' with 'unit' when parsing strings is deprecated. In a future version, strings will be parsed as datetime strings, matching the behavior without a 'unit'. To retain the old behavior, explicitly cast ints or floats to numeric type before calling to_datetime.\n",
      "  df = pd.read_json(os.path.join(path,file_name), lines=True, convert_dates=[\"created_at\",\"timestamp_ms\"])\n",
      "/tmp/ipykernel_16517/3536830003.py:12: FutureWarning: The behavior of 'to_datetime' with 'unit' when parsing strings is deprecated. In a future version, strings will be parsed as datetime strings, matching the behavior without a 'unit'. To retain the old behavior, explicitly cast ints or floats to numeric type before calling to_datetime.\n",
      "  df = pd.read_json(os.path.join(path,file_name), lines=True, convert_dates=[\"created_at\",\"timestamp_ms\"])\n"
     ]
    },
    {
     "name": "stdout",
     "output_type": "stream",
     "text": [
      "Before:\t(4569, 37)\n",
      "After:\t(1036, 2)\n",
      "Full shape: (67958, 2)\n",
      "2020_06_11/06/17.json.bz2\n"
     ]
    },
    {
     "name": "stderr",
     "output_type": "stream",
     "text": [
      "/tmp/ipykernel_16517/3536830003.py:12: FutureWarning: The behavior of 'to_datetime' with 'unit' when parsing strings is deprecated. In a future version, strings will be parsed as datetime strings, matching the behavior without a 'unit'. To retain the old behavior, explicitly cast ints or floats to numeric type before calling to_datetime.\n",
      "  df = pd.read_json(os.path.join(path,file_name), lines=True, convert_dates=[\"created_at\",\"timestamp_ms\"])\n",
      "/tmp/ipykernel_16517/3536830003.py:12: FutureWarning: The behavior of 'to_datetime' with 'unit' when parsing strings is deprecated. In a future version, strings will be parsed as datetime strings, matching the behavior without a 'unit'. To retain the old behavior, explicitly cast ints or floats to numeric type before calling to_datetime.\n",
      "  df = pd.read_json(os.path.join(path,file_name), lines=True, convert_dates=[\"created_at\",\"timestamp_ms\"])\n"
     ]
    },
    {
     "name": "stdout",
     "output_type": "stream",
     "text": [
      "Before:\t(4433, 37)\n",
      "After:\t(929, 2)\n",
      "Full shape: (68887, 2)\n",
      "2020_06_11/06/29.json.bz2\n"
     ]
    },
    {
     "name": "stderr",
     "output_type": "stream",
     "text": [
      "/tmp/ipykernel_16517/3536830003.py:12: FutureWarning: The behavior of 'to_datetime' with 'unit' when parsing strings is deprecated. In a future version, strings will be parsed as datetime strings, matching the behavior without a 'unit'. To retain the old behavior, explicitly cast ints or floats to numeric type before calling to_datetime.\n",
      "  df = pd.read_json(os.path.join(path,file_name), lines=True, convert_dates=[\"created_at\",\"timestamp_ms\"])\n",
      "/tmp/ipykernel_16517/3536830003.py:12: FutureWarning: The behavior of 'to_datetime' with 'unit' when parsing strings is deprecated. In a future version, strings will be parsed as datetime strings, matching the behavior without a 'unit'. To retain the old behavior, explicitly cast ints or floats to numeric type before calling to_datetime.\n",
      "  df = pd.read_json(os.path.join(path,file_name), lines=True, convert_dates=[\"created_at\",\"timestamp_ms\"])\n"
     ]
    },
    {
     "name": "stdout",
     "output_type": "stream",
     "text": [
      "Before:\t(4627, 37)\n",
      "After:\t(936, 2)\n",
      "Full shape: (69823, 2)\n",
      "2020_06_11/06/34.json.bz2\n"
     ]
    },
    {
     "name": "stderr",
     "output_type": "stream",
     "text": [
      "/tmp/ipykernel_16517/3536830003.py:12: FutureWarning: The behavior of 'to_datetime' with 'unit' when parsing strings is deprecated. In a future version, strings will be parsed as datetime strings, matching the behavior without a 'unit'. To retain the old behavior, explicitly cast ints or floats to numeric type before calling to_datetime.\n",
      "  df = pd.read_json(os.path.join(path,file_name), lines=True, convert_dates=[\"created_at\",\"timestamp_ms\"])\n",
      "/tmp/ipykernel_16517/3536830003.py:12: FutureWarning: The behavior of 'to_datetime' with 'unit' when parsing strings is deprecated. In a future version, strings will be parsed as datetime strings, matching the behavior without a 'unit'. To retain the old behavior, explicitly cast ints or floats to numeric type before calling to_datetime.\n",
      "  df = pd.read_json(os.path.join(path,file_name), lines=True, convert_dates=[\"created_at\",\"timestamp_ms\"])\n"
     ]
    },
    {
     "name": "stdout",
     "output_type": "stream",
     "text": [
      "Before:\t(4801, 37)\n",
      "After:\t(1007, 2)\n",
      "Full shape: (70830, 2)\n",
      "2020_06_11/06/12.json.bz2\n"
     ]
    },
    {
     "name": "stderr",
     "output_type": "stream",
     "text": [
      "/tmp/ipykernel_16517/3536830003.py:12: FutureWarning: The behavior of 'to_datetime' with 'unit' when parsing strings is deprecated. In a future version, strings will be parsed as datetime strings, matching the behavior without a 'unit'. To retain the old behavior, explicitly cast ints or floats to numeric type before calling to_datetime.\n",
      "  df = pd.read_json(os.path.join(path,file_name), lines=True, convert_dates=[\"created_at\",\"timestamp_ms\"])\n",
      "/tmp/ipykernel_16517/3536830003.py:12: FutureWarning: The behavior of 'to_datetime' with 'unit' when parsing strings is deprecated. In a future version, strings will be parsed as datetime strings, matching the behavior without a 'unit'. To retain the old behavior, explicitly cast ints or floats to numeric type before calling to_datetime.\n",
      "  df = pd.read_json(os.path.join(path,file_name), lines=True, convert_dates=[\"created_at\",\"timestamp_ms\"])\n"
     ]
    },
    {
     "name": "stdout",
     "output_type": "stream",
     "text": [
      "Before:\t(4477, 38)\n",
      "After:\t(1000, 2)\n",
      "Full shape: (71830, 2)\n",
      "2020_06_11/06/41.json.bz2\n"
     ]
    },
    {
     "name": "stderr",
     "output_type": "stream",
     "text": [
      "/tmp/ipykernel_16517/3536830003.py:12: FutureWarning: The behavior of 'to_datetime' with 'unit' when parsing strings is deprecated. In a future version, strings will be parsed as datetime strings, matching the behavior without a 'unit'. To retain the old behavior, explicitly cast ints or floats to numeric type before calling to_datetime.\n",
      "  df = pd.read_json(os.path.join(path,file_name), lines=True, convert_dates=[\"created_at\",\"timestamp_ms\"])\n",
      "/tmp/ipykernel_16517/3536830003.py:12: FutureWarning: The behavior of 'to_datetime' with 'unit' when parsing strings is deprecated. In a future version, strings will be parsed as datetime strings, matching the behavior without a 'unit'. To retain the old behavior, explicitly cast ints or floats to numeric type before calling to_datetime.\n",
      "  df = pd.read_json(os.path.join(path,file_name), lines=True, convert_dates=[\"created_at\",\"timestamp_ms\"])\n"
     ]
    },
    {
     "name": "stdout",
     "output_type": "stream",
     "text": [
      "Before:\t(4657, 37)\n",
      "After:\t(1008, 2)\n",
      "Full shape: (72838, 2)\n",
      "2020_06_11/06/44.json.bz2\n"
     ]
    },
    {
     "name": "stderr",
     "output_type": "stream",
     "text": [
      "/tmp/ipykernel_16517/3536830003.py:12: FutureWarning: The behavior of 'to_datetime' with 'unit' when parsing strings is deprecated. In a future version, strings will be parsed as datetime strings, matching the behavior without a 'unit'. To retain the old behavior, explicitly cast ints or floats to numeric type before calling to_datetime.\n",
      "  df = pd.read_json(os.path.join(path,file_name), lines=True, convert_dates=[\"created_at\",\"timestamp_ms\"])\n",
      "/tmp/ipykernel_16517/3536830003.py:12: FutureWarning: The behavior of 'to_datetime' with 'unit' when parsing strings is deprecated. In a future version, strings will be parsed as datetime strings, matching the behavior without a 'unit'. To retain the old behavior, explicitly cast ints or floats to numeric type before calling to_datetime.\n",
      "  df = pd.read_json(os.path.join(path,file_name), lines=True, convert_dates=[\"created_at\",\"timestamp_ms\"])\n"
     ]
    },
    {
     "name": "stdout",
     "output_type": "stream",
     "text": [
      "Before:\t(4624, 37)\n",
      "After:\t(987, 2)\n",
      "Full shape: (73825, 2)\n",
      "2020_06_11/06/57.json.bz2\n"
     ]
    },
    {
     "name": "stderr",
     "output_type": "stream",
     "text": [
      "/tmp/ipykernel_16517/3536830003.py:12: FutureWarning: The behavior of 'to_datetime' with 'unit' when parsing strings is deprecated. In a future version, strings will be parsed as datetime strings, matching the behavior without a 'unit'. To retain the old behavior, explicitly cast ints or floats to numeric type before calling to_datetime.\n",
      "  df = pd.read_json(os.path.join(path,file_name), lines=True, convert_dates=[\"created_at\",\"timestamp_ms\"])\n",
      "/tmp/ipykernel_16517/3536830003.py:12: FutureWarning: The behavior of 'to_datetime' with 'unit' when parsing strings is deprecated. In a future version, strings will be parsed as datetime strings, matching the behavior without a 'unit'. To retain the old behavior, explicitly cast ints or floats to numeric type before calling to_datetime.\n",
      "  df = pd.read_json(os.path.join(path,file_name), lines=True, convert_dates=[\"created_at\",\"timestamp_ms\"])\n"
     ]
    },
    {
     "name": "stdout",
     "output_type": "stream",
     "text": [
      "Before:\t(4649, 37)\n",
      "After:\t(1000, 2)\n",
      "Full shape: (74825, 2)\n",
      "2020_06_11/06/37.json.bz2\n"
     ]
    },
    {
     "name": "stderr",
     "output_type": "stream",
     "text": [
      "/tmp/ipykernel_16517/3536830003.py:12: FutureWarning: The behavior of 'to_datetime' with 'unit' when parsing strings is deprecated. In a future version, strings will be parsed as datetime strings, matching the behavior without a 'unit'. To retain the old behavior, explicitly cast ints or floats to numeric type before calling to_datetime.\n",
      "  df = pd.read_json(os.path.join(path,file_name), lines=True, convert_dates=[\"created_at\",\"timestamp_ms\"])\n",
      "/tmp/ipykernel_16517/3536830003.py:12: FutureWarning: The behavior of 'to_datetime' with 'unit' when parsing strings is deprecated. In a future version, strings will be parsed as datetime strings, matching the behavior without a 'unit'. To retain the old behavior, explicitly cast ints or floats to numeric type before calling to_datetime.\n",
      "  df = pd.read_json(os.path.join(path,file_name), lines=True, convert_dates=[\"created_at\",\"timestamp_ms\"])\n"
     ]
    },
    {
     "name": "stdout",
     "output_type": "stream",
     "text": [
      "Before:\t(4628, 37)\n",
      "After:\t(959, 2)\n",
      "Full shape: (75784, 2)\n",
      "2020_06_11/06/36.json.bz2\n"
     ]
    },
    {
     "name": "stderr",
     "output_type": "stream",
     "text": [
      "/tmp/ipykernel_16517/3536830003.py:12: FutureWarning: The behavior of 'to_datetime' with 'unit' when parsing strings is deprecated. In a future version, strings will be parsed as datetime strings, matching the behavior without a 'unit'. To retain the old behavior, explicitly cast ints or floats to numeric type before calling to_datetime.\n",
      "  df = pd.read_json(os.path.join(path,file_name), lines=True, convert_dates=[\"created_at\",\"timestamp_ms\"])\n",
      "/tmp/ipykernel_16517/3536830003.py:12: FutureWarning: The behavior of 'to_datetime' with 'unit' when parsing strings is deprecated. In a future version, strings will be parsed as datetime strings, matching the behavior without a 'unit'. To retain the old behavior, explicitly cast ints or floats to numeric type before calling to_datetime.\n",
      "  df = pd.read_json(os.path.join(path,file_name), lines=True, convert_dates=[\"created_at\",\"timestamp_ms\"])\n"
     ]
    },
    {
     "name": "stdout",
     "output_type": "stream",
     "text": [
      "Before:\t(4627, 37)\n",
      "After:\t(971, 2)\n",
      "Full shape: (76755, 2)\n",
      "2020_06_11/06/32.json.bz2\n"
     ]
    },
    {
     "name": "stderr",
     "output_type": "stream",
     "text": [
      "/tmp/ipykernel_16517/3536830003.py:12: FutureWarning: The behavior of 'to_datetime' with 'unit' when parsing strings is deprecated. In a future version, strings will be parsed as datetime strings, matching the behavior without a 'unit'. To retain the old behavior, explicitly cast ints or floats to numeric type before calling to_datetime.\n",
      "  df = pd.read_json(os.path.join(path,file_name), lines=True, convert_dates=[\"created_at\",\"timestamp_ms\"])\n",
      "/tmp/ipykernel_16517/3536830003.py:12: FutureWarning: The behavior of 'to_datetime' with 'unit' when parsing strings is deprecated. In a future version, strings will be parsed as datetime strings, matching the behavior without a 'unit'. To retain the old behavior, explicitly cast ints or floats to numeric type before calling to_datetime.\n",
      "  df = pd.read_json(os.path.join(path,file_name), lines=True, convert_dates=[\"created_at\",\"timestamp_ms\"])\n"
     ]
    },
    {
     "name": "stdout",
     "output_type": "stream",
     "text": [
      "Before:\t(4730, 38)\n",
      "After:\t(953, 2)\n",
      "Full shape: (77708, 2)\n",
      "2020_06_11/06/10.json.bz2\n"
     ]
    },
    {
     "name": "stderr",
     "output_type": "stream",
     "text": [
      "/tmp/ipykernel_16517/3536830003.py:12: FutureWarning: The behavior of 'to_datetime' with 'unit' when parsing strings is deprecated. In a future version, strings will be parsed as datetime strings, matching the behavior without a 'unit'. To retain the old behavior, explicitly cast ints or floats to numeric type before calling to_datetime.\n",
      "  df = pd.read_json(os.path.join(path,file_name), lines=True, convert_dates=[\"created_at\",\"timestamp_ms\"])\n",
      "/tmp/ipykernel_16517/3536830003.py:12: FutureWarning: The behavior of 'to_datetime' with 'unit' when parsing strings is deprecated. In a future version, strings will be parsed as datetime strings, matching the behavior without a 'unit'. To retain the old behavior, explicitly cast ints or floats to numeric type before calling to_datetime.\n",
      "  df = pd.read_json(os.path.join(path,file_name), lines=True, convert_dates=[\"created_at\",\"timestamp_ms\"])\n"
     ]
    },
    {
     "name": "stdout",
     "output_type": "stream",
     "text": [
      "Before:\t(4468, 37)\n",
      "After:\t(900, 2)\n",
      "Full shape: (78608, 2)\n",
      "2020_06_11/06/39.json.bz2\n"
     ]
    },
    {
     "name": "stderr",
     "output_type": "stream",
     "text": [
      "/tmp/ipykernel_16517/3536830003.py:12: FutureWarning: The behavior of 'to_datetime' with 'unit' when parsing strings is deprecated. In a future version, strings will be parsed as datetime strings, matching the behavior without a 'unit'. To retain the old behavior, explicitly cast ints or floats to numeric type before calling to_datetime.\n",
      "  df = pd.read_json(os.path.join(path,file_name), lines=True, convert_dates=[\"created_at\",\"timestamp_ms\"])\n",
      "/tmp/ipykernel_16517/3536830003.py:12: FutureWarning: The behavior of 'to_datetime' with 'unit' when parsing strings is deprecated. In a future version, strings will be parsed as datetime strings, matching the behavior without a 'unit'. To retain the old behavior, explicitly cast ints or floats to numeric type before calling to_datetime.\n",
      "  df = pd.read_json(os.path.join(path,file_name), lines=True, convert_dates=[\"created_at\",\"timestamp_ms\"])\n"
     ]
    },
    {
     "name": "stdout",
     "output_type": "stream",
     "text": [
      "Before:\t(4715, 37)\n",
      "After:\t(1019, 2)\n",
      "Full shape: (79627, 2)\n",
      "2020_06_11/06/38.json.bz2\n"
     ]
    },
    {
     "name": "stderr",
     "output_type": "stream",
     "text": [
      "/tmp/ipykernel_16517/3536830003.py:12: FutureWarning: The behavior of 'to_datetime' with 'unit' when parsing strings is deprecated. In a future version, strings will be parsed as datetime strings, matching the behavior without a 'unit'. To retain the old behavior, explicitly cast ints or floats to numeric type before calling to_datetime.\n",
      "  df = pd.read_json(os.path.join(path,file_name), lines=True, convert_dates=[\"created_at\",\"timestamp_ms\"])\n",
      "/tmp/ipykernel_16517/3536830003.py:12: FutureWarning: The behavior of 'to_datetime' with 'unit' when parsing strings is deprecated. In a future version, strings will be parsed as datetime strings, matching the behavior without a 'unit'. To retain the old behavior, explicitly cast ints or floats to numeric type before calling to_datetime.\n",
      "  df = pd.read_json(os.path.join(path,file_name), lines=True, convert_dates=[\"created_at\",\"timestamp_ms\"])\n"
     ]
    },
    {
     "name": "stdout",
     "output_type": "stream",
     "text": [
      "Before:\t(4688, 37)\n",
      "After:\t(987, 2)\n",
      "Full shape: (80614, 2)\n",
      "2020_06_11/06/07.json.bz2\n"
     ]
    },
    {
     "name": "stderr",
     "output_type": "stream",
     "text": [
      "/tmp/ipykernel_16517/3536830003.py:12: FutureWarning: The behavior of 'to_datetime' with 'unit' when parsing strings is deprecated. In a future version, strings will be parsed as datetime strings, matching the behavior without a 'unit'. To retain the old behavior, explicitly cast ints or floats to numeric type before calling to_datetime.\n",
      "  df = pd.read_json(os.path.join(path,file_name), lines=True, convert_dates=[\"created_at\",\"timestamp_ms\"])\n",
      "/tmp/ipykernel_16517/3536830003.py:12: FutureWarning: The behavior of 'to_datetime' with 'unit' when parsing strings is deprecated. In a future version, strings will be parsed as datetime strings, matching the behavior without a 'unit'. To retain the old behavior, explicitly cast ints or floats to numeric type before calling to_datetime.\n",
      "  df = pd.read_json(os.path.join(path,file_name), lines=True, convert_dates=[\"created_at\",\"timestamp_ms\"])\n"
     ]
    },
    {
     "name": "stdout",
     "output_type": "stream",
     "text": [
      "Before:\t(4587, 37)\n",
      "After:\t(988, 2)\n",
      "Full shape: (81602, 2)\n",
      "2020_06_11/12/08.json.bz2\n"
     ]
    },
    {
     "name": "stderr",
     "output_type": "stream",
     "text": [
      "/tmp/ipykernel_16517/3536830003.py:12: FutureWarning: The behavior of 'to_datetime' with 'unit' when parsing strings is deprecated. In a future version, strings will be parsed as datetime strings, matching the behavior without a 'unit'. To retain the old behavior, explicitly cast ints or floats to numeric type before calling to_datetime.\n",
      "  df = pd.read_json(os.path.join(path,file_name), lines=True, convert_dates=[\"created_at\",\"timestamp_ms\"])\n",
      "/tmp/ipykernel_16517/3536830003.py:12: FutureWarning: The behavior of 'to_datetime' with 'unit' when parsing strings is deprecated. In a future version, strings will be parsed as datetime strings, matching the behavior without a 'unit'. To retain the old behavior, explicitly cast ints or floats to numeric type before calling to_datetime.\n",
      "  df = pd.read_json(os.path.join(path,file_name), lines=True, convert_dates=[\"created_at\",\"timestamp_ms\"])\n"
     ]
    },
    {
     "name": "stdout",
     "output_type": "stream",
     "text": [
      "Before:\t(8508, 37)\n",
      "After:\t(1204, 2)\n",
      "Full shape: (82806, 2)\n",
      "2020_06_11/12/28.json.bz2\n"
     ]
    },
    {
     "name": "stderr",
     "output_type": "stream",
     "text": [
      "/tmp/ipykernel_16517/3536830003.py:12: FutureWarning: The behavior of 'to_datetime' with 'unit' when parsing strings is deprecated. In a future version, strings will be parsed as datetime strings, matching the behavior without a 'unit'. To retain the old behavior, explicitly cast ints or floats to numeric type before calling to_datetime.\n",
      "  df = pd.read_json(os.path.join(path,file_name), lines=True, convert_dates=[\"created_at\",\"timestamp_ms\"])\n",
      "/tmp/ipykernel_16517/3536830003.py:12: FutureWarning: The behavior of 'to_datetime' with 'unit' when parsing strings is deprecated. In a future version, strings will be parsed as datetime strings, matching the behavior without a 'unit'. To retain the old behavior, explicitly cast ints or floats to numeric type before calling to_datetime.\n",
      "  df = pd.read_json(os.path.join(path,file_name), lines=True, convert_dates=[\"created_at\",\"timestamp_ms\"])\n"
     ]
    },
    {
     "name": "stdout",
     "output_type": "stream",
     "text": [
      "Before:\t(4000, 38)\n",
      "After:\t(1230, 2)\n",
      "Full shape: (84036, 2)\n",
      "2020_06_11/12/26.json.bz2\n"
     ]
    },
    {
     "name": "stderr",
     "output_type": "stream",
     "text": [
      "/tmp/ipykernel_16517/3536830003.py:12: FutureWarning: The behavior of 'to_datetime' with 'unit' when parsing strings is deprecated. In a future version, strings will be parsed as datetime strings, matching the behavior without a 'unit'. To retain the old behavior, explicitly cast ints or floats to numeric type before calling to_datetime.\n",
      "  df = pd.read_json(os.path.join(path,file_name), lines=True, convert_dates=[\"created_at\",\"timestamp_ms\"])\n",
      "/tmp/ipykernel_16517/3536830003.py:12: FutureWarning: The behavior of 'to_datetime' with 'unit' when parsing strings is deprecated. In a future version, strings will be parsed as datetime strings, matching the behavior without a 'unit'. To retain the old behavior, explicitly cast ints or floats to numeric type before calling to_datetime.\n",
      "  df = pd.read_json(os.path.join(path,file_name), lines=True, convert_dates=[\"created_at\",\"timestamp_ms\"])\n"
     ]
    },
    {
     "name": "stdout",
     "output_type": "stream",
     "text": [
      "Before:\t(4270, 37)\n",
      "After:\t(1277, 2)\n",
      "Full shape: (85313, 2)\n",
      "2020_06_11/12/30.json.bz2\n"
     ]
    },
    {
     "name": "stderr",
     "output_type": "stream",
     "text": [
      "/tmp/ipykernel_16517/3536830003.py:12: FutureWarning: The behavior of 'to_datetime' with 'unit' when parsing strings is deprecated. In a future version, strings will be parsed as datetime strings, matching the behavior without a 'unit'. To retain the old behavior, explicitly cast ints or floats to numeric type before calling to_datetime.\n",
      "  df = pd.read_json(os.path.join(path,file_name), lines=True, convert_dates=[\"created_at\",\"timestamp_ms\"])\n",
      "/tmp/ipykernel_16517/3536830003.py:12: FutureWarning: The behavior of 'to_datetime' with 'unit' when parsing strings is deprecated. In a future version, strings will be parsed as datetime strings, matching the behavior without a 'unit'. To retain the old behavior, explicitly cast ints or floats to numeric type before calling to_datetime.\n",
      "  df = pd.read_json(os.path.join(path,file_name), lines=True, convert_dates=[\"created_at\",\"timestamp_ms\"])\n"
     ]
    },
    {
     "name": "stdout",
     "output_type": "stream",
     "text": [
      "Before:\t(4104, 37)\n",
      "After:\t(1284, 2)\n",
      "Full shape: (86597, 2)\n",
      "2020_06_11/12/04.json.bz2\n"
     ]
    },
    {
     "name": "stderr",
     "output_type": "stream",
     "text": [
      "/tmp/ipykernel_16517/3536830003.py:12: FutureWarning: The behavior of 'to_datetime' with 'unit' when parsing strings is deprecated. In a future version, strings will be parsed as datetime strings, matching the behavior without a 'unit'. To retain the old behavior, explicitly cast ints or floats to numeric type before calling to_datetime.\n",
      "  df = pd.read_json(os.path.join(path,file_name), lines=True, convert_dates=[\"created_at\",\"timestamp_ms\"])\n",
      "/tmp/ipykernel_16517/3536830003.py:12: FutureWarning: The behavior of 'to_datetime' with 'unit' when parsing strings is deprecated. In a future version, strings will be parsed as datetime strings, matching the behavior without a 'unit'. To retain the old behavior, explicitly cast ints or floats to numeric type before calling to_datetime.\n",
      "  df = pd.read_json(os.path.join(path,file_name), lines=True, convert_dates=[\"created_at\",\"timestamp_ms\"])\n"
     ]
    },
    {
     "name": "stdout",
     "output_type": "stream",
     "text": [
      "Before:\t(8291, 37)\n",
      "After:\t(1203, 2)\n",
      "Full shape: (87800, 2)\n",
      "2020_06_11/12/06.json.bz2\n"
     ]
    },
    {
     "name": "stderr",
     "output_type": "stream",
     "text": [
      "/tmp/ipykernel_16517/3536830003.py:12: FutureWarning: The behavior of 'to_datetime' with 'unit' when parsing strings is deprecated. In a future version, strings will be parsed as datetime strings, matching the behavior without a 'unit'. To retain the old behavior, explicitly cast ints or floats to numeric type before calling to_datetime.\n",
      "  df = pd.read_json(os.path.join(path,file_name), lines=True, convert_dates=[\"created_at\",\"timestamp_ms\"])\n",
      "/tmp/ipykernel_16517/3536830003.py:12: FutureWarning: The behavior of 'to_datetime' with 'unit' when parsing strings is deprecated. In a future version, strings will be parsed as datetime strings, matching the behavior without a 'unit'. To retain the old behavior, explicitly cast ints or floats to numeric type before calling to_datetime.\n",
      "  df = pd.read_json(os.path.join(path,file_name), lines=True, convert_dates=[\"created_at\",\"timestamp_ms\"])\n"
     ]
    },
    {
     "name": "stdout",
     "output_type": "stream",
     "text": [
      "Before:\t(8635, 37)\n",
      "After:\t(1278, 2)\n",
      "Full shape: (89078, 2)\n",
      "2020_06_11/12/51.json.bz2\n"
     ]
    },
    {
     "name": "stderr",
     "output_type": "stream",
     "text": [
      "/tmp/ipykernel_16517/3536830003.py:12: FutureWarning: The behavior of 'to_datetime' with 'unit' when parsing strings is deprecated. In a future version, strings will be parsed as datetime strings, matching the behavior without a 'unit'. To retain the old behavior, explicitly cast ints or floats to numeric type before calling to_datetime.\n",
      "  df = pd.read_json(os.path.join(path,file_name), lines=True, convert_dates=[\"created_at\",\"timestamp_ms\"])\n",
      "/tmp/ipykernel_16517/3536830003.py:12: FutureWarning: The behavior of 'to_datetime' with 'unit' when parsing strings is deprecated. In a future version, strings will be parsed as datetime strings, matching the behavior without a 'unit'. To retain the old behavior, explicitly cast ints or floats to numeric type before calling to_datetime.\n",
      "  df = pd.read_json(os.path.join(path,file_name), lines=True, convert_dates=[\"created_at\",\"timestamp_ms\"])\n"
     ]
    },
    {
     "name": "stdout",
     "output_type": "stream",
     "text": [
      "Before:\t(3885, 37)\n",
      "After:\t(1291, 2)\n",
      "Full shape: (90369, 2)\n",
      "2020_06_11/12/54.json.bz2\n"
     ]
    },
    {
     "name": "stderr",
     "output_type": "stream",
     "text": [
      "/tmp/ipykernel_16517/3536830003.py:12: FutureWarning: The behavior of 'to_datetime' with 'unit' when parsing strings is deprecated. In a future version, strings will be parsed as datetime strings, matching the behavior without a 'unit'. To retain the old behavior, explicitly cast ints or floats to numeric type before calling to_datetime.\n",
      "  df = pd.read_json(os.path.join(path,file_name), lines=True, convert_dates=[\"created_at\",\"timestamp_ms\"])\n",
      "/tmp/ipykernel_16517/3536830003.py:12: FutureWarning: The behavior of 'to_datetime' with 'unit' when parsing strings is deprecated. In a future version, strings will be parsed as datetime strings, matching the behavior without a 'unit'. To retain the old behavior, explicitly cast ints or floats to numeric type before calling to_datetime.\n",
      "  df = pd.read_json(os.path.join(path,file_name), lines=True, convert_dates=[\"created_at\",\"timestamp_ms\"])\n"
     ]
    },
    {
     "name": "stdout",
     "output_type": "stream",
     "text": [
      "Before:\t(3726, 38)\n",
      "After:\t(1214, 2)\n",
      "Full shape: (91583, 2)\n",
      "2020_06_11/12/55.json.bz2\n"
     ]
    },
    {
     "name": "stderr",
     "output_type": "stream",
     "text": [
      "/tmp/ipykernel_16517/3536830003.py:12: FutureWarning: The behavior of 'to_datetime' with 'unit' when parsing strings is deprecated. In a future version, strings will be parsed as datetime strings, matching the behavior without a 'unit'. To retain the old behavior, explicitly cast ints or floats to numeric type before calling to_datetime.\n",
      "  df = pd.read_json(os.path.join(path,file_name), lines=True, convert_dates=[\"created_at\",\"timestamp_ms\"])\n",
      "/tmp/ipykernel_16517/3536830003.py:12: FutureWarning: The behavior of 'to_datetime' with 'unit' when parsing strings is deprecated. In a future version, strings will be parsed as datetime strings, matching the behavior without a 'unit'. To retain the old behavior, explicitly cast ints or floats to numeric type before calling to_datetime.\n",
      "  df = pd.read_json(os.path.join(path,file_name), lines=True, convert_dates=[\"created_at\",\"timestamp_ms\"])\n"
     ]
    },
    {
     "name": "stdout",
     "output_type": "stream",
     "text": [
      "Before:\t(3684, 38)\n",
      "After:\t(1137, 2)\n",
      "Full shape: (92720, 2)\n",
      "2020_06_11/12/58.json.bz2\n"
     ]
    },
    {
     "name": "stderr",
     "output_type": "stream",
     "text": [
      "/tmp/ipykernel_16517/3536830003.py:12: FutureWarning: The behavior of 'to_datetime' with 'unit' when parsing strings is deprecated. In a future version, strings will be parsed as datetime strings, matching the behavior without a 'unit'. To retain the old behavior, explicitly cast ints or floats to numeric type before calling to_datetime.\n",
      "  df = pd.read_json(os.path.join(path,file_name), lines=True, convert_dates=[\"created_at\",\"timestamp_ms\"])\n",
      "/tmp/ipykernel_16517/3536830003.py:12: FutureWarning: The behavior of 'to_datetime' with 'unit' when parsing strings is deprecated. In a future version, strings will be parsed as datetime strings, matching the behavior without a 'unit'. To retain the old behavior, explicitly cast ints or floats to numeric type before calling to_datetime.\n",
      "  df = pd.read_json(os.path.join(path,file_name), lines=True, convert_dates=[\"created_at\",\"timestamp_ms\"])\n"
     ]
    },
    {
     "name": "stdout",
     "output_type": "stream",
     "text": [
      "Before:\t(3519, 37)\n",
      "After:\t(1177, 2)\n",
      "Full shape: (93897, 2)\n",
      "2020_06_11/12/33.json.bz2\n"
     ]
    },
    {
     "name": "stderr",
     "output_type": "stream",
     "text": [
      "/tmp/ipykernel_16517/3536830003.py:12: FutureWarning: The behavior of 'to_datetime' with 'unit' when parsing strings is deprecated. In a future version, strings will be parsed as datetime strings, matching the behavior without a 'unit'. To retain the old behavior, explicitly cast ints or floats to numeric type before calling to_datetime.\n",
      "  df = pd.read_json(os.path.join(path,file_name), lines=True, convert_dates=[\"created_at\",\"timestamp_ms\"])\n",
      "/tmp/ipykernel_16517/3536830003.py:12: FutureWarning: The behavior of 'to_datetime' with 'unit' when parsing strings is deprecated. In a future version, strings will be parsed as datetime strings, matching the behavior without a 'unit'. To retain the old behavior, explicitly cast ints or floats to numeric type before calling to_datetime.\n",
      "  df = pd.read_json(os.path.join(path,file_name), lines=True, convert_dates=[\"created_at\",\"timestamp_ms\"])\n"
     ]
    },
    {
     "name": "stdout",
     "output_type": "stream",
     "text": [
      "Before:\t(4283, 37)\n",
      "After:\t(1249, 2)\n",
      "Full shape: (95146, 2)\n",
      "2020_06_11/12/09.json.bz2\n"
     ]
    },
    {
     "name": "stderr",
     "output_type": "stream",
     "text": [
      "/tmp/ipykernel_16517/3536830003.py:12: FutureWarning: The behavior of 'to_datetime' with 'unit' when parsing strings is deprecated. In a future version, strings will be parsed as datetime strings, matching the behavior without a 'unit'. To retain the old behavior, explicitly cast ints or floats to numeric type before calling to_datetime.\n",
      "  df = pd.read_json(os.path.join(path,file_name), lines=True, convert_dates=[\"created_at\",\"timestamp_ms\"])\n",
      "/tmp/ipykernel_16517/3536830003.py:12: FutureWarning: The behavior of 'to_datetime' with 'unit' when parsing strings is deprecated. In a future version, strings will be parsed as datetime strings, matching the behavior without a 'unit'. To retain the old behavior, explicitly cast ints or floats to numeric type before calling to_datetime.\n",
      "  df = pd.read_json(os.path.join(path,file_name), lines=True, convert_dates=[\"created_at\",\"timestamp_ms\"])\n"
     ]
    },
    {
     "name": "stdout",
     "output_type": "stream",
     "text": [
      "Before:\t(8528, 37)\n",
      "After:\t(1278, 2)\n",
      "Full shape: (96424, 2)\n",
      "2020_06_11/12/11.json.bz2\n"
     ]
    },
    {
     "name": "stderr",
     "output_type": "stream",
     "text": [
      "/tmp/ipykernel_16517/3536830003.py:12: FutureWarning: The behavior of 'to_datetime' with 'unit' when parsing strings is deprecated. In a future version, strings will be parsed as datetime strings, matching the behavior without a 'unit'. To retain the old behavior, explicitly cast ints or floats to numeric type before calling to_datetime.\n",
      "  df = pd.read_json(os.path.join(path,file_name), lines=True, convert_dates=[\"created_at\",\"timestamp_ms\"])\n",
      "/tmp/ipykernel_16517/3536830003.py:12: FutureWarning: The behavior of 'to_datetime' with 'unit' when parsing strings is deprecated. In a future version, strings will be parsed as datetime strings, matching the behavior without a 'unit'. To retain the old behavior, explicitly cast ints or floats to numeric type before calling to_datetime.\n",
      "  df = pd.read_json(os.path.join(path,file_name), lines=True, convert_dates=[\"created_at\",\"timestamp_ms\"])\n"
     ]
    },
    {
     "name": "stdout",
     "output_type": "stream",
     "text": [
      "Before:\t(8441, 37)\n",
      "After:\t(1224, 2)\n",
      "Full shape: (97648, 2)\n",
      "2020_06_11/12/21.json.bz2\n"
     ]
    },
    {
     "name": "stderr",
     "output_type": "stream",
     "text": [
      "/tmp/ipykernel_16517/3536830003.py:12: FutureWarning: The behavior of 'to_datetime' with 'unit' when parsing strings is deprecated. In a future version, strings will be parsed as datetime strings, matching the behavior without a 'unit'. To retain the old behavior, explicitly cast ints or floats to numeric type before calling to_datetime.\n",
      "  df = pd.read_json(os.path.join(path,file_name), lines=True, convert_dates=[\"created_at\",\"timestamp_ms\"])\n",
      "/tmp/ipykernel_16517/3536830003.py:12: FutureWarning: The behavior of 'to_datetime' with 'unit' when parsing strings is deprecated. In a future version, strings will be parsed as datetime strings, matching the behavior without a 'unit'. To retain the old behavior, explicitly cast ints or floats to numeric type before calling to_datetime.\n",
      "  df = pd.read_json(os.path.join(path,file_name), lines=True, convert_dates=[\"created_at\",\"timestamp_ms\"])\n"
     ]
    },
    {
     "name": "stdout",
     "output_type": "stream",
     "text": [
      "Before:\t(7788, 37)\n",
      "After:\t(1262, 2)\n",
      "Full shape: (98910, 2)\n",
      "2020_06_11/12/03.json.bz2\n"
     ]
    },
    {
     "name": "stderr",
     "output_type": "stream",
     "text": [
      "/tmp/ipykernel_16517/3536830003.py:12: FutureWarning: The behavior of 'to_datetime' with 'unit' when parsing strings is deprecated. In a future version, strings will be parsed as datetime strings, matching the behavior without a 'unit'. To retain the old behavior, explicitly cast ints or floats to numeric type before calling to_datetime.\n",
      "  df = pd.read_json(os.path.join(path,file_name), lines=True, convert_dates=[\"created_at\",\"timestamp_ms\"])\n",
      "/tmp/ipykernel_16517/3536830003.py:12: FutureWarning: The behavior of 'to_datetime' with 'unit' when parsing strings is deprecated. In a future version, strings will be parsed as datetime strings, matching the behavior without a 'unit'. To retain the old behavior, explicitly cast ints or floats to numeric type before calling to_datetime.\n",
      "  df = pd.read_json(os.path.join(path,file_name), lines=True, convert_dates=[\"created_at\",\"timestamp_ms\"])\n"
     ]
    },
    {
     "name": "stdout",
     "output_type": "stream",
     "text": [
      "Before:\t(8683, 37)\n",
      "After:\t(1313, 2)\n",
      "Full shape: (100223, 2)\n",
      "2020_06_11/12/48.json.bz2\n"
     ]
    },
    {
     "name": "stderr",
     "output_type": "stream",
     "text": [
      "/tmp/ipykernel_16517/3536830003.py:12: FutureWarning: The behavior of 'to_datetime' with 'unit' when parsing strings is deprecated. In a future version, strings will be parsed as datetime strings, matching the behavior without a 'unit'. To retain the old behavior, explicitly cast ints or floats to numeric type before calling to_datetime.\n",
      "  df = pd.read_json(os.path.join(path,file_name), lines=True, convert_dates=[\"created_at\",\"timestamp_ms\"])\n",
      "/tmp/ipykernel_16517/3536830003.py:12: FutureWarning: The behavior of 'to_datetime' with 'unit' when parsing strings is deprecated. In a future version, strings will be parsed as datetime strings, matching the behavior without a 'unit'. To retain the old behavior, explicitly cast ints or floats to numeric type before calling to_datetime.\n",
      "  df = pd.read_json(os.path.join(path,file_name), lines=True, convert_dates=[\"created_at\",\"timestamp_ms\"])\n"
     ]
    },
    {
     "name": "stdout",
     "output_type": "stream",
     "text": [
      "Before:\t(3885, 38)\n",
      "After:\t(1186, 2)\n",
      "Full shape: (101409, 2)\n",
      "2020_06_11/12/56.json.bz2\n"
     ]
    },
    {
     "name": "stderr",
     "output_type": "stream",
     "text": [
      "/tmp/ipykernel_16517/3536830003.py:12: FutureWarning: The behavior of 'to_datetime' with 'unit' when parsing strings is deprecated. In a future version, strings will be parsed as datetime strings, matching the behavior without a 'unit'. To retain the old behavior, explicitly cast ints or floats to numeric type before calling to_datetime.\n",
      "  df = pd.read_json(os.path.join(path,file_name), lines=True, convert_dates=[\"created_at\",\"timestamp_ms\"])\n",
      "/tmp/ipykernel_16517/3536830003.py:12: FutureWarning: The behavior of 'to_datetime' with 'unit' when parsing strings is deprecated. In a future version, strings will be parsed as datetime strings, matching the behavior without a 'unit'. To retain the old behavior, explicitly cast ints or floats to numeric type before calling to_datetime.\n",
      "  df = pd.read_json(os.path.join(path,file_name), lines=True, convert_dates=[\"created_at\",\"timestamp_ms\"])\n"
     ]
    },
    {
     "name": "stdout",
     "output_type": "stream",
     "text": [
      "Before:\t(3808, 37)\n",
      "After:\t(1157, 2)\n",
      "Full shape: (102566, 2)\n",
      "2020_06_11/12/05.json.bz2\n"
     ]
    },
    {
     "name": "stderr",
     "output_type": "stream",
     "text": [
      "/tmp/ipykernel_16517/3536830003.py:12: FutureWarning: The behavior of 'to_datetime' with 'unit' when parsing strings is deprecated. In a future version, strings will be parsed as datetime strings, matching the behavior without a 'unit'. To retain the old behavior, explicitly cast ints or floats to numeric type before calling to_datetime.\n",
      "  df = pd.read_json(os.path.join(path,file_name), lines=True, convert_dates=[\"created_at\",\"timestamp_ms\"])\n",
      "/tmp/ipykernel_16517/3536830003.py:12: FutureWarning: The behavior of 'to_datetime' with 'unit' when parsing strings is deprecated. In a future version, strings will be parsed as datetime strings, matching the behavior without a 'unit'. To retain the old behavior, explicitly cast ints or floats to numeric type before calling to_datetime.\n",
      "  df = pd.read_json(os.path.join(path,file_name), lines=True, convert_dates=[\"created_at\",\"timestamp_ms\"])\n"
     ]
    },
    {
     "name": "stdout",
     "output_type": "stream",
     "text": [
      "Before:\t(8391, 37)\n",
      "After:\t(1262, 2)\n",
      "Full shape: (103828, 2)\n",
      "2020_06_11/12/24.json.bz2\n"
     ]
    },
    {
     "name": "stderr",
     "output_type": "stream",
     "text": [
      "/tmp/ipykernel_16517/3536830003.py:12: FutureWarning: The behavior of 'to_datetime' with 'unit' when parsing strings is deprecated. In a future version, strings will be parsed as datetime strings, matching the behavior without a 'unit'. To retain the old behavior, explicitly cast ints or floats to numeric type before calling to_datetime.\n",
      "  df = pd.read_json(os.path.join(path,file_name), lines=True, convert_dates=[\"created_at\",\"timestamp_ms\"])\n",
      "/tmp/ipykernel_16517/3536830003.py:12: FutureWarning: The behavior of 'to_datetime' with 'unit' when parsing strings is deprecated. In a future version, strings will be parsed as datetime strings, matching the behavior without a 'unit'. To retain the old behavior, explicitly cast ints or floats to numeric type before calling to_datetime.\n",
      "  df = pd.read_json(os.path.join(path,file_name), lines=True, convert_dates=[\"created_at\",\"timestamp_ms\"])\n"
     ]
    },
    {
     "name": "stdout",
     "output_type": "stream",
     "text": [
      "Before:\t(7630, 37)\n",
      "After:\t(1224, 2)\n",
      "Full shape: (105052, 2)\n",
      "2020_06_11/12/43.json.bz2\n"
     ]
    },
    {
     "name": "stderr",
     "output_type": "stream",
     "text": [
      "/tmp/ipykernel_16517/3536830003.py:12: FutureWarning: The behavior of 'to_datetime' with 'unit' when parsing strings is deprecated. In a future version, strings will be parsed as datetime strings, matching the behavior without a 'unit'. To retain the old behavior, explicitly cast ints or floats to numeric type before calling to_datetime.\n",
      "  df = pd.read_json(os.path.join(path,file_name), lines=True, convert_dates=[\"created_at\",\"timestamp_ms\"])\n",
      "/tmp/ipykernel_16517/3536830003.py:12: FutureWarning: The behavior of 'to_datetime' with 'unit' when parsing strings is deprecated. In a future version, strings will be parsed as datetime strings, matching the behavior without a 'unit'. To retain the old behavior, explicitly cast ints or floats to numeric type before calling to_datetime.\n",
      "  df = pd.read_json(os.path.join(path,file_name), lines=True, convert_dates=[\"created_at\",\"timestamp_ms\"])\n"
     ]
    },
    {
     "name": "stdout",
     "output_type": "stream",
     "text": [
      "Before:\t(3816, 37)\n",
      "After:\t(1277, 2)\n",
      "Full shape: (106329, 2)\n",
      "2020_06_11/12/47.json.bz2\n"
     ]
    },
    {
     "name": "stderr",
     "output_type": "stream",
     "text": [
      "/tmp/ipykernel_16517/3536830003.py:12: FutureWarning: The behavior of 'to_datetime' with 'unit' when parsing strings is deprecated. In a future version, strings will be parsed as datetime strings, matching the behavior without a 'unit'. To retain the old behavior, explicitly cast ints or floats to numeric type before calling to_datetime.\n",
      "  df = pd.read_json(os.path.join(path,file_name), lines=True, convert_dates=[\"created_at\",\"timestamp_ms\"])\n",
      "/tmp/ipykernel_16517/3536830003.py:12: FutureWarning: The behavior of 'to_datetime' with 'unit' when parsing strings is deprecated. In a future version, strings will be parsed as datetime strings, matching the behavior without a 'unit'. To retain the old behavior, explicitly cast ints or floats to numeric type before calling to_datetime.\n",
      "  df = pd.read_json(os.path.join(path,file_name), lines=True, convert_dates=[\"created_at\",\"timestamp_ms\"])\n"
     ]
    },
    {
     "name": "stdout",
     "output_type": "stream",
     "text": [
      "Before:\t(3661, 37)\n",
      "After:\t(1207, 2)\n",
      "Full shape: (107536, 2)\n",
      "2020_06_11/12/27.json.bz2\n"
     ]
    },
    {
     "name": "stderr",
     "output_type": "stream",
     "text": [
      "/tmp/ipykernel_16517/3536830003.py:12: FutureWarning: The behavior of 'to_datetime' with 'unit' when parsing strings is deprecated. In a future version, strings will be parsed as datetime strings, matching the behavior without a 'unit'. To retain the old behavior, explicitly cast ints or floats to numeric type before calling to_datetime.\n",
      "  df = pd.read_json(os.path.join(path,file_name), lines=True, convert_dates=[\"created_at\",\"timestamp_ms\"])\n",
      "/tmp/ipykernel_16517/3536830003.py:12: FutureWarning: The behavior of 'to_datetime' with 'unit' when parsing strings is deprecated. In a future version, strings will be parsed as datetime strings, matching the behavior without a 'unit'. To retain the old behavior, explicitly cast ints or floats to numeric type before calling to_datetime.\n",
      "  df = pd.read_json(os.path.join(path,file_name), lines=True, convert_dates=[\"created_at\",\"timestamp_ms\"])\n"
     ]
    },
    {
     "name": "stdout",
     "output_type": "stream",
     "text": [
      "Before:\t(4020, 37)\n",
      "After:\t(1240, 2)\n",
      "Full shape: (108776, 2)\n",
      "2020_06_11/12/42.json.bz2\n"
     ]
    },
    {
     "name": "stderr",
     "output_type": "stream",
     "text": [
      "/tmp/ipykernel_16517/3536830003.py:12: FutureWarning: The behavior of 'to_datetime' with 'unit' when parsing strings is deprecated. In a future version, strings will be parsed as datetime strings, matching the behavior without a 'unit'. To retain the old behavior, explicitly cast ints or floats to numeric type before calling to_datetime.\n",
      "  df = pd.read_json(os.path.join(path,file_name), lines=True, convert_dates=[\"created_at\",\"timestamp_ms\"])\n",
      "/tmp/ipykernel_16517/3536830003.py:12: FutureWarning: The behavior of 'to_datetime' with 'unit' when parsing strings is deprecated. In a future version, strings will be parsed as datetime strings, matching the behavior without a 'unit'. To retain the old behavior, explicitly cast ints or floats to numeric type before calling to_datetime.\n",
      "  df = pd.read_json(os.path.join(path,file_name), lines=True, convert_dates=[\"created_at\",\"timestamp_ms\"])\n"
     ]
    },
    {
     "name": "stdout",
     "output_type": "stream",
     "text": [
      "Before:\t(3883, 37)\n",
      "After:\t(1253, 2)\n",
      "Full shape: (110029, 2)\n",
      "2020_06_11/12/19.json.bz2\n"
     ]
    },
    {
     "name": "stderr",
     "output_type": "stream",
     "text": [
      "/tmp/ipykernel_16517/3536830003.py:12: FutureWarning: The behavior of 'to_datetime' with 'unit' when parsing strings is deprecated. In a future version, strings will be parsed as datetime strings, matching the behavior without a 'unit'. To retain the old behavior, explicitly cast ints or floats to numeric type before calling to_datetime.\n",
      "  df = pd.read_json(os.path.join(path,file_name), lines=True, convert_dates=[\"created_at\",\"timestamp_ms\"])\n",
      "/tmp/ipykernel_16517/3536830003.py:12: FutureWarning: The behavior of 'to_datetime' with 'unit' when parsing strings is deprecated. In a future version, strings will be parsed as datetime strings, matching the behavior without a 'unit'. To retain the old behavior, explicitly cast ints or floats to numeric type before calling to_datetime.\n",
      "  df = pd.read_json(os.path.join(path,file_name), lines=True, convert_dates=[\"created_at\",\"timestamp_ms\"])\n"
     ]
    },
    {
     "name": "stdout",
     "output_type": "stream",
     "text": [
      "Before:\t(8012, 37)\n",
      "After:\t(1273, 2)\n",
      "Full shape: (111302, 2)\n",
      "2020_06_11/12/25.json.bz2\n"
     ]
    },
    {
     "name": "stderr",
     "output_type": "stream",
     "text": [
      "/tmp/ipykernel_16517/3536830003.py:12: FutureWarning: The behavior of 'to_datetime' with 'unit' when parsing strings is deprecated. In a future version, strings will be parsed as datetime strings, matching the behavior without a 'unit'. To retain the old behavior, explicitly cast ints or floats to numeric type before calling to_datetime.\n",
      "  df = pd.read_json(os.path.join(path,file_name), lines=True, convert_dates=[\"created_at\",\"timestamp_ms\"])\n",
      "/tmp/ipykernel_16517/3536830003.py:12: FutureWarning: The behavior of 'to_datetime' with 'unit' when parsing strings is deprecated. In a future version, strings will be parsed as datetime strings, matching the behavior without a 'unit'. To retain the old behavior, explicitly cast ints or floats to numeric type before calling to_datetime.\n",
      "  df = pd.read_json(os.path.join(path,file_name), lines=True, convert_dates=[\"created_at\",\"timestamp_ms\"])\n"
     ]
    },
    {
     "name": "stdout",
     "output_type": "stream",
     "text": [
      "Before:\t(5960, 37)\n",
      "After:\t(1241, 2)\n",
      "Full shape: (112543, 2)\n",
      "2020_06_11/12/01.json.bz2\n"
     ]
    },
    {
     "name": "stderr",
     "output_type": "stream",
     "text": [
      "/tmp/ipykernel_16517/3536830003.py:12: FutureWarning: The behavior of 'to_datetime' with 'unit' when parsing strings is deprecated. In a future version, strings will be parsed as datetime strings, matching the behavior without a 'unit'. To retain the old behavior, explicitly cast ints or floats to numeric type before calling to_datetime.\n",
      "  df = pd.read_json(os.path.join(path,file_name), lines=True, convert_dates=[\"created_at\",\"timestamp_ms\"])\n",
      "/tmp/ipykernel_16517/3536830003.py:12: FutureWarning: The behavior of 'to_datetime' with 'unit' when parsing strings is deprecated. In a future version, strings will be parsed as datetime strings, matching the behavior without a 'unit'. To retain the old behavior, explicitly cast ints or floats to numeric type before calling to_datetime.\n",
      "  df = pd.read_json(os.path.join(path,file_name), lines=True, convert_dates=[\"created_at\",\"timestamp_ms\"])\n"
     ]
    },
    {
     "name": "stdout",
     "output_type": "stream",
     "text": [
      "Before:\t(6573, 38)\n",
      "After:\t(1245, 2)\n",
      "Full shape: (113788, 2)\n",
      "2020_06_11/12/02.json.bz2\n"
     ]
    },
    {
     "name": "stderr",
     "output_type": "stream",
     "text": [
      "/tmp/ipykernel_16517/3536830003.py:12: FutureWarning: The behavior of 'to_datetime' with 'unit' when parsing strings is deprecated. In a future version, strings will be parsed as datetime strings, matching the behavior without a 'unit'. To retain the old behavior, explicitly cast ints or floats to numeric type before calling to_datetime.\n",
      "  df = pd.read_json(os.path.join(path,file_name), lines=True, convert_dates=[\"created_at\",\"timestamp_ms\"])\n",
      "/tmp/ipykernel_16517/3536830003.py:12: FutureWarning: The behavior of 'to_datetime' with 'unit' when parsing strings is deprecated. In a future version, strings will be parsed as datetime strings, matching the behavior without a 'unit'. To retain the old behavior, explicitly cast ints or floats to numeric type before calling to_datetime.\n",
      "  df = pd.read_json(os.path.join(path,file_name), lines=True, convert_dates=[\"created_at\",\"timestamp_ms\"])\n"
     ]
    },
    {
     "name": "stdout",
     "output_type": "stream",
     "text": [
      "Before:\t(8571, 37)\n",
      "After:\t(1272, 2)\n",
      "Full shape: (115060, 2)\n",
      "2020_06_11/12/00.json.bz2\n"
     ]
    },
    {
     "name": "stderr",
     "output_type": "stream",
     "text": [
      "/tmp/ipykernel_16517/3536830003.py:12: FutureWarning: The behavior of 'to_datetime' with 'unit' when parsing strings is deprecated. In a future version, strings will be parsed as datetime strings, matching the behavior without a 'unit'. To retain the old behavior, explicitly cast ints or floats to numeric type before calling to_datetime.\n",
      "  df = pd.read_json(os.path.join(path,file_name), lines=True, convert_dates=[\"created_at\",\"timestamp_ms\"])\n",
      "/tmp/ipykernel_16517/3536830003.py:12: FutureWarning: The behavior of 'to_datetime' with 'unit' when parsing strings is deprecated. In a future version, strings will be parsed as datetime strings, matching the behavior without a 'unit'. To retain the old behavior, explicitly cast ints or floats to numeric type before calling to_datetime.\n",
      "  df = pd.read_json(os.path.join(path,file_name), lines=True, convert_dates=[\"created_at\",\"timestamp_ms\"])\n"
     ]
    },
    {
     "name": "stdout",
     "output_type": "stream",
     "text": [
      "Before:\t(4361, 37)\n",
      "After:\t(1449, 2)\n",
      "Full shape: (116509, 2)\n",
      "2020_06_11/12/31.json.bz2\n"
     ]
    },
    {
     "name": "stderr",
     "output_type": "stream",
     "text": [
      "/tmp/ipykernel_16517/3536830003.py:12: FutureWarning: The behavior of 'to_datetime' with 'unit' when parsing strings is deprecated. In a future version, strings will be parsed as datetime strings, matching the behavior without a 'unit'. To retain the old behavior, explicitly cast ints or floats to numeric type before calling to_datetime.\n",
      "  df = pd.read_json(os.path.join(path,file_name), lines=True, convert_dates=[\"created_at\",\"timestamp_ms\"])\n",
      "/tmp/ipykernel_16517/3536830003.py:12: FutureWarning: The behavior of 'to_datetime' with 'unit' when parsing strings is deprecated. In a future version, strings will be parsed as datetime strings, matching the behavior without a 'unit'. To retain the old behavior, explicitly cast ints or floats to numeric type before calling to_datetime.\n",
      "  df = pd.read_json(os.path.join(path,file_name), lines=True, convert_dates=[\"created_at\",\"timestamp_ms\"])\n"
     ]
    },
    {
     "name": "stdout",
     "output_type": "stream",
     "text": [
      "Before:\t(3913, 37)\n",
      "After:\t(1286, 2)\n",
      "Full shape: (117795, 2)\n",
      "2020_06_11/12/23.json.bz2\n"
     ]
    },
    {
     "name": "stderr",
     "output_type": "stream",
     "text": [
      "/tmp/ipykernel_16517/3536830003.py:12: FutureWarning: The behavior of 'to_datetime' with 'unit' when parsing strings is deprecated. In a future version, strings will be parsed as datetime strings, matching the behavior without a 'unit'. To retain the old behavior, explicitly cast ints or floats to numeric type before calling to_datetime.\n",
      "  df = pd.read_json(os.path.join(path,file_name), lines=True, convert_dates=[\"created_at\",\"timestamp_ms\"])\n",
      "/tmp/ipykernel_16517/3536830003.py:12: FutureWarning: The behavior of 'to_datetime' with 'unit' when parsing strings is deprecated. In a future version, strings will be parsed as datetime strings, matching the behavior without a 'unit'. To retain the old behavior, explicitly cast ints or floats to numeric type before calling to_datetime.\n",
      "  df = pd.read_json(os.path.join(path,file_name), lines=True, convert_dates=[\"created_at\",\"timestamp_ms\"])\n"
     ]
    },
    {
     "name": "stdout",
     "output_type": "stream",
     "text": [
      "Before:\t(7623, 37)\n",
      "After:\t(1294, 2)\n",
      "Full shape: (119089, 2)\n",
      "2020_06_11/12/52.json.bz2\n"
     ]
    },
    {
     "name": "stderr",
     "output_type": "stream",
     "text": [
      "/tmp/ipykernel_16517/3536830003.py:12: FutureWarning: The behavior of 'to_datetime' with 'unit' when parsing strings is deprecated. In a future version, strings will be parsed as datetime strings, matching the behavior without a 'unit'. To retain the old behavior, explicitly cast ints or floats to numeric type before calling to_datetime.\n",
      "  df = pd.read_json(os.path.join(path,file_name), lines=True, convert_dates=[\"created_at\",\"timestamp_ms\"])\n",
      "/tmp/ipykernel_16517/3536830003.py:12: FutureWarning: The behavior of 'to_datetime' with 'unit' when parsing strings is deprecated. In a future version, strings will be parsed as datetime strings, matching the behavior without a 'unit'. To retain the old behavior, explicitly cast ints or floats to numeric type before calling to_datetime.\n",
      "  df = pd.read_json(os.path.join(path,file_name), lines=True, convert_dates=[\"created_at\",\"timestamp_ms\"])\n"
     ]
    },
    {
     "name": "stdout",
     "output_type": "stream",
     "text": [
      "Before:\t(3819, 38)\n",
      "After:\t(1330, 2)\n",
      "Full shape: (120419, 2)\n",
      "2020_06_11/12/13.json.bz2\n"
     ]
    },
    {
     "name": "stderr",
     "output_type": "stream",
     "text": [
      "/tmp/ipykernel_16517/3536830003.py:12: FutureWarning: The behavior of 'to_datetime' with 'unit' when parsing strings is deprecated. In a future version, strings will be parsed as datetime strings, matching the behavior without a 'unit'. To retain the old behavior, explicitly cast ints or floats to numeric type before calling to_datetime.\n",
      "  df = pd.read_json(os.path.join(path,file_name), lines=True, convert_dates=[\"created_at\",\"timestamp_ms\"])\n",
      "/tmp/ipykernel_16517/3536830003.py:12: FutureWarning: The behavior of 'to_datetime' with 'unit' when parsing strings is deprecated. In a future version, strings will be parsed as datetime strings, matching the behavior without a 'unit'. To retain the old behavior, explicitly cast ints or floats to numeric type before calling to_datetime.\n",
      "  df = pd.read_json(os.path.join(path,file_name), lines=True, convert_dates=[\"created_at\",\"timestamp_ms\"])\n"
     ]
    },
    {
     "name": "stdout",
     "output_type": "stream",
     "text": [
      "Before:\t(8441, 37)\n",
      "After:\t(1242, 2)\n",
      "Full shape: (121661, 2)\n",
      "2020_06_11/12/14.json.bz2\n"
     ]
    },
    {
     "name": "stderr",
     "output_type": "stream",
     "text": [
      "/tmp/ipykernel_16517/3536830003.py:12: FutureWarning: The behavior of 'to_datetime' with 'unit' when parsing strings is deprecated. In a future version, strings will be parsed as datetime strings, matching the behavior without a 'unit'. To retain the old behavior, explicitly cast ints or floats to numeric type before calling to_datetime.\n",
      "  df = pd.read_json(os.path.join(path,file_name), lines=True, convert_dates=[\"created_at\",\"timestamp_ms\"])\n",
      "/tmp/ipykernel_16517/3536830003.py:12: FutureWarning: The behavior of 'to_datetime' with 'unit' when parsing strings is deprecated. In a future version, strings will be parsed as datetime strings, matching the behavior without a 'unit'. To retain the old behavior, explicitly cast ints or floats to numeric type before calling to_datetime.\n",
      "  df = pd.read_json(os.path.join(path,file_name), lines=True, convert_dates=[\"created_at\",\"timestamp_ms\"])\n"
     ]
    },
    {
     "name": "stdout",
     "output_type": "stream",
     "text": [
      "Before:\t(8490, 37)\n",
      "After:\t(1254, 2)\n",
      "Full shape: (122915, 2)\n",
      "2020_06_11/12/35.json.bz2\n"
     ]
    },
    {
     "name": "stderr",
     "output_type": "stream",
     "text": [
      "/tmp/ipykernel_16517/3536830003.py:12: FutureWarning: The behavior of 'to_datetime' with 'unit' when parsing strings is deprecated. In a future version, strings will be parsed as datetime strings, matching the behavior without a 'unit'. To retain the old behavior, explicitly cast ints or floats to numeric type before calling to_datetime.\n",
      "  df = pd.read_json(os.path.join(path,file_name), lines=True, convert_dates=[\"created_at\",\"timestamp_ms\"])\n",
      "/tmp/ipykernel_16517/3536830003.py:12: FutureWarning: The behavior of 'to_datetime' with 'unit' when parsing strings is deprecated. In a future version, strings will be parsed as datetime strings, matching the behavior without a 'unit'. To retain the old behavior, explicitly cast ints or floats to numeric type before calling to_datetime.\n",
      "  df = pd.read_json(os.path.join(path,file_name), lines=True, convert_dates=[\"created_at\",\"timestamp_ms\"])\n"
     ]
    },
    {
     "name": "stdout",
     "output_type": "stream",
     "text": [
      "Before:\t(4091, 38)\n",
      "After:\t(1247, 2)\n",
      "Full shape: (124162, 2)\n",
      "2020_06_11/12/20.json.bz2\n"
     ]
    },
    {
     "name": "stderr",
     "output_type": "stream",
     "text": [
      "/tmp/ipykernel_16517/3536830003.py:12: FutureWarning: The behavior of 'to_datetime' with 'unit' when parsing strings is deprecated. In a future version, strings will be parsed as datetime strings, matching the behavior without a 'unit'. To retain the old behavior, explicitly cast ints or floats to numeric type before calling to_datetime.\n",
      "  df = pd.read_json(os.path.join(path,file_name), lines=True, convert_dates=[\"created_at\",\"timestamp_ms\"])\n",
      "/tmp/ipykernel_16517/3536830003.py:12: FutureWarning: The behavior of 'to_datetime' with 'unit' when parsing strings is deprecated. In a future version, strings will be parsed as datetime strings, matching the behavior without a 'unit'. To retain the old behavior, explicitly cast ints or floats to numeric type before calling to_datetime.\n",
      "  df = pd.read_json(os.path.join(path,file_name), lines=True, convert_dates=[\"created_at\",\"timestamp_ms\"])\n"
     ]
    },
    {
     "name": "stdout",
     "output_type": "stream",
     "text": [
      "Before:\t(8086, 37)\n",
      "After:\t(1234, 2)\n",
      "Full shape: (125396, 2)\n",
      "2020_06_11/12/40.json.bz2\n"
     ]
    },
    {
     "name": "stderr",
     "output_type": "stream",
     "text": [
      "/tmp/ipykernel_16517/3536830003.py:12: FutureWarning: The behavior of 'to_datetime' with 'unit' when parsing strings is deprecated. In a future version, strings will be parsed as datetime strings, matching the behavior without a 'unit'. To retain the old behavior, explicitly cast ints or floats to numeric type before calling to_datetime.\n",
      "  df = pd.read_json(os.path.join(path,file_name), lines=True, convert_dates=[\"created_at\",\"timestamp_ms\"])\n",
      "/tmp/ipykernel_16517/3536830003.py:12: FutureWarning: The behavior of 'to_datetime' with 'unit' when parsing strings is deprecated. In a future version, strings will be parsed as datetime strings, matching the behavior without a 'unit'. To retain the old behavior, explicitly cast ints or floats to numeric type before calling to_datetime.\n",
      "  df = pd.read_json(os.path.join(path,file_name), lines=True, convert_dates=[\"created_at\",\"timestamp_ms\"])\n"
     ]
    },
    {
     "name": "stdout",
     "output_type": "stream",
     "text": [
      "Before:\t(4001, 37)\n",
      "After:\t(1253, 2)\n",
      "Full shape: (126649, 2)\n",
      "2020_06_11/12/46.json.bz2\n"
     ]
    },
    {
     "name": "stderr",
     "output_type": "stream",
     "text": [
      "/tmp/ipykernel_16517/3536830003.py:12: FutureWarning: The behavior of 'to_datetime' with 'unit' when parsing strings is deprecated. In a future version, strings will be parsed as datetime strings, matching the behavior without a 'unit'. To retain the old behavior, explicitly cast ints or floats to numeric type before calling to_datetime.\n",
      "  df = pd.read_json(os.path.join(path,file_name), lines=True, convert_dates=[\"created_at\",\"timestamp_ms\"])\n",
      "/tmp/ipykernel_16517/3536830003.py:12: FutureWarning: The behavior of 'to_datetime' with 'unit' when parsing strings is deprecated. In a future version, strings will be parsed as datetime strings, matching the behavior without a 'unit'. To retain the old behavior, explicitly cast ints or floats to numeric type before calling to_datetime.\n",
      "  df = pd.read_json(os.path.join(path,file_name), lines=True, convert_dates=[\"created_at\",\"timestamp_ms\"])\n"
     ]
    },
    {
     "name": "stdout",
     "output_type": "stream",
     "text": [
      "Before:\t(3690, 37)\n",
      "After:\t(1243, 2)\n",
      "Full shape: (127892, 2)\n",
      "2020_06_11/12/49.json.bz2\n"
     ]
    },
    {
     "name": "stderr",
     "output_type": "stream",
     "text": [
      "/tmp/ipykernel_16517/3536830003.py:12: FutureWarning: The behavior of 'to_datetime' with 'unit' when parsing strings is deprecated. In a future version, strings will be parsed as datetime strings, matching the behavior without a 'unit'. To retain the old behavior, explicitly cast ints or floats to numeric type before calling to_datetime.\n",
      "  df = pd.read_json(os.path.join(path,file_name), lines=True, convert_dates=[\"created_at\",\"timestamp_ms\"])\n",
      "/tmp/ipykernel_16517/3536830003.py:12: FutureWarning: The behavior of 'to_datetime' with 'unit' when parsing strings is deprecated. In a future version, strings will be parsed as datetime strings, matching the behavior without a 'unit'. To retain the old behavior, explicitly cast ints or floats to numeric type before calling to_datetime.\n",
      "  df = pd.read_json(os.path.join(path,file_name), lines=True, convert_dates=[\"created_at\",\"timestamp_ms\"])\n"
     ]
    },
    {
     "name": "stdout",
     "output_type": "stream",
     "text": [
      "Before:\t(3777, 37)\n",
      "After:\t(1175, 2)\n",
      "Full shape: (129067, 2)\n",
      "2020_06_11/12/18.json.bz2\n"
     ]
    },
    {
     "name": "stderr",
     "output_type": "stream",
     "text": [
      "/tmp/ipykernel_16517/3536830003.py:12: FutureWarning: The behavior of 'to_datetime' with 'unit' when parsing strings is deprecated. In a future version, strings will be parsed as datetime strings, matching the behavior without a 'unit'. To retain the old behavior, explicitly cast ints or floats to numeric type before calling to_datetime.\n",
      "  df = pd.read_json(os.path.join(path,file_name), lines=True, convert_dates=[\"created_at\",\"timestamp_ms\"])\n",
      "/tmp/ipykernel_16517/3536830003.py:12: FutureWarning: The behavior of 'to_datetime' with 'unit' when parsing strings is deprecated. In a future version, strings will be parsed as datetime strings, matching the behavior without a 'unit'. To retain the old behavior, explicitly cast ints or floats to numeric type before calling to_datetime.\n",
      "  df = pd.read_json(os.path.join(path,file_name), lines=True, convert_dates=[\"created_at\",\"timestamp_ms\"])\n"
     ]
    },
    {
     "name": "stdout",
     "output_type": "stream",
     "text": [
      "Before:\t(8324, 37)\n",
      "After:\t(1244, 2)\n",
      "Full shape: (130311, 2)\n",
      "2020_06_11/12/59.json.bz2\n"
     ]
    },
    {
     "name": "stderr",
     "output_type": "stream",
     "text": [
      "/tmp/ipykernel_16517/3536830003.py:12: FutureWarning: The behavior of 'to_datetime' with 'unit' when parsing strings is deprecated. In a future version, strings will be parsed as datetime strings, matching the behavior without a 'unit'. To retain the old behavior, explicitly cast ints or floats to numeric type before calling to_datetime.\n",
      "  df = pd.read_json(os.path.join(path,file_name), lines=True, convert_dates=[\"created_at\",\"timestamp_ms\"])\n",
      "/tmp/ipykernel_16517/3536830003.py:12: FutureWarning: The behavior of 'to_datetime' with 'unit' when parsing strings is deprecated. In a future version, strings will be parsed as datetime strings, matching the behavior without a 'unit'. To retain the old behavior, explicitly cast ints or floats to numeric type before calling to_datetime.\n",
      "  df = pd.read_json(os.path.join(path,file_name), lines=True, convert_dates=[\"created_at\",\"timestamp_ms\"])\n"
     ]
    },
    {
     "name": "stdout",
     "output_type": "stream",
     "text": [
      "Before:\t(3648, 37)\n",
      "After:\t(1208, 2)\n",
      "Full shape: (131519, 2)\n",
      "2020_06_11/12/45.json.bz2\n"
     ]
    },
    {
     "name": "stderr",
     "output_type": "stream",
     "text": [
      "/tmp/ipykernel_16517/3536830003.py:12: FutureWarning: The behavior of 'to_datetime' with 'unit' when parsing strings is deprecated. In a future version, strings will be parsed as datetime strings, matching the behavior without a 'unit'. To retain the old behavior, explicitly cast ints or floats to numeric type before calling to_datetime.\n",
      "  df = pd.read_json(os.path.join(path,file_name), lines=True, convert_dates=[\"created_at\",\"timestamp_ms\"])\n",
      "/tmp/ipykernel_16517/3536830003.py:12: FutureWarning: The behavior of 'to_datetime' with 'unit' when parsing strings is deprecated. In a future version, strings will be parsed as datetime strings, matching the behavior without a 'unit'. To retain the old behavior, explicitly cast ints or floats to numeric type before calling to_datetime.\n",
      "  df = pd.read_json(os.path.join(path,file_name), lines=True, convert_dates=[\"created_at\",\"timestamp_ms\"])\n"
     ]
    },
    {
     "name": "stdout",
     "output_type": "stream",
     "text": [
      "Before:\t(3846, 37)\n",
      "After:\t(1211, 2)\n",
      "Full shape: (132730, 2)\n",
      "2020_06_11/12/22.json.bz2\n"
     ]
    },
    {
     "name": "stderr",
     "output_type": "stream",
     "text": [
      "/tmp/ipykernel_16517/3536830003.py:12: FutureWarning: The behavior of 'to_datetime' with 'unit' when parsing strings is deprecated. In a future version, strings will be parsed as datetime strings, matching the behavior without a 'unit'. To retain the old behavior, explicitly cast ints or floats to numeric type before calling to_datetime.\n",
      "  df = pd.read_json(os.path.join(path,file_name), lines=True, convert_dates=[\"created_at\",\"timestamp_ms\"])\n",
      "/tmp/ipykernel_16517/3536830003.py:12: FutureWarning: The behavior of 'to_datetime' with 'unit' when parsing strings is deprecated. In a future version, strings will be parsed as datetime strings, matching the behavior without a 'unit'. To retain the old behavior, explicitly cast ints or floats to numeric type before calling to_datetime.\n",
      "  df = pd.read_json(os.path.join(path,file_name), lines=True, convert_dates=[\"created_at\",\"timestamp_ms\"])\n"
     ]
    },
    {
     "name": "stdout",
     "output_type": "stream",
     "text": [
      "Before:\t(7944, 37)\n",
      "After:\t(1246, 2)\n",
      "Full shape: (133976, 2)\n",
      "2020_06_11/12/16.json.bz2\n"
     ]
    },
    {
     "name": "stderr",
     "output_type": "stream",
     "text": [
      "/tmp/ipykernel_16517/3536830003.py:12: FutureWarning: The behavior of 'to_datetime' with 'unit' when parsing strings is deprecated. In a future version, strings will be parsed as datetime strings, matching the behavior without a 'unit'. To retain the old behavior, explicitly cast ints or floats to numeric type before calling to_datetime.\n",
      "  df = pd.read_json(os.path.join(path,file_name), lines=True, convert_dates=[\"created_at\",\"timestamp_ms\"])\n",
      "/tmp/ipykernel_16517/3536830003.py:12: FutureWarning: The behavior of 'to_datetime' with 'unit' when parsing strings is deprecated. In a future version, strings will be parsed as datetime strings, matching the behavior without a 'unit'. To retain the old behavior, explicitly cast ints or floats to numeric type before calling to_datetime.\n",
      "  df = pd.read_json(os.path.join(path,file_name), lines=True, convert_dates=[\"created_at\",\"timestamp_ms\"])\n"
     ]
    },
    {
     "name": "stdout",
     "output_type": "stream",
     "text": [
      "Before:\t(8242, 37)\n",
      "After:\t(1298, 2)\n",
      "Full shape: (135274, 2)\n",
      "2020_06_11/12/53.json.bz2\n"
     ]
    },
    {
     "name": "stderr",
     "output_type": "stream",
     "text": [
      "/tmp/ipykernel_16517/3536830003.py:12: FutureWarning: The behavior of 'to_datetime' with 'unit' when parsing strings is deprecated. In a future version, strings will be parsed as datetime strings, matching the behavior without a 'unit'. To retain the old behavior, explicitly cast ints or floats to numeric type before calling to_datetime.\n",
      "  df = pd.read_json(os.path.join(path,file_name), lines=True, convert_dates=[\"created_at\",\"timestamp_ms\"])\n",
      "/tmp/ipykernel_16517/3536830003.py:12: FutureWarning: The behavior of 'to_datetime' with 'unit' when parsing strings is deprecated. In a future version, strings will be parsed as datetime strings, matching the behavior without a 'unit'. To retain the old behavior, explicitly cast ints or floats to numeric type before calling to_datetime.\n",
      "  df = pd.read_json(os.path.join(path,file_name), lines=True, convert_dates=[\"created_at\",\"timestamp_ms\"])\n"
     ]
    },
    {
     "name": "stdout",
     "output_type": "stream",
     "text": [
      "Before:\t(3718, 37)\n",
      "After:\t(1238, 2)\n",
      "Full shape: (136512, 2)\n",
      "2020_06_11/12/15.json.bz2\n"
     ]
    },
    {
     "name": "stderr",
     "output_type": "stream",
     "text": [
      "/tmp/ipykernel_16517/3536830003.py:12: FutureWarning: The behavior of 'to_datetime' with 'unit' when parsing strings is deprecated. In a future version, strings will be parsed as datetime strings, matching the behavior without a 'unit'. To retain the old behavior, explicitly cast ints or floats to numeric type before calling to_datetime.\n",
      "  df = pd.read_json(os.path.join(path,file_name), lines=True, convert_dates=[\"created_at\",\"timestamp_ms\"])\n",
      "/tmp/ipykernel_16517/3536830003.py:12: FutureWarning: The behavior of 'to_datetime' with 'unit' when parsing strings is deprecated. In a future version, strings will be parsed as datetime strings, matching the behavior without a 'unit'. To retain the old behavior, explicitly cast ints or floats to numeric type before calling to_datetime.\n",
      "  df = pd.read_json(os.path.join(path,file_name), lines=True, convert_dates=[\"created_at\",\"timestamp_ms\"])\n"
     ]
    },
    {
     "name": "stdout",
     "output_type": "stream",
     "text": [
      "Before:\t(8481, 37)\n",
      "After:\t(1258, 2)\n",
      "Full shape: (137770, 2)\n",
      "2020_06_11/12/50.json.bz2\n"
     ]
    },
    {
     "name": "stderr",
     "output_type": "stream",
     "text": [
      "/tmp/ipykernel_16517/3536830003.py:12: FutureWarning: The behavior of 'to_datetime' with 'unit' when parsing strings is deprecated. In a future version, strings will be parsed as datetime strings, matching the behavior without a 'unit'. To retain the old behavior, explicitly cast ints or floats to numeric type before calling to_datetime.\n",
      "  df = pd.read_json(os.path.join(path,file_name), lines=True, convert_dates=[\"created_at\",\"timestamp_ms\"])\n",
      "/tmp/ipykernel_16517/3536830003.py:12: FutureWarning: The behavior of 'to_datetime' with 'unit' when parsing strings is deprecated. In a future version, strings will be parsed as datetime strings, matching the behavior without a 'unit'. To retain the old behavior, explicitly cast ints or floats to numeric type before calling to_datetime.\n",
      "  df = pd.read_json(os.path.join(path,file_name), lines=True, convert_dates=[\"created_at\",\"timestamp_ms\"])\n"
     ]
    },
    {
     "name": "stdout",
     "output_type": "stream",
     "text": [
      "Before:\t(3761, 37)\n",
      "After:\t(1165, 2)\n",
      "Full shape: (138935, 2)\n",
      "2020_06_11/12/17.json.bz2\n"
     ]
    },
    {
     "name": "stderr",
     "output_type": "stream",
     "text": [
      "/tmp/ipykernel_16517/3536830003.py:12: FutureWarning: The behavior of 'to_datetime' with 'unit' when parsing strings is deprecated. In a future version, strings will be parsed as datetime strings, matching the behavior without a 'unit'. To retain the old behavior, explicitly cast ints or floats to numeric type before calling to_datetime.\n",
      "  df = pd.read_json(os.path.join(path,file_name), lines=True, convert_dates=[\"created_at\",\"timestamp_ms\"])\n",
      "/tmp/ipykernel_16517/3536830003.py:12: FutureWarning: The behavior of 'to_datetime' with 'unit' when parsing strings is deprecated. In a future version, strings will be parsed as datetime strings, matching the behavior without a 'unit'. To retain the old behavior, explicitly cast ints or floats to numeric type before calling to_datetime.\n",
      "  df = pd.read_json(os.path.join(path,file_name), lines=True, convert_dates=[\"created_at\",\"timestamp_ms\"])\n"
     ]
    },
    {
     "name": "stdout",
     "output_type": "stream",
     "text": [
      "Before:\t(8272, 37)\n",
      "After:\t(1275, 2)\n",
      "Full shape: (140210, 2)\n",
      "2020_06_11/12/29.json.bz2\n"
     ]
    },
    {
     "name": "stderr",
     "output_type": "stream",
     "text": [
      "/tmp/ipykernel_16517/3536830003.py:12: FutureWarning: The behavior of 'to_datetime' with 'unit' when parsing strings is deprecated. In a future version, strings will be parsed as datetime strings, matching the behavior without a 'unit'. To retain the old behavior, explicitly cast ints or floats to numeric type before calling to_datetime.\n",
      "  df = pd.read_json(os.path.join(path,file_name), lines=True, convert_dates=[\"created_at\",\"timestamp_ms\"])\n",
      "/tmp/ipykernel_16517/3536830003.py:12: FutureWarning: The behavior of 'to_datetime' with 'unit' when parsing strings is deprecated. In a future version, strings will be parsed as datetime strings, matching the behavior without a 'unit'. To retain the old behavior, explicitly cast ints or floats to numeric type before calling to_datetime.\n",
      "  df = pd.read_json(os.path.join(path,file_name), lines=True, convert_dates=[\"created_at\",\"timestamp_ms\"])\n"
     ]
    },
    {
     "name": "stdout",
     "output_type": "stream",
     "text": [
      "Before:\t(4012, 37)\n",
      "After:\t(1261, 2)\n",
      "Full shape: (141471, 2)\n",
      "2020_06_11/12/34.json.bz2\n"
     ]
    },
    {
     "name": "stderr",
     "output_type": "stream",
     "text": [
      "/tmp/ipykernel_16517/3536830003.py:12: FutureWarning: The behavior of 'to_datetime' with 'unit' when parsing strings is deprecated. In a future version, strings will be parsed as datetime strings, matching the behavior without a 'unit'. To retain the old behavior, explicitly cast ints or floats to numeric type before calling to_datetime.\n",
      "  df = pd.read_json(os.path.join(path,file_name), lines=True, convert_dates=[\"created_at\",\"timestamp_ms\"])\n",
      "/tmp/ipykernel_16517/3536830003.py:12: FutureWarning: The behavior of 'to_datetime' with 'unit' when parsing strings is deprecated. In a future version, strings will be parsed as datetime strings, matching the behavior without a 'unit'. To retain the old behavior, explicitly cast ints or floats to numeric type before calling to_datetime.\n",
      "  df = pd.read_json(os.path.join(path,file_name), lines=True, convert_dates=[\"created_at\",\"timestamp_ms\"])\n"
     ]
    },
    {
     "name": "stdout",
     "output_type": "stream",
     "text": [
      "Before:\t(4175, 38)\n",
      "After:\t(1209, 2)\n",
      "Full shape: (142680, 2)\n",
      "2020_06_11/12/12.json.bz2\n"
     ]
    },
    {
     "name": "stderr",
     "output_type": "stream",
     "text": [
      "/tmp/ipykernel_16517/3536830003.py:12: FutureWarning: The behavior of 'to_datetime' with 'unit' when parsing strings is deprecated. In a future version, strings will be parsed as datetime strings, matching the behavior without a 'unit'. To retain the old behavior, explicitly cast ints or floats to numeric type before calling to_datetime.\n",
      "  df = pd.read_json(os.path.join(path,file_name), lines=True, convert_dates=[\"created_at\",\"timestamp_ms\"])\n",
      "/tmp/ipykernel_16517/3536830003.py:12: FutureWarning: The behavior of 'to_datetime' with 'unit' when parsing strings is deprecated. In a future version, strings will be parsed as datetime strings, matching the behavior without a 'unit'. To retain the old behavior, explicitly cast ints or floats to numeric type before calling to_datetime.\n",
      "  df = pd.read_json(os.path.join(path,file_name), lines=True, convert_dates=[\"created_at\",\"timestamp_ms\"])\n"
     ]
    },
    {
     "name": "stdout",
     "output_type": "stream",
     "text": [
      "Before:\t(8426, 37)\n",
      "After:\t(1253, 2)\n",
      "Full shape: (143933, 2)\n",
      "2020_06_11/12/41.json.bz2\n"
     ]
    },
    {
     "name": "stderr",
     "output_type": "stream",
     "text": [
      "/tmp/ipykernel_16517/3536830003.py:12: FutureWarning: The behavior of 'to_datetime' with 'unit' when parsing strings is deprecated. In a future version, strings will be parsed as datetime strings, matching the behavior without a 'unit'. To retain the old behavior, explicitly cast ints or floats to numeric type before calling to_datetime.\n",
      "  df = pd.read_json(os.path.join(path,file_name), lines=True, convert_dates=[\"created_at\",\"timestamp_ms\"])\n",
      "/tmp/ipykernel_16517/3536830003.py:12: FutureWarning: The behavior of 'to_datetime' with 'unit' when parsing strings is deprecated. In a future version, strings will be parsed as datetime strings, matching the behavior without a 'unit'. To retain the old behavior, explicitly cast ints or floats to numeric type before calling to_datetime.\n",
      "  df = pd.read_json(os.path.join(path,file_name), lines=True, convert_dates=[\"created_at\",\"timestamp_ms\"])\n"
     ]
    },
    {
     "name": "stdout",
     "output_type": "stream",
     "text": [
      "Before:\t(4129, 37)\n",
      "After:\t(1221, 2)\n",
      "Full shape: (145154, 2)\n",
      "2020_06_11/12/44.json.bz2\n"
     ]
    },
    {
     "name": "stderr",
     "output_type": "stream",
     "text": [
      "/tmp/ipykernel_16517/3536830003.py:12: FutureWarning: The behavior of 'to_datetime' with 'unit' when parsing strings is deprecated. In a future version, strings will be parsed as datetime strings, matching the behavior without a 'unit'. To retain the old behavior, explicitly cast ints or floats to numeric type before calling to_datetime.\n",
      "  df = pd.read_json(os.path.join(path,file_name), lines=True, convert_dates=[\"created_at\",\"timestamp_ms\"])\n",
      "/tmp/ipykernel_16517/3536830003.py:12: FutureWarning: The behavior of 'to_datetime' with 'unit' when parsing strings is deprecated. In a future version, strings will be parsed as datetime strings, matching the behavior without a 'unit'. To retain the old behavior, explicitly cast ints or floats to numeric type before calling to_datetime.\n",
      "  df = pd.read_json(os.path.join(path,file_name), lines=True, convert_dates=[\"created_at\",\"timestamp_ms\"])\n"
     ]
    },
    {
     "name": "stdout",
     "output_type": "stream",
     "text": [
      "Before:\t(3813, 37)\n",
      "After:\t(1213, 2)\n",
      "Full shape: (146367, 2)\n",
      "2020_06_11/12/57.json.bz2\n"
     ]
    },
    {
     "name": "stderr",
     "output_type": "stream",
     "text": [
      "/tmp/ipykernel_16517/3536830003.py:12: FutureWarning: The behavior of 'to_datetime' with 'unit' when parsing strings is deprecated. In a future version, strings will be parsed as datetime strings, matching the behavior without a 'unit'. To retain the old behavior, explicitly cast ints or floats to numeric type before calling to_datetime.\n",
      "  df = pd.read_json(os.path.join(path,file_name), lines=True, convert_dates=[\"created_at\",\"timestamp_ms\"])\n",
      "/tmp/ipykernel_16517/3536830003.py:12: FutureWarning: The behavior of 'to_datetime' with 'unit' when parsing strings is deprecated. In a future version, strings will be parsed as datetime strings, matching the behavior without a 'unit'. To retain the old behavior, explicitly cast ints or floats to numeric type before calling to_datetime.\n",
      "  df = pd.read_json(os.path.join(path,file_name), lines=True, convert_dates=[\"created_at\",\"timestamp_ms\"])\n"
     ]
    },
    {
     "name": "stdout",
     "output_type": "stream",
     "text": [
      "Before:\t(3696, 37)\n",
      "After:\t(1191, 2)\n",
      "Full shape: (147558, 2)\n",
      "2020_06_11/12/37.json.bz2\n"
     ]
    },
    {
     "name": "stderr",
     "output_type": "stream",
     "text": [
      "/tmp/ipykernel_16517/3536830003.py:12: FutureWarning: The behavior of 'to_datetime' with 'unit' when parsing strings is deprecated. In a future version, strings will be parsed as datetime strings, matching the behavior without a 'unit'. To retain the old behavior, explicitly cast ints or floats to numeric type before calling to_datetime.\n",
      "  df = pd.read_json(os.path.join(path,file_name), lines=True, convert_dates=[\"created_at\",\"timestamp_ms\"])\n",
      "/tmp/ipykernel_16517/3536830003.py:12: FutureWarning: The behavior of 'to_datetime' with 'unit' when parsing strings is deprecated. In a future version, strings will be parsed as datetime strings, matching the behavior without a 'unit'. To retain the old behavior, explicitly cast ints or floats to numeric type before calling to_datetime.\n",
      "  df = pd.read_json(os.path.join(path,file_name), lines=True, convert_dates=[\"created_at\",\"timestamp_ms\"])\n"
     ]
    },
    {
     "name": "stdout",
     "output_type": "stream",
     "text": [
      "Before:\t(3901, 38)\n",
      "After:\t(1181, 2)\n",
      "Full shape: (148739, 2)\n",
      "2020_06_11/12/36.json.bz2\n"
     ]
    },
    {
     "name": "stderr",
     "output_type": "stream",
     "text": [
      "/tmp/ipykernel_16517/3536830003.py:12: FutureWarning: The behavior of 'to_datetime' with 'unit' when parsing strings is deprecated. In a future version, strings will be parsed as datetime strings, matching the behavior without a 'unit'. To retain the old behavior, explicitly cast ints or floats to numeric type before calling to_datetime.\n",
      "  df = pd.read_json(os.path.join(path,file_name), lines=True, convert_dates=[\"created_at\",\"timestamp_ms\"])\n",
      "/tmp/ipykernel_16517/3536830003.py:12: FutureWarning: The behavior of 'to_datetime' with 'unit' when parsing strings is deprecated. In a future version, strings will be parsed as datetime strings, matching the behavior without a 'unit'. To retain the old behavior, explicitly cast ints or floats to numeric type before calling to_datetime.\n",
      "  df = pd.read_json(os.path.join(path,file_name), lines=True, convert_dates=[\"created_at\",\"timestamp_ms\"])\n"
     ]
    },
    {
     "name": "stdout",
     "output_type": "stream",
     "text": [
      "Before:\t(3856, 38)\n",
      "After:\t(1224, 2)\n",
      "Full shape: (149963, 2)\n",
      "2020_06_11/12/32.json.bz2\n"
     ]
    },
    {
     "name": "stderr",
     "output_type": "stream",
     "text": [
      "/tmp/ipykernel_16517/3536830003.py:12: FutureWarning: The behavior of 'to_datetime' with 'unit' when parsing strings is deprecated. In a future version, strings will be parsed as datetime strings, matching the behavior without a 'unit'. To retain the old behavior, explicitly cast ints or floats to numeric type before calling to_datetime.\n",
      "  df = pd.read_json(os.path.join(path,file_name), lines=True, convert_dates=[\"created_at\",\"timestamp_ms\"])\n",
      "/tmp/ipykernel_16517/3536830003.py:12: FutureWarning: The behavior of 'to_datetime' with 'unit' when parsing strings is deprecated. In a future version, strings will be parsed as datetime strings, matching the behavior without a 'unit'. To retain the old behavior, explicitly cast ints or floats to numeric type before calling to_datetime.\n",
      "  df = pd.read_json(os.path.join(path,file_name), lines=True, convert_dates=[\"created_at\",\"timestamp_ms\"])\n"
     ]
    },
    {
     "name": "stdout",
     "output_type": "stream",
     "text": [
      "Before:\t(3938, 37)\n",
      "After:\t(1241, 2)\n",
      "Full shape: (151204, 2)\n",
      "2020_06_11/12/10.json.bz2\n"
     ]
    },
    {
     "name": "stderr",
     "output_type": "stream",
     "text": [
      "/tmp/ipykernel_16517/3536830003.py:12: FutureWarning: The behavior of 'to_datetime' with 'unit' when parsing strings is deprecated. In a future version, strings will be parsed as datetime strings, matching the behavior without a 'unit'. To retain the old behavior, explicitly cast ints or floats to numeric type before calling to_datetime.\n",
      "  df = pd.read_json(os.path.join(path,file_name), lines=True, convert_dates=[\"created_at\",\"timestamp_ms\"])\n",
      "/tmp/ipykernel_16517/3536830003.py:12: FutureWarning: The behavior of 'to_datetime' with 'unit' when parsing strings is deprecated. In a future version, strings will be parsed as datetime strings, matching the behavior without a 'unit'. To retain the old behavior, explicitly cast ints or floats to numeric type before calling to_datetime.\n",
      "  df = pd.read_json(os.path.join(path,file_name), lines=True, convert_dates=[\"created_at\",\"timestamp_ms\"])\n"
     ]
    },
    {
     "name": "stdout",
     "output_type": "stream",
     "text": [
      "Before:\t(8682, 37)\n",
      "After:\t(1292, 2)\n",
      "Full shape: (152496, 2)\n",
      "2020_06_11/12/39.json.bz2\n"
     ]
    },
    {
     "name": "stderr",
     "output_type": "stream",
     "text": [
      "/tmp/ipykernel_16517/3536830003.py:12: FutureWarning: The behavior of 'to_datetime' with 'unit' when parsing strings is deprecated. In a future version, strings will be parsed as datetime strings, matching the behavior without a 'unit'. To retain the old behavior, explicitly cast ints or floats to numeric type before calling to_datetime.\n",
      "  df = pd.read_json(os.path.join(path,file_name), lines=True, convert_dates=[\"created_at\",\"timestamp_ms\"])\n",
      "/tmp/ipykernel_16517/3536830003.py:12: FutureWarning: The behavior of 'to_datetime' with 'unit' when parsing strings is deprecated. In a future version, strings will be parsed as datetime strings, matching the behavior without a 'unit'. To retain the old behavior, explicitly cast ints or floats to numeric type before calling to_datetime.\n",
      "  df = pd.read_json(os.path.join(path,file_name), lines=True, convert_dates=[\"created_at\",\"timestamp_ms\"])\n"
     ]
    },
    {
     "name": "stdout",
     "output_type": "stream",
     "text": [
      "Before:\t(3973, 38)\n",
      "After:\t(1236, 2)\n",
      "Full shape: (153732, 2)\n",
      "2020_06_11/12/38.json.bz2\n"
     ]
    },
    {
     "name": "stderr",
     "output_type": "stream",
     "text": [
      "/tmp/ipykernel_16517/3536830003.py:12: FutureWarning: The behavior of 'to_datetime' with 'unit' when parsing strings is deprecated. In a future version, strings will be parsed as datetime strings, matching the behavior without a 'unit'. To retain the old behavior, explicitly cast ints or floats to numeric type before calling to_datetime.\n",
      "  df = pd.read_json(os.path.join(path,file_name), lines=True, convert_dates=[\"created_at\",\"timestamp_ms\"])\n",
      "/tmp/ipykernel_16517/3536830003.py:12: FutureWarning: The behavior of 'to_datetime' with 'unit' when parsing strings is deprecated. In a future version, strings will be parsed as datetime strings, matching the behavior without a 'unit'. To retain the old behavior, explicitly cast ints or floats to numeric type before calling to_datetime.\n",
      "  df = pd.read_json(os.path.join(path,file_name), lines=True, convert_dates=[\"created_at\",\"timestamp_ms\"])\n"
     ]
    },
    {
     "name": "stdout",
     "output_type": "stream",
     "text": [
      "Before:\t(4061, 37)\n",
      "After:\t(1291, 2)\n",
      "Full shape: (155023, 2)\n",
      "2020_06_11/12/07.json.bz2\n"
     ]
    },
    {
     "name": "stderr",
     "output_type": "stream",
     "text": [
      "/tmp/ipykernel_16517/3536830003.py:12: FutureWarning: The behavior of 'to_datetime' with 'unit' when parsing strings is deprecated. In a future version, strings will be parsed as datetime strings, matching the behavior without a 'unit'. To retain the old behavior, explicitly cast ints or floats to numeric type before calling to_datetime.\n",
      "  df = pd.read_json(os.path.join(path,file_name), lines=True, convert_dates=[\"created_at\",\"timestamp_ms\"])\n",
      "/tmp/ipykernel_16517/3536830003.py:12: FutureWarning: The behavior of 'to_datetime' with 'unit' when parsing strings is deprecated. In a future version, strings will be parsed as datetime strings, matching the behavior without a 'unit'. To retain the old behavior, explicitly cast ints or floats to numeric type before calling to_datetime.\n",
      "  df = pd.read_json(os.path.join(path,file_name), lines=True, convert_dates=[\"created_at\",\"timestamp_ms\"])\n"
     ]
    },
    {
     "name": "stdout",
     "output_type": "stream",
     "text": [
      "Before:\t(8757, 37)\n",
      "After:\t(1303, 2)\n",
      "Full shape: (156326, 2)\n",
      "2020_06_11/18/08.json.bz2\n"
     ]
    },
    {
     "name": "stderr",
     "output_type": "stream",
     "text": [
      "/tmp/ipykernel_16517/3536830003.py:12: FutureWarning: The behavior of 'to_datetime' with 'unit' when parsing strings is deprecated. In a future version, strings will be parsed as datetime strings, matching the behavior without a 'unit'. To retain the old behavior, explicitly cast ints or floats to numeric type before calling to_datetime.\n",
      "  df = pd.read_json(os.path.join(path,file_name), lines=True, convert_dates=[\"created_at\",\"timestamp_ms\"])\n",
      "/tmp/ipykernel_16517/3536830003.py:12: FutureWarning: The behavior of 'to_datetime' with 'unit' when parsing strings is deprecated. In a future version, strings will be parsed as datetime strings, matching the behavior without a 'unit'. To retain the old behavior, explicitly cast ints or floats to numeric type before calling to_datetime.\n",
      "  df = pd.read_json(os.path.join(path,file_name), lines=True, convert_dates=[\"created_at\",\"timestamp_ms\"])\n"
     ]
    },
    {
     "name": "stdout",
     "output_type": "stream",
     "text": [
      "Before:\t(3495, 37)\n",
      "After:\t(1079, 2)\n",
      "Full shape: (157405, 2)\n",
      "2020_06_11/18/28.json.bz2\n"
     ]
    },
    {
     "name": "stderr",
     "output_type": "stream",
     "text": [
      "/tmp/ipykernel_16517/3536830003.py:12: FutureWarning: The behavior of 'to_datetime' with 'unit' when parsing strings is deprecated. In a future version, strings will be parsed as datetime strings, matching the behavior without a 'unit'. To retain the old behavior, explicitly cast ints or floats to numeric type before calling to_datetime.\n",
      "  df = pd.read_json(os.path.join(path,file_name), lines=True, convert_dates=[\"created_at\",\"timestamp_ms\"])\n",
      "/tmp/ipykernel_16517/3536830003.py:12: FutureWarning: The behavior of 'to_datetime' with 'unit' when parsing strings is deprecated. In a future version, strings will be parsed as datetime strings, matching the behavior without a 'unit'. To retain the old behavior, explicitly cast ints or floats to numeric type before calling to_datetime.\n",
      "  df = pd.read_json(os.path.join(path,file_name), lines=True, convert_dates=[\"created_at\",\"timestamp_ms\"])\n"
     ]
    },
    {
     "name": "stdout",
     "output_type": "stream",
     "text": [
      "Before:\t(3367, 37)\n",
      "After:\t(1011, 2)\n",
      "Full shape: (158416, 2)\n",
      "2020_06_11/18/26.json.bz2\n"
     ]
    },
    {
     "name": "stderr",
     "output_type": "stream",
     "text": [
      "/tmp/ipykernel_16517/3536830003.py:12: FutureWarning: The behavior of 'to_datetime' with 'unit' when parsing strings is deprecated. In a future version, strings will be parsed as datetime strings, matching the behavior without a 'unit'. To retain the old behavior, explicitly cast ints or floats to numeric type before calling to_datetime.\n",
      "  df = pd.read_json(os.path.join(path,file_name), lines=True, convert_dates=[\"created_at\",\"timestamp_ms\"])\n",
      "/tmp/ipykernel_16517/3536830003.py:12: FutureWarning: The behavior of 'to_datetime' with 'unit' when parsing strings is deprecated. In a future version, strings will be parsed as datetime strings, matching the behavior without a 'unit'. To retain the old behavior, explicitly cast ints or floats to numeric type before calling to_datetime.\n",
      "  df = pd.read_json(os.path.join(path,file_name), lines=True, convert_dates=[\"created_at\",\"timestamp_ms\"])\n"
     ]
    },
    {
     "name": "stdout",
     "output_type": "stream",
     "text": [
      "Before:\t(3501, 37)\n",
      "After:\t(1023, 2)\n",
      "Full shape: (159439, 2)\n",
      "2020_06_11/18/30.json.bz2\n"
     ]
    },
    {
     "name": "stderr",
     "output_type": "stream",
     "text": [
      "/tmp/ipykernel_16517/3536830003.py:12: FutureWarning: The behavior of 'to_datetime' with 'unit' when parsing strings is deprecated. In a future version, strings will be parsed as datetime strings, matching the behavior without a 'unit'. To retain the old behavior, explicitly cast ints or floats to numeric type before calling to_datetime.\n",
      "  df = pd.read_json(os.path.join(path,file_name), lines=True, convert_dates=[\"created_at\",\"timestamp_ms\"])\n",
      "/tmp/ipykernel_16517/3536830003.py:12: FutureWarning: The behavior of 'to_datetime' with 'unit' when parsing strings is deprecated. In a future version, strings will be parsed as datetime strings, matching the behavior without a 'unit'. To retain the old behavior, explicitly cast ints or floats to numeric type before calling to_datetime.\n",
      "  df = pd.read_json(os.path.join(path,file_name), lines=True, convert_dates=[\"created_at\",\"timestamp_ms\"])\n"
     ]
    },
    {
     "name": "stdout",
     "output_type": "stream",
     "text": [
      "Before:\t(3452, 37)\n",
      "After:\t(1044, 2)\n",
      "Full shape: (160483, 2)\n",
      "2020_06_11/18/04.json.bz2\n"
     ]
    },
    {
     "name": "stderr",
     "output_type": "stream",
     "text": [
      "/tmp/ipykernel_16517/3536830003.py:12: FutureWarning: The behavior of 'to_datetime' with 'unit' when parsing strings is deprecated. In a future version, strings will be parsed as datetime strings, matching the behavior without a 'unit'. To retain the old behavior, explicitly cast ints or floats to numeric type before calling to_datetime.\n",
      "  df = pd.read_json(os.path.join(path,file_name), lines=True, convert_dates=[\"created_at\",\"timestamp_ms\"])\n",
      "/tmp/ipykernel_16517/3536830003.py:12: FutureWarning: The behavior of 'to_datetime' with 'unit' when parsing strings is deprecated. In a future version, strings will be parsed as datetime strings, matching the behavior without a 'unit'. To retain the old behavior, explicitly cast ints or floats to numeric type before calling to_datetime.\n",
      "  df = pd.read_json(os.path.join(path,file_name), lines=True, convert_dates=[\"created_at\",\"timestamp_ms\"])\n"
     ]
    },
    {
     "name": "stdout",
     "output_type": "stream",
     "text": [
      "Before:\t(3493, 37)\n",
      "After:\t(1026, 2)\n",
      "Full shape: (161509, 2)\n",
      "2020_06_11/18/06.json.bz2\n"
     ]
    },
    {
     "name": "stderr",
     "output_type": "stream",
     "text": [
      "/tmp/ipykernel_16517/3536830003.py:12: FutureWarning: The behavior of 'to_datetime' with 'unit' when parsing strings is deprecated. In a future version, strings will be parsed as datetime strings, matching the behavior without a 'unit'. To retain the old behavior, explicitly cast ints or floats to numeric type before calling to_datetime.\n",
      "  df = pd.read_json(os.path.join(path,file_name), lines=True, convert_dates=[\"created_at\",\"timestamp_ms\"])\n",
      "/tmp/ipykernel_16517/3536830003.py:12: FutureWarning: The behavior of 'to_datetime' with 'unit' when parsing strings is deprecated. In a future version, strings will be parsed as datetime strings, matching the behavior without a 'unit'. To retain the old behavior, explicitly cast ints or floats to numeric type before calling to_datetime.\n",
      "  df = pd.read_json(os.path.join(path,file_name), lines=True, convert_dates=[\"created_at\",\"timestamp_ms\"])\n"
     ]
    },
    {
     "name": "stdout",
     "output_type": "stream",
     "text": [
      "Before:\t(3884, 37)\n",
      "After:\t(1046, 2)\n",
      "Full shape: (162555, 2)\n",
      "2020_06_11/18/51.json.bz2\n"
     ]
    },
    {
     "name": "stderr",
     "output_type": "stream",
     "text": [
      "/tmp/ipykernel_16517/3536830003.py:12: FutureWarning: The behavior of 'to_datetime' with 'unit' when parsing strings is deprecated. In a future version, strings will be parsed as datetime strings, matching the behavior without a 'unit'. To retain the old behavior, explicitly cast ints or floats to numeric type before calling to_datetime.\n",
      "  df = pd.read_json(os.path.join(path,file_name), lines=True, convert_dates=[\"created_at\",\"timestamp_ms\"])\n",
      "/tmp/ipykernel_16517/3536830003.py:12: FutureWarning: The behavior of 'to_datetime' with 'unit' when parsing strings is deprecated. In a future version, strings will be parsed as datetime strings, matching the behavior without a 'unit'. To retain the old behavior, explicitly cast ints or floats to numeric type before calling to_datetime.\n",
      "  df = pd.read_json(os.path.join(path,file_name), lines=True, convert_dates=[\"created_at\",\"timestamp_ms\"])\n"
     ]
    },
    {
     "name": "stdout",
     "output_type": "stream",
     "text": [
      "Before:\t(3327, 37)\n",
      "After:\t(1022, 2)\n",
      "Full shape: (163577, 2)\n",
      "2020_06_11/18/54.json.bz2\n"
     ]
    },
    {
     "name": "stderr",
     "output_type": "stream",
     "text": [
      "/tmp/ipykernel_16517/3536830003.py:12: FutureWarning: The behavior of 'to_datetime' with 'unit' when parsing strings is deprecated. In a future version, strings will be parsed as datetime strings, matching the behavior without a 'unit'. To retain the old behavior, explicitly cast ints or floats to numeric type before calling to_datetime.\n",
      "  df = pd.read_json(os.path.join(path,file_name), lines=True, convert_dates=[\"created_at\",\"timestamp_ms\"])\n",
      "/tmp/ipykernel_16517/3536830003.py:12: FutureWarning: The behavior of 'to_datetime' with 'unit' when parsing strings is deprecated. In a future version, strings will be parsed as datetime strings, matching the behavior without a 'unit'. To retain the old behavior, explicitly cast ints or floats to numeric type before calling to_datetime.\n",
      "  df = pd.read_json(os.path.join(path,file_name), lines=True, convert_dates=[\"created_at\",\"timestamp_ms\"])\n"
     ]
    },
    {
     "name": "stdout",
     "output_type": "stream",
     "text": [
      "Before:\t(3459, 37)\n",
      "After:\t(1026, 2)\n",
      "Full shape: (164603, 2)\n",
      "2020_06_11/18/55.json.bz2\n"
     ]
    },
    {
     "name": "stderr",
     "output_type": "stream",
     "text": [
      "/tmp/ipykernel_16517/3536830003.py:12: FutureWarning: The behavior of 'to_datetime' with 'unit' when parsing strings is deprecated. In a future version, strings will be parsed as datetime strings, matching the behavior without a 'unit'. To retain the old behavior, explicitly cast ints or floats to numeric type before calling to_datetime.\n",
      "  df = pd.read_json(os.path.join(path,file_name), lines=True, convert_dates=[\"created_at\",\"timestamp_ms\"])\n",
      "/tmp/ipykernel_16517/3536830003.py:12: FutureWarning: The behavior of 'to_datetime' with 'unit' when parsing strings is deprecated. In a future version, strings will be parsed as datetime strings, matching the behavior without a 'unit'. To retain the old behavior, explicitly cast ints or floats to numeric type before calling to_datetime.\n",
      "  df = pd.read_json(os.path.join(path,file_name), lines=True, convert_dates=[\"created_at\",\"timestamp_ms\"])\n"
     ]
    },
    {
     "name": "stdout",
     "output_type": "stream",
     "text": [
      "Before:\t(3240, 37)\n",
      "After:\t(977, 2)\n",
      "Full shape: (165580, 2)\n",
      "2020_06_11/18/58.json.bz2\n"
     ]
    },
    {
     "name": "stderr",
     "output_type": "stream",
     "text": [
      "/tmp/ipykernel_16517/3536830003.py:12: FutureWarning: The behavior of 'to_datetime' with 'unit' when parsing strings is deprecated. In a future version, strings will be parsed as datetime strings, matching the behavior without a 'unit'. To retain the old behavior, explicitly cast ints or floats to numeric type before calling to_datetime.\n",
      "  df = pd.read_json(os.path.join(path,file_name), lines=True, convert_dates=[\"created_at\",\"timestamp_ms\"])\n",
      "/tmp/ipykernel_16517/3536830003.py:12: FutureWarning: The behavior of 'to_datetime' with 'unit' when parsing strings is deprecated. In a future version, strings will be parsed as datetime strings, matching the behavior without a 'unit'. To retain the old behavior, explicitly cast ints or floats to numeric type before calling to_datetime.\n",
      "  df = pd.read_json(os.path.join(path,file_name), lines=True, convert_dates=[\"created_at\",\"timestamp_ms\"])\n"
     ]
    },
    {
     "name": "stdout",
     "output_type": "stream",
     "text": [
      "Before:\t(3369, 38)\n",
      "After:\t(1067, 2)\n",
      "Full shape: (166647, 2)\n",
      "2020_06_11/18/33.json.bz2\n"
     ]
    },
    {
     "name": "stderr",
     "output_type": "stream",
     "text": [
      "/tmp/ipykernel_16517/3536830003.py:12: FutureWarning: The behavior of 'to_datetime' with 'unit' when parsing strings is deprecated. In a future version, strings will be parsed as datetime strings, matching the behavior without a 'unit'. To retain the old behavior, explicitly cast ints or floats to numeric type before calling to_datetime.\n",
      "  df = pd.read_json(os.path.join(path,file_name), lines=True, convert_dates=[\"created_at\",\"timestamp_ms\"])\n",
      "/tmp/ipykernel_16517/3536830003.py:12: FutureWarning: The behavior of 'to_datetime' with 'unit' when parsing strings is deprecated. In a future version, strings will be parsed as datetime strings, matching the behavior without a 'unit'. To retain the old behavior, explicitly cast ints or floats to numeric type before calling to_datetime.\n",
      "  df = pd.read_json(os.path.join(path,file_name), lines=True, convert_dates=[\"created_at\",\"timestamp_ms\"])\n"
     ]
    },
    {
     "name": "stdout",
     "output_type": "stream",
     "text": [
      "Before:\t(3500, 37)\n",
      "After:\t(1055, 2)\n",
      "Full shape: (167702, 2)\n",
      "2020_06_11/18/09.json.bz2\n"
     ]
    },
    {
     "name": "stderr",
     "output_type": "stream",
     "text": [
      "/tmp/ipykernel_16517/3536830003.py:12: FutureWarning: The behavior of 'to_datetime' with 'unit' when parsing strings is deprecated. In a future version, strings will be parsed as datetime strings, matching the behavior without a 'unit'. To retain the old behavior, explicitly cast ints or floats to numeric type before calling to_datetime.\n",
      "  df = pd.read_json(os.path.join(path,file_name), lines=True, convert_dates=[\"created_at\",\"timestamp_ms\"])\n",
      "/tmp/ipykernel_16517/3536830003.py:12: FutureWarning: The behavior of 'to_datetime' with 'unit' when parsing strings is deprecated. In a future version, strings will be parsed as datetime strings, matching the behavior without a 'unit'. To retain the old behavior, explicitly cast ints or floats to numeric type before calling to_datetime.\n",
      "  df = pd.read_json(os.path.join(path,file_name), lines=True, convert_dates=[\"created_at\",\"timestamp_ms\"])\n"
     ]
    },
    {
     "name": "stdout",
     "output_type": "stream",
     "text": [
      "Before:\t(3371, 37)\n",
      "After:\t(939, 2)\n",
      "Full shape: (168641, 2)\n",
      "2020_06_11/18/11.json.bz2\n"
     ]
    },
    {
     "name": "stderr",
     "output_type": "stream",
     "text": [
      "/tmp/ipykernel_16517/3536830003.py:12: FutureWarning: The behavior of 'to_datetime' with 'unit' when parsing strings is deprecated. In a future version, strings will be parsed as datetime strings, matching the behavior without a 'unit'. To retain the old behavior, explicitly cast ints or floats to numeric type before calling to_datetime.\n",
      "  df = pd.read_json(os.path.join(path,file_name), lines=True, convert_dates=[\"created_at\",\"timestamp_ms\"])\n",
      "/tmp/ipykernel_16517/3536830003.py:12: FutureWarning: The behavior of 'to_datetime' with 'unit' when parsing strings is deprecated. In a future version, strings will be parsed as datetime strings, matching the behavior without a 'unit'. To retain the old behavior, explicitly cast ints or floats to numeric type before calling to_datetime.\n",
      "  df = pd.read_json(os.path.join(path,file_name), lines=True, convert_dates=[\"created_at\",\"timestamp_ms\"])\n"
     ]
    },
    {
     "name": "stdout",
     "output_type": "stream",
     "text": [
      "Before:\t(3408, 38)\n",
      "After:\t(1022, 2)\n",
      "Full shape: (169663, 2)\n",
      "2020_06_11/18/21.json.bz2\n"
     ]
    },
    {
     "name": "stderr",
     "output_type": "stream",
     "text": [
      "/tmp/ipykernel_16517/3536830003.py:12: FutureWarning: The behavior of 'to_datetime' with 'unit' when parsing strings is deprecated. In a future version, strings will be parsed as datetime strings, matching the behavior without a 'unit'. To retain the old behavior, explicitly cast ints or floats to numeric type before calling to_datetime.\n",
      "  df = pd.read_json(os.path.join(path,file_name), lines=True, convert_dates=[\"created_at\",\"timestamp_ms\"])\n",
      "/tmp/ipykernel_16517/3536830003.py:12: FutureWarning: The behavior of 'to_datetime' with 'unit' when parsing strings is deprecated. In a future version, strings will be parsed as datetime strings, matching the behavior without a 'unit'. To retain the old behavior, explicitly cast ints or floats to numeric type before calling to_datetime.\n",
      "  df = pd.read_json(os.path.join(path,file_name), lines=True, convert_dates=[\"created_at\",\"timestamp_ms\"])\n"
     ]
    },
    {
     "name": "stdout",
     "output_type": "stream",
     "text": [
      "Before:\t(3355, 38)\n",
      "After:\t(1077, 2)\n",
      "Full shape: (170740, 2)\n",
      "2020_06_11/18/03.json.bz2\n"
     ]
    },
    {
     "name": "stderr",
     "output_type": "stream",
     "text": [
      "/tmp/ipykernel_16517/3536830003.py:12: FutureWarning: The behavior of 'to_datetime' with 'unit' when parsing strings is deprecated. In a future version, strings will be parsed as datetime strings, matching the behavior without a 'unit'. To retain the old behavior, explicitly cast ints or floats to numeric type before calling to_datetime.\n",
      "  df = pd.read_json(os.path.join(path,file_name), lines=True, convert_dates=[\"created_at\",\"timestamp_ms\"])\n",
      "/tmp/ipykernel_16517/3536830003.py:12: FutureWarning: The behavior of 'to_datetime' with 'unit' when parsing strings is deprecated. In a future version, strings will be parsed as datetime strings, matching the behavior without a 'unit'. To retain the old behavior, explicitly cast ints or floats to numeric type before calling to_datetime.\n",
      "  df = pd.read_json(os.path.join(path,file_name), lines=True, convert_dates=[\"created_at\",\"timestamp_ms\"])\n"
     ]
    },
    {
     "name": "stdout",
     "output_type": "stream",
     "text": [
      "Before:\t(3471, 37)\n",
      "After:\t(1066, 2)\n",
      "Full shape: (171806, 2)\n",
      "2020_06_11/18/48.json.bz2\n"
     ]
    },
    {
     "name": "stderr",
     "output_type": "stream",
     "text": [
      "/tmp/ipykernel_16517/3536830003.py:12: FutureWarning: The behavior of 'to_datetime' with 'unit' when parsing strings is deprecated. In a future version, strings will be parsed as datetime strings, matching the behavior without a 'unit'. To retain the old behavior, explicitly cast ints or floats to numeric type before calling to_datetime.\n",
      "  df = pd.read_json(os.path.join(path,file_name), lines=True, convert_dates=[\"created_at\",\"timestamp_ms\"])\n",
      "/tmp/ipykernel_16517/3536830003.py:12: FutureWarning: The behavior of 'to_datetime' with 'unit' when parsing strings is deprecated. In a future version, strings will be parsed as datetime strings, matching the behavior without a 'unit'. To retain the old behavior, explicitly cast ints or floats to numeric type before calling to_datetime.\n",
      "  df = pd.read_json(os.path.join(path,file_name), lines=True, convert_dates=[\"created_at\",\"timestamp_ms\"])\n"
     ]
    },
    {
     "name": "stdout",
     "output_type": "stream",
     "text": [
      "Before:\t(3355, 37)\n",
      "After:\t(983, 2)\n",
      "Full shape: (172789, 2)\n",
      "2020_06_11/18/56.json.bz2\n"
     ]
    },
    {
     "name": "stderr",
     "output_type": "stream",
     "text": [
      "/tmp/ipykernel_16517/3536830003.py:12: FutureWarning: The behavior of 'to_datetime' with 'unit' when parsing strings is deprecated. In a future version, strings will be parsed as datetime strings, matching the behavior without a 'unit'. To retain the old behavior, explicitly cast ints or floats to numeric type before calling to_datetime.\n",
      "  df = pd.read_json(os.path.join(path,file_name), lines=True, convert_dates=[\"created_at\",\"timestamp_ms\"])\n",
      "/tmp/ipykernel_16517/3536830003.py:12: FutureWarning: The behavior of 'to_datetime' with 'unit' when parsing strings is deprecated. In a future version, strings will be parsed as datetime strings, matching the behavior without a 'unit'. To retain the old behavior, explicitly cast ints or floats to numeric type before calling to_datetime.\n",
      "  df = pd.read_json(os.path.join(path,file_name), lines=True, convert_dates=[\"created_at\",\"timestamp_ms\"])\n"
     ]
    },
    {
     "name": "stdout",
     "output_type": "stream",
     "text": [
      "Before:\t(3406, 37)\n",
      "After:\t(1021, 2)\n",
      "Full shape: (173810, 2)\n",
      "2020_06_11/18/05.json.bz2\n"
     ]
    },
    {
     "name": "stderr",
     "output_type": "stream",
     "text": [
      "/tmp/ipykernel_16517/3536830003.py:12: FutureWarning: The behavior of 'to_datetime' with 'unit' when parsing strings is deprecated. In a future version, strings will be parsed as datetime strings, matching the behavior without a 'unit'. To retain the old behavior, explicitly cast ints or floats to numeric type before calling to_datetime.\n",
      "  df = pd.read_json(os.path.join(path,file_name), lines=True, convert_dates=[\"created_at\",\"timestamp_ms\"])\n",
      "/tmp/ipykernel_16517/3536830003.py:12: FutureWarning: The behavior of 'to_datetime' with 'unit' when parsing strings is deprecated. In a future version, strings will be parsed as datetime strings, matching the behavior without a 'unit'. To retain the old behavior, explicitly cast ints or floats to numeric type before calling to_datetime.\n",
      "  df = pd.read_json(os.path.join(path,file_name), lines=True, convert_dates=[\"created_at\",\"timestamp_ms\"])\n"
     ]
    },
    {
     "name": "stdout",
     "output_type": "stream",
     "text": [
      "Before:\t(3509, 37)\n",
      "After:\t(1022, 2)\n",
      "Full shape: (174832, 2)\n",
      "2020_06_11/18/24.json.bz2\n"
     ]
    },
    {
     "name": "stderr",
     "output_type": "stream",
     "text": [
      "/tmp/ipykernel_16517/3536830003.py:12: FutureWarning: The behavior of 'to_datetime' with 'unit' when parsing strings is deprecated. In a future version, strings will be parsed as datetime strings, matching the behavior without a 'unit'. To retain the old behavior, explicitly cast ints or floats to numeric type before calling to_datetime.\n",
      "  df = pd.read_json(os.path.join(path,file_name), lines=True, convert_dates=[\"created_at\",\"timestamp_ms\"])\n",
      "/tmp/ipykernel_16517/3536830003.py:12: FutureWarning: The behavior of 'to_datetime' with 'unit' when parsing strings is deprecated. In a future version, strings will be parsed as datetime strings, matching the behavior without a 'unit'. To retain the old behavior, explicitly cast ints or floats to numeric type before calling to_datetime.\n",
      "  df = pd.read_json(os.path.join(path,file_name), lines=True, convert_dates=[\"created_at\",\"timestamp_ms\"])\n"
     ]
    },
    {
     "name": "stdout",
     "output_type": "stream",
     "text": [
      "Before:\t(3343, 37)\n",
      "After:\t(1040, 2)\n",
      "Full shape: (175872, 2)\n",
      "2020_06_11/18/43.json.bz2\n"
     ]
    },
    {
     "name": "stderr",
     "output_type": "stream",
     "text": [
      "/tmp/ipykernel_16517/3536830003.py:12: FutureWarning: The behavior of 'to_datetime' with 'unit' when parsing strings is deprecated. In a future version, strings will be parsed as datetime strings, matching the behavior without a 'unit'. To retain the old behavior, explicitly cast ints or floats to numeric type before calling to_datetime.\n",
      "  df = pd.read_json(os.path.join(path,file_name), lines=True, convert_dates=[\"created_at\",\"timestamp_ms\"])\n",
      "/tmp/ipykernel_16517/3536830003.py:12: FutureWarning: The behavior of 'to_datetime' with 'unit' when parsing strings is deprecated. In a future version, strings will be parsed as datetime strings, matching the behavior without a 'unit'. To retain the old behavior, explicitly cast ints or floats to numeric type before calling to_datetime.\n",
      "  df = pd.read_json(os.path.join(path,file_name), lines=True, convert_dates=[\"created_at\",\"timestamp_ms\"])\n"
     ]
    },
    {
     "name": "stdout",
     "output_type": "stream",
     "text": [
      "Before:\t(3469, 38)\n",
      "After:\t(1002, 2)\n",
      "Full shape: (176874, 2)\n",
      "2020_06_11/18/47.json.bz2\n"
     ]
    },
    {
     "name": "stderr",
     "output_type": "stream",
     "text": [
      "/tmp/ipykernel_16517/3536830003.py:12: FutureWarning: The behavior of 'to_datetime' with 'unit' when parsing strings is deprecated. In a future version, strings will be parsed as datetime strings, matching the behavior without a 'unit'. To retain the old behavior, explicitly cast ints or floats to numeric type before calling to_datetime.\n",
      "  df = pd.read_json(os.path.join(path,file_name), lines=True, convert_dates=[\"created_at\",\"timestamp_ms\"])\n",
      "/tmp/ipykernel_16517/3536830003.py:12: FutureWarning: The behavior of 'to_datetime' with 'unit' when parsing strings is deprecated. In a future version, strings will be parsed as datetime strings, matching the behavior without a 'unit'. To retain the old behavior, explicitly cast ints or floats to numeric type before calling to_datetime.\n",
      "  df = pd.read_json(os.path.join(path,file_name), lines=True, convert_dates=[\"created_at\",\"timestamp_ms\"])\n"
     ]
    },
    {
     "name": "stdout",
     "output_type": "stream",
     "text": [
      "Before:\t(3284, 37)\n",
      "After:\t(999, 2)\n",
      "Full shape: (177873, 2)\n",
      "2020_06_11/18/27.json.bz2\n"
     ]
    },
    {
     "name": "stderr",
     "output_type": "stream",
     "text": [
      "/tmp/ipykernel_16517/3536830003.py:12: FutureWarning: The behavior of 'to_datetime' with 'unit' when parsing strings is deprecated. In a future version, strings will be parsed as datetime strings, matching the behavior without a 'unit'. To retain the old behavior, explicitly cast ints or floats to numeric type before calling to_datetime.\n",
      "  df = pd.read_json(os.path.join(path,file_name), lines=True, convert_dates=[\"created_at\",\"timestamp_ms\"])\n",
      "/tmp/ipykernel_16517/3536830003.py:12: FutureWarning: The behavior of 'to_datetime' with 'unit' when parsing strings is deprecated. In a future version, strings will be parsed as datetime strings, matching the behavior without a 'unit'. To retain the old behavior, explicitly cast ints or floats to numeric type before calling to_datetime.\n",
      "  df = pd.read_json(os.path.join(path,file_name), lines=True, convert_dates=[\"created_at\",\"timestamp_ms\"])\n"
     ]
    },
    {
     "name": "stdout",
     "output_type": "stream",
     "text": [
      "Before:\t(3338, 37)\n",
      "After:\t(1032, 2)\n",
      "Full shape: (178905, 2)\n",
      "2020_06_11/18/42.json.bz2\n"
     ]
    },
    {
     "name": "stderr",
     "output_type": "stream",
     "text": [
      "/tmp/ipykernel_16517/3536830003.py:12: FutureWarning: The behavior of 'to_datetime' with 'unit' when parsing strings is deprecated. In a future version, strings will be parsed as datetime strings, matching the behavior without a 'unit'. To retain the old behavior, explicitly cast ints or floats to numeric type before calling to_datetime.\n",
      "  df = pd.read_json(os.path.join(path,file_name), lines=True, convert_dates=[\"created_at\",\"timestamp_ms\"])\n",
      "/tmp/ipykernel_16517/3536830003.py:12: FutureWarning: The behavior of 'to_datetime' with 'unit' when parsing strings is deprecated. In a future version, strings will be parsed as datetime strings, matching the behavior without a 'unit'. To retain the old behavior, explicitly cast ints or floats to numeric type before calling to_datetime.\n",
      "  df = pd.read_json(os.path.join(path,file_name), lines=True, convert_dates=[\"created_at\",\"timestamp_ms\"])\n"
     ]
    },
    {
     "name": "stdout",
     "output_type": "stream",
     "text": [
      "Before:\t(3491, 37)\n",
      "After:\t(1052, 2)\n",
      "Full shape: (179957, 2)\n",
      "2020_06_11/18/19.json.bz2\n"
     ]
    },
    {
     "name": "stderr",
     "output_type": "stream",
     "text": [
      "/tmp/ipykernel_16517/3536830003.py:12: FutureWarning: The behavior of 'to_datetime' with 'unit' when parsing strings is deprecated. In a future version, strings will be parsed as datetime strings, matching the behavior without a 'unit'. To retain the old behavior, explicitly cast ints or floats to numeric type before calling to_datetime.\n",
      "  df = pd.read_json(os.path.join(path,file_name), lines=True, convert_dates=[\"created_at\",\"timestamp_ms\"])\n",
      "/tmp/ipykernel_16517/3536830003.py:12: FutureWarning: The behavior of 'to_datetime' with 'unit' when parsing strings is deprecated. In a future version, strings will be parsed as datetime strings, matching the behavior without a 'unit'. To retain the old behavior, explicitly cast ints or floats to numeric type before calling to_datetime.\n",
      "  df = pd.read_json(os.path.join(path,file_name), lines=True, convert_dates=[\"created_at\",\"timestamp_ms\"])\n"
     ]
    },
    {
     "name": "stdout",
     "output_type": "stream",
     "text": [
      "Before:\t(3455, 37)\n",
      "After:\t(1037, 2)\n",
      "Full shape: (180994, 2)\n",
      "2020_06_11/18/25.json.bz2\n"
     ]
    },
    {
     "name": "stderr",
     "output_type": "stream",
     "text": [
      "/tmp/ipykernel_16517/3536830003.py:12: FutureWarning: The behavior of 'to_datetime' with 'unit' when parsing strings is deprecated. In a future version, strings will be parsed as datetime strings, matching the behavior without a 'unit'. To retain the old behavior, explicitly cast ints or floats to numeric type before calling to_datetime.\n",
      "  df = pd.read_json(os.path.join(path,file_name), lines=True, convert_dates=[\"created_at\",\"timestamp_ms\"])\n",
      "/tmp/ipykernel_16517/3536830003.py:12: FutureWarning: The behavior of 'to_datetime' with 'unit' when parsing strings is deprecated. In a future version, strings will be parsed as datetime strings, matching the behavior without a 'unit'. To retain the old behavior, explicitly cast ints or floats to numeric type before calling to_datetime.\n",
      "  df = pd.read_json(os.path.join(path,file_name), lines=True, convert_dates=[\"created_at\",\"timestamp_ms\"])\n"
     ]
    },
    {
     "name": "stdout",
     "output_type": "stream",
     "text": [
      "Before:\t(3352, 37)\n",
      "After:\t(1016, 2)\n",
      "Full shape: (182010, 2)\n",
      "2020_06_11/18/01.json.bz2\n"
     ]
    },
    {
     "name": "stderr",
     "output_type": "stream",
     "text": [
      "/tmp/ipykernel_16517/3536830003.py:12: FutureWarning: The behavior of 'to_datetime' with 'unit' when parsing strings is deprecated. In a future version, strings will be parsed as datetime strings, matching the behavior without a 'unit'. To retain the old behavior, explicitly cast ints or floats to numeric type before calling to_datetime.\n",
      "  df = pd.read_json(os.path.join(path,file_name), lines=True, convert_dates=[\"created_at\",\"timestamp_ms\"])\n",
      "/tmp/ipykernel_16517/3536830003.py:12: FutureWarning: The behavior of 'to_datetime' with 'unit' when parsing strings is deprecated. In a future version, strings will be parsed as datetime strings, matching the behavior without a 'unit'. To retain the old behavior, explicitly cast ints or floats to numeric type before calling to_datetime.\n",
      "  df = pd.read_json(os.path.join(path,file_name), lines=True, convert_dates=[\"created_at\",\"timestamp_ms\"])\n"
     ]
    },
    {
     "name": "stdout",
     "output_type": "stream",
     "text": [
      "Before:\t(3445, 37)\n",
      "After:\t(1000, 2)\n",
      "Full shape: (183010, 2)\n",
      "2020_06_11/18/02.json.bz2\n"
     ]
    },
    {
     "name": "stderr",
     "output_type": "stream",
     "text": [
      "/tmp/ipykernel_16517/3536830003.py:12: FutureWarning: The behavior of 'to_datetime' with 'unit' when parsing strings is deprecated. In a future version, strings will be parsed as datetime strings, matching the behavior without a 'unit'. To retain the old behavior, explicitly cast ints or floats to numeric type before calling to_datetime.\n",
      "  df = pd.read_json(os.path.join(path,file_name), lines=True, convert_dates=[\"created_at\",\"timestamp_ms\"])\n",
      "/tmp/ipykernel_16517/3536830003.py:12: FutureWarning: The behavior of 'to_datetime' with 'unit' when parsing strings is deprecated. In a future version, strings will be parsed as datetime strings, matching the behavior without a 'unit'. To retain the old behavior, explicitly cast ints or floats to numeric type before calling to_datetime.\n",
      "  df = pd.read_json(os.path.join(path,file_name), lines=True, convert_dates=[\"created_at\",\"timestamp_ms\"])\n"
     ]
    },
    {
     "name": "stdout",
     "output_type": "stream",
     "text": [
      "Before:\t(3629, 37)\n",
      "After:\t(1065, 2)\n",
      "Full shape: (184075, 2)\n",
      "2020_06_11/18/00.json.bz2\n"
     ]
    },
    {
     "name": "stderr",
     "output_type": "stream",
     "text": [
      "/tmp/ipykernel_16517/3536830003.py:12: FutureWarning: The behavior of 'to_datetime' with 'unit' when parsing strings is deprecated. In a future version, strings will be parsed as datetime strings, matching the behavior without a 'unit'. To retain the old behavior, explicitly cast ints or floats to numeric type before calling to_datetime.\n",
      "  df = pd.read_json(os.path.join(path,file_name), lines=True, convert_dates=[\"created_at\",\"timestamp_ms\"])\n",
      "/tmp/ipykernel_16517/3536830003.py:12: FutureWarning: The behavior of 'to_datetime' with 'unit' when parsing strings is deprecated. In a future version, strings will be parsed as datetime strings, matching the behavior without a 'unit'. To retain the old behavior, explicitly cast ints or floats to numeric type before calling to_datetime.\n",
      "  df = pd.read_json(os.path.join(path,file_name), lines=True, convert_dates=[\"created_at\",\"timestamp_ms\"])\n"
     ]
    },
    {
     "name": "stdout",
     "output_type": "stream",
     "text": [
      "Before:\t(3725, 38)\n",
      "After:\t(1077, 2)\n",
      "Full shape: (185152, 2)\n",
      "2020_06_11/18/31.json.bz2\n"
     ]
    },
    {
     "name": "stderr",
     "output_type": "stream",
     "text": [
      "/tmp/ipykernel_16517/3536830003.py:12: FutureWarning: The behavior of 'to_datetime' with 'unit' when parsing strings is deprecated. In a future version, strings will be parsed as datetime strings, matching the behavior without a 'unit'. To retain the old behavior, explicitly cast ints or floats to numeric type before calling to_datetime.\n",
      "  df = pd.read_json(os.path.join(path,file_name), lines=True, convert_dates=[\"created_at\",\"timestamp_ms\"])\n",
      "/tmp/ipykernel_16517/3536830003.py:12: FutureWarning: The behavior of 'to_datetime' with 'unit' when parsing strings is deprecated. In a future version, strings will be parsed as datetime strings, matching the behavior without a 'unit'. To retain the old behavior, explicitly cast ints or floats to numeric type before calling to_datetime.\n",
      "  df = pd.read_json(os.path.join(path,file_name), lines=True, convert_dates=[\"created_at\",\"timestamp_ms\"])\n"
     ]
    },
    {
     "name": "stdout",
     "output_type": "stream",
     "text": [
      "Before:\t(3660, 37)\n",
      "After:\t(1075, 2)\n",
      "Full shape: (186227, 2)\n",
      "2020_06_11/18/23.json.bz2\n"
     ]
    },
    {
     "name": "stderr",
     "output_type": "stream",
     "text": [
      "/tmp/ipykernel_16517/3536830003.py:12: FutureWarning: The behavior of 'to_datetime' with 'unit' when parsing strings is deprecated. In a future version, strings will be parsed as datetime strings, matching the behavior without a 'unit'. To retain the old behavior, explicitly cast ints or floats to numeric type before calling to_datetime.\n",
      "  df = pd.read_json(os.path.join(path,file_name), lines=True, convert_dates=[\"created_at\",\"timestamp_ms\"])\n",
      "/tmp/ipykernel_16517/3536830003.py:12: FutureWarning: The behavior of 'to_datetime' with 'unit' when parsing strings is deprecated. In a future version, strings will be parsed as datetime strings, matching the behavior without a 'unit'. To retain the old behavior, explicitly cast ints or floats to numeric type before calling to_datetime.\n",
      "  df = pd.read_json(os.path.join(path,file_name), lines=True, convert_dates=[\"created_at\",\"timestamp_ms\"])\n"
     ]
    },
    {
     "name": "stdout",
     "output_type": "stream",
     "text": [
      "Before:\t(3269, 38)\n",
      "After:\t(1003, 2)\n",
      "Full shape: (187230, 2)\n",
      "2020_06_11/18/52.json.bz2\n"
     ]
    },
    {
     "name": "stderr",
     "output_type": "stream",
     "text": [
      "/tmp/ipykernel_16517/3536830003.py:12: FutureWarning: The behavior of 'to_datetime' with 'unit' when parsing strings is deprecated. In a future version, strings will be parsed as datetime strings, matching the behavior without a 'unit'. To retain the old behavior, explicitly cast ints or floats to numeric type before calling to_datetime.\n",
      "  df = pd.read_json(os.path.join(path,file_name), lines=True, convert_dates=[\"created_at\",\"timestamp_ms\"])\n",
      "/tmp/ipykernel_16517/3536830003.py:12: FutureWarning: The behavior of 'to_datetime' with 'unit' when parsing strings is deprecated. In a future version, strings will be parsed as datetime strings, matching the behavior without a 'unit'. To retain the old behavior, explicitly cast ints or floats to numeric type before calling to_datetime.\n",
      "  df = pd.read_json(os.path.join(path,file_name), lines=True, convert_dates=[\"created_at\",\"timestamp_ms\"])\n"
     ]
    },
    {
     "name": "stdout",
     "output_type": "stream",
     "text": [
      "Before:\t(3367, 37)\n",
      "After:\t(1044, 2)\n",
      "Full shape: (188274, 2)\n",
      "2020_06_11/18/13.json.bz2\n"
     ]
    },
    {
     "name": "stderr",
     "output_type": "stream",
     "text": [
      "/tmp/ipykernel_16517/3536830003.py:12: FutureWarning: The behavior of 'to_datetime' with 'unit' when parsing strings is deprecated. In a future version, strings will be parsed as datetime strings, matching the behavior without a 'unit'. To retain the old behavior, explicitly cast ints or floats to numeric type before calling to_datetime.\n",
      "  df = pd.read_json(os.path.join(path,file_name), lines=True, convert_dates=[\"created_at\",\"timestamp_ms\"])\n",
      "/tmp/ipykernel_16517/3536830003.py:12: FutureWarning: The behavior of 'to_datetime' with 'unit' when parsing strings is deprecated. In a future version, strings will be parsed as datetime strings, matching the behavior without a 'unit'. To retain the old behavior, explicitly cast ints or floats to numeric type before calling to_datetime.\n",
      "  df = pd.read_json(os.path.join(path,file_name), lines=True, convert_dates=[\"created_at\",\"timestamp_ms\"])\n"
     ]
    },
    {
     "name": "stdout",
     "output_type": "stream",
     "text": [
      "Before:\t(3287, 38)\n",
      "After:\t(964, 2)\n",
      "Full shape: (189238, 2)\n",
      "2020_06_11/18/14.json.bz2\n"
     ]
    },
    {
     "name": "stderr",
     "output_type": "stream",
     "text": [
      "/tmp/ipykernel_16517/3536830003.py:12: FutureWarning: The behavior of 'to_datetime' with 'unit' when parsing strings is deprecated. In a future version, strings will be parsed as datetime strings, matching the behavior without a 'unit'. To retain the old behavior, explicitly cast ints or floats to numeric type before calling to_datetime.\n",
      "  df = pd.read_json(os.path.join(path,file_name), lines=True, convert_dates=[\"created_at\",\"timestamp_ms\"])\n",
      "/tmp/ipykernel_16517/3536830003.py:12: FutureWarning: The behavior of 'to_datetime' with 'unit' when parsing strings is deprecated. In a future version, strings will be parsed as datetime strings, matching the behavior without a 'unit'. To retain the old behavior, explicitly cast ints or floats to numeric type before calling to_datetime.\n",
      "  df = pd.read_json(os.path.join(path,file_name), lines=True, convert_dates=[\"created_at\",\"timestamp_ms\"])\n"
     ]
    },
    {
     "name": "stdout",
     "output_type": "stream",
     "text": [
      "Before:\t(3419, 37)\n",
      "After:\t(1019, 2)\n",
      "Full shape: (190257, 2)\n",
      "2020_06_11/18/35.json.bz2\n"
     ]
    },
    {
     "name": "stderr",
     "output_type": "stream",
     "text": [
      "/tmp/ipykernel_16517/3536830003.py:12: FutureWarning: The behavior of 'to_datetime' with 'unit' when parsing strings is deprecated. In a future version, strings will be parsed as datetime strings, matching the behavior without a 'unit'. To retain the old behavior, explicitly cast ints or floats to numeric type before calling to_datetime.\n",
      "  df = pd.read_json(os.path.join(path,file_name), lines=True, convert_dates=[\"created_at\",\"timestamp_ms\"])\n",
      "/tmp/ipykernel_16517/3536830003.py:12: FutureWarning: The behavior of 'to_datetime' with 'unit' when parsing strings is deprecated. In a future version, strings will be parsed as datetime strings, matching the behavior without a 'unit'. To retain the old behavior, explicitly cast ints or floats to numeric type before calling to_datetime.\n",
      "  df = pd.read_json(os.path.join(path,file_name), lines=True, convert_dates=[\"created_at\",\"timestamp_ms\"])\n"
     ]
    },
    {
     "name": "stdout",
     "output_type": "stream",
     "text": [
      "Before:\t(3510, 37)\n",
      "After:\t(1026, 2)\n",
      "Full shape: (191283, 2)\n",
      "2020_06_11/18/20.json.bz2\n"
     ]
    },
    {
     "name": "stderr",
     "output_type": "stream",
     "text": [
      "/tmp/ipykernel_16517/3536830003.py:12: FutureWarning: The behavior of 'to_datetime' with 'unit' when parsing strings is deprecated. In a future version, strings will be parsed as datetime strings, matching the behavior without a 'unit'. To retain the old behavior, explicitly cast ints or floats to numeric type before calling to_datetime.\n",
      "  df = pd.read_json(os.path.join(path,file_name), lines=True, convert_dates=[\"created_at\",\"timestamp_ms\"])\n",
      "/tmp/ipykernel_16517/3536830003.py:12: FutureWarning: The behavior of 'to_datetime' with 'unit' when parsing strings is deprecated. In a future version, strings will be parsed as datetime strings, matching the behavior without a 'unit'. To retain the old behavior, explicitly cast ints or floats to numeric type before calling to_datetime.\n",
      "  df = pd.read_json(os.path.join(path,file_name), lines=True, convert_dates=[\"created_at\",\"timestamp_ms\"])\n"
     ]
    },
    {
     "name": "stdout",
     "output_type": "stream",
     "text": [
      "Before:\t(3502, 37)\n",
      "After:\t(1104, 2)\n",
      "Full shape: (192387, 2)\n",
      "2020_06_11/18/40.json.bz2\n"
     ]
    },
    {
     "name": "stderr",
     "output_type": "stream",
     "text": [
      "/tmp/ipykernel_16517/3536830003.py:12: FutureWarning: The behavior of 'to_datetime' with 'unit' when parsing strings is deprecated. In a future version, strings will be parsed as datetime strings, matching the behavior without a 'unit'. To retain the old behavior, explicitly cast ints or floats to numeric type before calling to_datetime.\n",
      "  df = pd.read_json(os.path.join(path,file_name), lines=True, convert_dates=[\"created_at\",\"timestamp_ms\"])\n",
      "/tmp/ipykernel_16517/3536830003.py:12: FutureWarning: The behavior of 'to_datetime' with 'unit' when parsing strings is deprecated. In a future version, strings will be parsed as datetime strings, matching the behavior without a 'unit'. To retain the old behavior, explicitly cast ints or floats to numeric type before calling to_datetime.\n",
      "  df = pd.read_json(os.path.join(path,file_name), lines=True, convert_dates=[\"created_at\",\"timestamp_ms\"])\n"
     ]
    },
    {
     "name": "stdout",
     "output_type": "stream",
     "text": [
      "Before:\t(3653, 37)\n",
      "After:\t(1066, 2)\n",
      "Full shape: (193453, 2)\n",
      "2020_06_11/18/46.json.bz2\n"
     ]
    },
    {
     "name": "stderr",
     "output_type": "stream",
     "text": [
      "/tmp/ipykernel_16517/3536830003.py:12: FutureWarning: The behavior of 'to_datetime' with 'unit' when parsing strings is deprecated. In a future version, strings will be parsed as datetime strings, matching the behavior without a 'unit'. To retain the old behavior, explicitly cast ints or floats to numeric type before calling to_datetime.\n",
      "  df = pd.read_json(os.path.join(path,file_name), lines=True, convert_dates=[\"created_at\",\"timestamp_ms\"])\n",
      "/tmp/ipykernel_16517/3536830003.py:12: FutureWarning: The behavior of 'to_datetime' with 'unit' when parsing strings is deprecated. In a future version, strings will be parsed as datetime strings, matching the behavior without a 'unit'. To retain the old behavior, explicitly cast ints or floats to numeric type before calling to_datetime.\n",
      "  df = pd.read_json(os.path.join(path,file_name), lines=True, convert_dates=[\"created_at\",\"timestamp_ms\"])\n"
     ]
    },
    {
     "name": "stdout",
     "output_type": "stream",
     "text": [
      "Before:\t(3459, 37)\n",
      "After:\t(1051, 2)\n",
      "Full shape: (194504, 2)\n",
      "2020_06_11/18/49.json.bz2\n"
     ]
    },
    {
     "name": "stderr",
     "output_type": "stream",
     "text": [
      "/tmp/ipykernel_16517/3536830003.py:12: FutureWarning: The behavior of 'to_datetime' with 'unit' when parsing strings is deprecated. In a future version, strings will be parsed as datetime strings, matching the behavior without a 'unit'. To retain the old behavior, explicitly cast ints or floats to numeric type before calling to_datetime.\n",
      "  df = pd.read_json(os.path.join(path,file_name), lines=True, convert_dates=[\"created_at\",\"timestamp_ms\"])\n",
      "/tmp/ipykernel_16517/3536830003.py:12: FutureWarning: The behavior of 'to_datetime' with 'unit' when parsing strings is deprecated. In a future version, strings will be parsed as datetime strings, matching the behavior without a 'unit'. To retain the old behavior, explicitly cast ints or floats to numeric type before calling to_datetime.\n",
      "  df = pd.read_json(os.path.join(path,file_name), lines=True, convert_dates=[\"created_at\",\"timestamp_ms\"])\n"
     ]
    },
    {
     "name": "stdout",
     "output_type": "stream",
     "text": [
      "Before:\t(3388, 37)\n",
      "After:\t(1048, 2)\n",
      "Full shape: (195552, 2)\n",
      "2020_06_11/18/18.json.bz2\n"
     ]
    },
    {
     "name": "stderr",
     "output_type": "stream",
     "text": [
      "/tmp/ipykernel_16517/3536830003.py:12: FutureWarning: The behavior of 'to_datetime' with 'unit' when parsing strings is deprecated. In a future version, strings will be parsed as datetime strings, matching the behavior without a 'unit'. To retain the old behavior, explicitly cast ints or floats to numeric type before calling to_datetime.\n",
      "  df = pd.read_json(os.path.join(path,file_name), lines=True, convert_dates=[\"created_at\",\"timestamp_ms\"])\n",
      "/tmp/ipykernel_16517/3536830003.py:12: FutureWarning: The behavior of 'to_datetime' with 'unit' when parsing strings is deprecated. In a future version, strings will be parsed as datetime strings, matching the behavior without a 'unit'. To retain the old behavior, explicitly cast ints or floats to numeric type before calling to_datetime.\n",
      "  df = pd.read_json(os.path.join(path,file_name), lines=True, convert_dates=[\"created_at\",\"timestamp_ms\"])\n"
     ]
    },
    {
     "name": "stdout",
     "output_type": "stream",
     "text": [
      "Before:\t(3703, 37)\n",
      "After:\t(1043, 2)\n",
      "Full shape: (196595, 2)\n",
      "2020_06_11/18/59.json.bz2\n"
     ]
    },
    {
     "name": "stderr",
     "output_type": "stream",
     "text": [
      "/tmp/ipykernel_16517/3536830003.py:12: FutureWarning: The behavior of 'to_datetime' with 'unit' when parsing strings is deprecated. In a future version, strings will be parsed as datetime strings, matching the behavior without a 'unit'. To retain the old behavior, explicitly cast ints or floats to numeric type before calling to_datetime.\n",
      "  df = pd.read_json(os.path.join(path,file_name), lines=True, convert_dates=[\"created_at\",\"timestamp_ms\"])\n",
      "/tmp/ipykernel_16517/3536830003.py:12: FutureWarning: The behavior of 'to_datetime' with 'unit' when parsing strings is deprecated. In a future version, strings will be parsed as datetime strings, matching the behavior without a 'unit'. To retain the old behavior, explicitly cast ints or floats to numeric type before calling to_datetime.\n",
      "  df = pd.read_json(os.path.join(path,file_name), lines=True, convert_dates=[\"created_at\",\"timestamp_ms\"])\n"
     ]
    },
    {
     "name": "stdout",
     "output_type": "stream",
     "text": [
      "Before:\t(3376, 37)\n",
      "After:\t(995, 2)\n",
      "Full shape: (197590, 2)\n",
      "2020_06_11/18/45.json.bz2\n"
     ]
    },
    {
     "name": "stderr",
     "output_type": "stream",
     "text": [
      "/tmp/ipykernel_16517/3536830003.py:12: FutureWarning: The behavior of 'to_datetime' with 'unit' when parsing strings is deprecated. In a future version, strings will be parsed as datetime strings, matching the behavior without a 'unit'. To retain the old behavior, explicitly cast ints or floats to numeric type before calling to_datetime.\n",
      "  df = pd.read_json(os.path.join(path,file_name), lines=True, convert_dates=[\"created_at\",\"timestamp_ms\"])\n",
      "/tmp/ipykernel_16517/3536830003.py:12: FutureWarning: The behavior of 'to_datetime' with 'unit' when parsing strings is deprecated. In a future version, strings will be parsed as datetime strings, matching the behavior without a 'unit'. To retain the old behavior, explicitly cast ints or floats to numeric type before calling to_datetime.\n",
      "  df = pd.read_json(os.path.join(path,file_name), lines=True, convert_dates=[\"created_at\",\"timestamp_ms\"])\n"
     ]
    },
    {
     "name": "stdout",
     "output_type": "stream",
     "text": [
      "Before:\t(3367, 37)\n",
      "After:\t(1043, 2)\n",
      "Full shape: (198633, 2)\n",
      "2020_06_11/18/22.json.bz2\n"
     ]
    },
    {
     "name": "stderr",
     "output_type": "stream",
     "text": [
      "/tmp/ipykernel_16517/3536830003.py:12: FutureWarning: The behavior of 'to_datetime' with 'unit' when parsing strings is deprecated. In a future version, strings will be parsed as datetime strings, matching the behavior without a 'unit'. To retain the old behavior, explicitly cast ints or floats to numeric type before calling to_datetime.\n",
      "  df = pd.read_json(os.path.join(path,file_name), lines=True, convert_dates=[\"created_at\",\"timestamp_ms\"])\n",
      "/tmp/ipykernel_16517/3536830003.py:12: FutureWarning: The behavior of 'to_datetime' with 'unit' when parsing strings is deprecated. In a future version, strings will be parsed as datetime strings, matching the behavior without a 'unit'. To retain the old behavior, explicitly cast ints or floats to numeric type before calling to_datetime.\n",
      "  df = pd.read_json(os.path.join(path,file_name), lines=True, convert_dates=[\"created_at\",\"timestamp_ms\"])\n"
     ]
    },
    {
     "name": "stdout",
     "output_type": "stream",
     "text": [
      "Before:\t(3358, 37)\n",
      "After:\t(1070, 2)\n",
      "Full shape: (199703, 2)\n",
      "2020_06_11/18/16.json.bz2\n"
     ]
    },
    {
     "name": "stderr",
     "output_type": "stream",
     "text": [
      "/tmp/ipykernel_16517/3536830003.py:12: FutureWarning: The behavior of 'to_datetime' with 'unit' when parsing strings is deprecated. In a future version, strings will be parsed as datetime strings, matching the behavior without a 'unit'. To retain the old behavior, explicitly cast ints or floats to numeric type before calling to_datetime.\n",
      "  df = pd.read_json(os.path.join(path,file_name), lines=True, convert_dates=[\"created_at\",\"timestamp_ms\"])\n",
      "/tmp/ipykernel_16517/3536830003.py:12: FutureWarning: The behavior of 'to_datetime' with 'unit' when parsing strings is deprecated. In a future version, strings will be parsed as datetime strings, matching the behavior without a 'unit'. To retain the old behavior, explicitly cast ints or floats to numeric type before calling to_datetime.\n",
      "  df = pd.read_json(os.path.join(path,file_name), lines=True, convert_dates=[\"created_at\",\"timestamp_ms\"])\n"
     ]
    },
    {
     "name": "stdout",
     "output_type": "stream",
     "text": [
      "Before:\t(3399, 37)\n",
      "After:\t(1029, 2)\n",
      "Full shape: (200732, 2)\n",
      "2020_06_11/18/53.json.bz2\n"
     ]
    },
    {
     "name": "stderr",
     "output_type": "stream",
     "text": [
      "/tmp/ipykernel_16517/3536830003.py:12: FutureWarning: The behavior of 'to_datetime' with 'unit' when parsing strings is deprecated. In a future version, strings will be parsed as datetime strings, matching the behavior without a 'unit'. To retain the old behavior, explicitly cast ints or floats to numeric type before calling to_datetime.\n",
      "  df = pd.read_json(os.path.join(path,file_name), lines=True, convert_dates=[\"created_at\",\"timestamp_ms\"])\n",
      "/tmp/ipykernel_16517/3536830003.py:12: FutureWarning: The behavior of 'to_datetime' with 'unit' when parsing strings is deprecated. In a future version, strings will be parsed as datetime strings, matching the behavior without a 'unit'. To retain the old behavior, explicitly cast ints or floats to numeric type before calling to_datetime.\n",
      "  df = pd.read_json(os.path.join(path,file_name), lines=True, convert_dates=[\"created_at\",\"timestamp_ms\"])\n"
     ]
    },
    {
     "name": "stdout",
     "output_type": "stream",
     "text": [
      "Before:\t(3376, 37)\n",
      "After:\t(992, 2)\n",
      "Full shape: (201724, 2)\n",
      "2020_06_11/18/15.json.bz2\n"
     ]
    },
    {
     "name": "stderr",
     "output_type": "stream",
     "text": [
      "/tmp/ipykernel_16517/3536830003.py:12: FutureWarning: The behavior of 'to_datetime' with 'unit' when parsing strings is deprecated. In a future version, strings will be parsed as datetime strings, matching the behavior without a 'unit'. To retain the old behavior, explicitly cast ints or floats to numeric type before calling to_datetime.\n",
      "  df = pd.read_json(os.path.join(path,file_name), lines=True, convert_dates=[\"created_at\",\"timestamp_ms\"])\n",
      "/tmp/ipykernel_16517/3536830003.py:12: FutureWarning: The behavior of 'to_datetime' with 'unit' when parsing strings is deprecated. In a future version, strings will be parsed as datetime strings, matching the behavior without a 'unit'. To retain the old behavior, explicitly cast ints or floats to numeric type before calling to_datetime.\n",
      "  df = pd.read_json(os.path.join(path,file_name), lines=True, convert_dates=[\"created_at\",\"timestamp_ms\"])\n"
     ]
    },
    {
     "name": "stdout",
     "output_type": "stream",
     "text": [
      "Before:\t(3502, 37)\n",
      "After:\t(1020, 2)\n",
      "Full shape: (202744, 2)\n",
      "2020_06_11/18/50.json.bz2\n"
     ]
    },
    {
     "name": "stderr",
     "output_type": "stream",
     "text": [
      "/tmp/ipykernel_16517/3536830003.py:12: FutureWarning: The behavior of 'to_datetime' with 'unit' when parsing strings is deprecated. In a future version, strings will be parsed as datetime strings, matching the behavior without a 'unit'. To retain the old behavior, explicitly cast ints or floats to numeric type before calling to_datetime.\n",
      "  df = pd.read_json(os.path.join(path,file_name), lines=True, convert_dates=[\"created_at\",\"timestamp_ms\"])\n",
      "/tmp/ipykernel_16517/3536830003.py:12: FutureWarning: The behavior of 'to_datetime' with 'unit' when parsing strings is deprecated. In a future version, strings will be parsed as datetime strings, matching the behavior without a 'unit'. To retain the old behavior, explicitly cast ints or floats to numeric type before calling to_datetime.\n",
      "  df = pd.read_json(os.path.join(path,file_name), lines=True, convert_dates=[\"created_at\",\"timestamp_ms\"])\n"
     ]
    },
    {
     "name": "stdout",
     "output_type": "stream",
     "text": [
      "Before:\t(3399, 37)\n",
      "After:\t(1066, 2)\n",
      "Full shape: (203810, 2)\n",
      "2020_06_11/18/17.json.bz2\n"
     ]
    },
    {
     "name": "stderr",
     "output_type": "stream",
     "text": [
      "/tmp/ipykernel_16517/3536830003.py:12: FutureWarning: The behavior of 'to_datetime' with 'unit' when parsing strings is deprecated. In a future version, strings will be parsed as datetime strings, matching the behavior without a 'unit'. To retain the old behavior, explicitly cast ints or floats to numeric type before calling to_datetime.\n",
      "  df = pd.read_json(os.path.join(path,file_name), lines=True, convert_dates=[\"created_at\",\"timestamp_ms\"])\n",
      "/tmp/ipykernel_16517/3536830003.py:12: FutureWarning: The behavior of 'to_datetime' with 'unit' when parsing strings is deprecated. In a future version, strings will be parsed as datetime strings, matching the behavior without a 'unit'. To retain the old behavior, explicitly cast ints or floats to numeric type before calling to_datetime.\n",
      "  df = pd.read_json(os.path.join(path,file_name), lines=True, convert_dates=[\"created_at\",\"timestamp_ms\"])\n"
     ]
    },
    {
     "name": "stdout",
     "output_type": "stream",
     "text": [
      "Before:\t(3515, 37)\n",
      "After:\t(982, 2)\n",
      "Full shape: (204792, 2)\n",
      "2020_06_11/18/29.json.bz2\n"
     ]
    },
    {
     "name": "stderr",
     "output_type": "stream",
     "text": [
      "/tmp/ipykernel_16517/3536830003.py:12: FutureWarning: The behavior of 'to_datetime' with 'unit' when parsing strings is deprecated. In a future version, strings will be parsed as datetime strings, matching the behavior without a 'unit'. To retain the old behavior, explicitly cast ints or floats to numeric type before calling to_datetime.\n",
      "  df = pd.read_json(os.path.join(path,file_name), lines=True, convert_dates=[\"created_at\",\"timestamp_ms\"])\n",
      "/tmp/ipykernel_16517/3536830003.py:12: FutureWarning: The behavior of 'to_datetime' with 'unit' when parsing strings is deprecated. In a future version, strings will be parsed as datetime strings, matching the behavior without a 'unit'. To retain the old behavior, explicitly cast ints or floats to numeric type before calling to_datetime.\n",
      "  df = pd.read_json(os.path.join(path,file_name), lines=True, convert_dates=[\"created_at\",\"timestamp_ms\"])\n"
     ]
    },
    {
     "name": "stdout",
     "output_type": "stream",
     "text": [
      "Before:\t(3423, 37)\n",
      "After:\t(1031, 2)\n",
      "Full shape: (205823, 2)\n",
      "2020_06_11/18/34.json.bz2\n"
     ]
    },
    {
     "name": "stderr",
     "output_type": "stream",
     "text": [
      "/tmp/ipykernel_16517/3536830003.py:12: FutureWarning: The behavior of 'to_datetime' with 'unit' when parsing strings is deprecated. In a future version, strings will be parsed as datetime strings, matching the behavior without a 'unit'. To retain the old behavior, explicitly cast ints or floats to numeric type before calling to_datetime.\n",
      "  df = pd.read_json(os.path.join(path,file_name), lines=True, convert_dates=[\"created_at\",\"timestamp_ms\"])\n",
      "/tmp/ipykernel_16517/3536830003.py:12: FutureWarning: The behavior of 'to_datetime' with 'unit' when parsing strings is deprecated. In a future version, strings will be parsed as datetime strings, matching the behavior without a 'unit'. To retain the old behavior, explicitly cast ints or floats to numeric type before calling to_datetime.\n",
      "  df = pd.read_json(os.path.join(path,file_name), lines=True, convert_dates=[\"created_at\",\"timestamp_ms\"])\n"
     ]
    },
    {
     "name": "stdout",
     "output_type": "stream",
     "text": [
      "Before:\t(3472, 37)\n",
      "After:\t(1063, 2)\n",
      "Full shape: (206886, 2)\n",
      "2020_06_11/18/12.json.bz2\n"
     ]
    },
    {
     "name": "stderr",
     "output_type": "stream",
     "text": [
      "/tmp/ipykernel_16517/3536830003.py:12: FutureWarning: The behavior of 'to_datetime' with 'unit' when parsing strings is deprecated. In a future version, strings will be parsed as datetime strings, matching the behavior without a 'unit'. To retain the old behavior, explicitly cast ints or floats to numeric type before calling to_datetime.\n",
      "  df = pd.read_json(os.path.join(path,file_name), lines=True, convert_dates=[\"created_at\",\"timestamp_ms\"])\n",
      "/tmp/ipykernel_16517/3536830003.py:12: FutureWarning: The behavior of 'to_datetime' with 'unit' when parsing strings is deprecated. In a future version, strings will be parsed as datetime strings, matching the behavior without a 'unit'. To retain the old behavior, explicitly cast ints or floats to numeric type before calling to_datetime.\n",
      "  df = pd.read_json(os.path.join(path,file_name), lines=True, convert_dates=[\"created_at\",\"timestamp_ms\"])\n"
     ]
    },
    {
     "name": "stdout",
     "output_type": "stream",
     "text": [
      "Before:\t(3545, 37)\n",
      "After:\t(1043, 2)\n",
      "Full shape: (207929, 2)\n",
      "2020_06_11/18/41.json.bz2\n"
     ]
    },
    {
     "name": "stderr",
     "output_type": "stream",
     "text": [
      "/tmp/ipykernel_16517/3536830003.py:12: FutureWarning: The behavior of 'to_datetime' with 'unit' when parsing strings is deprecated. In a future version, strings will be parsed as datetime strings, matching the behavior without a 'unit'. To retain the old behavior, explicitly cast ints or floats to numeric type before calling to_datetime.\n",
      "  df = pd.read_json(os.path.join(path,file_name), lines=True, convert_dates=[\"created_at\",\"timestamp_ms\"])\n",
      "/tmp/ipykernel_16517/3536830003.py:12: FutureWarning: The behavior of 'to_datetime' with 'unit' when parsing strings is deprecated. In a future version, strings will be parsed as datetime strings, matching the behavior without a 'unit'. To retain the old behavior, explicitly cast ints or floats to numeric type before calling to_datetime.\n",
      "  df = pd.read_json(os.path.join(path,file_name), lines=True, convert_dates=[\"created_at\",\"timestamp_ms\"])\n"
     ]
    },
    {
     "name": "stdout",
     "output_type": "stream",
     "text": [
      "Before:\t(3452, 37)\n",
      "After:\t(1001, 2)\n",
      "Full shape: (208930, 2)\n",
      "2020_06_11/18/44.json.bz2\n"
     ]
    },
    {
     "name": "stderr",
     "output_type": "stream",
     "text": [
      "/tmp/ipykernel_16517/3536830003.py:12: FutureWarning: The behavior of 'to_datetime' with 'unit' when parsing strings is deprecated. In a future version, strings will be parsed as datetime strings, matching the behavior without a 'unit'. To retain the old behavior, explicitly cast ints or floats to numeric type before calling to_datetime.\n",
      "  df = pd.read_json(os.path.join(path,file_name), lines=True, convert_dates=[\"created_at\",\"timestamp_ms\"])\n",
      "/tmp/ipykernel_16517/3536830003.py:12: FutureWarning: The behavior of 'to_datetime' with 'unit' when parsing strings is deprecated. In a future version, strings will be parsed as datetime strings, matching the behavior without a 'unit'. To retain the old behavior, explicitly cast ints or floats to numeric type before calling to_datetime.\n",
      "  df = pd.read_json(os.path.join(path,file_name), lines=True, convert_dates=[\"created_at\",\"timestamp_ms\"])\n"
     ]
    },
    {
     "name": "stdout",
     "output_type": "stream",
     "text": [
      "Before:\t(3381, 37)\n",
      "After:\t(1027, 2)\n",
      "Full shape: (209957, 2)\n",
      "2020_06_11/18/57.json.bz2\n"
     ]
    },
    {
     "name": "stderr",
     "output_type": "stream",
     "text": [
      "/tmp/ipykernel_16517/3536830003.py:12: FutureWarning: The behavior of 'to_datetime' with 'unit' when parsing strings is deprecated. In a future version, strings will be parsed as datetime strings, matching the behavior without a 'unit'. To retain the old behavior, explicitly cast ints or floats to numeric type before calling to_datetime.\n",
      "  df = pd.read_json(os.path.join(path,file_name), lines=True, convert_dates=[\"created_at\",\"timestamp_ms\"])\n",
      "/tmp/ipykernel_16517/3536830003.py:12: FutureWarning: The behavior of 'to_datetime' with 'unit' when parsing strings is deprecated. In a future version, strings will be parsed as datetime strings, matching the behavior without a 'unit'. To retain the old behavior, explicitly cast ints or floats to numeric type before calling to_datetime.\n",
      "  df = pd.read_json(os.path.join(path,file_name), lines=True, convert_dates=[\"created_at\",\"timestamp_ms\"])\n"
     ]
    },
    {
     "name": "stdout",
     "output_type": "stream",
     "text": [
      "Before:\t(3429, 37)\n",
      "After:\t(1042, 2)\n",
      "Full shape: (210999, 2)\n",
      "2020_06_11/18/37.json.bz2\n"
     ]
    },
    {
     "name": "stderr",
     "output_type": "stream",
     "text": [
      "/tmp/ipykernel_16517/3536830003.py:12: FutureWarning: The behavior of 'to_datetime' with 'unit' when parsing strings is deprecated. In a future version, strings will be parsed as datetime strings, matching the behavior without a 'unit'. To retain the old behavior, explicitly cast ints or floats to numeric type before calling to_datetime.\n",
      "  df = pd.read_json(os.path.join(path,file_name), lines=True, convert_dates=[\"created_at\",\"timestamp_ms\"])\n",
      "/tmp/ipykernel_16517/3536830003.py:12: FutureWarning: The behavior of 'to_datetime' with 'unit' when parsing strings is deprecated. In a future version, strings will be parsed as datetime strings, matching the behavior without a 'unit'. To retain the old behavior, explicitly cast ints or floats to numeric type before calling to_datetime.\n",
      "  df = pd.read_json(os.path.join(path,file_name), lines=True, convert_dates=[\"created_at\",\"timestamp_ms\"])\n"
     ]
    },
    {
     "name": "stdout",
     "output_type": "stream",
     "text": [
      "Before:\t(3728, 37)\n",
      "After:\t(1009, 2)\n",
      "Full shape: (212008, 2)\n",
      "2020_06_11/18/36.json.bz2\n"
     ]
    },
    {
     "name": "stderr",
     "output_type": "stream",
     "text": [
      "/tmp/ipykernel_16517/3536830003.py:12: FutureWarning: The behavior of 'to_datetime' with 'unit' when parsing strings is deprecated. In a future version, strings will be parsed as datetime strings, matching the behavior without a 'unit'. To retain the old behavior, explicitly cast ints or floats to numeric type before calling to_datetime.\n",
      "  df = pd.read_json(os.path.join(path,file_name), lines=True, convert_dates=[\"created_at\",\"timestamp_ms\"])\n",
      "/tmp/ipykernel_16517/3536830003.py:12: FutureWarning: The behavior of 'to_datetime' with 'unit' when parsing strings is deprecated. In a future version, strings will be parsed as datetime strings, matching the behavior without a 'unit'. To retain the old behavior, explicitly cast ints or floats to numeric type before calling to_datetime.\n",
      "  df = pd.read_json(os.path.join(path,file_name), lines=True, convert_dates=[\"created_at\",\"timestamp_ms\"])\n"
     ]
    },
    {
     "name": "stdout",
     "output_type": "stream",
     "text": [
      "Before:\t(3655, 37)\n",
      "After:\t(1046, 2)\n",
      "Full shape: (213054, 2)\n",
      "2020_06_11/18/32.json.bz2\n"
     ]
    },
    {
     "name": "stderr",
     "output_type": "stream",
     "text": [
      "/tmp/ipykernel_16517/3536830003.py:12: FutureWarning: The behavior of 'to_datetime' with 'unit' when parsing strings is deprecated. In a future version, strings will be parsed as datetime strings, matching the behavior without a 'unit'. To retain the old behavior, explicitly cast ints or floats to numeric type before calling to_datetime.\n",
      "  df = pd.read_json(os.path.join(path,file_name), lines=True, convert_dates=[\"created_at\",\"timestamp_ms\"])\n",
      "/tmp/ipykernel_16517/3536830003.py:12: FutureWarning: The behavior of 'to_datetime' with 'unit' when parsing strings is deprecated. In a future version, strings will be parsed as datetime strings, matching the behavior without a 'unit'. To retain the old behavior, explicitly cast ints or floats to numeric type before calling to_datetime.\n",
      "  df = pd.read_json(os.path.join(path,file_name), lines=True, convert_dates=[\"created_at\",\"timestamp_ms\"])\n"
     ]
    },
    {
     "name": "stdout",
     "output_type": "stream",
     "text": [
      "Before:\t(3532, 37)\n",
      "After:\t(1030, 2)\n",
      "Full shape: (214084, 2)\n",
      "2020_06_11/18/10.json.bz2\n"
     ]
    },
    {
     "name": "stderr",
     "output_type": "stream",
     "text": [
      "/tmp/ipykernel_16517/3536830003.py:12: FutureWarning: The behavior of 'to_datetime' with 'unit' when parsing strings is deprecated. In a future version, strings will be parsed as datetime strings, matching the behavior without a 'unit'. To retain the old behavior, explicitly cast ints or floats to numeric type before calling to_datetime.\n",
      "  df = pd.read_json(os.path.join(path,file_name), lines=True, convert_dates=[\"created_at\",\"timestamp_ms\"])\n",
      "/tmp/ipykernel_16517/3536830003.py:12: FutureWarning: The behavior of 'to_datetime' with 'unit' when parsing strings is deprecated. In a future version, strings will be parsed as datetime strings, matching the behavior without a 'unit'. To retain the old behavior, explicitly cast ints or floats to numeric type before calling to_datetime.\n",
      "  df = pd.read_json(os.path.join(path,file_name), lines=True, convert_dates=[\"created_at\",\"timestamp_ms\"])\n"
     ]
    },
    {
     "name": "stdout",
     "output_type": "stream",
     "text": [
      "Before:\t(3423, 37)\n",
      "After:\t(984, 2)\n",
      "Full shape: (215068, 2)\n",
      "2020_06_11/18/39.json.bz2\n"
     ]
    },
    {
     "name": "stderr",
     "output_type": "stream",
     "text": [
      "/tmp/ipykernel_16517/3536830003.py:12: FutureWarning: The behavior of 'to_datetime' with 'unit' when parsing strings is deprecated. In a future version, strings will be parsed as datetime strings, matching the behavior without a 'unit'. To retain the old behavior, explicitly cast ints or floats to numeric type before calling to_datetime.\n",
      "  df = pd.read_json(os.path.join(path,file_name), lines=True, convert_dates=[\"created_at\",\"timestamp_ms\"])\n",
      "/tmp/ipykernel_16517/3536830003.py:12: FutureWarning: The behavior of 'to_datetime' with 'unit' when parsing strings is deprecated. In a future version, strings will be parsed as datetime strings, matching the behavior without a 'unit'. To retain the old behavior, explicitly cast ints or floats to numeric type before calling to_datetime.\n",
      "  df = pd.read_json(os.path.join(path,file_name), lines=True, convert_dates=[\"created_at\",\"timestamp_ms\"])\n"
     ]
    },
    {
     "name": "stdout",
     "output_type": "stream",
     "text": [
      "Before:\t(3383, 37)\n",
      "After:\t(1041, 2)\n",
      "Full shape: (216109, 2)\n",
      "2020_06_11/18/38.json.bz2\n"
     ]
    },
    {
     "name": "stderr",
     "output_type": "stream",
     "text": [
      "/tmp/ipykernel_16517/3536830003.py:12: FutureWarning: The behavior of 'to_datetime' with 'unit' when parsing strings is deprecated. In a future version, strings will be parsed as datetime strings, matching the behavior without a 'unit'. To retain the old behavior, explicitly cast ints or floats to numeric type before calling to_datetime.\n",
      "  df = pd.read_json(os.path.join(path,file_name), lines=True, convert_dates=[\"created_at\",\"timestamp_ms\"])\n",
      "/tmp/ipykernel_16517/3536830003.py:12: FutureWarning: The behavior of 'to_datetime' with 'unit' when parsing strings is deprecated. In a future version, strings will be parsed as datetime strings, matching the behavior without a 'unit'. To retain the old behavior, explicitly cast ints or floats to numeric type before calling to_datetime.\n",
      "  df = pd.read_json(os.path.join(path,file_name), lines=True, convert_dates=[\"created_at\",\"timestamp_ms\"])\n"
     ]
    },
    {
     "name": "stdout",
     "output_type": "stream",
     "text": [
      "Before:\t(3374, 37)\n",
      "After:\t(1045, 2)\n",
      "Full shape: (217154, 2)\n",
      "2020_06_11/18/07.json.bz2\n",
      "Before:\t(3521, 37)\n",
      "After:\t(1012, 2)\n",
      "Full shape: (218166, 2)\n"
     ]
    },
    {
     "name": "stderr",
     "output_type": "stream",
     "text": [
      "/tmp/ipykernel_16517/3536830003.py:12: FutureWarning: The behavior of 'to_datetime' with 'unit' when parsing strings is deprecated. In a future version, strings will be parsed as datetime strings, matching the behavior without a 'unit'. To retain the old behavior, explicitly cast ints or floats to numeric type before calling to_datetime.\n",
      "  df = pd.read_json(os.path.join(path,file_name), lines=True, convert_dates=[\"created_at\",\"timestamp_ms\"])\n",
      "/tmp/ipykernel_16517/3536830003.py:12: FutureWarning: The behavior of 'to_datetime' with 'unit' when parsing strings is deprecated. In a future version, strings will be parsed as datetime strings, matching the behavior without a 'unit'. To retain the old behavior, explicitly cast ints or floats to numeric type before calling to_datetime.\n",
      "  df = pd.read_json(os.path.join(path,file_name), lines=True, convert_dates=[\"created_at\",\"timestamp_ms\"])\n"
     ]
    }
   ],
   "source": [
    "import os\n",
    "\n",
    "#Select 4 hours of tweets: hours 0, 6, 12, and 18\n",
    "basePath = \"2020_06_11\"\n",
    "directories = [\"00\", \"06\", \"12\", \"18\"]\n",
    "paths = [os.path.join(basePath,d) for d in directories]\n",
    "\n",
    "df_big = pd.DataFrame()\n",
    "for path in paths:\n",
    "    for file_name in os.listdir(path):\n",
    "        print(os.path.join(path,file_name))\n",
    "        df = pd.read_json(os.path.join(path,file_name), lines=True, convert_dates=[\"created_at\",\"timestamp_ms\"])\n",
    "        df_big = pd.concat([df_big, cleanDataframe(df)])\n",
    "        print(f\"Full shape: {df_big.shape}\")"
   ]
  },
  {
   "cell_type": "code",
   "execution_count": 8,
   "id": "180043b3",
   "metadata": {},
   "outputs": [],
   "source": [
    "df_big.to_csv(\"twitter_stream.csv\")"
   ]
  },
  {
   "cell_type": "code",
   "execution_count": 10,
   "id": "be7cf9fb",
   "metadata": {},
   "outputs": [
    {
     "data": {
      "text/plain": [
       "(218166, 2)"
      ]
     },
     "execution_count": 10,
     "metadata": {},
     "output_type": "execute_result"
    }
   ],
   "source": [
    "df_big.shape"
   ]
  },
  {
   "cell_type": "code",
   "execution_count": null,
   "id": "e49ec4c6",
   "metadata": {},
   "outputs": [],
   "source": []
  }
 ],
 "metadata": {
  "kernelspec": {
   "display_name": "Python 3 (ipykernel)",
   "language": "python",
   "name": "python3"
  },
  "language_info": {
   "codemirror_mode": {
    "name": "ipython",
    "version": 3
   },
   "file_extension": ".py",
   "mimetype": "text/x-python",
   "name": "python",
   "nbconvert_exporter": "python",
   "pygments_lexer": "ipython3",
   "version": "3.11.0"
  }
 },
 "nbformat": 4,
 "nbformat_minor": 5
}
