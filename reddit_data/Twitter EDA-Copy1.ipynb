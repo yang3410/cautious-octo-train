{
 "cells": [
  {
   "cell_type": "code",
   "execution_count": 1,
   "id": "602fb3a8",
   "metadata": {},
   "outputs": [],
   "source": [
    "import pandas as pd\n",
    "import numpy as np\n",
    "import matplotlib.pyplot as plt\n",
    "import re"
   ]
  },
  {
   "cell_type": "code",
   "execution_count": 6,
   "id": "a735e86a",
   "metadata": {},
   "outputs": [
    {
     "data": {
      "text/html": [
       "<div>\n",
       "<style scoped>\n",
       "    .dataframe tbody tr th:only-of-type {\n",
       "        vertical-align: middle;\n",
       "    }\n",
       "\n",
       "    .dataframe tbody tr th {\n",
       "        vertical-align: top;\n",
       "    }\n",
       "\n",
       "    .dataframe thead th {\n",
       "        text-align: right;\n",
       "    }\n",
       "</style>\n",
       "<table border=\"1\" class=\"dataframe\">\n",
       "  <thead>\n",
       "    <tr style=\"text-align: right;\">\n",
       "      <th></th>\n",
       "      <th>Unnamed: 0.1</th>\n",
       "      <th>Unnamed: 0</th>\n",
       "      <th>text</th>\n",
       "      <th>positive_words</th>\n",
       "      <th>negative_words</th>\n",
       "    </tr>\n",
       "  </thead>\n",
       "  <tbody>\n",
       "    <tr>\n",
       "      <th>0</th>\n",
       "      <td>0</td>\n",
       "      <td>0</td>\n",
       "      <td>What kind of phone(s) do you guys have?</td>\n",
       "      <td>0</td>\n",
       "      <td>0</td>\n",
       "    </tr>\n",
       "    <tr>\n",
       "      <th>1</th>\n",
       "      <td>1</td>\n",
       "      <td>1</td>\n",
       "      <td>I have a pixel. It's pretty great. Much better...</td>\n",
       "      <td>2</td>\n",
       "      <td>0</td>\n",
       "    </tr>\n",
       "    <tr>\n",
       "      <th>2</th>\n",
       "      <td>2</td>\n",
       "      <td>2</td>\n",
       "      <td>Does it really charge all the way in 15 min?</td>\n",
       "      <td>0</td>\n",
       "      <td>0</td>\n",
       "    </tr>\n",
       "    <tr>\n",
       "      <th>3</th>\n",
       "      <td>3</td>\n",
       "      <td>4</td>\n",
       "      <td>Samsung Galaxy J1. It's my first cell phone an...</td>\n",
       "      <td>0</td>\n",
       "      <td>0</td>\n",
       "    </tr>\n",
       "    <tr>\n",
       "      <th>4</th>\n",
       "      <td>4</td>\n",
       "      <td>5</td>\n",
       "      <td>What do you think of it? Anything you don't like?</td>\n",
       "      <td>0</td>\n",
       "      <td>0</td>\n",
       "    </tr>\n",
       "  </tbody>\n",
       "</table>\n",
       "</div>"
      ],
      "text/plain": [
       "   Unnamed: 0.1  Unnamed: 0  \\\n",
       "0             0           0   \n",
       "1             1           1   \n",
       "2             2           2   \n",
       "3             3           4   \n",
       "4             4           5   \n",
       "\n",
       "                                                text  positive_words  \\\n",
       "0            What kind of phone(s) do you guys have?               0   \n",
       "1  I have a pixel. It's pretty great. Much better...               2   \n",
       "2       Does it really charge all the way in 15 min?               0   \n",
       "3  Samsung Galaxy J1. It's my first cell phone an...               0   \n",
       "4  What do you think of it? Anything you don't like?               0   \n",
       "\n",
       "   negative_words  \n",
       "0               0  \n",
       "1               0  \n",
       "2               0  \n",
       "3               0  \n",
       "4               0  "
      ]
     },
     "execution_count": 6,
     "metadata": {},
     "output_type": "execute_result"
    }
   ],
   "source": [
    "#Read in data\n",
    "df = pd.read_csv(\"reddit_feature_temp.csv\")\n",
    "df.head(5)"
   ]
  },
  {
   "cell_type": "markdown",
   "id": "82aa891e",
   "metadata": {},
   "source": [
    "# Some extra cleaning. Replacing html ampersand codes.\n",
    "from w3lib.html import replace_entities\n",
    "df[\"text\"] = df[\"text\"].astype(str)\n",
    "df[\"text\"] = df[\"text\"].apply(replace_entities)"
   ]
  },
  {
   "cell_type": "markdown",
   "id": "70dbe912",
   "metadata": {},
   "source": [
    "# Positive/Negative Word Counts\n",
    "Positive and negative word lists pulled from https://ptrckprry.com/course/ssd/data/positive-words.txt\n",
    "and https://ptrckprry.com/course/ssd/data/negative-words.txt\n",
    "respectively.\n",
    "\n",
    "First we read in the word lists and set up functions that will count their occurences."
   ]
  },
  {
   "cell_type": "code",
   "execution_count": 6,
   "id": "a84e614f",
   "metadata": {},
   "outputs": [],
   "source": [
    "with open(\"../twitter_stream/wordLists/positive_words.txt\",'r') as file:\n",
    "    positive_words = file.read().splitlines()\n",
    "\n",
    "with open(\"../twitter_stream/wordLists/negative_words.txt\",'r') as file:\n",
    "    negative_words = file.read().splitlines()"
   ]
  },
  {
   "cell_type": "code",
   "execution_count": 7,
   "id": "10349c36",
   "metadata": {},
   "outputs": [
    {
     "name": "stdout",
     "output_type": "stream",
     "text": [
      "2006\n",
      "4783\n"
     ]
    }
   ],
   "source": [
    "print(len(positive_words))\n",
    "print(len(negative_words))"
   ]
  },
  {
   "cell_type": "code",
   "execution_count": 8,
   "id": "b6e9ee7d",
   "metadata": {},
   "outputs": [],
   "source": [
    "#Functions that count the occurences of positive/negative words in a text string\n",
    "def count_positive(text):\n",
    "    counter = 0\n",
    "    for word in positive_words:\n",
    "        counter += text.lower().split().count(word)\n",
    "    return counter\n",
    "def count_negative(text):\n",
    "    counter = 0\n",
    "    for word in negative_words:\n",
    "        counter += text.lower().split().count(word)\n",
    "    return counter"
   ]
  },
  {
   "cell_type": "markdown",
   "id": "c9fa2ce7",
   "metadata": {},
   "source": [
    "We create the new features (this takes a minute to run)"
   ]
  },
  {
   "cell_type": "code",
   "execution_count": 9,
   "id": "f3a1dbaf",
   "metadata": {},
   "outputs": [],
   "source": [
    "df[\"positive_words\"] = df[\"0\"].apply(count_positive)"
   ]
  },
  {
   "cell_type": "code",
   "execution_count": 11,
   "id": "59f83571",
   "metadata": {},
   "outputs": [],
   "source": [
    "df[\"negative_words\"] = df[\"0\"].apply(count_negative)"
   ]
  },
  {
   "cell_type": "markdown",
   "id": "87795a7e",
   "metadata": {},
   "source": [
    "Look at some stats"
   ]
  },
  {
   "cell_type": "code",
   "execution_count": 9,
   "id": "c0751624",
   "metadata": {},
   "outputs": [
    {
     "data": {
      "text/plain": [
       "count    218167.000000\n",
       "mean          0.390426\n",
       "std           0.657715\n",
       "min           0.000000\n",
       "25%           0.000000\n",
       "50%           0.000000\n",
       "75%           1.000000\n",
       "max          11.000000\n",
       "Name: positive_words, dtype: float64"
      ]
     },
     "execution_count": 9,
     "metadata": {},
     "output_type": "execute_result"
    }
   ],
   "source": [
    "df.positive_words.describe()"
   ]
  },
  {
   "cell_type": "code",
   "execution_count": 10,
   "id": "2e596455",
   "metadata": {
    "scrolled": true
   },
   "outputs": [
    {
     "data": {
      "text/plain": [
       "count    218167.000000\n",
       "mean          0.390426\n",
       "std           0.657715\n",
       "min           0.000000\n",
       "25%           0.000000\n",
       "50%           0.000000\n",
       "75%           1.000000\n",
       "max          11.000000\n",
       "Name: positive_words, dtype: float64"
      ]
     },
     "execution_count": 10,
     "metadata": {},
     "output_type": "execute_result"
    }
   ],
   "source": [
    "df.positive_words.describe()"
   ]
  },
  {
   "cell_type": "markdown",
   "id": "20a8b393",
   "metadata": {},
   "source": [
    "What are the most positive and negative tweets?"
   ]
  },
  {
   "cell_type": "code",
   "execution_count": 4,
   "id": "2c8c216c",
   "metadata": {},
   "outputs": [],
   "source": [
    "most_positive = df[\"positive_words\"].argmax()"
   ]
  },
  {
   "cell_type": "code",
   "execution_count": 7,
   "id": "2d087903",
   "metadata": {},
   "outputs": [
    {
     "name": "stdout",
     "output_type": "stream",
     "text": [
      "Cool cool cool cool cool cool cool cool.\n",
      "7\n"
     ]
    }
   ],
   "source": [
    "print(df.iloc[most_positive].text)\n",
    "print(df.iloc[most_positive].positive_words)"
   ]
  },
  {
   "cell_type": "code",
   "execution_count": 8,
   "id": "4d71e662",
   "metadata": {},
   "outputs": [],
   "source": [
    "most_negative = df[\"negative_words\"].argmax()"
   ]
  },
  {
   "cell_type": "code",
   "execution_count": 9,
   "id": "ca3cdf60",
   "metadata": {},
   "outputs": [
    {
     "name": "stdout",
     "output_type": "stream",
     "text": [
      "Fuck fuck fuck fuck fuck fuck fuck fuck motherfuck motherfuck motherfuck fuck noise noise noise\n",
      "12\n"
     ]
    }
   ],
   "source": [
    "print(df.iloc[most_negative].text)\n",
    "print(df.iloc[most_negative].negative_words)"
   ]
  },
  {
   "cell_type": "code",
   "execution_count": 10,
   "id": "7929aa49",
   "metadata": {},
   "outputs": [
    {
     "data": {
      "image/png": "[encoded data removed]",
      "text/plain": [
       "<Figure size 640x480 with 1 Axes>"
      ]
     },
     "metadata": {},
     "output_type": "display_data"
    },
    {
     "data": {
      "image/png": "[encoded data removed]",
      "text/plain": [
       "<Figure size 640x480 with 1 Axes>"
      ]
     },
     "metadata": {},
     "output_type": "display_data"
    }
   ],
   "source": [
    "plt.hist(df.positive_words, bins = df.positive_words.max())\n",
    "plt.show()\n",
    "plt.hist(df.negative_words, bins = df.negative_words.max())\n",
    "plt.show()"
   ]
  },
  {
   "cell_type": "markdown",
   "id": "3db349f8",
   "metadata": {},
   "source": [
    "# Text Length"
   ]
  },
  {
   "cell_type": "code",
   "execution_count": 11,
   "id": "07a32e11",
   "metadata": {},
   "outputs": [],
   "source": [
    "df[\"length\"] = df[\"text\"].apply(len)\n",
    "df[\"word_count\"] = df[\"text\"].apply((lambda s:len(s.split())))"
   ]
  },
  {
   "cell_type": "code",
   "execution_count": 12,
   "id": "6bf25c46",
   "metadata": {
    "scrolled": false
   },
   "outputs": [
    {
     "data": {
      "image/png": "[encoded data removed]",
      "text/plain": [
       "<Figure size 640x480 with 1 Axes>"
      ]
     },
     "metadata": {},
     "output_type": "display_data"
    },
    {
     "data": {
      "image/png": "[encoded data removed]",
      "text/plain": [
       "<Figure size 640x480 with 1 Axes>"
      ]
     },
     "metadata": {},
     "output_type": "display_data"
    }
   ],
   "source": [
    "plt.hist(df[\"length\"])\n",
    "plt.show()\n",
    "plt.hist(df[\"word_count\"])\n",
    "plt.show()"
   ]
  },
  {
   "cell_type": "markdown",
   "id": "d39beba2",
   "metadata": {},
   "source": [
    "# Male and Female words\n",
    "Word lists adapted from https://github.com/DanielleSucher/Jailbreak-the-Patriarchy/blob/master/myscript.js"
   ]
  },
  {
   "cell_type": "code",
   "execution_count": 14,
   "id": "e24bf648",
   "metadata": {},
   "outputs": [],
   "source": [
    "with open(\"../twitter_stream/wordLists/male_words\", 'r') as file:\n",
    "    male_words = file.read().splitlines()"
   ]
  },
  {
   "cell_type": "code",
   "execution_count": 15,
   "id": "5f00a73c",
   "metadata": {},
   "outputs": [],
   "source": [
    "with open(\"../twitter_stream/wordLists/female_words\", 'r') as file:\n",
    "    female_words = file.read().splitlines()"
   ]
  },
  {
   "cell_type": "code",
   "execution_count": 16,
   "id": "92d9b1c5",
   "metadata": {},
   "outputs": [],
   "source": [
    "def count_male(text):\n",
    "    counter = 0\n",
    "    for word in male_words:\n",
    "        counter += text.lower().split().count(word)\n",
    "    return counter\n",
    "def count_female(text):\n",
    "    counter = 0\n",
    "    for word in female_words:\n",
    "        counter += text.lower().split().count(word)\n",
    "    return counter"
   ]
  },
  {
   "cell_type": "code",
   "execution_count": 17,
   "id": "2d85fbdb",
   "metadata": {},
   "outputs": [],
   "source": [
    "df[\"male_words\"] = df[\"text\"].apply(count_male)"
   ]
  },
  {
   "cell_type": "code",
   "execution_count": 18,
   "id": "555ba164",
   "metadata": {},
   "outputs": [],
   "source": [
    "df[\"female_words\"] = df[\"text\"].apply(count_female)"
   ]
  },
  {
   "cell_type": "code",
   "execution_count": 19,
   "id": "1ab8816a",
   "metadata": {},
   "outputs": [
    {
     "data": {
      "text/plain": [
       "count    72135.000000\n",
       "mean         0.073141\n",
       "std          0.388692\n",
       "min          0.000000\n",
       "25%          0.000000\n",
       "50%          0.000000\n",
       "75%          0.000000\n",
       "max         10.000000\n",
       "Name: male_words, dtype: float64"
      ]
     },
     "execution_count": 19,
     "metadata": {},
     "output_type": "execute_result"
    }
   ],
   "source": [
    "df[\"male_words\"].describe()"
   ]
  },
  {
   "cell_type": "code",
   "execution_count": 20,
   "id": "ba63be0b",
   "metadata": {
    "scrolled": true
   },
   "outputs": [
    {
     "data": {
      "text/plain": [
       "count    72135.000000\n",
       "mean         0.046718\n",
       "std          0.333659\n",
       "min          0.000000\n",
       "25%          0.000000\n",
       "50%          0.000000\n",
       "75%          0.000000\n",
       "max         12.000000\n",
       "Name: female_words, dtype: float64"
      ]
     },
     "execution_count": 20,
     "metadata": {},
     "output_type": "execute_result"
    }
   ],
   "source": [
    "df[\"female_words\"].describe()"
   ]
  },
  {
   "cell_type": "markdown",
   "id": "7f1c91d3",
   "metadata": {},
   "source": [
    "What are the most male and female tweets in the dataset?"
   ]
  },
  {
   "cell_type": "code",
   "execution_count": 21,
   "id": "99507e8c",
   "metadata": {},
   "outputs": [
    {
     "data": {
      "text/plain": [
       "'Today on the bus there was a transgender woman and a lady literally moved seats to not have to sit next to her. So I moved seats to sit next to her. She realized that woman moved seats to avoid her and I could tell she was hurt.'"
      ]
     },
     "execution_count": 21,
     "metadata": {},
     "output_type": "execute_result"
    }
   ],
   "source": [
    "df.iloc[df[\"female_words\"].argmax()].text"
   ]
  },
  {
   "cell_type": "code",
   "execution_count": 22,
   "id": "d7896b20",
   "metadata": {},
   "outputs": [
    {
     "data": {
      "text/plain": [
       "'I texted my husband after my afternoon hike to see if he wanted Chipotle. He called me right after he got my text to let me know he was already in the parking lot and was just about to call and see if I wanted anything. So we ended up just meeting at Chipotle and eating together. It was nice.'"
      ]
     },
     "execution_count": 22,
     "metadata": {},
     "output_type": "execute_result"
    }
   ],
   "source": [
    "df.iloc[df[\"male_words\"].argmax()].text"
   ]
  },
  {
   "cell_type": "markdown",
   "id": "ed53fba8",
   "metadata": {},
   "source": [
    "# Sentiment analysis scores from Afinn"
   ]
  },
  {
   "cell_type": "code",
   "execution_count": 24,
   "id": "244e5638",
   "metadata": {},
   "outputs": [],
   "source": [
    "from afinn import Afinn\n",
    "afinn = Afinn(language='en')\n",
    "df[\"afinn\"] = df[\"text\"].apply(afinn.score)"
   ]
  },
  {
   "cell_type": "code",
   "execution_count": 25,
   "id": "2e222d2f",
   "metadata": {},
   "outputs": [
    {
     "data": {
      "text/html": [
       "<div>\n",
       "<style scoped>\n",
       "    .dataframe tbody tr th:only-of-type {\n",
       "        vertical-align: middle;\n",
       "    }\n",
       "\n",
       "    .dataframe tbody tr th {\n",
       "        vertical-align: top;\n",
       "    }\n",
       "\n",
       "    .dataframe thead th {\n",
       "        text-align: right;\n",
       "    }\n",
       "</style>\n",
       "<table border=\"1\" class=\"dataframe\">\n",
       "  <thead>\n",
       "    <tr style=\"text-align: right;\">\n",
       "      <th></th>\n",
       "      <th>Unnamed: 0.1</th>\n",
       "      <th>Unnamed: 0</th>\n",
       "      <th>text</th>\n",
       "      <th>positive_words</th>\n",
       "      <th>negative_words</th>\n",
       "      <th>length</th>\n",
       "      <th>word_count</th>\n",
       "      <th>male_words</th>\n",
       "      <th>female_words</th>\n",
       "      <th>afinn</th>\n",
       "    </tr>\n",
       "  </thead>\n",
       "  <tbody>\n",
       "    <tr>\n",
       "      <th>3955</th>\n",
       "      <td>3955</td>\n",
       "      <td>5969</td>\n",
       "      <td>whatdja major in?</td>\n",
       "      <td>0</td>\n",
       "      <td>0</td>\n",
       "      <td>17</td>\n",
       "      <td>3</td>\n",
       "      <td>0</td>\n",
       "      <td>0</td>\n",
       "      <td>0.0</td>\n",
       "    </tr>\n",
       "    <tr>\n",
       "      <th>66020</th>\n",
       "      <td>66020</td>\n",
       "      <td>40104</td>\n",
       "      <td>Ive tripped like crazy on an 8th before</td>\n",
       "      <td>1</td>\n",
       "      <td>1</td>\n",
       "      <td>39</td>\n",
       "      <td>8</td>\n",
       "      <td>0</td>\n",
       "      <td>0</td>\n",
       "      <td>0.0</td>\n",
       "    </tr>\n",
       "    <tr>\n",
       "      <th>5705</th>\n",
       "      <td>5705</td>\n",
       "      <td>8547</td>\n",
       "      <td>where he said</td>\n",
       "      <td>0</td>\n",
       "      <td>0</td>\n",
       "      <td>13</td>\n",
       "      <td>3</td>\n",
       "      <td>2</td>\n",
       "      <td>0</td>\n",
       "      <td>0.0</td>\n",
       "    </tr>\n",
       "    <tr>\n",
       "      <th>3374</th>\n",
       "      <td>3374</td>\n",
       "      <td>5126</td>\n",
       "      <td>What are you giving up/challenging yourself to...</td>\n",
       "      <td>0</td>\n",
       "      <td>0</td>\n",
       "      <td>82</td>\n",
       "      <td>14</td>\n",
       "      <td>0</td>\n",
       "      <td>0</td>\n",
       "      <td>0.0</td>\n",
       "    </tr>\n",
       "    <tr>\n",
       "      <th>52913</th>\n",
       "      <td>52913</td>\n",
       "      <td>1365</td>\n",
       "      <td>I'm with you there,_,</td>\n",
       "      <td>0</td>\n",
       "      <td>0</td>\n",
       "      <td>21</td>\n",
       "      <td>4</td>\n",
       "      <td>0</td>\n",
       "      <td>0</td>\n",
       "      <td>0.0</td>\n",
       "    </tr>\n",
       "    <tr>\n",
       "      <th>45266</th>\n",
       "      <td>45266</td>\n",
       "      <td>32642</td>\n",
       "      <td>Goddamnit. No.</td>\n",
       "      <td>0</td>\n",
       "      <td>0</td>\n",
       "      <td>14</td>\n",
       "      <td>2</td>\n",
       "      <td>0</td>\n",
       "      <td>0</td>\n",
       "      <td>-1.0</td>\n",
       "    </tr>\n",
       "    <tr>\n",
       "      <th>60270</th>\n",
       "      <td>60270</td>\n",
       "      <td>24177</td>\n",
       "      <td>Haha so why do you \"farm\" karma? And what make...</td>\n",
       "      <td>0</td>\n",
       "      <td>0</td>\n",
       "      <td>63</td>\n",
       "      <td>14</td>\n",
       "      <td>0</td>\n",
       "      <td>0</td>\n",
       "      <td>6.0</td>\n",
       "    </tr>\n",
       "    <tr>\n",
       "      <th>36615</th>\n",
       "      <td>36615</td>\n",
       "      <td>4060</td>\n",
       "      <td>If you ever need an ear, I am here. I have wor...</td>\n",
       "      <td>1</td>\n",
       "      <td>1</td>\n",
       "      <td>83</td>\n",
       "      <td>17</td>\n",
       "      <td>0</td>\n",
       "      <td>0</td>\n",
       "      <td>0.0</td>\n",
       "    </tr>\n",
       "    <tr>\n",
       "      <th>18315</th>\n",
       "      <td>18315</td>\n",
       "      <td>27674</td>\n",
       "      <td>Sounds like you might wanna get high</td>\n",
       "      <td>1</td>\n",
       "      <td>0</td>\n",
       "      <td>36</td>\n",
       "      <td>7</td>\n",
       "      <td>0</td>\n",
       "      <td>0</td>\n",
       "      <td>2.0</td>\n",
       "    </tr>\n",
       "    <tr>\n",
       "      <th>13695</th>\n",
       "      <td>13695</td>\n",
       "      <td>20446</td>\n",
       "      <td>I validate this comment</td>\n",
       "      <td>0</td>\n",
       "      <td>0</td>\n",
       "      <td>23</td>\n",
       "      <td>4</td>\n",
       "      <td>0</td>\n",
       "      <td>0</td>\n",
       "      <td>1.0</td>\n",
       "    </tr>\n",
       "  </tbody>\n",
       "</table>\n",
       "</div>"
      ],
      "text/plain": [
       "       Unnamed: 0.1  Unnamed: 0  \\\n",
       "3955           3955        5969   \n",
       "66020         66020       40104   \n",
       "5705           5705        8547   \n",
       "3374           3374        5126   \n",
       "52913         52913        1365   \n",
       "45266         45266       32642   \n",
       "60270         60270       24177   \n",
       "36615         36615        4060   \n",
       "18315         18315       27674   \n",
       "13695         13695       20446   \n",
       "\n",
       "                                                    text  positive_words  \\\n",
       "3955                                   whatdja major in?               0   \n",
       "66020            Ive tripped like crazy on an 8th before               1   \n",
       "5705                                       where he said               0   \n",
       "3374   What are you giving up/challenging yourself to...               0   \n",
       "52913                              I'm with you there,_,               0   \n",
       "45266                                     Goddamnit. No.               0   \n",
       "60270  Haha so why do you \"farm\" karma? And what make...               0   \n",
       "36615  If you ever need an ear, I am here. I have wor...               1   \n",
       "18315               Sounds like you might wanna get high               1   \n",
       "13695                            I validate this comment               0   \n",
       "\n",
       "       negative_words  length  word_count  male_words  female_words  afinn  \n",
       "3955                0      17           3           0             0    0.0  \n",
       "66020               1      39           8           0             0    0.0  \n",
       "5705                0      13           3           2             0    0.0  \n",
       "3374                0      82          14           0             0    0.0  \n",
       "52913               0      21           4           0             0    0.0  \n",
       "45266               0      14           2           0             0   -1.0  \n",
       "60270               0      63          14           0             0    6.0  \n",
       "36615               1      83          17           0             0    0.0  \n",
       "18315               0      36           7           0             0    2.0  \n",
       "13695               0      23           4           0             0    1.0  "
      ]
     },
     "execution_count": 25,
     "metadata": {},
     "output_type": "execute_result"
    }
   ],
   "source": [
    "df.sample(10)"
   ]
  },
  {
   "cell_type": "code",
   "execution_count": 27,
   "id": "40b18b99",
   "metadata": {
    "scrolled": true
   },
   "outputs": [
    {
     "ename": "KeyError",
     "evalue": "'a'",
     "output_type": "error",
     "traceback": [
      "\u001b[1;31m---------------------------------------------------------------------------\u001b[0m",
      "\u001b[1;31mKeyError\u001b[0m                                  Traceback (most recent call last)",
      "File \u001b[1;32m~\\anaconda3\\lib\\site-packages\\pandas\\core\\indexes\\base.py:3802\u001b[0m, in \u001b[0;36mIndex.get_loc\u001b[1;34m(self, key, method, tolerance)\u001b[0m\n\u001b[0;32m   3801\u001b[0m \u001b[38;5;28;01mtry\u001b[39;00m:\n\u001b[1;32m-> 3802\u001b[0m     \u001b[38;5;28;01mreturn\u001b[39;00m \u001b[38;5;28;43mself\u001b[39;49m\u001b[38;5;241;43m.\u001b[39;49m\u001b[43m_engine\u001b[49m\u001b[38;5;241;43m.\u001b[39;49m\u001b[43mget_loc\u001b[49m\u001b[43m(\u001b[49m\u001b[43mcasted_key\u001b[49m\u001b[43m)\u001b[49m\n\u001b[0;32m   3803\u001b[0m \u001b[38;5;28;01mexcept\u001b[39;00m \u001b[38;5;167;01mKeyError\u001b[39;00m \u001b[38;5;28;01mas\u001b[39;00m err:\n",
      "File \u001b[1;32m~\\anaconda3\\lib\\site-packages\\pandas\\_libs\\index.pyx:138\u001b[0m, in \u001b[0;36mpandas._libs.index.IndexEngine.get_loc\u001b[1;34m()\u001b[0m\n",
      "File \u001b[1;32m~\\anaconda3\\lib\\site-packages\\pandas\\_libs\\index.pyx:165\u001b[0m, in \u001b[0;36mpandas._libs.index.IndexEngine.get_loc\u001b[1;34m()\u001b[0m\n",
      "File \u001b[1;32mpandas\\_libs\\hashtable_class_helper.pxi:5745\u001b[0m, in \u001b[0;36mpandas._libs.hashtable.PyObjectHashTable.get_item\u001b[1;34m()\u001b[0m\n",
      "File \u001b[1;32mpandas\\_libs\\hashtable_class_helper.pxi:5753\u001b[0m, in \u001b[0;36mpandas._libs.hashtable.PyObjectHashTable.get_item\u001b[1;34m()\u001b[0m\n",
      "\u001b[1;31mKeyError\u001b[0m: 'a'",
      "\nThe above exception was the direct cause of the following exception:\n",
      "\u001b[1;31mKeyError\u001b[0m                                  Traceback (most recent call last)",
      "Cell \u001b[1;32mIn[27], line 1\u001b[0m\n\u001b[1;32m----> 1\u001b[0m \u001b[43mdf\u001b[49m\u001b[43m[\u001b[49m\u001b[38;5;124;43m\"\u001b[39;49m\u001b[38;5;124;43ma\u001b[39;49m\u001b[38;5;124;43m\"\u001b[39;49m\u001b[43m]\u001b[49m\n",
      "File \u001b[1;32m~\\anaconda3\\lib\\site-packages\\pandas\\core\\frame.py:3807\u001b[0m, in \u001b[0;36mDataFrame.__getitem__\u001b[1;34m(self, key)\u001b[0m\n\u001b[0;32m   3805\u001b[0m \u001b[38;5;28;01mif\u001b[39;00m \u001b[38;5;28mself\u001b[39m\u001b[38;5;241m.\u001b[39mcolumns\u001b[38;5;241m.\u001b[39mnlevels \u001b[38;5;241m>\u001b[39m \u001b[38;5;241m1\u001b[39m:\n\u001b[0;32m   3806\u001b[0m     \u001b[38;5;28;01mreturn\u001b[39;00m \u001b[38;5;28mself\u001b[39m\u001b[38;5;241m.\u001b[39m_getitem_multilevel(key)\n\u001b[1;32m-> 3807\u001b[0m indexer \u001b[38;5;241m=\u001b[39m \u001b[38;5;28;43mself\u001b[39;49m\u001b[38;5;241;43m.\u001b[39;49m\u001b[43mcolumns\u001b[49m\u001b[38;5;241;43m.\u001b[39;49m\u001b[43mget_loc\u001b[49m\u001b[43m(\u001b[49m\u001b[43mkey\u001b[49m\u001b[43m)\u001b[49m\n\u001b[0;32m   3808\u001b[0m \u001b[38;5;28;01mif\u001b[39;00m is_integer(indexer):\n\u001b[0;32m   3809\u001b[0m     indexer \u001b[38;5;241m=\u001b[39m [indexer]\n",
      "File \u001b[1;32m~\\anaconda3\\lib\\site-packages\\pandas\\core\\indexes\\base.py:3804\u001b[0m, in \u001b[0;36mIndex.get_loc\u001b[1;34m(self, key, method, tolerance)\u001b[0m\n\u001b[0;32m   3802\u001b[0m     \u001b[38;5;28;01mreturn\u001b[39;00m \u001b[38;5;28mself\u001b[39m\u001b[38;5;241m.\u001b[39m_engine\u001b[38;5;241m.\u001b[39mget_loc(casted_key)\n\u001b[0;32m   3803\u001b[0m \u001b[38;5;28;01mexcept\u001b[39;00m \u001b[38;5;167;01mKeyError\u001b[39;00m \u001b[38;5;28;01mas\u001b[39;00m err:\n\u001b[1;32m-> 3804\u001b[0m     \u001b[38;5;28;01mraise\u001b[39;00m \u001b[38;5;167;01mKeyError\u001b[39;00m(key) \u001b[38;5;28;01mfrom\u001b[39;00m \u001b[38;5;21;01merr\u001b[39;00m\n\u001b[0;32m   3805\u001b[0m \u001b[38;5;28;01mexcept\u001b[39;00m \u001b[38;5;167;01mTypeError\u001b[39;00m:\n\u001b[0;32m   3806\u001b[0m     \u001b[38;5;66;03m# If we have a listlike key, _check_indexing_error will raise\u001b[39;00m\n\u001b[0;32m   3807\u001b[0m     \u001b[38;5;66;03m#  InvalidIndexError. Otherwise we fall through and re-raise\u001b[39;00m\n\u001b[0;32m   3808\u001b[0m     \u001b[38;5;66;03m#  the TypeError.\u001b[39;00m\n\u001b[0;32m   3809\u001b[0m     \u001b[38;5;28mself\u001b[39m\u001b[38;5;241m.\u001b[39m_check_indexing_error(key)\n",
      "\u001b[1;31mKeyError\u001b[0m: 'a'"
     ]
    }
   ],
   "source": [
    "df[\"a\"]"
   ]
  },
  {
   "cell_type": "markdown",
   "id": "3b7593b5",
   "metadata": {},
   "source": [
    "# Save the resulting Dataframe!"
   ]
  },
  {
   "cell_type": "code",
   "execution_count": 26,
   "id": "bcbcdb50",
   "metadata": {},
   "outputs": [],
   "source": [
    "df.to_csv(\"reddit_with_features.csv\")"
   ]
  }
 ],
 "metadata": {
  "kernelspec": {
   "display_name": "Python 3 (ipykernel)",
   "language": "python",
   "name": "python3"
  },
  "language_info": {
   "codemirror_mode": {
    "name": "ipython",
    "version": 3
   },
   "file_extension": ".py",
   "mimetype": "text/x-python",
   "name": "python",
   "nbconvert_exporter": "python",
   "pygments_lexer": "ipython3",
   "version": "3.10.9"
  }
 },
 "nbformat": 4,
 "nbformat_minor": 5
}
