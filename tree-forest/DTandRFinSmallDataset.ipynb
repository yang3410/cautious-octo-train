{
 "cells": [
  {
   "cell_type": "code",
   "execution_count": 1,
   "id": "16d4970c-fd75-41b6-a815-2981ccd0e4b7",
   "metadata": {},
   "outputs": [],
   "source": [
    "import pandas as pd\n",
    "import numpy as np\n",
    "from sklearn.model_selection import train_test_split\n",
    "from sklearn.tree import DecisionTreeClassifier\n",
    "from sklearn.ensemble import RandomForestClassifier"
   ]
  },
  {
   "cell_type": "code",
   "execution_count": 2,
   "id": "c65ad6d3-441a-465a-8e3b-d98f498198d4",
   "metadata": {},
   "outputs": [
    {
     "data": {
      "text/plain": [
       "'/home/azizbg/Desktop/cautious-octo-train'"
      ]
     },
     "execution_count": 2,
     "metadata": {},
     "output_type": "execute_result"
    }
   ],
   "source": [
    "pwd"
   ]
  },
  {
   "cell_type": "code",
   "execution_count": 3,
   "id": "e6416579-1e2e-448c-99ec-23d7315f502b",
   "metadata": {},
   "outputs": [
    {
     "name": "stdout",
     "output_type": "stream",
     "text": [
      "/home/azizbg/Desktop/cautious-octo-train/full\n"
     ]
    }
   ],
   "source": [
    "cd full/"
   ]
  },
  {
   "cell_type": "code",
   "execution_count": 4,
   "id": "4927e179-bff6-4edd-ab5e-3fd909fb794d",
   "metadata": {},
   "outputs": [],
   "source": [
    "train = pd.read_csv('small_train_dataset.csv')\n",
    "test = pd.read_csv('small_test_dataset.csv')"
   ]
  },
  {
   "cell_type": "code",
   "execution_count": null,
   "id": "597d4888-fb63-454d-b9c6-f946aaef5fcf",
   "metadata": {},
   "outputs": [],
   "source": []
  },
  {
   "cell_type": "code",
   "execution_count": 5,
   "id": "44ff59b6-2d05-4278-b4b2-09e55257083d",
   "metadata": {},
   "outputs": [],
   "source": [
    "train = train.dropna()\n",
    "test = test.dropna()"
   ]
  },
  {
   "cell_type": "code",
   "execution_count": 6,
   "id": "dac7397a-3358-4b54-90ec-784953ec534e",
   "metadata": {},
   "outputs": [],
   "source": [
    "X_train = train[['positive_words', 'negative_words', 'length', 'word_count', 'male_words', 'female_words', 'afinn', 'positivity_normalized', 'intensity_normalized']]\n",
    "X_test = test[['positive_words', 'negative_words', 'length', 'word_count', 'male_words', 'female_words', 'afinn', 'positivity_normalized', 'intensity_normalized']]\n",
    "y_train = train['platform']\n",
    "y_test = test['platform']"
   ]
  },
  {
   "cell_type": "code",
   "execution_count": 7,
   "id": "6eac9760-fa33-4b99-8fe4-9b2483e30e7c",
   "metadata": {},
   "outputs": [],
   "source": [
    "model1 = DecisionTreeClassifier(max_depth = 10)"
   ]
  },
  {
   "cell_type": "code",
   "execution_count": 8,
   "id": "b6893ee9-3825-4d83-9138-6450ea79cf1e",
   "metadata": {},
   "outputs": [
    {
     "data": {
      "text/html": [
       "<style>#sk-container-id-1 {color: black;background-color: white;}#sk-container-id-1 pre{padding: 0;}#sk-container-id-1 div.sk-toggleable {background-color: white;}#sk-container-id-1 label.sk-toggleable__label {cursor: pointer;display: block;width: 100%;margin-bottom: 0;padding: 0.3em;box-sizing: border-box;text-align: center;}#sk-container-id-1 label.sk-toggleable__label-arrow:before {content: \"▸\";float: left;margin-right: 0.25em;color: #696969;}#sk-container-id-1 label.sk-toggleable__label-arrow:hover:before {color: black;}#sk-container-id-1 div.sk-estimator:hover label.sk-toggleable__label-arrow:before {color: black;}#sk-container-id-1 div.sk-toggleable__content {max-height: 0;max-width: 0;overflow: hidden;text-align: left;background-color: #f0f8ff;}#sk-container-id-1 div.sk-toggleable__content pre {margin: 0.2em;color: black;border-radius: 0.25em;background-color: #f0f8ff;}#sk-container-id-1 input.sk-toggleable__control:checked~div.sk-toggleable__content {max-height: 200px;max-width: 100%;overflow: auto;}#sk-container-id-1 input.sk-toggleable__control:checked~label.sk-toggleable__label-arrow:before {content: \"▾\";}#sk-container-id-1 div.sk-estimator input.sk-toggleable__control:checked~label.sk-toggleable__label {background-color: #d4ebff;}#sk-container-id-1 div.sk-label input.sk-toggleable__control:checked~label.sk-toggleable__label {background-color: #d4ebff;}#sk-container-id-1 input.sk-hidden--visually {border: 0;clip: rect(1px 1px 1px 1px);clip: rect(1px, 1px, 1px, 1px);height: 1px;margin: -1px;overflow: hidden;padding: 0;position: absolute;width: 1px;}#sk-container-id-1 div.sk-estimator {font-family: monospace;background-color: #f0f8ff;border: 1px dotted black;border-radius: 0.25em;box-sizing: border-box;margin-bottom: 0.5em;}#sk-container-id-1 div.sk-estimator:hover {background-color: #d4ebff;}#sk-container-id-1 div.sk-parallel-item::after {content: \"\";width: 100%;border-bottom: 1px solid gray;flex-grow: 1;}#sk-container-id-1 div.sk-label:hover label.sk-toggleable__label {background-color: #d4ebff;}#sk-container-id-1 div.sk-serial::before {content: \"\";position: absolute;border-left: 1px solid gray;box-sizing: border-box;top: 0;bottom: 0;left: 50%;z-index: 0;}#sk-container-id-1 div.sk-serial {display: flex;flex-direction: column;align-items: center;background-color: white;padding-right: 0.2em;padding-left: 0.2em;position: relative;}#sk-container-id-1 div.sk-item {position: relative;z-index: 1;}#sk-container-id-1 div.sk-parallel {display: flex;align-items: stretch;justify-content: center;background-color: white;position: relative;}#sk-container-id-1 div.sk-item::before, #sk-container-id-1 div.sk-parallel-item::before {content: \"\";position: absolute;border-left: 1px solid gray;box-sizing: border-box;top: 0;bottom: 0;left: 50%;z-index: -1;}#sk-container-id-1 div.sk-parallel-item {display: flex;flex-direction: column;z-index: 1;position: relative;background-color: white;}#sk-container-id-1 div.sk-parallel-item:first-child::after {align-self: flex-end;width: 50%;}#sk-container-id-1 div.sk-parallel-item:last-child::after {align-self: flex-start;width: 50%;}#sk-container-id-1 div.sk-parallel-item:only-child::after {width: 0;}#sk-container-id-1 div.sk-dashed-wrapped {border: 1px dashed gray;margin: 0 0.4em 0.5em 0.4em;box-sizing: border-box;padding-bottom: 0.4em;background-color: white;}#sk-container-id-1 div.sk-label label {font-family: monospace;font-weight: bold;display: inline-block;line-height: 1.2em;}#sk-container-id-1 div.sk-label-container {text-align: center;}#sk-container-id-1 div.sk-container {/* jupyter's `normalize.less` sets `[hidden] { display: none; }` but bootstrap.min.css set `[hidden] { display: none !important; }` so we also need the `!important` here to be able to override the default hidden behavior on the sphinx rendered scikit-learn.org. See: https://github.com/scikit-learn/scikit-learn/issues/21755 */display: inline-block !important;position: relative;}#sk-container-id-1 div.sk-text-repr-fallback {display: none;}</style><div id=\"sk-container-id-1\" class=\"sk-top-container\"><div class=\"sk-text-repr-fallback\"><pre>DecisionTreeClassifier(max_depth=10)</pre><b>In a Jupyter environment, please rerun this cell to show the HTML representation or trust the notebook. <br />On GitHub, the HTML representation is unable to render, please try loading this page with nbviewer.org.</b></div><div class=\"sk-container\" hidden><div class=\"sk-item\"><div class=\"sk-estimator sk-toggleable\"><input class=\"sk-toggleable__control sk-hidden--visually\" id=\"sk-estimator-id-1\" type=\"checkbox\" checked><label for=\"sk-estimator-id-1\" class=\"sk-toggleable__label sk-toggleable__label-arrow\">DecisionTreeClassifier</label><div class=\"sk-toggleable__content\"><pre>DecisionTreeClassifier(max_depth=10)</pre></div></div></div></div></div>"
      ],
      "text/plain": [
       "DecisionTreeClassifier(max_depth=10)"
      ]
     },
     "execution_count": 8,
     "metadata": {},
     "output_type": "execute_result"
    }
   ],
   "source": [
    "model1.fit(X_train, y_train)"
   ]
  },
  {
   "cell_type": "code",
   "execution_count": 9,
   "id": "8ed9f6b6-dd10-417c-88b8-2c3f6dc694ef",
   "metadata": {},
   "outputs": [],
   "source": [
    "y_pred1 = model1.predict(X_test)"
   ]
  },
  {
   "cell_type": "code",
   "execution_count": 10,
   "id": "ae6e881e-8938-4e01-980a-c5df9d83d8c3",
   "metadata": {},
   "outputs": [],
   "source": [
    "from sklearn.metrics import accuracy_score, confusion_matrix, precision_score, recall_score, ConfusionMatrixDisplay"
   ]
  },
  {
   "cell_type": "code",
   "execution_count": 11,
   "id": "8676ac0b-26f5-4434-84dc-4ac05ffcc74d",
   "metadata": {},
   "outputs": [
    {
     "name": "stdout",
     "output_type": "stream",
     "text": [
      "Accuracy: 0.4132478159902687\n"
     ]
    }
   ],
   "source": [
    "accuracy1 = accuracy_score(y_test, y_pred1)\n",
    "print(\"Accuracy:\", accuracy1)"
   ]
  },
  {
   "cell_type": "code",
   "execution_count": 12,
   "id": "85917e6d-8a09-437b-8cba-3b2b8e430195",
   "metadata": {},
   "outputs": [
    {
     "name": "stdout",
     "output_type": "stream",
     "text": [
      "Accuracy: 0.40351653212429506\n"
     ]
    }
   ],
   "source": [
    "model2 = DecisionTreeClassifier(max_depth = 3)\n",
    "model2.fit(X_train, y_train)\n",
    "y_pred2 = model2.predict(X_test)\n",
    "accuracy2 = accuracy_score(y_test, y_pred2)\n",
    "print(\"Accuracy:\", accuracy2)"
   ]
  },
  {
   "cell_type": "code",
   "execution_count": 13,
   "id": "2ad84041-2b5e-4603-b9d7-2e798e94f311",
   "metadata": {},
   "outputs": [
    {
     "name": "stdout",
     "output_type": "stream",
     "text": [
      "Accuracy: 0.4150171403295367\n"
     ]
    }
   ],
   "source": [
    "model4 = DecisionTreeClassifier(max_depth = 8)\n",
    "model4.fit(X_train, y_train)\n",
    "y_pred4 = model4.predict(X_test)\n",
    "accuracy4 = accuracy_score(y_test, y_pred4)\n",
    "print(\"Accuracy:\", accuracy4)"
   ]
  },
  {
   "cell_type": "code",
   "execution_count": 14,
   "id": "c27749f9-944e-4a21-8174-b8f6e68d3f39",
   "metadata": {},
   "outputs": [
    {
     "name": "stdout",
     "output_type": "stream",
     "text": [
      "Accuracy: 0.3844962954771647\n"
     ]
    }
   ],
   "source": [
    "model3 = RandomForestClassifier()\n",
    "model3.fit(X_train, y_train)\n",
    "y_pred3 = model3.predict(X_test)\n",
    "accuracy3 = accuracy_score(y_test, y_pred3)\n",
    "print(\"Accuracy:\", accuracy3)"
   ]
  },
  {
   "cell_type": "code",
   "execution_count": 15,
   "id": "0e0f67a2-00c1-4b61-8972-3b870715d16e",
   "metadata": {},
   "outputs": [
    {
     "name": "stdout",
     "output_type": "stream",
     "text": [
      "Accuracy: 0.4238637620258764\n"
     ]
    }
   ],
   "source": [
    "model5 = RandomForestClassifier(n_estimators = 155, max_depth = 10, criterion='gini', max_features = None)\n",
    "model5.fit(X_train, y_train)\n",
    "y_pred5 = model5.predict(X_test)\n",
    "accuracy5 = accuracy_score(y_test, y_pred5)\n",
    "print(\"Accuracy:\", accuracy5)"
   ]
  },
  {
   "cell_type": "code",
   "execution_count": 16,
   "id": "179b0e9f-5c42-434e-9b11-05faff6a91cf",
   "metadata": {},
   "outputs": [],
   "source": [
    "from sklearn.model_selection import GridSearchCV"
   ]
  },
  {
   "cell_type": "code",
   "execution_count": 25,
   "id": "4f3da522-1ff3-4b3d-8088-24c4fef1cfca",
   "metadata": {},
   "outputs": [],
   "source": [
    "param_grid = {\n",
    "    'bootstrap': [True],\n",
    "    'criterion': ['gini', 'entropy', 'log_loss'],\n",
    "    'n_estimators': [10,20,30,40,50,60]\n",
    "}"
   ]
  },
  {
   "cell_type": "code",
   "execution_count": 26,
   "id": "024482ad-8bb4-472f-a274-fc1942e137f7",
   "metadata": {},
   "outputs": [],
   "source": [
    "rf = RandomForestClassifier()\n",
    "grid_search = GridSearchCV(estimator = rf, param_grid = param_grid, \n",
    "                          cv = 3, n_jobs = -1, verbose = 2)"
   ]
  },
  {
   "cell_type": "code",
   "execution_count": 27,
   "id": "9ce83cc6-aedd-4132-9c2e-611233d34b45",
   "metadata": {},
   "outputs": [
    {
     "name": "stdout",
     "output_type": "stream",
     "text": [
      "Fitting 3 folds for each of 18 candidates, totalling 54 fits\n"
     ]
    },
    {
     "data": {
      "text/html": [
       "<style>#sk-container-id-4 {color: black;background-color: white;}#sk-container-id-4 pre{padding: 0;}#sk-container-id-4 div.sk-toggleable {background-color: white;}#sk-container-id-4 label.sk-toggleable__label {cursor: pointer;display: block;width: 100%;margin-bottom: 0;padding: 0.3em;box-sizing: border-box;text-align: center;}#sk-container-id-4 label.sk-toggleable__label-arrow:before {content: \"▸\";float: left;margin-right: 0.25em;color: #696969;}#sk-container-id-4 label.sk-toggleable__label-arrow:hover:before {color: black;}#sk-container-id-4 div.sk-estimator:hover label.sk-toggleable__label-arrow:before {color: black;}#sk-container-id-4 div.sk-toggleable__content {max-height: 0;max-width: 0;overflow: hidden;text-align: left;background-color: #f0f8ff;}#sk-container-id-4 div.sk-toggleable__content pre {margin: 0.2em;color: black;border-radius: 0.25em;background-color: #f0f8ff;}#sk-container-id-4 input.sk-toggleable__control:checked~div.sk-toggleable__content {max-height: 200px;max-width: 100%;overflow: auto;}#sk-container-id-4 input.sk-toggleable__control:checked~label.sk-toggleable__label-arrow:before {content: \"▾\";}#sk-container-id-4 div.sk-estimator input.sk-toggleable__control:checked~label.sk-toggleable__label {background-color: #d4ebff;}#sk-container-id-4 div.sk-label input.sk-toggleable__control:checked~label.sk-toggleable__label {background-color: #d4ebff;}#sk-container-id-4 input.sk-hidden--visually {border: 0;clip: rect(1px 1px 1px 1px);clip: rect(1px, 1px, 1px, 1px);height: 1px;margin: -1px;overflow: hidden;padding: 0;position: absolute;width: 1px;}#sk-container-id-4 div.sk-estimator {font-family: monospace;background-color: #f0f8ff;border: 1px dotted black;border-radius: 0.25em;box-sizing: border-box;margin-bottom: 0.5em;}#sk-container-id-4 div.sk-estimator:hover {background-color: #d4ebff;}#sk-container-id-4 div.sk-parallel-item::after {content: \"\";width: 100%;border-bottom: 1px solid gray;flex-grow: 1;}#sk-container-id-4 div.sk-label:hover label.sk-toggleable__label {background-color: #d4ebff;}#sk-container-id-4 div.sk-serial::before {content: \"\";position: absolute;border-left: 1px solid gray;box-sizing: border-box;top: 0;bottom: 0;left: 50%;z-index: 0;}#sk-container-id-4 div.sk-serial {display: flex;flex-direction: column;align-items: center;background-color: white;padding-right: 0.2em;padding-left: 0.2em;position: relative;}#sk-container-id-4 div.sk-item {position: relative;z-index: 1;}#sk-container-id-4 div.sk-parallel {display: flex;align-items: stretch;justify-content: center;background-color: white;position: relative;}#sk-container-id-4 div.sk-item::before, #sk-container-id-4 div.sk-parallel-item::before {content: \"\";position: absolute;border-left: 1px solid gray;box-sizing: border-box;top: 0;bottom: 0;left: 50%;z-index: -1;}#sk-container-id-4 div.sk-parallel-item {display: flex;flex-direction: column;z-index: 1;position: relative;background-color: white;}#sk-container-id-4 div.sk-parallel-item:first-child::after {align-self: flex-end;width: 50%;}#sk-container-id-4 div.sk-parallel-item:last-child::after {align-self: flex-start;width: 50%;}#sk-container-id-4 div.sk-parallel-item:only-child::after {width: 0;}#sk-container-id-4 div.sk-dashed-wrapped {border: 1px dashed gray;margin: 0 0.4em 0.5em 0.4em;box-sizing: border-box;padding-bottom: 0.4em;background-color: white;}#sk-container-id-4 div.sk-label label {font-family: monospace;font-weight: bold;display: inline-block;line-height: 1.2em;}#sk-container-id-4 div.sk-label-container {text-align: center;}#sk-container-id-4 div.sk-container {/* jupyter's `normalize.less` sets `[hidden] { display: none; }` but bootstrap.min.css set `[hidden] { display: none !important; }` so we also need the `!important` here to be able to override the default hidden behavior on the sphinx rendered scikit-learn.org. See: https://github.com/scikit-learn/scikit-learn/issues/21755 */display: inline-block !important;position: relative;}#sk-container-id-4 div.sk-text-repr-fallback {display: none;}</style><div id=\"sk-container-id-4\" class=\"sk-top-container\"><div class=\"sk-text-repr-fallback\"><pre>GridSearchCV(cv=3, estimator=RandomForestClassifier(), n_jobs=-1,\n",
       "             param_grid={&#x27;bootstrap&#x27;: [True],\n",
       "                         &#x27;criterion&#x27;: [&#x27;gini&#x27;, &#x27;entropy&#x27;, &#x27;log_loss&#x27;],\n",
       "                         &#x27;n_estimators&#x27;: [10, 20, 30, 40, 50, 60]},\n",
       "             verbose=2)</pre><b>In a Jupyter environment, please rerun this cell to show the HTML representation or trust the notebook. <br />On GitHub, the HTML representation is unable to render, please try loading this page with nbviewer.org.</b></div><div class=\"sk-container\" hidden><div class=\"sk-item sk-dashed-wrapped\"><div class=\"sk-label-container\"><div class=\"sk-label sk-toggleable\"><input class=\"sk-toggleable__control sk-hidden--visually\" id=\"sk-estimator-id-8\" type=\"checkbox\" ><label for=\"sk-estimator-id-8\" class=\"sk-toggleable__label sk-toggleable__label-arrow\">GridSearchCV</label><div class=\"sk-toggleable__content\"><pre>GridSearchCV(cv=3, estimator=RandomForestClassifier(), n_jobs=-1,\n",
       "             param_grid={&#x27;bootstrap&#x27;: [True],\n",
       "                         &#x27;criterion&#x27;: [&#x27;gini&#x27;, &#x27;entropy&#x27;, &#x27;log_loss&#x27;],\n",
       "                         &#x27;n_estimators&#x27;: [10, 20, 30, 40, 50, 60]},\n",
       "             verbose=2)</pre></div></div></div><div class=\"sk-parallel\"><div class=\"sk-parallel-item\"><div class=\"sk-item\"><div class=\"sk-label-container\"><div class=\"sk-label sk-toggleable\"><input class=\"sk-toggleable__control sk-hidden--visually\" id=\"sk-estimator-id-9\" type=\"checkbox\" ><label for=\"sk-estimator-id-9\" class=\"sk-toggleable__label sk-toggleable__label-arrow\">estimator: RandomForestClassifier</label><div class=\"sk-toggleable__content\"><pre>RandomForestClassifier()</pre></div></div></div><div class=\"sk-serial\"><div class=\"sk-item\"><div class=\"sk-estimator sk-toggleable\"><input class=\"sk-toggleable__control sk-hidden--visually\" id=\"sk-estimator-id-10\" type=\"checkbox\" ><label for=\"sk-estimator-id-10\" class=\"sk-toggleable__label sk-toggleable__label-arrow\">RandomForestClassifier</label><div class=\"sk-toggleable__content\"><pre>RandomForestClassifier()</pre></div></div></div></div></div></div></div></div></div></div>"
      ],
      "text/plain": [
       "GridSearchCV(cv=3, estimator=RandomForestClassifier(), n_jobs=-1,\n",
       "             param_grid={'bootstrap': [True],\n",
       "                         'criterion': ['gini', 'entropy', 'log_loss'],\n",
       "                         'n_estimators': [10, 20, 30, 40, 50, 60]},\n",
       "             verbose=2)"
      ]
     },
     "execution_count": 27,
     "metadata": {},
     "output_type": "execute_result"
    }
   ],
   "source": [
    "grid_search.fit(X_train, y_train)"
   ]
  },
  {
   "cell_type": "code",
   "execution_count": 28,
   "id": "caa1ea03-e7df-4081-9413-f8b3b2714947",
   "metadata": {},
   "outputs": [
    {
     "data": {
      "text/plain": [
       "{'bootstrap': True, 'criterion': 'gini', 'n_estimators': 30}"
      ]
     },
     "execution_count": 28,
     "metadata": {},
     "output_type": "execute_result"
    }
   ],
   "source": [
    "grid_search.best_params_"
   ]
  },
  {
   "cell_type": "code",
   "execution_count": 31,
   "id": "1ef76bd6-b739-41c4-bebb-50c5bfb35a17",
   "metadata": {},
   "outputs": [
    {
     "name": "stdout",
     "output_type": "stream",
     "text": [
      "Accuracy: 0.3870396992148623\n",
      "[CV] END ....bootstrap=True, criterion=gini, n_estimators=10; total time=   0.5s\n",
      "[CV] END .bootstrap=True, criterion=entropy, n_estimators=20; total time=   1.0s\n",
      "[CV] END ....bootstrap=True, criterion=gini, n_estimators=20; total time=   1.2s\n",
      "[CV] END ....bootstrap=True, criterion=gini, n_estimators=40; total time=   2.1s\n",
      "[CV] END bootstrap=True, criterion=log_loss, n_estimators=10; total time=   0.6s\n",
      "[CV] END bootstrap=True, criterion=log_loss, n_estimators=10; total time=   0.6s\n",
      "[CV] END bootstrap=True, criterion=log_loss, n_estimators=30; total time=   1.5s\n",
      "[CV] END ....bootstrap=True, criterion=gini, n_estimators=20; total time=   1.2s\n",
      "[CV] END ....bootstrap=True, criterion=gini, n_estimators=40; total time=   2.3s\n",
      "[CV] END .bootstrap=True, criterion=entropy, n_estimators=10; total time=   0.7s\n",
      "[CV] END .bootstrap=True, criterion=entropy, n_estimators=10; total time=   0.6s\n",
      "[CV] END .bootstrap=True, criterion=entropy, n_estimators=30; total time=   1.5s\n",
      "[CV] END .bootstrap=True, criterion=entropy, n_estimators=60; total time=   2.9s\n",
      "[CV] END bootstrap=True, criterion=log_loss, n_estimators=40; total time=   1.9s\n",
      "[CV] END ....bootstrap=True, criterion=gini, n_estimators=20; total time=   1.0s\n",
      "[CV] END bootstrap=True, criterion=log_loss, n_estimators=10; total time=   0.6s\n",
      "[CV] END ....bootstrap=True, criterion=gini, n_estimators=10; total time=   0.7s\n",
      "[CV] END ....bootstrap=True, criterion=gini, n_estimators=40; total time=   2.2s\n",
      "[CV] END .bootstrap=True, criterion=entropy, n_estimators=30; total time=   1.5s\n",
      "[CV] END bootstrap=True, criterion=log_loss, n_estimators=30; total time=   1.3s\n",
      "[CV] END ....bootstrap=True, criterion=gini, n_estimators=10; total time=   0.7s\n",
      "[CV] END ....bootstrap=True, criterion=gini, n_estimators=40; total time=   2.9s\n",
      "[CV] END .bootstrap=True, criterion=entropy, n_estimators=10; total time=   0.7s\n",
      "[CV] END .bootstrap=True, criterion=entropy, n_estimators=20; total time=   1.1s\n",
      "[CV] END .bootstrap=True, criterion=entropy, n_estimators=40; total time=   2.0s\n",
      "[CV] END bootstrap=True, criterion=log_loss, n_estimators=10; total time=   0.6s\n",
      "[CV] END bootstrap=True, criterion=log_loss, n_estimators=10; total time=   0.5s\n",
      "[CV] END bootstrap=True, criterion=log_loss, n_estimators=20; total time=   1.0s\n",
      "[CV] END bootstrap=True, criterion=log_loss, n_estimators=40; total time=   1.9s\n",
      "[CV] END .bootstrap=True, criterion=entropy, n_estimators=10; total time=   0.6s\n",
      "[CV] END bootstrap=True, criterion=log_loss, n_estimators=10; total time=   0.6s\n",
      "[CV] END bootstrap=True, criterion=log_loss, n_estimators=20; total time=   0.7s\n",
      "[CV] END ....bootstrap=True, criterion=gini, n_estimators=30; total time=   1.9s\n",
      "[CV] END .bootstrap=True, criterion=entropy, n_estimators=20; total time=   1.2s\n",
      "[CV] END .bootstrap=True, criterion=entropy, n_estimators=40; total time=   2.0s\n",
      "[CV] END bootstrap=True, criterion=log_loss, n_estimators=40; total time=   1.4s\n",
      "[CV] END ....bootstrap=True, criterion=gini, n_estimators=30; total time=   1.8s\n",
      "[CV] END ....bootstrap=True, criterion=gini, n_estimators=60; total time=   3.3s\n",
      "[CV] END .bootstrap=True, criterion=entropy, n_estimators=30; total time=   1.5s\n",
      "[CV] END .bootstrap=True, criterion=entropy, n_estimators=60; total time=   3.0s\n",
      "[CV] END bootstrap=True, criterion=log_loss, n_estimators=50; total time=   2.2s\n",
      "[CV] END ....bootstrap=True, criterion=gini, n_estimators=10; total time=   0.5s\n",
      "[CV] END .bootstrap=True, criterion=entropy, n_estimators=20; total time=   1.1s\n",
      "[CV] END ....bootstrap=True, criterion=gini, n_estimators=10; total time=   0.6s\n",
      "[CV] END ....bootstrap=True, criterion=gini, n_estimators=30; total time=   1.8s\n",
      "[CV] END .bootstrap=True, criterion=entropy, n_estimators=30; total time=   1.5s\n",
      "[CV] END bootstrap=True, criterion=log_loss, n_estimators=20; total time=   1.0s\n",
      "[CV] END bootstrap=True, criterion=log_loss, n_estimators=40; total time=   1.5s\n",
      "[CV] END ....bootstrap=True, criterion=gini, n_estimators=30; total time=   1.8s\n",
      "[CV] END ....bootstrap=True, criterion=gini, n_estimators=50; total time=   2.9s\n",
      "[CV] END .bootstrap=True, criterion=entropy, n_estimators=30; total time=   1.5s\n",
      "[CV] END .bootstrap=True, criterion=entropy, n_estimators=50; total time=   2.5s\n",
      "[CV] END bootstrap=True, criterion=log_loss, n_estimators=30; total time=   1.5s\n",
      "[CV] END bootstrap=True, criterion=log_loss, n_estimators=50; total time=   2.0s\n",
      "[CV] END ....bootstrap=True, criterion=gini, n_estimators=20; total time=   1.0s\n",
      "[CV] END bootstrap=True, criterion=log_loss, n_estimators=10; total time=   0.6s\n",
      "[CV] END ....bootstrap=True, criterion=gini, n_estimators=10; total time=   0.8s\n",
      "[CV] END ....bootstrap=True, criterion=gini, n_estimators=40; total time=   2.4s\n",
      "[CV] END .bootstrap=True, criterion=entropy, n_estimators=40; total time=   2.0s\n",
      "[CV] END ....bootstrap=True, criterion=gini, n_estimators=10; total time=   0.7s\n",
      "[CV] END ....bootstrap=True, criterion=gini, n_estimators=40; total time=   2.4s\n",
      "[CV] END ....bootstrap=True, criterion=gini, n_estimators=60; total time=   3.1s\n",
      "[CV] END .bootstrap=True, criterion=entropy, n_estimators=50; total time=   2.5s\n",
      "[CV] END bootstrap=True, criterion=log_loss, n_estimators=30; total time=   1.5s\n",
      "[CV] END bootstrap=True, criterion=log_loss, n_estimators=50; total time=   2.3s\n",
      "[CV] END ....bootstrap=True, criterion=gini, n_estimators=10; total time=   0.5s\n",
      "[CV] END .bootstrap=True, criterion=entropy, n_estimators=10; total time=   0.6s\n",
      "[CV] END bootstrap=True, criterion=log_loss, n_estimators=20; total time=   0.9s\n",
      "[CV] END ....bootstrap=True, criterion=gini, n_estimators=30; total time=   1.7s\n",
      "[CV] END .bootstrap=True, criterion=entropy, n_estimators=10; total time=   0.8s\n",
      "[CV] END .bootstrap=True, criterion=entropy, n_estimators=30; total time=   1.5s\n",
      "[CV] END bootstrap=True, criterion=log_loss, n_estimators=20; total time=   1.0s\n",
      "[CV] END bootstrap=True, criterion=log_loss, n_estimators=40; total time=   1.3s\n",
      "[CV] END ....bootstrap=True, criterion=gini, n_estimators=20; total time=   1.3s\n",
      "[CV] END ....bootstrap=True, criterion=gini, n_estimators=50; total time=   3.0s\n",
      "[CV] END .bootstrap=True, criterion=entropy, n_estimators=20; total time=   1.0s\n",
      "[CV] END .bootstrap=True, criterion=entropy, n_estimators=40; total time=   2.0s\n",
      "[CV] END .bootstrap=True, criterion=entropy, n_estimators=60; total time=   2.9s\n",
      "[CV] END bootstrap=True, criterion=log_loss, n_estimators=60; total time=   2.4s\n",
      "[CV] END ....bootstrap=True, criterion=gini, n_estimators=20; total time=   1.0s\n",
      "[CV] END bootstrap=True, criterion=log_loss, n_estimators=20; total time=   0.9s\n",
      "[CV] END ....bootstrap=True, criterion=gini, n_estimators=20; total time=   1.3s\n",
      "[CV] END .bootstrap=True, criterion=entropy, n_estimators=10; total time=   0.7s\n",
      "[CV] END .bootstrap=True, criterion=entropy, n_estimators=20; total time=   1.2s\n",
      "[CV] END bootstrap=True, criterion=log_loss, n_estimators=10; total time=   0.6s\n",
      "[CV] END bootstrap=True, criterion=log_loss, n_estimators=20; total time=   1.1s\n",
      "[CV] END bootstrap=True, criterion=log_loss, n_estimators=30; total time=   1.2s\n",
      "[CV] END ....bootstrap=True, criterion=gini, n_estimators=20; total time=   1.4s\n",
      "[CV] END ....bootstrap=True, criterion=gini, n_estimators=50; total time=   3.1s\n",
      "[CV] END .bootstrap=True, criterion=entropy, n_estimators=20; total time=   1.1s\n",
      "[CV] END .bootstrap=True, criterion=entropy, n_estimators=50; total time=   2.5s\n",
      "[CV] END bootstrap=True, criterion=log_loss, n_estimators=20; total time=   1.0s\n",
      "[CV] END bootstrap=True, criterion=log_loss, n_estimators=30; total time=   1.5s\n",
      "[CV] END bootstrap=True, criterion=log_loss, n_estimators=60; total time=   2.4s\n",
      "[CV] END .bootstrap=True, criterion=entropy, n_estimators=10; total time=   0.6s\n",
      "[CV] END .bootstrap=True, criterion=entropy, n_estimators=20; total time=   1.0s\n",
      "[CV] END ....bootstrap=True, criterion=gini, n_estimators=20; total time=   1.3s\n",
      "[CV] END .bootstrap=True, criterion=entropy, n_estimators=10; total time=   0.7s\n",
      "[CV] END .bootstrap=True, criterion=entropy, n_estimators=20; total time=   1.1s\n",
      "[CV] END .bootstrap=True, criterion=entropy, n_estimators=40; total time=   2.0s\n",
      "[CV] END ....bootstrap=True, criterion=gini, n_estimators=10; total time=   0.7s\n",
      "[CV] END ....bootstrap=True, criterion=gini, n_estimators=30; total time=   1.8s\n",
      "[CV] END ....bootstrap=True, criterion=gini, n_estimators=60; total time=   3.1s\n",
      "[CV] END .bootstrap=True, criterion=entropy, n_estimators=40; total time=   2.1s\n",
      "[CV] END bootstrap=True, criterion=log_loss, n_estimators=10; total time=   0.6s\n",
      "[CV] END bootstrap=True, criterion=log_loss, n_estimators=20; total time=   1.1s\n",
      "[CV] END bootstrap=True, criterion=log_loss, n_estimators=40; total time=   2.0s\n",
      "[CV] END bootstrap=True, criterion=log_loss, n_estimators=60; total time=   2.0s\n"
     ]
    }
   ],
   "source": [
    "bestRFmodel = RandomForestClassifier(bootstrap = True, criterion = 'gini', n_estimators = 30)\n",
    "bestRFmodel.fit(X_train, y_train)\n",
    "y_pred_bestRF = bestRFmodel.predict(X_test)\n",
    "accuracybestRF = accuracy_score(y_test, y_pred_bestRF)\n",
    "print(\"Accuracy:\", accuracybestRF)"
   ]
  },
  {
   "cell_type": "code",
   "execution_count": 32,
   "id": "f7c7b47c-1d0b-4449-9ec8-b77b0e79cfee",
   "metadata": {},
   "outputs": [
    {
     "data": {
      "text/plain": [
       "array([[1118,  748,  195,  200],\n",
       "       [ 514, 1346,  237,  163],\n",
       "       [ 298,  937,  898,  128],\n",
       "       [ 507,  851,  432,  471]])"
      ]
     },
     "execution_count": 32,
     "metadata": {},
     "output_type": "execute_result"
    }
   ],
   "source": [
    "confusion_matrix(y_test, y_pred5)"
   ]
  },
  {
   "cell_type": "code",
   "execution_count": null,
   "id": "fd52e776-38c3-4d5f-9381-af1979f4f7ee",
   "metadata": {},
   "outputs": [],
   "source": []
  },
  {
   "cell_type": "code",
   "execution_count": null,
   "id": "1a34cbac-7046-46bb-9cb4-7aaa1af9ad8e",
   "metadata": {},
   "outputs": [],
   "source": []
  }
 ],
 "metadata": {
  "kernelspec": {
   "display_name": "Python 3 (ipykernel)",
   "language": "python",
   "name": "python3"
  },
  "language_info": {
   "codemirror_mode": {
    "name": "ipython",
    "version": 3
   },
   "file_extension": ".py",
   "mimetype": "text/x-python",
   "name": "python",
   "nbconvert_exporter": "python",
   "pygments_lexer": "ipython3",
   "version": "3.11.3"
  }
 },
 "nbformat": 4,
 "nbformat_minor": 5
}
