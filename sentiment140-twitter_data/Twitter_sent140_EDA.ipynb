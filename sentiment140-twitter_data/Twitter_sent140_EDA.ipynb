{
 "cells": [
  {
   "cell_type": "code",
   "execution_count": 1,
   "id": "3b1d596d",
   "metadata": {},
   "outputs": [],
   "source": [
    "import pandas as pd\n",
    "import numpy as np\n",
    "import matplotlib.pyplot as plt\n",
    "import re"
   ]
  },
  {
   "cell_type": "code",
   "execution_count": 3,
   "id": "b80c2bcf",
   "metadata": {},
   "outputs": [
    {
     "data": {
      "text/html": [
       "<div>\n",
       "<style scoped>\n",
       "    .dataframe tbody tr th:only-of-type {\n",
       "        vertical-align: middle;\n",
       "    }\n",
       "\n",
       "    .dataframe tbody tr th {\n",
       "        vertical-align: top;\n",
       "    }\n",
       "\n",
       "    .dataframe thead th {\n",
       "        text-align: right;\n",
       "    }\n",
       "</style>\n",
       "<table border=\"1\" class=\"dataframe\">\n",
       "  <thead>\n",
       "    <tr style=\"text-align: right;\">\n",
       "      <th></th>\n",
       "      <th>post</th>\n",
       "    </tr>\n",
       "  </thead>\n",
       "  <tbody>\n",
       "    <tr>\n",
       "      <th>0</th>\n",
       "      <td>Had a good first days WE at the herald</td>\n",
       "    </tr>\n",
       "    <tr>\n",
       "      <th>1</th>\n",
       "      <td>whaat. making sure.. she's safe.</td>\n",
       "    </tr>\n",
       "    <tr>\n",
       "      <th>2</th>\n",
       "      <td>HAHAHAHAHAHA, Se ferrou!</td>\n",
       "    </tr>\n",
       "    <tr>\n",
       "      <th>3</th>\n",
       "      <td>Cant sleep with bad thoughts in my mind</td>\n",
       "    </tr>\n",
       "    <tr>\n",
       "      <th>4</th>\n",
       "      <td>so tired and sick of trains, tho getting on an...</td>\n",
       "    </tr>\n",
       "  </tbody>\n",
       "</table>\n",
       "</div>"
      ],
      "text/plain": [
       "                                                post\n",
       "0            Had a good first days WE at the herald \n",
       "1                  whaat. making sure.. she's safe. \n",
       "2                          HAHAHAHAHAHA, Se ferrou! \n",
       "3           Cant sleep with bad thoughts in my mind \n",
       "4  so tired and sick of trains, tho getting on an..."
      ]
     },
     "execution_count": 3,
     "metadata": {},
     "output_type": "execute_result"
    }
   ],
   "source": [
    "#Read in data\n",
    "df = pd.read_csv(\"twitter-sentiment140-350k.csv\")\n",
    "df.head(5)"
   ]
  },
  {
   "cell_type": "code",
   "execution_count": 4,
   "id": "361d6982",
   "metadata": {},
   "outputs": [],
   "source": [
    "# Some extra cleaning. Replacing html ampersand codes.\n",
    "from w3lib.html import replace_entities\n",
    "df[\"post\"] = df[\"post\"].astype(str)\n",
    "df[\"post\"] = df[\"post\"].apply(replace_entities)"
   ]
  },
  {
   "cell_type": "markdown",
   "id": "99283f76",
   "metadata": {},
   "source": [
    "# Positive/Negative Word Counts\n",
    "Positive and negative word lists pulled from https://ptrckprry.com/course/ssd/data/positive-words.txt\n",
    "and https://ptrckprry.com/course/ssd/data/negative-words.txt\n",
    "respectively.\n",
    "\n",
    "First we read in the word lists and set up functions that will count their occurences."
   ]
  },
  {
   "cell_type": "code",
   "execution_count": 6,
   "id": "7283b7dd",
   "metadata": {},
   "outputs": [],
   "source": [
    "with open(\"wordLists/positive_words.txt\",'r') as file:\n",
    "    positive_words = file.read().splitlines()\n",
    "\n",
    "with open(\"wordLists/negative_words.txt\",'r') as file:\n",
    "    negative_words = file.read().splitlines()"
   ]
  },
  {
   "cell_type": "code",
   "execution_count": 7,
   "id": "35209d9d",
   "metadata": {},
   "outputs": [
    {
     "name": "stdout",
     "output_type": "stream",
     "text": [
      "2006\n",
      "4783\n"
     ]
    }
   ],
   "source": [
    "print(len(positive_words))\n",
    "print(len(negative_words))"
   ]
  },
  {
   "cell_type": "code",
   "execution_count": 8,
   "id": "6c6a5750",
   "metadata": {},
   "outputs": [],
   "source": [
    "#Functions that count the occurences of positive/negative words in a text string\n",
    "def count_positive(text):\n",
    "    counter = 0\n",
    "    for word in positive_words:\n",
    "        counter += text.lower().split().count(word)\n",
    "    return counter\n",
    "def count_negative(text):\n",
    "    counter = 0\n",
    "    for word in negative_words:\n",
    "        counter += text.lower().split().count(word)\n",
    "    return counter"
   ]
  },
  {
   "cell_type": "markdown",
   "id": "b57ebe78",
   "metadata": {},
   "source": [
    "We create the new features (this takes a minute to run)"
   ]
  },
  {
   "cell_type": "code",
   "execution_count": 9,
   "id": "7105f725",
   "metadata": {},
   "outputs": [],
   "source": [
    "df[\"positive_words\"] = df[\"post\"].apply(count_positive)"
   ]
  },
  {
   "cell_type": "code",
   "execution_count": 10,
   "id": "e62fe9ba",
   "metadata": {},
   "outputs": [],
   "source": [
    "df[\"negative_words\"] = df[\"post\"].apply(count_negative)"
   ]
  },
  {
   "cell_type": "markdown",
   "id": "432816f4",
   "metadata": {},
   "source": [
    "Look at some stats"
   ]
  },
  {
   "cell_type": "code",
   "execution_count": 11,
   "id": "2a9b7667",
   "metadata": {},
   "outputs": [
    {
     "data": {
      "text/plain": [
       "count    349388.000000\n",
       "mean          0.505364\n",
       "std           0.744097\n",
       "min           0.000000\n",
       "25%           0.000000\n",
       "50%           0.000000\n",
       "75%           1.000000\n",
       "max          11.000000\n",
       "Name: positive_words, dtype: float64"
      ]
     },
     "execution_count": 11,
     "metadata": {},
     "output_type": "execute_result"
    }
   ],
   "source": [
    "df.positive_words.describe()"
   ]
  },
  {
   "cell_type": "code",
   "execution_count": 12,
   "id": "f964bbc2",
   "metadata": {
    "scrolled": true
   },
   "outputs": [
    {
     "data": {
      "text/plain": [
       "count    349388.000000\n",
       "mean          0.356895\n",
       "std           0.634013\n",
       "min           0.000000\n",
       "25%           0.000000\n",
       "50%           0.000000\n",
       "75%           1.000000\n",
       "max          10.000000\n",
       "Name: negative_words, dtype: float64"
      ]
     },
     "execution_count": 12,
     "metadata": {},
     "output_type": "execute_result"
    }
   ],
   "source": [
    "df.negative_words.describe()"
   ]
  },
  {
   "cell_type": "markdown",
   "id": "2ca13fae",
   "metadata": {},
   "source": [
    "What are the most positive and negative tweets?"
   ]
  },
  {
   "cell_type": "code",
   "execution_count": 13,
   "id": "7f5768d3",
   "metadata": {},
   "outputs": [],
   "source": [
    "most_positive = df[\"positive_words\"].argmax()"
   ]
  },
  {
   "cell_type": "code",
   "execution_count": 15,
   "id": "9d10018b",
   "metadata": {},
   "outputs": [
    {
     "name": "stdout",
     "output_type": "stream",
     "text": [
      "  It cut off my thank you! - thank you thank you thank you thank you thank you thank you thank you thank you thank you thank you!\n",
      "11\n"
     ]
    }
   ],
   "source": [
    "print(df.iloc[most_positive].post)\n",
    "print(df.iloc[most_positive].positive_words)"
   ]
  },
  {
   "cell_type": "code",
   "execution_count": 16,
   "id": "a2a0f46d",
   "metadata": {},
   "outputs": [],
   "source": [
    "most_negative = df[\"negative_words\"].argmax()"
   ]
  },
  {
   "cell_type": "code",
   "execution_count": 17,
   "id": "a36731df",
   "metadata": {},
   "outputs": [
    {
     "name": "stdout",
     "output_type": "stream",
     "text": [
      "I HATE EXAMS I HATE EXAMS I HATE EXAMS I HATE EXAMS I HATE EXAMS I HATE EXAMS I HATE EXAMS I HATE EXAMS I HATE EXAMS I HATE EXAMS AHHHHHH \n",
      "10\n"
     ]
    }
   ],
   "source": [
    "print(df.iloc[most_negative].post)\n",
    "print(df.iloc[most_negative].negative_words)"
   ]
  },
  {
   "cell_type": "code",
   "execution_count": 18,
   "id": "48630ef4",
   "metadata": {},
   "outputs": [
    {
     "data": {
      "image/png": "[encoded data removed]",
      "text/plain": [
       "<Figure size 640x480 with 1 Axes>"
      ]
     },
     "metadata": {},
     "output_type": "display_data"
    },
    {
     "data": {
      "image/png": "[encoded data removed]",
      "text/plain": [
       "<Figure size 640x480 with 1 Axes>"
      ]
     },
     "metadata": {},
     "output_type": "display_data"
    }
   ],
   "source": [
    "plt.hist(df.positive_words, bins = df.positive_words.max())\n",
    "plt.show()\n",
    "plt.hist(df.negative_words, bins = df.negative_words.max())\n",
    "plt.show()"
   ]
  },
  {
   "cell_type": "markdown",
   "id": "11e3a441",
   "metadata": {},
   "source": [
    "# Text Length"
   ]
  },
  {
   "cell_type": "code",
   "execution_count": 19,
   "id": "c06ada29",
   "metadata": {},
   "outputs": [],
   "source": [
    "df[\"length\"] = df[\"post\"].apply(len)\n",
    "df[\"word_count\"] = df[\"post\"].apply((lambda s:len(s.split())))"
   ]
  },
  {
   "cell_type": "code",
   "execution_count": 20,
   "id": "fd07472d",
   "metadata": {},
   "outputs": [
    {
     "data": {
      "image/png": "[encoded data removed]",
      "text/plain": [
       "<Figure size 640x480 with 1 Axes>"
      ]
     },
     "metadata": {},
     "output_type": "display_data"
    },
    {
     "data": {
      "image/png": "[encoded data removed]",
      "text/plain": [
       "<Figure size 640x480 with 1 Axes>"
      ]
     },
     "metadata": {},
     "output_type": "display_data"
    }
   ],
   "source": [
    "plt.hist(df[\"length\"])\n",
    "plt.show()\n",
    "plt.hist(df[\"word_count\"])\n",
    "plt.show()"
   ]
  },
  {
   "cell_type": "markdown",
   "id": "8c59f825",
   "metadata": {},
   "source": [
    "# Male and Female words\n",
    "Word lists adapted from https://github.com/DanielleSucher/Jailbreak-the-Patriarchy/blob/master/myscript.js"
   ]
  },
  {
   "cell_type": "code",
   "execution_count": 21,
   "id": "b4c5a158",
   "metadata": {},
   "outputs": [],
   "source": [
    "with open(\"wordLists/male_words\", 'r') as file:\n",
    "    male_words = file.read().splitlines()"
   ]
  },
  {
   "cell_type": "code",
   "execution_count": 22,
   "id": "7dce7877",
   "metadata": {},
   "outputs": [],
   "source": [
    "with open(\"wordLists/female_words\", 'r') as file:\n",
    "    female_words = file.read().splitlines()"
   ]
  },
  {
   "cell_type": "code",
   "execution_count": 23,
   "id": "12c14826",
   "metadata": {},
   "outputs": [],
   "source": [
    "def count_male(text):\n",
    "    counter = 0\n",
    "    for word in male_words:\n",
    "        counter += text.lower().split().count(word)\n",
    "    return counter\n",
    "def count_female(text):\n",
    "    counter = 0\n",
    "    for word in female_words:\n",
    "        counter += text.lower().split().count(word)\n",
    "    return counter"
   ]
  },
  {
   "cell_type": "code",
   "execution_count": 24,
   "id": "a4cf5bca",
   "metadata": {},
   "outputs": [],
   "source": [
    "df[\"male_words\"] = df[\"post\"].apply(count_male)"
   ]
  },
  {
   "cell_type": "code",
   "execution_count": 25,
   "id": "f19d541a",
   "metadata": {},
   "outputs": [],
   "source": [
    "df[\"female_words\"] = df[\"post\"].apply(count_female)"
   ]
  },
  {
   "cell_type": "code",
   "execution_count": 26,
   "id": "9675b794",
   "metadata": {},
   "outputs": [
    {
     "data": {
      "text/plain": [
       "count    349388.000000\n",
       "mean          0.089239\n",
       "std           0.442333\n",
       "min           0.000000\n",
       "25%           0.000000\n",
       "50%           0.000000\n",
       "75%           0.000000\n",
       "max          12.000000\n",
       "Name: male_words, dtype: float64"
      ]
     },
     "execution_count": 26,
     "metadata": {},
     "output_type": "execute_result"
    }
   ],
   "source": [
    "df[\"male_words\"].describe()"
   ]
  },
  {
   "cell_type": "code",
   "execution_count": 27,
   "id": "d8bf9b69",
   "metadata": {
    "scrolled": true
   },
   "outputs": [
    {
     "data": {
      "text/plain": [
       "count    349388.000000\n",
       "mean          0.078291\n",
       "std           0.444804\n",
       "min           0.000000\n",
       "25%           0.000000\n",
       "50%           0.000000\n",
       "75%           0.000000\n",
       "max          14.000000\n",
       "Name: female_words, dtype: float64"
      ]
     },
     "execution_count": 27,
     "metadata": {},
     "output_type": "execute_result"
    }
   ],
   "source": [
    "df[\"female_words\"].describe()"
   ]
  },
  {
   "cell_type": "markdown",
   "id": "d682b828",
   "metadata": {},
   "source": [
    "What are the most male and female tweets in the dataset?"
   ]
  },
  {
   "cell_type": "code",
   "execution_count": 28,
   "id": "a2d6fb8c",
   "metadata": {},
   "outputs": [
    {
     "data": {
      "text/plain": [
       "'Thinking about my mom today The kind of mom she wanted to be, the kind of mom she had to be the kind of mom she ended up being '"
      ]
     },
     "execution_count": 28,
     "metadata": {},
     "output_type": "execute_result"
    }
   ],
   "source": [
    "df.iloc[df[\"female_words\"].argmax()].post"
   ]
  },
  {
   "cell_type": "code",
   "execution_count": 29,
   "id": "07fee301",
   "metadata": {},
   "outputs": [
    {
     "data": {
      "text/plain": [
       "\"my brother insists i not change the channel on the tv, as he says he is 'watching it', but he was bloody asleep. he is just like my dad \""
      ]
     },
     "execution_count": 29,
     "metadata": {},
     "output_type": "execute_result"
    }
   ],
   "source": [
    "df.iloc[df[\"male_words\"].argmax()].post"
   ]
  },
  {
   "cell_type": "markdown",
   "id": "318d0c13",
   "metadata": {},
   "source": [
    "# Sentiment analysis scores from Afinn"
   ]
  },
  {
   "cell_type": "code",
   "execution_count": 30,
   "id": "833352f7",
   "metadata": {},
   "outputs": [],
   "source": [
    "from afinn import Afinn\n",
    "afinn = Afinn(language='en')\n",
    "df[\"afinn\"] = df[\"post\"].apply(afinn.score)"
   ]
  },
  {
   "cell_type": "code",
   "execution_count": 31,
   "id": "68342483",
   "metadata": {},
   "outputs": [
    {
     "data": {
      "text/html": [
       "<div>\n",
       "<style scoped>\n",
       "    .dataframe tbody tr th:only-of-type {\n",
       "        vertical-align: middle;\n",
       "    }\n",
       "\n",
       "    .dataframe tbody tr th {\n",
       "        vertical-align: top;\n",
       "    }\n",
       "\n",
       "    .dataframe thead th {\n",
       "        text-align: right;\n",
       "    }\n",
       "</style>\n",
       "<table border=\"1\" class=\"dataframe\">\n",
       "  <thead>\n",
       "    <tr style=\"text-align: right;\">\n",
       "      <th></th>\n",
       "      <th>post</th>\n",
       "      <th>positive_words</th>\n",
       "      <th>negative_words</th>\n",
       "      <th>length</th>\n",
       "      <th>word_count</th>\n",
       "      <th>male_words</th>\n",
       "      <th>female_words</th>\n",
       "      <th>afinn</th>\n",
       "    </tr>\n",
       "  </thead>\n",
       "  <tbody>\n",
       "    <tr>\n",
       "      <th>261973</th>\n",
       "      <td>today, i worshipped a tree, ate couscous,  and...</td>\n",
       "      <td>0</td>\n",
       "      <td>0</td>\n",
       "      <td>95</td>\n",
       "      <td>14</td>\n",
       "      <td>0</td>\n",
       "      <td>0</td>\n",
       "      <td>0.0</td>\n",
       "    </tr>\n",
       "    <tr>\n",
       "      <th>252676</th>\n",
       "      <td>Mental arithmatic in a bit  at least it's last...</td>\n",
       "      <td>0</td>\n",
       "      <td>0</td>\n",
       "      <td>54</td>\n",
       "      <td>10</td>\n",
       "      <td>0</td>\n",
       "      <td>0</td>\n",
       "      <td>0.0</td>\n",
       "    </tr>\n",
       "    <tr>\n",
       "      <th>37345</th>\n",
       "      <td>my only problem with it is when Jacob turns i...</td>\n",
       "      <td>1</td>\n",
       "      <td>2</td>\n",
       "      <td>113</td>\n",
       "      <td>21</td>\n",
       "      <td>0</td>\n",
       "      <td>0</td>\n",
       "      <td>-3.0</td>\n",
       "    </tr>\n",
       "    <tr>\n",
       "      <th>881</th>\n",
       "      <td>Got TweetDeck because my Twitterific stopped w...</td>\n",
       "      <td>0</td>\n",
       "      <td>1</td>\n",
       "      <td>58</td>\n",
       "      <td>8</td>\n",
       "      <td>0</td>\n",
       "      <td>0</td>\n",
       "      <td>-3.0</td>\n",
       "    </tr>\n",
       "    <tr>\n",
       "      <th>303016</th>\n",
       "      <td>Now dat I have my headline onto finishin the e...</td>\n",
       "      <td>0</td>\n",
       "      <td>0</td>\n",
       "      <td>108</td>\n",
       "      <td>19</td>\n",
       "      <td>0</td>\n",
       "      <td>0</td>\n",
       "      <td>0.0</td>\n",
       "    </tr>\n",
       "    <tr>\n",
       "      <th>153155</th>\n",
       "      <td>Hot n sweaty on turnpike lane  http://twitpic....</td>\n",
       "      <td>1</td>\n",
       "      <td>1</td>\n",
       "      <td>55</td>\n",
       "      <td>7</td>\n",
       "      <td>0</td>\n",
       "      <td>0</td>\n",
       "      <td>0.0</td>\n",
       "    </tr>\n",
       "    <tr>\n",
       "      <th>278995</th>\n",
       "      <td>thanks. it was a tough Saturday. I still have...</td>\n",
       "      <td>1</td>\n",
       "      <td>0</td>\n",
       "      <td>102</td>\n",
       "      <td>21</td>\n",
       "      <td>0</td>\n",
       "      <td>0</td>\n",
       "      <td>7.0</td>\n",
       "    </tr>\n",
       "    <tr>\n",
       "      <th>320980</th>\n",
       "      <td>sounds like a plan to me! hehe. thanks for y...</td>\n",
       "      <td>2</td>\n",
       "      <td>0</td>\n",
       "      <td>75</td>\n",
       "      <td>13</td>\n",
       "      <td>0</td>\n",
       "      <td>0</td>\n",
       "      <td>11.0</td>\n",
       "    </tr>\n",
       "    <tr>\n",
       "      <th>139239</th>\n",
       "      <td>Tight game @ halftime. 63-62. Not in rat city'...</td>\n",
       "      <td>0</td>\n",
       "      <td>0</td>\n",
       "      <td>55</td>\n",
       "      <td>10</td>\n",
       "      <td>0</td>\n",
       "      <td>0</td>\n",
       "      <td>2.0</td>\n",
       "    </tr>\n",
       "    <tr>\n",
       "      <th>176647</th>\n",
       "      <td>So sad right now. My puppy just died.</td>\n",
       "      <td>1</td>\n",
       "      <td>1</td>\n",
       "      <td>38</td>\n",
       "      <td>8</td>\n",
       "      <td>0</td>\n",
       "      <td>0</td>\n",
       "      <td>-5.0</td>\n",
       "    </tr>\n",
       "  </tbody>\n",
       "</table>\n",
       "</div>"
      ],
      "text/plain": [
       "                                                     post  positive_words  \\\n",
       "261973  today, i worshipped a tree, ate couscous,  and...               0   \n",
       "252676  Mental arithmatic in a bit  at least it's last...               0   \n",
       "37345    my only problem with it is when Jacob turns i...               1   \n",
       "881     Got TweetDeck because my Twitterific stopped w...               0   \n",
       "303016  Now dat I have my headline onto finishin the e...               0   \n",
       "153155  Hot n sweaty on turnpike lane  http://twitpic....               1   \n",
       "278995   thanks. it was a tough Saturday. I still have...               1   \n",
       "320980    sounds like a plan to me! hehe. thanks for y...               2   \n",
       "139239  Tight game @ halftime. 63-62. Not in rat city'...               0   \n",
       "176647             So sad right now. My puppy just died.                1   \n",
       "\n",
       "        negative_words  length  word_count  male_words  female_words  afinn  \n",
       "261973               0      95          14           0             0    0.0  \n",
       "252676               0      54          10           0             0    0.0  \n",
       "37345                2     113          21           0             0   -3.0  \n",
       "881                  1      58           8           0             0   -3.0  \n",
       "303016               0     108          19           0             0    0.0  \n",
       "153155               1      55           7           0             0    0.0  \n",
       "278995               0     102          21           0             0    7.0  \n",
       "320980               0      75          13           0             0   11.0  \n",
       "139239               0      55          10           0             0    2.0  \n",
       "176647               1      38           8           0             0   -5.0  "
      ]
     },
     "execution_count": 31,
     "metadata": {},
     "output_type": "execute_result"
    }
   ],
   "source": [
    "df.sample(10)"
   ]
  },
  {
   "cell_type": "markdown",
   "id": "20c1f14c",
   "metadata": {},
   "source": [
    "# Save the resulting Dataframe!"
   ]
  },
  {
   "cell_type": "code",
   "execution_count": 32,
   "id": "20a190f4",
   "metadata": {},
   "outputs": [],
   "source": [
    "df.to_csv(\"twitter_sent140_with_features.csv\")"
   ]
  },
  {
   "cell_type": "code",
   "execution_count": 33,
   "id": "1db0b4bc-1bc9-4913-97a5-09f73412aec2",
   "metadata": {},
   "outputs": [],
   "source": [
    "dfsmall = df.head(270000)"
   ]
  },
  {
   "cell_type": "code",
   "execution_count": 34,
   "id": "596a4884-21ef-4df8-8449-2fb83546ffc1",
   "metadata": {},
   "outputs": [
    {
     "data": {
      "text/html": [
       "<div>\n",
       "<style scoped>\n",
       "    .dataframe tbody tr th:only-of-type {\n",
       "        vertical-align: middle;\n",
       "    }\n",
       "\n",
       "    .dataframe tbody tr th {\n",
       "        vertical-align: top;\n",
       "    }\n",
       "\n",
       "    .dataframe thead th {\n",
       "        text-align: right;\n",
       "    }\n",
       "</style>\n",
       "<table border=\"1\" class=\"dataframe\">\n",
       "  <thead>\n",
       "    <tr style=\"text-align: right;\">\n",
       "      <th></th>\n",
       "      <th>post</th>\n",
       "      <th>positive_words</th>\n",
       "      <th>negative_words</th>\n",
       "      <th>length</th>\n",
       "      <th>word_count</th>\n",
       "      <th>male_words</th>\n",
       "      <th>female_words</th>\n",
       "      <th>afinn</th>\n",
       "    </tr>\n",
       "  </thead>\n",
       "  <tbody>\n",
       "    <tr>\n",
       "      <th>0</th>\n",
       "      <td>Had a good first days WE at the herald</td>\n",
       "      <td>1</td>\n",
       "      <td>0</td>\n",
       "      <td>39</td>\n",
       "      <td>9</td>\n",
       "      <td>0</td>\n",
       "      <td>0</td>\n",
       "      <td>3.0</td>\n",
       "    </tr>\n",
       "    <tr>\n",
       "      <th>1</th>\n",
       "      <td>whaat. making sure.. she's safe.</td>\n",
       "      <td>0</td>\n",
       "      <td>0</td>\n",
       "      <td>34</td>\n",
       "      <td>5</td>\n",
       "      <td>0</td>\n",
       "      <td>0</td>\n",
       "      <td>1.0</td>\n",
       "    </tr>\n",
       "    <tr>\n",
       "      <th>2</th>\n",
       "      <td>HAHAHAHAHAHA, Se ferrou!</td>\n",
       "      <td>0</td>\n",
       "      <td>0</td>\n",
       "      <td>26</td>\n",
       "      <td>3</td>\n",
       "      <td>0</td>\n",
       "      <td>0</td>\n",
       "      <td>0.0</td>\n",
       "    </tr>\n",
       "    <tr>\n",
       "      <th>3</th>\n",
       "      <td>Cant sleep with bad thoughts in my mind</td>\n",
       "      <td>0</td>\n",
       "      <td>1</td>\n",
       "      <td>40</td>\n",
       "      <td>8</td>\n",
       "      <td>0</td>\n",
       "      <td>0</td>\n",
       "      <td>-3.0</td>\n",
       "    </tr>\n",
       "    <tr>\n",
       "      <th>4</th>\n",
       "      <td>so tired and sick of trains, tho getting on an...</td>\n",
       "      <td>0</td>\n",
       "      <td>2</td>\n",
       "      <td>57</td>\n",
       "      <td>11</td>\n",
       "      <td>0</td>\n",
       "      <td>0</td>\n",
       "      <td>-4.0</td>\n",
       "    </tr>\n",
       "    <tr>\n",
       "      <th>...</th>\n",
       "      <td>...</td>\n",
       "      <td>...</td>\n",
       "      <td>...</td>\n",
       "      <td>...</td>\n",
       "      <td>...</td>\n",
       "      <td>...</td>\n",
       "      <td>...</td>\n",
       "      <td>...</td>\n",
       "    </tr>\n",
       "    <tr>\n",
       "      <th>269995</th>\n",
       "      <td>Apart from that, was a great night and I'm rea...</td>\n",
       "      <td>1</td>\n",
       "      <td>1</td>\n",
       "      <td>129</td>\n",
       "      <td>26</td>\n",
       "      <td>1</td>\n",
       "      <td>0</td>\n",
       "      <td>1.0</td>\n",
       "    </tr>\n",
       "    <tr>\n",
       "      <th>269996</th>\n",
       "      <td>i want all the how i met your mothers seasons ...</td>\n",
       "      <td>1</td>\n",
       "      <td>0</td>\n",
       "      <td>102</td>\n",
       "      <td>21</td>\n",
       "      <td>0</td>\n",
       "      <td>0</td>\n",
       "      <td>4.0</td>\n",
       "    </tr>\n",
       "    <tr>\n",
       "      <th>269997</th>\n",
       "      <td>wish I hadn't missed it!!</td>\n",
       "      <td>0</td>\n",
       "      <td>1</td>\n",
       "      <td>28</td>\n",
       "      <td>5</td>\n",
       "      <td>0</td>\n",
       "      <td>0</td>\n",
       "      <td>-1.0</td>\n",
       "    </tr>\n",
       "    <tr>\n",
       "      <th>269998</th>\n",
       "      <td>Good morning all you lovely tweeters.  What a ...</td>\n",
       "      <td>3</td>\n",
       "      <td>0</td>\n",
       "      <td>63</td>\n",
       "      <td>11</td>\n",
       "      <td>0</td>\n",
       "      <td>0</td>\n",
       "      <td>9.0</td>\n",
       "    </tr>\n",
       "    <tr>\n",
       "      <th>269999</th>\n",
       "      <td>I don't even know what to think about that fo...</td>\n",
       "      <td>0</td>\n",
       "      <td>0</td>\n",
       "      <td>72</td>\n",
       "      <td>15</td>\n",
       "      <td>0</td>\n",
       "      <td>0</td>\n",
       "      <td>0.0</td>\n",
       "    </tr>\n",
       "  </tbody>\n",
       "</table>\n",
       "<p>270000 rows × 8 columns</p>\n",
       "</div>"
      ],
      "text/plain": [
       "                                                     post  positive_words  \\\n",
       "0                 Had a good first days WE at the herald                1   \n",
       "1                       whaat. making sure.. she's safe.                0   \n",
       "2                               HAHAHAHAHAHA, Se ferrou!                0   \n",
       "3                Cant sleep with bad thoughts in my mind                0   \n",
       "4       so tired and sick of trains, tho getting on an...               0   \n",
       "...                                                   ...             ...   \n",
       "269995  Apart from that, was a great night and I'm rea...               1   \n",
       "269996  i want all the how i met your mothers seasons ...               1   \n",
       "269997                        wish I hadn't missed it!!                 0   \n",
       "269998  Good morning all you lovely tweeters.  What a ...               3   \n",
       "269999   I don't even know what to think about that fo...               0   \n",
       "\n",
       "        negative_words  length  word_count  male_words  female_words  afinn  \n",
       "0                    0      39           9           0             0    3.0  \n",
       "1                    0      34           5           0             0    1.0  \n",
       "2                    0      26           3           0             0    0.0  \n",
       "3                    1      40           8           0             0   -3.0  \n",
       "4                    2      57          11           0             0   -4.0  \n",
       "...                ...     ...         ...         ...           ...    ...  \n",
       "269995               1     129          26           1             0    1.0  \n",
       "269996               0     102          21           0             0    4.0  \n",
       "269997               1      28           5           0             0   -1.0  \n",
       "269998               0      63          11           0             0    9.0  \n",
       "269999               0      72          15           0             0    0.0  \n",
       "\n",
       "[270000 rows x 8 columns]"
      ]
     },
     "execution_count": 34,
     "metadata": {},
     "output_type": "execute_result"
    }
   ],
   "source": [
    "dfsmall"
   ]
  },
  {
   "cell_type": "code",
   "execution_count": 35,
   "id": "40f10880-02de-46e7-9b72-fde59d5acd76",
   "metadata": {},
   "outputs": [],
   "source": [
    "dfsmall.to_csv(\"twitter_sent140_with_features_270k_row.csv\")"
   ]
  },
  {
   "cell_type": "code",
   "execution_count": null,
   "id": "91547d21-e4a9-4000-a5e5-0e71d7278ec4",
   "metadata": {},
   "outputs": [],
   "source": []
  }
 ],
 "metadata": {
  "kernelspec": {
   "display_name": "Python 3 (ipykernel)",
   "language": "python",
   "name": "python3"
  },
  "language_info": {
   "codemirror_mode": {
    "name": "ipython",
    "version": 3
   },
   "file_extension": ".py",
   "mimetype": "text/x-python",
   "name": "python",
   "nbconvert_exporter": "python",
   "pygments_lexer": "ipython3",
   "version": "3.11.3"
  }
 },
 "nbformat": 4,
 "nbformat_minor": 5
}
