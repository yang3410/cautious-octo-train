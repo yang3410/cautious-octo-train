{
 "cells": [
  {
   "cell_type": "code",
   "execution_count": 1,
   "id": "83d9a732",
   "metadata": {},
   "outputs": [],
   "source": [
    "import pandas as pd\n",
    "import numpy as np"
   ]
  },
  {
   "cell_type": "markdown",
   "id": "61e19d37",
   "metadata": {},
   "source": [
    "# Load Datasets"
   ]
  },
  {
   "cell_type": "code",
   "execution_count": 2,
   "id": "a8c5c5a1",
   "metadata": {},
   "outputs": [],
   "source": [
    "df_twitter_sentiment = pd.read_csv(\"../sentiment140-twitter_data/twitter_sent140_with_features_270k_row.csv\")"
   ]
  },
  {
   "cell_type": "code",
   "execution_count": 11,
   "id": "e6062997",
   "metadata": {},
   "outputs": [
    {
     "name": "stderr",
     "output_type": "stream",
     "text": [
      "/tmp/ipykernel_57994/4032011543.py:1: DtypeWarning: Columns (1) have mixed types. Specify dtype option on import or set low_memory=False.\n",
      "  df_twitter_stream = pd.read_csv(\"../twitter_stream/twitter_stream_with_features.csv\")\n"
     ]
    }
   ],
   "source": [
    "df_twitter_stream = pd.read_csv(\"../twitter_stream/twitter_stream_with_features.csv\")"
   ]
  },
  {
   "cell_type": "code",
   "execution_count": 14,
   "id": "75f5d6cd",
   "metadata": {},
   "outputs": [],
   "source": [
    "df_instagram = pd.read_csv(\"../instagram_data/insta_with_features.csv\")"
   ]
  },
  {
   "cell_type": "code",
   "execution_count": 20,
   "id": "a8512ef2",
   "metadata": {},
   "outputs": [],
   "source": [
    "df_reddit = pd.read_csv(\"../reddit_data/cleaned_reddit_convo.csv\")"
   ]
  },
  {
   "cell_type": "markdown",
   "id": "6e0a4004",
   "metadata": {},
   "source": [
    "# Remove Extra Columns"
   ]
  },
  {
   "cell_type": "code",
   "execution_count": 10,
   "id": "58532132",
   "metadata": {},
   "outputs": [],
   "source": [
    "df_twitter_sentiment = df_twitter_sentiment[[\"post\",\"positive_words\",\"negative_words\",\"word_count\", \"male_words\",\"female_words\",\"afinn\"]]"
   ]
  },
  {
   "cell_type": "code",
   "execution_count": null,
   "id": "d932ef1c",
   "metadata": {},
   "outputs": [],
   "source": [
    "df_twitter_stream"
   ]
  }
 ],
 "metadata": {
  "kernelspec": {
   "display_name": "Python 3 (ipykernel)",
   "language": "python",
   "name": "python3"
  },
  "language_info": {
   "codemirror_mode": {
    "name": "ipython",
    "version": 3
   },
   "file_extension": ".py",
   "mimetype": "text/x-python",
   "name": "python",
   "nbconvert_exporter": "python",
   "pygments_lexer": "ipython3",
   "version": "3.11.0"
  }
 },
 "nbformat": 4,
 "nbformat_minor": 5
}
