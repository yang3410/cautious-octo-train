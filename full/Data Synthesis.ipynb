{
 "cells": [
  {
   "cell_type": "code",
   "execution_count": 1,
   "id": "24085b08",
   "metadata": {},
   "outputs": [],
   "source": [
    "import pandas as pd\n",
    "import numpy as np"
   ]
  },
  {
   "cell_type": "markdown",
   "id": "e0ac8aa1",
   "metadata": {},
   "source": [
    "# Load Datasets"
   ]
  },
  {
   "cell_type": "code",
   "execution_count": 26,
   "id": "570490aa",
   "metadata": {},
   "outputs": [
    {
     "data": {
      "text/html": [
       "<div>\n",
       "<style scoped>\n",
       "    .dataframe tbody tr th:only-of-type {\n",
       "        vertical-align: middle;\n",
       "    }\n",
       "\n",
       "    .dataframe tbody tr th {\n",
       "        vertical-align: top;\n",
       "    }\n",
       "\n",
       "    .dataframe thead th {\n",
       "        text-align: right;\n",
       "    }\n",
       "</style>\n",
       "<table border=\"1\" class=\"dataframe\">\n",
       "  <thead>\n",
       "    <tr style=\"text-align: right;\">\n",
       "      <th></th>\n",
       "      <th>Unnamed: 0</th>\n",
       "      <th>post</th>\n",
       "      <th>positive_words</th>\n",
       "      <th>negative_words</th>\n",
       "      <th>length</th>\n",
       "      <th>word_count</th>\n",
       "      <th>male_words</th>\n",
       "      <th>female_words</th>\n",
       "      <th>afinn</th>\n",
       "    </tr>\n",
       "  </thead>\n",
       "  <tbody>\n",
       "    <tr>\n",
       "      <th>0</th>\n",
       "      <td>0</td>\n",
       "      <td>Had a good first days WE at the herald</td>\n",
       "      <td>1</td>\n",
       "      <td>0</td>\n",
       "      <td>39</td>\n",
       "      <td>9</td>\n",
       "      <td>0</td>\n",
       "      <td>0</td>\n",
       "      <td>3.0</td>\n",
       "    </tr>\n",
       "    <tr>\n",
       "      <th>1</th>\n",
       "      <td>1</td>\n",
       "      <td>whaat. making sure.. she's safe.</td>\n",
       "      <td>0</td>\n",
       "      <td>0</td>\n",
       "      <td>34</td>\n",
       "      <td>5</td>\n",
       "      <td>0</td>\n",
       "      <td>0</td>\n",
       "      <td>1.0</td>\n",
       "    </tr>\n",
       "    <tr>\n",
       "      <th>2</th>\n",
       "      <td>2</td>\n",
       "      <td>HAHAHAHAHAHA, Se ferrou!</td>\n",
       "      <td>0</td>\n",
       "      <td>0</td>\n",
       "      <td>26</td>\n",
       "      <td>3</td>\n",
       "      <td>0</td>\n",
       "      <td>0</td>\n",
       "      <td>0.0</td>\n",
       "    </tr>\n",
       "    <tr>\n",
       "      <th>3</th>\n",
       "      <td>3</td>\n",
       "      <td>Cant sleep with bad thoughts in my mind</td>\n",
       "      <td>0</td>\n",
       "      <td>1</td>\n",
       "      <td>40</td>\n",
       "      <td>8</td>\n",
       "      <td>0</td>\n",
       "      <td>0</td>\n",
       "      <td>-3.0</td>\n",
       "    </tr>\n",
       "    <tr>\n",
       "      <th>4</th>\n",
       "      <td>4</td>\n",
       "      <td>so tired and sick of trains, tho getting on an...</td>\n",
       "      <td>0</td>\n",
       "      <td>2</td>\n",
       "      <td>57</td>\n",
       "      <td>11</td>\n",
       "      <td>0</td>\n",
       "      <td>0</td>\n",
       "      <td>-4.0</td>\n",
       "    </tr>\n",
       "  </tbody>\n",
       "</table>\n",
       "</div>"
      ],
      "text/plain": [
       "   Unnamed: 0                                               post   \n",
       "0           0            Had a good first days WE at the herald   \\\n",
       "1           1                  whaat. making sure.. she's safe.    \n",
       "2           2                          HAHAHAHAHAHA, Se ferrou!    \n",
       "3           3           Cant sleep with bad thoughts in my mind    \n",
       "4           4  so tired and sick of trains, tho getting on an...   \n",
       "\n",
       "   positive_words  negative_words  length  word_count  male_words   \n",
       "0               1               0      39           9           0  \\\n",
       "1               0               0      34           5           0   \n",
       "2               0               0      26           3           0   \n",
       "3               0               1      40           8           0   \n",
       "4               0               2      57          11           0   \n",
       "\n",
       "   female_words  afinn  \n",
       "0             0    3.0  \n",
       "1             0    1.0  \n",
       "2             0    0.0  \n",
       "3             0   -3.0  \n",
       "4             0   -4.0  "
      ]
     },
     "execution_count": 26,
     "metadata": {},
     "output_type": "execute_result"
    }
   ],
   "source": [
    "df_twitter_sentiment = pd.read_csv(\"../sentiment140-twitter_data/twitter_sent140_with_features_270k_row.csv\")\n",
    "df_twitter_sentiment.head()"
   ]
  },
  {
   "cell_type": "code",
   "execution_count": 27,
   "id": "3ce665e3",
   "metadata": {},
   "outputs": [
    {
     "name": "stderr",
     "output_type": "stream",
     "text": [
      "/tmp/ipykernel_57994/3077464430.py:1: DtypeWarning: Columns (1) have mixed types. Specify dtype option on import or set low_memory=False.\n",
      "  df_twitter_stream = pd.read_csv(\"../twitter_stream/twitter_stream_with_features.csv\")\n"
     ]
    },
    {
     "data": {
      "text/html": [
       "<div>\n",
       "<style scoped>\n",
       "    .dataframe tbody tr th:only-of-type {\n",
       "        vertical-align: middle;\n",
       "    }\n",
       "\n",
       "    .dataframe tbody tr th {\n",
       "        vertical-align: top;\n",
       "    }\n",
       "\n",
       "    .dataframe thead th {\n",
       "        text-align: right;\n",
       "    }\n",
       "</style>\n",
       "<table border=\"1\" class=\"dataframe\">\n",
       "  <thead>\n",
       "    <tr style=\"text-align: right;\">\n",
       "      <th></th>\n",
       "      <th>Unnamed: 0.1</th>\n",
       "      <th>Unnamed: 0</th>\n",
       "      <th>created_at</th>\n",
       "      <th>text</th>\n",
       "      <th>positive_words</th>\n",
       "      <th>negative_words</th>\n",
       "      <th>length</th>\n",
       "      <th>word_count</th>\n",
       "      <th>male_words</th>\n",
       "      <th>female_words</th>\n",
       "      <th>afinn</th>\n",
       "    </tr>\n",
       "  </thead>\n",
       "  <tbody>\n",
       "    <tr>\n",
       "      <th>0</th>\n",
       "      <td>0</td>\n",
       "      <td>0</td>\n",
       "      <td>2020-06-11 06:30:00+00:00</td>\n",
       "      <td>TEMP 68.2degF F |Feelslike 68.8 degF |RH 67 % ...</td>\n",
       "      <td>0</td>\n",
       "      <td>0</td>\n",
       "      <td>126</td>\n",
       "      <td>24</td>\n",
       "      <td>0</td>\n",
       "      <td>0</td>\n",
       "      <td>0.0</td>\n",
       "    </tr>\n",
       "    <tr>\n",
       "      <th>1</th>\n",
       "      <td>1</td>\n",
       "      <td>1</td>\n",
       "      <td>2020-06-11 06:30:00+00:00</td>\n",
       "      <td>Comparison of Actors is the worst thing Ever !...</td>\n",
       "      <td>0</td>\n",
       "      <td>2</td>\n",
       "      <td>112</td>\n",
       "      <td>24</td>\n",
       "      <td>2</td>\n",
       "      <td>0</td>\n",
       "      <td>-4.0</td>\n",
       "    </tr>\n",
       "    <tr>\n",
       "      <th>2</th>\n",
       "      <td>2</td>\n",
       "      <td>2</td>\n",
       "      <td>2020-06-11 06:30:00+00:00</td>\n",
       "      <td>Nitip</td>\n",
       "      <td>0</td>\n",
       "      <td>0</td>\n",
       "      <td>5</td>\n",
       "      <td>1</td>\n",
       "      <td>0</td>\n",
       "      <td>0</td>\n",
       "      <td>0.0</td>\n",
       "    </tr>\n",
       "    <tr>\n",
       "      <th>3</th>\n",
       "      <td>3</td>\n",
       "      <td>3</td>\n",
       "      <td>2020-06-11 06:30:00+00:00</td>\n",
       "      <td>Probably.</td>\n",
       "      <td>0</td>\n",
       "      <td>0</td>\n",
       "      <td>9</td>\n",
       "      <td>1</td>\n",
       "      <td>0</td>\n",
       "      <td>0</td>\n",
       "      <td>0.0</td>\n",
       "    </tr>\n",
       "    <tr>\n",
       "      <th>4</th>\n",
       "      <td>4</td>\n",
       "      <td>4</td>\n",
       "      <td>2020-06-11 06:30:00+00:00</td>\n",
       "      <td>Baby, how you doing? I know you're not doing t...</td>\n",
       "      <td>0</td>\n",
       "      <td>0</td>\n",
       "      <td>88</td>\n",
       "      <td>18</td>\n",
       "      <td>0</td>\n",
       "      <td>0</td>\n",
       "      <td>3.0</td>\n",
       "    </tr>\n",
       "  </tbody>\n",
       "</table>\n",
       "</div>"
      ],
      "text/plain": [
       "   Unnamed: 0.1 Unnamed: 0                 created_at   \n",
       "0             0          0  2020-06-11 06:30:00+00:00  \\\n",
       "1             1          1  2020-06-11 06:30:00+00:00   \n",
       "2             2          2  2020-06-11 06:30:00+00:00   \n",
       "3             3          3  2020-06-11 06:30:00+00:00   \n",
       "4             4          4  2020-06-11 06:30:00+00:00   \n",
       "\n",
       "                                                text  positive_words   \n",
       "0  TEMP 68.2degF F |Feelslike 68.8 degF |RH 67 % ...               0  \\\n",
       "1  Comparison of Actors is the worst thing Ever !...               0   \n",
       "2                                              Nitip               0   \n",
       "3                                          Probably.               0   \n",
       "4  Baby, how you doing? I know you're not doing t...               0   \n",
       "\n",
       "   negative_words  length  word_count  male_words  female_words  afinn  \n",
       "0               0     126          24           0             0    0.0  \n",
       "1               2     112          24           2             0   -4.0  \n",
       "2               0       5           1           0             0    0.0  \n",
       "3               0       9           1           0             0    0.0  \n",
       "4               0      88          18           0             0    3.0  "
      ]
     },
     "execution_count": 27,
     "metadata": {},
     "output_type": "execute_result"
    }
   ],
   "source": [
    "df_twitter_stream = pd.read_csv(\"../twitter_stream/twitter_stream_with_features.csv\")\n",
    "df_twitter_stream.head()"
   ]
  },
  {
   "cell_type": "code",
   "execution_count": 28,
   "id": "e00098cc",
   "metadata": {},
   "outputs": [
    {
     "data": {
      "text/html": [
       "<div>\n",
       "<style scoped>\n",
       "    .dataframe tbody tr th:only-of-type {\n",
       "        vertical-align: middle;\n",
       "    }\n",
       "\n",
       "    .dataframe tbody tr th {\n",
       "        vertical-align: top;\n",
       "    }\n",
       "\n",
       "    .dataframe thead th {\n",
       "        text-align: right;\n",
       "    }\n",
       "</style>\n",
       "<table border=\"1\" class=\"dataframe\">\n",
       "  <thead>\n",
       "    <tr style=\"text-align: right;\">\n",
       "      <th></th>\n",
       "      <th>Unnamed: 0</th>\n",
       "      <th>Caption</th>\n",
       "      <th>Instagram</th>\n",
       "      <th>YouTube</th>\n",
       "      <th>Twitter</th>\n",
       "      <th>positive_words</th>\n",
       "      <th>negative_words</th>\n",
       "      <th>length</th>\n",
       "      <th>word_count</th>\n",
       "      <th>male_words</th>\n",
       "      <th>female_words</th>\n",
       "      <th>afinn</th>\n",
       "    </tr>\n",
       "  </thead>\n",
       "  <tbody>\n",
       "    <tr>\n",
       "      <th>0</th>\n",
       "      <td>0</td>\n",
       "      <td>bye</td>\n",
       "      <td>1</td>\n",
       "      <td>0</td>\n",
       "      <td>0</td>\n",
       "      <td>0</td>\n",
       "      <td>0</td>\n",
       "      <td>4</td>\n",
       "      <td>1</td>\n",
       "      <td>0</td>\n",
       "      <td>0</td>\n",
       "      <td>0.0</td>\n",
       "    </tr>\n",
       "    <tr>\n",
       "      <th>1</th>\n",
       "      <td>1</td>\n",
       "      <td>Ok, a few more... sorry I just had so much fun...</td>\n",
       "      <td>1</td>\n",
       "      <td>0</td>\n",
       "      <td>0</td>\n",
       "      <td>1</td>\n",
       "      <td>1</td>\n",
       "      <td>56</td>\n",
       "      <td>13</td>\n",
       "      <td>0</td>\n",
       "      <td>0</td>\n",
       "      <td>3.0</td>\n",
       "    </tr>\n",
       "    <tr>\n",
       "      <th>2</th>\n",
       "      <td>2</td>\n",
       "      <td>This was one of my favorite shoots I've ever d...</td>\n",
       "      <td>1</td>\n",
       "      <td>0</td>\n",
       "      <td>0</td>\n",
       "      <td>3</td>\n",
       "      <td>0</td>\n",
       "      <td>177</td>\n",
       "      <td>32</td>\n",
       "      <td>0</td>\n",
       "      <td>0</td>\n",
       "      <td>3.0</td>\n",
       "    </tr>\n",
       "    <tr>\n",
       "      <th>3</th>\n",
       "      <td>3</td>\n",
       "      <td>Wrapped round my finger like a ring</td>\n",
       "      <td>1</td>\n",
       "      <td>0</td>\n",
       "      <td>0</td>\n",
       "      <td>1</td>\n",
       "      <td>0</td>\n",
       "      <td>36</td>\n",
       "      <td>7</td>\n",
       "      <td>0</td>\n",
       "      <td>0</td>\n",
       "      <td>2.0</td>\n",
       "    </tr>\n",
       "    <tr>\n",
       "      <th>4</th>\n",
       "      <td>4</td>\n",
       "      <td>Yesterday was so much fun!! has been such a hu...</td>\n",
       "      <td>1</td>\n",
       "      <td>0</td>\n",
       "      <td>0</td>\n",
       "      <td>2</td>\n",
       "      <td>0</td>\n",
       "      <td>178</td>\n",
       "      <td>35</td>\n",
       "      <td>0</td>\n",
       "      <td>0</td>\n",
       "      <td>11.0</td>\n",
       "    </tr>\n",
       "  </tbody>\n",
       "</table>\n",
       "</div>"
      ],
      "text/plain": [
       "   Unnamed: 0                                            Caption  Instagram   \n",
       "0           0                                               bye           1  \\\n",
       "1           1  Ok, a few more... sorry I just had so much fun...          1   \n",
       "2           2  This was one of my favorite shoots I've ever d...          1   \n",
       "3           3               Wrapped round my finger like a ring           1   \n",
       "4           4  Yesterday was so much fun!! has been such a hu...          1   \n",
       "\n",
       "   YouTube  Twitter  positive_words  negative_words  length  word_count   \n",
       "0        0        0               0               0       4           1  \\\n",
       "1        0        0               1               1      56          13   \n",
       "2        0        0               3               0     177          32   \n",
       "3        0        0               1               0      36           7   \n",
       "4        0        0               2               0     178          35   \n",
       "\n",
       "   male_words  female_words  afinn  \n",
       "0           0             0    0.0  \n",
       "1           0             0    3.0  \n",
       "2           0             0    3.0  \n",
       "3           0             0    2.0  \n",
       "4           0             0   11.0  "
      ]
     },
     "execution_count": 28,
     "metadata": {},
     "output_type": "execute_result"
    }
   ],
   "source": [
    "df_instagram = pd.read_csv(\"../instagram_data/insta_with_features.csv\")\n",
    "df_instagram.head()"
   ]
  },
  {
   "cell_type": "code",
   "execution_count": 29,
   "id": "15201c6b",
   "metadata": {},
   "outputs": [
    {
     "data": {
      "text/html": [
       "<div>\n",
       "<style scoped>\n",
       "    .dataframe tbody tr th:only-of-type {\n",
       "        vertical-align: middle;\n",
       "    }\n",
       "\n",
       "    .dataframe tbody tr th {\n",
       "        vertical-align: top;\n",
       "    }\n",
       "\n",
       "    .dataframe thead th {\n",
       "        text-align: right;\n",
       "    }\n",
       "</style>\n",
       "<table border=\"1\" class=\"dataframe\">\n",
       "  <thead>\n",
       "    <tr style=\"text-align: right;\">\n",
       "      <th></th>\n",
       "      <th>Unnamed: 0</th>\n",
       "      <th>0</th>\n",
       "    </tr>\n",
       "  </thead>\n",
       "  <tbody>\n",
       "    <tr>\n",
       "      <th>0</th>\n",
       "      <td>0</td>\n",
       "      <td>What kind of phone(s) do you guys have?</td>\n",
       "    </tr>\n",
       "    <tr>\n",
       "      <th>1</th>\n",
       "      <td>1</td>\n",
       "      <td>I have a pixel. It's pretty great. Much better...</td>\n",
       "    </tr>\n",
       "    <tr>\n",
       "      <th>2</th>\n",
       "      <td>2</td>\n",
       "      <td>Does it really charge all the way in 15 min?</td>\n",
       "    </tr>\n",
       "    <tr>\n",
       "      <th>3</th>\n",
       "      <td>4</td>\n",
       "      <td>Samsung Galaxy J1. It's my first cell phone an...</td>\n",
       "    </tr>\n",
       "    <tr>\n",
       "      <th>4</th>\n",
       "      <td>5</td>\n",
       "      <td>What do you think of it? Anything you don't like?</td>\n",
       "    </tr>\n",
       "  </tbody>\n",
       "</table>\n",
       "</div>"
      ],
      "text/plain": [
       "   Unnamed: 0                                                  0\n",
       "0           0            What kind of phone(s) do you guys have?\n",
       "1           1  I have a pixel. It's pretty great. Much better...\n",
       "2           2       Does it really charge all the way in 15 min?\n",
       "3           4  Samsung Galaxy J1. It's my first cell phone an...\n",
       "4           5  What do you think of it? Anything you don't like?"
      ]
     },
     "execution_count": 29,
     "metadata": {},
     "output_type": "execute_result"
    }
   ],
   "source": [
    "df_reddit = pd.read_csv(\"../reddit_data/cleaned_reddit_convo.csv\")\n",
    "df_reddit.head()"
   ]
  },
  {
   "cell_type": "code",
   "execution_count": 30,
   "id": "04445bc6",
   "metadata": {},
   "outputs": [
    {
     "data": {
      "text/html": [
       "<div>\n",
       "<style scoped>\n",
       "    .dataframe tbody tr th:only-of-type {\n",
       "        vertical-align: middle;\n",
       "    }\n",
       "\n",
       "    .dataframe tbody tr th {\n",
       "        vertical-align: top;\n",
       "    }\n",
       "\n",
       "    .dataframe thead th {\n",
       "        text-align: right;\n",
       "    }\n",
       "</style>\n",
       "<table border=\"1\" class=\"dataframe\">\n",
       "  <thead>\n",
       "    <tr style=\"text-align: right;\">\n",
       "      <th></th>\n",
       "      <th>Unnamed: 0</th>\n",
       "      <th>YouTube</th>\n",
       "      <th>positive_words</th>\n",
       "      <th>negative_words</th>\n",
       "      <th>length</th>\n",
       "      <th>word_count</th>\n",
       "      <th>male_words</th>\n",
       "      <th>female_words</th>\n",
       "      <th>afinn</th>\n",
       "    </tr>\n",
       "  </thead>\n",
       "  <tbody>\n",
       "    <tr>\n",
       "      <th>0</th>\n",
       "      <td>0</td>\n",
       "      <td>Waoo</td>\n",
       "      <td>0</td>\n",
       "      <td>0</td>\n",
       "      <td>4</td>\n",
       "      <td>1</td>\n",
       "      <td>0</td>\n",
       "      <td>0</td>\n",
       "      <td>0.0</td>\n",
       "    </tr>\n",
       "    <tr>\n",
       "      <th>1</th>\n",
       "      <td>1</td>\n",
       "      <td>Awesome art work 👌👌😍😍</td>\n",
       "      <td>2</td>\n",
       "      <td>0</td>\n",
       "      <td>21</td>\n",
       "      <td>4</td>\n",
       "      <td>0</td>\n",
       "      <td>0</td>\n",
       "      <td>4.0</td>\n",
       "    </tr>\n",
       "    <tr>\n",
       "      <th>2</th>\n",
       "      <td>2</td>\n",
       "      <td>Great artwork, lovely video. Thank you for sha...</td>\n",
       "      <td>4</td>\n",
       "      <td>0</td>\n",
       "      <td>63</td>\n",
       "      <td>11</td>\n",
       "      <td>0</td>\n",
       "      <td>0</td>\n",
       "      <td>11.0</td>\n",
       "    </tr>\n",
       "    <tr>\n",
       "      <th>3</th>\n",
       "      <td>3</td>\n",
       "      <td>Nice drawing 👌</td>\n",
       "      <td>1</td>\n",
       "      <td>0</td>\n",
       "      <td>14</td>\n",
       "      <td>3</td>\n",
       "      <td>0</td>\n",
       "      <td>0</td>\n",
       "      <td>3.0</td>\n",
       "    </tr>\n",
       "    <tr>\n",
       "      <th>4</th>\n",
       "      <td>4</td>\n",
       "      <td>Beautiful drawing</td>\n",
       "      <td>1</td>\n",
       "      <td>0</td>\n",
       "      <td>17</td>\n",
       "      <td>2</td>\n",
       "      <td>0</td>\n",
       "      <td>0</td>\n",
       "      <td>3.0</td>\n",
       "    </tr>\n",
       "  </tbody>\n",
       "</table>\n",
       "</div>"
      ],
      "text/plain": [
       "   Unnamed: 0                                            YouTube   \n",
       "0           0                                               Waoo  \\\n",
       "1           1                              Awesome art work 👌👌😍😍   \n",
       "2           2  Great artwork, lovely video. Thank you for sha...   \n",
       "3           3                                     Nice drawing 👌   \n",
       "4           4                                  Beautiful drawing   \n",
       "\n",
       "   positive_words  negative_words  length  word_count  male_words   \n",
       "0               0               0       4           1           0  \\\n",
       "1               2               0      21           4           0   \n",
       "2               4               0      63          11           0   \n",
       "3               1               0      14           3           0   \n",
       "4               1               0      17           2           0   \n",
       "\n",
       "   female_words  afinn  \n",
       "0             0    0.0  \n",
       "1             0    4.0  \n",
       "2             0   11.0  \n",
       "3             0    3.0  \n",
       "4             0    3.0  "
      ]
     },
     "execution_count": 30,
     "metadata": {},
     "output_type": "execute_result"
    }
   ],
   "source": [
    "df_youtube = pd.read_csv(\"../youtube_data/ytdata_shortened_with_features.csv\")\n",
    "df_youtube.head()"
   ]
  },
  {
   "cell_type": "markdown",
   "id": "b2c1dce5",
   "metadata": {},
   "source": [
    "# Standardize Columns"
   ]
  },
  {
   "cell_type": "code",
   "execution_count": 47,
   "id": "e087c4a4",
   "metadata": {},
   "outputs": [
    {
     "name": "stderr",
     "output_type": "stream",
     "text": [
      "/tmp/ipykernel_57994/2843304037.py:1: SettingWithCopyWarning: \n",
      "A value is trying to be set on a copy of a slice from a DataFrame\n",
      "\n",
      "See the caveats in the documentation: https://pandas.pydata.org/pandas-docs/stable/user_guide/indexing.html#returning-a-view-versus-a-copy\n",
      "  df_twitter_sentiment.rename(columns={\"post\":\"text\"}, inplace=True)\n"
     ]
    },
    {
     "data": {
      "text/html": [
       "<div>\n",
       "<style scoped>\n",
       "    .dataframe tbody tr th:only-of-type {\n",
       "        vertical-align: middle;\n",
       "    }\n",
       "\n",
       "    .dataframe tbody tr th {\n",
       "        vertical-align: top;\n",
       "    }\n",
       "\n",
       "    .dataframe thead th {\n",
       "        text-align: right;\n",
       "    }\n",
       "</style>\n",
       "<table border=\"1\" class=\"dataframe\">\n",
       "  <thead>\n",
       "    <tr style=\"text-align: right;\">\n",
       "      <th></th>\n",
       "      <th>text</th>\n",
       "      <th>platform</th>\n",
       "    </tr>\n",
       "  </thead>\n",
       "  <tbody>\n",
       "    <tr>\n",
       "      <th>0</th>\n",
       "      <td>Had a good first days WE at the herald</td>\n",
       "      <td>twitter</td>\n",
       "    </tr>\n",
       "    <tr>\n",
       "      <th>1</th>\n",
       "      <td>whaat. making sure.. she's safe.</td>\n",
       "      <td>twitter</td>\n",
       "    </tr>\n",
       "    <tr>\n",
       "      <th>2</th>\n",
       "      <td>HAHAHAHAHAHA, Se ferrou!</td>\n",
       "      <td>twitter</td>\n",
       "    </tr>\n",
       "    <tr>\n",
       "      <th>3</th>\n",
       "      <td>Cant sleep with bad thoughts in my mind</td>\n",
       "      <td>twitter</td>\n",
       "    </tr>\n",
       "    <tr>\n",
       "      <th>4</th>\n",
       "      <td>so tired and sick of trains, tho getting on an...</td>\n",
       "      <td>twitter</td>\n",
       "    </tr>\n",
       "  </tbody>\n",
       "</table>\n",
       "</div>"
      ],
      "text/plain": [
       "                                                text platform\n",
       "0            Had a good first days WE at the herald   twitter\n",
       "1                  whaat. making sure.. she's safe.   twitter\n",
       "2                          HAHAHAHAHAHA, Se ferrou!   twitter\n",
       "3           Cant sleep with bad thoughts in my mind   twitter\n",
       "4  so tired and sick of trains, tho getting on an...  twitter"
      ]
     },
     "execution_count": 47,
     "metadata": {},
     "output_type": "execute_result"
    }
   ],
   "source": [
    "df_twitter_sentiment.rename(columns={\"post\":\"text\"}, inplace=True)\n",
    "df_twitter_sentiment = df_twitter_sentiment[[\"text\"]]\n",
    "df_twitter_sentiment[\"platform\"] = [\"twitter\" for _ in range(df_twitter_sentiment.shape[0])]\n",
    "df_twitter_sentiment.head()"
   ]
  },
  {
   "cell_type": "code",
   "execution_count": 48,
   "id": "0a62bc7c",
   "metadata": {},
   "outputs": [
    {
     "data": {
      "text/html": [
       "<div>\n",
       "<style scoped>\n",
       "    .dataframe tbody tr th:only-of-type {\n",
       "        vertical-align: middle;\n",
       "    }\n",
       "\n",
       "    .dataframe tbody tr th {\n",
       "        vertical-align: top;\n",
       "    }\n",
       "\n",
       "    .dataframe thead th {\n",
       "        text-align: right;\n",
       "    }\n",
       "</style>\n",
       "<table border=\"1\" class=\"dataframe\">\n",
       "  <thead>\n",
       "    <tr style=\"text-align: right;\">\n",
       "      <th></th>\n",
       "      <th>text</th>\n",
       "      <th>platform</th>\n",
       "    </tr>\n",
       "  </thead>\n",
       "  <tbody>\n",
       "    <tr>\n",
       "      <th>0</th>\n",
       "      <td>TEMP 68.2degF F |Feelslike 68.8 degF |RH 67 % ...</td>\n",
       "      <td>twitter</td>\n",
       "    </tr>\n",
       "    <tr>\n",
       "      <th>1</th>\n",
       "      <td>Comparison of Actors is the worst thing Ever !...</td>\n",
       "      <td>twitter</td>\n",
       "    </tr>\n",
       "    <tr>\n",
       "      <th>2</th>\n",
       "      <td>Nitip</td>\n",
       "      <td>twitter</td>\n",
       "    </tr>\n",
       "    <tr>\n",
       "      <th>3</th>\n",
       "      <td>Probably.</td>\n",
       "      <td>twitter</td>\n",
       "    </tr>\n",
       "    <tr>\n",
       "      <th>4</th>\n",
       "      <td>Baby, how you doing? I know you're not doing t...</td>\n",
       "      <td>twitter</td>\n",
       "    </tr>\n",
       "  </tbody>\n",
       "</table>\n",
       "</div>"
      ],
      "text/plain": [
       "                                                text platform\n",
       "0  TEMP 68.2degF F |Feelslike 68.8 degF |RH 67 % ...  twitter\n",
       "1  Comparison of Actors is the worst thing Ever !...  twitter\n",
       "2                                              Nitip  twitter\n",
       "3                                          Probably.  twitter\n",
       "4  Baby, how you doing? I know you're not doing t...  twitter"
      ]
     },
     "execution_count": 48,
     "metadata": {},
     "output_type": "execute_result"
    }
   ],
   "source": [
    "df_twitter_stream = df_twitter_stream[[\"text\"]]\n",
    "df_twitter_stream[\"platform\"] = [\"twitter\" for _ in range(df_twitter_stream.shape[0])]\n",
    "df_twitter_stream.head()"
   ]
  },
  {
   "cell_type": "code",
   "execution_count": 51,
   "id": "b85c3084",
   "metadata": {},
   "outputs": [
    {
     "name": "stderr",
     "output_type": "stream",
     "text": [
      "/tmp/ipykernel_57994/1079997614.py:1: SettingWithCopyWarning: \n",
      "A value is trying to be set on a copy of a slice from a DataFrame\n",
      "\n",
      "See the caveats in the documentation: https://pandas.pydata.org/pandas-docs/stable/user_guide/indexing.html#returning-a-view-versus-a-copy\n",
      "  df_instagram.rename(columns={\"Caption\":\"text\"}, inplace=True)\n"
     ]
    },
    {
     "data": {
      "text/html": [
       "<div>\n",
       "<style scoped>\n",
       "    .dataframe tbody tr th:only-of-type {\n",
       "        vertical-align: middle;\n",
       "    }\n",
       "\n",
       "    .dataframe tbody tr th {\n",
       "        vertical-align: top;\n",
       "    }\n",
       "\n",
       "    .dataframe thead th {\n",
       "        text-align: right;\n",
       "    }\n",
       "</style>\n",
       "<table border=\"1\" class=\"dataframe\">\n",
       "  <thead>\n",
       "    <tr style=\"text-align: right;\">\n",
       "      <th></th>\n",
       "      <th>text</th>\n",
       "      <th>platform</th>\n",
       "    </tr>\n",
       "  </thead>\n",
       "  <tbody>\n",
       "    <tr>\n",
       "      <th>0</th>\n",
       "      <td>bye</td>\n",
       "      <td>instagram</td>\n",
       "    </tr>\n",
       "    <tr>\n",
       "      <th>1</th>\n",
       "      <td>Ok, a few more... sorry I just had so much fun...</td>\n",
       "      <td>instagram</td>\n",
       "    </tr>\n",
       "    <tr>\n",
       "      <th>2</th>\n",
       "      <td>This was one of my favorite shoots I've ever d...</td>\n",
       "      <td>instagram</td>\n",
       "    </tr>\n",
       "    <tr>\n",
       "      <th>3</th>\n",
       "      <td>Wrapped round my finger like a ring</td>\n",
       "      <td>instagram</td>\n",
       "    </tr>\n",
       "    <tr>\n",
       "      <th>4</th>\n",
       "      <td>Yesterday was so much fun!! has been such a hu...</td>\n",
       "      <td>instagram</td>\n",
       "    </tr>\n",
       "  </tbody>\n",
       "</table>\n",
       "</div>"
      ],
      "text/plain": [
       "                                                text   platform\n",
       "0                                               bye   instagram\n",
       "1  Ok, a few more... sorry I just had so much fun...  instagram\n",
       "2  This was one of my favorite shoots I've ever d...  instagram\n",
       "3               Wrapped round my finger like a ring   instagram\n",
       "4  Yesterday was so much fun!! has been such a hu...  instagram"
      ]
     },
     "execution_count": 51,
     "metadata": {},
     "output_type": "execute_result"
    }
   ],
   "source": [
    "df_instagram.rename(columns={\"Caption\":\"text\"}, inplace=True)\n",
    "df_instagram = df_instagram[[\"text\"]]\n",
    "df_instagram[\"platform\"] = [\"instagram\" for _ in range(df_instagram.shape[0])]\n",
    "df_instagram.head()"
   ]
  },
  {
   "cell_type": "code",
   "execution_count": 52,
   "id": "e0f3a998",
   "metadata": {},
   "outputs": [
    {
     "data": {
      "text/html": [
       "<div>\n",
       "<style scoped>\n",
       "    .dataframe tbody tr th:only-of-type {\n",
       "        vertical-align: middle;\n",
       "    }\n",
       "\n",
       "    .dataframe tbody tr th {\n",
       "        vertical-align: top;\n",
       "    }\n",
       "\n",
       "    .dataframe thead th {\n",
       "        text-align: right;\n",
       "    }\n",
       "</style>\n",
       "<table border=\"1\" class=\"dataframe\">\n",
       "  <thead>\n",
       "    <tr style=\"text-align: right;\">\n",
       "      <th></th>\n",
       "      <th>text</th>\n",
       "      <th>platform</th>\n",
       "    </tr>\n",
       "  </thead>\n",
       "  <tbody>\n",
       "    <tr>\n",
       "      <th>0</th>\n",
       "      <td>What kind of phone(s) do you guys have?</td>\n",
       "      <td>reddit</td>\n",
       "    </tr>\n",
       "    <tr>\n",
       "      <th>1</th>\n",
       "      <td>I have a pixel. It's pretty great. Much better...</td>\n",
       "      <td>reddit</td>\n",
       "    </tr>\n",
       "    <tr>\n",
       "      <th>2</th>\n",
       "      <td>Does it really charge all the way in 15 min?</td>\n",
       "      <td>reddit</td>\n",
       "    </tr>\n",
       "    <tr>\n",
       "      <th>3</th>\n",
       "      <td>Samsung Galaxy J1. It's my first cell phone an...</td>\n",
       "      <td>reddit</td>\n",
       "    </tr>\n",
       "    <tr>\n",
       "      <th>4</th>\n",
       "      <td>What do you think of it? Anything you don't like?</td>\n",
       "      <td>reddit</td>\n",
       "    </tr>\n",
       "  </tbody>\n",
       "</table>\n",
       "</div>"
      ],
      "text/plain": [
       "                                                text platform\n",
       "0            What kind of phone(s) do you guys have?   reddit\n",
       "1  I have a pixel. It's pretty great. Much better...   reddit\n",
       "2       Does it really charge all the way in 15 min?   reddit\n",
       "3  Samsung Galaxy J1. It's my first cell phone an...   reddit\n",
       "4  What do you think of it? Anything you don't like?   reddit"
      ]
     },
     "execution_count": 52,
     "metadata": {},
     "output_type": "execute_result"
    }
   ],
   "source": [
    "df_reddit.rename(columns={\"0\":\"text\"}, inplace=True)\n",
    "df_reddit = df_reddit[[\"text\"]]\n",
    "df_reddit[\"platform\"] = [\"reddit\" for _ in range(df_reddit.shape[0])]\n",
    "df_reddit.head()"
   ]
  },
  {
   "cell_type": "code",
   "execution_count": 53,
   "id": "40389a2a",
   "metadata": {},
   "outputs": [
    {
     "name": "stderr",
     "output_type": "stream",
     "text": [
      "/tmp/ipykernel_57994/1556457449.py:3: SettingWithCopyWarning: \n",
      "A value is trying to be set on a copy of a slice from a DataFrame.\n",
      "Try using .loc[row_indexer,col_indexer] = value instead\n",
      "\n",
      "See the caveats in the documentation: https://pandas.pydata.org/pandas-docs/stable/user_guide/indexing.html#returning-a-view-versus-a-copy\n",
      "  df_youtube[\"platform\"] = [\"youtube\" for _ in range(df_youtube.shape[0])]\n"
     ]
    },
    {
     "data": {
      "text/html": [
       "<div>\n",
       "<style scoped>\n",
       "    .dataframe tbody tr th:only-of-type {\n",
       "        vertical-align: middle;\n",
       "    }\n",
       "\n",
       "    .dataframe tbody tr th {\n",
       "        vertical-align: top;\n",
       "    }\n",
       "\n",
       "    .dataframe thead th {\n",
       "        text-align: right;\n",
       "    }\n",
       "</style>\n",
       "<table border=\"1\" class=\"dataframe\">\n",
       "  <thead>\n",
       "    <tr style=\"text-align: right;\">\n",
       "      <th></th>\n",
       "      <th>text</th>\n",
       "      <th>platform</th>\n",
       "    </tr>\n",
       "  </thead>\n",
       "  <tbody>\n",
       "    <tr>\n",
       "      <th>0</th>\n",
       "      <td>Waoo</td>\n",
       "      <td>youtube</td>\n",
       "    </tr>\n",
       "    <tr>\n",
       "      <th>1</th>\n",
       "      <td>Awesome art work 👌👌😍😍</td>\n",
       "      <td>youtube</td>\n",
       "    </tr>\n",
       "    <tr>\n",
       "      <th>2</th>\n",
       "      <td>Great artwork, lovely video. Thank you for sha...</td>\n",
       "      <td>youtube</td>\n",
       "    </tr>\n",
       "    <tr>\n",
       "      <th>3</th>\n",
       "      <td>Nice drawing 👌</td>\n",
       "      <td>youtube</td>\n",
       "    </tr>\n",
       "    <tr>\n",
       "      <th>4</th>\n",
       "      <td>Beautiful drawing</td>\n",
       "      <td>youtube</td>\n",
       "    </tr>\n",
       "  </tbody>\n",
       "</table>\n",
       "</div>"
      ],
      "text/plain": [
       "                                                text platform\n",
       "0                                               Waoo  youtube\n",
       "1                              Awesome art work 👌👌😍😍  youtube\n",
       "2  Great artwork, lovely video. Thank you for sha...  youtube\n",
       "3                                     Nice drawing 👌  youtube\n",
       "4                                  Beautiful drawing  youtube"
      ]
     },
     "execution_count": 53,
     "metadata": {},
     "output_type": "execute_result"
    }
   ],
   "source": [
    "df_youtube.rename(columns={\"YouTube\":\"text\"}, inplace=True)\n",
    "df_youtube = df_youtube[[\"text\"]]\n",
    "df_youtube[\"platform\"] = [\"youtube\" for _ in range(df_youtube.shape[0])]\n",
    "df_youtube.head()"
   ]
  },
  {
   "cell_type": "markdown",
   "id": "d35613c7",
   "metadata": {},
   "source": [
    "# Merge Datasets"
   ]
  },
  {
   "cell_type": "code",
   "execution_count": 54,
   "id": "b19e0e5e",
   "metadata": {},
   "outputs": [],
   "source": [
    "df_full = pd.concat([df_twitter_sentiment, df_twitter_stream, df_instagram, df_reddit, df_youtube])"
   ]
  },
  {
   "cell_type": "code",
   "execution_count": 57,
   "id": "bf476f76",
   "metadata": {},
   "outputs": [],
   "source": [
    "df_full.reset_index(inplace=True, drop=True)"
   ]
  },
  {
   "cell_type": "code",
   "execution_count": 61,
   "id": "5b1deec2",
   "metadata": {},
   "outputs": [],
   "source": [
    "# Some extra cleaning. Replacing html ampersand codes.\n",
    "from w3lib.html import replace_entities\n",
    "df_full[\"text\"] = df_full[\"text\"].astype(str)\n",
    "df_full[\"text\"] = df_full[\"text\"].apply(replace_entities)"
   ]
  },
  {
   "cell_type": "markdown",
   "id": "ddd05958",
   "metadata": {},
   "source": [
    "# Compute Features"
   ]
  },
  {
   "cell_type": "markdown",
   "id": "99283f76",
   "metadata": {},
   "source": [
    "## Positive/Negative Word Counts\n",
    "Positive and negative word lists pulled from https://ptrckprry.com/course/ssd/data/positive-words.txt\n",
    "and https://ptrckprry.com/course/ssd/data/negative-words.txt\n",
    "respectively.\n",
    "\n",
    "First we read in the word lists and set up functions that will count their occurences."
   ]
  },
  {
   "cell_type": "code",
   "execution_count": 64,
   "id": "0043fafd",
   "metadata": {},
   "outputs": [],
   "source": [
    "import re"
   ]
  },
  {
   "cell_type": "code",
   "execution_count": 65,
   "id": "7283b7dd",
   "metadata": {},
   "outputs": [],
   "source": [
    "with open(\"wordLists/positive_words.txt\",'r') as file:\n",
    "    positive_words = file.read().splitlines()\n",
    "\n",
    "with open(\"wordLists/negative_words.txt\",'r') as file:\n",
    "    negative_words = file.read().splitlines()"
   ]
  },
  {
   "cell_type": "code",
   "execution_count": 66,
   "id": "35209d9d",
   "metadata": {},
   "outputs": [
    {
     "name": "stdout",
     "output_type": "stream",
     "text": [
      "2006\n",
      "4783\n"
     ]
    }
   ],
   "source": [
    "print(len(positive_words))\n",
    "print(len(negative_words))"
   ]
  },
  {
   "cell_type": "code",
   "execution_count": 67,
   "id": "6c6a5750",
   "metadata": {},
   "outputs": [],
   "source": [
    "#Functions that count the occurences of positive/negative words in a text string\n",
    "def count_positive(text):\n",
    "    counter = 0\n",
    "    for word in positive_words:\n",
    "        counter += text.lower().split().count(word)\n",
    "    return counter\n",
    "def count_negative(text):\n",
    "    counter = 0\n",
    "    for word in negative_words:\n",
    "        counter += text.lower().split().count(word)\n",
    "    return counter"
   ]
  },
  {
   "cell_type": "markdown",
   "id": "b57ebe78",
   "metadata": {},
   "source": [
    "We create the new features (this takes a minute to run)"
   ]
  },
  {
   "cell_type": "code",
   "execution_count": 69,
   "id": "7105f725",
   "metadata": {},
   "outputs": [],
   "source": [
    "df_full[\"positive_words\"] = df_full[\"text\"].apply(count_positive)"
   ]
  },
  {
   "cell_type": "code",
   "execution_count": 70,
   "id": "e62fe9ba",
   "metadata": {},
   "outputs": [],
   "source": [
    "df_full[\"negative_words\"] = df_full[\"text\"].apply(count_negative)"
   ]
  },
  {
   "cell_type": "markdown",
   "id": "11e3a441",
   "metadata": {},
   "source": [
    "# Text Length"
   ]
  },
  {
   "cell_type": "code",
   "execution_count": 71,
   "id": "c06ada29",
   "metadata": {},
   "outputs": [],
   "source": [
    "df_full[\"length\"] = df_full[\"text\"].apply(len)\n",
    "df_full[\"word_count\"] = df_full[\"text\"].apply((lambda s:len(s.split())))"
   ]
  },
  {
   "cell_type": "markdown",
   "id": "8c59f825",
   "metadata": {},
   "source": [
    "# Male and Female words\n",
    "Word lists adapted from https://github.com/DanielleSucher/Jailbreak-the-Patriarchy/blob/master/myscript.js"
   ]
  },
  {
   "cell_type": "code",
   "execution_count": 72,
   "id": "b4c5a158",
   "metadata": {},
   "outputs": [],
   "source": [
    "with open(\"wordLists/male_words\", 'r') as file:\n",
    "    male_words = file.read().splitlines()"
   ]
  },
  {
   "cell_type": "code",
   "execution_count": 73,
   "id": "7dce7877",
   "metadata": {},
   "outputs": [],
   "source": [
    "with open(\"wordLists/female_words\", 'r') as file:\n",
    "    female_words = file.read().splitlines()"
   ]
  },
  {
   "cell_type": "code",
   "execution_count": 74,
   "id": "12c14826",
   "metadata": {},
   "outputs": [],
   "source": [
    "def count_male(text):\n",
    "    counter = 0\n",
    "    for word in male_words:\n",
    "        counter += text.lower().split().count(word)\n",
    "    return counter\n",
    "def count_female(text):\n",
    "    counter = 0\n",
    "    for word in female_words:\n",
    "        counter += text.lower().split().count(word)\n",
    "    return counter"
   ]
  },
  {
   "cell_type": "code",
   "execution_count": 75,
   "id": "a4cf5bca",
   "metadata": {},
   "outputs": [],
   "source": [
    "df_full[\"male_words\"] = df_full[\"text\"].apply(count_male)"
   ]
  },
  {
   "cell_type": "code",
   "execution_count": 76,
   "id": "f19d541a",
   "metadata": {},
   "outputs": [],
   "source": [
    "df_full[\"female_words\"] = df_full[\"text\"].apply(count_female)"
   ]
  },
  {
   "cell_type": "markdown",
   "id": "318d0c13",
   "metadata": {},
   "source": [
    "# Sentiment analysis scores from Afinn"
   ]
  },
  {
   "cell_type": "code",
   "execution_count": 77,
   "id": "833352f7",
   "metadata": {},
   "outputs": [],
   "source": [
    "from afinn import Afinn\n",
    "afinn = Afinn(language='en')\n",
    "df_full[\"afinn\"] = df_full[\"text\"].apply(afinn.score)"
   ]
  },
  {
   "cell_type": "markdown",
   "id": "20c1f14c",
   "metadata": {},
   "source": [
    "# Save the resulting Dataframe!"
   ]
  },
  {
   "cell_type": "code",
   "execution_count": 78,
   "id": "20a190f4",
   "metadata": {},
   "outputs": [],
   "source": [
    "df_full.to_csv(\"full_dataset.csv\")"
   ]
  }
 ],
 "metadata": {
  "kernelspec": {
   "display_name": "Python 3 (ipykernel)",
   "language": "python",
   "name": "python3"
  },
  "language_info": {
   "codemirror_mode": {
    "name": "ipython",
    "version": 3
   },
   "file_extension": ".py",
   "mimetype": "text/x-python",
   "name": "python",
   "nbconvert_exporter": "python",
   "pygments_lexer": "ipython3",
   "version": "3.11.0"
  }
 },
 "nbformat": 4,
 "nbformat_minor": 5
}
