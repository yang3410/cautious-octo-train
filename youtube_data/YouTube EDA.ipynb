{
 "cells": [
  {
   "cell_type": "code",
   "execution_count": 1,
   "id": "bad70e91",
   "metadata": {},
   "outputs": [],
   "source": [
    "import pandas as pd\n",
    "import numpy as np\n",
    "import matplotlib.pyplot as plt\n",
    "import re"
   ]
  },
  {
   "cell_type": "code",
   "execution_count": 2,
   "id": "46924a1f",
   "metadata": {},
   "outputs": [
    {
     "data": {
      "text/html": [
       "<div>\n",
       "<style scoped>\n",
       "    .dataframe tbody tr th:only-of-type {\n",
       "        vertical-align: middle;\n",
       "    }\n",
       "\n",
       "    .dataframe tbody tr th {\n",
       "        vertical-align: top;\n",
       "    }\n",
       "\n",
       "    .dataframe thead th {\n",
       "        text-align: right;\n",
       "    }\n",
       "</style>\n",
       "<table border=\"1\" class=\"dataframe\">\n",
       "  <thead>\n",
       "    <tr style=\"text-align: right;\">\n",
       "      <th></th>\n",
       "      <th>YouTube</th>\n",
       "    </tr>\n",
       "  </thead>\n",
       "  <tbody>\n",
       "    <tr>\n",
       "      <th>0</th>\n",
       "      <td>Waoo</td>\n",
       "    </tr>\n",
       "    <tr>\n",
       "      <th>1</th>\n",
       "      <td>Awesome art work 👌👌😍😍</td>\n",
       "    </tr>\n",
       "    <tr>\n",
       "      <th>2</th>\n",
       "      <td>Great artwork, lovely video. Thank you for sha...</td>\n",
       "    </tr>\n",
       "    <tr>\n",
       "      <th>3</th>\n",
       "      <td>Nice drawing 👌</td>\n",
       "    </tr>\n",
       "    <tr>\n",
       "      <th>4</th>\n",
       "      <td>Beautiful drawing</td>\n",
       "    </tr>\n",
       "  </tbody>\n",
       "</table>\n",
       "</div>"
      ],
      "text/plain": [
       "                                             YouTube\n",
       "0                                               Waoo\n",
       "1                              Awesome art work 👌👌😍😍\n",
       "2  Great artwork, lovely video. Thank you for sha...\n",
       "3                                     Nice drawing 👌\n",
       "4                                  Beautiful drawing"
      ]
     },
     "execution_count": 2,
     "metadata": {},
     "output_type": "execute_result"
    }
   ],
   "source": [
    "#Read in data\n",
    "df = pd.read_csv(\"ytdata_shortened.csv\")\n",
    "df.head(5)"
   ]
  },
  {
   "cell_type": "code",
   "execution_count": 3,
   "id": "e0dd9f44",
   "metadata": {},
   "outputs": [],
   "source": [
    "# Some extra cleaning. Replacing html ampersand codes.\n",
    "from w3lib.html import replace_entities\n",
    "df[\"YouTube\"] = df[\"YouTube\"].astype(str)\n",
    "df[\"YouTube\"] = df[\"YouTube\"].apply(replace_entities)"
   ]
  },
  {
   "cell_type": "code",
   "execution_count": 4,
   "id": "5fbc9580",
   "metadata": {},
   "outputs": [],
   "source": [
    "with open(\"positive_words.txt\",'r') as file:\n",
    "    positive_words = file.read().splitlines()\n",
    "\n",
    "with open(\"negative_words.txt\",'r') as file:\n",
    "    negative_words = file.read().splitlines()"
   ]
  },
  {
   "cell_type": "code",
   "execution_count": 5,
   "id": "2febfa93",
   "metadata": {},
   "outputs": [
    {
     "name": "stdout",
     "output_type": "stream",
     "text": [
      "2006\n",
      "4783\n"
     ]
    }
   ],
   "source": [
    "print(len(positive_words))\n",
    "print(len(negative_words))"
   ]
  },
  {
   "cell_type": "code",
   "execution_count": 6,
   "id": "f0c0a020",
   "metadata": {},
   "outputs": [],
   "source": [
    "#Functions that count the occurences of positive/negative words in a text string\n",
    "def count_positive(text):\n",
    "    counter = 0\n",
    "    for word in positive_words:\n",
    "        counter += text.lower().split().count(word)\n",
    "    return counter\n",
    "def count_negative(text):\n",
    "    counter = 0\n",
    "    for word in negative_words:\n",
    "        counter += text.lower().split().count(word)\n",
    "    return counter"
   ]
  },
  {
   "cell_type": "code",
   "execution_count": 7,
   "id": "4f76f5da",
   "metadata": {},
   "outputs": [],
   "source": [
    "df[\"positive_words\"] = df[\"YouTube\"].apply(count_positive)"
   ]
  },
  {
   "cell_type": "code",
   "execution_count": 8,
   "id": "27facac2",
   "metadata": {},
   "outputs": [],
   "source": [
    "df[\"negative_words\"] = df[\"YouTube\"].apply(count_negative)"
   ]
  },
  {
   "cell_type": "code",
   "execution_count": 9,
   "id": "862ffafe",
   "metadata": {},
   "outputs": [
    {
     "data": {
      "text/plain": [
       "count    11304.000000\n",
       "mean         0.567764\n",
       "std          1.089147\n",
       "min          0.000000\n",
       "25%          0.000000\n",
       "50%          0.000000\n",
       "75%          1.000000\n",
       "max         28.000000\n",
       "Name: positive_words, dtype: float64"
      ]
     },
     "execution_count": 9,
     "metadata": {},
     "output_type": "execute_result"
    }
   ],
   "source": [
    "df.positive_words.describe()"
   ]
  },
  {
   "cell_type": "code",
   "execution_count": 10,
   "id": "8ae275c8",
   "metadata": {},
   "outputs": [
    {
     "data": {
      "text/plain": [
       "count    11304.000000\n",
       "mean         0.359253\n",
       "std          0.991607\n",
       "min          0.000000\n",
       "25%          0.000000\n",
       "50%          0.000000\n",
       "75%          0.000000\n",
       "max         29.000000\n",
       "Name: negative_words, dtype: float64"
      ]
     },
     "execution_count": 10,
     "metadata": {},
     "output_type": "execute_result"
    }
   ],
   "source": [
    "df.negative_words.describe()"
   ]
  },
  {
   "cell_type": "code",
   "execution_count": 11,
   "id": "2a998a78",
   "metadata": {},
   "outputs": [],
   "source": [
    "most_positive = df[\"positive_words\"].argmax()"
   ]
  },
  {
   "cell_type": "code",
   "execution_count": 12,
   "id": "280a4bfa",
   "metadata": {},
   "outputs": [
    {
     "name": "stdout",
     "output_type": "stream",
     "text": [
      "\"Nice spider\"? So, watching animals kill each other is \"beautiful\"? What does \"natural\" even mean? It is Scientifically Proven that the Earth is an Irregular Plane (Irregular refers to the Lands, which have elevation and deviation. Plane refers to the Standing Bodies of Water, which are always level), which is created because of Intent, Intelligent Design. If you want to watch a quick video to sum all this up, it's explained phenomenally by a Scientist (Realist) known as Del: https://youtu.be/TXWAMyLb-xs and also: https://youtu.be/pKYywPYJfWo\n",
      "\n",
      "Here's why:\n",
      "\n",
      "First of all, remember that Science DOES NOT belong to any institution. It DOES NOT belong to a particular group or person. It belongs to every single human being alive.\n",
      "The ones searching for truths according to the type of the claim become Scientists. People searching for truths also become Realists (Truth Seekers). Science means exploring the inner and outer surroundings of ourselves.\n",
      "\n",
      "There are three different types of Sciences:\n",
      "A) Natural Science\n",
      "B) Formal Science\n",
      "C) Social Science\n",
      "\n",
      "Social Science deals with people and their behaviours. Formal Science deals with Mathematics and it's assumptions (Mathematics is a language, which means that we can create anything and make it mathematically correct, but that means NOTHING in real life), Natural Science deals with Objective Reality (The immediate or physical reality). If someone claims that something exists in the Objective World, OTRMDPPs are needed for that claim to be Scientifically Proven. OTRMDPPs means Observable, Testable, Repeatable, Measurable, Demonstrable, Practical Proofs which MUST be verifiable by every single human being alive. Without OTRMDPPs, the claimed thing is considered pseudoscience, or a belief.\n",
      "\n",
      "I now shall ask the question \"What is the shape of the earth we stand upon?\" and then immediately proceed to look for OTRMDPPs. I found out that some lands are elevated (Mountains), some lands are deviated, some lands are level. We can then conclude that the lands are Irregular in shape, which means not all lands are elevated, not all lands are deviated.\n",
      "\n",
      "The next OTRMDPP is Water. Water is abundant. It is the second most important thing for human beings to survive (number one being air), which means that every single human being alive has access to it. The bodies of water are largely found in Oceans. I then found out that the bodies of water need a container to stay still (stand). If there isn't a container, I found out that they will flow until they find the lowest point to stand upon. Bodies of water stand, if there is a container, which means we can call them Standing Bodies of Water. I then found out that Standing Bodies of Water are always Level (Which means no elevation or deviation from the starting point to the end). If not messed with in any way (for example the air pushing the water), Standing Bodies of Water are also perfectly still.\n",
      "\n",
      "I then tried to pour some water in a completely sealed rectangle shaped container, this did the trick. The water then starting to fill up the container until the very top. If I pour any more water, it will flow away.\n",
      "\n",
      "I then measured it to see if it was perfectly level, and to my surprise, it was perfectly level without any deviation or elevation. Obviously water is the MOST perfect tool we got to make something level. Water takes the shape of a container.\n",
      "\n",
      "I then got an idea to use a sphere. I started to pour the water onto the sphere, but then the water flowed off from the sphere immediately to the lowest point, that tells me that Water DOES NOT conform to exterior of shapes.\n",
      "\n",
      "There is also ANOTHER OTRMDPP. The floor cannot rise to our eye level if it were a ball, no matter the size. Because spherical geometry makes it impossible for floor on a ball to rise to our eye level. Watch this video for more info: https://youtu.be/o3jX96TVy5s\n",
      "\n",
      "With the help of OTRMDPPs, I have concluded that the Earth is an Irregular Plane (Irregular refers to the Lands, which have elevation and deviation. Plane refers to the Standing Bodies of Water, which are always level).\n",
      "\n",
      "I will then ask another question \"Did something create this world?\". After searching for OTRMDPPs, I found that anything, be it dirt, or water, or rock, can't be created from thin air, stuff cannot pop out of thin air, not even randomly. With the help of OTRMDPPs, it is Scientifically Proven that this world has been created by Intelligent Design. There is absolutely no other option. This world, the entirety of it, is infinite. Because if there's a starting point and an end point, what created the starting point and end point? Then what created the one which created the starting point and end point? Where is it located? It's infinite regress. Only logical solution is infinite. Sure, our lives, the physical world may have a certian finite feature, but the whole thing, the primer mover, has got to be infinite, eternal. Watch this video for a better understanding: https://youtu.be/P3-1GrBTTdo\n",
      "\n",
      "Now I had some curious questions, \"What about the sky? What about the two light things that move in the sky? What about stars that move in the sky at night?\"\n",
      "\n",
      "Before we go any further, I want you to remember about two more different things when it comes to the Objective World, the Intangible and the Tangible.\n",
      "\n",
      "Intangibles are those objects which are not in our immediate reality. For example, If I see a house far away, I cannot measure how far away it is or how big it is, I need to get near it first.\n",
      "\n",
      "Tangibles are those objects which are available in our immediate reality. For example, I am typing this article on my iPad, which means that I can touch it, I can observe it in full 3D. I can rotate it around completely to touch and see the whole shape, I can measure it, I can also interact with it.\n",
      "\n",
      "The sky is Intangible. The Moon is Intangible. The Sun is Intangible. The Stars are Intangible. OTRMDPPs are NOT available. Every single capable human being should be able to reach the sky and OTRMD with Practical Proofs the things in the sky in full 3D, if not, we do not know what those objects are in the sky, and trying to come up with ideas about what those might be are nothing but assumptions, ideas, beliefs. We live ON Earth, not IN the sky.\n",
      "\n",
      "Now, OTRMDPPs tell us that because this world contains Air Pressure, there is no other way, this world is CONTAINED. OTRMDPPs tell us that this world is CONTAINED in SOME way, we do not know the shape of the container. But without a solid container, Air Pressure is literally impossible, I'm afraid.\n",
      "\n",
      "TV Screens, hearsay, white coat guys talking nonsensical mathematical equations are NOTHING but beliefs and mental thoughts, TV Screens are NEVER going to be concluded as Scientific Proofs, the things shown in the TV Screens are NOT PHYSICAL.\n",
      "\n",
      "Last but not the least, one last question \"Why are things falling downwards?\" Well, the way things fall has NOTHING to do with the shape of the earth. \"But Gravity!\" What is \"Gravity\"? Can we OTRMD with Practical Proofs? NO. Is it a magical pulling force which allows some things to fly and pulls down some things to make them fall? Can two objects come closer without some sort of push? \"Yes, in space\" ARE YOU THIS STUPID? We live right NOW, on EARTH, not in some magical fantasy land! In order for two objects to come closer, I either have to push one object to the other from the front, or push the second object from it's back to the front. Motion is ONLY created if something presses on something else. Pull is just a term for push. Things that weigh more than air fall down, things that weigh less than air float.\n",
      "\n",
      "If you want to go deeper and ask why do things even have weight, we have to first explore the whole earth to get a good understanding. But if you're curious anyway, I suggest you watch this video: https://youtu.be/G05dl2BenKE and this: https://youtu.be/XJ11coI7mas\n",
      "\n",
      "\"Why does it matter? I don't care about the shape!\" Well, I will address you some important questions, \"If the Earth is an Irregular Plane, why are these governments lying?\" They're lying because they don't want people to explore the world and find out what's out there. \"Don't you want to know about your existence, the purpose of life?\", they gave us a 2D map, they're showing the map everywhere, and people are accepting the map WITHOUT exploring the world! How can we verify or falsify a map without physically exploring first? We are trusting governments as if those corrupted psychopaths are our mom and dads! Do you like being imposed by strangers? All the governments are CONNECTED.\n",
      "\n",
      "If we have the truths about our existence, about what created this, about the whole place, we do NOT need religions, philosophies, beliefs. The majority of people are in debts, some are poor, and some are incredibly and suspiciously rich... then HOW IS THIS A GOOD SYSTEM? The government is imposing it's subjective version of what's good and what's bad on the whole world and people are accepting it? You don't want equality, compassion, love, respect? If a person kidnapped ten people and he's forcing them to do things with or without their consent, he automatically becomes a criminal. What's the government doing? BOTH ARE DOING THE EXACT SAME THING, IMPOSING! THE MAJORITY OF THE POPULATION HAS STOCKHOLM SYNDROME!\n",
      "\n",
      "Thank you for reading this article. If you still have any doubts, please feel free to email me at ‪MysteriousPlane@pm.me‬. Please remember that personalities have nothing to do with Objective Reality.\n",
      "\n",
      "I'm not associated with anyone, I can only represent myself.\n",
      "\n",
      "We should not judge people by their personalities unless that's your game. I don't judge people by their personalities (His voice is a bit weird, his hands are tiny! His face is ugly! He is fat! He has tattoos!), I came for the content, and that's what I should think about. To know more, watch this video: https://youtu.be/RpjOumePOkc\n",
      "\n",
      "PDF: https://1drv.ms/b/s!Apkz7LdrIa2che1Xnus9jNppF2XaSw\n",
      "28\n"
     ]
    }
   ],
   "source": [
    "print(df.iloc[most_positive].YouTube)\n",
    "print(df.iloc[most_positive].positive_words)"
   ]
  },
  {
   "cell_type": "code",
   "execution_count": 13,
   "id": "b79bc75a",
   "metadata": {},
   "outputs": [],
   "source": [
    "most_negative = df[\"negative_words\"].argmax()"
   ]
  },
  {
   "cell_type": "code",
   "execution_count": 14,
   "id": "76487dc1",
   "metadata": {},
   "outputs": [
    {
     "name": "stdout",
     "output_type": "stream",
     "text": [
      "\"I do not believe anymore that UFOs are simply the spacecraft of some race of extraterrestrial visitors. This notion is too simplistic to explain their appearance, the frequency of their manifestations through recorded history, and the structure of the information exchanged with them during contact.\" - Dr. Jacques Valle \n",
      "\n",
      "\"An impressive parallel can be made between UFO occupants and the popular conceptions of demons. UFOs can project images or fabricated scenes designed to change our belief systems... human belief... is being controlled and conditioned, man's concepts are being rearranged, and we may be headed toward  a massive change of human attitudes toward paranormal abilities and extraterrestrial life. - Dr. JV\n",
      "\n",
      "\"Human beings are under the control of a strange force that bends them in absurd ways, forcing them to play a role in a bizarre game of deception.\"\n",
      "- Dr. Jacques Vallee, Messengers of Deception, p. 20\n",
      "\n",
      "\"We are dealing with a multidimensional paraphysical phenomenon which is largely indigenous to planet earth.\"\n",
      "- Brad Steiger, [cited in] Blue Book Files Released in Canadian UFO Report, Vol. 4, No. 4, 1977, p. 20\n",
      "\n",
      "\"We are part of a symbiotic relationship with something which disguises itself as an extra-terrestrial invasion so as not to alarm us.\"\n",
      "-Terrence McKenna [from a lecture]\n",
      "\n",
      "\"One theory which can no longer be taken very seriously is that UFOs are interstellar spaceships.\"\n",
      "- Arthur C. Clarke, New York Times Book Review, 07/27/75\n",
      "\n",
      "\"There seems to be no evidence yet that any of these craft or beings originate from outer space.\"\n",
      "-Gordon Creighton, Official 1992 Flying Saucer Review Policy Statement\n",
      "\n",
      "\"A large part of the available UFO literature is closely linked with mysticism and the metaphysical. It deals with subjects like mental telepathy, automatic writing and invisible entities as well as phenomena like poltergeist [ghost] manifestation and 'possession.' Many of the UFO reports now being published in the popular press recount alleged incidents that are strikingly similar to demonic possession and psychic phenomena.\"\n",
      "- Lynn E. Catoe, UFOs and Related Subjects: USGPO, 1969; prepared under AFOSR Project Order 67-0002 and 68-0003\n",
      "\n",
      "\"UFO behaviour is more akin to magic than to physics as we know it... the modern UFOnauts and the demons of past days are probably identical.\"\n",
      "-Dr. Pierre Guerin, FSR Vol. 25, No. 1, p. 13-14\n",
      "\n",
      "\"The UFO manifestations seem to be, by and large, merely minor variations of the age-old demonological phenomenon...\"\n",
      "- John A. Keel, UFOs: Operation Trojan Horse, p. 299\n",
      "\n",
      "\"A working knowledge of occult science...is indispensable to UFO investigation.\"\n",
      "-Trevor James, FSR Vol. 8, No. 1, p.10\n",
      "\n",
      "Studies of flying saucer cults repeatedly show that they are part of a larger occult social world.\"\n",
      "-Stupple & McNeece, 1979 MUFON UFO Symposium Proceedings, p. 49\n",
      "\n",
      "\"The 'medical examination' to which abductees are said to be subjected, often accompanied by sadistic sexual manipulation, is reminiscient of the medieval tales of encounters with demons. It makes no sense in a sophisticated or technical framework: any intelligent being equipped with the scientific marvels that UFOs possess would be in a position to achieve any of these alleged scientific objectives in a shorter time and with fewer risks.\"\n",
      "- Dr. Jacques Vallee, Confrontations, p. 13\n",
      "\n",
      "\"The symbolic display seen by the abductees is identical to the type of initiation ritual or astral voyage that is imbedded in the [occult] traditions of every culture...the structure of abduction stories is identical to that of occult initiation rituals...the UFO beings of today belong to the same class of manifestation as the [occult] entities that were described in centuries past.\"\n",
      "-Dr. Jacques Vallee citing the extensive research of Bertrand Meheust [Science-Fiction et Soucoupes Volantes (Paris, 1978); Soucoupes Volantes et Folklore (Paris, 1985)], in Confrontations, p. 146, 159-161\n",
      "\n",
      "\"[The occultist] is brought into intelligent communication with the spirits of the air, and can receive any knowledge which they possess, or any false impression they choose to impart...the demons seem permitted to do various wonders at their request.\"\n",
      "- G.H. Pember, Earth's Earliest Ages and Their Connection with Modern Spiritualism and Theosophy (1876), p. 254\n",
      "\n",
      "\"These entities are clever enough to make Strieber think they care about him. Yet his torment by them never ceases. Whatever his relationship to the entities, and he increasingly concludes that their involvement with him is something 'good,' he also remains terrified of them and uncertain as to what they are.\"\n",
      "- John Ankerberg, The Facts on UFOs and Other Supernatural Phenomena, p. 21\n",
      "\n",
      "\"I became entirely given over to extreme dread. The fear was so powerful that it seemed to make my personality completely evaporate... 'Whitley' ceased to exist. What was left was a body and a state of raw fear so great that it swept about me like a thick, suffocating curtain, turning paralysis into a condition that seemed close to death...I died and a wild animal appeared in my place.\"\n",
      "- Whitley Strieber, Communion, p. 25-26\n",
      "\n",
      "\"Increasingly I felt as if I were entering a struggle that might even be more than life and death. It might be a struggle for my soul, my essence, or whatever part of me might have reference to the eternal. There are worse things than death, I suspected... so far the word demon had never been spoken among the scientists and doctors who were working with me...Alone at night I worried about the legendary cunning of demons ...At the very least I was going stark, raving mad.\"\n",
      "- Whitley Strieber, Transformation, p. 44-45\n",
      "\n",
      "\"I wondered if I might not be in the grip of demons, if they were not making me suffer for their own purposes, or simply for their enjoyment.\"\n",
      "- Whitley Strieber, Transformation, p. 172\n",
      "\n",
      "\"I felt an absolutely indescribable sense of menace. It was hell on earth to be there [in the presence of the entities], and yet I couldn't move, couldn't cry out, couldn't get away. I'd lay as still as death, suffering inner agonies. Whatever was there seemed so monstrously ugly, so filthy and dark and sinister. Of course they were demons. They had to be. And they were here and I couldn't get away.\"\n",
      "- Whitley Strieber, Transformation, p. 181\n",
      "\n",
      "\"Why were my visitors so secretive, hiding themselves behind my consciousness. I could only conclude that they were using me and did not want me to know why...What if they were dangerous? Then I was terribly dangerous because I was playing a role in acclimatizing people to them.\"\n",
      "- Whitley Strieber, Transformation, p. 96\n",
      "\n",
      "These things are not our friends. The world is controlled by their satanic bloodlines. War, pedophilia, sex trafficking... All goes back to to them.\n",
      "29\n"
     ]
    }
   ],
   "source": [
    "print(df.iloc[most_negative].YouTube)\n",
    "print(df.iloc[most_negative].negative_words)"
   ]
  },
  {
   "cell_type": "code",
   "execution_count": 15,
   "id": "16b3af13",
   "metadata": {},
   "outputs": [
    {
     "data": {
      "image/png": "[encoded data removed]",
      "text/plain": [
       "<Figure size 640x480 with 1 Axes>"
      ]
     },
     "metadata": {},
     "output_type": "display_data"
    },
    {
     "data": {
      "image/png": "[encoded data removed]",
      "text/plain": [
       "<Figure size 640x480 with 1 Axes>"
      ]
     },
     "metadata": {},
     "output_type": "display_data"
    }
   ],
   "source": [
    "plt.hist(df.positive_words, bins = df.positive_words.max())\n",
    "plt.show()\n",
    "plt.hist(df.negative_words, bins = df.negative_words.max())\n",
    "plt.show()"
   ]
  },
  {
   "cell_type": "code",
   "execution_count": 16,
   "id": "f3ec997d",
   "metadata": {},
   "outputs": [],
   "source": [
    "df[\"length\"] = df[\"YouTube\"].apply(len)\n",
    "df[\"word_count\"] = df[\"YouTube\"].apply((lambda s:len(s.split())))"
   ]
  },
  {
   "cell_type": "code",
   "execution_count": 17,
   "id": "30294b07",
   "metadata": {},
   "outputs": [
    {
     "data": {
      "image/png": "[encoded data removed]",
      "text/plain": [
       "<Figure size 640x480 with 1 Axes>"
      ]
     },
     "metadata": {},
     "output_type": "display_data"
    },
    {
     "data": {
      "image/png": "[encoded data removed]",
      "text/plain": [
       "<Figure size 640x480 with 1 Axes>"
      ]
     },
     "metadata": {},
     "output_type": "display_data"
    }
   ],
   "source": [
    "plt.hist(df[\"length\"])\n",
    "plt.show()\n",
    "plt.hist(df[\"word_count\"])\n",
    "plt.show()"
   ]
  },
  {
   "cell_type": "code",
   "execution_count": 18,
   "id": "a043fad3",
   "metadata": {},
   "outputs": [],
   "source": [
    "with open(\"male_words\", 'r') as file:\n",
    "    male_words = file.read().splitlines()"
   ]
  },
  {
   "cell_type": "code",
   "execution_count": 19,
   "id": "c1857633",
   "metadata": {},
   "outputs": [],
   "source": [
    "with open(\"female_words\", 'r') as file:\n",
    "    female_words = file.read().splitlines()"
   ]
  },
  {
   "cell_type": "code",
   "execution_count": 20,
   "id": "cf1d01f6",
   "metadata": {},
   "outputs": [],
   "source": [
    "def count_male(text):\n",
    "    counter = 0\n",
    "    for word in male_words:\n",
    "        counter += text.lower().split().count(word)\n",
    "    return counter\n",
    "def count_female(text):\n",
    "    counter = 0\n",
    "    for word in female_words:\n",
    "        counter += text.lower().split().count(word)\n",
    "    return counter"
   ]
  },
  {
   "cell_type": "code",
   "execution_count": 21,
   "id": "96ffaab8",
   "metadata": {},
   "outputs": [],
   "source": [
    "df[\"male_words\"] = df[\"YouTube\"].apply(count_male)"
   ]
  },
  {
   "cell_type": "code",
   "execution_count": 22,
   "id": "bfc5765f",
   "metadata": {},
   "outputs": [],
   "source": [
    "df[\"female_words\"] = df[\"YouTube\"].apply(count_female)"
   ]
  },
  {
   "cell_type": "code",
   "execution_count": 23,
   "id": "a0d9982a",
   "metadata": {},
   "outputs": [
    {
     "data": {
      "text/plain": [
       "count    11304.000000\n",
       "mean         0.192321\n",
       "std          0.766219\n",
       "min          0.000000\n",
       "25%          0.000000\n",
       "50%          0.000000\n",
       "75%          0.000000\n",
       "max         16.000000\n",
       "Name: male_words, dtype: float64"
      ]
     },
     "execution_count": 23,
     "metadata": {},
     "output_type": "execute_result"
    }
   ],
   "source": [
    "df[\"male_words\"].describe()"
   ]
  },
  {
   "cell_type": "code",
   "execution_count": 24,
   "id": "05e9ec2c",
   "metadata": {},
   "outputs": [
    {
     "data": {
      "text/plain": [
       "count    11304.000000\n",
       "mean         0.095807\n",
       "std          0.599127\n",
       "min          0.000000\n",
       "25%          0.000000\n",
       "50%          0.000000\n",
       "75%          0.000000\n",
       "max         14.000000\n",
       "Name: female_words, dtype: float64"
      ]
     },
     "execution_count": 24,
     "metadata": {},
     "output_type": "execute_result"
    }
   ],
   "source": [
    "df[\"female_words\"].describe()"
   ]
  },
  {
   "cell_type": "code",
   "execution_count": 25,
   "id": "1c99f13a",
   "metadata": {},
   "outputs": [
    {
     "data": {
      "text/plain": [
       "\"Britny Fox – Girl School\\n\\nCome on girls!\\n\\n\\nA school bell rings off the day,\\nBrings in a stray a few girls at play.\\nCut school pink slips are fine\\nFor a good time there's boys on their mind.\\n\\nA bad girl smoking in school,\\nBreaking the rules acting real cool.\\nTalkin' 'bout all the rock boys,\\nBack seat joys with some boy's toy.\\n\\nAt the girlschool, cause my baby broke all the rules.\\nAt the girlschool, cause my baby broke all the rules.\\n\\nSaddle shoes uniforms blue,\\nLove all the girls in the girlschool.\\nTraffic jam in the hallway\\nOoh I'm gonna stay this makes my day.\\n\\nWell here they come girls from the school,\\nBreakin the rules hot on the loose.\\nMy girl left right from school,\\nCame over to my house, ooh...\\n\\nAt the girlschool, cause my baby broke all the rules.\\nAt the girlschool, cause my baby broke all the rules.\\n\\nAt the girlschool, cause my baby broke all the rules.\\nAt the girlschool, cause my baby broke all the rules.\\n\\nYou're stayin' after school\\n\\nAt the girlschool, cause my baby broke all the rules.\\nGirlschool, cause my baby broke all the rules.\\n\\nLoose Hips\\nSlips of mine,\\nFor a good time,\\nBoys on their mind\\n\\nAt the girlschool, cause my baby broke all the rules.\\n\\nAt the girlschool, cause my baby broke all the rules.\\nAt the girlschool, cause my baby broke all the rules.\\n\\nAt the girlschool, cause my baby broke all the rules.\\nAt the girlschool, cause my baby broke all the rules.\\n\\nAt the girlschool, cause my baby broke all the rules.\\nAt the girlschool, cause my baby broke all the rules\\n\\nSongwriters: DEAN MICHAEL DAVIDSON\\nGirl School lyrics © Universal Music Publishing Group\""
      ]
     },
     "execution_count": 25,
     "metadata": {},
     "output_type": "execute_result"
    }
   ],
   "source": [
    "df.iloc[df[\"female_words\"].argmax()].YouTube"
   ]
  },
  {
   "cell_type": "code",
   "execution_count": 26,
   "id": "0c476a7e",
   "metadata": {},
   "outputs": [
    {
     "data": {
      "text/plain": [
       "'Genesis 1:27-28-  So God created man in his own image, in the image of God created he him; male and female created he them.\\n\\n28 And God blessed them, and God said to them, Be fruitful, and multiply, and replenish the earth, and subdue it: and have dominion over the fish of the sea, and over the fowl of the air, and over every living thing that moves on the earth. AND Mark 10: 6-9 =  But from the beginning of the creation God made them male and female.\\n\\n\\n7 For this cause shall a man leave his father and mother, and join to his wife;\\n\\n\\n8 And they two shall be one flesh: so then they are no more two, but one flesh.\\n\\n\\n9 What therefore God has joined together, let not man put asunder.\\nbut what is outside of it, is not of God.'"
      ]
     },
     "execution_count": 26,
     "metadata": {},
     "output_type": "execute_result"
    }
   ],
   "source": [
    "df.iloc[df[\"male_words\"].argmax()].YouTube"
   ]
  },
  {
   "cell_type": "code",
   "execution_count": 27,
   "id": "b1e64da6",
   "metadata": {},
   "outputs": [],
   "source": [
    "from afinn import Afinn\n",
    "afinn = Afinn(language='en')\n",
    "df[\"afinn\"] = df[\"YouTube\"].apply(afinn.score)"
   ]
  },
  {
   "cell_type": "code",
   "execution_count": 28,
   "id": "4c5e5004",
   "metadata": {},
   "outputs": [
    {
     "data": {
      "text/html": [
       "<div>\n",
       "<style scoped>\n",
       "    .dataframe tbody tr th:only-of-type {\n",
       "        vertical-align: middle;\n",
       "    }\n",
       "\n",
       "    .dataframe tbody tr th {\n",
       "        vertical-align: top;\n",
       "    }\n",
       "\n",
       "    .dataframe thead th {\n",
       "        text-align: right;\n",
       "    }\n",
       "</style>\n",
       "<table border=\"1\" class=\"dataframe\">\n",
       "  <thead>\n",
       "    <tr style=\"text-align: right;\">\n",
       "      <th></th>\n",
       "      <th>YouTube</th>\n",
       "      <th>positive_words</th>\n",
       "      <th>negative_words</th>\n",
       "      <th>length</th>\n",
       "      <th>word_count</th>\n",
       "      <th>male_words</th>\n",
       "      <th>female_words</th>\n",
       "      <th>afinn</th>\n",
       "    </tr>\n",
       "  </thead>\n",
       "  <tbody>\n",
       "    <tr>\n",
       "      <th>7360</th>\n",
       "      <td>Haha child labour</td>\n",
       "      <td>0</td>\n",
       "      <td>0</td>\n",
       "      <td>17</td>\n",
       "      <td>3</td>\n",
       "      <td>0</td>\n",
       "      <td>0</td>\n",
       "      <td>3.0</td>\n",
       "    </tr>\n",
       "    <tr>\n",
       "      <th>9250</th>\n",
       "      <td>Same but I heard corona first</td>\n",
       "      <td>0</td>\n",
       "      <td>0</td>\n",
       "      <td>29</td>\n",
       "      <td>6</td>\n",
       "      <td>0</td>\n",
       "      <td>0</td>\n",
       "      <td>0.0</td>\n",
       "    </tr>\n",
       "    <tr>\n",
       "      <th>11265</th>\n",
       "      <td>She so beautiful ❤️❤️❤️</td>\n",
       "      <td>1</td>\n",
       "      <td>0</td>\n",
       "      <td>23</td>\n",
       "      <td>4</td>\n",
       "      <td>0</td>\n",
       "      <td>2</td>\n",
       "      <td>3.0</td>\n",
       "    </tr>\n",
       "    <tr>\n",
       "      <th>268</th>\n",
       "      <td>He's hot. And smart. UNF.</td>\n",
       "      <td>0</td>\n",
       "      <td>0</td>\n",
       "      <td>25</td>\n",
       "      <td>5</td>\n",
       "      <td>0</td>\n",
       "      <td>0</td>\n",
       "      <td>1.0</td>\n",
       "    </tr>\n",
       "    <tr>\n",
       "      <th>3414</th>\n",
       "      <td>That was amazing! Gave me chills and stuff.</td>\n",
       "      <td>0</td>\n",
       "      <td>0</td>\n",
       "      <td>43</td>\n",
       "      <td>8</td>\n",
       "      <td>0</td>\n",
       "      <td>0</td>\n",
       "      <td>4.0</td>\n",
       "    </tr>\n",
       "    <tr>\n",
       "      <th>800</th>\n",
       "      <td>One of the few horror movies I'll never watch....</td>\n",
       "      <td>2</td>\n",
       "      <td>0</td>\n",
       "      <td>157</td>\n",
       "      <td>32</td>\n",
       "      <td>0</td>\n",
       "      <td>0</td>\n",
       "      <td>3.0</td>\n",
       "    </tr>\n",
       "    <tr>\n",
       "      <th>3294</th>\n",
       "      <td>Alright miss fritz im boutta head out</td>\n",
       "      <td>0</td>\n",
       "      <td>1</td>\n",
       "      <td>37</td>\n",
       "      <td>7</td>\n",
       "      <td>0</td>\n",
       "      <td>0</td>\n",
       "      <td>-2.0</td>\n",
       "    </tr>\n",
       "    <tr>\n",
       "      <th>10027</th>\n",
       "      <td>Answer to all 3 . she took a shy  tiny bite to...</td>\n",
       "      <td>1</td>\n",
       "      <td>0</td>\n",
       "      <td>115</td>\n",
       "      <td>25</td>\n",
       "      <td>0</td>\n",
       "      <td>4</td>\n",
       "      <td>0.0</td>\n",
       "    </tr>\n",
       "    <tr>\n",
       "      <th>6359</th>\n",
       "      <td>Stilwell's much better ever since the renovation.</td>\n",
       "      <td>1</td>\n",
       "      <td>0</td>\n",
       "      <td>49</td>\n",
       "      <td>7</td>\n",
       "      <td>0</td>\n",
       "      <td>0</td>\n",
       "      <td>2.0</td>\n",
       "    </tr>\n",
       "    <tr>\n",
       "      <th>393</th>\n",
       "      <td>Little things, but there's an argument that it...</td>\n",
       "      <td>0</td>\n",
       "      <td>0</td>\n",
       "      <td>62</td>\n",
       "      <td>12</td>\n",
       "      <td>0</td>\n",
       "      <td>0</td>\n",
       "      <td>0.0</td>\n",
       "    </tr>\n",
       "  </tbody>\n",
       "</table>\n",
       "</div>"
      ],
      "text/plain": [
       "                                                 YouTube  positive_words  \\\n",
       "7360                                   Haha child labour               0   \n",
       "9250                       Same but I heard corona first               0   \n",
       "11265                            She so beautiful ❤️❤️❤️               1   \n",
       "268                            He's hot. And smart. UNF.               0   \n",
       "3414         That was amazing! Gave me chills and stuff.               0   \n",
       "800    One of the few horror movies I'll never watch....               2   \n",
       "3294               Alright miss fritz im boutta head out               0   \n",
       "10027  Answer to all 3 . she took a shy  tiny bite to...               1   \n",
       "6359   Stilwell's much better ever since the renovation.               1   \n",
       "393    Little things, but there's an argument that it...               0   \n",
       "\n",
       "       negative_words  length  word_count  male_words  female_words  afinn  \n",
       "7360                0      17           3           0             0    3.0  \n",
       "9250                0      29           6           0             0    0.0  \n",
       "11265               0      23           4           0             2    3.0  \n",
       "268                 0      25           5           0             0    1.0  \n",
       "3414                0      43           8           0             0    4.0  \n",
       "800                 0     157          32           0             0    3.0  \n",
       "3294                1      37           7           0             0   -2.0  \n",
       "10027               0     115          25           0             4    0.0  \n",
       "6359                0      49           7           0             0    2.0  \n",
       "393                 0      62          12           0             0    0.0  "
      ]
     },
     "execution_count": 28,
     "metadata": {},
     "output_type": "execute_result"
    }
   ],
   "source": [
    "df.sample(10)"
   ]
  },
  {
   "cell_type": "code",
   "execution_count": 29,
   "id": "38863d04",
   "metadata": {},
   "outputs": [],
   "source": [
    "df.to_csv(\"ytdata_shortened_with_features.csv\")"
   ]
  }
 ],
 "metadata": {
  "kernelspec": {
   "display_name": "Python 3 (ipykernel)",
   "language": "python",
   "name": "python3"
  },
  "language_info": {
   "codemirror_mode": {
    "name": "ipython",
    "version": 3
   },
   "file_extension": ".py",
   "mimetype": "text/x-python",
   "name": "python",
   "nbconvert_exporter": "python",
   "pygments_lexer": "ipython3",
   "version": "3.10.9"
  }
 },
 "nbformat": 4,
 "nbformat_minor": 5
}
