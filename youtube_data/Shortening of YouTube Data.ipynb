{
 "cells": [
  {
   "cell_type": "code",
   "execution_count": 1,
   "id": "fde43c73",
   "metadata": {},
   "outputs": [],
   "source": [
    "import pandas as pd"
   ]
  },
  {
   "cell_type": "code",
   "execution_count": 2,
   "id": "8fb1339a",
   "metadata": {},
   "outputs": [],
   "source": [
    "ytdata = pd.read_csv(\"ytdata.csv\")"
   ]
  },
  {
   "cell_type": "code",
   "execution_count": 3,
   "id": "b6deedf8",
   "metadata": {},
   "outputs": [
    {
     "data": {
      "text/plain": [
       "' - BRUTAL! \\r\\n\\r\\nGuetta The Best ^^ \\r\\n\\r\\nMucha fuerza y ánimo a todos los países  desde 🇪🇸\\r\\njoel manske - A melhor de todas Daft Punk 🏃\\u200d♂️🏃\\u200d♂️🏃\\u200d♂️\\r\\nArjun Thing - Brother David ever dj legend  wow\\r\\njuan de dios jairo valero villanueva - I seriously think it\\'s great what our friend David Getta did.\\r\\n\\r\\nHe did this great humanitarian act for the good of all.\\r\\n\\r\\nAnd I am very happy to know that there are people with good hearts like David.\\r\\n\\r\\nthank you very much david for me you are my favorite hero.\\r\\nCaio Gameplays - Tem algum brasileiro aqui da like👏\\r\\nCristhian Robles - ALGUIEN QUE HABLE ESPAÑOL POR AQUÍ? \\r\\nREPORTENCE CON UN LIKE!!!\\r\\nRicardo Aguilar - I M P R E S I O N A N T E !! 🇦🇷.... Algún dia tendré la dicha de presenciar un recital de el!!\\r\\nPradeep Ayyadevara - That\\'s why he\\'s my favourite dj \\r\\nWorld no 1\\r\\nLaura Romi - HERMOSOOOO!!! Lo mejor de lo mejor en esta cuarentena desde Argentina siempre David Guetta te impulsa a seguir adelante con su musica!!!! MIL GRACIAS!!!! 💖💕\\r\\nJAY B - YO!YO!YO!YO 💥 \\r\\nNO TOILET 🚽 \\r\\nNO SHOWER 🚿 \\r\\nFULL POWER 💥 \\r\\nAstra - LIKER LES FRANÇAIS ️ 🇫🇷 !!!!!!!!\\r\\nGabriel GSB - Q buena gente eres David, merci beaucoup desde España🇪🇸\\r\\nPerson’s Name - I’m watching this almost a month later and for some reason I’m really emotional. So amazing 💗\\r\\nAldo Panduro - This is the best concert that I heard from Electronic Music!\\r\\nLuis Diez Sabaté - David Guetta,eres el dj numero 1,eres el mas grande!!!!Un saludo desde España👋👋👋👏👏👏🇪🇸🇪🇸🇪🇸🤪🤪🤪\\r\\nAtharv Thakur - Corona : All shows are cancelled for the year\\r\\nDavid : No \\r\\nCorona : But......\\r\\nDavid : NO!!!\\r\\nJasmin Ramirez - 41:44 adore la reacción!\\r\\nCreaciones yq - Cuantos Colombianos amamos este genero?\\r\\n¡Reportence al estilo 2020!\\r\\nAlina Krm - I Germany we would say „Anzeige wegen Ruhestörung“ 👍🏼\\r\\nAntonio Marcos Marcos - Que essa pandemia passe logo queremos VC aqui no Brasil\\r\\nAdelia Lima - Se fosse no Brasil vocês iam ver a galera nas janelas vibrando.\\r\\nUgur_can Tekdemir - Everyone in turkey says \" siktir ordan 😂😂😂 \"\\r\\nBubu Lubu - Where is the tracklist?!\\r\\nDj Rômulo Costa - ALGUÉM SABE DE QUEM É ESSA VERSÃO DO PLAY HARD????\\r\\nMiguel Correa - David becoming a legend !!!\\r\\n1 Subscriber Before 2021 - Se fosse no Brasil vocês iam ver a galera nas janelas vibrando.\\r\\nAjes George - David Guetta for Number 1 DJ Mag 2020!\\r\\nFamille Lemoine - My favorit set de David Guetta de tout les temps¡¡¡\\r\\nAristides Cunningham - El mejor video del 2020. Gracias David. Dios te siga bendiciendo desde Panama.\\r\\nRafaela Dore - Esse dj é de respeito viu , fui no show dele e foi o melhor da vida imagina essa live o que as pessoas não sentiram 😍😍😍👏🏻👏🏻👏🏻👏🏻\\r\\nDan Rod - Tranquilamente haciendo la cuarentena, y llega Guetta a armarte la party 😂\\r\\nAlexsander Richard - Brasil parou,Miami parou,o mundo parou. David Guetta🇧🇷🇧🇷🇧🇷🇧🇷\\r\\nClarice Obrigado - Espectáculo  isso que é ser humano sem lucro , na CORONA emocionante  😍\\r\\n8willman - Thanks Homie. Appreciate the entertainment and the match\\r\\nDragon Aesthetic - People trying to sleep there like:\\r\\n👁👄👁\\r\\nRoberto Pedernera - estamos en presencia del mejor video del año 2020.... un genio david\\r\\nHadiwan Purba - Salute from Indonesia, to u mes ami David Guetta.\\r\\nSean Leal - The ending brought me to tears. Even in the darkest of days, the most  challenging of times - good finds a way to shine. Bravo David Guetta, thank you for doing this!\\r\\nMehdouche 73 - Respect David Guetta From Tunisia 🇹🇳❤👊\\r\\nErika Lozano - 30:05 song name pleaseeee\\r\\nkuros28 - Who is watching it all over again these days after?\\r\\nchina35 - Is the best dj  💖💖💖💖💖💖💖💖💖💖💖💖💖💗💖💖💖💖💖💖💖💖💗💖💖💗💗💖💖💖💗💖💗💗💗💗\\r\\nLavern Garcia - Wow,I love u dj David Guetta you\\'re awesome love the way u DJ watching from Belize Central America\\r\\nOsvaldo Aguilar Galvan - Name the music  of minute 39. Plis friends\\r\\nHelen Lawrence - DAVID GUETTA!!!!YOURE THE BEST MAN ....I LOVE YOU MAN\\r\\nBruno Henrique 4i20 - BRASIL 2020 ALGUEM AI ?\\r\\nJoão Marcos - Alguém em plena quarentena ouvindo david Guetta?da um like aqui\\r\\nFranco Rodriguez - Dale Like si te gustaria ver ese show desde tu departamento ..\\r\\nNur Huda - From Indonesia like🇮🇩\\r\\nGabrielFire17 - Listos para siguiente capitulo NEW York..... 30 mayo\\r\\nKarl K - Step 1: Be rich\\r\\nStep 2: Be in Miami\\r\\nStep 3: Live in the complex\\r\\nStep 4: BYOB/BYOD\\r\\nMalu Pradella - 32:00 minha música favorita dele. ❤️\\r\\nMadalena Morais - Maravilha de show, parabéns David arrasou\\r\\nGlauber Araujo - Eu Breno da Hrv e Pamela wcd assistindo in live work Brasil city santos owwww yeeeeee\\r\\nravisrocks - Love from India again @12:34\\r\\n- Ravi\\r\\nHumberto Atoche Obeso - Alguien de Perú 🇵🇪? Deje su like por acá.\\r\\nTanmoy Roy - 06:48 loved this moment stay safe my American and indian brothers.\\r\\nRenan Fonseca - 35:50 song is the best ever!\\r\\nArjun Thing - Loving from nepal ever 😋🤘💓\\r\\nLuciane Santiago - O melhor...👊😍👏\\r\\nJorge Tiger 800 - Quem esta assistindo de novo da um joinha...\\r\\nRonaldo Almeida - Top! Assisto todos os dias! Revigora as minhas energias para vencer esse período de trevas! Show...\\r\\nCalton Ventura Joi - Se fosse em Moçambique as pessoas iriam quebrar a quarentena..... \\r\\nBrincadeira juntos na luta contra o covid-19 que voltemos a normalidade. Up\\r\\nroman poet - Sia is so amazing shout out to her\\r\\nEdwin Reyes - 💀I would\\'ve fallen off one of those balconies\\r\\nRadicleTube - David Guetta is a legend! enough Said!\\r\\nravisrocks - Love from India 🇮🇳 @6:48\\r\\n- Ravi\\r\\nMaria Dolores Miravete Martinez - DAVID GUETTA ERES MUY GRANDE N \\' 1 DE TODOS LOS DJ GRACIAS POR SER COMO ERES 😍😘😘❤️❤️❤️\\r\\nCool gamer SRB - You are the greatest, I am love this music!!!!! Your music is listen in Serbia!!!!  World DJ No1 !!!\\r\\nDihelen Jacob - Melhor live de todos os tempos !! / Better live that I ever know !\\r\\njoao j - Se fosse no Brasil, nós tinhamos derrubado esses prédios!  Kkkkkkkkk\\r\\nRafaella Leitzke - THE BEST SONG 51:00\\r\\nYuri Escalona - I start my day like this everyday 😎☝️\\r\\nHycinth Noronha - Great work done by David Guetta love your work0\\r\\nMarcos Paulo Lopes - Ótima Live David Guetta está de parabéns 🔝🇧🇷 quem da like\\r\\nfrancisca guereiro - Melhor Live que ideia maravilhosa de tocar em cima de um prédio, que privilégio das pessoas que estão ao vivo. 🇧🇷🇧🇷🇧🇷🇧🇷🇧🇷🇧🇷🇧🇷🇧🇷🇧🇷🇧🇷🇧🇷🇧🇷🇧🇷🇧🇷🇧🇷\\r\\nFábio Sobral - Esse DJ, é explosivo.....🇧🇷🇧🇷🇧🇷🇧🇷😁🤭\\r\\nRoxanne Cagnina - Omg is that Carlo D If so and you read this call me I would love to chat\\r\\nFernanda Ovejero - Ídolo😍❤\\r\\nMari Del angel - Wow!!! #1 el mejor magnifico David  Guetta❤❤❤ algun dia tendre el privilegio de precenciar un concierto en vivo maestro ❤❤❤\\r\\nmaxii Bich - Estuvo Genial lo Que Hizo. En esta Cuarentena Es lindo ver como la musica cambia tu animo y tu mente.Grande David Guetta🇦🇷🇦🇷🇦🇷\\r\\nBarbara Quinteros - Materia: Foniatria.\\r\\nravisrocks - Love from India again @1:16:08\\r\\nJack Dare - YT just told me this is LIVE 😂🤣😂🤣\\r\\nRecursos de Multas em 10 min - Show incrível\\r\\nBen Taylor - I love Humanity we all the same people doesn\\'t matter how hard is the situation Together we will beat it down ️\\r\\nANDERSON COSTA - Você é MUITOOOO TOP!!!!!\\r\\nLeandro Marinoff - Capoooo guettaaaa. Te amamos en Argentina. Volve pronto !!!\\r\\n - Красавчик👍👍🌏💿💿💿🌏🌐🌐👍🇺🇦\\r\\nravisrocks - Love from India again @1:16:08\\r\\n- Ravi\\r\\nAlex Fernando Sosa Diaz - This is the reason why David Guetta is the best dj in the world 🌎\\r\\nDavid Ricardo Alvarez Chavez - Veryyyyy!!!! Goood Peopleeeee My Familyyyyyy!!!!!!\\r\\nMirjana Jovičić - LOWE IS GONE!!!😊😊😊😊MY FAWORITE!!!\\r\\nVandilson AL-Informática - Very Good Best Dj in the World (Muito Bom Melhor Dj do Mundo)\\r\\nVeronica Bottiglieri - Por Diooossss, que genialidaaaaddddd!!! 😘 Sin lugar a dudas sos el mejor, un grosooooo totaaaallll!!!\\r\\n💗👏👏👏🎧🎛️🎧👏👏👏💗\\r\\nPancake - When you\\'re in your zoom class but David Guetta is doing a set at your pool.\\r\\nNikosanity TV - lineup please? anyone? i want the list\\r\\nCleberson Cleiton Castro - 57:42... MIRA EL FURACON, SI EL PARANAENSE.\\r\\nLuana Furtado - Anitta dancando em 26:58\\r\\nera franera - OMG LOVE IT LOVE IT LOVE IT!!\\r\\nMadelein Silva - Definitivamente la música es el lenguaje universal. Guetta N°1 por siempre, el mejor DJ del mundo!!!\\r\\nJulia Carter - The BEST!!!!!!!! ⭐⭐⭐⭐⭐\\r\\nmello la mejor musica felis batista - Amo esto 😍😍🇩🇴\\r\\nMulti22a - Fantástico! 👏👏👏👏👏 Brasil!\\r\\nMirjana Jovičić - CORONA TIME OMG!!!👏👏👏👏KING\\r\\nJesse Enrique - Two things. Where do I get that future rave shirt he’s wearing. And.  Who’s gonna drop that set list on Spotify!?\\r\\nRaphaella Carvalho moraes - Meu sonho de consumoooooo 😅👏👏🙌\\r\\nadaltofla - GOSTARIA DE ESTAR NESSE LUGAR PARA ASSISTIR AO VIVO DAVID GUETTA.......BRASIL TE AMA!\\r\\nNatanael Lopes - Esse cara é foda 😍😍 , Sempre o admirei e sempre acompanho seu trabalho e depois de me fazer chorar com o anúncio da Vinda do Tomorroland ao Brasil , aprendi a Admirar ainda mais e graças a Deus A Tomorroland desembarcou na minha Cidade 🙏🏻😍 Onde pude realizar meu sonho de ir ao show Deste Mito Chamado Guetta 🙌🏻\\r\\nTommy Cusich - Version confinement\\r\\nAutointec Colombia - HAGO EJERCICIO TODOS LOS DIAS CON EL MISMO ENVIVO, DAVID GUETTA SI VES ESTE MENSAJE ERES EL MEJOR DJ DEL MUNDO\\r\\nSilvia Souza - Maravilhosoooo♥♥♥♥\\r\\nJoão Verissimo - anyone\\r\\ntrack 24:30 please\\r\\nJucesar suacasapraia - Que música é essa que começa em 42:00 ?\\r\\nRonald. Berruz - Saludos excelente iniciativa para tu público en cuarentena. Pocos artistas han hecho esto. La humildad ante todo.\\r\\nFelicitaciones ✌🌞\\r\\nНиколай Полищук - Просто скажи КАК ТЫ ЭТО ДЕЛАЕШЬ? НАУЧИ МЕНЯ\\r\\nPutri Baeby - noooo!!! did I missed the party ?👻\\r\\nmark carlin - I have just came across this tonight in Scotland at 3am. Loving it. Wish I had heard about it at the time. Currently still in lockdown. Going back to work in 1 week. Tried to donate.  It wldnt let me.  Either way share the love xxx hope everyone is staying safe\\r\\namaar aamr - this is amazing\\r\\nDavid Daniel Cinta Hernández - Extraordinario David, extraordinario. Yea¡!!!\\r\\nDragon Masters - AS SOON AS I SEE the words in the letters ST ... and HO ... i immediately but immediately GO OUTSIDE, so let\\'s you is post the best song in the worldSIDE, so let\\'s you publish THE BEST ! song IN THE WORLD !\\r\\nCapitan Caf Music - THE KING OF ELECTRO\\r\\nJose Hernandez - 48:40 song ?\\r\\nJunior Estrela - Melhor DJ do mundo!!!\\r\\nKimbamiel1 - GREAT MUSIC, ME AND MY WIFE, WE ARE JUMPING UP AND DOWN IN ECUADOR\\r\\nJosivan Moraes - O Brasil parou Miami parou o mundo parou pra esse homem putaquepariu , queremos parte 2 com mais tempo 🇧🇷😍\\r\\nVanessa Ramírez - Magnífico!! Guetta es de otro planeta!!\\r\\nCapitan Caf Music - OH MY GOD GUETTAAAAAA😭😭\\r\\nGisela Koelln - As always amazing, the best of all!\\r\\nroman poet - Thanks for being cool friends\\r\\nMelina Lima - Me tornei aquilo que eu mais temia. Aquela que está gostando da Quarentena. Melhor Live da Vida 🇧🇷  🇧🇷  🇧🇷\\r\\nSheena - I ❤️ this. I listen to it so much.\\r\\nCathala Patricia - Génial merçi 💗\\r\\nJorgeLuis - Alguien mas viendolo desvelado en cuarentena 2020 a las 04:55 am o a la hora que sea.? \\r\\nSomeone else seeing it unveiled in cuarentena 2020 at 04:55 am or at any time ?  \\r\\nQuelqu’un d’autre le voyant mis en quarantaine 2020 à 04h55 ou à tout moment ? \\r\\nAlguém mais o viu revelado na Cuarentena 2020 às 04:55 am ou em qualquer momento?\\r\\nZaffinha Gameplays - achei super mega ultra interessante esse modo de festa do David Guetta, deveria ter mais drones mais pessoas conectadas de uma forma diferenciada\\r\\nAUREL\\' TV - Notre heros national ! 🇫🇷🇫🇷🇫🇷\\r\\nEdwin Cau - Still watching this💯The best\\r\\nDR - Best mix ever! I used to listen his ultra 2015 🤩 and now, I’m very happy this is my new favorite music 🎶 for studying, exercising 😃 and dancing. Miami May 2020!\\r\\nВика Пономарева - Кажется тут вообще нет русских)\\r\\nDaniela Mancera - niceeee I love david guetaa, You\\'re a legend  <3 Greetings from Philippines\\r\\nCarmen Chavez - I am 65 years old and my son gave us the concert and the truth is that I really enjoyed his music!\\r\\nchino wo perez - Fue lo mejor necesitamos otro live.\\r\\nIngrid Gabarrus - i love this music i love you david\\r\\nMauricio Rodriguez - Sencillamente..... El mejor dj del mundo!!!!!🇨🇴🎧🎶🎛️🌡️❤️😎🤟\\r\\nMartin Miguez - Grandioso set David!!\\r\\nQuackity Quackity - Je redécouvre tous les hits de david c\\'est un truc de dingue cette époque\\r\\nMonique Ferreira - He\\'s much better and beautiful with short hair!\\r\\nGaby Ruiz - I loved!!!! 🇦🇷❤️👏\\r\\nravisrocks - Love from India again @12:34\\r\\nLuiza sarmento - Eu amo você \\r\\nmanu - franchement petite fierté française d\\'avoir un très bon DJ comme toi  grosse pensée pour les équipes qu\\'on dut organiser tous le show  dans un laps de temps assez court j\\'imagine  je t\\'ai connue dans tes débuts a Paris quand tu mixais du rap   et franchement quel parcours des usa  jusqu\\'en inde  le nom guetta est aussi connue que les rolling stones ta maman peut être fière de toi\\r\\nRenan Fonseca - Watching for the sixth time! Looove it.\\r\\nleticia Teixeira - Aaaaa😌 Ele arrasa muito\\r\\nRoberval Martins - Tracklist\\r\\nReviTaliZED shIFT - GILET JAUNES !!!!\\r\\nNataly Velez lopez - Esa gente ni se mueve yo estaría que me tiro de un balcón de esos 🔥🔥\\r\\nnathalia serna - ♡♡ GRANDE DAVID.♡♡\\r\\nA T Shakil Ahmed - Love form Bangladesh.\\r\\nIkhwan Rohaizat - I like the best in world 🙌🏻🙌🏻🙌🏻👊🏻\\r\\nChristian Gregorio Official - The bad guy remix thou was fire 🤘🤘🎶\\r\\nThanks DG for this wonderful set . You make us party even at home . We love you 🤙🤙\\r\\nDom TV - Sitting at home in self-isolation. This is the best I could see. Your hits are eternal. Thank you from Taganroga. Russia\\r\\nDaniel Berrios - David...capooooo total\\r\\nSebastiàn Cardoso - 46:46 Song pls\\r\\nAldo Rodrigues - Como alguém pode não ter gostado? 😡🤔 gente mal amada 😭 FOI DEMAIS 🇧🇷\\r\\nfellipe oliveira - Manaus precisa de um show desses, mas tá difícil 🔥🔥🇧🇷\\r\\nLeandro de Quadros - David Guetta simplesmente o melhor de dj!!!!\\r\\nmati14ce - AGUANTE AMERICA 🌎\\r\\nSophia Quiroz - I just saw this video and omg it’s amazing !! how people can help with in minutes to feel hundreds if not millions of people !! David Guetta this is was amazing!!!!\\r\\nRicardo Castro suarez - Esto es levantar el animo y no los d las caserolas en 🇪🇸\\r\\nMartin Miguez - Vamos fuerza que vencemos al covid 19!!\\r\\nAmerica filmes - that moment that everybody want to be David\\'s neighbor\\r\\nEdinson Vargas Arias - Sencillamente eres el mejor, para tener esta iniciativa.,\\r\\nceonejota - Excelente concierto  y sesión 🙌🏻🙌🏻🙌🏻\\r\\nProject A Yum\\'s life - He\\'s the legend!! Plz come to Korea for your crazy fans 👍👍👍\\r\\nAnastasiya Zlatova - Класс! Вот это круто очень!)))\\r\\nAndy Vicalvi - I just want to thank David and his people for taking their time and energy to lift all of Miami up in the best way they knew. It may not have been everyone’s cup of tea but it was stellar no matter what! The whole world is smiling and if they aren’t yet, they’ll come around. We aren’t going anywhere\\r\\nMirjana Jovičić - BEST D.J.!!!😊😊😊💪💪💪\\r\\nWendy Sanchez Rios - Espectacular... . amazing ✨\\r\\nkarya yafe indonesia - Amazinggg... the LEGEND\\r\\nBibire Emmanuels - goose bumps mehn... David you have won my heart for life\\r\\nJe suis bizarre - C\\'est beau putain, le geste, le son, tout !\\r\\nLoppie Poppie - amazing You are my ABSOLUTE FAVORITE.\\r\\nLilia Rodriguez - Simplemente lo mejor de los espectaculos !!!!...  besos..\\r\\nMagic Box - Love you man ❤️👍\\r\\nJohn Johnson - Ey shoutout to george floyd and his family.\\r\\nAurélien SG - Vive David Guetta et vive la France 🇫🇷\\r\\n La référence des DJs est là !\\r\\nTHEMORA3 - I LOVE YOU SONG\\'S FOREVER ♥️🎶💯\\r\\nMaria Chatzi - He is amazing dj🤗🤗\\r\\nNadezhna Vargas - We want another live stream!!! 😁\\r\\nDeni Tayachi - U the best my friend!\\r\\nfaceth lopez - I\\'m crying now , it\\'s an amazing  form to do something different for everyone. Thanks David Guetta 🙏\\r\\n this is one of the  reasons that I love electro music it\\'s like heaven..  \\r\\nLike, if you think the same .. 🥰\\r\\nJonathan Tan - — Tracklist please !\\r\\nLuciana Boss - THE OLD SONGS ARE THE BEST!!!! HE JUST KILLED IT!!!!!! 👌🏻👌🏻👌🏻👌🏻👌🏻👌🏻\\r\\nNakila nakilau - My mannnn....\\r\\nGreetings from Turkish Republic\\r\\nDiego Rueda - Me encanta la canción minuto 7:00 make it to heaven con Morten apoyemos increíble David Guetta en estos duros momentos\\r\\nAlcides Ramirez azurza - Que mas puedo pedir, ahora si, puedo Morir en paz.david guetta lo máximo. Que viva el Perú 🇵🇪🇵🇪🇵🇪🇵🇪🇵🇪🇵🇪cuarentena al máximo 📿📿\\r\\nHappiest La - Aaaaahhhh it’s cool Just wonderful. Amazing\\r\\nRasul Khan - Love ya!!! Your amazing!!!!\\r\\nEmilio Castro - que suerte concierto gratis, todos en sus departamentos\\r\\nAbhy Bhuria - This man will never stop. Respect :)\\r\\nLele Almeida - Melhor Live. 😍😍 Assistindo novamente porque foi demais. 💓💓🇧🇷🇧🇷🇧🇷🇧🇷🇧🇷🇧🇷🇧🇷\\r\\nRita Butti - Simply AMAZING!!!!!!!\\r\\nChristian Chango Vásconez - 1:09:50 The best part 🤩🙌 excellent mix\\r\\nCapitan Caf Music - DAVID GUETTA 😱😭😭😭\\r\\njose luis Lopez Medina - i like the music,  someone of peru\\r\\nluz jaime - Definítivamente increíble... se me erizo la piel! Es muy fuerte la situación por la que estamos pasando y fue impactante ver el concierto de David Guetta de está forma 😥 simplemente MAJESTUOSO! Esperemos todo mejore. Gracias David Guetta 👏😍🇲🇽❤️\\r\\nDanny Becher - Alguno se acordó de Ricki Ford cuando dijo... MIAMIIIIIIIIII jajaja!\\r\\n\\r\\nDavid sos el puto amo! Sin discucion.\\r\\nLil Sun - Future Rave\\r\\nChristian Bocero - Así cualquiera!!! jajajaj\\r\\nStealth Mode - Was an Amazing Show to catch U Live ty :)\\r\\nFernando Costa - David Guetta simplesmente The Best 🇧🇷 quem tá curtindo aí deixa o like ^^\\r\\nJasmin Ramirez - Maravillosa presentación!!!!!\\r\\nmorgan morgan - I wish i live at Miami..  Be his Neighbor.... 😍😍😍\\r\\nravisrocks - Love from India 🇮🇳 @6:48\\r\\nCôté poses - David the best ! French touch Heart FTH\\r\\nYara Martins - Top 😍😘🇧🇷🇧🇷\\r\\nshizzywizz25 - Such a beautiful setup love the music love you . Miss music festivals\\r\\nBe Happy - Ты красавчик, это шедевр !!!\\r\\nJoslane Reguini - Maravilhoso, senti a emoção daqui, você  é  um sucesso...top\\r\\ndurgesh sher - best ever concert\\r\\nJulia Gohr - PARTE DOISSS😎😎 por favorrr\\r\\ne com mais tempo\\r\\nPhilipp Glanzmann - David ghetta ist der erfolgreichste DJ, er bringt echten House mix ohne Kitch\\r\\nAntônio Mateus - David Guetta Simplesmente o Melhor! Número 1 do Mundo. 👏🏽👏🏽👏🏽👏🏽🇺🇸🤩❤️👍🏽✌🏽\\r\\nMirjana Jovičić - Memories😊😊😊😊😊😊BEST BEAT!!!\\r\\nArafath hussain - Sir you did a very good job 🥰🥰🥰 lots of love from Bangladesh 🇧🇩\\r\\nJamie Bedford - Listening to this makes me realise how much i miss Avicii\\r\\nYessenia Aguilera - Wow que chingón 😍🇲🇽🇲🇽🇲🇽🇲🇽🇲🇽🇲🇽\\r\\nNinoska Bejarano - David you are awesome! We love you 🙏🙏🙏💖💖💖💖💖\\r\\nTayane Salgado - Amazing Guetta..❤\\r\\nJohn F - Track at 29:09 TSUKI TURN IT UP\\r\\nRenata B. P. - Um show desses e o povo quase não vai pra varanda poxa\\r\\nMIRIAN AKIMASA - Tem BRAZIL em todo canto do mundo! uhuuu\\r\\nmaureen mulinge - From Kenya 🇰🇪👏👏👏👏👏👏👏👏👏👏👏👏👏👏👏👏👏👏👏👏👏👏👏👏👏💪💪💪💪💪💪💪💪💪💪💪💪💪💪💪\\r\\nRogério Rosa - Loucura 😎👋🤟👊🤜🤛\\r\\nGonzalo Mejias - 41:05 remix name please\\r\\nSAD Lonely - Quem perdeu a Live ao vivo e está vendo pos Live  da um like aeeee....\\r\\n👏😎🔥❤🔥 dj Gueeta top\\r\\nBobby - Grandiose comme d\\'hab! 👍👍👍\\r\\nRichard Murphy - What\\'s this at 1:09:53\\r\\nAngélica Marçal Guarize - Vou fazer muita festa com essas lives.... Demais\\r\\natif chowhan - Rhythm on Eminem Song at 1:24:24 \\r\\n???\\r\\nTatiana Varoneli - Melhor livre , aqui no Brasil\\r\\nIa faltar lugar nas janelas, o cara é top demais . ❤️🇧🇷\\r\\nroman poet - Bless you David\\r\\nFranata Franata carova - best dj in the world .. \\r\\nand my favorite dj\\r\\nPrue Encantada - Owwwwwww my godess 🤩🤩🤩🤩🤩 I LOVE U MAN, SO SO SO MUCH!!!!!\\r\\nTrish Johnson - absolutely superb...loved it\\r\\nDayanis Concepcion - People of different ages and countries enjoying this❣ Awesome 👏🏻 Greetings from Panamá🇵🇦🙌🏻\\r\\nWesly Auguste - Perfect David good vibe\\r\\nWesly Auguste - Perfect David good vibe\\r\\nRoberto Mauricio - sim brasil 2020 ai\\r\\nAndreia Joinha - always rocking 🇧🇷🇧🇷🇧🇷🇧🇷\\r\\nMarcela Rolak - 🇧🇷🇧🇷🇧🇷Come to Brazil David Guetta! For sure you will do the best show of your life!We can\\'t stand to see lives  drinking and country life anymore.🇧🇷🇧🇷🇧🇷🇧🇷\\r\\nWe Love You ❤❤\\r\\nNelson Eduardo Vera Vera - envidia de la buena en no poder estar\\r\\nJerry Montoya - I Love you more!! ❤️❤️❤️❤️😍😍😍😍\\r\\nJonatas Gomes - Muito top de masis massa\\r\\nAlef Aiden - 35:30 whats the song please\\r\\nVitor Santiago - Só tem brasileiro nesse Caraí 🇧🇷\\r\\nPAZ_EKO - No se ... Pero yo bajo corriendo y me LANZO en esa PISCINA .....\\r\\nJane Costa - Wowwwwwww.I love it kiss Jane  from Rio de Janeiro 💛💚\\r\\nEugene V. Diatchkoff - Bang bang amazing. U Guetta have the soul.\\r\\nclaudio calefato - Beautiful\\r\\nFERMANS - Like for Spain 🇪🇸\\r\\nArtur Fraj - love you david!!! great course\\r\\nBeatriz Burden - Love your music\\r\\nCrys Cakes - i love that you did this!  OneLove!\\r\\nJohn Barbosa - The track of 37:47 is from ARTBAT? What is the name of the track?\\r\\nalexandre fnnll - Superbe prestation magnifique morceaux joués ce soir .Je pense que cette idée. Et vraiment superbe et quel pourra rapporter  beaucoup de don pour tout les hôpitaux. et aide soignante soignant. Super message de de david Guetta .quel courage a toi david je trouve  ça vraiment génial une rave en plien milieux de Miami franchement chapeaux .merci a vs et merci à tout ce qui on mis en place tout cela enfin merci à vs david Guetta formidable moment .\\r\\nLaurent Tosi - The best dj in the world ... thank you .. merci\\r\\nSenny LR - Amazing show,...\\r\\nTonny Temmerman - je bent een geweldig DJ moatje  love it\\r\\nElvia Castañeda - Quien  es al minuto 1:39??\\r\\nJoão Pedro - Só queria ser vizinho do David Guetta\\r\\nCristian duarte - ❤❤ sos muy lo massss!!!\\r\\nKarishma Sahu - David Guetta love you man❤❤\\r\\njuliano rocha - melhor show do universo\\r\\nChristine C - Exceptional, formidabil <3\\r\\nnicolas montenegro - David Guetta siempre ha sido y será uno de los mejores artistas, y actualmente de los pocos que logran unir a millones de personas de tantas nacionalidades gracias a su música, eres eterno! Lo mejor de la cuarentena! Este si es mi idolo. 🙌🙌👏👏👏👏👏🙏😍😍❤❤ SALUDOS DESDE ARGENTINA\\r\\nMarianna Hladun - Всеодно бабло переможе зло\\r\\nJosé Acosta - QUE GRANDE DIOS MIO!!!!!\\r\\nBenjamin Tovar - The Best !!\\r\\nroman poet - Amazing friends feed the world\\r\\nSandra M. Marcela Assayrenc Covas - Gracias Guetta!! Un grande!!. Que haya una segunda parte!!!👏👏🇦🇷\\r\\nS H Music - Legend💪\\r\\nAhmed Maher - Amazing man\\r\\nPablo Orellano - Desde Palma de  Mallorca, un abrazo en este 2020\\r\\nRobinson libre - Jeje...hay mejores disjey...\\r\\nJuliana Araujo Teixeira - Os americanos são muito travados! Kkkkk\\r\\nAqui no Brasil, por pior que estivermos, conseguimos tirar a parte boa de tudo! Somos guerreiros, vivemos em crise! Kkkkk\\r\\nFloripa House Apartments A Floripa - Best show in the world! Thank you!!! We love you!!!\\r\\nNia Arissa - charity while party.. salute!  love from 🇲🇾\\r\\nСаркис Акопджанян - Молодец,  уважение Дэвид 👏🤝👍\\r\\nLeonel Burgos - Alguien sabe las canciones?\\r\\n\\r\\nAnyone know the songs?\\r\\nTamara M - Uau! Sinto muito, mas essa live de quarentena ninguém supera. Como ele consegue isso?! Amei. 🤩😍🙈💥✨🌟🌟🌟🌟🌟\\r\\njoel castro - Por algo es uno de los grandes 🙏😀😀🎊🎉🍺🎊\\r\\nVictor D - Amazing David! Thanks! We want more and more!!!\\r\\nOBSERVADOR NATO - The king 👑\\r\\nAnthony - 1:07:20 to end best part\\r\\nMia Ruax - Que fuerte es ver un concierto en medio de una pandemia. Grande Guetta sos lo más 🇵🇾🇵🇾🇵🇾\\r\\nJmrP - Ere un cracK!!! Grande :D\\r\\nAmylia Balqis - AMAZINGGGGGGGG!!!!! 🔥🔥🔥🖤🖤🖤\\r\\nPPP perruqueria - Bravo !!! eres un excelente ser humano \\r\\nGracias\\r\\nDarley Silva callarary - Sem dúvidas o melhor DJ do mundo\\r\\nVerónica Bustos Martín - Una pasada, como siempre!\\r\\nLeonardo Sansotta - Spettacolo!!\\r\\nDrake Targaryen - Song in minute 39?\\r\\nNeko ninja - Vengo del vídeo de tik tok XD\\r\\ndjmovieloverdane - This is what I’m going to show my kids. This right here is history\\r\\nAndrea Giorgio - The best in the world!!! thank you very much\\r\\nVladyslav Hryhorenko - You are the best . Hello from Ukraine 🇺🇦🇺🇦🇺🇦💛💙\\r\\nKarina Milagros Cachay Pretel - I love you, greetings from Peru! 🙌🙌🙌\\r\\nClare Robinson - So jealous Of this concert 😁 Thankyou David 🙏🏽\\r\\nLuciano Duque - David ghetto, your songs are a ball show I really like, I would like to go to your show one day in Brazil or in another country, I want to see you play up close and live.\\r\\nI\\'m your fan, congratulations on the songs\\r\\nDany Licera - David grosooo.... Amazing you art 👍💪\\r\\nMorayma Salinas - Music Up! 🙌🏼😎 I love it\\r\\nJeff allen - The crowd was rocking !\\r\\nManuel Rosales - Exelente👍\\r\\njoe king - I played this at full volume when it was live, my neighbors liked it so much they threw a rock through my window..I guess so they could hear it better\\r\\nPriya Prakash - This is amazing\\r\\nAlexxx Ramirez - Track list?!\\r\\nJenny Palma - I love you¡¡¡ I\\'m from Ecuador¡¡¡ \\r\\nneil cool - coooolll\\r\\nRémi Chpt - Guetta... What a DJ, what an entertainer, what a man... Thank u for the feelings !\\r\\nyxngdani3lTTV - 12:57 what song\\r\\nCarlos Navarrete - 1:20:51 Remix name?, please.\\r\\nSiosGvk 1312 - Que hermoso cuando pasan cosas así en los momentos menos esperados\\r\\nZamin Nesibov - Самы охуенный диджей из всех кого я слушал.👍👍👍👍👍\\r\\nviviane branco - MUITO OBRIGADA DAVID GUETTA POR MOMENTOS DE ALEGRIA COM SUA MÚSICA!\\r\\nJUAN VALDEZ - demasiado saludable ese concierto ;=)\\r\\nSergiy Xxx - David . let us to know when is the next LIVE party. Too many mised it))) SUBSCRIBED!!!!!\\r\\nJane Costa - Hi Mr Guetta! I love it!  Amazing!!!! Wowww. Kiss ❤  here  rio de janeiro  💛💚\\r\\nroman poet - Thanks for being the best David\\r\\nAna Laura - Mds quero uma turnê pos quarentena no Brasil nunca pedi nada. braboo\\r\\nmax ezerski - Thanks from Russia!!\\r\\ngacha bibi y - BRASILLLLLLLLLLLLLL I LOVE YOUUUUU\\r\\nAhaddewan Jack - I\\'m From Bangladesh I Salute America And France For a Love.👍💕\\r\\nMiguel Gonzales - Exelente\\r\\nLeo - Damn R.I.P Avicii. 2 Years ago he left us :(\\r\\ncamilo andres bolaños correa - Cómo se llama el disco de 1:20 \\r\\nMarta Orozco - Me Encanta.\\r\\nJean-Yves Pincon - 31:50 Il est là papa !!!\\r\\nERIKA ROJAS - De México like por aquí\\r\\nBruna Sousa - QUE LIVE INCRÍVEL FOI ESSA???? TO ARREPIADA ATÉ AGORA.\\r\\n•StrawberryMilktea• - I’ve been to Miami before!\\r\\nRoberto Vargas - What track is 1:11:39?\\r\\naj rafi - Amazing I love you bro\\r\\nJULIO SANTOS - MAIS ALGUEM AI DO BRASIL SERA QUE SOU O UNICO DE BENTO GONCALVES POR AQUI?? A CAPITAL DO VINHO TA LIGADO BAH TCHE\\r\\nAna Carvalho - Melhor live do mundo! Amei!!! Salvador-BA-Brasil\\r\\nMorayma Salinas - Music Up! 🤟😎\\r\\nMorayma Salinas - Music Up! 🤟😎\\r\\nMike Ford Mix - 🇨🇿StayHome🇨🇿\\r\\nRolexx - Mix too short 😂 🔥\\r\\nReinaldo - 🙋🇧🇷A melhor live de 2020, sem dúvida.\\r\\nLindoberto Alves - Essa live foi muito louco cara\\r\\nlilo 230 - Omg....Im crying\\r\\nSandra Mohr - Can you be a poet through music? Yes\\r\\nammar alnjar - 9.00 rimex name please ❤❤\\r\\nCrislaino Santos - Só eu ou mais alguém veio assistir novamente essa live kkkk\\r\\nВу ист Пипи - Congratulations David Guetta for supporting the people, thank you for what you do, I watched you from Ukraine!\\r\\nKarina rafaela Figueredo - I really like their originality in their mixes, excellent music from Venezuela, I love their work\\r\\nAlejandra Mulato - ES EL MEJOR!!!!!!!\\r\\nHerman Fabien - Tankou la m pap jwenn yon Ayisyen la menm!? 🇭🇹\\r\\nBLAS Center Productions - This is why David is the best in the world, a true inspiration and a living ICON, this set had me tearing, but also I stay hopeful and positive that together we will make it\\r\\nravisrocks - Love from India again @12:34, 12:35, 12:36\\r\\nroman poet - What a nice song!!!\\r\\nTech Chirag Sukhwal - Gracias Amigo :)\\r\\nHighway 10 Transport - Simplemente el mejor David Guetta 👌🏻☀️ desde Miami my home town\\r\\nメキシコ人 - When you\\'re the only English/Spanish speaker...\\r\\nJose Luis Hoyos - A MIS 51AÑOS SIGO ALUCINANDO CON ESTE HOMBRE EL MEJOR DJ DE LA HISTORIA Y CON UN CORAZON MUY GRANDE EN EUSKADI SE LE QUIERE MUCHO\\r\\nJDG gomez - quien sabe como se llama la cancion en el minuto 9:18\\r\\nLucivan Almeida - 25:50 music?\\r\\nC3LiNHO - Min 10.. \\r\\nNice view😁\\r\\nVHIPHOPMUSIC - Guetta deserves respect\\r\\nRubén Carmona - Eres un máquina....\\r\\nDomingos Fernandes - Nossa não  à  igual \\r\\nTenho 63 anos  acho que morria se  estive-se  la parabéns  espetáculo 😯\\r\\nJaqueline Cabo - Pah toco el dia de mi cumpleaños y ese dia estaba tratando de volver a mi país Uruguay desde Japón, genio!!\\r\\nFABIAN MANGA GAMERO - Espectacular acto.\\r\\nRaquel Guilherme - 2020 na quarentena....BRASIL\\r\\nravisrocks - Love from India 🇮🇳 @6:48, 6:49, 6:50\\r\\nKaran C - What\\'s a the track at 36:00\\r\\nMildred Laverde - I have never been to a Concert or Rave.....this is super amazing...David Guetta....you\\'re a wonderful person....thank you! I can\\'t wait for NYC United At Home with David Guetta!!!! I hope I can hear it in NJ. 👩\\u200d🎤🧚\\u200d♀️🧜\\u200d♀️🧞\\u200d♀️🧟\\u200d♀️🧝\\u200d♀️💃👩\\u200d👧\\u200d👦\\r\\nraffick mohammed - TF,WT\",OMG,NICE😀😀😷\\r\\nNUSTRI - 🇫🇷 💪 Le meilleur voisin que tu puisse avoir ! ❤️\\r\\nFrancisco Medina - Super good concert !!!\\r\\nChinqui Horcadela - Grasias David  eres lo maximo desde qui de Colombia Medellín antioquia ua Venezuelana te saluda teamo david me yamo chiquinquira horcadela besos y abrazos 🍀💯♥️💋🐬🇦🇲🇻🇪🍀🍻🥳🥂🍾\\r\\nabdelhadi malale - Thanks <3\\r\\nEmerson Oliveira - Top top fron Brazil 😎🤤🍃🍃❤️\\r\\nAdriana A rango carvajal - Gracias por tan espectacular concert live, eres un genio en música electrónica, Dios te colme de bendiciones por ayudar a tantas persona en estos momentos que lo necesitan por la pandemia, que sigas recopilando muchos mas éxitos, saludos desde Caracas Venezuela 🙏💐😘🇻🇪🇻🇪\\r\\nPar Exellans - 10:00 instagram of this girl please\\r\\nAndrea Oei - Thank you Dj David Guetta\\r\\nRegards from Andrea Panatta from Jakarta Indonesia\\r\\nClément Coste - song name at 30:05 ?\\r\\nGilda Peña - Gracias David por deleitarnos con tu música!! Saludos desde Argentina!!\\r\\nDiário da Giulia - Meu Deus do céu, É o nosso rei da música eletrônica International e o mundo todo sabe disso  quem comcorda que ele é demais responde eu\\r\\nErick Barreto - Top set from quarantine. Congratulations David Guetta\\r\\nRODRIGO KDOSH - I love your history Mr Guetta! Thanks for your Music\\r\\nravisrocks - Love from India again @1:36:09 above United flag of Italy Espanol France\\r\\nDalbert Salcie Mendez - 1:23:12 slave... :V\\r\\nsharina kent - I had an amazing night, didn\\'t feel alone at all Thankyou David  xxxx\\r\\nFraismes Enrrique Romero Martinez - Súper eres GRANDE !!!!!!!!!\\r\\nBina Maria - Ideia genial, fez muitas pessoas felizes com este concerto maravilhoso, obrigada David Guetta 👏👏👏\\r\\nAlper Acun - Oha... Karantinada süper eğlenceli olmuştu bu konser. :))\\r\\nBracha Schwartz - Hi from Montreal!stay safe!\\r\\nDream’s of Glim’s - Fait en d’autre on as trop besoin de ça de savoir qu’on est en direct avec toi on s’ambiance trop et on a envie de faire dès don 🇫🇷🇫🇷🇫🇷🇫🇷🇫🇷🇫🇷\\r\\n'"
      ]
     },
     "execution_count": 3,
     "metadata": {},
     "output_type": "execute_result"
    }
   ],
   "source": [
    "ytdata.YouTube[449]"
   ]
  },
  {
   "cell_type": "code",
   "execution_count": 4,
   "id": "dd9e15d8",
   "metadata": {},
   "outputs": [
    {
     "data": {
      "text/plain": [
       "'Waoo'"
      ]
     },
     "execution_count": 4,
     "metadata": {},
     "output_type": "execute_result"
    }
   ],
   "source": [
    "ytdata.YouTube[451]"
   ]
  },
  {
   "cell_type": "code",
   "execution_count": 5,
   "id": "39327dee",
   "metadata": {},
   "outputs": [],
   "source": [
    "ytdata = ytdata.drop(range(451)).copy()"
   ]
  },
  {
   "cell_type": "code",
   "execution_count": 6,
   "id": "27378000",
   "metadata": {},
   "outputs": [
    {
     "data": {
      "text/html": [
       "<div>\n",
       "<style scoped>\n",
       "    .dataframe tbody tr th:only-of-type {\n",
       "        vertical-align: middle;\n",
       "    }\n",
       "\n",
       "    .dataframe tbody tr th {\n",
       "        vertical-align: top;\n",
       "    }\n",
       "\n",
       "    .dataframe thead th {\n",
       "        text-align: right;\n",
       "    }\n",
       "</style>\n",
       "<table border=\"1\" class=\"dataframe\">\n",
       "  <thead>\n",
       "    <tr style=\"text-align: right;\">\n",
       "      <th></th>\n",
       "      <th>YouTube</th>\n",
       "    </tr>\n",
       "  </thead>\n",
       "  <tbody>\n",
       "    <tr>\n",
       "      <th>451</th>\n",
       "      <td>Waoo</td>\n",
       "    </tr>\n",
       "    <tr>\n",
       "      <th>452</th>\n",
       "      <td>Awesome art work 👌👌😍😍</td>\n",
       "    </tr>\n",
       "    <tr>\n",
       "      <th>453</th>\n",
       "      <td>Great artwork, lovely video. Thank you for sha...</td>\n",
       "    </tr>\n",
       "    <tr>\n",
       "      <th>454</th>\n",
       "      <td>Nice drawing 👌</td>\n",
       "    </tr>\n",
       "    <tr>\n",
       "      <th>455</th>\n",
       "      <td>Beautiful drawing</td>\n",
       "    </tr>\n",
       "    <tr>\n",
       "      <th>...</th>\n",
       "      <td>...</td>\n",
       "    </tr>\n",
       "    <tr>\n",
       "      <th>11750</th>\n",
       "      <td>Best contestant ever</td>\n",
       "    </tr>\n",
       "    <tr>\n",
       "      <th>11751</th>\n",
       "      <td>9:16 is gold</td>\n",
       "    </tr>\n",
       "    <tr>\n",
       "      <th>11752</th>\n",
       "      <td>Wait, did she said her cat came back from the ...</td>\n",
       "    </tr>\n",
       "    <tr>\n",
       "      <th>11753</th>\n",
       "      <td>Ok we all have to admit it. Aubrey turns us on...</td>\n",
       "    </tr>\n",
       "    <tr>\n",
       "      <th>11754</th>\n",
       "      <td>She is so boring. If she was my my girlfriend ...</td>\n",
       "    </tr>\n",
       "  </tbody>\n",
       "</table>\n",
       "<p>11304 rows × 1 columns</p>\n",
       "</div>"
      ],
      "text/plain": [
       "                                                 YouTube\n",
       "451                                                 Waoo\n",
       "452                                Awesome art work 👌👌😍😍\n",
       "453    Great artwork, lovely video. Thank you for sha...\n",
       "454                                       Nice drawing 👌\n",
       "455                                    Beautiful drawing\n",
       "...                                                  ...\n",
       "11750                               Best contestant ever\n",
       "11751                                       9:16 is gold\n",
       "11752  Wait, did she said her cat came back from the ...\n",
       "11753  Ok we all have to admit it. Aubrey turns us on...\n",
       "11754  She is so boring. If she was my my girlfriend ...\n",
       "\n",
       "[11304 rows x 1 columns]"
      ]
     },
     "execution_count": 6,
     "metadata": {},
     "output_type": "execute_result"
    }
   ],
   "source": [
    "ytdata"
   ]
  },
  {
   "cell_type": "code",
   "execution_count": 7,
   "id": "d36300df",
   "metadata": {},
   "outputs": [],
   "source": [
    "ytdata.reset_index(drop=True, inplace=True)"
   ]
  },
  {
   "cell_type": "code",
   "execution_count": 8,
   "id": "39a205cc",
   "metadata": {},
   "outputs": [
    {
     "data": {
      "text/html": [
       "<div>\n",
       "<style scoped>\n",
       "    .dataframe tbody tr th:only-of-type {\n",
       "        vertical-align: middle;\n",
       "    }\n",
       "\n",
       "    .dataframe tbody tr th {\n",
       "        vertical-align: top;\n",
       "    }\n",
       "\n",
       "    .dataframe thead th {\n",
       "        text-align: right;\n",
       "    }\n",
       "</style>\n",
       "<table border=\"1\" class=\"dataframe\">\n",
       "  <thead>\n",
       "    <tr style=\"text-align: right;\">\n",
       "      <th></th>\n",
       "      <th>YouTube</th>\n",
       "    </tr>\n",
       "  </thead>\n",
       "  <tbody>\n",
       "    <tr>\n",
       "      <th>0</th>\n",
       "      <td>Waoo</td>\n",
       "    </tr>\n",
       "    <tr>\n",
       "      <th>1</th>\n",
       "      <td>Awesome art work 👌👌😍😍</td>\n",
       "    </tr>\n",
       "    <tr>\n",
       "      <th>2</th>\n",
       "      <td>Great artwork, lovely video. Thank you for sha...</td>\n",
       "    </tr>\n",
       "    <tr>\n",
       "      <th>3</th>\n",
       "      <td>Nice drawing 👌</td>\n",
       "    </tr>\n",
       "    <tr>\n",
       "      <th>4</th>\n",
       "      <td>Beautiful drawing</td>\n",
       "    </tr>\n",
       "    <tr>\n",
       "      <th>...</th>\n",
       "      <td>...</td>\n",
       "    </tr>\n",
       "    <tr>\n",
       "      <th>11299</th>\n",
       "      <td>Best contestant ever</td>\n",
       "    </tr>\n",
       "    <tr>\n",
       "      <th>11300</th>\n",
       "      <td>9:16 is gold</td>\n",
       "    </tr>\n",
       "    <tr>\n",
       "      <th>11301</th>\n",
       "      <td>Wait, did she said her cat came back from the ...</td>\n",
       "    </tr>\n",
       "    <tr>\n",
       "      <th>11302</th>\n",
       "      <td>Ok we all have to admit it. Aubrey turns us on...</td>\n",
       "    </tr>\n",
       "    <tr>\n",
       "      <th>11303</th>\n",
       "      <td>She is so boring. If she was my my girlfriend ...</td>\n",
       "    </tr>\n",
       "  </tbody>\n",
       "</table>\n",
       "<p>11304 rows × 1 columns</p>\n",
       "</div>"
      ],
      "text/plain": [
       "                                                 YouTube\n",
       "0                                                   Waoo\n",
       "1                                  Awesome art work 👌👌😍😍\n",
       "2      Great artwork, lovely video. Thank you for sha...\n",
       "3                                         Nice drawing 👌\n",
       "4                                      Beautiful drawing\n",
       "...                                                  ...\n",
       "11299                               Best contestant ever\n",
       "11300                                       9:16 is gold\n",
       "11301  Wait, did she said her cat came back from the ...\n",
       "11302  Ok we all have to admit it. Aubrey turns us on...\n",
       "11303  She is so boring. If she was my my girlfriend ...\n",
       "\n",
       "[11304 rows x 1 columns]"
      ]
     },
     "execution_count": 8,
     "metadata": {},
     "output_type": "execute_result"
    }
   ],
   "source": [
    "ytdata"
   ]
  },
  {
   "cell_type": "code",
   "execution_count": 9,
   "id": "a4eb3246",
   "metadata": {},
   "outputs": [],
   "source": [
    "ytdata.to_csv('ytdata_shortened.csv', index=False)"
   ]
  }
 ],
 "metadata": {
  "kernelspec": {
   "display_name": "Python 3 (ipykernel)",
   "language": "python",
   "name": "python3"
  },
  "language_info": {
   "codemirror_mode": {
    "name": "ipython",
    "version": 3
   },
   "file_extension": ".py",
   "mimetype": "text/x-python",
   "name": "python",
   "nbconvert_exporter": "python",
   "pygments_lexer": "ipython3",
   "version": "3.10.9"
  }
 },
 "nbformat": 4,
 "nbformat_minor": 5
}
