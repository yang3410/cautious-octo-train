{
 "cells": [
  {
   "cell_type": "markdown",
   "id": "009bb879-fbfc-4f44-92c1-1737bba8d11a",
   "metadata": {},
   "source": [
    "Visualizing our Data with Features"
   ]
  },
  {
   "cell_type": "code",
   "execution_count": 1,
   "id": "ffbd0e45-2898-4055-96c8-93991514cc27",
   "metadata": {},
   "outputs": [],
   "source": [
    "import pandas as pd"
   ]
  },
  {
   "cell_type": "code",
   "execution_count": 7,
   "id": "be68d41a-3adf-4b95-ac72-5a66ea5e55b7",
   "metadata": {},
   "outputs": [],
   "source": [
    "df = pd.read_csv('full_dataset.csv')"
   ]
  },
  {
   "cell_type": "code",
   "execution_count": 8,
   "id": "c9dd4aa6-673b-4d6d-a82a-bb1ef8519437",
   "metadata": {},
   "outputs": [
    {
     "data": {
      "text/html": [
       "<div>\n",
       "<style scoped>\n",
       "    .dataframe tbody tr th:only-of-type {\n",
       "        vertical-align: middle;\n",
       "    }\n",
       "\n",
       "    .dataframe tbody tr th {\n",
       "        vertical-align: top;\n",
       "    }\n",
       "\n",
       "    .dataframe thead th {\n",
       "        text-align: right;\n",
       "    }\n",
       "</style>\n",
       "<table border=\"1\" class=\"dataframe\">\n",
       "  <thead>\n",
       "    <tr style=\"text-align: right;\">\n",
       "      <th></th>\n",
       "      <th>Unnamed: 0</th>\n",
       "      <th>text</th>\n",
       "      <th>platform</th>\n",
       "      <th>positive_words</th>\n",
       "      <th>negative_words</th>\n",
       "      <th>length</th>\n",
       "      <th>word_count</th>\n",
       "      <th>male_words</th>\n",
       "      <th>female_words</th>\n",
       "      <th>afinn</th>\n",
       "    </tr>\n",
       "  </thead>\n",
       "  <tbody>\n",
       "    <tr>\n",
       "      <th>0</th>\n",
       "      <td>0</td>\n",
       "      <td>Had a good first days WE at the herald</td>\n",
       "      <td>twitter</td>\n",
       "      <td>1</td>\n",
       "      <td>0</td>\n",
       "      <td>39</td>\n",
       "      <td>9</td>\n",
       "      <td>0</td>\n",
       "      <td>0</td>\n",
       "      <td>3.0</td>\n",
       "    </tr>\n",
       "    <tr>\n",
       "      <th>1</th>\n",
       "      <td>1</td>\n",
       "      <td>whaat. making sure.. she's safe.</td>\n",
       "      <td>twitter</td>\n",
       "      <td>0</td>\n",
       "      <td>0</td>\n",
       "      <td>34</td>\n",
       "      <td>5</td>\n",
       "      <td>0</td>\n",
       "      <td>0</td>\n",
       "      <td>1.0</td>\n",
       "    </tr>\n",
       "    <tr>\n",
       "      <th>2</th>\n",
       "      <td>2</td>\n",
       "      <td>HAHAHAHAHAHA, Se ferrou!</td>\n",
       "      <td>twitter</td>\n",
       "      <td>0</td>\n",
       "      <td>0</td>\n",
       "      <td>26</td>\n",
       "      <td>3</td>\n",
       "      <td>0</td>\n",
       "      <td>0</td>\n",
       "      <td>0.0</td>\n",
       "    </tr>\n",
       "    <tr>\n",
       "      <th>3</th>\n",
       "      <td>3</td>\n",
       "      <td>Cant sleep with bad thoughts in my mind</td>\n",
       "      <td>twitter</td>\n",
       "      <td>0</td>\n",
       "      <td>1</td>\n",
       "      <td>40</td>\n",
       "      <td>8</td>\n",
       "      <td>0</td>\n",
       "      <td>0</td>\n",
       "      <td>-3.0</td>\n",
       "    </tr>\n",
       "    <tr>\n",
       "      <th>4</th>\n",
       "      <td>4</td>\n",
       "      <td>so tired and sick of trains, tho getting on an...</td>\n",
       "      <td>twitter</td>\n",
       "      <td>0</td>\n",
       "      <td>2</td>\n",
       "      <td>57</td>\n",
       "      <td>11</td>\n",
       "      <td>0</td>\n",
       "      <td>0</td>\n",
       "      <td>-4.0</td>\n",
       "    </tr>\n",
       "  </tbody>\n",
       "</table>\n",
       "</div>"
      ],
      "text/plain": [
       "   Unnamed: 0                                               text platform  \\\n",
       "0           0            Had a good first days WE at the herald   twitter   \n",
       "1           1                  whaat. making sure.. she's safe.   twitter   \n",
       "2           2                          HAHAHAHAHAHA, Se ferrou!   twitter   \n",
       "3           3           Cant sleep with bad thoughts in my mind   twitter   \n",
       "4           4  so tired and sick of trains, tho getting on an...  twitter   \n",
       "\n",
       "   positive_words  negative_words  length  word_count  male_words  \\\n",
       "0               1               0      39           9           0   \n",
       "1               0               0      34           5           0   \n",
       "2               0               0      26           3           0   \n",
       "3               0               1      40           8           0   \n",
       "4               0               2      57          11           0   \n",
       "\n",
       "   female_words  afinn  \n",
       "0             0    3.0  \n",
       "1             0    1.0  \n",
       "2             0    0.0  \n",
       "3             0   -3.0  \n",
       "4             0   -4.0  "
      ]
     },
     "execution_count": 8,
     "metadata": {},
     "output_type": "execute_result"
    }
   ],
   "source": [
    "df.head(5)"
   ]
  },
  {
   "cell_type": "code",
   "execution_count": 9,
   "id": "4807e07e-90d6-4ecc-a8d3-ac5c142ffe5b",
   "metadata": {},
   "outputs": [
    {
     "data": {
      "text/plain": [
       "array(['twitter', 'instagram', 'reddit', 'youtube'], dtype=object)"
      ]
     },
     "execution_count": 9,
     "metadata": {},
     "output_type": "execute_result"
    }
   ],
   "source": [
    "df.platform.unique()"
   ]
  },
  {
   "cell_type": "markdown",
   "id": "8a1cec43-65e0-405b-8051-fa24659a11d5",
   "metadata": {},
   "source": [
    "## Emotion Detection"
   ]
  },
  {
   "cell_type": "markdown",
   "id": "9ab957d7-484b-4687-b324-7f9bb8c66356",
   "metadata": {},
   "source": [
    "The excessive use of positive and negative words might indicate that the users like to express their emotions.\n",
    "\n",
    "Let's see how users express their emotions in different platforms!"
   ]
  },
  {
   "cell_type": "markdown",
   "id": "c35d869f-4036-4f79-9709-84919b7ea1aa",
   "metadata": {},
   "source": [
    "Here is a feature we can use to measure emotion density: $$ED:= \\text{emotion density} = \\frac{\\text{positive words}+\\text{negative words}}{\\text{word count}}$$"
   ]
  },
  {
   "cell_type": "code",
   "execution_count": 10,
   "id": "d5639128-9e5b-4641-a511-acdf7ba6c3c7",
   "metadata": {},
   "outputs": [],
   "source": [
    "df['ED'] = (df['positive_words']+df['negative_words'])/df['word_count']"
   ]
  },
  {
   "cell_type": "code",
   "execution_count": 11,
   "id": "d5bca800-995b-4212-a4d5-6f57ce5dfc80",
   "metadata": {},
   "outputs": [
    {
     "data": {
      "text/html": [
       "<div>\n",
       "<style scoped>\n",
       "    .dataframe tbody tr th:only-of-type {\n",
       "        vertical-align: middle;\n",
       "    }\n",
       "\n",
       "    .dataframe tbody tr th {\n",
       "        vertical-align: top;\n",
       "    }\n",
       "\n",
       "    .dataframe thead th {\n",
       "        text-align: right;\n",
       "    }\n",
       "</style>\n",
       "<table border=\"1\" class=\"dataframe\">\n",
       "  <thead>\n",
       "    <tr style=\"text-align: right;\">\n",
       "      <th></th>\n",
       "      <th>Unnamed: 0</th>\n",
       "      <th>text</th>\n",
       "      <th>platform</th>\n",
       "      <th>positive_words</th>\n",
       "      <th>negative_words</th>\n",
       "      <th>length</th>\n",
       "      <th>word_count</th>\n",
       "      <th>male_words</th>\n",
       "      <th>female_words</th>\n",
       "      <th>afinn</th>\n",
       "      <th>ED</th>\n",
       "    </tr>\n",
       "  </thead>\n",
       "  <tbody>\n",
       "    <tr>\n",
       "      <th>0</th>\n",
       "      <td>0</td>\n",
       "      <td>Had a good first days WE at the herald</td>\n",
       "      <td>twitter</td>\n",
       "      <td>1</td>\n",
       "      <td>0</td>\n",
       "      <td>39</td>\n",
       "      <td>9</td>\n",
       "      <td>0</td>\n",
       "      <td>0</td>\n",
       "      <td>3.0</td>\n",
       "      <td>0.111111</td>\n",
       "    </tr>\n",
       "    <tr>\n",
       "      <th>1</th>\n",
       "      <td>1</td>\n",
       "      <td>whaat. making sure.. she's safe.</td>\n",
       "      <td>twitter</td>\n",
       "      <td>0</td>\n",
       "      <td>0</td>\n",
       "      <td>34</td>\n",
       "      <td>5</td>\n",
       "      <td>0</td>\n",
       "      <td>0</td>\n",
       "      <td>1.0</td>\n",
       "      <td>0.000000</td>\n",
       "    </tr>\n",
       "    <tr>\n",
       "      <th>2</th>\n",
       "      <td>2</td>\n",
       "      <td>HAHAHAHAHAHA, Se ferrou!</td>\n",
       "      <td>twitter</td>\n",
       "      <td>0</td>\n",
       "      <td>0</td>\n",
       "      <td>26</td>\n",
       "      <td>3</td>\n",
       "      <td>0</td>\n",
       "      <td>0</td>\n",
       "      <td>0.0</td>\n",
       "      <td>0.000000</td>\n",
       "    </tr>\n",
       "    <tr>\n",
       "      <th>3</th>\n",
       "      <td>3</td>\n",
       "      <td>Cant sleep with bad thoughts in my mind</td>\n",
       "      <td>twitter</td>\n",
       "      <td>0</td>\n",
       "      <td>1</td>\n",
       "      <td>40</td>\n",
       "      <td>8</td>\n",
       "      <td>0</td>\n",
       "      <td>0</td>\n",
       "      <td>-3.0</td>\n",
       "      <td>0.125000</td>\n",
       "    </tr>\n",
       "    <tr>\n",
       "      <th>4</th>\n",
       "      <td>4</td>\n",
       "      <td>so tired and sick of trains, tho getting on an...</td>\n",
       "      <td>twitter</td>\n",
       "      <td>0</td>\n",
       "      <td>2</td>\n",
       "      <td>57</td>\n",
       "      <td>11</td>\n",
       "      <td>0</td>\n",
       "      <td>0</td>\n",
       "      <td>-4.0</td>\n",
       "      <td>0.181818</td>\n",
       "    </tr>\n",
       "    <tr>\n",
       "      <th>...</th>\n",
       "      <td>...</td>\n",
       "      <td>...</td>\n",
       "      <td>...</td>\n",
       "      <td>...</td>\n",
       "      <td>...</td>\n",
       "      <td>...</td>\n",
       "      <td>...</td>\n",
       "      <td>...</td>\n",
       "      <td>...</td>\n",
       "      <td>...</td>\n",
       "      <td>...</td>\n",
       "    </tr>\n",
       "    <tr>\n",
       "      <th>587253</th>\n",
       "      <td>587253</td>\n",
       "      <td>Best contestant ever</td>\n",
       "      <td>youtube</td>\n",
       "      <td>1</td>\n",
       "      <td>0</td>\n",
       "      <td>20</td>\n",
       "      <td>3</td>\n",
       "      <td>0</td>\n",
       "      <td>0</td>\n",
       "      <td>3.0</td>\n",
       "      <td>0.333333</td>\n",
       "    </tr>\n",
       "    <tr>\n",
       "      <th>587254</th>\n",
       "      <td>587254</td>\n",
       "      <td>9:16 is gold</td>\n",
       "      <td>youtube</td>\n",
       "      <td>1</td>\n",
       "      <td>0</td>\n",
       "      <td>12</td>\n",
       "      <td>3</td>\n",
       "      <td>0</td>\n",
       "      <td>0</td>\n",
       "      <td>2.0</td>\n",
       "      <td>0.333333</td>\n",
       "    </tr>\n",
       "    <tr>\n",
       "      <th>587255</th>\n",
       "      <td>587255</td>\n",
       "      <td>Wait, did she said her cat came back from the ...</td>\n",
       "      <td>youtube</td>\n",
       "      <td>0</td>\n",
       "      <td>0</td>\n",
       "      <td>105</td>\n",
       "      <td>19</td>\n",
       "      <td>0</td>\n",
       "      <td>2</td>\n",
       "      <td>-2.0</td>\n",
       "      <td>0.000000</td>\n",
       "    </tr>\n",
       "    <tr>\n",
       "      <th>587256</th>\n",
       "      <td>587256</td>\n",
       "      <td>Ok we all have to admit it. Aubrey turns us on...</td>\n",
       "      <td>youtube</td>\n",
       "      <td>0</td>\n",
       "      <td>0</td>\n",
       "      <td>93</td>\n",
       "      <td>20</td>\n",
       "      <td>0</td>\n",
       "      <td>2</td>\n",
       "      <td>4.0</td>\n",
       "      <td>0.000000</td>\n",
       "    </tr>\n",
       "    <tr>\n",
       "      <th>587257</th>\n",
       "      <td>587257</td>\n",
       "      <td>She is so boring. If she was my my girlfriend ...</td>\n",
       "      <td>youtube</td>\n",
       "      <td>0</td>\n",
       "      <td>0</td>\n",
       "      <td>61</td>\n",
       "      <td>13</td>\n",
       "      <td>0</td>\n",
       "      <td>6</td>\n",
       "      <td>-4.0</td>\n",
       "      <td>0.000000</td>\n",
       "    </tr>\n",
       "  </tbody>\n",
       "</table>\n",
       "<p>587258 rows × 11 columns</p>\n",
       "</div>"
      ],
      "text/plain": [
       "        Unnamed: 0                                               text  \\\n",
       "0                0            Had a good first days WE at the herald    \n",
       "1                1                  whaat. making sure.. she's safe.    \n",
       "2                2                          HAHAHAHAHAHA, Se ferrou!    \n",
       "3                3           Cant sleep with bad thoughts in my mind    \n",
       "4                4  so tired and sick of trains, tho getting on an...   \n",
       "...            ...                                                ...   \n",
       "587253      587253                               Best contestant ever   \n",
       "587254      587254                                       9:16 is gold   \n",
       "587255      587255  Wait, did she said her cat came back from the ...   \n",
       "587256      587256  Ok we all have to admit it. Aubrey turns us on...   \n",
       "587257      587257  She is so boring. If she was my my girlfriend ...   \n",
       "\n",
       "       platform  positive_words  negative_words  length  word_count  \\\n",
       "0       twitter               1               0      39           9   \n",
       "1       twitter               0               0      34           5   \n",
       "2       twitter               0               0      26           3   \n",
       "3       twitter               0               1      40           8   \n",
       "4       twitter               0               2      57          11   \n",
       "...         ...             ...             ...     ...         ...   \n",
       "587253  youtube               1               0      20           3   \n",
       "587254  youtube               1               0      12           3   \n",
       "587255  youtube               0               0     105          19   \n",
       "587256  youtube               0               0      93          20   \n",
       "587257  youtube               0               0      61          13   \n",
       "\n",
       "        male_words  female_words  afinn        ED  \n",
       "0                0             0    3.0  0.111111  \n",
       "1                0             0    1.0  0.000000  \n",
       "2                0             0    0.0  0.000000  \n",
       "3                0             0   -3.0  0.125000  \n",
       "4                0             0   -4.0  0.181818  \n",
       "...            ...           ...    ...       ...  \n",
       "587253           0             0    3.0  0.333333  \n",
       "587254           0             0    2.0  0.333333  \n",
       "587255           0             2   -2.0  0.000000  \n",
       "587256           0             2    4.0  0.000000  \n",
       "587257           0             6   -4.0  0.000000  \n",
       "\n",
       "[587258 rows x 11 columns]"
      ]
     },
     "execution_count": 11,
     "metadata": {},
     "output_type": "execute_result"
    }
   ],
   "source": [
    "df"
   ]
  },
  {
   "cell_type": "code",
   "execution_count": 36,
   "id": "f9e96653-fba0-41f1-9594-4e4094b4320f",
   "metadata": {},
   "outputs": [],
   "source": [
    "df_twitter = df[df['platform']=='twitter']\n",
    "df_reddit = df[df['platform']=='reddit']\n",
    "df_instagram = df[df['platform']=='instagram']\n",
    "df_youtube = df[df['platform']=='youtube']\n",
    "\n"
   ]
  },
  {
   "cell_type": "code",
   "execution_count": 40,
   "id": "b749395d-2840-437c-bd62-c7197b6d9b1c",
   "metadata": {},
   "outputs": [
    {
     "data": {
      "text/html": [
       "<div>\n",
       "<style scoped>\n",
       "    .dataframe tbody tr th:only-of-type {\n",
       "        vertical-align: middle;\n",
       "    }\n",
       "\n",
       "    .dataframe tbody tr th {\n",
       "        vertical-align: top;\n",
       "    }\n",
       "\n",
       "    .dataframe thead th {\n",
       "        text-align: right;\n",
       "    }\n",
       "</style>\n",
       "<table border=\"1\" class=\"dataframe\">\n",
       "  <thead>\n",
       "    <tr style=\"text-align: right;\">\n",
       "      <th></th>\n",
       "      <th>Unnamed: 0</th>\n",
       "      <th>text</th>\n",
       "      <th>platform</th>\n",
       "      <th>positive_words</th>\n",
       "      <th>negative_words</th>\n",
       "      <th>length</th>\n",
       "      <th>word_count</th>\n",
       "      <th>male_words</th>\n",
       "      <th>female_words</th>\n",
       "      <th>afinn</th>\n",
       "      <th>ED</th>\n",
       "    </tr>\n",
       "  </thead>\n",
       "  <tbody>\n",
       "    <tr>\n",
       "      <th>575954</th>\n",
       "      <td>575954</td>\n",
       "      <td>Waoo</td>\n",
       "      <td>youtube</td>\n",
       "      <td>0</td>\n",
       "      <td>0</td>\n",
       "      <td>4</td>\n",
       "      <td>1</td>\n",
       "      <td>0</td>\n",
       "      <td>0</td>\n",
       "      <td>0.0</td>\n",
       "      <td>0.000000</td>\n",
       "    </tr>\n",
       "    <tr>\n",
       "      <th>575955</th>\n",
       "      <td>575955</td>\n",
       "      <td>Awesome art work 👌👌😍😍</td>\n",
       "      <td>youtube</td>\n",
       "      <td>2</td>\n",
       "      <td>0</td>\n",
       "      <td>21</td>\n",
       "      <td>4</td>\n",
       "      <td>0</td>\n",
       "      <td>0</td>\n",
       "      <td>4.0</td>\n",
       "      <td>0.500000</td>\n",
       "    </tr>\n",
       "    <tr>\n",
       "      <th>575956</th>\n",
       "      <td>575956</td>\n",
       "      <td>Great artwork, lovely video. Thank you for sha...</td>\n",
       "      <td>youtube</td>\n",
       "      <td>4</td>\n",
       "      <td>0</td>\n",
       "      <td>63</td>\n",
       "      <td>11</td>\n",
       "      <td>0</td>\n",
       "      <td>0</td>\n",
       "      <td>11.0</td>\n",
       "      <td>0.363636</td>\n",
       "    </tr>\n",
       "    <tr>\n",
       "      <th>575957</th>\n",
       "      <td>575957</td>\n",
       "      <td>Nice drawing 👌</td>\n",
       "      <td>youtube</td>\n",
       "      <td>1</td>\n",
       "      <td>0</td>\n",
       "      <td>14</td>\n",
       "      <td>3</td>\n",
       "      <td>0</td>\n",
       "      <td>0</td>\n",
       "      <td>3.0</td>\n",
       "      <td>0.333333</td>\n",
       "    </tr>\n",
       "    <tr>\n",
       "      <th>575958</th>\n",
       "      <td>575958</td>\n",
       "      <td>Beautiful drawing</td>\n",
       "      <td>youtube</td>\n",
       "      <td>1</td>\n",
       "      <td>0</td>\n",
       "      <td>17</td>\n",
       "      <td>2</td>\n",
       "      <td>0</td>\n",
       "      <td>0</td>\n",
       "      <td>3.0</td>\n",
       "      <td>0.500000</td>\n",
       "    </tr>\n",
       "    <tr>\n",
       "      <th>...</th>\n",
       "      <td>...</td>\n",
       "      <td>...</td>\n",
       "      <td>...</td>\n",
       "      <td>...</td>\n",
       "      <td>...</td>\n",
       "      <td>...</td>\n",
       "      <td>...</td>\n",
       "      <td>...</td>\n",
       "      <td>...</td>\n",
       "      <td>...</td>\n",
       "      <td>...</td>\n",
       "    </tr>\n",
       "    <tr>\n",
       "      <th>587253</th>\n",
       "      <td>587253</td>\n",
       "      <td>Best contestant ever</td>\n",
       "      <td>youtube</td>\n",
       "      <td>1</td>\n",
       "      <td>0</td>\n",
       "      <td>20</td>\n",
       "      <td>3</td>\n",
       "      <td>0</td>\n",
       "      <td>0</td>\n",
       "      <td>3.0</td>\n",
       "      <td>0.333333</td>\n",
       "    </tr>\n",
       "    <tr>\n",
       "      <th>587254</th>\n",
       "      <td>587254</td>\n",
       "      <td>9:16 is gold</td>\n",
       "      <td>youtube</td>\n",
       "      <td>1</td>\n",
       "      <td>0</td>\n",
       "      <td>12</td>\n",
       "      <td>3</td>\n",
       "      <td>0</td>\n",
       "      <td>0</td>\n",
       "      <td>2.0</td>\n",
       "      <td>0.333333</td>\n",
       "    </tr>\n",
       "    <tr>\n",
       "      <th>587255</th>\n",
       "      <td>587255</td>\n",
       "      <td>Wait, did she said her cat came back from the ...</td>\n",
       "      <td>youtube</td>\n",
       "      <td>0</td>\n",
       "      <td>0</td>\n",
       "      <td>105</td>\n",
       "      <td>19</td>\n",
       "      <td>0</td>\n",
       "      <td>2</td>\n",
       "      <td>-2.0</td>\n",
       "      <td>0.000000</td>\n",
       "    </tr>\n",
       "    <tr>\n",
       "      <th>587256</th>\n",
       "      <td>587256</td>\n",
       "      <td>Ok we all have to admit it. Aubrey turns us on...</td>\n",
       "      <td>youtube</td>\n",
       "      <td>0</td>\n",
       "      <td>0</td>\n",
       "      <td>93</td>\n",
       "      <td>20</td>\n",
       "      <td>0</td>\n",
       "      <td>2</td>\n",
       "      <td>4.0</td>\n",
       "      <td>0.000000</td>\n",
       "    </tr>\n",
       "    <tr>\n",
       "      <th>587257</th>\n",
       "      <td>587257</td>\n",
       "      <td>She is so boring. If she was my my girlfriend ...</td>\n",
       "      <td>youtube</td>\n",
       "      <td>0</td>\n",
       "      <td>0</td>\n",
       "      <td>61</td>\n",
       "      <td>13</td>\n",
       "      <td>0</td>\n",
       "      <td>6</td>\n",
       "      <td>-4.0</td>\n",
       "      <td>0.000000</td>\n",
       "    </tr>\n",
       "  </tbody>\n",
       "</table>\n",
       "<p>11304 rows × 11 columns</p>\n",
       "</div>"
      ],
      "text/plain": [
       "        Unnamed: 0                                               text  \\\n",
       "575954      575954                                               Waoo   \n",
       "575955      575955                              Awesome art work 👌👌😍😍   \n",
       "575956      575956  Great artwork, lovely video. Thank you for sha...   \n",
       "575957      575957                                     Nice drawing 👌   \n",
       "575958      575958                                  Beautiful drawing   \n",
       "...            ...                                                ...   \n",
       "587253      587253                               Best contestant ever   \n",
       "587254      587254                                       9:16 is gold   \n",
       "587255      587255  Wait, did she said her cat came back from the ...   \n",
       "587256      587256  Ok we all have to admit it. Aubrey turns us on...   \n",
       "587257      587257  She is so boring. If she was my my girlfriend ...   \n",
       "\n",
       "       platform  positive_words  negative_words  length  word_count  \\\n",
       "575954  youtube               0               0       4           1   \n",
       "575955  youtube               2               0      21           4   \n",
       "575956  youtube               4               0      63          11   \n",
       "575957  youtube               1               0      14           3   \n",
       "575958  youtube               1               0      17           2   \n",
       "...         ...             ...             ...     ...         ...   \n",
       "587253  youtube               1               0      20           3   \n",
       "587254  youtube               1               0      12           3   \n",
       "587255  youtube               0               0     105          19   \n",
       "587256  youtube               0               0      93          20   \n",
       "587257  youtube               0               0      61          13   \n",
       "\n",
       "        male_words  female_words  afinn        ED  \n",
       "575954           0             0    0.0  0.000000  \n",
       "575955           0             0    4.0  0.500000  \n",
       "575956           0             0   11.0  0.363636  \n",
       "575957           0             0    3.0  0.333333  \n",
       "575958           0             0    3.0  0.500000  \n",
       "...            ...           ...    ...       ...  \n",
       "587253           0             0    3.0  0.333333  \n",
       "587254           0             0    2.0  0.333333  \n",
       "587255           0             2   -2.0  0.000000  \n",
       "587256           0             2    4.0  0.000000  \n",
       "587257           0             6   -4.0  0.000000  \n",
       "\n",
       "[11304 rows x 11 columns]"
      ]
     },
     "execution_count": 40,
     "metadata": {},
     "output_type": "execute_result"
    }
   ],
   "source": [
    "df_youtube"
   ]
  },
  {
   "cell_type": "code",
   "execution_count": 45,
   "id": "24a3ea04-fb49-4df8-b90c-1b40d1ac778d",
   "metadata": {},
   "outputs": [
    {
     "data": {
      "text/plain": [
       "array([[<Axes: title={'center': 'ED'}>]], dtype=object)"
      ]
     },
     "execution_count": 45,
     "metadata": {},
     "output_type": "execute_result"
    },
    {
     "data": {
      "image/png": "[encoded data removed]",
      "text/plain": [
       "<Figure size 640x480 with 1 Axes>"
      ]
     },
     "metadata": {},
     "output_type": "display_data"
    },
    {
     "data": {
      "image/png": "[encoded data removed]",
      "text/plain": [
       "<Figure size 640x480 with 1 Axes>"
      ]
     },
     "metadata": {},
     "output_type": "display_data"
    },
    {
     "data": {
      "image/png": "[encoded data removed]",
      "text/plain": [
       "<Figure size 640x480 with 1 Axes>"
      ]
     },
     "metadata": {},
     "output_type": "display_data"
    },
    {
     "data": {
      "image/png": "[encoded data removed]",
      "text/plain": [
       "<Figure size 640x480 with 1 Axes>"
      ]
     },
     "metadata": {},
     "output_type": "display_data"
    }
   ],
   "source": [
    "df_twitter.hist(column='ED', bins = 20)\n",
    "df_reddit.hist(column='ED', bins = 20)\n",
    "df_instagram.hist(column='ED', bins = 20)\n",
    "df_youtube.hist(column='ED', bins = 20)"
   ]
  },
  {
   "cell_type": "markdown",
   "id": "21e33ec0-00d5-4b63-b4ee-14de1efab890",
   "metadata": {},
   "source": [
    "Let's take a look at the histograms without emotionless posts!"
   ]
  },
  {
   "cell_type": "code",
   "execution_count": 46,
   "id": "1d9234ab-2a94-4193-a052-5d429673ed06",
   "metadata": {},
   "outputs": [
    {
     "data": {
      "text/plain": [
       "array([[<Axes: title={'center': 'ED'}>]], dtype=object)"
      ]
     },
     "execution_count": 46,
     "metadata": {},
     "output_type": "execute_result"
    },
    {
     "data": {
      "image/png": "[encoded data removed]",
      "text/plain": [
       "<Figure size 640x480 with 1 Axes>"
      ]
     },
     "metadata": {},
     "output_type": "display_data"
    },
    {
     "data": {
      "image/png": "[encoded data removed]",
      "text/plain": [
       "<Figure size 640x480 with 1 Axes>"
      ]
     },
     "metadata": {},
     "output_type": "display_data"
    },
    {
     "data": {
      "image/png": "[encoded data removed]",
      "text/plain": [
       "<Figure size 640x480 with 1 Axes>"
      ]
     },
     "metadata": {},
     "output_type": "display_data"
    },
    {
     "data": {
      "image/png": "[encoded data removed]",
      "text/plain": [
       "<Figure size 640x480 with 1 Axes>"
      ]
     },
     "metadata": {},
     "output_type": "display_data"
    }
   ],
   "source": [
    "df_twitter[df_twitter['ED']>0].hist(column='ED', bins = 20)\n",
    "df_reddit[df_reddit['ED']>0].hist(column='ED', bins = 20)\n",
    "df_instagram[df_instagram['ED']>0].hist(column='ED', bins = 20)\n",
    "df_youtube[df_youtube['ED']>0].hist(column='ED', bins = 20)"
   ]
  },
  {
   "cell_type": "markdown",
   "id": "77dbbaeb-ac3a-4412-8b40-1eeb774e7a26",
   "metadata": {},
   "source": [
    "All the histograms seem very similar except at the value close to 0!!\n",
    "\n",
    "Let's analyze more quantitatively! Let's look at the ratio of emotionless texts."
   ]
  },
  {
   "cell_type": "code",
   "execution_count": 47,
   "id": "3f2f5555-d6c4-4299-830b-b8d863a02ccc",
   "metadata": {},
   "outputs": [],
   "source": [
    "emotionless_twitter = len(df_twitter[df_twitter['ED'] == 0]) / len(df_twitter)"
   ]
  },
  {
   "cell_type": "code",
   "execution_count": 48,
   "id": "6208afa4-776a-4f95-80a6-ceb086c765c5",
   "metadata": {},
   "outputs": [
    {
     "data": {
      "text/plain": [
       "0.46109630515786604"
      ]
     },
     "execution_count": 48,
     "metadata": {},
     "output_type": "execute_result"
    }
   ],
   "source": [
    "emotionless_twitter"
   ]
  },
  {
   "cell_type": "code",
   "execution_count": 49,
   "id": "9192f6ef-4b53-446d-b7de-d7026b2d6918",
   "metadata": {},
   "outputs": [],
   "source": [
    "emotionless_reddit = len(df_reddit[df_reddit['ED'] == 0]) / len(df_reddit)"
   ]
  },
  {
   "cell_type": "code",
   "execution_count": 50,
   "id": "0927556a-38c3-4e41-8ccd-b6d5027e7a05",
   "metadata": {},
   "outputs": [
    {
     "data": {
      "text/plain": [
       "0.5880640465793304"
      ]
     },
     "execution_count": 50,
     "metadata": {},
     "output_type": "execute_result"
    }
   ],
   "source": [
    "emotionless_reddit"
   ]
  },
  {
   "cell_type": "code",
   "execution_count": 51,
   "id": "8198e1b8-49c7-4588-aed6-c8a83fc6b13b",
   "metadata": {},
   "outputs": [],
   "source": [
    "emotionless_instagram = len(df_instagram[df_instagram['ED'] == 0]) / len(df_instagram)"
   ]
  },
  {
   "cell_type": "code",
   "execution_count": 53,
   "id": "eccc63f4-6f53-4549-b1c7-f0406cf2a896",
   "metadata": {},
   "outputs": [
    {
     "data": {
      "text/plain": [
       "0.5713007922310248"
      ]
     },
     "execution_count": 53,
     "metadata": {},
     "output_type": "execute_result"
    }
   ],
   "source": [
    "emotionless_instagram"
   ]
  },
  {
   "cell_type": "code",
   "execution_count": 54,
   "id": "6acac921-ae2f-4a66-86f9-a116d38f8d38",
   "metadata": {},
   "outputs": [],
   "source": [
    "emotionless_youtube = len(df_youtube[df_youtube['ED'] == 0]) / len(df_youtube)"
   ]
  },
  {
   "cell_type": "code",
   "execution_count": 55,
   "id": "cce19c53-0c96-4e1e-aa96-c8f9e9da2688",
   "metadata": {},
   "outputs": [
    {
     "data": {
      "text/plain": [
       "0.5078733191790517"
      ]
     },
     "execution_count": 55,
     "metadata": {},
     "output_type": "execute_result"
    }
   ],
   "source": [
    "emotionless_youtube"
   ]
  },
  {
   "cell_type": "markdown",
   "id": "8de0dbb1-95e5-4e8e-a58a-df9fd8cf4485",
   "metadata": {},
   "source": [
    "Here now we see some difference in different platforms. \n",
    "\n",
    "It seems that the most emotionless platform is reddit, where ~59% of the posts are emotionless. \n",
    "\n",
    "On the other hand, twitter users have the least emotionless posts ~46%."
   ]
  },
  {
   "cell_type": "markdown",
   "id": "b6905999-4bbb-4400-9963-e11788733b2c",
   "metadata": {},
   "source": [
    "We could also analyze the distributions of positive and negative emotions across different platforms"
   ]
  },
  {
   "cell_type": "code",
   "execution_count": 60,
   "id": "6030cf8b-38ee-405c-89bc-094ccfed985f",
   "metadata": {},
   "outputs": [],
   "source": [
    "pos1_twitter = len(df_twitter[df_twitter['positive_words'] != 0]) / len(df_twitter[df_twitter['ED'] != 0])\n",
    "pos1_reddit = len(df_reddit[df_reddit['positive_words'] != 0]) / len(df_reddit[df_reddit['ED'] != 0])\n",
    "pos1_instagram = len(df_instagram[df_instagram['positive_words'] != 0]) / len(df_instagram[df_instagram['ED'] != 0])\n",
    "pos1_youtube = len(df_youtube[df_youtube['positive_words'] != 0]) / len(df_youtube[df_youtube['ED'] != 0])"
   ]
  },
  {
   "cell_type": "code",
   "execution_count": 61,
   "id": "45b8174a-c56d-4588-a076-ee8a6459d122",
   "metadata": {},
   "outputs": [
    {
     "name": "stdout",
     "output_type": "stream",
     "text": [
      "0.6515100256580822 0.7188625273430927 0.7575260804769002 0.7384504763616754\n"
     ]
    }
   ],
   "source": [
    "print(pos1_twitter, pos1_reddit,pos1_instagram,pos1_youtube)"
   ]
  },
  {
   "cell_type": "code",
   "execution_count": 62,
   "id": "e174b4ca-edee-46ae-987b-d8c20cb552ff",
   "metadata": {},
   "outputs": [],
   "source": [
    "neg1_twitter = len(df_twitter[df_twitter['negative_words'] != 0]) / len(df_twitter[df_twitter['ED'] != 0])\n",
    "neg1_reddit = len(df_reddit[df_reddit['negative_words'] != 0]) / len(df_reddit[df_reddit['ED'] != 0])\n",
    "neg1_instagram = len(df_instagram[df_instagram['negative_words'] != 0]) / len(df_instagram[df_instagram['ED'] != 0])\n",
    "neg1_youtube = len(df_youtube[df_youtube['negative_words'] != 0]) / len(df_youtube[df_youtube['ED'] != 0])"
   ]
  },
  {
   "cell_type": "code",
   "execution_count": 63,
   "id": "db4213c7-9302-41c1-840f-dda56a9cee23",
   "metadata": {},
   "outputs": [
    {
     "name": "stdout",
     "output_type": "stream",
     "text": [
      "0.5141727644207925 0.3963318189466599 0.27034277198211626 0.47528312061837136\n"
     ]
    }
   ],
   "source": [
    "print(neg1_twitter, neg1_reddit,neg1_instagram,neg1_youtube)"
   ]
  },
  {
   "cell_type": "markdown",
   "id": "7979e341-6a75-49a7-9195-3c0566ea0e51",
   "metadata": {},
   "source": [
    "Again, we see a different trend in twitter posts. Among the twitter posts that showed some emotion, ~65% of them shows positive emotions and ~51 of them shows negative emotions.\n",
    "\n",
    "It seems on the other platforms, people tend to express positive emotions more than negative ones (~73% vs ~40%). On the other hand, twitter seems more balanced in terms of negative vs positive emotions."
   ]
  },
  {
   "cell_type": "markdown",
   "id": "2f1c882f-ea1e-4c59-b71a-833836424344",
   "metadata": {},
   "source": [
    "Let's now look at a different feature: relative positiveness and rel. negativeness. To be precise:\n",
    "$$\\text{rel pos} = \\max(0, (\\text{positive words} - \\text{negative words}))$$"
   ]
  },
  {
   "cell_type": "code",
   "execution_count": null,
   "id": "d8125bdb-104b-404b-9063-ca2e0bb56230",
   "metadata": {},
   "outputs": [],
   "source": []
  }
 ],
 "metadata": {
  "kernelspec": {
   "display_name": "Python 3 (ipykernel)",
   "language": "python",
   "name": "python3"
  },
  "language_info": {
   "codemirror_mode": {
    "name": "ipython",
    "version": 3
   },
   "file_extension": ".py",
   "mimetype": "text/x-python",
   "name": "python",
   "nbconvert_exporter": "python",
   "pygments_lexer": "ipython3",
   "version": "3.11.3"
  }
 },
 "nbformat": 4,
 "nbformat_minor": 5
}
